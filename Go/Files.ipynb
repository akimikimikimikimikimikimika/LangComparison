{
 "cells": [
  {
   "cell_type": "markdown",
   "metadata": {},
   "source": [
    "# ファイル操作"
   ]
  },
  {
   "cell_type": "code",
   "execution_count": 1,
   "metadata": {},
   "outputs": [],
   "source": [
    "import \"os\"\n",
    "import \"io/ioutil\"\n",
    "import \"fmt\"\n",
    "var e error\n",
    "var io *os.File"
   ]
  },
  {
   "cell_type": "markdown",
   "metadata": {},
   "source": [
    "ファイル操作系のメソッドは基本的にエラーを発生させる可能性があり,各々のコマンドで `e` がエラーを受け取っている。  \n",
    "エラーがあれば `e` にその内容が代入され,エラーがなければ `e==nil` になる。"
   ]
  },
  {
   "cell_type": "markdown",
   "metadata": {},
   "source": [
    "* カレントディレクトリをホームに変更"
   ]
  },
  {
   "cell_type": "code",
   "execution_count": 2,
   "metadata": {},
   "outputs": [
    {
     "ename": "ERROR",
     "evalue": "repl.go:1:9: not a type: os.UserHomeDir <*ast.SelectorExpr>",
     "output_type": "error",
     "traceback": [
      "repl.go:1:9: not a type: os.UserHomeDir <*ast.SelectorExpr>"
     ]
    }
   ],
   "source": [
    "home,e:=os.UserHomeDir()\n",
    "os.Chdir(home)"
   ]
  },
  {
   "cell_type": "markdown",
   "metadata": {},
   "source": [
    "## ファイル/フォルダ/シンボリックリンクの作成"
   ]
  },
  {
   "cell_type": "markdown",
   "metadata": {},
   "source": [
    "* Emptyという空フォルダを作成"
   ]
  },
  {
   "cell_type": "code",
   "execution_count": 3,
   "metadata": {},
   "outputs": [],
   "source": [
    "e=os.Mkdir(\"Empty\",0744)"
   ]
  },
  {
   "cell_type": "markdown",
   "metadata": {},
   "source": [
    "* 一時ディレクトリの場合\n",
    "```Go\n",
    "var t string\n",
    "t,e=ioutil.TempDir(os.TempDir,\"uniqueIdentifier\")\n",
    "t // ディレクトリのパス\n",
    "e\n",
    "```"
   ]
  },
  {
   "cell_type": "markdown",
   "metadata": {},
   "source": [
    "* Blankという空ファイルを作成"
   ]
  },
  {
   "cell_type": "code",
   "execution_count": 4,
   "metadata": {},
   "outputs": [],
   "source": [
    "io,e=os.Create(\"Blank\")\n",
    "defer io.Close()"
   ]
  },
  {
   "cell_type": "markdown",
   "metadata": {},
   "source": [
    "* フォルダEmptyの中にファイルBlankのシンボリックリンクSymlinkを作成"
   ]
  },
  {
   "cell_type": "code",
   "execution_count": 5,
   "metadata": {},
   "outputs": [],
   "source": [
    "e=os.Symlink(\"../Blank\",\"Empty/Symlink\")"
   ]
  },
  {
   "cell_type": "markdown",
   "metadata": {},
   "source": [
    "- ハードリンクの場合\n",
    "```Go\n",
    "e=os.Link(\"../Blank\",\"Symlink\")\n",
    "```"
   ]
  },
  {
   "cell_type": "markdown",
   "metadata": {},
   "source": [
    "## 書込み\n",
    "* Untitled.mdというMarkdownファイルを作成して書込み"
   ]
  },
  {
   "cell_type": "code",
   "execution_count": 6,
   "metadata": {},
   "outputs": [],
   "source": [
    "io,e=os.OpenFile(\"Untitled.md\",os.O_WRONLY|os.O_CREATE,0644)\n",
    "io.WriteString(\"# Header 1\")\n",
    "defer io.Close()\n",
    "// or simply:\n",
    "// ioutil.WriteFile(\"Untitled.md\",[]byte(\"# Header 1\"))"
   ]
  },
  {
   "cell_type": "markdown",
   "metadata": {},
   "source": [
    "## 移動/名称変更"
   ]
  },
  {
   "cell_type": "markdown",
   "metadata": {},
   "source": [
    "* フォルダEmptyをPackageに名称変更"
   ]
  },
  {
   "cell_type": "code",
   "execution_count": 7,
   "metadata": {},
   "outputs": [],
   "source": [
    "e=os.Rename(\"Empty\",\"Package\")"
   ]
  },
  {
   "cell_type": "markdown",
   "metadata": {},
   "source": [
    "* Packageフォルダ内のSymlinkファイルをAliasに名称変更"
   ]
  },
  {
   "cell_type": "code",
   "execution_count": 8,
   "metadata": {},
   "outputs": [],
   "source": [
    "e=os.Rename(\"Package/Symlink\",\"Package/Alias\")"
   ]
  },
  {
   "cell_type": "markdown",
   "metadata": {},
   "source": [
    "* Untitled.mdを移動して,名称変更"
   ]
  },
  {
   "cell_type": "code",
   "execution_count": 9,
   "metadata": {},
   "outputs": [],
   "source": [
    "e=os.Rename(\"Untitled.md\",\"Package/Headers.md\")"
   ]
  },
  {
   "cell_type": "markdown",
   "metadata": {},
   "source": [
    "## 追記\n",
    "* Markdownファイルに追記"
   ]
  },
  {
   "cell_type": "code",
   "execution_count": 10,
   "metadata": {},
   "outputs": [],
   "source": [
    "io,e=os.OpenFile(\"Package/Headers.md\",os.O_WRONLY|os.O_APPEND,0644)\n",
    "io.WriteString(\"\\n## Header 2\\n### Header 3\")\n",
    "defer io.Close()"
   ]
  },
  {
   "cell_type": "markdown",
   "metadata": {},
   "source": [
    "## 読込み\n",
    "* Markdownファイルを読込み"
   ]
  },
  {
   "cell_type": "code",
   "execution_count": 11,
   "metadata": {},
   "outputs": [
    {
     "data": {
      "text/plain": [
       "# Header 1\n",
       "## Header 2\n",
       "### Header 3"
      ]
     },
     "execution_count": 11,
     "metadata": {},
     "output_type": "execute_result"
    }
   ],
   "source": [
    "bytearray,e:=ioutil.ReadFile(\"Package/Headers.md\")\n",
    "string(bytearray)"
   ]
  },
  {
   "cell_type": "markdown",
   "metadata": {},
   "source": [
    "## 再帰的にフォルダ作成\n",
    "* フォルダを一気に作成"
   ]
  },
  {
   "cell_type": "code",
   "execution_count": 12,
   "metadata": {},
   "outputs": [],
   "source": [
    "os.MkdirAll(\"Package/Module/Submodule/Item\",0744)"
   ]
  },
  {
   "cell_type": "markdown",
   "metadata": {},
   "source": [
    "- `os.Mkdir` の代わりに `os.MkdirAll` を使うことで,作成するフォルダItemの上位フォルダModule,Submoduleが存在していなくても,同時に生成される"
   ]
  },
  {
   "cell_type": "markdown",
   "metadata": {},
   "source": [
    "## ディレクトリの内容を表示"
   ]
  },
  {
   "cell_type": "code",
   "execution_count": 13,
   "metadata": {},
   "outputs": [
    {
     "data": {
      "text/plain": [
       "[]string{\"Alias\", \"Module\", \"Headers.md\"}"
      ]
     },
     "execution_count": 13,
     "metadata": {},
     "output_type": "execute_result"
    }
   ],
   "source": [
    "io,e=os.Open(\"Package\")\n",
    "list,e:=io.Readdirnames(-1) // ファイルの個数を制限\n",
    "e=io.Close()\n",
    "fmt.Sprintf(\"%#v\",list)"
   ]
  },
  {
   "cell_type": "markdown",
   "metadata": {},
   "source": [
    "- `io.Readdir` なら内容が詳細に分かる `FileInfo` の配列を返す\n",
    "- ワイルドカードを使って,条件を満たすファイルを見つけ出す場合は\n",
    "\n",
    "```Go\n",
    "import \"path/filepath\"\n",
    "filepath.Glob(\"*.md\")\n",
    "```"
   ]
  },
  {
   "cell_type": "markdown",
   "metadata": {},
   "source": [
    "## ファイル/フォルダの削除"
   ]
  },
  {
   "cell_type": "markdown",
   "metadata": {},
   "source": [
    "* ファイルBlankを削除"
   ]
  },
  {
   "cell_type": "code",
   "execution_count": 14,
   "metadata": {},
   "outputs": [],
   "source": [
    "os.Remove(\"Blank\")"
   ]
  },
  {
   "cell_type": "markdown",
   "metadata": {},
   "source": [
    "* シンボリックリンクAliasを削除"
   ]
  },
  {
   "cell_type": "code",
   "execution_count": 15,
   "metadata": {},
   "outputs": [],
   "source": [
    "os.Remove(\"Package/Alias\")"
   ]
  },
  {
   "cell_type": "markdown",
   "metadata": {},
   "source": [
    "* フォルダModuleを削除"
   ]
  },
  {
   "cell_type": "code",
   "execution_count": 16,
   "metadata": {},
   "outputs": [
    {
     "data": {
      "text/plain": [
       "remove Package/Module: directory not empty"
      ]
     },
     "execution_count": 16,
     "metadata": {},
     "output_type": "execute_result"
    }
   ],
   "source": [
    "os.Remove(\"Package/Module\")"
   ]
  },
  {
   "cell_type": "markdown",
   "metadata": {},
   "source": [
    "- 空のフォルダは `os.Remove` で削除できる。空でない場合は削除できない。  \n",
    "\t`os.RemoveAll` を使えば,空でなくても削除できる"
   ]
  },
  {
   "cell_type": "markdown",
   "metadata": {},
   "source": [
    "## 権限を確認/変更"
   ]
  },
  {
   "cell_type": "markdown",
   "metadata": {},
   "source": [
    "* 状態を確認する関数"
   ]
  },
  {
   "cell_type": "code",
   "execution_count": 17,
   "metadata": {},
   "outputs": [],
   "source": [
    "func check(path string) {\n",
    "\tinfo,e:=os.Lstat(path)\n",
    "\tif e!=nil {\n",
    "\t\tfmt.Println(\"存在していません\")\n",
    "\t\treturn\n",
    "\t}\n",
    "\tfmt.Println(\"存在しています\")\n",
    "\tm:=info.Mode()\n",
    "\tif m&os.ModeSymlink != 0 {\n",
    "\t\tfmt.Println(\"シンボリックリンクです\")\n",
    "\t\tlink,e:=os.Readlink(path)\n",
    "\t\tif e!=nil { fmt.Println(\"リンク先:\",link) }\n",
    "\t\tdstInfo,e:=os.Stat(path)\n",
    "\t\tif dstInfo.Mode().IsRegular() { fmt.Println(\"リンク先はファイルです\") }\n",
    "\t\tif dstInfo.Mode().IsDir() { fmt.Println(\"リンク先はフォルダです\") }\n",
    "\t} else\n",
    "\t{\n",
    "\t\tif m.IsRegular() { fmt.Println(\"ファイルです\") }\n",
    "\t\tif m.IsDir() { fmt.Println(\"フォルダです\") }\n",
    "\t}\n",
    "\tp:=m.Perm()\n",
    "\tif p&0400 != 0 { fmt.Println(\"読込可能です\") }\n",
    "\tif p&0200 != 0 { fmt.Println(\"書込可能です\") }\n",
    "\tif p&0100 != 0 { fmt.Println(\"実行可能です\") }\n",
    "\tif info.Size()==0 { fmt.Println(\"空です\") }\n",
    "}"
   ]
  },
  {
   "cell_type": "markdown",
   "metadata": {},
   "source": [
    "`os.Stat` でも情報が得られるが,ここでは `os.Lstat` を使う。なぜなら,シンボリックリンクに対して,前者はそのリンク先の情報を返すが,後者はそのリンク自体の情報を与えてくれるからだ。"
   ]
  },
  {
   "cell_type": "markdown",
   "metadata": {},
   "source": [
    "* Markdownファイルの現在の状態を確認"
   ]
  },
  {
   "cell_type": "code",
   "execution_count": 18,
   "metadata": {},
   "outputs": [
    {
     "name": "stdout",
     "output_type": "stream",
     "text": [
      "存在しています\n",
      "ファイルです\n",
      "読込可能です\n",
      "書込可能です\n"
     ]
    }
   ],
   "source": [
    "check(\"Package/Headers.md\")"
   ]
  },
  {
   "cell_type": "markdown",
   "metadata": {},
   "source": [
    "* 読込/書込権限を剥奪"
   ]
  },
  {
   "cell_type": "code",
   "execution_count": 19,
   "metadata": {},
   "outputs": [],
   "source": [
    "os.Chmod(\"Package/Headers.md\",0044)"
   ]
  },
  {
   "cell_type": "markdown",
   "metadata": {},
   "source": [
    "* 状態を確認"
   ]
  },
  {
   "cell_type": "code",
   "execution_count": 20,
   "metadata": {},
   "outputs": [
    {
     "name": "stdout",
     "output_type": "stream",
     "text": [
      "存在しています\n",
      "ファイルです\n"
     ]
    }
   ],
   "source": [
    "check(\"Package/Headers.md\")"
   ]
  },
  {
   "cell_type": "markdown",
   "metadata": {},
   "source": [
    "* 読込/実行権限を付加"
   ]
  },
  {
   "cell_type": "code",
   "execution_count": 21,
   "metadata": {},
   "outputs": [],
   "source": [
    "os.Chmod(\"Package/Headers.md\",0544)"
   ]
  },
  {
   "cell_type": "markdown",
   "metadata": {},
   "source": [
    "* 状態を確認"
   ]
  },
  {
   "cell_type": "code",
   "execution_count": 22,
   "metadata": {},
   "outputs": [
    {
     "name": "stdout",
     "output_type": "stream",
     "text": [
      "存在しています\n",
      "ファイルです\n",
      "読込可能です\n",
      "実行可能です\n"
     ]
    }
   ],
   "source": [
    "check(\"Package/Headers.md\")"
   ]
  },
  {
   "cell_type": "markdown",
   "metadata": {},
   "source": [
    "- `os.Chmod` は数値により権限を指定する\n",
    "\t* 4: 読込可能 (Readable)\n",
    "\t* 2: 書込可能 (Writable)\n",
    "\t* 1: 実行可能 (eXecutable)\n",
    "\n",
    "- これらの和を3つ並べて指定する。  \n",
    "    1つ目はユーザの権限,2つ目はゲストの権限,3つ目はその他の者の権限である。  \n",
    "\tGoでは8進数で表記するために,前に `0` を付加する\n",
    "\n",
    "\te.g. `os.Chmod(somefile,0o754)`\n",
    "\t* ユーザは 7 = 4+2+1 だから,読込可能,書込可能,実行可能\n",
    "\t* ゲストは 5 = 4 + 1 だから,読込可能,実行可能\n",
    "\t* その他は 4 だから,読込のみ可能"
   ]
  }
 ],
 "metadata": {
  "kernelspec": {
   "display_name": "Go",
   "language": "go",
   "name": "gophernotes"
  },
  "language_info": {
   "codemirror_mode": "",
   "file_extension": ".go",
   "mimetype": "",
   "name": "go",
   "nbconvert_exporter": "",
   "pygments_lexer": "",
   "version": "go1.14.2"
  }
 },
 "nbformat": 4,
 "nbformat_minor": 4
}
