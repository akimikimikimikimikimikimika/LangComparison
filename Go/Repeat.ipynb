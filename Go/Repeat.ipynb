{
 "cells": [
  {
   "cell_type": "markdown",
   "metadata": {},
   "source": [
    "# 繰り返し処理"
   ]
  },
  {
   "cell_type": "code",
   "execution_count": 1,
   "metadata": {},
   "outputs": [],
   "source": [
    "import \"fmt\""
   ]
  },
  {
   "cell_type": "markdown",
   "metadata": {},
   "source": [
    "* `for n:=0;n<3;n++ { … }`"
   ]
  },
  {
   "cell_type": "code",
   "execution_count": 2,
   "metadata": {},
   "outputs": [
    {
     "name": "stdout",
     "output_type": "stream",
     "text": [
      "n=0 のループ\n",
      "n=1 のループ\n",
      "n=2 のループ\n"
     ]
    }
   ],
   "source": [
    "for n:=0;n<3;n++ {\n",
    "    fmt.Println(fmt.Sprintf(\"n=%d のループ\",n))\n",
    "}"
   ]
  },
  {
   "cell_type": "markdown",
   "metadata": {},
   "source": [
    "* `for n,c := range array { … }`"
   ]
  },
  {
   "cell_type": "code",
   "execution_count": 3,
   "metadata": {},
   "outputs": [
    {
     "name": "stdout",
     "output_type": "stream",
     "text": [
      "0番目 c='壱'のループ\n",
      "1番目 c='弐'のループ\n",
      "2番目 c='参'のループ\n"
     ]
    }
   ],
   "source": [
    "var cs = []string{\"壱\",\"弐\",\"参\"}\n",
    "for n,c := range cs {\n",
    "\tfmt.Println(fmt.Sprintf(\"%d番目 c='%s'のループ\",n,c))\n",
    "\t// n,cと2つ並んでいるが,不要な要素があれば,_で置くことで,変数の代わりになる\n",
    "\t// e.g. n,c → _,c\n",
    "}"
   ]
  },
  {
   "cell_type": "markdown",
   "metadata": {},
   "source": [
    "* `for ~ { … }`"
   ]
  },
  {
   "cell_type": "code",
   "execution_count": 4,
   "metadata": {},
   "outputs": [
    {
     "name": "stdout",
     "output_type": "stream",
     "text": [
      "*\n",
      "**\n",
      "***\n",
      "****\n",
      "*****\n",
      "******\n"
     ]
    }
   ],
   "source": [
    "str := \"\"\n",
    "for len(str)<6 {\n",
    "\tstr+=\"*\"\n",
    "\tfmt.Println(str)\n",
    "}"
   ]
  },
  {
   "cell_type": "markdown",
   "metadata": {},
   "source": [
    "* `for { … }`"
   ]
  },
  {
   "cell_type": "code",
   "execution_count": 5,
   "metadata": {},
   "outputs": [
    {
     "name": "stdout",
     "output_type": "stream",
     "text": [
      "*\n",
      "**\n",
      "***\n",
      "****\n",
      "*****\n",
      "******\n"
     ]
    }
   ],
   "source": [
    "str = \"\"\n",
    "for len(str)<6 {\n",
    "\tstr+=\"*\"\n",
    "\tfmt.Println(str)\n",
    "    if len(str)==6 { break }\n",
    "}"
   ]
  }
 ],
 "metadata": {
  "kernelspec": {
   "display_name": "Go",
   "language": "go",
   "name": "gophernotes"
  },
  "language_info": {
   "codemirror_mode": "",
   "file_extension": ".go",
   "mimetype": "",
   "name": "go",
   "nbconvert_exporter": "",
   "pygments_lexer": "",
   "version": "go1.14.2"
  }
 },
 "nbformat": 4,
 "nbformat_minor": 4
}