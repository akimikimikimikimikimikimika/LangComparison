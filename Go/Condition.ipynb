{
 "cells": [
  {
   "cell_type": "markdown",
   "metadata": {},
   "source": [
    "# 条件分岐"
   ]
  },
  {
   "cell_type": "code",
   "execution_count": 1,
   "metadata": {},
   "outputs": [],
   "source": [
    "import \"fmt\""
   ]
  },
  {
   "cell_type": "code",
   "execution_count": 2,
   "metadata": {},
   "outputs": [],
   "source": [
    "test1,test2 := true,false"
   ]
  },
  {
   "cell_type": "code",
   "execution_count": 3,
   "metadata": {},
   "outputs": [
    {
     "name": "stdout",
     "output_type": "stream",
     "text": [
      "どうやらtest1は真のようです\n"
     ]
    }
   ],
   "source": [
    "if (test1) {\n",
    "\tfmt.Println(\"どうやらtest1は真のようです\")\n",
    "}"
   ]
  },
  {
   "cell_type": "code",
   "execution_count": 4,
   "metadata": {},
   "outputs": [
    {
     "name": "stdout",
     "output_type": "stream",
     "text": [
      "真偽が混在しているようです\n"
     ]
    }
   ],
   "source": [
    "if (!test1) {\n",
    "\tfmt.Println(\"どうやらtest1は偽のようです\")\n",
    "} else if (test2) {\n",
    "\tfmt.Println(\"どうやらtest2は真のようです\")\n",
    "} else if (!test2 && test1) {\n",
    "\tfmt.Println(\"真偽が混在しているようです\")\n",
    "} else {\n",
    "\tfmt.Println(\"どれでもないようです\")\n",
    "}"
   ]
  },
  {
   "cell_type": "markdown",
   "metadata": {},
   "source": [
    "Goはどうやら, `else` の前に改行があってはいけないようだ。  \n",
    "`}` の後に改行を設けずに `else` を置く必要がある。"
   ]
  },
  {
   "cell_type": "code",
   "execution_count": 5,
   "metadata": {},
   "outputs": [],
   "source": [
    "var val int = 8"
   ]
  },
  {
   "cell_type": "code",
   "execution_count": 6,
   "metadata": {},
   "outputs": [
    {
     "name": "stdout",
     "output_type": "stream",
     "text": [
      "これに隣接する数にも言えたりするが,8 は素数ではない\n"
     ]
    }
   ],
   "source": [
    "switch val {\n",
    "\tcase 0,1:\n",
    "\t\tfmt.Println(val,\"は特別な値である\")\n",
    "\tcase 8,9,10:\n",
    "\t\tfmt.Print(\"これに隣接する数にも言えたりするが,\")\n",
    "\t\tfallthrough\n",
    "\t\t// fallthrough により,case 8,9,10を実行すれば,直下のcase 4,6も実行する\n",
    "\tcase 4,6:\n",
    "\t\tfmt.Println(val,\"は素数ではない\")\n",
    "\tcase 2,3,5,7:\n",
    "\t\tfmt.Println(val,\"は素数である\")\n",
    "\tdefault:\n",
    "\t\tfmt.Println(val,\"なぞ私には興味がない\")\n",
    "\t\tswitch {\n",
    "\t\t\t// case節は条件式でもよい\n",
    "            case val < 0 :\n",
    "\t\t\t\tfmt.Println(\"なにせ,\",val,\"は小さすぎるのだ\")\n",
    "\t\t\tcase val > 10 :\n",
    "\t\t\t\tfmt.Println(\"なにせ,\",val,\"は大きすぎるのだ\")\n",
    "\t\t\tcase (val > 0)||(val < 10) :\n",
    "\t\t\t\tfmt.Println(\"なにせ,\",val,\"は中途半端なのだ\")\n",
    "\t\t}\n",
    "}"
   ]
  },
  {
   "cell_type": "markdown",
   "metadata": {},
   "source": [
    "`case` に文字列を使用することは可能である"
   ]
  }
 ],
 "metadata": {
  "kernelspec": {
   "display_name": "Go",
   "language": "go",
   "name": "gophernotes"
  },
  "language_info": {
   "codemirror_mode": "",
   "file_extension": ".go",
   "mimetype": "",
   "name": "go",
   "nbconvert_exporter": "",
   "pygments_lexer": "",
   "version": "go1.14.2"
  }
 },
 "nbformat": 4,
 "nbformat_minor": 4
}