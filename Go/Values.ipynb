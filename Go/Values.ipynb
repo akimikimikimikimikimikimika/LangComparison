{
 "cells": [
  {
   "cell_type": "markdown",
   "metadata": {},
   "source": [
    "# 色々な値"
   ]
  },
  {
   "cell_type": "code",
   "execution_count": 1,
   "metadata": {},
   "outputs": [],
   "source": [
    "import \"fmt\""
   ]
  },
  {
   "cell_type": "markdown",
   "metadata": {},
   "source": [
    "## 文字列"
   ]
  },
  {
   "cell_type": "code",
   "execution_count": 2,
   "metadata": {},
   "outputs": [
    {
     "name": "stdout",
     "output_type": "stream",
     "text": [
      "大きさ: 6\n"
     ]
    },
    {
     "data": {
      "text/plain": [
       "ゴー"
      ]
     },
     "execution_count": 2,
     "metadata": {},
     "output_type": "execute_result"
    }
   ],
   "source": [
    "var str string = \"ゴー\"\n",
    "fmt.Println(\"大きさ:\",len(str))\n",
    "str"
   ]
  },
  {
   "cell_type": "markdown",
   "metadata": {},
   "source": [
    "### 複数行"
   ]
  },
  {
   "cell_type": "code",
   "execution_count": 3,
   "metadata": {},
   "outputs": [
    {
     "data": {
      "text/plain": [
       "\n",
       "First line\n",
       "Second line\n",
       "Third line\n"
      ]
     },
     "execution_count": 3,
     "metadata": {},
     "output_type": "execute_result"
    }
   ],
   "source": [
    "var lines = `\n",
    "First line\n",
    "Second line\n",
    "Third line\n",
    "`\n",
    "lines"
   ]
  },
  {
   "cell_type": "code",
   "execution_count": 4,
   "metadata": {},
   "outputs": [
    {
     "data": {
      "text/plain": [
       "71"
      ]
     },
     "execution_count": 4,
     "metadata": {},
     "output_type": "execute_result"
    }
   ],
   "source": [
    "var ru rune = 'G'\n",
    "ru"
   ]
  },
  {
   "cell_type": "markdown",
   "metadata": {},
   "source": [
    "## 数値"
   ]
  },
  {
   "cell_type": "code",
   "execution_count": 5,
   "metadata": {},
   "outputs": [
    {
     "data": {
      "text/plain": [
       "6"
      ]
     },
     "execution_count": 5,
     "metadata": {},
     "output_type": "execute_result"
    }
   ],
   "source": [
    "var i int = 6\n",
    "i"
   ]
  },
  {
   "cell_type": "code",
   "execution_count": 6,
   "metadata": {},
   "outputs": [
    {
     "data": {
      "text/plain": [
       "6"
      ]
     },
     "execution_count": 6,
     "metadata": {},
     "output_type": "execute_result"
    }
   ],
   "source": [
    "var i8 int8 = 6   // -128 ~ 127\n",
    "i8"
   ]
  },
  {
   "cell_type": "code",
   "execution_count": 7,
   "metadata": {},
   "outputs": [
    {
     "data": {
      "text/plain": [
       "6"
      ]
     },
     "execution_count": 7,
     "metadata": {},
     "output_type": "execute_result"
    }
   ],
   "source": [
    "var i16 int16 = 6 // -32768 ~ 32767\n",
    "i16"
   ]
  },
  {
   "cell_type": "code",
   "execution_count": 8,
   "metadata": {},
   "outputs": [
    {
     "data": {
      "text/plain": [
       "6"
      ]
     },
     "execution_count": 8,
     "metadata": {},
     "output_type": "execute_result"
    }
   ],
   "source": [
    "var i32 int32 = 6 // -2147483648 ~ 2147483647\n",
    "i32"
   ]
  },
  {
   "cell_type": "code",
   "execution_count": 9,
   "metadata": {},
   "outputs": [
    {
     "data": {
      "text/plain": [
       "6"
      ]
     },
     "execution_count": 9,
     "metadata": {},
     "output_type": "execute_result"
    }
   ],
   "source": [
    "var i64 int64 = 6 // -9223372036854775808 ~ 9223372036854775807\n",
    "i64"
   ]
  },
  {
   "cell_type": "code",
   "execution_count": 10,
   "metadata": {},
   "outputs": [
    {
     "data": {
      "text/plain": [
       "6"
      ]
     },
     "execution_count": 10,
     "metadata": {},
     "output_type": "execute_result"
    }
   ],
   "source": [
    "var u uint = 6\n",
    "u"
   ]
  },
  {
   "cell_type": "code",
   "execution_count": 11,
   "metadata": {},
   "outputs": [
    {
     "data": {
      "text/plain": [
       "6"
      ]
     },
     "execution_count": 11,
     "metadata": {},
     "output_type": "execute_result"
    }
   ],
   "source": [
    "var u8 uint8 = 6   // 0 ~ 255\n",
    "// byte = uint8\n",
    "u8"
   ]
  },
  {
   "cell_type": "code",
   "execution_count": 12,
   "metadata": {},
   "outputs": [
    {
     "data": {
      "text/plain": [
       "6"
      ]
     },
     "execution_count": 12,
     "metadata": {},
     "output_type": "execute_result"
    }
   ],
   "source": [
    "var u16 uint16 = 6 // 0 ~ 65535\n",
    "u16"
   ]
  },
  {
   "cell_type": "code",
   "execution_count": 13,
   "metadata": {},
   "outputs": [
    {
     "data": {
      "text/plain": [
       "6"
      ]
     },
     "execution_count": 13,
     "metadata": {},
     "output_type": "execute_result"
    }
   ],
   "source": [
    "var u32 uint32 = 6 // 0 ~ 4294967295\n",
    "u32"
   ]
  },
  {
   "cell_type": "code",
   "execution_count": 14,
   "metadata": {},
   "outputs": [
    {
     "data": {
      "text/plain": [
       "6"
      ]
     },
     "execution_count": 14,
     "metadata": {},
     "output_type": "execute_result"
    }
   ],
   "source": [
    "var u64 uint64 = 6 // 0 ~ 18446744073709551615\n",
    "u64"
   ]
  },
  {
   "cell_type": "code",
   "execution_count": 15,
   "metadata": {},
   "outputs": [
    {
     "data": {
      "text/plain": [
       "3.75e-08"
      ]
     },
     "execution_count": 15,
     "metadata": {},
     "output_type": "execute_result"
    }
   ],
   "source": [
    "var f32 float32 = .0375e-6\n",
    "f32"
   ]
  },
  {
   "cell_type": "code",
   "execution_count": 16,
   "metadata": {},
   "outputs": [
    {
     "data": {
      "text/plain": [
       "3.75e-08"
      ]
     },
     "execution_count": 16,
     "metadata": {},
     "output_type": "execute_result"
    }
   ],
   "source": [
    "var f64 float64 = .0375e-6\n",
    "f64"
   ]
  },
  {
   "cell_type": "code",
   "execution_count": 17,
   "metadata": {},
   "outputs": [
    {
     "data": {
      "text/plain": [
       "(3+1i)"
      ]
     },
     "execution_count": 17,
     "metadata": {},
     "output_type": "execute_result"
    }
   ],
   "source": [
    "var c64 complex64 = 3+1i\n",
    "c64"
   ]
  },
  {
   "cell_type": "code",
   "execution_count": 18,
   "metadata": {},
   "outputs": [
    {
     "data": {
      "text/plain": [
       "(3+1i)"
      ]
     },
     "execution_count": 18,
     "metadata": {},
     "output_type": "execute_result"
    }
   ],
   "source": [
    "var c128 complex128 = 3+1i\n",
    "c128"
   ]
  },
  {
   "cell_type": "markdown",
   "metadata": {},
   "source": [
    "## 真偽値"
   ]
  },
  {
   "cell_type": "code",
   "execution_count": 19,
   "metadata": {},
   "outputs": [
    {
     "data": {
      "text/plain": [
       "true"
      ]
     },
     "execution_count": 19,
     "metadata": {},
     "output_type": "execute_result"
    }
   ],
   "source": [
    "var boolean bool = true\n",
    "boolean"
   ]
  },
  {
   "cell_type": "markdown",
   "metadata": {},
   "source": [
    "## 値なし"
   ]
  },
  {
   "cell_type": "code",
   "execution_count": 20,
   "metadata": {},
   "outputs": [],
   "source": [
    "var none interface{} = nil\n",
    "none"
   ]
  },
  {
   "cell_type": "markdown",
   "metadata": {},
   "source": [
    "## 配列"
   ]
  },
  {
   "cell_type": "code",
   "execution_count": 21,
   "metadata": {},
   "outputs": [
    {
     "name": "stdout",
     "output_type": "stream",
     "text": [
      "大きさ: 3\n"
     ]
    },
    {
     "data": {
      "text/plain": [
       "[2.4 3.6 4.8]"
      ]
     },
     "execution_count": 21,
     "metadata": {},
     "output_type": "execute_result"
    }
   ],
   "source": [
    "var a = []float64{2.4,3.6,4.8}\n",
    "fmt.Println(\"大きさ:\",len(a))\n",
    "a"
   ]
  },
  {
   "cell_type": "markdown",
   "metadata": {},
   "source": [
    "## マップ"
   ]
  },
  {
   "cell_type": "code",
   "execution_count": 22,
   "metadata": {},
   "outputs": [
    {
     "name": "stdout",
     "output_type": "stream",
     "text": [
      "大きさ: 2\n"
     ]
    },
    {
     "data": {
      "text/plain": [
       "map[false:No, let's not true:Yes, let's]"
      ]
     },
     "execution_count": 22,
     "metadata": {},
     "output_type": "execute_result"
    }
   ],
   "source": [
    "var dict = map[bool]string{\n",
    "\ttrue:\"Yes, let's\",\n",
    "\tfalse:\"No, let's not\", // 最終行であっても,末尾にカンマがいる\n",
    "}\n",
    "fmt.Println(\"大きさ:\",len(dict))\n",
    "dict"
   ]
  },
  {
   "cell_type": "code",
   "execution_count": 8,
   "metadata": {},
   "outputs": [
    {
     "data": {
      "text/plain": [
       "*reflect.rtype"
      ]
     },
     "execution_count": 8,
     "metadata": {},
     "output_type": "execute_result"
    }
   ],
   "source": [
    "import \"reflect\";\n",
    "reflect.TypeOf(reflect.TypeOf(\"text\"))"
   ]
  },
  {
   "cell_type": "markdown",
   "metadata": {},
   "source": [
    "## 変数の宣言\n",
    "\n",
    "### 変数\n",
    "```Go\n",
    "var x int\n",
    "var x int = 6\n",
    "var x,y,z int = 6,3,2\n",
    "x := (int)6\n",
    "x,y,z := (int)6,(int)3,(int)2\n",
    "```\n",
    "\n",
    "### 定数\n",
    "```Go\n",
    "const x = 6\n",
    "const x int = 6\n",
    "const x,y,z int = 6,3,2\n",
    "```\n",
    "\n",
    "* 1つ目の表記では,宣言時点で型は定まっていないので,あらゆる型に代入可能\n",
    "```Go\n",
    "const x = 6\n",
    "var y int = x\n",
    "var z float64 = x\n",
    "```\n",
    "\n",
    "### `iota` による定数\n",
    "```Go\n",
    "const (\n",
    "\tx int = iota\n",
    "\ty\n",
    "\tz\n",
    ")\n",
    "```\n",
    "上の記法は下の表記と等価\n",
    "```Go\n",
    "const (\n",
    "\tx int = 0\n",
    "\ty int = 1\n",
    "\tz int = 2\n",
    ")\n",
    "```\n",
    "それゆえ `iota` はしばしば列挙型の代わりとして用いられることが多い。"
   ]
  },
  {
   "cell_type": "markdown",
   "metadata": {},
   "source": [
    "## 型判定\n",
    "* `reflect.TypeOf(val)` -> `reflect.Type` : 値の型を示す\n",
    "* `fmt.Sprintf(\"%T\",val)` -> `string` : 値の型を示す"
   ]
  },
  {
   "cell_type": "markdown",
   "metadata": {},
   "source": [
    "## 型エイリアス\n",
    "```Go\n",
    "type MyType []rune // []rune に別名として MyType を充てている\n",
    "```"
   ]
  },
  {
   "cell_type": "markdown",
   "metadata": {},
   "source": [
    "## 型変換\n",
    "\n",
    "### 文字列 ⇄ 数値\n",
    "\n",
    "* 数値型,論理型 → `string`\n",
    "\n",
    "\t```Go\n",
    "\tvar i int64=6\n",
    "\tvar s string=strconv.FormatInt(i,10)\n",
    "\t\t// 第2引数 : 進数\n",
    "\n",
    "\tvar u uint64=6\n",
    "\tvar s string=strconv.FormatUInt(u,10)\n",
    "\t\t// 第2引数 : 進数\n",
    "\n",
    "\tvar f float64=6.0\n",
    "\tvar s string=strconv.FormatFloat(f,\"g\",-1,64)\n",
    "\t\t// 第2引数 : フォーマット方法 (g,G,f,F,e,E,x,X)\n",
    "\t\t// 第3引数 : 精度 ( -1 : 指定しない)\n",
    "\t\t// 第4引数 : 元の値の型 (32,64)\n",
    "\n",
    "\tvar b bool=true\n",
    "\tvar s string=strconv.FormatBool(b)\n",
    "\t```\n",
    "\n",
    "\n",
    "* `string` → 数値型,論理型\n",
    "\n",
    "\t```Go\n",
    "\tvar s string=\"6\"\n",
    "\tvar i int64\n",
    "\ti,err := strconv.ParseInt(s,10,0)\n",
    "\t\t// 第2引数 : 進数\n",
    "\t\t// 第3引数 : 変換先の型 (0,8,16,32,64)\n",
    "\n",
    "\tvar s string=\"6\"\n",
    "\tvar u uint64\n",
    "\tu,err := strconv.ParseUInt(s,10,0)\n",
    "\t\t// 第2引数 : 進数\n",
    "\t\t// 第3引数 : 変換先の型 (0,8,16,32,64)\n",
    "\n",
    "\tvar s string=\"6\"\n",
    "\tvar f float64\n",
    "\tf,err := strconv.ParseFloat(s,64)\n",
    "\t\t// 第2引数 : 変換先の型 (32,64)\n",
    "\n",
    "\tvar s string=\"T\"\n",
    "\tvar b bool\n",
    "\tb,err := strconv.ParseBool(s)\n",
    "\t```\n",
    "\n",
    "### 数値型同士の変換 (キャストのルールに準ずる)\n",
    "\n",
    "明示的に型変換が必要\n",
    "\n",
    "```Go\n",
    "var x int64 = 6;\n",
    "var y float64 = float64(x);\n",
    "```"
   ]
  }
 ],
 "metadata": {
  "kernelspec": {
   "display_name": "Go",
   "language": "go",
   "name": "gophernotes"
  },
  "language_info": {
   "codemirror_mode": "",
   "file_extension": ".go",
   "mimetype": "",
   "name": "go",
   "nbconvert_exporter": "",
   "pygments_lexer": "",
   "version": "go1.14.2"
  }
 },
 "nbformat": 4,
 "nbformat_minor": 4
}