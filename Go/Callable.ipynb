{
 "cells": [
  {
   "cell_type": "markdown",
   "metadata": {},
   "source": [
    "# コーラブル"
   ]
  },
  {
   "cell_type": "markdown",
   "metadata": {},
   "source": [
    "## 関数"
   ]
  },
  {
   "cell_type": "markdown",
   "metadata": {},
   "source": [
    "### 通常の関数"
   ]
  },
  {
   "cell_type": "code",
   "execution_count": 1,
   "metadata": {},
   "outputs": [],
   "source": [
    "func cube(val float64) float64 {\n",
    "\treturn val*val*val\n",
    "}"
   ]
  },
  {
   "cell_type": "markdown",
   "metadata": {},
   "source": [
    "### 無名関数"
   ]
  },
  {
   "cell_type": "code",
   "execution_count": 2,
   "metadata": {},
   "outputs": [
    {
     "data": {
      "text/plain": [
       "0x4c0d390"
      ]
     },
     "execution_count": 2,
     "metadata": {},
     "output_type": "execute_result"
    }
   ],
   "source": [
    "var fn=func(val float64) float64 {\n",
    "\treturn val*val\n",
    "}\n",
    "fn"
   ]
  },
  {
   "cell_type": "markdown",
   "metadata": {},
   "source": [
    "* 可変個引数\n",
    "\n",
    "\t残りの引数を配列形式でまとめて受け取れる\n",
    "\t```Go\n",
    "\tfunc someFunc(int arg1,int arg2,int ...args) {\n",
    "\t\t...\n",
    "        // args = []int{arg3,arg4...} : 配列\n",
    "    }\n",
    "\t```\n",
    "\n",
    "\t又,関数を実行する際,配列の各要素をそのまま関数の引数とすることもできる\n",
    "\t```Go\n",
    "\ta := []int{1,2,3} // 配列aを用意\n",
    "\tsomeFunc(a...) // = someFunc(1,2,3) → arg1=1 arg2=2 args=[]int{3}\n",
    "\t```"
   ]
  }
 ],
 "metadata": {
  "kernelspec": {
   "display_name": "Go",
   "language": "go",
   "name": "gophernotes"
  },
  "language_info": {
   "codemirror_mode": "",
   "file_extension": ".go",
   "mimetype": "",
   "name": "go",
   "nbconvert_exporter": "",
   "pygments_lexer": "",
   "version": "go1.14.2"
  }
 },
 "nbformat": 4,
 "nbformat_minor": 4
}