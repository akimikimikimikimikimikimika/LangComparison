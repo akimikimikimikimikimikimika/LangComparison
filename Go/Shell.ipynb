{
 "cells": [
  {
   "cell_type": "markdown",
   "metadata": {},
   "source": [
    "# シェル"
   ]
  },
  {
   "cell_type": "code",
   "execution_count": 1,
   "metadata": {},
   "outputs": [],
   "source": [
    "import \"os\";\n",
    "import \"os/exec\";"
   ]
  },
  {
   "cell_type": "markdown",
   "metadata": {},
   "source": [
    "## 通常の実行"
   ]
  },
  {
   "cell_type": "code",
   "execution_count": 2,
   "metadata": {},
   "outputs": [],
   "source": [
    "c:=exec.Command(\"ls\",\"-a\");\n",
    "c.Start()\n",
    "c.Wait()"
   ]
  },
  {
   "cell_type": "markdown",
   "metadata": {},
   "source": [
    "## 実行方法をカスタマイズ\n",
    "シェルを実行するためのいくつかの関数があり,ここではそれぞれを見ていく  \n",
    "\n",
    "* `exec.Command(cmd,args...)` → `Cmd*`\n",
    "\tコマンド名 `cmd` と引数 `args` を指定していく\n",
    "\n",
    "* `Cmd.Env:[]string`  \n",
    "\t環境変数の配列  \n",
    "    `[]string{\"key1=value1\",\"key2=value2\"...}` のように指定する\n",
    "\n",
    "* `Cmd.Dir:string`  \n",
    "\tカレントディレクトリ\n",
    "\n",
    "* `Cmd.Stdin:io.Reader`\n",
    "* `Cmd.Stdout:io.Writer`\n",
    "* `Cmd.Stderr:io.Writer`\n",
    "\tIOの入出力先\n",
    "\t* `nil`,`os.DevNull` : 出力を破棄/空の入力\n",
    "\t* `os.Stdout`,`os.Stderr`,`os.Stdin` : 親プロセスの入出力を継承\n",
    "\t* `io.Reader`,`io.Writer` : 指定のファイルで読み書き/別プロセスへのパイプ\n",
    "\t* 指定しない : `Stdin/out/errPipe` を介して読み書き\n",
    "    \n",
    "* `ProcessState:os.ProcessState`\n",
    "\tプロセスの状態\n",
    "\t* `ProcessState.Exited():bool` : 終了したかどうか\n",
    "\t* `ProcessState.Sucess():bool` : 成功したかどうか\n",
    "\t* `ProcessState.ExitCode():int` : 終了コード\n",
    "\t* `ProcessState.Pid():int` : プロセスID\n",
    "\n",
    "### 実行\n",
    "* `Cmd.Output()` → `byte[],error` : 実行を開始し,実行が完了するのを待って,stdoutを返す\n",
    "* `Cmd.CombinedOutput()` → `byte[],error` : 実行を開始し,実行が完了するのを待って,stdout,stderrを返す\n",
    "* `Cmd.Run()` → `error` : 実行を開始し,実行が完了するのを待つ\n",
    "* `Cmd.StdinPipe()` → `io.WriteCloser,error` : stdinの書き込みハンドル  \n",
    "\t別プロセスの `.Stdout`,`.Stderr` に渡してパイプしたり,次のようにstdinに書き込むこともできる\n",
    "\t```Go\n",
    "\tstdin,err:=c.StdinPipe()\n",
    "\tos.WriteString(stdin,\"stdinの内容\")\n",
    "\tos.Close() // .Close() しないと入力が完了しない\n",
    "\t```\n",
    "* `Cmd.StdoutPipe()`,`Cmd.StderrPipe()` → `io.ReadCloser,error` : stdout,stderrの書き込みハンドル  \n",
    "\t別プロセスの `.Stdin` に渡してパイプしたり,次のようにstdout,stderrから読み込むこともできる\n",
    "\t```Go\n",
    "\tstdout,err:=c.StdoutPipe()\n",
    "\ttext,err:=ioutil.ReadAll(stdout)\n",
    "\ttext // stdoutの内容\n",
    "\t```\n",
    "* `Cmd.Start()` → `error` : 実行を開始する  \n",
    "\t完了を待つために `.Wait()` が必要\n",
    "* `Cmd.Wait()` → `error` : 実行が完了するのを待つ"
   ]
  }
 ],
 "metadata": {
  "kernelspec": {
   "display_name": "Go",
   "language": "go",
   "name": "gophernotes"
  },
  "language_info": {
   "codemirror_mode": "",
   "file_extension": ".go",
   "mimetype": "",
   "name": "go",
   "nbconvert_exporter": "",
   "pygments_lexer": "",
   "version": "go1.14.2"
  }
 },
 "nbformat": 4,
 "nbformat_minor": 4
}