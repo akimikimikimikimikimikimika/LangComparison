{
 "cells": [
  {
   "cell_type": "markdown",
   "metadata": {},
   "source": [
    "# 関数"
   ]
  },
  {
   "cell_type": "markdown",
   "metadata": {},
   "source": [
    "## 関数"
   ]
  },
  {
   "cell_type": "code",
   "execution_count": 1,
   "metadata": {},
   "outputs": [
    {
     "name": "stdout",
     "output_type": "stream",
     "text": [
      "cube"
     ]
    },
    {
     "data": {
      "text/plain": [
       "216"
      ]
     },
     "execution_count": 1,
     "metadata": {},
     "output_type": "execute_result"
    }
   ],
   "source": [
    "function cube(val)\n",
    "\tval^3\n",
    "end\n",
    "print(cube)\n",
    "cube(6)"
   ]
  },
  {
   "cell_type": "markdown",
   "metadata": {},
   "source": [
    "## 無名関数"
   ]
  },
  {
   "cell_type": "code",
   "execution_count": 2,
   "metadata": {},
   "outputs": [
    {
     "name": "stdout",
     "output_type": "stream",
     "text": [
      "#3"
     ]
    },
    {
     "data": {
      "text/plain": [
       "36"
      ]
     },
     "execution_count": 2,
     "metadata": {},
     "output_type": "execute_result"
    }
   ],
   "source": [
    "func = function (val)\n",
    "\tval^2\n",
    "end\n",
    "print(func)\n",
    "func(6)"
   ]
  },
  {
   "cell_type": "markdown",
   "metadata": {},
   "source": [
    "## 型付き引数\n",
    "\n",
    "次のように型を指定した関数が作れる\n",
    "```Julia\n",
    "function funcName(arg::String)\n",
    "\t...\n",
    "end\n",
    "```\n",
    "当然,この場合は `funcName(6)` などとしたらエラーになる"
   ]
  },
  {
   "cell_type": "markdown",
   "metadata": {},
   "source": [
    "## デフォルト引数\n",
    "\n",
    "次のように引数がデフォルト値を持った関数が作れる\n",
    "```Julia\n",
    "function funcName(arg1=\"val1\",arg2=\"val2\",arg3=\"val3\",...)\n",
    "\t...\n",
    "end\n",
    "```\n",
    "関数を実行する場合,通常は引数の省略はエラーになるが,デフォルト値を持つ引数は省略可能である"
   ]
  },
  {
   "cell_type": "markdown",
   "metadata": {},
   "source": [
    "## 可変個引数\n",
    "\n",
    "残りの引数をタプル形式でまとめて受け取れる\n",
    "```Julia\n",
    "function funcName(arg1,arg2,args...)\n",
    "\t...\n",
    "\t# args = (arg3,arg4...) : タプル\n",
    "```\n",
    "\n",
    "又,関数を実行する際,配列,タプルの各要素をそのまま関数の引数とすることもできる\n",
    "```Julia\n",
    "args = [arg1,arg2,arg3] # 配列argsを用意\n",
    "funcName(args...) # = funcName(arg1,arg2,arg3)\n",
    "```"
   ]
  },
  {
   "cell_type": "markdown",
   "metadata": {},
   "source": [
    "## クォート"
   ]
  },
  {
   "cell_type": "code",
   "execution_count": 9,
   "metadata": {},
   "outputs": [
    {
     "data": {
      "text/plain": [
       "36"
      ]
     },
     "execution_count": 9,
     "metadata": {},
     "output_type": "execute_result"
    }
   ],
   "source": [
    "q1 = quote\n",
    "\t6^2\n",
    "end\n",
    "eval(q1)"
   ]
  },
  {
   "cell_type": "code",
   "execution_count": 11,
   "metadata": {},
   "outputs": [
    {
     "data": {
      "text/plain": [
       "36"
      ]
     },
     "execution_count": 11,
     "metadata": {},
     "output_type": "execute_result"
    }
   ],
   "source": [
    "q2 = :(6^2)\n",
    "eval(q2)"
   ]
  },
  {
   "cell_type": "markdown",
   "metadata": {},
   "source": [
    "## ブロック"
   ]
  },
  {
   "cell_type": "code",
   "execution_count": 12,
   "metadata": {},
   "outputs": [
    {
     "data": {
      "text/plain": [
       "216"
      ]
     },
     "execution_count": 12,
     "metadata": {},
     "output_type": "execute_result"
    }
   ],
   "source": [
    "begin\n",
    "\tx=6 # ブロック外からはアクセスできない\n",
    "\tx^3\n",
    "end\n",
    "# print(x) : アクセス不可"
   ]
  },
  {
   "cell_type": "code",
   "execution_count": 14,
   "metadata": {},
   "outputs": [
    {
     "name": "stdout",
     "output_type": "stream",
     "text": [
      "216\n",
      "6\n"
     ]
    }
   ],
   "source": [
    "x=6\n",
    "let x=x # ブロック内の x は ブロック外の x と独立している\n",
    "\tx=x^3\n",
    "\tprintln(x)\n",
    "end\n",
    "println(x)"
   ]
  }
 ],
 "metadata": {
  "kernelspec": {
   "display_name": "Julia",
   "language": "julia",
   "name": "julia-1.3"
  },
  "language_info": {
   "file_extension": ".jl",
   "mimetype": "application/julia",
   "name": "julia",
   "version": "1.3.1"
  }
 },
 "nbformat": 4,
 "nbformat_minor": 4
}
