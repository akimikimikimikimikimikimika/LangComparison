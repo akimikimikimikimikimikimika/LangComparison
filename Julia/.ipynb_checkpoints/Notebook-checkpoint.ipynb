{
 "cells": [
  {
   "cell_type": "markdown",
   "metadata": {},
   "source": [
    "## Thread.jl"
   ]
  },
  {
   "cell_type": "code",
   "execution_count": null,
   "metadata": {},
   "outputs": [],
   "source": [
    "using Base.Threads\n",
    "\n",
    "println(\"\\r\\nこれからスレッドを試します\\r\\n\")\n",
    "println(\"最大スレッド数: $(nthreads())\")\n",
    "# 最大スレッド数が1であると並列処理が体感できない\n",
    "\n",
    "# ループの先頭に @threads と指定するだけで,そのループはスレッドで実行される\n",
    "@threads for m = 1:9\n",
    "\tfor n = 1:6\n",
    "\t\tprintln(\"|($(m),$(n))| = $(hypot(m,n))\")\n",
    "\tend\n",
    "end\n",
    "# ループの末尾で自動的にスレッドの終了を待機する\n",
    "\n",
    "println(\"\\r\\n\")"
   ]
  }
 ],
 "metadata": {
  "kernelspec": {
   "display_name": "Julia 1.1.0",
   "language": "julia",
   "name": "julia-1.1"
  },
  "language_info": {
   "file_extension": ".jl",
   "mimetype": "application/julia",
   "name": "julia",
   "version": "1.1.0"
  }
 },
 "nbformat": 4,
 "nbformat_minor": 2
}
