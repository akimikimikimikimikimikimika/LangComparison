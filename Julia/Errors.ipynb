{
 "cells": [
  {
   "cell_type": "markdown",
   "metadata": {},
   "source": [
    "# 例外処理"
   ]
  },
  {
   "cell_type": "code",
   "execution_count": 1,
   "metadata": {},
   "outputs": [
    {
     "name": "stdout",
     "output_type": "stream",
     "text": [
      "エラーが発生しました\n",
      "エラー内容: ErrorException(\"あなたは過ちを犯した!!\")\n",
      "以上でエラーチェックを終了します\n"
     ]
    }
   ],
   "source": [
    "try\n",
    "\t# try節内で起こりうる例外は捕捉される\n",
    "\terror(\"あなたは過ちを犯した!!\") # 例外の発生 (例外が発生した時点で,それ以降の行は実行しない)\n",
    "\tthrow(ErrorException(\"あなたは過ちを犯した!!\")) # 前の式は同義\n",
    "\tprintln(\"この行は実行されない\")\n",
    "catch e\n",
    "\t# 例外をキャッチすればcatch節が実行される\n",
    "\tprintln(\"エラーが発生しました\")\n",
    "\tprintln(\"エラー内容: $(e)\")\n",
    "finally\n",
    "\t# 最後にfinally節が実行される\n",
    "\tprintln(\"以上でエラーチェックを終了します\")\n",
    "end"
   ]
  },
  {
   "cell_type": "markdown",
   "metadata": {},
   "source": [
    "* `try` に対応して,`catch` か `finally` のどちらか一方は最低限必要である"
   ]
  }
 ],
 "metadata": {
  "kernelspec": {
   "display_name": "Julia",
   "language": "julia",
   "name": "julia-1.3"
  },
  "language_info": {
   "file_extension": ".jl",
   "mimetype": "application/julia",
   "name": "julia",
   "version": "1.3.1"
  }
 },
 "nbformat": 4,
 "nbformat_minor": 4
}
