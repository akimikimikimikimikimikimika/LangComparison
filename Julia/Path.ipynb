{
 "cells": [
  {
   "cell_type": "markdown",
   "metadata": {},
   "source": [
    "# パス"
   ]
  },
  {
   "cell_type": "markdown",
   "metadata": {},
   "source": [
    "* ホームディレクトリ"
   ]
  },
  {
   "cell_type": "code",
   "execution_count": null,
   "metadata": {},
   "outputs": [],
   "source": [
    "homedir()"
   ]
  },
  {
   "cell_type": "markdown",
   "metadata": {},
   "source": [
    "* カレントディレクトリ"
   ]
  },
  {
   "cell_type": "code",
   "execution_count": null,
   "metadata": {},
   "outputs": [],
   "source": [
    "pwd()"
   ]
  },
  {
   "cell_type": "markdown",
   "metadata": {},
   "source": [
    "以下は,実際のJuliaファイルの場合に利用可能な変数\n",
    "\n",
    "* このファイルのフルパス\n",
    "```Julia\n",
    "@__FILE__\n",
    "```\n",
    "\n",
    "\n",
    "* このファイルの実行パス\n",
    "```Julia\n",
    "PROGRAM_FILE\n",
    "```\n",
    "\n",
    "\n",
    "* このファイルの名前\n",
    "```Julia\n",
    "basename(@__FILE__)\n",
    "```\n",
    "\n",
    "\n",
    "* このファイルのある場所\n",
    "```Julia\n",
    "@__DIR__\n",
    "```"
   ]
  }
 ],
 "metadata": {
  "kernelspec": {
   "display_name": "Julia",
   "language": "julia",
   "name": "julia-1.3"
  },
  "language_info": {
   "file_extension": ".jl",
   "mimetype": "application/julia",
   "name": "julia",
   "version": "1.3.1"
  }
 },
 "nbformat": 4,
 "nbformat_minor": 4
}
