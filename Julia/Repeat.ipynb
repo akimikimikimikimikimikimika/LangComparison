{
 "cells": [
  {
   "cell_type": "markdown",
   "metadata": {},
   "source": [
    "# 繰り返し処理"
   ]
  },
  {
   "cell_type": "markdown",
   "metadata": {},
   "source": [
    "* `for n = 0:2 … end`"
   ]
  },
  {
   "cell_type": "code",
   "execution_count": 1,
   "metadata": {},
   "outputs": [
    {
     "name": "stdout",
     "output_type": "stream",
     "text": [
      "n=0 のループ\n",
      "n=1 のループ\n",
      "n=2 のループ\n"
     ]
    }
   ],
   "source": [
    "for n = 0:2\n",
    "\tprintln(\"n=$(n) のループ\")\n",
    "end"
   ]
  },
  {
   "cell_type": "markdown",
   "metadata": {},
   "source": [
    "* `for n = 3.5:0.7:5 … end`"
   ]
  },
  {
   "cell_type": "code",
   "execution_count": 2,
   "metadata": {},
   "outputs": [
    {
     "name": "stdout",
     "output_type": "stream",
     "text": [
      "n=3.5 のループ\n",
      "n=4.2 のループ\n",
      "n=4.9 のループ\n"
     ]
    }
   ],
   "source": [
    "for n = 3.5:0.7:5\n",
    "\tprintln(\"n=$(n) のループ\")\n",
    "end"
   ]
  },
  {
   "cell_type": "markdown",
   "metadata": {},
   "source": [
    "* `for n = 0:2, m = n:2 … end`"
   ]
  },
  {
   "cell_type": "code",
   "execution_count": 3,
   "metadata": {},
   "outputs": [
    {
     "name": "stdout",
     "output_type": "stream",
     "text": [
      "n=0 m=0 のループ\n",
      "n=0 m=1 のループ\n",
      "n=0 m=2 のループ\n",
      "n=1 m=1 のループ\n",
      "n=1 m=2 のループ\n",
      "n=2 m=2 のループ\n"
     ]
    }
   ],
   "source": [
    "for n = 0:2, m = n:2\n",
    "\tprintln(\"n=$(n) m=$(m) のループ\")\n",
    "end"
   ]
  },
  {
   "cell_type": "markdown",
   "metadata": {},
   "source": [
    "* `for c ∈ array … end`"
   ]
  },
  {
   "cell_type": "code",
   "execution_count": 4,
   "metadata": {},
   "outputs": [
    {
     "name": "stdout",
     "output_type": "stream",
     "text": [
      "c='壱' のループ\n",
      "c='弐' のループ\n",
      "c='参' のループ\n"
     ]
    }
   ],
   "source": [
    "cs=[\"壱\",\"弐\",\"参\"]\n",
    "for c ∈ cs\n",
    "\tprintln(\"c='$(c)' のループ\")\n",
    "end"
   ]
  },
  {
   "cell_type": "markdown",
   "metadata": {},
   "source": [
    "`∈` の他に, `in` や `=` でもよい"
   ]
  },
  {
   "cell_type": "markdown",
   "metadata": {},
   "source": [
    "* `while ~ … end`"
   ]
  },
  {
   "cell_type": "code",
   "execution_count": 5,
   "metadata": {},
   "outputs": [
    {
     "name": "stdout",
     "output_type": "stream",
     "text": [
      "*\n",
      "**\n",
      "***\n",
      "****\n",
      "*****\n",
      "******\n"
     ]
    }
   ],
   "source": [
    "string=\"\"\n",
    "while length(string)<6\n",
    "\tglobal string\n",
    "\tstring*=\"*\"\n",
    "\tprintln(string)\n",
    "end"
   ]
  }
 ],
 "metadata": {
  "kernelspec": {
   "display_name": "Julia",
   "language": "julia",
   "name": "julia-1.3"
  },
  "language_info": {
   "file_extension": ".jl",
   "mimetype": "application/julia",
   "name": "julia",
   "version": "1.3.1"
  }
 },
 "nbformat": 4,
 "nbformat_minor": 4
}
