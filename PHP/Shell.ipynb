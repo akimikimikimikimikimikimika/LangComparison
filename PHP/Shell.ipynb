{
 "cells": [
  {
   "cell_type": "markdown",
   "metadata": {},
   "source": [
    "# シェル"
   ]
  },
  {
   "cell_type": "markdown",
   "metadata": {},
   "source": [
    "## 通常の実行"
   ]
  },
  {
   "cell_type": "code",
   "execution_count": null,
   "metadata": {},
   "outputs": [],
   "source": [
    "`ls -a`"
   ]
  },
  {
   "cell_type": "markdown",
   "metadata": {},
   "source": [
    "## 実行方法をカスタマイズ\n",
    "\n",
    "シェルを実行するためのいくつかの関数があり,ここではそれぞれを見ていく  \n",
    "- 実行内容を指定する方法によって,次のように区別できる\n",
    "\t* 文字列型  \n",
    "\t\t`\"ls -a\"` のようなもの  \n",
    "\t\tシェルで入力する文字列そのものである  \n",
    "\t\tスペースなどを含む引数は適宜エスケープが必要\n",
    "\t* 配列型  \n",
    "\t\t`[\"ls\",\"-a\"]` のようなもの  \n",
    "\t\t引数をエスケープせずにそのまま渡せる\n",
    "- `&`を前置するパラメータは,その変数に値が書き込まれる\n",
    "- `?`を後置するパラメータは,省略可能であることを示す"
   ]
  },
  {
   "cell_type": "markdown",
   "metadata": {},
   "source": [
    "### `passthru($cmdStr,&$code?)` -> `void`\n",
    "* stdin,stdout,stderr はインターセプトされない\n",
    "* 実行完了まで `passthru` より先には進まない\n",
    "* `$cmdStr` : 実行内容 (文字列型)\n",
    "* `$code` : 終了コードが変数に書き込まれる"
   ]
  },
  {
   "cell_type": "markdown",
   "metadata": {},
   "source": [
    "### `exec($cmdStr,&$stdOut?,&$code?)` -> `string`\n",
    "* stdout がインターセプトされる\n",
    "* stdin,stderr はインターセプトされない\n",
    "* 実行完了まで `exec` より先には進まない\n",
    "* `$cmdStr` : 実行内容 (文字列型)\n",
    "* `$code` : 終了コードが変数に書き込まれる\n",
    "* 戻り値 : stdout の最後の行"
   ]
  },
  {
   "cell_type": "markdown",
   "metadata": {},
   "source": [
    "### `system($cmdStr,&$code?)` -> `string`\n",
    "* stdin,stdout,stderr はインターセプトされない\n",
    "* 実行完了まで `system` より先には進まない\n",
    "* `$cmdStr` : 実行内容 (文字列型)\n",
    "* `$code` : 終了コードが変数に書き込まれる\n",
    "* 戻り値 : stdout の最後の行"
   ]
  },
  {
   "cell_type": "markdown",
   "metadata": {},
   "source": [
    "### `` `$cmdStr` `` -> `string`\n",
    "### `shell_exec($cmdStr)` -> `string`\n",
    "* stdout がインターセプトされる\n",
    "* stdin,stderr はインターセプトされない\n",
    "* 実行完了まで `shell_exec` より先には進まない\n",
    "* `$cmdStr` : 実行内容 (文字列型)\n",
    "* 戻り値 : stdout 全体\n",
    "* 出力がない場合,エラーで終了した場合は `null` が返される\n",
    "* シェルを介して実行される (`$cmdStr` の前に `sh -c` などが付加されて実行する)"
   ]
  },
  {
   "cell_type": "markdown",
   "metadata": {},
   "source": [
    "### `popen($cmdStr,\"r\")` -> `handler`\n",
    "* stdout がインターセプトされる\n",
    "* stdin,stderr はインターセプトされない\n",
    "* `popen` の時点ではプロセスは終了していないので, `fclose` や `pclose` を用いて終了を待つ必要がある\n",
    "* `$cmdStr` : 実行内容 (文字列型)\n",
    "* 戻り値 : 読み込みハンドラ\n",
    "* 使い方の例 (出力を1024バイト分読み取る)\n",
    "\t```PHP\n",
    "\t$io=popen(\"コマンド\",\"r\");\n",
    "\t$stdOut=fread($io,1024);\n",
    "\tfclose($io);\n",
    "\t```\n",
    "* 時間をおいて複数回出力されるおそれがある場合,その回数だけ `fclose` の前に `fread` を用意しておかないと全て受け取れない。逆に, `fread` が多すぎると,永遠に受け取りを試み続ける。"
   ]
  },
  {
   "cell_type": "markdown",
   "metadata": {},
   "source": [
    "### `popen($cmdStr,\"w\")` -> `handler`\n",
    "* stdin がインターセプトされる\n",
    "* stdout,stderr はインターセプトされない\n",
    "* `popen` の時点ではプロセスは終了していないので, `pclose` を用いて終了を待つ必要がある\n",
    "* `$cmdStr` : 実行内容 (文字列型)\n",
    "* 戻り値 : 書き込みハンドラ\n",
    "* 使い方の例 (出力を1024バイト分読み取る)\n",
    "\t```PHP\n",
    "\t$io=popen(\"コマンド\",\"w\");\n",
    "\tfwrite($io,$stdIn);\n",
    "\tfclose($io);\n",
    "\t```"
   ]
  },
  {
   "cell_type": "markdown",
   "metadata": {},
   "source": [
    "### `proc_open($cmd,$desc,&$pipes,$cwd?,$env?)` -> `resource`\n",
    "* stdin,stdout,stderr はインターセプトされない (`$desc`で変更可能)\n",
    "* `proc_open` の時点ではプロセスは終了していないので, `proc_close` を用いて終了を待つ必要があるΩ\n",
    "* `$cmd` : 実行内容 (文字列型/配列型)\n",
    "`$desc` : IOの制御を指定する配列  \n",
    "\t`[stdinの指定,stdoutの指定,stderrの指定]` の形式で指定する  \n",
    "\t指定可能な値は次のとおり\n",
    "\t* `$desc[0]`\n",
    "\t\t* `[\"pipe\",\"r\"]` … `$pipes` からハンドラで文字列を書き込む\n",
    "\t\t* `[\"file\",\"php://stdin\",\"r\"]` … 親プロセスのstdinに接続\n",
    "\t\t* `[\"file\",\"パス\",\"r\"]` … ファイルから読み込む\n",
    "\t\t* `[\"file\",\"/dev/null\",\"r\"]` … 空の入力\n",
    "\t\t* ハンドラ … 別のプロセスや `fopen` で開いたファイルハンドラから読み込む (パイプ)\n",
    "\t* `$desc[1]`,`$desc[2]`\n",
    "\t\t* `[\"pipe\",\"w\"]` … `$pipes` からハンドラで文字列を受け取れる\n",
    "\t\t* `[\"file\",\"php://stdout\",\"w\"]` … 親プロセスのstdoutに接続\n",
    "\t\t* `[\"file\",\"php://stderr\",\"w\"]` … 親プロセスのstderrに接続\n",
    "\t\t* `[\"file\",\"パス\",\"w\"]` … ファイルに書き込む\n",
    "\t\t* `[\"file\",\"/dev/null\",\"w\"]` … 出力を破棄\n",
    "\t\t* ハンドラ … 別のプロセスや `fopen` で開いたファイルハンドラに書き込む (パイプ)\n",
    "* `$pipes` : pipeにしたIOのハンドラの配列が書き込まれる\n",
    "\t* `$pipes[0]` がstdinの書き込みハンドラ, `$pipes[1]`,`$pipes[2]` がstdout,stderr の読み込みハンドラ\n",
    "\t* popenの時と同じように読み込みや書き込むができる\n",
    "\t* `$pipes` のハンドラを別の `proc_open` の `$desc` に渡せば2つのプロセスの間でパイプが作れる\n",
    "* `$cwd` : カレントディレクトリを指定  \n",
    "\t指定しなければ現在のカレントディレクトリを使用\n",
    "* `$env` : 環境変数の連想配列  \n",
    "\t指定しなければ現在の環境変数を使用\n",
    "* 戻り値 : リソース\n",
    "\t実行に失敗すれば `false` が返される\n",
    "\t終了後に必ず `proc_close` をする。`proc_close` から終了コードが得られる。\n",
    "\t`proc_get_status` よりプロセスの情報が得られる\n",
    "* `proc_get_status(リソース)` ->\n",
    "\t```PHP\n",
    "\t[\n",
    "\t\tcommand=>string # 実行コマンド\n",
    "\t\tpid=>int # プロセスID\n",
    "\t\texitcode=>int # 終了コード\n",
    "\t\trunning=>bool # まだ実行中かどうか\n",
    "\t]\n",
    "\t```\n",
    "* 使い方の例\n",
    "\t```PHP\n",
    "\t$res=proc_open(\n",
    "\t\t[\"コマンド\",\"arg1\",\"arg2\"],\n",
    "\t\t[0=>[\"pipe\",\"w\"],1=>STDOUT,2=>[\"file\",\"/dev/null\",\"w\"]],\n",
    "\t\t$pipes\n",
    "\t);\n",
    "\tif (is_resource($res)) {\n",
    "\t\tfwrite($pipes[0],$stdIn);\n",
    "\t\tfclose($pipes[0]);\n",
    "\t\t$code=proc_close($res);\n",
    "\t}\n",
    "\t```"
   ]
  }
 ],
 "metadata": {
  "kernelspec": {
   "display_name": "PHP",
   "language": "php",
   "name": "jupyter-php"
  },
  "language_info": {
   "file_extension": ".php",
   "mimetype": "text/x-php",
   "name": "PHP",
   "pygments_lexer": "PHP",
   "version": "7.4.9"
  }
 },
 "nbformat": 4,
 "nbformat_minor": 4
}