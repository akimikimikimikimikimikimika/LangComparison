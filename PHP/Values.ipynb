{
 "cells": [
  {
   "cell_type": "markdown",
   "metadata": {},
   "source": [
    "# 色々な値"
   ]
  },
  {
   "cell_type": "code",
   "execution_count": 6,
   "metadata": {},
   "outputs": [
    {
     "data": {
      "text/plain": [
       "\"\u001b[32mピーエイチピー\u001b[39m\""
      ]
     },
     "execution_count": 6,
     "metadata": {},
     "output_type": "execute_result"
    }
   ],
   "source": [
    "$string = \"ピーエイチピー\";\n",
    "$string"
   ]
  },
  {
   "cell_type": "markdown",
   "metadata": {},
   "source": [
    "- 変数展開/式展開の仕方\n",
    "\n",
    "```PHP\n",
    "\"The value is $val\"\n",
    "\"The value is {$val}\"\n",
    "\"The value is {$i($val*2)}\"\n",
    "```\n",
    "\n",
    "\t但し,3つ目の記法を用いる際には,\n",
    "```PHP\n",
    "$i = function($v){return $v;};\n",
    "```\n",
    "\tなどとして,恒等関数を定義しなければならない\n",
    "    \n",
    "- 改行文字\n",
    "\n",
    "```PHP\n",
    "PHP_EOL\n",
    "```"
   ]
  },
  {
   "cell_type": "markdown",
   "metadata": {},
   "source": [
    "### 複数行"
   ]
  },
  {
   "cell_type": "code",
   "execution_count": 7,
   "metadata": {},
   "outputs": [
    {
     "data": {
      "text/plain": [
       "\"\"\"\n",
       "\u001b[32mFirst line\u001b[39m\\n\n",
       "\u001b[32mSecond line\u001b[39m\\n\n",
       "\u001b[32mThird line\u001b[39m\n",
       "\"\"\""
      ]
     },
     "execution_count": 7,
     "metadata": {},
     "output_type": "execute_result"
    }
   ],
   "source": [
    "$lines = <<< Lines\n",
    "First line\n",
    "Second line\n",
    "Third line\n",
    "Lines;\n",
    "$lines"
   ]
  },
  {
   "cell_type": "markdown",
   "metadata": {},
   "source": [
    "* 先頭の `<<< Lines` から末尾の `Lines` までを1つのオブジェクトとして扱う\n",
    "\t```PHP\n",
    "\t# 正しい書き方 (関数someFunctionに渡す例)\n",
    "\tsomeFunction(<<< \"multiline\"\n",
    "\tFirst line\n",
    "\tSecond line\n",
    "\tThird line\n",
    "\tmultiline)\n",
    "\t# 間違った書き方\n",
    "\tsomeFunction(<<< \"multiline\")\n",
    "\tFirst line\n",
    "\tSecond line\n",
    "\tThird line\n",
    "\tmultiline\n",
    "\t```"
   ]
  },
  {
   "cell_type": "markdown",
   "metadata": {},
   "source": [
    "## 数値"
   ]
  },
  {
   "cell_type": "code",
   "execution_count": 4,
   "metadata": {},
   "outputs": [
    {
     "data": {
      "text/plain": [
       "\u001b[35m6\u001b[39m"
      ]
     },
     "execution_count": 4,
     "metadata": {},
     "output_type": "execute_result"
    }
   ],
   "source": [
    "$integer = 6;\n",
    "$integer"
   ]
  },
  {
   "cell_type": "code",
   "execution_count": 5,
   "metadata": {},
   "outputs": [
    {
     "data": {
      "text/plain": [
       "\u001b[35m3.75E-8\u001b[39m"
      ]
     },
     "execution_count": 5,
     "metadata": {},
     "output_type": "execute_result"
    }
   ],
   "source": [
    "$float = .0375e-6;\n",
    "$float"
   ]
  },
  {
   "cell_type": "markdown",
   "metadata": {},
   "source": [
    "## 真偽値"
   ]
  },
  {
   "cell_type": "code",
   "execution_count": 9,
   "metadata": {},
   "outputs": [
    {
     "data": {
      "text/plain": [
       "\u001b[36mtrue\u001b[39m"
      ]
     },
     "execution_count": 9,
     "metadata": {},
     "output_type": "execute_result"
    }
   ],
   "source": [
    "$boolean = true;\n",
    "$boolean"
   ]
  },
  {
   "cell_type": "markdown",
   "metadata": {},
   "source": [
    "## 値なし"
   ]
  },
  {
   "cell_type": "code",
   "execution_count": 10,
   "metadata": {},
   "outputs": [
    {
     "data": {
      "text/plain": [
       "\u001b[36mnull\u001b[39m"
      ]
     },
     "execution_count": 10,
     "metadata": {},
     "output_type": "execute_result"
    }
   ],
   "source": [
    "$none = null;\n",
    "$none"
   ]
  },
  {
   "cell_type": "code",
   "execution_count": 11,
   "metadata": {},
   "outputs": [
    {
     "data": {
      "text/plain": [
       "[\n",
       "  \u001b[35m1\u001b[39m,\n",
       "  \"\u001b[32msecond\u001b[39m\",\n",
       "  \u001b[35m3\u001b[39m,\n",
       "  \u001b[35m3.14\u001b[39m,\n",
       "  \u001b[36mfalse\u001b[39m,\n",
       "]"
      ]
     },
     "execution_count": 11,
     "metadata": {},
     "output_type": "execute_result"
    }
   ],
   "source": [
    "$array = [1,\"second\",3,3.14,FALSE];\n",
    "$array = array(1,\"second\",3,3.14,FALSE); # 同じ\n",
    "$array"
   ]
  },
  {
   "cell_type": "markdown",
   "metadata": {},
   "source": [
    "## 連想配列"
   ]
  },
  {
   "cell_type": "code",
   "execution_count": null,
   "metadata": {},
   "outputs": [],
   "source": [
    "$array = [\"a\"=>1,\"b\"=>\"second\",\"c\"=>3,\"d\"=>3.14,\"e\"=>FALSE];\n",
    "$array = array(\"a\"=>1,\"b\"=>\"second\",\"c\"=>3,\"d\"=>3.14,\"e\"=>FALSE); # 同じ\n",
    "$array"
   ]
  },
  {
   "cell_type": "markdown",
   "metadata": {},
   "source": [
    "## 範囲"
   ]
  },
  {
   "cell_type": "code",
   "execution_count": 12,
   "metadata": {},
   "outputs": [
    {
     "data": {
      "text/plain": [
       "[\n",
       "  \u001b[35m5\u001b[39m,\n",
       "  \u001b[35m6\u001b[39m,\n",
       "  \u001b[35m7\u001b[39m,\n",
       "  \u001b[35m8\u001b[39m,\n",
       "]"
      ]
     },
     "execution_count": 12,
     "metadata": {},
     "output_type": "execute_result"
    }
   ],
   "source": [
    "$ranI = range(5,8); # 5≦x≦8\n",
    "$ranI"
   ]
  },
  {
   "cell_type": "markdown",
   "metadata": {},
   "source": [
    "## 変数の宣言\n",
    "\n",
    "### 変数\n",
    "```PHP\n",
    "$x = 6;\n",
    "```\n",
    "関数内で外の変数を利用するには,関数内で `global $x;` のように宣言する。\n",
    "\n",
    "### 定数\n",
    "```PHP\n",
    "const x = 6;\n",
    "define(\"x\",6);\n",
    "```"
   ]
  },
  {
   "cell_type": "markdown",
   "metadata": {},
   "source": [
    "## 型判定\n",
    "* `gettype($val)` -> `string` : 型を示す  \n",
    "\t`\"string\"`,`\"integer\"`,`\"double\"`,`\"array\"`,`\"object\"`,`\"resource\"`,`\"resource (closed)\"`,`\"NULL\"`,`\"unknown type\"` のいづれか\n",
    "* `is_string`,`is_int`,`is_float`,`is_bool`,`is_array`,`is_object`,`is_resource`,`is_null` -> `bool` : 各々の型であるかどうかの判定\n",
    "* `is_numeric($val)` -> `bool` : 数値/数値形式の文字列は真\n",
    "* `is_scalar($val)` -> `bool` : `string`,`integer`,`float`,`boolean` は真\n",
    "* `is_callable($val)` -> `bool` : 無名関数なら真\n",
    "* `get_class($val)` -> `string` : `object`のクラスを示す  \n",
    "\t`object` 以外では使えない\n",
    "* `function_exists($name)` -> `bool` : 名前が `$name` の関数が存在するかどうか"
   ]
  },
  {
   "cell_type": "markdown",
   "metadata": {},
   "source": [
    "## 型変換\n",
    "\n",
    "### 型キャスト\n",
    "* `(string)6` などの形で値に強制的に別の型を当てはめる\n",
    "* `string`,`integer`,`float`,`boolean`,`array`,`object` が利用可能\n",
    "\n",
    "### `settype(&$var,$type)` -> `bool`\n",
    "* 変数 `$var` の型を書き換える\n",
    "* 緩やかに型変換ができる\n",
    "* `$type` には `\"string\"`,`\"integer\"`,`\"float\"`,`\"boolean\"`,`\"array\"`,`\"object\"` が利用可能\n",
    "* 変換に成功したら `true` ,失敗したら `false` を返す\n",
    "\n",
    "### `strval($var)`,`intval($var)`,`floatval($var)`,`boolval($var)`\n",
    "* スカラ値をそれぞれの型に変換する"
   ]
  }
 ],
 "metadata": {
  "kernelspec": {
   "display_name": "PHP",
   "language": "php",
   "name": "jupyter-php"
  },
  "language_info": {
   "file_extension": ".php",
   "mimetype": "text/x-php",
   "name": "PHP",
   "pygments_lexer": "PHP",
   "version": "7.4.8"
  }
 },
 "nbformat": 4,
 "nbformat_minor": 4
}
