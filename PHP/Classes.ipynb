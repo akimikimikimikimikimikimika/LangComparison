{
 "cells": [
  {
   "cell_type": "markdown",
   "metadata": {},
   "source": [
    "# クラス"
   ]
  },
  {
   "cell_type": "markdown",
   "metadata": {},
   "source": [
    "## クラス定義1 (Vector)"
   ]
  },
  {
   "cell_type": "code",
   "execution_count": 1,
   "metadata": {},
   "outputs": [],
   "source": [
    "class Vector {\n",
    "\n",
    "\t# クラス変数\n",
    "\tpublic const VERSION = \"1.0\";\n",
    "\t\t# クラス内で共有される値\n",
    "\t\t# 書き換え不可 (const)\n",
    "\t\t# メソッド内から VERSION でアクセス可能\n",
    "\t\t# 継承クラスからはアクセス不可\n",
    "\t\t# 外部から Vector::description でアクセス可能\n",
    "\n",
    "\t# クラス変数\n",
    "\tprivate static $description = \"PHP simple vector class\";\n",
    "\t\t# クラス内で共有される値\n",
    "\t\t# 書き換え可能\n",
    "\t\t# メソッド内から Vector::description でアクセス可能\n",
    "\t\t# 継承クラスからはアクセス不可\n",
    "\t\t# 外部からはアクセス不可 (private)\n",
    "\n",
    "\t# インスタンス変数\n",
    "\tpublic $x=0;public $y=0;public $z=0;\n",
    "\t\t# 各インスタンス毎に異なる値\n",
    "\t\t# インスタンスメソッド内のみから $this->x でアクセス可能\n",
    "\t\t# 外部から $v->x でアクセス可能\n",
    "\n",
    "\t# イニシャライザ/コンストラクタ\n",
    "\tpublic function __construct($x,$y,$z) {\n",
    "\t\t$this->x = $x;\n",
    "\t\t$this->y = $y;\n",
    "\t\t$this->z = $z;\n",
    "\t\t# 戻り値を用意せずとも,インスタンスが返される\n",
    "\t}\n",
    "\n",
    "\t# インスタンスの説明\n",
    "\tpublic function desc() {\n",
    "\t\treturn \"($this->x,$this->y,$this->z)\";\n",
    "\t}\n",
    "\n",
    "\t# 足し算を定義\n",
    "\n",
    "\t# インスタンスメソッド版 (自分自身に足し合わせていく)\n",
    "\tpublic function add(...$args) {\n",
    "\t\tforeach ($args as $v) {\n",
    "\t\t\t$this->x += $v->x;\n",
    "\t\t\t$this->y += $v->y;\n",
    "\t\t\t$this->z += $v->z;\n",
    "\t\t}\n",
    "\t\treturn $this;\n",
    "\t}\n",
    "\n",
    "\t# クラスメソッド版 (引数のVectorを足し合わせた結果を返す)\n",
    "\t\t# クラスメソッドでは function の前に static を付加する\n",
    "\tpublic static function added(...$args) {\n",
    "\t\t$a=new Vector(0,0,0);\n",
    "\t\tforeach ($args as $v) {\n",
    "\t\t\t$a->x += $v->x;\n",
    "\t\t\t$a->y += $v->y;\n",
    "\t\t\t$a->z += $v->z;\n",
    "\t\t}\n",
    "\t\treturn $a;\n",
    "\t}\n",
    "\n",
    "\t# スカラ倍を定義 (共にインスタンスメソッド)\n",
    "\n",
    "\t# 自分自身を実数倍\n",
    "\tpublic function coefMultiply($k) {\n",
    "\t\t$this->x *= $k;\n",
    "\t\t$this->y *= $k;\n",
    "\t\t$this->z *= $k;\n",
    "\t\treturn $this;\n",
    "\t}\n",
    "\n",
    "\t# 自分自身の実数倍のVectorを生成\n",
    "\tpublic function coefMultiplied($k) {\n",
    "\t\treturn new Vector($this->x*$k,$this->y*$k,$this->z*$k);\n",
    "\t}\n",
    "\n",
    "\t# メソッド内で $description を呼ぶ\n",
    "\tpublic static function describe() {\n",
    "\t\treturn Vector::$description;\n",
    "\t}\n",
    "\n",
    "}"
   ]
  },
  {
   "cell_type": "markdown",
   "metadata": {},
   "source": [
    "メソッド内で,インスタンス自身/クラス自身は, `$this` から呼び出す"
   ]
  },
  {
   "cell_type": "markdown",
   "metadata": {},
   "source": [
    "## クラス定義2 (ExtendedVector inherits from Vector)"
   ]
  },
  {
   "cell_type": "code",
   "execution_count": 2,
   "metadata": {},
   "outputs": [],
   "source": [
    "class ExtendedVector extends Vector { # 継承宣言\n",
    "\n",
    "\tpublic function __construct($x,$y,$z) {\n",
    "\t\t$this->x = $x;\n",
    "\t\t$this->y = $y;\n",
    "\t\t$this->z = $z;\n",
    "\t}\n",
    "\n",
    "\t# 内積を定義\n",
    "\tpublic function dot($v) {\n",
    "\t\t$p=0;\n",
    "\t\t$p += $this->x*$v->x;\n",
    "\t\t$p += $this->y*$v->y;\n",
    "\t\t$p += $this->z*$v->z;\n",
    "\t\treturn $p;\n",
    "\t}\n",
    "\n",
    "\t# 外積を定義\n",
    "\tpublic function cross($v) {\n",
    "\t\treturn new Vector(\n",
    "\t\t\t$this->y*$v->z-$this->z*$v->y,\n",
    "\t\t\t$this->z*$v->x-$this->x*$v->z,\n",
    "\t\t\t$this->x*$v->y-$this->y*$v->x\n",
    "\t\t);\n",
    "\t}\n",
    "\n",
    "\t# ノルムを定義\n",
    "\tpublic function norm() {\n",
    "\t\treturn sqrt($this->dot($this));\n",
    "\t}\n",
    "\n",
    "\t# 説明できないはず (実行するとエラーになる)\n",
    "\tpublic static function describeFromSub() {\n",
    "\t\treturn ExtendedVector::$description;\n",
    "\t}\n",
    "\n",
    "\t# プライベートメソッド (外部からアクセスできない)\n",
    "\t# 単位ベクトルに変換\n",
    "\tprivate function normalize() {\n",
    "\t\treturn $this->coefMultiply(1/$this->norm());\n",
    "\t}\n",
    "\n",
    "}"
   ]
  },
  {
   "cell_type": "markdown",
   "metadata": {},
   "source": [
    "## クラスの利用"
   ]
  },
  {
   "cell_type": "code",
   "execution_count": 3,
   "metadata": {},
   "outputs": [
    {
     "data": {
      "text/plain": [
       "Closure($v) {#239 …4}"
      ]
     },
     "execution_count": 3,
     "metadata": {},
     "output_type": "execute_result"
    }
   ],
   "source": [
    "$vec1 = new Vector(3,2,1);\n",
    "$vec2 = new ExtendedVector(6,4,2);\n",
    "$vec3 = new ExtendedVector(54,63,72);\n",
    "$vec4 = new Vector(0,0,0);\n",
    "\n",
    "# 値の設定\n",
    "$vec3->x = 16;\n",
    "\n",
    "$i = function($v){return print_r($v,TRUE);};"
   ]
  },
  {
   "cell_type": "code",
   "execution_count": 4,
   "metadata": {},
   "outputs": [
    {
     "data": {
      "text/plain": [
       "\n",
       "vec1: O:6:\"Vector\":3:{s:1:\"x\";i:3;s:1:\"y\";i:2;s:1:\"z\";i:1;}\n",
       "vec2: O:14:\"ExtendedVector\":3:{s:1:\"x\";i:6;s:1:\"y\";i:4;s:1:\"z\";i:2;}\n",
       "\n",
       "vec1の説明: (3,2,1)\n",
       "vec2の説明: (6,4,2)\n",
       "vec3の説明: (16,63,72)\n",
       "vec4の説明: (0,0,0)\n",
       "\n",
       "vec1のx座標: 3\n",
       "vec2のy座標: 4\n",
       "vec3のz座標: 72\n",
       "\n",
       "vec1+vec2+vec3: (25,69,75)\n",
       "vec4+vec2: (6,4,2)\n",
       "vec2×12: (72,48,24)\n",
       "\n",
       "vec2∙vec3: 492\n",
       "vec3×vec2: (-162,400,-314)\n",
       "|vec3|:    97\n",
       "\n",
       "説明してもらう:\n",
       "PHP simple vector class\n",
       "PHP simple vector class\n",
       "\n",
       "バージョン表示:\n",
       "1.0\n",
       "1.0\n",
       "\n"
      ]
     },
     "execution_count": 4,
     "metadata": {},
     "output_type": "execute_result"
    },
    {
     "data": {
      "text/plain": [
       "1"
      ]
     },
     "execution_count": 4,
     "metadata": {},
     "output_type": "execute_result"
    }
   ],
   "source": [
    "print(<<<\"Class\"\n",
    "\n",
    "vec1: {$i(   serialize($vec1)   )}\n",
    "vec2: {$i(   serialize($vec2)   )}\n",
    "\n",
    "vec1の説明: {$i(   $vec1->desc()   )}\n",
    "vec2の説明: {$i(   $vec2->desc()   )}\n",
    "vec3の説明: {$i(   $vec3->desc()   )}\n",
    "vec4の説明: {$i(   $vec4->desc()   )}\n",
    "\n",
    "vec1のx座標: {$i(   $vec1->x   )}\n",
    "vec2のy座標: {$i(   $vec2->y   )}\n",
    "vec3のz座標: {$i(   $vec3->z   )}\n",
    "\n",
    "vec1+vec2+vec3: {$i(   Vector::added($vec1,$vec2,$vec3)->desc()   )}\n",
    "vec4+vec2: {$i(   $vec4->add($vec2)->desc()   )}\n",
    "vec2×12: {$i(   $vec2->coefMultiplied(12)->desc()   )}\n",
    "\n",
    "vec2∙vec3: {$i(   $vec2->dot($vec3)   )}\n",
    "vec3×vec2: {$i(   $vec3->cross($vec2)->desc()   )}\n",
    "|vec3|:    {$i(   $vec3->norm()   )}\n",
    "\n",
    "説明してもらう:\n",
    "{$i(   Vector::describe()   )}\n",
    "{$i(   $vec1->describe()   )}\n",
    "\n",
    "バージョン表示:\n",
    "{$i(   Vector::VERSION   )}\n",
    "{$i(   ExtendedVector::VERSION   )}\n",
    "\n",
    "Class);"
   ]
  }
 ],
 "metadata": {
  "kernelspec": {
   "display_name": "PHP",
   "language": "php",
   "name": "jupyter-php"
  },
  "language_info": {
   "file_extension": ".php",
   "mimetype": "text/x-php",
   "name": "PHP",
   "pygments_lexer": "PHP",
   "version": "7.4.9"
  }
 },
 "nbformat": 4,
 "nbformat_minor": 4
}