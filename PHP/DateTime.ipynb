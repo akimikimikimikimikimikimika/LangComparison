{
 "cells": [
  {
   "cell_type": "markdown",
   "metadata": {},
   "source": [
    "# 日付と時刻"
   ]
  },
  {
   "cell_type": "code",
   "execution_count": 1,
   "metadata": {},
   "outputs": [
    {
     "data": {
      "text/plain": [
       "\u001b[35m1207375053.9199\u001b[39m"
      ]
     },
     "execution_count": 1,
     "metadata": {},
     "output_type": "execute_result"
    }
   ],
   "source": [
    "$st=microtime(true)"
   ]
  },
  {
   "cell_type": "markdown",
   "metadata": {},
   "source": [
    "* `microtime(true)`  \n",
    "\t通常の精度  \n",
    "\t現在時刻を表す秒単位の数値 (マイクロ秒までの精度がある)\n",
    "* `hrtime(true)`  \n",
    "\t高精度  \n",
    "\t現在時刻を表すナノ秒単位の数値"
   ]
  },
  {
   "cell_type": "markdown",
   "metadata": {},
   "source": [
    "## 時刻オブジェクト"
   ]
  },
  {
   "cell_type": "markdown",
   "metadata": {},
   "source": [
    "* 現在ローカル時刻"
   ]
  },
  {
   "cell_type": "code",
   "execution_count": 2,
   "metadata": {},
   "outputs": [
    {
     "data": {
      "text/plain": [
       "\u001b[34;4mDateTime @1207375053\u001b[39;24m {#142\n",
       "  \u001b[34mdate\u001b[39m: \u001b[36m2008-04-05 14:57:33.958598 Asia/Tokyo (+09:00)\u001b[39m,\n",
       "}"
      ]
     },
     "execution_count": 2,
     "metadata": {},
     "output_type": "execute_result"
    }
   ],
   "source": [
    "new DateTime(\"now\")"
   ]
  },
  {
   "cell_type": "code",
   "execution_count": 3,
   "metadata": {},
   "outputs": [
    {
     "data": {
      "text/plain": [
       "\u001b[35m1207375053\u001b[39m"
      ]
     },
     "execution_count": 3,
     "metadata": {},
     "output_type": "execute_result"
    }
   ],
   "source": [
    "time()"
   ]
  },
  {
   "cell_type": "markdown",
   "metadata": {},
   "source": [
    "* 現在UTC時刻"
   ]
  },
  {
   "cell_type": "code",
   "execution_count": 4,
   "metadata": {},
   "outputs": [
    {
     "data": {
      "text/plain": [
       "\u001b[34;4mDateTime @1207375053\u001b[39;24m {#191\n",
       "  \u001b[34mdate\u001b[39m: \u001b[36m2008-04-05 05:57:33.961384 UTC (+00:00)\u001b[39m,\n",
       "}"
      ]
     },
     "execution_count": 4,
     "metadata": {},
     "output_type": "execute_result"
    }
   ],
   "source": [
    "new DateTime(\"now\",new DateTimeZone(\"UTC\"))"
   ]
  },
  {
   "cell_type": "markdown",
   "metadata": {},
   "source": [
    "* カスタム時刻"
   ]
  },
  {
   "cell_type": "code",
   "execution_count": 5,
   "metadata": {},
   "outputs": [
    {
     "data": {
      "text/plain": [
       "\u001b[34;4mDateTime @802572072\u001b[39;24m {#196\n",
       "  \u001b[34mdate\u001b[39m: \u001b[36m1995-06-08 09:41:12.345678 Asia/Tokyo (+09:00)\u001b[39m,\n",
       "}"
      ]
     },
     "execution_count": 5,
     "metadata": {},
     "output_type": "execute_result"
    }
   ],
   "source": [
    "new DateTime(\"1995-6-8 9:41:12.345678\")"
   ]
  },
  {
   "cell_type": "code",
   "execution_count": 6,
   "metadata": {},
   "outputs": [
    {
     "data": {
      "text/plain": [
       "\u001b[35m802572072\u001b[39m"
      ]
     },
     "execution_count": 6,
     "metadata": {},
     "output_type": "execute_result"
    }
   ],
   "source": [
    "mktime(9,41,12,6,8,1995)"
   ]
  },
  {
   "cell_type": "markdown",
   "metadata": {},
   "source": [
    "## 様々な書式"
   ]
  },
  {
   "cell_type": "code",
   "execution_count": 7,
   "metadata": {},
   "outputs": [
    {
     "data": {
      "text/plain": [
       "\u001b[34;4mDateTime @1207375053\u001b[39;24m {#195\n",
       "  \u001b[34mdate\u001b[39m: \u001b[36m2008-04-05 14:57:33.964154 Asia/Tokyo (+09:00)\u001b[39m,\n",
       "}"
      ]
     },
     "execution_count": 7,
     "metadata": {},
     "output_type": "execute_result"
    }
   ],
   "source": [
    "$dt=new DateTime();"
   ]
  },
  {
   "cell_type": "markdown",
   "metadata": {},
   "source": [
    "* ATOM"
   ]
  },
  {
   "cell_type": "code",
   "execution_count": 8,
   "metadata": {},
   "outputs": [
    {
     "data": {
      "text/plain": [
       "\"\u001b[32m2008-04-05T14:57:33+09:00\u001b[39m\""
      ]
     },
     "execution_count": 8,
     "metadata": {},
     "output_type": "execute_result"
    }
   ],
   "source": [
    "$dt->format(DateTime::ATOM)"
   ]
  },
  {
   "cell_type": "markdown",
   "metadata": {},
   "source": [
    "* Cookie"
   ]
  },
  {
   "cell_type": "code",
   "execution_count": 9,
   "metadata": {},
   "outputs": [
    {
     "data": {
      "text/plain": [
       "\"\u001b[32mSaturday, 05-Apr-2008 14:57:33 JST\u001b[39m\""
      ]
     },
     "execution_count": 9,
     "metadata": {},
     "output_type": "execute_result"
    }
   ],
   "source": [
    "$dt->format(DateTime::COOKIE)"
   ]
  },
  {
   "cell_type": "markdown",
   "metadata": {},
   "source": [
    "* ISO-8601"
   ]
  },
  {
   "cell_type": "code",
   "execution_count": 10,
   "metadata": {},
   "outputs": [
    {
     "data": {
      "text/plain": [
       "\"\u001b[32m2008-04-05T14:57:33+0900\u001b[39m\""
      ]
     },
     "execution_count": 10,
     "metadata": {},
     "output_type": "execute_result"
    }
   ],
   "source": [
    "$dt->format(DateTime::ISO8601)"
   ]
  },
  {
   "cell_type": "markdown",
   "metadata": {},
   "source": [
    "* RFC 822"
   ]
  },
  {
   "cell_type": "code",
   "execution_count": 11,
   "metadata": {},
   "outputs": [
    {
     "data": {
      "text/plain": [
       "\"\u001b[32mSat, 05 Apr 08 14:57:33 +0900\u001b[39m\""
      ]
     },
     "execution_count": 11,
     "metadata": {},
     "output_type": "execute_result"
    }
   ],
   "source": [
    "$dt->format(DateTime::RFC822)"
   ]
  },
  {
   "cell_type": "markdown",
   "metadata": {},
   "source": [
    "* RFC 1036"
   ]
  },
  {
   "cell_type": "code",
   "execution_count": 12,
   "metadata": {},
   "outputs": [
    {
     "data": {
      "text/plain": [
       "\"\u001b[32mSat, 05 Apr 08 14:57:33 +0900\u001b[39m\""
      ]
     },
     "execution_count": 12,
     "metadata": {},
     "output_type": "execute_result"
    }
   ],
   "source": [
    "$dt->format(DateTime::RFC1036)"
   ]
  },
  {
   "cell_type": "markdown",
   "metadata": {},
   "source": [
    "* RFC 1123"
   ]
  },
  {
   "cell_type": "code",
   "execution_count": 13,
   "metadata": {},
   "outputs": [
    {
     "data": {
      "text/plain": [
       "\"\u001b[32mSat, 05 Apr 2008 14:57:33 +0900\u001b[39m\""
      ]
     },
     "execution_count": 13,
     "metadata": {},
     "output_type": "execute_result"
    }
   ],
   "source": [
    "$dt->format(DateTime::RFC1123)"
   ]
  },
  {
   "cell_type": "markdown",
   "metadata": {},
   "source": [
    "* RFC 2822"
   ]
  },
  {
   "cell_type": "code",
   "execution_count": 14,
   "metadata": {},
   "outputs": [
    {
     "data": {
      "text/plain": [
       "\"\u001b[32mSat, 05 Apr 2008 14:57:33 +0900\u001b[39m\""
      ]
     },
     "execution_count": 14,
     "metadata": {},
     "output_type": "execute_result"
    }
   ],
   "source": [
    "$dt->format(DateTime::RFC2822)"
   ]
  },
  {
   "cell_type": "markdown",
   "metadata": {},
   "source": [
    "* RSS"
   ]
  },
  {
   "cell_type": "code",
   "execution_count": 15,
   "metadata": {},
   "outputs": [
    {
     "data": {
      "text/plain": [
       "\"\u001b[32mSat, 05 Apr 2008 14:57:33 +0900\u001b[39m\""
      ]
     },
     "execution_count": 15,
     "metadata": {},
     "output_type": "execute_result"
    }
   ],
   "source": [
    "$dt->format(DateTime::RSS)"
   ]
  },
  {
   "cell_type": "markdown",
   "metadata": {},
   "source": [
    "* W3C"
   ]
  },
  {
   "cell_type": "code",
   "execution_count": 16,
   "metadata": {},
   "outputs": [
    {
     "data": {
      "text/plain": [
       "\"\u001b[32m2008-04-05T14:57:33+09:00\u001b[39m\""
      ]
     },
     "execution_count": 16,
     "metadata": {},
     "output_type": "execute_result"
    }
   ],
   "source": [
    "$dt->format(DateTime::W3C)"
   ]
  },
  {
   "cell_type": "markdown",
   "metadata": {},
   "source": [
    "## フォーマット"
   ]
  },
  {
   "cell_type": "code",
   "execution_count": 17,
   "metadata": {},
   "outputs": [
    {
     "data": {
      "text/plain": [
       "year        Y : 2008\n",
       "            y : 08\n",
       "            o : 2008\n",
       "isleapyear  L : 1\n",
       "month       F : April\n",
       "            M : Apr\n",
       "            m : 04\n",
       "            n : 4\n",
       "day         d : 05\n",
       "            j : 5\n",
       "           jS : 5th\n",
       "weekday     D : Sat\n",
       "            l : Saturday\n",
       "            N : 6 (1:Mon ~ 7:Sun)\n",
       "            w : 6 (0:Sun ~ 6:Sat)\n",
       "days/month  t : 30\n",
       "day/year    z : 95\n",
       "week/year   W : 14\n",
       "hour        G : 14 ( 0~23)\n",
       "            H : 14 (00~23)\n",
       "            g : 2 ( 1~12)\n",
       "            h : 02 (01~12)\n",
       "am/pm       a : pm\n",
       "            A : PM\n",
       "minute      i : 57\n",
       "second      s : 33\n",
       "milli       v : 958\n",
       "milli+micro u : 958598\n",
       "Swatch Beat B : 289\n",
       "timezone    e : Asia/Tokyo\n",
       "            T : JST\n",
       "            O : +0900\n",
       "            P : +09:00\n",
       "            Z : 32400\n",
       "onDST       I : 0\n"
      ]
     },
     "execution_count": 17,
     "metadata": {},
     "output_type": "execute_result"
    }
   ],
   "source": [
    "print $dt->format(<<< Format\n",
    "\\\\y\\\\e\\\\a\\\\r\\\\ \\\\ \\\\ \\\\ \\\\ \\\\ \\\\ \\\\ \\\\Y : Y\n",
    "\\\\ \\\\ \\\\ \\\\ \\\\ \\\\ \\\\ \\\\ \\\\ \\\\ \\\\ \\\\ \\\\y : y\n",
    "\\\\ \\\\ \\\\ \\\\ \\\\ \\\\ \\\\ \\\\ \\\\ \\\\ \\\\ \\\\ \\\\o : o\n",
    "\\\\i\\\\s\\\\l\\\\e\\\\a\\\\p\\\\y\\\\e\\\\a\\\\r\\\\ \\\\ \\\\L : L\n",
    "\\\\m\\\\o\\\\n\\\\t\\\\h\\\\ \\\\ \\\\ \\\\ \\\\ \\\\ \\\\ \\\\F : F\n",
    "\\\\ \\\\ \\\\ \\\\ \\\\ \\\\ \\\\ \\\\ \\\\ \\\\ \\\\ \\\\ \\\\M : M\n",
    "\\\\ \\\\ \\\\ \\\\ \\\\ \\\\ \\\\ \\\\ \\\\ \\\\ \\\\ \\\\ \\\\m : m\n",
    "\\\\ \\\\ \\\\ \\\\ \\\\ \\\\ \\\\ \\\\ \\\\ \\\\ \\\\ \\\\ \\\\n : n\n",
    "\\\\d\\\\a\\\\y\\\\ \\\\ \\\\ \\\\ \\\\ \\\\ \\\\ \\\\ \\\\ \\\\d : d\n",
    "\\\\ \\\\ \\\\ \\\\ \\\\ \\\\ \\\\ \\\\ \\\\ \\\\ \\\\ \\\\ \\\\j : j\n",
    "\\\\ \\\\ \\\\ \\\\ \\\\ \\\\ \\\\ \\\\ \\\\ \\\\ \\\\ \\\\j\\\\S : jS\n",
    "\\\\w\\\\e\\\\e\\\\k\\\\d\\\\a\\\\y\\\\ \\\\ \\\\ \\\\ \\\\ \\\\D : D\n",
    "\\\\ \\\\ \\\\ \\\\ \\\\ \\\\ \\\\ \\\\ \\\\ \\\\ \\\\ \\\\ \\\\l : l\n",
    "\\\\ \\\\ \\\\ \\\\ \\\\ \\\\ \\\\ \\\\ \\\\ \\\\ \\\\ \\\\ \\\\N : N\\\\ \\\\(\\\\1\\\\:\\\\M\\\\o\\\\n\\\\ \\\\~\\\\ \\\\7\\\\:\\\\S\\\\u\\\\n\\\\)\n",
    "\\\\ \\\\ \\\\ \\\\ \\\\ \\\\ \\\\ \\\\ \\\\ \\\\ \\\\ \\\\ \\\\w : w\\\\ \\\\(\\\\0\\\\:\\\\S\\\\u\\\\n\\\\ \\\\~\\\\ \\\\6\\\\:\\\\S\\\\a\\\\t\\\\)\n",
    "\\\\d\\\\a\\\\y\\\\s\\\\/\\\\m\\\\o\\\\n\\\\t\\\\h\\\\ \\\\ \\\\t : t\n",
    "\\\\d\\\\a\\\\y\\\\/\\\\y\\\\e\\\\a\\\\r\\\\ \\\\ \\\\ \\\\ \\\\z : z\n",
    "\\\\w\\\\e\\\\e\\\\k\\\\/\\\\y\\\\e\\\\a\\\\r\\\\ \\\\ \\\\ \\\\W : W\n",
    "\\\\h\\\\o\\\\u\\\\r\\\\ \\\\ \\\\ \\\\ \\\\ \\\\ \\\\ \\\\ \\\\G : G\\\\ \\\\(\\\\ \\\\0\\\\~\\\\2\\\\3\\\\)\n",
    "\\\\ \\\\ \\\\ \\\\ \\\\ \\\\ \\\\ \\\\ \\\\ \\\\ \\\\ \\\\ \\\\H : H\\\\ \\\\(\\\\0\\\\0\\\\~\\\\2\\\\3\\\\)\n",
    "\\\\ \\\\ \\\\ \\\\ \\\\ \\\\ \\\\ \\\\ \\\\ \\\\ \\\\ \\\\ \\\\g : g\\\\ \\\\(\\\\ \\\\1\\\\~\\\\1\\\\2\\\\)\n",
    "\\\\ \\\\ \\\\ \\\\ \\\\ \\\\ \\\\ \\\\ \\\\ \\\\ \\\\ \\\\ \\\\h : h\\\\ \\\\(\\\\0\\\\1\\\\~\\\\1\\\\2\\\\)\n",
    "\\\\a\\\\m\\\\/\\\\p\\\\m\\\\ \\\\ \\\\ \\\\ \\\\ \\\\ \\\\ \\\\a : a\n",
    "\\\\ \\\\ \\\\ \\\\ \\\\ \\\\ \\\\ \\\\ \\\\ \\\\ \\\\ \\\\ \\\\A : A\n",
    "\\\\m\\\\i\\\\n\\\\u\\\\t\\\\e\\\\ \\\\ \\\\ \\\\ \\\\ \\\\ \\\\i : i\n",
    "\\\\s\\\\e\\\\c\\\\o\\\\n\\\\d\\\\ \\\\ \\\\ \\\\ \\\\ \\\\ \\\\s : s\n",
    "\\\\m\\\\i\\\\l\\\\l\\\\i\\\\ \\\\ \\\\ \\\\ \\\\ \\\\ \\\\ \\\\v : v\n",
    "\\\\m\\\\i\\\\l\\\\l\\\\i\\\\+\\\\m\\\\i\\\\c\\\\r\\\\o\\\\ \\\\u : u\n",
    "\\\\S\\\\w\\\\a\\\\t\\\\c\\\\h\\\\ \\\\B\\\\e\\\\a\\\\t\\\\ \\\\B : B\n",
    "\\\\t\\\\i\\\\m\\\\e\\\\z\\\\o\\\\n\\\\e\\\\ \\\\ \\\\ \\\\ \\\\e : e\n",
    "\\\\ \\\\ \\\\ \\\\ \\\\ \\\\ \\\\ \\\\ \\\\ \\\\ \\\\ \\\\ \\\\T : T\n",
    "\\\\ \\\\ \\\\ \\\\ \\\\ \\\\ \\\\ \\\\ \\\\ \\\\ \\\\ \\\\ \\\\O : O\n",
    "\\\\ \\\\ \\\\ \\\\ \\\\ \\\\ \\\\ \\\\ \\\\ \\\\ \\\\ \\\\ \\\\P : P\n",
    "\\\\ \\\\ \\\\ \\\\ \\\\ \\\\ \\\\ \\\\ \\\\ \\\\ \\\\ \\\\ \\\\Z : Z\n",
    "\\\\o\\\\n\\\\D\\\\S\\\\T\\\\ \\\\ \\\\ \\\\ \\\\ \\\\ \\\\ \\\\I : I\n",
    "Format);\n",
    "# date_format(\"...\"); : 同じ"
   ]
  },
  {
   "cell_type": "code",
   "execution_count": 18,
   "metadata": {},
   "outputs": [
    {
     "data": {
      "text/plain": [
       "\n",
       "datetime    %c : Sat Apr  5 14:57:33 2008\n",
       "date        %D : 04/05/08 = %x\n",
       "            %F : 2008-04-05\n",
       "            %v :  5-Apr-2008\n",
       "time        %T : 14:57:33 = %X\n",
       "            %R : 14:57\n",
       "            %r : 02:57:33 PM\n",
       "century     %C : 20\n",
       "year        %Y : 2008\n",
       "            %y : 08\n",
       "ISO year    %G : 2008\n",
       "            %g : 08\n",
       "month       %b : Apr = %h\n",
       "            %B : April\n",
       "            %m : 04\n",
       "day         %d : 05\n",
       "            %e :  5\n",
       "day/year    %j : 096\n",
       "weekday     %a : Sat\n",
       "            %A : Saturday\n",
       "            %w : 6\n",
       "            %u : 6\n",
       "ISO week    %V : 14    1 (Mon) ~ 7 (Sun)\n",
       "week/year   %U : 13\n",
       "            %W : 13\n",
       "hour        %H : 14\n",
       "            %k : 14\n",
       "            %I : 02\n",
       "            %l :  2\n",
       "AM/PM       %p : PM\n",
       "minute      %M : 57\n",
       "second      %S : 33\n",
       "UNIX epoch  %s : 1207375053\n",
       "timezone    %Z : JST\n",
       "            %z : +0900\n",
       "\n"
      ]
     },
     "execution_count": 18,
     "metadata": {},
     "output_type": "execute_result"
    },
    {
     "data": {
      "text/plain": [
       "\u001b[35m1\u001b[39m"
      ]
     },
     "execution_count": 18,
     "metadata": {},
     "output_type": "execute_result"
    }
   ],
   "source": [
    "print strftime(<<< Format\n",
    "\n",
    "datetime    %%c : %c\n",
    "date        %%D : %D = %%x\n",
    "            %%F : %F\n",
    "            %%v : %v\n",
    "time        %%T : %T = %%X\n",
    "            %%R : %R\n",
    "            %%r : %r\n",
    "century     %%C : %C\n",
    "year        %%Y : %Y\n",
    "            %%y : %y\n",
    "ISO year    %%G : %G\n",
    "            %%g : %g\n",
    "month       %%b : %b = %%h\n",
    "            %%B : %B\n",
    "            %%m : %m\n",
    "day         %%d : %d\n",
    "            %%e : %e\n",
    "day/year    %%j : %j\n",
    "weekday     %%a : %a\n",
    "            %%A : %A\n",
    "            %%w : %w\n",
    "            %%u : %u\n",
    "ISO week    %%V : %V    1 (Mon) ~ 7 (Sun)\n",
    "week/year   %%U : %U\n",
    "            %%W : %W\n",
    "hour        %%H : %H\n",
    "            %%k : %k\n",
    "            %%I : %I\n",
    "            %%l : %l\n",
    "AM/PM       %%p : %p\n",
    "minute      %%M : %M\n",
    "second      %%S : %S\n",
    "UNIX epoch  %%s : %s\n",
    "timezone    %%Z : %Z\n",
    "            %%z : %z\n",
    "\n",
    "Format,time())"
   ]
  },
  {
   "cell_type": "markdown",
   "metadata": {},
   "source": [
    "`strftime` は本来\n",
    "```PHP\n",
    "strftime(\"%H:%M\") → \"9:41\"\n",
    "```\n",
    "のように使う。ここでは対応しているトークンの一覧を表示している"
   ]
  },
  {
   "cell_type": "markdown",
   "metadata": {},
   "source": [
    "## 所要時間"
   ]
  },
  {
   "cell_type": "code",
   "execution_count": 19,
   "metadata": {},
   "outputs": [
    {
     "data": {
      "text/plain": [
       "\u001b[35m1207375053.9885\u001b[39m"
      ]
     },
     "execution_count": 19,
     "metadata": {},
     "output_type": "execute_result"
    }
   ],
   "source": [
    "$en=microtime(true)"
   ]
  },
  {
   "cell_type": "code",
   "execution_count": 20,
   "metadata": {},
   "outputs": [
    {
     "data": {
      "text/plain": [
       "\"\u001b[32mこの処理に要した時間: 68566.083908081 マイクロ秒\u001b[39m\""
      ]
     },
     "execution_count": 20,
     "metadata": {},
     "output_type": "execute_result"
    }
   ],
   "source": [
    "$et=($en-$st)*1000000;\n",
    "\"この処理に要した時間: $et マイクロ秒\";"
   ]
  }
 ],
 "metadata": {
  "kernelspec": {
   "display_name": "PHP",
   "language": "php",
   "name": "jupyter-php"
  },
  "language_info": {
   "file_extension": ".php",
   "mimetype": "text/x-php",
   "name": "PHP",
   "pygments_lexer": "PHP",
   "version": "7.4.9"
  }
 },
 "nbformat": 4,
 "nbformat_minor": 4
}