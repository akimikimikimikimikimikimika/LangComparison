{
 "cells": [
  {
   "cell_type": "markdown",
   "metadata": {},
   "source": [
    "# 配列"
   ]
  },
  {
   "cell_type": "markdown",
   "metadata": {},
   "source": [
    "## 要素の取り出し"
   ]
  },
  {
   "cell_type": "markdown",
   "metadata": {},
   "source": [
    "## 1要素"
   ]
  },
  {
   "cell_type": "code",
   "execution_count": 1,
   "metadata": {},
   "outputs": [
    {
     "data": {
      "text/plain": [
       "\"\u001b[32mD\u001b[39m\""
      ]
     },
     "execution_count": 1,
     "metadata": {},
     "output_type": "execute_result"
    }
   ],
   "source": [
    "['B','E','D','F','A','C'][2]"
   ]
  },
  {
   "cell_type": "markdown",
   "metadata": {},
   "source": [
    "### 部分配列"
   ]
  },
  {
   "cell_type": "code",
   "execution_count": 2,
   "metadata": {},
   "outputs": [
    {
     "data": {
      "text/plain": [
       "[\n",
       "  \"\u001b[32mD\u001b[39m\",\n",
       "  \"\u001b[32mF\u001b[39m\",\n",
       "  \"\u001b[32mA\u001b[39m\",\n",
       "  \"\u001b[32mC\u001b[39m\",\n",
       "]"
      ]
     },
     "execution_count": 2,
     "metadata": {},
     "output_type": "execute_result"
    }
   ],
   "source": [
    "array_slice(['B','E','D','F','A','C'],2,4) # 2番目から4つ分の要素の部分配列"
   ]
  },
  {
   "cell_type": "markdown",
   "metadata": {},
   "source": [
    "---\n",
    "## 要素の追加"
   ]
  },
  {
   "cell_type": "markdown",
   "metadata": {},
   "source": [
    "### 複数要素の追加"
   ]
  },
  {
   "cell_type": "code",
   "execution_count": 3,
   "metadata": {},
   "outputs": [
    {
     "data": {
      "text/plain": [
       "9\n"
      ]
     },
     "execution_count": 3,
     "metadata": {},
     "output_type": "execute_result"
    },
    {
     "data": {
      "text/plain": [
       "[\n",
       "  \"\u001b[32mB\u001b[39m\",\n",
       "  \"\u001b[32mE\u001b[39m\",\n",
       "  \"\u001b[32mD\u001b[39m\",\n",
       "  \"\u001b[32mF\u001b[39m\",\n",
       "  \"\u001b[32mA\u001b[39m\",\n",
       "  \"\u001b[32mC\u001b[39m\",\n",
       "  \"\u001b[32mG\u001b[39m\",\n",
       "  \"\u001b[32mH\u001b[39m\",\n",
       "  \"\u001b[32mI\u001b[39m\",\n",
       "]"
      ]
     },
     "execution_count": 3,
     "metadata": {},
     "output_type": "execute_result"
    }
   ],
   "source": [
    "$a=['B','E','D','F','A','C'];\n",
    "print array_push($a,'G','H','I'); # 末尾に要素を追加 → 変更後の配列の要素数を返す\n",
    "$a;"
   ]
  },
  {
   "cell_type": "code",
   "execution_count": 4,
   "metadata": {},
   "outputs": [
    {
     "data": {
      "text/plain": [
       "9\n"
      ]
     },
     "execution_count": 4,
     "metadata": {},
     "output_type": "execute_result"
    },
    {
     "data": {
      "text/plain": [
       "[\n",
       "  \"\u001b[32mG\u001b[39m\",\n",
       "  \"\u001b[32mH\u001b[39m\",\n",
       "  \"\u001b[32mI\u001b[39m\",\n",
       "  \"\u001b[32mB\u001b[39m\",\n",
       "  \"\u001b[32mE\u001b[39m\",\n",
       "  \"\u001b[32mD\u001b[39m\",\n",
       "  \"\u001b[32mF\u001b[39m\",\n",
       "  \"\u001b[32mA\u001b[39m\",\n",
       "  \"\u001b[32mC\u001b[39m\",\n",
       "]"
      ]
     },
     "execution_count": 4,
     "metadata": {},
     "output_type": "execute_result"
    }
   ],
   "source": [
    "$a=['B','E','D','F','A','C'];\n",
    "print array_unshift($a,'G','H','I'); # 先頭に要素を追加 → 変更後の配列の要素数を返す\n",
    "$a;"
   ]
  },
  {
   "cell_type": "code",
   "execution_count": 5,
   "metadata": {},
   "outputs": [
    {
     "data": {
      "text/plain": [
       "[\n",
       "  \"\u001b[32mB\u001b[39m\",\n",
       "  \"\u001b[32mE\u001b[39m\",\n",
       "  \"\u001b[32mD\u001b[39m\",\n",
       "  \"\u001b[32mG\u001b[39m\",\n",
       "  \"\u001b[32mH\u001b[39m\",\n",
       "  \"\u001b[32mI\u001b[39m\",\n",
       "  \"\u001b[32mF\u001b[39m\",\n",
       "  \"\u001b[32mA\u001b[39m\",\n",
       "  \"\u001b[32mC\u001b[39m\",\n",
       "]"
      ]
     },
     "execution_count": 5,
     "metadata": {},
     "output_type": "execute_result"
    }
   ],
   "source": [
    "$a=['B','E','D','F','A','C'];\n",
    "array_splice($a,3,0,['G','H','I']); # 3番目の位置に要素を追加\n",
    "$a;"
   ]
  },
  {
   "cell_type": "markdown",
   "metadata": {},
   "source": [
    "---\n",
    "## 要素の削除"
   ]
  },
  {
   "cell_type": "markdown",
   "metadata": {},
   "source": [
    "### 単一要素の削除"
   ]
  },
  {
   "cell_type": "code",
   "execution_count": 6,
   "metadata": {},
   "outputs": [
    {
     "data": {
      "text/plain": [
       "C\n"
      ]
     },
     "execution_count": 6,
     "metadata": {},
     "output_type": "execute_result"
    },
    {
     "data": {
      "text/plain": [
       "[\n",
       "  \"\u001b[32mB\u001b[39m\",\n",
       "  \"\u001b[32mE\u001b[39m\",\n",
       "  \"\u001b[32mD\u001b[39m\",\n",
       "  \"\u001b[32mF\u001b[39m\",\n",
       "  \"\u001b[32mA\u001b[39m\",\n",
       "]"
      ]
     },
     "execution_count": 6,
     "metadata": {},
     "output_type": "execute_result"
    }
   ],
   "source": [
    "$a=['B','E','D','F','A','C'];\n",
    "print array_pop($a); # 末尾を削除 → 取り除かれた要素を返す\n",
    "$a;"
   ]
  },
  {
   "cell_type": "code",
   "execution_count": 7,
   "metadata": {},
   "outputs": [
    {
     "data": {
      "text/plain": [
       "B\n"
      ]
     },
     "execution_count": 7,
     "metadata": {},
     "output_type": "execute_result"
    },
    {
     "data": {
      "text/plain": [
       "[\n",
       "  \"\u001b[32mE\u001b[39m\",\n",
       "  \"\u001b[32mD\u001b[39m\",\n",
       "  \"\u001b[32mF\u001b[39m\",\n",
       "  \"\u001b[32mA\u001b[39m\",\n",
       "  \"\u001b[32mC\u001b[39m\",\n",
       "]"
      ]
     },
     "execution_count": 7,
     "metadata": {},
     "output_type": "execute_result"
    }
   ],
   "source": [
    "$a=['B','E','D','F','A','C'];\n",
    "print array_shift($a); # 先頭を削除 → 取り除かれた要素を返す\n",
    "$a;"
   ]
  },
  {
   "cell_type": "markdown",
   "metadata": {},
   "source": [
    "### 複数要素の削除"
   ]
  },
  {
   "cell_type": "code",
   "execution_count": 8,
   "metadata": {},
   "outputs": [
    {
     "data": {
      "text/plain": [
       "Array\n",
       "(\n",
       "    [0] => D\n",
       "    [1] => F\n",
       "    [2] => A\n",
       "    [3] => C\n",
       ")\n",
       "\n"
      ]
     },
     "execution_count": 8,
     "metadata": {},
     "output_type": "execute_result"
    },
    {
     "data": {
      "text/plain": [
       "[\n",
       "  \"\u001b[32mB\u001b[39m\",\n",
       "  \"\u001b[32mE\u001b[39m\",\n",
       "]"
      ]
     },
     "execution_count": 8,
     "metadata": {},
     "output_type": "execute_result"
    }
   ],
   "source": [
    "$a=['B','E','D','F','A','C'];\n",
    "print_r(array_splice($a,2,4)); # 2番目から4つ分の要素を削除 → 取り除かれた要素からなる配列を返す\n",
    "$a"
   ]
  },
  {
   "cell_type": "code",
   "execution_count": 9,
   "metadata": {},
   "outputs": [
    {
     "data": {
      "text/plain": [
       "Array\n",
       "(\n",
       "    [0] => D\n",
       "    [1] => F\n",
       ")\n",
       "\n"
      ]
     },
     "execution_count": 9,
     "metadata": {},
     "output_type": "execute_result"
    },
    {
     "data": {
      "text/plain": [
       "[\n",
       "  \"\u001b[32mB\u001b[39m\",\n",
       "  \"\u001b[32mE\u001b[39m\",\n",
       "  \"\u001b[32mG\u001b[39m\",\n",
       "  \"\u001b[32mH\u001b[39m\",\n",
       "  \"\u001b[32mI\u001b[39m\",\n",
       "  \"\u001b[32mA\u001b[39m\",\n",
       "  \"\u001b[32mC\u001b[39m\",\n",
       "]"
      ]
     },
     "execution_count": 9,
     "metadata": {},
     "output_type": "execute_result"
    }
   ],
   "source": [
    "$a=['B','E','D','F','A','C'];\n",
    "print_r(array_splice($a,2,2,['G','H','I']));\n",
    "# 2番目から2つ分の要素を削除してそこに追加 → 取り除かれた要素からなる配列を返す\n",
    "$a"
   ]
  },
  {
   "cell_type": "markdown",
   "metadata": {},
   "source": [
    "---\n",
    "## 結合"
   ]
  },
  {
   "cell_type": "code",
   "execution_count": 10,
   "metadata": {},
   "outputs": [
    {
     "data": {
      "text/plain": [
       "[\n",
       "  \"\u001b[32mB\u001b[39m\",\n",
       "  \"\u001b[32mE\u001b[39m\",\n",
       "  \"\u001b[32mD\u001b[39m\",\n",
       "  \"\u001b[32mF\u001b[39m\",\n",
       "  \"\u001b[32mA\u001b[39m\",\n",
       "  \"\u001b[32mC\u001b[39m\",\n",
       "]"
      ]
     },
     "execution_count": 10,
     "metadata": {},
     "output_type": "execute_result"
    }
   ],
   "source": [
    "array_merge(['B','E','D'],['F','A','C'])"
   ]
  },
  {
   "cell_type": "markdown",
   "metadata": {},
   "source": [
    "---\n",
    "## 埋める"
   ]
  },
  {
   "cell_type": "markdown",
   "metadata": {},
   "source": [
    "### 足りない分を補う"
   ]
  },
  {
   "cell_type": "code",
   "execution_count": 11,
   "metadata": {},
   "outputs": [
    {
     "data": {
      "text/plain": [
       "[\n",
       "  \"\u001b[32mB\u001b[39m\",\n",
       "  \"\u001b[32mE\u001b[39m\",\n",
       "  \"\u001b[32mD\u001b[39m\",\n",
       "  \"\u001b[32mX\u001b[39m\",\n",
       "  \"\u001b[32mX\u001b[39m\",\n",
       "  \"\u001b[32mX\u001b[39m\",\n",
       "]"
      ]
     },
     "execution_count": 11,
     "metadata": {},
     "output_type": "execute_result"
    }
   ],
   "source": [
    "$a=['B','E','D'];\n",
    "array_pad($a,6,'X')"
   ]
  },
  {
   "cell_type": "markdown",
   "metadata": {},
   "source": [
    "### 連続した値を持つ配列を生成する"
   ]
  },
  {
   "cell_type": "code",
   "execution_count": 12,
   "metadata": {},
   "outputs": [
    {
     "data": {
      "text/plain": [
       "[\n",
       "  \"\u001b[32mX\u001b[39m\",\n",
       "  \"\u001b[32mX\u001b[39m\",\n",
       "  \"\u001b[32mX\u001b[39m\",\n",
       "  \"\u001b[32mX\u001b[39m\",\n",
       "  \"\u001b[32mX\u001b[39m\",\n",
       "  \"\u001b[32mX\u001b[39m\",\n",
       "]"
      ]
     },
     "execution_count": 12,
     "metadata": {},
     "output_type": "execute_result"
    }
   ],
   "source": [
    "array_fill(0,6,\"X\")"
   ]
  },
  {
   "cell_type": "markdown",
   "metadata": {},
   "source": [
    "---\n",
    "## 比較"
   ]
  },
  {
   "cell_type": "code",
   "execution_count": 13,
   "metadata": {},
   "outputs": [
    {
     "data": {
      "text/plain": [
       "\u001b[36mtrue\u001b[39m"
      ]
     },
     "execution_count": 13,
     "metadata": {},
     "output_type": "execute_result"
    }
   ],
   "source": [
    "['B','E','D','F','A','C'] == ['B','E','D','F','A','C']"
   ]
  },
  {
   "cell_type": "code",
   "execution_count": 14,
   "metadata": {},
   "outputs": [
    {
     "data": {
      "text/plain": [
       "\u001b[35m-1\u001b[39m"
      ]
     },
     "execution_count": 14,
     "metadata": {},
     "output_type": "execute_result"
    }
   ],
   "source": [
    "['B','E'] <=> ['B','E','D']"
   ]
  },
  {
   "cell_type": "code",
   "execution_count": 15,
   "metadata": {},
   "outputs": [
    {
     "data": {
      "text/plain": [
       "[\n",
       "  \u001b[34m2\u001b[39m => \"\u001b[32mD\u001b[39m\",\n",
       "  \u001b[34m4\u001b[39m => \"\u001b[32mA\u001b[39m\",\n",
       "]"
      ]
     },
     "execution_count": 15,
     "metadata": {},
     "output_type": "execute_result"
    }
   ],
   "source": [
    "array_diff(['B','E','D','F','A','C'],['B','E'],['F','C'])\n",
    "# 第1引数の配列の要素のうち,残りの配列の要素に全く含まれないものを選び出す"
   ]
  },
  {
   "cell_type": "markdown",
   "metadata": {},
   "source": [
    "---\n",
    "## 要素の検索"
   ]
  },
  {
   "cell_type": "code",
   "execution_count": 16,
   "metadata": {},
   "outputs": [
    {
     "data": {
      "text/plain": [
       "\u001b[36mtrue\u001b[39m"
      ]
     },
     "execution_count": 16,
     "metadata": {},
     "output_type": "execute_result"
    }
   ],
   "source": [
    "in_array('C',['B','E','D','F','A','C'])"
   ]
  },
  {
   "cell_type": "code",
   "execution_count": 17,
   "metadata": {},
   "outputs": [
    {
     "data": {
      "text/plain": [
       "\u001b[35m1\u001b[39m"
      ]
     },
     "execution_count": 17,
     "metadata": {},
     "output_type": "execute_result"
    }
   ],
   "source": [
    "array_search('T',['F','T','F','T','F']) # 左から位置を検索"
   ]
  },
  {
   "cell_type": "markdown",
   "metadata": {},
   "source": [
    "---\n",
    "## 要素を絞る"
   ]
  },
  {
   "cell_type": "code",
   "execution_count": 18,
   "metadata": {},
   "outputs": [
    {
     "data": {
      "text/plain": [
       "[\n",
       "  \u001b[34m1\u001b[39m => \u001b[35m2\u001b[39m,\n",
       "  \u001b[34m2\u001b[39m => \u001b[35m4\u001b[39m,\n",
       "  \u001b[34m4\u001b[39m => \u001b[35m8\u001b[39m,\n",
       "  \u001b[34m5\u001b[39m => \u001b[35m10\u001b[39m,\n",
       "]"
      ]
     },
     "execution_count": 18,
     "metadata": {},
     "output_type": "execute_result"
    }
   ],
   "source": [
    "array_filter([7,2,4,3,8,10],function($value,$index){\n",
    "\treturn $value==$index*2; # 値がインデックスの2倍ならtrue\n",
    "},ARRAY_FILTER_USE_BOTH)\n",
    "# 値がインデックスの2倍の要素からなる配列"
   ]
  },
  {
   "cell_type": "markdown",
   "metadata": {},
   "source": [
    "- 第3引数には次の値を指定することができる\n",
    "\t```PHP\n",
    "\t0 # コールバックには値のみ渡す (デフォルト)\n",
    "\tfunction($value){ return TRUE/FALSE; }\n",
    "\n",
    "\tARRAY_FILTER_USE_KEY # コールバックにはインデックスのみ渡す\n",
    "\tfunction($index){ return TRUE/FALSE; }\n",
    "\n",
    "\tARRAY_FILTER_USE_BOTH # コールバックには値,インデックスの双方を渡す\n",
    "\tfunction($value,$index){ return TRUE/FALSE; }\n",
    "\t```"
   ]
  },
  {
   "cell_type": "markdown",
   "metadata": {},
   "source": [
    "---\n",
    "## 要素を変換"
   ]
  },
  {
   "cell_type": "code",
   "execution_count": 19,
   "metadata": {},
   "outputs": [
    {
     "data": {
      "text/plain": [
       "[\n",
       "  \u001b[35m49\u001b[39m,\n",
       "  \u001b[35m4\u001b[39m,\n",
       "  \u001b[35m16\u001b[39m,\n",
       "  \u001b[35m9\u001b[39m,\n",
       "  \u001b[35m64\u001b[39m,\n",
       "  \u001b[35m100\u001b[39m,\n",
       "]"
      ]
     },
     "execution_count": 19,
     "metadata": {},
     "output_type": "execute_result"
    }
   ],
   "source": [
    "array_map(function($value){\n",
    "\treturn $value**2; # 値を2乗する\n",
    "},[7,2,4,3,8,10])"
   ]
  },
  {
   "cell_type": "code",
   "execution_count": 20,
   "metadata": {},
   "outputs": [
    {
     "data": {
      "text/plain": [
       "[\n",
       "  \u001b[35m49\u001b[39m,\n",
       "  \u001b[35m4\u001b[39m,\n",
       "  \u001b[35m16\u001b[39m,\n",
       "  \u001b[35m9\u001b[39m,\n",
       "  \u001b[35m64\u001b[39m,\n",
       "  \u001b[35m100\u001b[39m,\n",
       "]"
      ]
     },
     "execution_count": 20,
     "metadata": {},
     "output_type": "execute_result"
    }
   ],
   "source": [
    "$a=[7,2,4,3,8,10];\n",
    "array_walk($a,function(&$value){ # $value は参照渡し\n",
    "\t$value=$value**2; # 値を2乗する\n",
    "});\n",
    "$a"
   ]
  },
  {
   "cell_type": "markdown",
   "metadata": {},
   "source": [
    "---\n",
    "## 要素を縮約"
   ]
  },
  {
   "cell_type": "code",
   "execution_count": 21,
   "metadata": {},
   "outputs": [
    {
     "data": {
      "text/plain": [
       "\u001b[35m2.6\u001b[39m"
      ]
     },
     "execution_count": 21,
     "metadata": {},
     "output_type": "execute_result"
    }
   ],
   "source": [
    "$a=[2.5,2.4,2.8,2.7,2.6];\n",
    "array_reduce($a,function($acc,$val) use($a) {\n",
    "\treturn $acc+$val/count($a); // 平均値を求める\n",
    "},0)"
   ]
  },
  {
   "cell_type": "markdown",
   "metadata": {},
   "source": [
    "配列中の全ての要素を1まとめにした値を導き出す  \n",
    "上の例の場合,初期値 `0` として,各々の要素に関数を実行していく。  \n",
    "`$acc` にそれまでの要素の処理結果が, `$val` にはそこで処理する要素が与えられ,処理した結果を返す。  \n",
    "和や積であったら, `array_reduce` にコールバック関数を渡して実行する代わりに `array_sum` や `array_product` を使用する。"
   ]
  },
  {
   "cell_type": "markdown",
   "metadata": {},
   "source": [
    "---\n",
    "## 並び替え"
   ]
  },
  {
   "cell_type": "markdown",
   "metadata": {},
   "source": [
    "### ソート"
   ]
  },
  {
   "cell_type": "code",
   "execution_count": 22,
   "metadata": {},
   "outputs": [
    {
     "data": {
      "text/plain": [
       "[\n",
       "  \"\u001b[32mA\u001b[39m\",\n",
       "  \"\u001b[32mB\u001b[39m\",\n",
       "  \"\u001b[32mC\u001b[39m\",\n",
       "  \"\u001b[32mD\u001b[39m\",\n",
       "  \"\u001b[32mE\u001b[39m\",\n",
       "  \"\u001b[32mF\u001b[39m\",\n",
       "]"
      ]
     },
     "execution_count": 22,
     "metadata": {},
     "output_type": "execute_result"
    }
   ],
   "source": [
    "$a=['B','E','D','F','A','C'];\n",
    "sort($a);\n",
    "$a;"
   ]
  },
  {
   "cell_type": "code",
   "execution_count": 23,
   "metadata": {},
   "outputs": [
    {
     "data": {
      "text/plain": [
       "[\n",
       "  \"\u001b[32mF\u001b[39m\",\n",
       "  \"\u001b[32mE\u001b[39m\",\n",
       "  \"\u001b[32mD\u001b[39m\",\n",
       "  \"\u001b[32mC\u001b[39m\",\n",
       "  \"\u001b[32mB\u001b[39m\",\n",
       "  \"\u001b[32mA\u001b[39m\",\n",
       "]"
      ]
     },
     "execution_count": 23,
     "metadata": {},
     "output_type": "execute_result"
    }
   ],
   "source": [
    "$a=['B','E','D','F','A','C'];\n",
    "rsort($a); # 逆順にソート\n",
    "$a;"
   ]
  },
  {
   "cell_type": "markdown",
   "metadata": {},
   "source": [
    "* `sort` は第2引数を指定すれば並べ方を指定できる\n",
    "\t```PHP\n",
    "\tsort($a,SORT_REGULAR); # 要素の型に合わせ,比較演算子で比較判定し並べ替える (デフォルト)\n",
    "\tsort($a,SORT_NUMERIC); # 要素を数値として大きさ順に並べ替える\n",
    "\tsort($a,SORT_STRING); # 要素を文字列として辞書順に並べ替える\n",
    "\tsort($a,SORT_NATURAL); # 要素を文字列として自然順に並べ替える\n",
    "\tsort($a,SORT_LOCALE_STRING); # 要素を文字列としてロケールの書式に合わせて並べ替える\n",
    "\t```\n",
    "    たとえば…  \n",
    "\t`SORT_STRING ` では `[\"item1\",\"item10\",\"item12\",\"item2\"]` と並び替えるが,  \n",
    "\t`SORT_NATURAL` では `[\"item1\",\"item2\",\"item10\",\"item12\"]` と並び替える。"
   ]
  },
  {
   "cell_type": "markdown",
   "metadata": {},
   "source": [
    "* 並び替えの仕方を指定することもできる  \n",
    "\t省略した場合は,\"文字列/数値を昇順で並び替え\"と等しい  \n",
    "\t例\n",
    "\t```PHP\n",
    "\t$a=[2,5,4,6,1,3];\n",
    "\tusort($a,function($a,$b) { $a <=> $b }); # 数値を昇順で並び替え\n",
    "\tusort($a,function($a,$b) { $b <=> $a }); # 数値を降順で並び替え\n",
    "\t```"
   ]
  },
  {
   "cell_type": "markdown",
   "metadata": {},
   "source": [
    "### 逆順"
   ]
  },
  {
   "cell_type": "code",
   "execution_count": 24,
   "metadata": {},
   "outputs": [
    {
     "data": {
      "text/plain": [
       "[\n",
       "  \"\u001b[32mC\u001b[39m\",\n",
       "  \"\u001b[32mA\u001b[39m\",\n",
       "  \"\u001b[32mF\u001b[39m\",\n",
       "  \"\u001b[32mD\u001b[39m\",\n",
       "  \"\u001b[32mE\u001b[39m\",\n",
       "  \"\u001b[32mB\u001b[39m\",\n",
       "]"
      ]
     },
     "execution_count": 24,
     "metadata": {},
     "output_type": "execute_result"
    }
   ],
   "source": [
    "array_reverse(['B','E','D','F','A','C'])"
   ]
  },
  {
   "cell_type": "markdown",
   "metadata": {},
   "source": [
    "### シャッフル"
   ]
  },
  {
   "cell_type": "code",
   "execution_count": 25,
   "metadata": {},
   "outputs": [
    {
     "data": {
      "text/plain": [
       "[\n",
       "  \"\u001b[32mE\u001b[39m\",\n",
       "  \"\u001b[32mB\u001b[39m\",\n",
       "  \"\u001b[32mC\u001b[39m\",\n",
       "  \"\u001b[32mA\u001b[39m\",\n",
       "  \"\u001b[32mF\u001b[39m\",\n",
       "  \"\u001b[32mD\u001b[39m\",\n",
       "]"
      ]
     },
     "execution_count": 25,
     "metadata": {},
     "output_type": "execute_result"
    }
   ],
   "source": [
    "$a=['B','E','D','F','A','C'];\n",
    "shuffle($a);\n",
    "$a;"
   ]
  },
  {
   "cell_type": "markdown",
   "metadata": {},
   "source": [
    "---\n",
    "## 要素のAND"
   ]
  },
  {
   "cell_type": "code",
   "execution_count": 26,
   "metadata": {},
   "outputs": [
    {
     "data": {
      "text/plain": [
       "[\n",
       "  \"\u001b[32mE\u001b[39m\",\n",
       "  \"\u001b[32mD\u001b[39m\",\n",
       "  \"\u001b[32mF\u001b[39m\",\n",
       "]"
      ]
     },
     "execution_count": 26,
     "metadata": {},
     "output_type": "execute_result"
    }
   ],
   "source": [
    "array_values(\n",
    "\tarray_intersect(['B','E','D','F','A','C'],['E','H','G','I','D','F'])\n",
    ")"
   ]
  },
  {
   "cell_type": "markdown",
   "metadata": {},
   "source": [
    "---\n",
    "## 重複の解消"
   ]
  },
  {
   "cell_type": "code",
   "execution_count": 27,
   "metadata": {},
   "outputs": [
    {
     "data": {
      "text/plain": [
       "[\n",
       "  \"\u001b[32mB\u001b[39m\",\n",
       "  \"\u001b[32mE\u001b[39m\",\n",
       "  \"\u001b[32mD\u001b[39m\",\n",
       "]"
      ]
     },
     "execution_count": 27,
     "metadata": {},
     "output_type": "execute_result"
    }
   ],
   "source": [
    "array_values(\n",
    "\tarray_unique(['B','E','E','D','B'])\n",
    ")"
   ]
  },
  {
   "cell_type": "markdown",
   "metadata": {},
   "source": [
    "---\n",
    "## サンプル抽出"
   ]
  },
  {
   "cell_type": "code",
   "execution_count": 28,
   "metadata": {},
   "outputs": [
    {
     "data": {
      "text/plain": [
       "\"\u001b[32mB\u001b[39m\""
      ]
     },
     "execution_count": 28,
     "metadata": {},
     "output_type": "execute_result"
    }
   ],
   "source": [
    "$a=['B','E','D','F','A','C'];\n",
    "$a[array_rand($a)];"
   ]
  },
  {
   "cell_type": "markdown",
   "metadata": {},
   "source": [
    "---\n",
    "## 値•インデックスを反転"
   ]
  },
  {
   "cell_type": "code",
   "execution_count": 29,
   "metadata": {},
   "outputs": [
    {
     "data": {
      "text/plain": [
       "[\n",
       "  \u001b[34m2\u001b[39m => \u001b[35m0\u001b[39m,\n",
       "  \u001b[34m5\u001b[39m => \u001b[35m1\u001b[39m,\n",
       "  \u001b[34m4\u001b[39m => \u001b[35m2\u001b[39m,\n",
       "  \u001b[34m6\u001b[39m => \u001b[35m3\u001b[39m,\n",
       "  \u001b[34m1\u001b[39m => \u001b[35m4\u001b[39m,\n",
       "  \u001b[34m3\u001b[39m => \u001b[35m5\u001b[39m,\n",
       "]"
      ]
     },
     "execution_count": 29,
     "metadata": {},
     "output_type": "execute_result"
    }
   ],
   "source": [
    "$a=[2,5,4,6,1,3];\n",
    "array_flip($a)"
   ]
  }
 ],
 "metadata": {
  "kernelspec": {
   "display_name": "PHP",
   "language": "php",
   "name": "jupyter-php"
  },
  "language_info": {
   "file_extension": ".php",
   "mimetype": "text/x-php",
   "name": "PHP",
   "pygments_lexer": "PHP",
   "version": "7.4.5"
  }
 },
 "nbformat": 4,
 "nbformat_minor": 4
}
