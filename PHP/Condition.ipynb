{
 "cells": [
  {
   "cell_type": "markdown",
   "metadata": {},
   "source": [
    "# 条件分岐"
   ]
  },
  {
   "cell_type": "code",
   "execution_count": null,
   "metadata": {},
   "outputs": [],
   "source": [
    "$test1 = 1;\n",
    "$test2 = 0;"
   ]
  },
  {
   "cell_type": "code",
   "execution_count": null,
   "metadata": {},
   "outputs": [],
   "source": [
    "if (test1) {\n",
    "\tprint \"どうやらtest1は真のようです\";\n",
    "}"
   ]
  },
  {
   "cell_type": "code",
   "execution_count": null,
   "metadata": {},
   "outputs": [],
   "source": [
    "if (!test1) {\n",
    "\tprint \"どうやらtest1は偽のようです\";\n",
    "}\n",
    "elseif (test2) {\n",
    "\tprintn\"どうやらtest2は真のようです\";\n",
    "}\n",
    "elseif (!test2 && test1) {\n",
    "\tprint \"真偽が混在しているようです\";\n",
    "}\n",
    "else {\n",
    "\tprint \"どれでもないようです\";\n",
    "}"
   ]
  },
  {
   "cell_type": "code",
   "execution_count": null,
   "metadata": {},
   "outputs": [],
   "source": [
    "$val = 8;\n",
    "switch ($val) {\n",
    "\tcase 0:\n",
    "\tcase 1:\n",
    "\t\tprint \"${val}は特別な値である\";break;\n",
    "\tcase 8:\n",
    "\tcase 9:\n",
    "\tcase 10:\n",
    "\t\tprint \"これに隣接する数にも言えたりするが,\".PHP_EOL;\n",
    "\t\t# breakを省くと,case 8,9,10を実行すれば,直下のcase 4,6も実行する\n",
    "\tcase 4:\n",
    "\tcase 6:\n",
    "\t\tprint \"${val}は素数ではない\";break;\n",
    "\tcase 2:\n",
    "\tcase 3:\n",
    "\tcase 5:\n",
    "\tcase 7:\n",
    "\t\tprint \"${val}は素数である\";break;\n",
    "\tdefault:\n",
    "\t\tprint \"${val}なぞ私には興味がない\";break;\n",
    "}"
   ]
  },
  {
   "cell_type": "markdown",
   "metadata": {},
   "source": [
    "`case` に文字列を使用することは可能である"
   ]
  }
 ],
 "metadata": {
  "kernelspec": {
   "display_name": "PHP",
   "language": "php",
   "name": "jupyter-php"
  },
  "language_info": {
   "file_extension": ".php",
   "mimetype": "text/x-php",
   "name": "PHP",
   "pygments_lexer": "PHP",
   "version": "7.4.5"
  }
 },
 "nbformat": 4,
 "nbformat_minor": 4
}
