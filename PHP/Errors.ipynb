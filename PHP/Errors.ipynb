{
 "cells": [
  {
   "cell_type": "markdown",
   "metadata": {},
   "source": [
    "# 例外処理"
   ]
  },
  {
   "cell_type": "code",
   "execution_count": 1,
   "metadata": {},
   "outputs": [
    {
     "data": {
      "text/plain": [
       "エラーが発生しました\n",
       "\n"
      ]
     },
     "execution_count": 1,
     "metadata": {},
     "output_type": "execute_result"
    },
    {
     "data": {
      "text/plain": [
       "エラー内容: Exception: あなたは過ちを犯した!! ExecuteAction.php(115) : eval()'d code:3\n",
     ]
     },
     "execution_count": 1,
     "metadata": {},
     "output_type": "execute_result"
    },
    {
     "data": {
      "text/plain": [
       "以上でエラーチェックを終了します\n",
       "\n"
      ]
     },
     "execution_count": 1,
     "metadata": {},
     "output_type": "execute_result"
    }
   ],
   "source": [
    "try {\n",
    "\t# try節内で起こりうる例外は捕捉される\n",
    "\tthrow new Exception(\"あなたは過ちを犯した!!\"); # 例外の発生 (例外が発生した時点で,それ以降の行は実行しない)\n",
    "\tprint \"この行は実行されない\".PHP_EOL;\n",
    "}\n",
    "catch (Exception $e) {\n",
    "\t# 例外をキャッチすればcatch節が実行される\n",
    "\tprint \"エラーが発生しました\".PHP_EOL;\n",
    "\tprint \"エラー内容: $e\".PHP_EOL;\n",
    "}\n",
    "finally {\n",
    "\t# 最後にfinally節が実行される\n",
    "\tprint \"以上でエラーチェックを終了します\".PHP_EOL;\n",
    "}"
   ]
  },
  {
   "cell_type": "markdown",
   "metadata": {},
   "source": [
    "* `try` に対応して,`except` か `finally` のどちらか一方は最低限必要である"
   ]
  }
 ],
 "metadata": {
  "kernelspec": {
   "display_name": "PHP",
   "language": "php",
   "name": "jupyter-php"
  },
  "language_info": {
   "file_extension": ".php",
   "mimetype": "text/x-php",
   "name": "PHP",
   "pygments_lexer": "PHP",
   "version": "7.4.2"
  }
 },
 "nbformat": 4,
 "nbformat_minor": 4
}
