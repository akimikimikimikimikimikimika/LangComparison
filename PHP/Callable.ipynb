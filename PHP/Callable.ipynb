{
 "cells": [
  {
   "cell_type": "markdown",
   "metadata": {},
   "source": [
    "# コーラブル"
   ]
  },
  {
   "cell_type": "markdown",
   "metadata": {},
   "source": [
    "## 関数"
   ]
  },
  {
   "cell_type": "markdown",
   "metadata": {},
   "source": [
    "### 通常の関数"
   ]
  },
  {
   "cell_type": "code",
   "execution_count": 1,
   "metadata": {},
   "outputs": [
    {
     "data": {
      "text/plain": [
       "216"
      ]
     },
     "execution_count": 1,
     "metadata": {},
     "output_type": "execute_result"
    }
   ],
   "source": [
    "function cube($val) {\n",
    "\treturn $val**3;\n",
    "}\n",
    "\n",
    "# 関数を利用\n",
    "cube(6)"
   ]
  },
  {
   "cell_type": "markdown",
   "metadata": {},
   "source": [
    "### ラムダ (無名関数)"
   ]
  },
  {
   "cell_type": "code",
   "execution_count": 2,
   "metadata": {},
   "outputs": [
    {
     "data": {
      "text/plain": [
       "36"
      ]
     },
     "execution_count": 2,
     "metadata": {},
     "output_type": "execute_result"
    }
   ],
   "source": [
    "$func = function($val) {\n",
    "\treturn $val**2;\n",
    "};\n",
    "\n",
    "# 関数を利用\n",
    "$func(6)"
   ]
  },
  {
   "cell_type": "markdown",
   "metadata": {},
   "source": [
    "* 1行のラムダ式\n",
    "```PHP\n",
    "$func = fn($val)=>$val**2;\n",
    "```\n",
    "も利用可能"
   ]
  },
  {
   "cell_type": "markdown",
   "metadata": {},
   "source": [
    "* 関数内で外部の変数を参照するには,\n",
    "\t```PHP\n",
    "\tglobal $var;\n",
    "\t```\n",
    "\tのような宣言が必要である。"
   ]
  },
  {
   "cell_type": "markdown",
   "metadata": {},
   "source": [
    "* デフォルト引数\n",
    "\n",
    "\t次のように引数がデフォルト値を持った関数が作れる\n",
    "\t```PHP\n",
    "\tfunction funcName($arg1=\"val1\",$arg2=\"val2\",$arg3=\"val3\",...) {\n",
    "\t\t...\n",
    "    }\n",
    "\t```\n",
    "\t関数を実行する場合,デフォルト値を持つ引数は省略可能である\n",
    "\tしかし,この場合は特定の引数だけ与えることはできない (引数の順番は変えられない) ので,指定する引数までの他の引数も全て明示しないといけない"
   ]
  },
  {
   "cell_type": "markdown",
   "metadata": {},
   "source": [
    "* 可変個引数\n",
    "\n",
    "\t残りの引数を配列形式でまとめて受け取れる\n",
    "\t```PHP\n",
    "\tdef func($arg1,$arg2,...$args)\n",
    "\t\t...\n",
    "\t\t# $args = [arg3,arg4...] : 配列\n",
    "    end\n",
    "\t```\n",
    "\n",
    "\t又,関数を実行する際,配列の各要素をそのまま関数の引数とすることもできる\n",
    "\t```PHP\n",
    "\t$a = [1,2,3]; # 配列aを用意\n",
    "\tfunc(...$a); # = func(1,2,3) → $arg1=1 $arg2=2 $args=[3]\n",
    "\t```"
   ]
  },
  {
   "cell_type": "markdown",
   "metadata": {},
   "source": [
    "## 文字列をPHPコードとして実行\n",
    "\n",
    "### `eval($phpSource)` -> `value?`\n",
    "\n",
    "* `$phpSource` に記載したPHPコードを実行する\n",
    "* ソース中で `return` 文があればその値が `eval` から返される\n",
    "* 外の変数を `eval` 内で参照したり, `eval` 内の変数を外から参照することもできる"
   ]
  }
 ],
 "metadata": {
  "kernelspec": {
   "display_name": "PHP",
   "language": "php",
   "name": "jupyter-php"
  },
  "language_info": {
   "file_extension": ".php",
   "mimetype": "text/x-php",
   "name": "PHP",
   "pygments_lexer": "PHP",
   "version": "7.4.8"
  }
 },
 "nbformat": 4,
 "nbformat_minor": 4
}
