{
 "cells": [
  {
   "cell_type": "markdown",
   "metadata": {},
   "source": [
    "# 繰り返し処理"
   ]
  },
  {
   "cell_type": "markdown",
   "metadata": {},
   "source": [
    "インクルード"
   ]
  },
  {
   "cell_type": "code",
   "execution_count": 1,
   "metadata": {},
   "outputs": [
    {
     "data": {
      "text/plain": []
     },
     "execution_count": 1,
     "metadata": {},
     "output_type": "execute_result"
    }
   ],
   "source": [
    "#include <stdio.h>\n",
    "#include <string.h>"
   ]
  },
  {
   "cell_type": "markdown",
   "metadata": {},
   "source": [
    "* `for (m=0; m<3; m++) { … }`"
   ]
  },
  {
   "cell_type": "code",
   "execution_count": 2,
   "metadata": {},
   "outputs": [
    {
     "name": "stdout",
     "output_type": "stream",
     "text": [
      "m=0のループ\n",
      "m=1のループ\n",
      "m=2のループ\n"
     ]
    },
    {
     "data": {
      "text/plain": []
     },
     "execution_count": 2,
     "metadata": {},
     "output_type": "execute_result"
    }
   ],
   "source": [
    "for (int m=0;m<3;m++) { printf(\"m=%dのループ\\n\",m); }"
   ]
  },
  {
   "cell_type": "markdown",
   "metadata": {},
   "source": [
    "* `while (~) { … }`"
   ]
  },
  {
   "cell_type": "code",
   "execution_count": 3,
   "metadata": {},
   "outputs": [
    {
     "name": "stdout",
     "output_type": "stream",
     "text": [
      "*\n",
      "**\n",
      "***\n",
      "****\n",
      "*****\n",
      "******\n"
     ]
    },
    {
     "data": {
      "text/plain": []
     },
     "execution_count": 3,
     "metadata": {},
     "output_type": "execute_result"
    }
   ],
   "source": [
    "char str1[30]={};\n",
    "while (strlen(str1)<6) {\n",
    "\tstrcat(str1,\"*\");\n",
    "\tprintf(\"%s\\n\",str1);\n",
    "}"
   ]
  },
  {
   "cell_type": "markdown",
   "metadata": {},
   "source": [
    "* `do { … } while (~);`"
   ]
  },
  {
   "cell_type": "code",
   "execution_count": 4,
   "metadata": {},
   "outputs": [
    {
     "name": "stdout",
     "output_type": "stream",
     "text": [
      "+\n",
      "++\n",
      "+++\n",
      "++++\n",
      "+++++\n",
      "++++++\n"
     ]
    },
    {
     "data": {
      "text/plain": []
     },
     "execution_count": 4,
     "metadata": {},
     "output_type": "execute_result"
    }
   ],
   "source": [
    "char str2[30]={};\n",
    "do {\n",
    "\tstrcat(str2,\"+\");\n",
    "\tprintf(\"%s\\n\",str2);\n",
    "} while (strlen(str2)<6);"
   ]
  }
 ],
 "metadata": {
  "kernelspec": {
   "display_name": "C++",
   "language": "C++",
   "name": "cling-cpp17"
  },
  "language_info": {
   "codemirror_mode": "c++",
   "file_extension": ".c++",
   "mimetype": "text/x-c++src",
   "name": "c++"
  }
 },
 "nbformat": 4,
 "nbformat_minor": 4
}
