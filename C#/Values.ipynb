{
 "cells": [
  {
   "cell_type": "markdown",
   "metadata": {},
   "source": [
    "# 色々な値"
   ]
  },
  {
   "cell_type": "markdown",
   "metadata": {},
   "source": [
    "## 文字列"
   ]
  },
  {
   "cell_type": "code",
   "execution_count": 1,
   "metadata": {},
   "outputs": [
    {
     "data": {
      "text/plain": [
       "シーシャープ"
      ]
     },
     "execution_count": 1,
     "metadata": {},
     "output_type": "execute_result"
    }
   ],
   "source": [
    "string str=\"シーシャープ\";\n",
    "str // string = System.String"
   ]
  },
  {
   "cell_type": "markdown",
   "metadata": {},
   "source": [
    "変数展開/式展開の仕方\n",
    "```C#\n",
    "$\"The value is {val*2}\"\n",
    "string.Format(\"The values are {0}, {1}, and {2}\",3,6,2)\n",
    "```\n",
    "\n",
    "三項演算子は直接記述できないので,括弧で括る必要がある\n",
    "```C#\n",
    "$\"The answer is {(val ? \"yes\" : \"no\")}\"\n",
    "```"
   ]
  },
  {
   "cell_type": "markdown",
   "metadata": {},
   "source": [
    "### 複数行"
   ]
  },
  {
   "cell_type": "code",
   "execution_count": 2,
   "metadata": {},
   "outputs": [
    {
     "data": {
      "text/plain": [
       "\n",
       "First line\n",
       "Second line\n",
       "Third line\n"
      ]
     },
     "execution_count": 2,
     "metadata": {},
     "output_type": "execute_result"
    }
   ],
   "source": [
    "string lines = @\"\n",
    "First line\n",
    "Second line\n",
    "Third line\n",
    "\";\n",
    "lines"
   ]
  },
  {
   "cell_type": "markdown",
   "metadata": {},
   "source": [
    "* バックスラッシュ `\\` を用いたエスケープ表記は利用できない  \n",
    "\t`\"` の文字を挿入するには `\"\"` のように2個記す\n",
    "* 式展開をするには,先頭を `@` の代わりに `$@` とする  \n",
    "\t`$@` の代わりに `@$` でも良い"
   ]
  },
  {
   "cell_type": "markdown",
   "metadata": {},
   "source": [
    "## 文字"
   ]
  },
  {
   "cell_type": "code",
   "execution_count": 3,
   "metadata": {},
   "outputs": [
    {
     "data": {
      "text/plain": [
       "ﬁ"
      ]
     },
     "execution_count": 3,
     "metadata": {},
     "output_type": "execute_result"
    }
   ],
   "source": [
    "char ch='ﬁ';\n",
    "ch // char = System.Char"
   ]
  },
  {
   "cell_type": "markdown",
   "metadata": {},
   "source": [
    "## 整数"
   ]
  },
  {
   "cell_type": "code",
   "execution_count": 4,
   "metadata": {},
   "outputs": [
    {
     "data": {
      "text/plain": [
       "6"
      ]
     },
     "execution_count": 4,
     "metadata": {},
     "output_type": "execute_result"
    }
   ],
   "source": [
    "sbyte by1 = 6; // -2⁷ ~ 2⁷-1\n",
    "by1 // sbyte = System.SByte"
   ]
  },
  {
   "cell_type": "code",
   "execution_count": 5,
   "metadata": {},
   "outputs": [
    {
     "data": {
      "text/plain": [
       "6"
      ]
     },
     "execution_count": 5,
     "metadata": {},
     "output_type": "execute_result"
    }
   ],
   "source": [
    "byte by2 = 6; // 0 ~ 2⁸\n",
    "by2 // byte = System.Byte"
   ]
  },
  {
   "cell_type": "code",
   "execution_count": 6,
   "metadata": {},
   "outputs": [
    {
     "data": {
      "text/plain": [
       "6"
      ]
     },
     "execution_count": 6,
     "metadata": {},
     "output_type": "execute_result"
    }
   ],
   "source": [
    "short sh1 = 6; // -2¹⁵ ~ 2¹⁵-1\n",
    "sh1 // short = System.Int16"
   ]
  },
  {
   "cell_type": "code",
   "execution_count": 7,
   "metadata": {},
   "outputs": [
    {
     "data": {
      "text/plain": [
       "6"
      ]
     },
     "execution_count": 7,
     "metadata": {},
     "output_type": "execute_result"
    }
   ],
   "source": [
    "ushort sh2 = 6; // 0 ~ 2¹⁶\n",
    "sh2 // ushort = System.UInt16"
   ]
  },
  {
   "cell_type": "code",
   "execution_count": 8,
   "metadata": {},
   "outputs": [
    {
     "data": {
      "text/plain": [
       "6"
      ]
     },
     "execution_count": 8,
     "metadata": {},
     "output_type": "execute_result"
    }
   ],
   "source": [
    "int int1 = 6; // -2³¹ ~ 2³¹-1\n",
    "sh1 // int = System.Int32"
   ]
  },
  {
   "cell_type": "code",
   "execution_count": 9,
   "metadata": {},
   "outputs": [
    {
     "data": {
      "text/plain": [
       "6"
      ]
     },
     "execution_count": 9,
     "metadata": {},
     "output_type": "execute_result"
    }
   ],
   "source": [
    "uint int2 = 6U; // 0 ~ 2³²\n",
    "int2 // uint = System.UInt32"
   ]
  },
  {
   "cell_type": "code",
   "execution_count": 10,
   "metadata": {},
   "outputs": [
    {
     "data": {
      "text/plain": [
       "6"
      ]
     },
     "execution_count": 10,
     "metadata": {},
     "output_type": "execute_result"
    }
   ],
   "source": [
    "long lo1 = 6L; // -2⁶³ ~ 2⁶³-1\n",
    "sh1 // long = System.Int64"
   ]
  },
  {
   "cell_type": "code",
   "execution_count": 11,
   "metadata": {},
   "outputs": [
    {
     "data": {
      "text/plain": [
       "6"
      ]
     },
     "execution_count": 11,
     "metadata": {},
     "output_type": "execute_result"
    }
   ],
   "source": [
    "ulong lo2 = 6UL; // 0 ~ 2⁶⁴\n",
    "lo2 // ulong = System.UInt64"
   ]
  },
  {
   "cell_type": "markdown",
   "metadata": {},
   "source": [
    "## 浮動小数"
   ]
  },
  {
   "cell_type": "code",
   "execution_count": 12,
   "metadata": {},
   "outputs": [
    {
     "data": {
      "text/plain": [
       "0.000375"
      ]
     },
     "execution_count": 12,
     "metadata": {},
     "output_type": "execute_result"
    }
   ],
   "source": [
    "float fl = 375e-6f; // ±1.5×10⁻⁴⁵ ~ ±3.4×10³⁸\n",
    "fl // float = System.Single"
   ]
  },
  {
   "cell_type": "code",
   "execution_count": 13,
   "metadata": {},
   "outputs": [
    {
     "data": {
      "text/plain": [
       "0.000375"
      ]
     },
     "execution_count": 13,
     "metadata": {},
     "output_type": "execute_result"
    }
   ],
   "source": [
    "double db = 375e-6; // ±5.0×10⁻³²⁴ ~ ±1.7×10³⁰⁸\n",
    "db // double = System.Double"
   ]
  },
  {
   "cell_type": "code",
   "execution_count": 14,
   "metadata": {},
   "outputs": [
    {
     "data": {
      "text/html": [
       "0.000375"
      ]
     },
     "execution_count": 14,
     "metadata": {},
     "output_type": "execute_result"
    }
   ],
   "source": [
    "decimal dc = 375e-6m; // ±1.0×10⁻²⁸ ~ ±7.9×10²⁸\n",
    "dc // decimal = System.Decimal"
   ]
  },
  {
   "cell_type": "markdown",
   "metadata": {},
   "source": [
    "通常,コンピュータは2進数で数値を保持するが, `decimal` 型では10進数で保持する。従って, `0.1` は2進数で近似した値になる `float` や `double` と違って,正確に `0.1` になる。"
   ]
  },
  {
   "cell_type": "markdown",
   "metadata": {},
   "source": [
    "## 真偽値"
   ]
  },
  {
   "cell_type": "code",
   "execution_count": 15,
   "metadata": {},
   "outputs": [
    {
     "data": {
      "text/plain": [
       "True"
      ]
     },
     "execution_count": 15,
     "metadata": {},
     "output_type": "execute_result"
    }
   ],
   "source": [
    "bool b=true;\n",
    "b // bool = System.Boolean"
   ]
  },
  {
   "cell_type": "markdown",
   "metadata": {},
   "source": [
    "## 値なし"
   ]
  },
  {
   "cell_type": "code",
   "execution_count": 16,
   "metadata": {},
   "outputs": [
    {
     "data": {
      "text/html": [
       "<null>"
      ]
     },
     "execution_count": 16,
     "metadata": {},
     "output_type": "execute_result"
    }
   ],
   "source": [
    "object nil=null;\n",
    "nil // object = System.Object"
   ]
  },
  {
   "cell_type": "markdown",
   "metadata": {},
   "source": [
    "* `object` 型は任意の型の値を代入することができる。\n",
    "* `null` は `string` 型や `object` 型に代入することができる。\n",
    "* `null` 許容型にすることで通常の値の他に `null` を代入することができる  \n",
    "\t例えば, `int` の `null` 許容型は\n",
    "\t- `int?`\n",
    "\t- `Nullable<int>`"
   ]
  },
  {
   "cell_type": "markdown",
   "metadata": {},
   "source": [
    "## 配列"
   ]
  },
  {
   "cell_type": "code",
   "execution_count": 17,
   "metadata": {},
   "outputs": [
    {
     "name": "stdout",
     "output_type": "stream",
     "text": [
      "2番目: 4\n",
      "大きさ: 3\n"
     ]
    },
    {
     "data": {
      "text/html": [
       "<table><thead><tr><th><i>index</i></th><th>value</th></tr></thead><tbody><tr><td>0</td><td>3</td></tr><tr><td>1</td><td>1</td></tr><tr><td>2</td><td>4</td></tr></tbody></table>"
      ]
     },
     "execution_count": 17,
     "metadata": {},
     "output_type": "execute_result"
    }
   ],
   "source": [
    "int[] a1=new int[3]; // 空の配列\n",
    "int[] a2=new int[] {3,1,4}; // new int[] は省略可能\n",
    "Console.WriteLine($\"2番目: {a2[2]}\");\n",
    "Console.WriteLine($\"大きさ: {a2.Length}\");\n",
    "a2"
   ]
  },
  {
   "cell_type": "markdown",
   "metadata": {},
   "source": [
    "### 多次元配列"
   ]
  },
  {
   "cell_type": "markdown",
   "metadata": {},
   "source": [
    "#### 四角い多次元配列 (Rectangular Array)\n",
    "アクセスが高速"
   ]
  },
  {
   "cell_type": "code",
   "execution_count": 18,
   "metadata": {},
   "outputs": [
    {
     "name": "stdout",
     "output_type": "stream",
     "text": [
      "1,2番目: 23\n",
      "大きさ: 6\n"
     ]
    },
    {
     "data": {
      "text/html": [
       "<table><thead><tr><th><i>index</i></th><th>value</th></tr></thead><tbody><tr><td>0</td><td>11</td></tr><tr><td>1</td><td>12</td></tr><tr><td>2</td><td>13</td></tr><tr><td>3</td><td>21</td></tr><tr><td>4</td><td>22</td></tr><tr><td>5</td><td>23</td></tr></tbody></table>"
      ]
     },
     "execution_count": 18,
     "metadata": {},
     "output_type": "execute_result"
    }
   ],
   "source": [
    "int[,] a3=new int[3,2]; // 空の配列\n",
    "int[,] a4=new int[,] {\n",
    "\t{11,12,13},\n",
    "\t{21,22,23}\n",
    "}; // 3次元なら int[,,]\n",
    "Console.WriteLine($\"1,2番目: {a4[1,2]}\");\n",
    "Console.WriteLine($\"大きさ: {a4.Length}\");\n",
    "a4"
   ]
  },
  {
   "cell_type": "markdown",
   "metadata": {},
   "source": [
    "#### 配列の配列 (Jaggged Array)\n",
    "子配列の要素の個数は自由に指定できる"
   ]
  },
  {
   "cell_type": "code",
   "execution_count": 19,
   "metadata": {},
   "outputs": [
    {
     "name": "stdout",
     "output_type": "stream",
     "text": [
      "2,1番目: 32\n",
      "大きさ: 3\n"
     ]
    },
    {
     "data": {
      "text/html": [
       "<table><thead><tr><th><i>index</i></th><th>Length</th><th>LongLength</th><th>Rank</th><th>SyncRoot</th><th>IsReadOnly</th><th>IsFixedSize</th><th>IsSynchronized</th></tr></thead><tbody><tr><td>0</td><td>3</td><td>3</td><td>1</td><td>111213</td><td>False</td><td>True</td><td>False</td></tr><tr><td>1</td><td>2</td><td>2</td><td>1</td><td>2122</td><td>False</td><td>True</td><td>False</td></tr><tr><td>2</td><td>4</td><td>4</td><td>1</td><td>31323334</td><td>False</td><td>True</td><td>False</td></tr></tbody></table>"
      ]
     },
     "execution_count": 19,
     "metadata": {},
     "output_type": "execute_result"
    }
   ],
   "source": [
    "int[][] a5=new int[3][]; // 空の配列\n",
    "int[][] a6=new int[][] {\n",
    "\tnew int[] {11,12,13},\n",
    "\tnew int[] {21,22},\n",
    "\tnew int[] {31,32,33,34}\n",
    "}; // 3次元なら int[][][]\n",
    "Console.WriteLine($\"2,1番目: {a6[2][1]}\");\n",
    "Console.WriteLine($\"大きさ: {a6.Length}\");\n",
    "a6"
   ]
  },
  {
   "cell_type": "markdown",
   "metadata": {},
   "source": [
    "## タプル"
   ]
  },
  {
   "cell_type": "code",
   "execution_count": 20,
   "metadata": {},
   "outputs": [
    {
     "name": "stdout",
     "output_type": "stream",
     "text": [
      "y= second\n"
     ]
    },
    {
     "data": {
      "text/html": [
       "<table><thead><tr><th>Item1</th><th>Item2</th><th>Item3</th></tr></thead><tbody><tr><td>1</td><td>second</td><td>3.14</td></tr></tbody></table>"
      ]
     },
     "execution_count": 20,
     "metadata": {},
     "output_type": "execute_result"
    }
   ],
   "source": [
    "(int x,string y,double z) t1=(1,\"second\",3.14);\n",
    "var t2=(x:1,y:\"second\",z:3.14); // 同じ\n",
    "Console.WriteLine($\"y= {t1.y}\");\n",
    "t1"
   ]
  },
  {
   "cell_type": "markdown",
   "metadata": {},
   "source": [
    "## 変数の宣言\n",
    "\n",
    "### 変数\n",
    "```C#\n",
    "int x;\n",
    "int x = 6;\n",
    "var x = (int)6;\n",
    "var (x,y,z) = (6,3,2);\n",
    "```\n",
    "\n",
    "### 定数\n",
    "```C#\n",
    "const int x = 6;\n",
    "```"
   ]
  },
  {
   "cell_type": "markdown",
   "metadata": {},
   "source": [
    "## 型判定\n",
    "* `val is Type` : `Type` 型であるかどうか判定"
   ]
  },
  {
   "cell_type": "markdown",
   "metadata": {},
   "source": [
    "## 型変換\n",
    "\n",
    "### 文字列 ⇄ 数値\n",
    "\n",
    "* 数値型 → `String`  \n",
    "\t`int` の例\n",
    "\t```C#\n",
    "\tint intValue=6;\n",
    "\tString strValue=intValue.ToString();\n",
    "\t// 数値は文字列として足し合わせることができる (\"12\"+3 → \"123\")\n",
    "\t```\n",
    "\n",
    "\n",
    "* `String` → 数値型  \n",
    "\t`int` の例\n",
    "\t```C#\n",
    "\tString strValue=\"6\";\n",
    "\tint intValue=int.Parse(strValue);\n",
    "\t// 文字列が数値表現でないとエラーになる\n",
    "\t```\n",
    "\n",
    "### 数値型同士の変換 (キャストのルールに準ずる)\n",
    "\n",
    "* 小→大は代入すれば特に問題はない\n",
    "\n",
    "\t```C#\n",
    "\tint x = 6;\n",
    "\tdouble y = x;\n",
    "\t```\n",
    "\n",
    "* 大→小は明示的に型変換が必要\n",
    "\n",
    "\t```C#\n",
    "\tdouble x = 6.0;\n",
    "\tint y = (int)x;\n",
    "\t```\n",
    "\n",
    "* オーバーフローした際の挙動を制御することができる\n",
    "\n",
    "\t```C#\n",
    "\tunchecked {\n",
    "\t\tint x = 512;\n",
    "\t\tsbyte y = (sbyte)x; // オーバーフローは無視される\n",
    "    }\n",
    "\t```\n",
    "\n",
    "\t```C#\n",
    "\tchecked {\n",
    "\t\tint x = 512;\n",
    "\t\tsbyte y = (sbyte)x; // オーバーフローによりエラーが発生する\n",
    "    }\n",
    "\t```"
   ]
  }
 ],
 "metadata": {
  "kernelspec": {
   "display_name": ".NET (C#)",
   "language": "C#",
   "name": ".net-csharp"
  },
  "language_info": {
   "file_extension": ".cs",
   "mimetype": "text/x-csharp",
   "name": "C#",
   "pygments_lexer": "csharp",
   "version": "8.0"
  }
 },
 "nbformat": 4,
 "nbformat_minor": 4
}
