{
 "cells": [
  {
   "cell_type": "markdown",
   "metadata": {},
   "source": [
    "# 演算"
   ]
  },
  {
   "cell_type": "markdown",
   "metadata": {},
   "source": [
    "## 進数変換\n",
    "任意の進数を取り扱う方法は標準で搭載されていないので,自作関数を用意する必要がある"
   ]
  },
  {
   "cell_type": "markdown",
   "metadata": {},
   "source": [
    "### 10進数 → 2,8,16進数"
   ]
  },
  {
   "cell_type": "code",
   "execution_count": 1,
   "metadata": {},
   "outputs": [
    {
     "output_type": "execute_result",
     "data": {
      "text/plain": "10001010"
     },
     "metadata": {},
     "execution_count": 1
    }
   ],
   "source": [
    "Convert.ToString(138,2) // dec2bin"
   ]
  },
  {
   "cell_type": "code",
   "execution_count": 2,
   "metadata": {},
   "outputs": [
    {
     "output_type": "execute_result",
     "data": {
      "text/plain": "212"
     },
     "metadata": {},
     "execution_count": 2
    }
   ],
   "source": [
    "Convert.ToString(138,8) // dec2oct"
   ]
  },
  {
   "cell_type": "code",
   "execution_count": 3,
   "metadata": {},
   "outputs": [
    {
     "output_type": "execute_result",
     "data": {
      "text/plain": "8a"
     },
     "metadata": {},
     "execution_count": 3
    }
   ],
   "source": [
    "Convert.ToString(138,16) // dec2hex"
   ]
  },
  {
   "cell_type": "markdown",
   "metadata": {},
   "source": [
    "### 2,8,16進数 → 10進数"
   ]
  },
  {
   "cell_type": "code",
   "execution_count": 4,
   "metadata": {},
   "outputs": [
    {
     "output_type": "execute_result",
     "data": {
      "text/plain": "893"
     },
     "metadata": {},
     "execution_count": 4
    }
   ],
   "source": [
    "Convert.ToInt32(\"1101111101\",2) // bin2dec"
   ]
  },
  {
   "cell_type": "code",
   "execution_count": 5,
   "metadata": {},
   "outputs": [
    {
     "output_type": "execute_result",
     "data": {
      "text/plain": "893"
     },
     "metadata": {},
     "execution_count": 5
    }
   ],
   "source": [
    "Convert.ToInt32(\"1575\",8) // oct2dec"
   ]
  },
  {
   "cell_type": "code",
   "execution_count": 6,
   "metadata": {},
   "outputs": [
    {
     "output_type": "execute_result",
     "data": {
      "text/plain": "893"
     },
     "metadata": {},
     "execution_count": 6
    }
   ],
   "source": [
    "Convert.ToInt32(\"37d\",16) // hex2dec"
   ]
  },
  {
   "cell_type": "markdown",
   "metadata": {},
   "source": [
    "`Convert.ToString` も `Convert.ToInt32` も第2引数は2,8,16しか受け付けない"
   ]
  },
  {
   "cell_type": "markdown",
   "metadata": {},
   "source": [
    "## 定数"
   ]
  },
  {
   "cell_type": "code",
   "execution_count": 7,
   "metadata": {},
   "outputs": [
    {
     "output_type": "execute_result",
     "data": {
      "text/plain": "2.718281828459045"
     },
     "metadata": {},
     "execution_count": 7
    }
   ],
   "source": [
    "Math.E"
   ]
  },
  {
   "cell_type": "code",
   "execution_count": 8,
   "metadata": {},
   "outputs": [
    {
     "output_type": "execute_result",
     "data": {
      "text/plain": "3.141592653589793"
     },
     "metadata": {},
     "execution_count": 8
    }
   ],
   "source": [
    "Math.PI"
   ]
  },
  {
   "cell_type": "markdown",
   "metadata": {},
   "source": [
    "## 最大/最小"
   ]
  },
  {
   "cell_type": "code",
   "execution_count": 9,
   "metadata": {},
   "outputs": [
    {
     "output_type": "execute_result",
     "data": {
      "text/plain": "3"
     },
     "metadata": {},
     "execution_count": 9
    }
   ],
   "source": [
    "Math.Min(3,6)"
   ]
  },
  {
   "cell_type": "code",
   "execution_count": 10,
   "metadata": {},
   "outputs": [
    {
     "output_type": "execute_result",
     "data": {
      "text/plain": "6"
     },
     "metadata": {},
     "execution_count": 10
    }
   ],
   "source": [
    "Math.Max(3,6)"
   ]
  },
  {
   "cell_type": "code",
   "execution_count": 11,
   "metadata": {},
   "outputs": [
    {
     "output_type": "execute_result",
     "data": {
      "text/plain": "3"
     },
     "metadata": {},
     "execution_count": 11
    }
   ],
   "source": [
    "Math.MinMagnitude(3,-6)"
   ]
  },
  {
   "cell_type": "code",
   "execution_count": 12,
   "metadata": {},
   "outputs": [
    {
     "output_type": "execute_result",
     "data": {
      "text/plain": "-6"
     },
     "metadata": {},
     "execution_count": 12
    }
   ],
   "source": [
    "Math.MaxMagnitude(3,-6)"
   ]
  },
  {
   "cell_type": "markdown",
   "metadata": {},
   "source": [
    "-1≦x≦ 1 に収める"
   ]
  },
  {
   "cell_type": "code",
   "execution_count": 13,
   "metadata": {},
   "outputs": [
    {
     "output_type": "execute_result",
     "data": {
      "text/plain": "0.5"
     },
     "metadata": {},
     "execution_count": 13
    }
   ],
   "source": [
    "Math.Clamp(0.5,-1,1) // -1≦x≦ 1 ⇒  x"
   ]
  },
  {
   "cell_type": "code",
   "execution_count": 14,
   "metadata": {},
   "outputs": [
    {
     "output_type": "execute_result",
     "data": {
      "text/plain": "-1"
     },
     "metadata": {},
     "execution_count": 14
    }
   ],
   "source": [
    "Math.Clamp( -5,-1,1) //    x≦-1 ⇒ -1"
   ]
  },
  {
   "cell_type": "code",
   "execution_count": 15,
   "metadata": {},
   "outputs": [
    {
     "output_type": "execute_result",
     "data": {
      "text/plain": "1"
     },
     "metadata": {},
     "execution_count": 15
    }
   ],
   "source": [
    "Math.Clamp(  5,-1,1) //    x≧ 1 ⇒  1"
   ]
  },
  {
   "cell_type": "markdown",
   "metadata": {},
   "source": [
    "## 符号"
   ]
  },
  {
   "cell_type": "code",
   "execution_count": 16,
   "metadata": {},
   "outputs": [
    {
     "output_type": "execute_result",
     "data": {
      "text/plain": "18"
     },
     "metadata": {},
     "execution_count": 16
    }
   ],
   "source": [
    "Math.Abs(+18)"
   ]
  },
  {
   "cell_type": "code",
   "execution_count": 17,
   "metadata": {},
   "outputs": [
    {
     "output_type": "execute_result",
     "data": {
      "text/plain": "18"
     },
     "metadata": {},
     "execution_count": 17
    }
   ],
   "source": [
    "Math.Abs(-18)"
   ]
  },
  {
   "cell_type": "code",
   "execution_count": 18,
   "metadata": {},
   "outputs": [
    {
     "output_type": "execute_result",
     "data": {
      "text/plain": "1"
     },
     "metadata": {},
     "execution_count": 18
    }
   ],
   "source": [
    "Math.Sign(+18)"
   ]
  },
  {
   "cell_type": "code",
   "execution_count": 19,
   "metadata": {},
   "outputs": [
    {
     "output_type": "execute_result",
     "data": {
      "text/plain": "0"
     },
     "metadata": {},
     "execution_count": 19
    }
   ],
   "source": [
    "Math.Sign(0)"
   ]
  },
  {
   "cell_type": "code",
   "execution_count": 20,
   "metadata": {},
   "outputs": [
    {
     "output_type": "execute_result",
     "data": {
      "text/plain": "-1"
     },
     "metadata": {},
     "execution_count": 20
    }
   ],
   "source": [
    "Math.Sign(-18)"
   ]
  },
  {
   "cell_type": "code",
   "execution_count": 21,
   "metadata": {},
   "outputs": [
    {
     "output_type": "execute_result",
     "data": {
      "text/plain": "2"
     },
     "metadata": {},
     "execution_count": 21
    }
   ],
   "source": [
    "Math.CopySign(-2,3) // = Math.Abs(-2)*Math.Sign(3)"
   ]
  },
  {
   "cell_type": "markdown",
   "metadata": {},
   "source": [
    "## 数学関数"
   ]
  },
  {
   "cell_type": "code",
   "execution_count": 22,
   "metadata": {},
   "outputs": [
    {
     "output_type": "execute_result",
     "data": {
      "text/plain": "1024"
     },
     "metadata": {},
     "execution_count": 22
    }
   ],
   "source": [
    "Math.Pow(2,10)"
   ]
  },
  {
   "cell_type": "code",
   "execution_count": 23,
   "metadata": {},
   "outputs": [
    {
     "output_type": "execute_result",
     "data": {
      "text/plain": "1.7320508075688772"
     },
     "metadata": {},
     "execution_count": 23
    }
   ],
   "source": [
    "Math.Sqrt(3)"
   ]
  },
  {
   "cell_type": "code",
   "execution_count": 24,
   "metadata": {},
   "outputs": [
    {
     "output_type": "execute_result",
     "data": {
      "text/plain": "3"
     },
     "metadata": {},
     "execution_count": 24
    }
   ],
   "source": [
    "Math.Cbrt(27)"
   ]
  },
  {
   "cell_type": "code",
   "execution_count": 25,
   "metadata": {},
   "outputs": [
    {
     "output_type": "execute_result",
     "data": {
      "text/plain": "3.142441356839167"
     },
     "metadata": {},
     "execution_count": 25
    }
   ],
   "source": [
    "Math.Exp(1.145)"
   ]
  },
  {
   "cell_type": "code",
   "execution_count": 26,
   "metadata": {},
   "outputs": [
    {
     "output_type": "execute_result",
     "data": {
      "text/plain": "3.1415627217655304"
     },
     "metadata": {},
     "execution_count": 26
    }
   ],
   "source": [
    "Math.Log(23.14)"
   ]
  },
  {
   "cell_type": "code",
   "execution_count": 27,
   "metadata": {},
   "outputs": [
    {
     "output_type": "execute_result",
     "data": {
      "text/plain": "3.1414497734004674"
     },
     "metadata": {},
     "execution_count": 27
    }
   ],
   "source": [
    "Math.Log10(1385)"
   ]
  },
  {
   "cell_type": "code",
   "execution_count": 28,
   "metadata": {},
   "outputs": [
    {
     "output_type": "execute_result",
     "data": {
      "text/plain": "3.1415962783838176"
     },
     "metadata": {},
     "execution_count": 28
    }
   ],
   "source": [
    "Math.Log2(8.825)"
   ]
  },
  {
   "cell_type": "code",
   "execution_count": 29,
   "metadata": {},
   "outputs": [
    {
     "output_type": "error",
     "ename": "Unhandled Exception",
     "evalue": "(1,6): error CS0117: 'Math' does not contain a definition for 'ILog2'",
     "traceback": [
      "(1,6): error CS0117: 'Math' does not contain a definition for 'ILog2'"
     ]
    }
   ],
   "source": [
    "Math.ILog2(8.825) // = Log2 の結果を整数化"
   ]
  },
  {
   "cell_type": "code",
   "execution_count": 30,
   "metadata": {},
   "outputs": [
    {
     "output_type": "execute_result",
     "data": {
      "text/plain": "0.8660254037844386"
     },
     "metadata": {},
     "execution_count": 30
    }
   ],
   "source": [
    "Math.Sin(Math.PI/3)"
   ]
  },
  {
   "cell_type": "code",
   "execution_count": 31,
   "metadata": {},
   "outputs": [
    {
     "output_type": "execute_result",
     "data": {
      "text/plain": "0.5000000000000001"
     },
     "metadata": {},
     "execution_count": 31
    }
   ],
   "source": [
    "Math.Cos(Math.PI/3)"
   ]
  },
  {
   "cell_type": "code",
   "execution_count": 32,
   "metadata": {},
   "outputs": [
    {
     "output_type": "execute_result",
     "data": {
      "text/plain": "1.7320508075688767"
     },
     "metadata": {},
     "execution_count": 32
    }
   ],
   "source": [
    "Math.Tan(Math.PI/3)"
   ]
  },
  {
   "cell_type": "code",
   "execution_count": 33,
   "metadata": {},
   "outputs": [
    {
     "output_type": "execute_result",
     "data": {
      "text/plain": "1.5707963267948966"
     },
     "metadata": {},
     "execution_count": 33
    }
   ],
   "source": [
    "Math.Asin(1)"
   ]
  },
  {
   "cell_type": "code",
   "execution_count": 34,
   "metadata": {},
   "outputs": [
    {
     "output_type": "execute_result",
     "data": {
      "text/plain": "1.0471975511965976"
     },
     "metadata": {},
     "execution_count": 34
    }
   ],
   "source": [
    "Math.Acos(0.5)"
   ]
  },
  {
   "cell_type": "code",
   "execution_count": 35,
   "metadata": {},
   "outputs": [
    {
     "output_type": "execute_result",
     "data": {
      "text/plain": "-0.7853981633974483"
     },
     "metadata": {},
     "execution_count": 35
    }
   ],
   "source": [
    "Math.Atan(-1)"
   ]
  },
  {
   "cell_type": "code",
   "execution_count": 36,
   "metadata": {},
   "outputs": [
    {
     "output_type": "execute_result",
     "data": {
      "text/plain": "1.176005207095135"
     },
     "metadata": {},
     "execution_count": 36
    }
   ],
   "source": [
    "Math.Atan2(12,5) // atan2(y,x)"
   ]
  },
  {
   "cell_type": "code",
   "execution_count": 37,
   "metadata": {},
   "outputs": [
    {
     "output_type": "execute_result",
     "data": {
      "text/plain": "3.14061775238487"
     },
     "metadata": {},
     "execution_count": 37
    }
   ],
   "source": [
    "Math.Sinh(1.862)"
   ]
  },
  {
   "cell_type": "code",
   "execution_count": 38,
   "metadata": {},
   "outputs": [
    {
     "output_type": "execute_result",
     "data": {
      "text/plain": "3.14002575018546"
     },
     "metadata": {},
     "execution_count": 38
    }
   ],
   "source": [
    "Math.Cosh(1.811)"
   ]
  },
  {
   "cell_type": "code",
   "execution_count": 39,
   "metadata": {},
   "outputs": [
    {
     "output_type": "execute_result",
     "data": {
      "text/plain": "0.3140209253469976"
     },
     "metadata": {},
     "execution_count": 39
    }
   ],
   "source": [
    "Math.Tanh(0.325)"
   ]
  },
  {
   "cell_type": "markdown",
   "metadata": {},
   "source": [
    "## 乱数"
   ]
  },
  {
   "cell_type": "code",
   "execution_count": 40,
   "metadata": {},
   "outputs": [],
   "source": [
    "Random r=new Random();"
   ]
  },
  {
   "cell_type": "code",
   "execution_count": 41,
   "metadata": {},
   "outputs": [
    {
     "output_type": "execute_result",
     "data": {
      "text/plain": "143480230"
     },
     "metadata": {},
     "execution_count": 41
    }
   ],
   "source": [
    "r.Next() // 0以上の整数"
   ]
  },
  {
   "cell_type": "code",
   "execution_count": 42,
   "metadata": {},
   "outputs": [
    {
     "output_type": "execute_result",
     "data": {
      "text/plain": "2"
     },
     "metadata": {},
     "execution_count": 42
    }
   ],
   "source": [
    "r.Next(10) // 0以上10未満の整数"
   ]
  },
  {
   "cell_type": "code",
   "execution_count": 43,
   "metadata": {},
   "outputs": [
    {
     "output_type": "execute_result",
     "data": {
      "text/plain": "6"
     },
     "metadata": {},
     "execution_count": 43
    }
   ],
   "source": [
    "r.Next(5,8) // 5≤x<8 の整数"
   ]
  },
  {
   "cell_type": "code",
   "execution_count": 44,
   "metadata": {},
   "outputs": [
    {
     "output_type": "execute_result",
     "data": {
      "text/plain": "0.7901947362302778"
     },
     "metadata": {},
     "execution_count": 44
    }
   ],
   "source": [
    "r.NextDouble() // 0≤x<1 の double 値"
   ]
  },
  {
   "cell_type": "code",
   "execution_count": 45,
   "metadata": {},
   "outputs": [
    {
     "output_type": "error",
     "ename": "Unhandled Exception",
     "evalue": "(1,3): error CS0122: 'Random.Sample()' is inaccessible due to its protection level",
     "traceback": [
      "(1,3): error CS0122: 'Random.Sample()' is inaccessible due to its protection level"
     ]
    }
   ],
   "source": [
    "r.Sample() // 0≤x<1 の double 値"
   ]
  },
  {
   "cell_type": "markdown",
   "metadata": {},
   "source": [
    "## 端数処理"
   ]
  },
  {
   "cell_type": "code",
   "execution_count": 46,
   "metadata": {},
   "outputs": [
    {
     "output_type": "execute_result",
     "data": {
      "text/plain": "-4"
     },
     "metadata": {},
     "execution_count": 46
    }
   ],
   "source": [
    "Math.Floor(-3.14) // 小さい方の整数へ"
   ]
  },
  {
   "cell_type": "code",
   "execution_count": 47,
   "metadata": {},
   "outputs": [
    {
     "output_type": "execute_result",
     "data": {
      "text/plain": "-3"
     },
     "metadata": {},
     "execution_count": 47
    }
   ],
   "source": [
    "Math.Ceiling(-3.14) // 大きい方の整数へ"
   ]
  },
  {
   "cell_type": "code",
   "execution_count": 48,
   "metadata": {},
   "outputs": [
    {
     "output_type": "execute_result",
     "data": {
      "text/plain": "-3"
     },
     "metadata": {},
     "execution_count": 48
    }
   ],
   "source": [
    "Math.Truncate(-3.14) // 0に近い方の整数へ"
   ]
  },
  {
   "cell_type": "code",
   "execution_count": 49,
   "metadata": {},
   "outputs": [
    {
     "output_type": "execute_result",
     "data": {
      "text/plain": "-3"
     },
     "metadata": {},
     "execution_count": 49
    }
   ],
   "source": [
    "Math.Round(-3.14)"
   ]
  },
  {
   "cell_type": "markdown",
   "metadata": {},
   "source": [
    "`Round` 関数は次のように第2引数で丸め方を指定することができる。\n",
    "```C#\n",
    "Math.Round(-3.14,MidPointRounding.ToEven)\n",
    "```\n",
    "`MidpointRounding` 列挙体は丸め方を指定する  \n",
    "Rounding.md に記載した手法に基づくと,次のように分類できる\n",
    "\n",
    "| 対応する数値 | `MidpointRounding` | 手法 |\n",
    "|:-:|:-|:-:|\n",
    "| 0 | `ToEven` | **even** |\n",
    "| 1 | `AwayFromZero` | **away** |\n",
    "| 2 | `ToZero` | **closer** |\n",
    "| 3 | `ToNegativeInfinity` | **down** |\n",
    "| 4 | `ToPositiveInfinity` | **up** |"
   ]
  }
 ],
 "metadata": {
  "kernelspec": {
   "display_name": ".NET (C#)",
   "language": "C#",
   "name": ".net-csharp"
  },
  "language_info": {
   "file_extension": ".cs",
   "mimetype": "text/x-csharp",
   "name": "C#",
   "pygments_lexer": "csharp",
   "version": "3.8.5-final"
  }
 },
 "nbformat": 4,
 "nbformat_minor": 4
}
