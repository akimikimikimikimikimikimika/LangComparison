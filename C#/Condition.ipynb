{
 "cells": [
  {
   "cell_type": "markdown",
   "metadata": {},
   "source": [
    "# 条件分岐"
   ]
  },
  {
   "cell_type": "code",
   "execution_count": 1,
   "metadata": {},
   "outputs": [],
   "source": [
    "const bool test1 = true;\n",
    "const bool test2 = false;"
   ]
  },
  {
   "cell_type": "code",
   "execution_count": 2,
   "metadata": {},
   "outputs": [
    {
     "name": "stdout",
     "output_type": "stream",
     "text": [
      "どうやらtest1は真のようです\n"
     ]
    }
   ],
   "source": [
    "if (test1) {\n",
    "\tConsole.WriteLine(\"どうやらtest1は真のようです\");\n",
    "}"
   ]
  },
  {
   "cell_type": "code",
   "execution_count": 3,
   "metadata": {},
   "outputs": [
    {
     "name": "stdout",
     "output_type": "stream",
     "text": [
      "真偽が混在しているようです\n"
     ]
    }
   ],
   "source": [
    "if (!test1) {\n",
    "\tConsole.WriteLine(\"どうやらtest1は偽のようです\");\n",
    "}\n",
    "else if (test2) {\n",
    "\tConsole.WriteLine(\"どうやらtest2は真のようです\");\n",
    "}\n",
    "else if (!test2 && test1) {\n",
    "\tConsole.WriteLine(\"真偽が混在しているようです\");\n",
    "}\n",
    "else {\n",
    "\tConsole.WriteLine(\"どれでもないようです\");\n",
    "}"
   ]
  },
  {
   "cell_type": "markdown",
   "metadata": {},
   "source": [
    "### 通常の `switch`"
   ]
  },
  {
   "cell_type": "code",
   "execution_count": 4,
   "metadata": {},
   "outputs": [
    {
     "name": "stdout",
     "output_type": "stream",
     "text": [
      "8は連続して素数ではない\n"
     ]
    }
   ],
   "source": [
    "const int val = 8;\n",
    "switch (val) {\n",
    "\tcase 0:\n",
    "\tcase 1:\n",
    "\t\tConsole.WriteLine($\"{val}は特別な値である\");break;\n",
    "\tcase 8:\n",
    "\tcase 9:\n",
    "\tcase 10:\n",
    "\t\tConsole.WriteLine($\"{val}は連続して素数ではない\");break;\n",
    "\tcase 4:\n",
    "\tcase 6:\n",
    "\t\tConsole.WriteLine($\"{val}は素数ではない\");break;\n",
    "\tcase 2:\n",
    "\tcase 3:\n",
    "\tcase 5:\n",
    "\tcase 7:\n",
    "\t\tConsole.WriteLine($\"{val}は素数である\");break;\n",
    "\tdefault:\n",
    "\t\tConsole.WriteLine($\"{val}なぞ私には興味がない\");break;\n",
    "}"
   ]
  },
  {
   "cell_type": "markdown",
   "metadata": {},
   "source": [
    "* 型の全ての値を網羅した `case` が必要である。だから, `int` のように値が無数にある型で `switch` 文を導入する場合は基本的に `default` が必要。\n",
    "* C# においてはフォールスルーが認められておらず,各 `case` 節の最後には必ず `break` か `return` 文か `goto` 文がなくてはならない。\n",
    "* 複数の値にマッチするように `case` が連続している場合のみフォールスルーが認められる。"
   ]
  },
  {
   "cell_type": "markdown",
   "metadata": {},
   "source": [
    "### 型の判別が可能な `switch`"
   ]
  },
  {
   "cell_type": "code",
   "execution_count": 5,
   "metadata": {},
   "outputs": [
    {
     "name": "stdout",
     "output_type": "stream",
     "text": [
      "8は連続して素数ではない\n"
     ]
    }
   ],
   "source": [
    "object val = 8;\n",
    "switch (val) {\n",
    "\tcase int n when n<2:\n",
    "\t\tConsole.WriteLine($\"{n}は特別な値である\");break;\n",
    "\tcase int n when n>=8 && n<=10:\n",
    "\t\tConsole.WriteLine($\"{n}は連続して素数ではない\");break;\n",
    "\tcase int n when n==4 && n==6:\n",
    "\t\tConsole.WriteLine($\"{n}は素数ではない\");break;\n",
    "\tcase int n when n<10:\n",
    "\t\tConsole.WriteLine($\"{n}は素数である\");break;\n",
    "\tcase int n:\n",
    "\t\tConsole.WriteLine($\"{n}なぞ私には興味がない\");break;\n",
    "\tcase double d:\n",
    "\t\tConsole.WriteLine($\"{d}は整数ではない\");break;\n",
    "\tdefault:\n",
    "\t\tConsole.WriteLine(\"そもそも数値ですらない,論外だ。\");break;\n",
    "}"
   ]
  },
  {
   "cell_type": "markdown",
   "metadata": {},
   "source": [
    "`when` により型と合わせて条件を指定できる"
   ]
  },
  {
   "cell_type": "markdown",
   "metadata": {},
   "source": [
    "### 複数の値による `switch`"
   ]
  },
  {
   "cell_type": "code",
   "execution_count": 6,
   "metadata": {},
   "outputs": [
    {
     "name": "stdout",
     "output_type": "stream",
     "text": [
      "xor: true\n"
     ]
    }
   ],
   "source": [
    "const bool test1 = true;\n",
    "const bool test2 = false;\n",
    "\n",
    "switch (test1,test2) {\n",
    "    case ( true, true):\n",
    "    case (false,false):\n",
    "\t\tConsole.WriteLine(\"xor: false\");break;\n",
    "    case ( true,false):\n",
    "    case (false, true):\n",
    "\t\tConsole.WriteLine(\"xor: true\");break;\n",
    "}"
   ]
  },
  {
   "cell_type": "markdown",
   "metadata": {},
   "source": [
    "### `switch` 式"
   ]
  },
  {
   "cell_type": "code",
   "execution_count": 7,
   "metadata": {},
   "outputs": [
    {
     "name": "stdout",
     "output_type": "stream",
     "text": [
      "8は連続して素数ではない\n"
     ]
    }
   ],
   "source": [
    "const int val = 8;\n",
    "string message = val switch {\n",
    "\t1 => \"1は特別な値である\",\n",
    "\t2 => \"2は素数である\",\n",
    "\t4 => \"4は素数ではない\",\n",
    "\t8 => \"8は連続して素数ではない\",\n",
    "\t_ => $\"{val}なぞ私には興味がない\"\n",
    "};\n",
    "Console.WriteLine(message);"
   ]
  },
  {
   "cell_type": "markdown",
   "metadata": {},
   "source": [
    "`switch` 式であってもやはり型の判別や複数の値を用いた `switch` は利用可能である"
   ]
  }
 ],
 "metadata": {
  "kernelspec": {
   "display_name": ".NET (C#)",
   "language": "C#",
   "name": ".net-csharp"
  },
  "language_info": {
   "file_extension": ".cs",
   "mimetype": "text/x-csharp",
   "name": "C#",
   "pygments_lexer": "csharp",
   "version": "8.0"
  }
 },
 "nbformat": 4,
 "nbformat_minor": 4
}
