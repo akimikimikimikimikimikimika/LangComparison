{
 "cells": [
  {
   "cell_type": "markdown",
   "metadata": {},
   "source": [
    "# 文字列"
   ]
  },
  {
   "cell_type": "code",
   "execution_count": 1,
   "metadata": {},
   "outputs": [],
   "source": [
    "using System.Text.RegularExpressions;"
   ]
  },
  {
   "cell_type": "markdown",
   "metadata": {},
   "source": [
    "## 長さ"
   ]
  },
  {
   "cell_type": "code",
   "execution_count": 2,
   "metadata": {},
   "outputs": [
    {
     "data": {
      "text/plain": [
       "4"
      ]
     },
     "execution_count": 2,
     "metadata": {},
     "output_type": "execute_result"
    }
   ],
   "source": [
    "\"リプサム\".Length"
   ]
  },
  {
   "cell_type": "code",
   "execution_count": 3,
   "metadata": {},
   "outputs": [
    {
     "output_type": "execute_result",
     "data": {
      "text/plain": "False"
     },
     "metadata": {},
     "execution_count": 3
    }
   ],
   "source": [
    "String.IsNullOrEmpty(\"リプサム\")"
   ]
  },
  {
   "cell_type": "code",
   "execution_count": 4,
   "metadata": {},
   "outputs": [
    {
     "output_type": "execute_result",
     "data": {
      "text/plain": "False"
     },
     "metadata": {},
     "execution_count": 4
    }
   ],
   "source": [
    "String.IsNullOrWhiteSpace(\"リプサム\")"
   ]
  },
  {
   "cell_type": "markdown",
   "metadata": {},
   "source": [
    "---\n",
    "## 文字列の結合"
   ]
  },
  {
   "cell_type": "code",
   "execution_count": 5,
   "metadata": {},
   "outputs": [
    {
     "output_type": "execute_result",
     "data": {
      "text/plain": "Lipsum"
     },
     "metadata": {},
     "execution_count": 5
    }
   ],
   "source": [
    "\"L\" + \"ipsum\""
   ]
  },
  {
   "cell_type": "code",
   "execution_count": 6,
   "metadata": {},
   "outputs": [
    {
     "output_type": "execute_result",
     "data": {
      "text/plain": "Lipsum"
     },
     "metadata": {},
     "execution_count": 6
    }
   ],
   "source": [
    "String.Concat(\"L\",\"ipsum\") // 同じ"
   ]
  },
  {
   "cell_type": "markdown",
   "metadata": {},
   "source": [
    "`String.Concat` には最大4つまで `string` 型の引数を与えられる。  \n",
    "`string[]` を1つだけ与えてもよい。"
   ]
  },
  {
   "cell_type": "markdown",
   "metadata": {},
   "source": [
    "---\n",
    "## 文字列の比較"
   ]
  },
  {
   "cell_type": "code",
   "execution_count": 7,
   "metadata": {},
   "outputs": [
    {
     "output_type": "execute_result",
     "data": {
      "text/plain": "False"
     },
     "metadata": {},
     "execution_count": 7
    }
   ],
   "source": [
    "\"Lorem\"==\"Ipsum\""
   ]
  },
  {
   "cell_type": "code",
   "execution_count": 8,
   "metadata": {},
   "outputs": [
    {
     "output_type": "execute_result",
     "data": {
      "text/plain": "False"
     },
     "metadata": {},
     "execution_count": 8
    }
   ],
   "source": [
    "String.Equals(\"Lorem\",\"Ipsum\")"
   ]
  },
  {
   "cell_type": "code",
   "execution_count": 9,
   "metadata": {},
   "outputs": [
    {
     "output_type": "execute_result",
     "data": {
      "text/plain": "True"
     },
     "metadata": {},
     "execution_count": 9
    }
   ],
   "source": [
    "\"Lorem\"!=\"Ipsum\""
   ]
  },
  {
   "cell_type": "code",
   "execution_count": 10,
   "metadata": {},
   "outputs": [
    {
     "output_type": "execute_result",
     "data": {
      "text/plain": "1"
     },
     "metadata": {},
     "execution_count": 10
    }
   ],
   "source": [
    "String.Compare(\"Lorem\",\"Ipsum\")"
   ]
  },
  {
   "cell_type": "code",
   "execution_count": 11,
   "metadata": {},
   "outputs": [
    {
     "output_type": "execute_result",
     "data": {
      "text/plain": "1"
     },
     "metadata": {},
     "execution_count": 11
    }
   ],
   "source": [
    "\"Lorem\".CompareTo(\"Ipsum\")"
   ]
  },
  {
   "cell_type": "markdown",
   "metadata": {},
   "source": [
    "---\n",
    "## 部分文字列"
   ]
  },
  {
   "cell_type": "code",
   "execution_count": 12,
   "metadata": {},
   "outputs": [
    {
     "output_type": "execute_result",
     "data": {
      "text/plain": "R"
     },
     "metadata": {},
     "execution_count": 12
    }
   ],
   "source": [
    "\"LOREM IPSUM dolor sit amet\"[2]"
   ]
  },
  {
   "cell_type": "code",
   "execution_count": 13,
   "metadata": {},
   "outputs": [
    {
     "output_type": "execute_result",
     "data": {
      "text/plain": "REM"
     },
     "metadata": {},
     "execution_count": 13
    }
   ],
   "source": [
    "\"LOREM IPSUM dolor sit amet\".Substring(2,3) // 2文字目から3文字取り出し\n",
    "// 第2引数を省略すれば末尾までになる"
   ]
  },
  {
   "cell_type": "markdown",
   "metadata": {},
   "source": [
    "---\n",
    "## 検索"
   ]
  },
  {
   "cell_type": "markdown",
   "metadata": {},
   "source": [
    "### 文字列の検索"
   ]
  },
  {
   "cell_type": "code",
   "execution_count": 14,
   "metadata": {},
   "outputs": [
    {
     "output_type": "execute_result",
     "data": {
      "text/plain": "True"
     },
     "metadata": {},
     "execution_count": 14
    }
   ],
   "source": [
    "\"LOREM IPSUM dolor sit amet\".Contains(\"dolor\")"
   ]
  },
  {
   "cell_type": "code",
   "execution_count": 15,
   "metadata": {},
   "outputs": [
    {
     "output_type": "execute_result",
     "data": {
      "text/plain": "4"
     },
     "metadata": {},
     "execution_count": 15
    }
   ],
   "source": [
    "\"LOREM IPSUM dolor sit amet\".IndexOf('M') // 指定した char 又は string が初めて現れる位置"
   ]
  },
  {
   "cell_type": "code",
   "execution_count": 16,
   "metadata": {},
   "outputs": [
    {
     "output_type": "execute_result",
     "data": {
      "text/plain": "4"
     },
     "metadata": {},
     "execution_count": 16
    }
   ],
   "source": [
    "\"LOREM IPSUM dolor sit amet\".IndexOfAny(new char[]{'P','M','o'}) // 指定した何れかの文字が初めて現れる位置"
   ]
  },
  {
   "cell_type": "code",
   "execution_count": 17,
   "metadata": {},
   "outputs": [
    {
     "output_type": "execute_result",
     "data": {
      "text/plain": "10"
     },
     "metadata": {},
     "execution_count": 17
    }
   ],
   "source": [
    "\"LOREM IPSUM dolor sit amet\".LastIndexOf('M') // 指定した char 又は string が最後に現れる位置"
   ]
  },
  {
   "cell_type": "code",
   "execution_count": 18,
   "metadata": {},
   "outputs": [
    {
     "output_type": "execute_result",
     "data": {
      "text/plain": "15"
     },
     "metadata": {},
     "execution_count": 18
    }
   ],
   "source": [
    "\"LOREM IPSUM dolor sit amet\".LastIndexOfAny(new char[]{'P','M','o'}) // 指定した何れかの文字が最後に現れる位置"
   ]
  },
  {
   "cell_type": "markdown",
   "metadata": {},
   "source": [
    "* `IndexOf`, `IndexOfAny`, `LastIndexOf`, `LastIndexOfAny` は第2引数で検索開始位置を指定でき,さらに第3引数で検索終了位置を指定できる\n",
    "* 見つからなかったら -1 を返す"
   ]
  },
  {
   "cell_type": "code",
   "execution_count": 19,
   "metadata": {},
   "outputs": [
    {
     "output_type": "execute_result",
     "data": {
      "text/plain": "False"
     },
     "metadata": {},
     "execution_count": 19
    }
   ],
   "source": [
    "\"LOREM IPSUM dolor sit amet\".StartsWith(\"Lorem\")"
   ]
  },
  {
   "cell_type": "code",
   "execution_count": 20,
   "metadata": {},
   "outputs": [
    {
     "output_type": "execute_result",
     "data": {
      "text/plain": "True"
     },
     "metadata": {},
     "execution_count": 20
    }
   ],
   "source": [
    "\"LOREM IPSUM dolor sit amet\".EndsWith(\"amet\")"
   ]
  },
  {
   "cell_type": "markdown",
   "metadata": {},
   "source": [
    "### 正規表現での検索"
   ]
  },
  {
   "cell_type": "code",
   "execution_count": 21,
   "metadata": {},
   "outputs": [],
   "source": [
    "var r=new Regex(\"(?i)[a-z]*([a-z]m)\",RegexOptions.IgnoreCase|RegexOptions.Compiled);"
   ]
  },
  {
   "cell_type": "code",
   "execution_count": 22,
   "metadata": {},
   "outputs": [
    {
     "output_type": "execute_result",
     "data": {
      "text/plain": "True"
     },
     "metadata": {},
     "execution_count": 22
    }
   ],
   "source": [
    "r.IsMatch(\"LOREM IPSUM dolor sit amet\") // マッチの確認\n",
    "// Regex.IsMatch(\"LOREM IPSUM dolor sit amet\",\"[a-z]*([a-z]m)\",RegexOptions.IgnoreCase) : 同じ"
   ]
  },
  {
   "cell_type": "code",
   "execution_count": 23,
   "metadata": {
    "tags": []
   },
   "outputs": [
    {
     "output_type": "stream",
     "name": "stdout",
     "text": "LOREM\tEM\nIPSUM\tUM\n"
    }
   ],
   "source": [
    "var m=r.Match(\"LOREM IPSUM dolor sit amet\");\n",
    "// Regex.Match(\"LOREM IPSUM dolor sit amet\",\"[a-z]*([a-z]m)\",RegexOptions.IgnoreCase) : 同じ\n",
    "\n",
    "Console.WriteLine(m.Value+\"\\t\"+m.Groups[1].Value);\n",
    "\n",
    "var m2=m.NextMatch();\n",
    "Console.WriteLine(m2.Value+\"\\t\"+m2.Groups[1].Value);"
   ]
  },
  {
   "cell_type": "markdown",
   "metadata": {},
   "source": [
    "*　全体の値と0番目のグループの値は同じ\n",
    "\n",
    "```C#\n",
    "m.Groups[0].Value == m.Value\n",
    "```"
   ]
  },
  {
   "cell_type": "code",
   "execution_count": 24,
   "metadata": {
    "tags": []
   },
   "outputs": [
    {
     "output_type": "stream",
     "name": "stdout",
     "text": "LOREM\tEM\nIPSUM\tUM\nam\tam\n"
    }
   ],
   "source": [
    "var mc=r.Matches(\"LOREM IPSUM dolor sit amet\");\n",
    "// Regex.Matches(\"LOREM IPSUM dolor sit amet\",\"[a-z]*([a-z]m)\",RegexOptions.IgnoreCase) : 同じ\n",
    "\n",
    "foreach (Match m in mc) Console.WriteLine(m.Value+\"\\t\"+m.Groups[1].Value);"
   ]
  },
  {
   "cell_type": "markdown",
   "metadata": {},
   "source": [
    "* `new Regex` の第2引数や `Regex.IsMatch`, `Regex.Match`, `Regex.Matches`, `Regex.Replace`, `Regex.Split` の第3引数でオプションを指定することができる\n",
    "\n",
    "| 値 | 内容 |\n",
    "|:-|:-|\n",
    "| `RegexOptions.None` | 何も指定しない |\n",
    "| `RegexOptions.Compiled` | コンパイルして使用する |\n",
    "| `RegexOptions.ExplicitCapture` | 名前付きの `()` 以外はキャプチャしない |\n",
    "| `RegexOptions.IgnoreCase` | 大文字•小文字を区別しない |\n",
    "| `RegexOptions.IgnorePatternWhitespace` | パターン中のエスケープしていない空白を無視する |\n",
    "| `RegexOptions.Multiline` | `^` と `$` を全ての行の先頭と末尾に一致させる |\n",
    "| `RegexOptions.Singleline` | `.` を改行文字 `\\n` にも一致させる |\n",
    "| `RegexOptions.RightToLeft` | 右から左に走査する |"
   ]
  },
  {
   "cell_type": "markdown",
   "metadata": {},
   "source": [
    "---\n",
    "## 置換"
   ]
  },
  {
   "cell_type": "markdown",
   "metadata": {},
   "source": [
    "### 正規表現を使わない置換"
   ]
  },
  {
   "cell_type": "code",
   "execution_count": 25,
   "metadata": {},
   "outputs": [
    {
     "output_type": "execute_result",
     "data": {
      "text/plain": "LOREℳ IPSUℳ dolor sit amet"
     },
     "metadata": {},
     "execution_count": 25
    }
   ],
   "source": [
    "\"LOREM IPSUM dolor sit amet\".Replace(\"M\",\"ℳ\")"
   ]
  },
  {
   "cell_type": "markdown",
   "metadata": {},
   "source": [
    "### 正規表現を使う置換"
   ]
  },
  {
   "cell_type": "code",
   "execution_count": 26,
   "metadata": {},
   "outputs": [],
   "source": [
    "var r=new Regex(\"(\\\\w)(m)\",RegexOptions.IgnoreCase);"
   ]
  },
  {
   "cell_type": "code",
   "execution_count": 27,
   "metadata": {},
   "outputs": [
    {
     "output_type": "execute_result",
     "data": {
      "text/plain": "LORME IPSMU dolor sit maet"
     },
     "metadata": {},
     "execution_count": 27
    }
   ],
   "source": [
    "r.Replace(\"LOREM IPSUM dolor sit amet\",\"$2$1\") // swapping\n",
    "// Regex.Replace(\"LOREM IPSUM dolor sit amet\",\"(\\w)(m)\",\"$2$1\",RegexOptions.IgnoreCase) : 同じ"
   ]
  },
  {
   "cell_type": "markdown",
   "metadata": {},
   "source": [
    "演算もできる置換"
   ]
  },
  {
   "cell_type": "code",
   "execution_count": 28,
   "metadata": {},
   "outputs": [
    {
     "output_type": "execute_result",
     "data": {
      "text/plain": "LORmE IPSmU dolor sit mAet"
     },
     "metadata": {},
     "execution_count": 28
    }
   ],
   "source": [
    "string modify(Match m) {\n",
    "\treturn m.Groups[2].Value.ToLower()+m.Groups[1].Value.ToUpper();\n",
    "}\n",
    "\n",
    "r.Replace(\"LOREM IPSUM dolor sit amet\",new MatchEvaluator(modify)) // swapping & case fixed (upper+lower)"
   ]
  },
  {
   "cell_type": "markdown",
   "metadata": {},
   "source": [
    "---\n",
    "## 分割と結合"
   ]
  },
  {
   "cell_type": "markdown",
   "metadata": {},
   "source": [
    "### 正規表現を使わない分割"
   ]
  },
  {
   "cell_type": "code",
   "execution_count": 29,
   "metadata": {},
   "outputs": [
    {
     "output_type": "execute_result",
     "data": {
      "text/html": "<table><thead><tr><th><i>index</i></th><th>value</th></tr></thead><tbody><tr><td>0</td><td>LOREM</td></tr><tr><td>1</td><td>IPSUM</td></tr><tr><td>2</td><td>dolor</td></tr><tr><td>3</td><td>sit</td></tr><tr><td>4</td><td>amet</td></tr></tbody></table>"
     },
     "metadata": {},
     "execution_count": 29
    }
   ],
   "source": [
    "\"LOREM IPSUM dolor sit amet\".Split(\" \")"
   ]
  },
  {
   "cell_type": "markdown",
   "metadata": {},
   "source": [
    "### 正規表現を使う分割"
   ]
  },
  {
   "cell_type": "code",
   "execution_count": 30,
   "metadata": {},
   "outputs": [
    {
     "output_type": "execute_result",
     "data": {
      "text/html": "<table><thead><tr><th><i>index</i></th><th>value</th></tr></thead><tbody><tr><td>0</td><td>LOREM</td></tr><tr><td>1</td><td>amet</td></tr></tbody></table>"
     },
     "metadata": {},
     "execution_count": 30
    }
   ],
   "source": [
    "var r=new Regex(\"\\\\ [\\\\w\\\\ ]+\\\\ \",RegexOptions.IgnoreCase);\n",
    "r.Split(\"LOREM IPSUM dolor sit amet\")\n",
    "\n",
    "// Regex.Split(\"LOREM IPSUM dolor sit amet\",\"\\\\ [\\\\w\\\\ ]+\\\\ \") : 同じ"
   ]
  },
  {
   "cell_type": "markdown",
   "metadata": {},
   "source": [
    "### 結合"
   ]
  },
  {
   "cell_type": "code",
   "execution_count": 31,
   "metadata": {},
   "outputs": [
    {
     "output_type": "execute_result",
     "data": {
      "text/plain": "L_I_D_S_A"
     },
     "metadata": {},
     "execution_count": 31
    }
   ],
   "source": [
    "String.Join('_',new string[]{\"L\",\"I\",\"D\",\"S\",\"A\"}) // 文字又は文字列で結合"
   ]
  },
  {
   "cell_type": "markdown",
   "metadata": {},
   "source": [
    "---\n",
    "## 大文字/小文字の切替"
   ]
  },
  {
   "cell_type": "code",
   "execution_count": 32,
   "metadata": {},
   "outputs": [
    {
     "output_type": "execute_result",
     "data": {
      "text/plain": "LOREM IPSUM DOLOR SIT AMET"
     },
     "metadata": {},
     "execution_count": 32
    }
   ],
   "source": [
    "\"LOREM IPSUM dolor sit amet\".ToUpper()"
   ]
  },
  {
   "cell_type": "code",
   "execution_count": 33,
   "metadata": {},
   "outputs": [
    {
     "output_type": "execute_result",
     "data": {
      "text/plain": "lorem ipsum dolor sit amet"
     },
     "metadata": {},
     "execution_count": 33
    }
   ],
   "source": [
    "\"LOREM IPSUM dolor sit amet\".ToLower()"
   ]
  },
  {
   "cell_type": "markdown",
   "metadata": {},
   "source": [
    "---\n",
    "## 前後の文字の除去"
   ]
  },
  {
   "cell_type": "markdown",
   "metadata": {},
   "source": [
    "前後の空白の除去"
   ]
  },
  {
   "cell_type": "code",
   "execution_count": 34,
   "metadata": {},
   "outputs": [
    {
     "output_type": "execute_result",
     "data": {
      "text/plain": "redundant"
     },
     "metadata": {},
     "execution_count": 34
    }
   ],
   "source": [
    "\"   redundant   \".Trim()"
   ]
  },
  {
   "cell_type": "code",
   "execution_count": 35,
   "metadata": {},
   "outputs": [
    {
     "output_type": "execute_result",
     "data": {
      "text/plain": "redundant   "
     },
     "metadata": {},
     "execution_count": 35
    }
   ],
   "source": [
    "\"   redundant   \".TrimStart()"
   ]
  },
  {
   "cell_type": "code",
   "execution_count": 36,
   "metadata": {},
   "outputs": [
    {
     "output_type": "execute_result",
     "data": {
      "text/plain": "   redundant"
     },
     "metadata": {},
     "execution_count": 36
    }
   ],
   "source": [
    "\"   redundant   \".TrimEnd()"
   ]
  },
  {
   "cell_type": "markdown",
   "metadata": {},
   "source": [
    "指定した文字を前後から除去"
   ]
  },
  {
   "cell_type": "code",
   "execution_count": 37,
   "metadata": {},
   "outputs": [
    {
     "output_type": "execute_result",
     "data": {
      "text/plain": "すごいわ"
     },
     "metadata": {},
     "execution_count": 37
    }
   ],
   "source": [
    "\"ええ すごいわ ええ\".Trim(new char[]{' ','え'})"
   ]
  },
  {
   "cell_type": "code",
   "execution_count": 38,
   "metadata": {},
   "outputs": [
    {
     "output_type": "execute_result",
     "data": {
      "text/plain": "すごいわ ええ"
     },
     "metadata": {},
     "execution_count": 38
    }
   ],
   "source": [
    "\"ええ すごいわ ええ\".TrimStart(new char[]{' ','え'})"
   ]
  },
  {
   "cell_type": "code",
   "execution_count": 39,
   "metadata": {},
   "outputs": [
    {
     "output_type": "execute_result",
     "data": {
      "text/plain": "ええ すごいわ"
     },
     "metadata": {},
     "execution_count": 39
    }
   ],
   "source": [
    "\"ええ すごいわ ええ\".TrimEnd(new char[]{' ','え'})"
   ]
  },
  {
   "cell_type": "markdown",
   "metadata": {},
   "source": [
    "* 指定する文字が1つだけなら配列である必要はなく,次のように文字を指定することもできる\n",
    "\n",
    "```C#\n",
    "\"ええ すごいわ ええ\".Trim('え')\n",
    "```"
   ]
  },
  {
   "cell_type": "markdown",
   "metadata": {},
   "source": [
    "---\n",
    "## 文字列の挿入"
   ]
  },
  {
   "cell_type": "code",
   "execution_count": 40,
   "metadata": {},
   "outputs": [
    {
     "output_type": "execute_result",
     "data": {
      "text/plain": "ええ すごいわね ええ"
     },
     "metadata": {},
     "execution_count": 40
    }
   ],
   "source": [
    "\"ええ すごいわ ええ\".Insert(7,\"ね\")"
   ]
  },
  {
   "cell_type": "markdown",
   "metadata": {},
   "source": [
    "---\n",
    "## 文字列の削除"
   ]
  },
  {
   "cell_type": "code",
   "execution_count": 41,
   "metadata": {},
   "outputs": [
    {
     "output_type": "execute_result",
     "data": {
      "text/plain": "ええ すごい ええ"
     },
     "metadata": {},
     "execution_count": 41
    }
   ],
   "source": [
    "\"ええ すごいわ ええ\".Remove(6,1) // 6文字目から1文字分取り除く"
   ]
  },
  {
   "cell_type": "markdown",
   "metadata": {},
   "source": [
    "* 第2引数を指定しなければ末尾まで削除される"
   ]
  },
  {
   "cell_type": "markdown",
   "metadata": {},
   "source": [
    "---\n",
    "## 文字列を揃える"
   ]
  },
  {
   "cell_type": "code",
   "execution_count": 42,
   "metadata": {},
   "outputs": [
    {
     "output_type": "execute_result",
     "data": {
      "text/plain": "------align"
     },
     "metadata": {},
     "execution_count": 42
    }
   ],
   "source": [
    "\"align\".PadLeft(11,'-') // -で埋める左端揃え"
   ]
  },
  {
   "cell_type": "code",
   "execution_count": 43,
   "metadata": {},
   "outputs": [
    {
     "output_type": "execute_result",
     "data": {
      "text/plain": "align------"
     },
     "metadata": {},
     "execution_count": 43
    }
   ],
   "source": [
    "\"align\".PadRight(11,'-') // -で埋める右端揃え"
   ]
  },
  {
   "cell_type": "markdown",
   "metadata": {},
   "source": [
    "* 第2引数を省略すれば空白で埋める"
   ]
  },
  {
   "cell_type": "markdown",
   "metadata": {},
   "source": [
    "---\n",
    "## 文字列 ⇄ 文字配列"
   ]
  },
  {
   "cell_type": "code",
   "execution_count": 44,
   "metadata": {},
   "outputs": [
    {
     "output_type": "execute_result",
     "data": {
      "text/html": "<table><thead><tr><th><i>index</i></th><th>value</th></tr></thead><tbody><tr><td>0</td><td>L</td></tr><tr><td>1</td><td>O</td></tr><tr><td>2</td><td>R</td></tr><tr><td>3</td><td>E</td></tr><tr><td>4</td><td>M</td></tr></tbody></table>"
     },
     "metadata": {},
     "execution_count": 44
    }
   ],
   "source": [
    "\"LOREM\".ToCharArray()"
   ]
  },
  {
   "cell_type": "code",
   "execution_count": 45,
   "metadata": {},
   "outputs": [
    {
     "output_type": "execute_result",
     "data": {
      "text/plain": "LOREM"
     },
     "metadata": {},
     "execution_count": 45
    }
   ],
   "source": [
    "new String(new char[]{'L','O','R','E','M'})"
   ]
  },
  {
   "cell_type": "markdown",
   "metadata": {},
   "source": [
    "---\n",
    "## ハッシュ値"
   ]
  },
  {
   "cell_type": "code",
   "execution_count": 46,
   "metadata": {},
   "outputs": [
    {
     "output_type": "execute_result",
     "data": {
      "text/plain": "0"
     },
     "metadata": {},
     "execution_count": 46
    }
   ],
   "source": [
    "\"LOREM\".GetHashCode()"
   ]
  }
 ],
 "metadata": {
  "kernelspec": {
   "display_name": ".NET (C#)",
   "language": "C#",
   "name": ".net-csharp"
  },
  "language_info": {
   "file_extension": ".cs",
   "mimetype": "text/x-csharp",
   "name": "C#",
   "pygments_lexer": "csharp",
   "version": "3.8.5-final"
  }
 },
 "nbformat": 4,
 "nbformat_minor": 4
}
