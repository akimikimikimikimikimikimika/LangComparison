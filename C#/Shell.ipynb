{
 "cells": [
  {
   "cell_type": "markdown",
   "metadata": {},
   "source": [
    "# シェル"
   ]
  },
  {
   "cell_type": "code",
   "execution_count": 1,
   "metadata": {},
   "outputs": [],
   "source": [
    "using System.Diagnostics;"
   ]
  },
  {
   "cell_type": "markdown",
   "metadata": {},
   "source": [
    "## 通常の実行"
   ]
  },
  {
   "cell_type": "code",
   "execution_count": null,
   "metadata": {},
   "outputs": [],
   "source": [
    "Process.Start(\"ls\",\"-a dirPath\").WaitForExit(); // 引数は全て1つの文字列に"
   ]
  },
  {
   "cell_type": "markdown",
   "metadata": {},
   "source": [
    "## 実行方法をカスタマイズ\n",
    "より詳しい指定をするには `ProcessStartInfo` オブジェクトを使用する。"
   ]
  },
  {
   "cell_type": "code",
   "execution_count": null,
   "metadata": {},
   "outputs": [],
   "source": [
    "var p=new Process();\n",
    "var si=p.StartInfo;\n",
    "si.FileName=\"ls\";\n",
    "si.Arguments=\"-a dirPath\";\n",
    "p.Start().WaitForExit();"
   ]
  },
  {
   "cell_type": "markdown",
   "metadata": {},
   "source": [
    "* `si.FileName` `<string>`  \n",
    "\t実行パス (第0引数) の指定\n",
    "\n",
    "* `si.Arguments` `<string>`\n",
    "* `si.ArgumentList` `Collection<string>`\n",
    "\t- 残りの引数の指定\n",
    "\t- 一方を指定すれば他方は空にしておかなくてはならない\n",
    "\t- Monoでは `ArgumentList` は現在のところ使えない\n",
    "\t- `Arguments` は文字列形式, `ArgumentList` は成分ごとに指定する\n",
    "\n",
    "\t```C#\n",
    "si.Arguments=\"-a dirPath\";\n",
    "// or\n",
    "si.ArgumentList.Add(\"-a\");\n",
    "si.ArgumentList.Add(\"dirPath\");\n",
    "\t```\n",
    "\n",
    "\n",
    "* `si.RedirectStandardInput` `<bool>`\n",
    "* `si.RedirectStandardOutput` `<bool>`\n",
    "* `si.RedirectStandardError` `<bool>`  \n",
    "\t入出力を文字列として行うか指定\n",
    "\n",
    "* `si.WorkingDirectory` `<string>`  \n",
    "\tカレントディレクトリの指定\n",
    "\n",
    "* `si.WorkingDirectory` `<Dictionary>`  \n",
    "\t環境変数の指定\n",
    "    \n",
    "* `si.UseShellExecute` `<bool>`  \n",
    "\tシェルを利用するかどうかの指定\n",
    "\n",
    "### 実行\n",
    "\n",
    "* `p.Start()` : 実行を開始する\n",
    "* `p.WaitForExit()` : 終了まで待機する\n",
    "\n",
    "* `p.StartTime` `<DateTime>` : 開始時刻を返す\n",
    "* `p.ExitTime` `<DateTime>` : 終了時刻を返す\n",
    "* `p.HasExited` `<bool>` : 終了したかどうか\n",
    "\n",
    "* `p.Id` `<int>` : プロセスIDを返す\n",
    "* `p.ExitCode` `<int>` : 終了コードを返す\n",
    "\n",
    "* `p.StandardInput` `<StreamWriter>`\n",
    "* `p.StandardOutput` `<StreamReader>`\n",
    "* `p.StandardError` `<StreamReader>` \n",
    "\t標準入出力を扱うためのストリーム"
   ]
  }
 ],
 "metadata": {
  "kernelspec": {
   "display_name": ".NET (C#)",
   "language": "C#",
   "name": ".net-csharp"
  },
  "language_info": {
   "name": ""
  }
 },
 "nbformat": 4,
 "nbformat_minor": 4
}
