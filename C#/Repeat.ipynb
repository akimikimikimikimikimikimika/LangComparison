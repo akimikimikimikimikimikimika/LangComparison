{
 "cells": [
  {
   "cell_type": "markdown",
   "metadata": {},
   "source": [
    "# 繰り返し処理"
   ]
  },
  {
   "cell_type": "markdown",
   "metadata": {},
   "source": [
    "* `for (n=0; n<3; n++) { … }`"
   ]
  },
  {
   "cell_type": "code",
   "execution_count": 1,
   "metadata": {},
   "outputs": [
    {
     "name": "stdout",
     "output_type": "stream",
     "text": [
      "n=0 のループ\n",
      "n=1 のループ\n",
      "n=2 のループ\n"
     ]
    }
   ],
   "source": [
    "for (int n=0;n<3;n++) Console.WriteLine($\"n={n} のループ\");"
   ]
  },
  {
   "cell_type": "code",
   "execution_count": 2,
   "metadata": {},
   "outputs": [
    {
     "name": "stdout",
     "output_type": "stream",
     "text": [
      "c=''壱'' のループ\n",
      "c=''弐'' のループ\n",
      "c=''参'' のループ\n"
     ]
    }
   ],
   "source": [
    "char[] cs={'壱','弐','参'};\n",
    "foreach (char c in cs) Console.WriteLine($\"c=''{c}'' のループ\");"
   ]
  },
  {
   "cell_type": "markdown",
   "metadata": {},
   "source": [
    "* `while (~) { … }`"
   ]
  },
  {
   "cell_type": "code",
   "execution_count": 3,
   "metadata": {},
   "outputs": [
    {
     "name": "stdout",
     "output_type": "stream",
     "text": [
      "*\n",
      "**\n",
      "***\n",
      "****\n",
      "*****\n",
      "******\n"
     ]
    }
   ],
   "source": [
    "string str=\"\";\n",
    "while (str.Length<6) {\n",
    "\tstr+=\"*\";\n",
    "\tConsole.WriteLine(str);\n",
    "}"
   ]
  },
  {
   "cell_type": "markdown",
   "metadata": {},
   "source": [
    "* `do { … } while (~);`"
   ]
  },
  {
   "cell_type": "code",
   "execution_count": 4,
   "metadata": {},
   "outputs": [
    {
     "name": "stdout",
     "output_type": "stream",
     "text": [
      "+\n",
      "++\n",
      "+++\n",
      "++++\n",
      "+++++\n",
      "++++++\n"
     ]
    }
   ],
   "source": [
    "string str=\"\";\n",
    "do {\n",
    "\tstr+=\"+\";\n",
    "\tConsole.WriteLine(str);\n",
    "} while (str.Length<6);"
   ]
  }
 ],
 "metadata": {
  "kernelspec": {
   "display_name": ".NET (C#)",
   "language": "C#",
   "name": ".net-csharp"
  },
  "language_info": {
   "file_extension": ".cs",
   "mimetype": "text/x-csharp",
   "name": "C#",
   "pygments_lexer": "csharp",
   "version": "8.0"
  }
 },
 "nbformat": 4,
 "nbformat_minor": 4
}
