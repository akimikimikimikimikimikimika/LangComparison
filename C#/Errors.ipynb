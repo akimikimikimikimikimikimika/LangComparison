{
 "cells": [
  {
   "cell_type": "markdown",
   "metadata": {},
   "source": [
    "# 例外処理"
   ]
  },
  {
   "cell_type": "code",
   "execution_count": 1,
   "metadata": {
    "tags": []
   },
   "outputs": [
    {
     "name": "stdout",
     "output_type": "stream",
     "text": [
      "エラーが発生しました\n",
      "エラー内容: System.Exception: あなたは過ちを犯した!!\n",
      "   at Submission#2.<<Initialize>>d__0.MoveNext()\n",
      "以上でエラーチェックを終了します\n"
     ]
    }
   ],
   "source": [
    "try {\n",
    "\t// try節内で起こりうる例外は捕捉される\n",
    "\t\tthrow new Exception(\"あなたは過ちを犯した!!\"); // 例外の発生 (例外が発生した時点で,それ以降の行は実行しない)\n",
    "}\n",
    "catch(Exception e) {\n",
    "\tConsole.WriteLine(\"エラーが発生しました\");\n",
    "\tConsole.WriteLine(\"エラー内容: \"+e);\n",
    "}\n",
    "finally {\n",
    "\t// 最後にfinally節が実行される\n",
    "\tConsole.WriteLine(\"以上でエラーチェックを終了します\");\n",
    "}"
   ]
  },
  {
   "cell_type": "markdown",
   "metadata": {},
   "source": [
    "`try` に対応して, `catch` か `finally` のどちらか一方は最低限必要である"
   ]
  }
 ],
 "metadata": {
  "kernelspec": {
   "display_name": ".NET (C#)",
   "language": "C#",
   "name": ".net-csharp"
  },
  "language_info": {
   "file_extension": ".cs",
   "mimetype": "text/x-csharp",
   "name": "C#",
   "pygments_lexer": "csharp",
   "version": "8.0"
  }
 },
 "nbformat": 4,
 "nbformat_minor": 4
}
