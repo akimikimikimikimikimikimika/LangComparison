{
 "cells": [
  {
   "cell_type": "markdown",
   "metadata": {},
   "source": [
    "# 条件分岐"
   ]
  },
  {
   "cell_type": "code",
   "execution_count": 1,
   "metadata": {},
   "outputs": [],
   "source": [
    "boolean test1 = true;\n",
    "boolean test2 = false;"
   ]
  },
  {
   "cell_type": "code",
   "execution_count": null,
   "metadata": {},
   "outputs": [],
   "source": [
    "if (test1) {\n",
    "\tSystem.out.println(\"どうやらtest1は真のようです\");\n",
    "}"
   ]
  },
  {
   "cell_type": "code",
   "execution_count": null,
   "metadata": {},
   "outputs": [],
   "source": [
    "if (!test1) System.out.println(\"どうやらtest1は偽のようです\");\n",
    "else if (test2) System.out.println(\"どうやらtest2は真のようです\");\n",
    "else if (!test2&&test1) System.out.println(\"真偽が混在しているようです\");\n",
    "else System.out.println(\"どれでもないようです\");"
   ]
  },
  {
   "cell_type": "code",
   "execution_count": null,
   "metadata": {},
   "outputs": [],
   "source": [
    "switch (val) {\n",
    "\tcase 0:case 1:\n",
    "\t\tSystem.out.println(val+\"は特別な値である\");break;\n",
    "\tcase 8:case 9:case 10:\n",
    "\t\tSystem.out.println(\"これに隣接する数にも言えたりするが,\");\n",
    "\t\t// breakを省くと,case 8,9,10を実行すれば,直下のcase 4,6も実行する\n",
    "\tcase 4:case 6:\n",
    "\t\tSystem.out.println(val+\"は素数ではない\");break;\n",
    "\tcase 2:case 3:case 5:case 7:\n",
    "\t\tSystem.out.println(val+\"は素数である\");break;\n",
    "\tdefault:\n",
    "\t\tSystem.out.println(val+\"なぞ私には興味がない\");break;\n",
    "}"
   ]
  }
 ],
 "metadata": {
  "kernelspec": {
   "display_name": "Java",
   "language": "java",
   "name": "java"
  },
  "language_info": {
   "codemirror_mode": "java",
   "file_extension": ".jshell",
   "mimetype": "text/x-java-source",
   "name": "Java",
   "pygments_lexer": "java",
   "version": "13.0.2+8"
  }
 },
 "nbformat": 4,
 "nbformat_minor": 4
}
