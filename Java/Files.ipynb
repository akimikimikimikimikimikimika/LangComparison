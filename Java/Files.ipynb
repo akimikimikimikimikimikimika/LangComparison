{
 "cells": [
  {
   "cell_type": "markdown",
   "metadata": {},
   "source": [
    "# ファイル操作"
   ]
  },
  {
   "cell_type": "code",
   "execution_count": 1,
   "metadata": {},
   "outputs": [],
   "source": [
    "import java.io.*;\n",
    "import java.nio.file.*;\n",
    "import java.util.Arrays;"
   ]
  },
  {
   "cell_type": "markdown",
   "metadata": {},
   "source": [
    "* 相対パスからパスを取得する関数"
   ]
  },
  {
   "cell_type": "code",
   "execution_count": 2,
   "metadata": {},
   "outputs": [],
   "source": [
    "Path path(String relpath) {\n",
    "\treturn Paths.get(System.getProperty(\"user.dir\"),relpath);\n",
    "}"
   ]
  },
  {
   "cell_type": "markdown",
   "metadata": {},
   "source": [
    "* カレントディレクトリをホームに変更"
   ]
  },
  {
   "cell_type": "code",
   "execution_count": null,
   "metadata": {},
   "outputs": [],
   "source": [
    "System.setProperty(\"user.dir\", home);"
   ]
  },
  {
   "cell_type": "markdown",
   "metadata": {},
   "source": [
    "## ファイル/フォルダ/シンボリックリンクの作成"
   ]
  },
  {
   "cell_type": "markdown",
   "metadata": {},
   "source": [
    "* Emptyという空フォルダを作成"
   ]
  },
  {
   "cell_type": "code",
   "execution_count": 2,
   "metadata": {},
   "outputs": [
    {
     "data": {
      "text/plain": [
       "\u001b[36mtrue\u001b[39m"
      ]
     },
     "execution_count": 2,
     "metadata": {},
     "output_type": "execute_result"
    }
   ],
   "source": [
    "// 既にEmptyという名前のファイル/フォルダが存在していれば,エラーを投げる\n",
    "Files.createDirectory(path(\"Empty\"));"
   ]
  },
  {
   "cell_type": "markdown",
   "metadata": {},
   "source": [
    "* Blankという空ファイルを作成"
   ]
  },
  {
   "cell_type": "code",
   "execution_count": 3,
   "metadata": {},
   "outputs": [
    {
     "data": {
      "text/plain": [
       "\u001b[36mtrue\u001b[39m"
      ]
     },
     "execution_count": 3,
     "metadata": {},
     "output_type": "execute_result"
    }
   ],
   "source": [
    "// 既にBlankという名前のファイル/フォルダが存在していれば,エラーを投げる\n",
    "Files.createFile(path(\"Blank\"));"
   ]
  },
  {
   "cell_type": "markdown",
   "metadata": {},
   "source": [
    "* 一時ディレクトリの場合\n",
    "```Java\n",
    "Files.createTempDirectory(\"uniqueIdentifier\"); // ディレクトリのパス\n",
    "```"
   ]
  },
  {
   "cell_type": "markdown",
   "metadata": {},
   "source": [
    "* フォルダEmptyの中にファイルBlankのシンボリックリンクSymlinkを作成"
   ]
  },
  {
   "cell_type": "code",
   "execution_count": 4,
   "metadata": {},
   "outputs": [
    {
     "data": {
      "text/plain": [
       "\u001b[36mtrue\u001b[39m"
      ]
     },
     "execution_count": 4,
     "metadata": {},
     "output_type": "execute_result"
    }
   ],
   "source": [
    "// 既にSymlinkという名前のファイル/フォルダが存在していれば,エラーを投げる\n",
    "Files.createSymbolicLink(path(\"Empty/Symlink\"),path(\"../Blank\"));"
   ]
  },
  {
   "cell_type": "markdown",
   "metadata": {},
   "source": [
    "- ハードリンクの場合\n",
    "```Java\n",
    "File.createLink(path(\"../Blank\"),path(\"Empty/Link\"))\n",
    "```"
   ]
  },
  {
   "cell_type": "markdown",
   "metadata": {},
   "source": [
    "## 書込み\n",
    "* Untitled.mdというMarkdownファイルを作成して書込み"
   ]
  },
  {
   "cell_type": "code",
   "execution_count": 6,
   "metadata": {},
   "outputs": [],
   "source": [
    "Files.write(\n",
    "\tpath(\"Untitled.md\"),\n",
    "\tArrays.asList(\"# Header 1\"),\n",
    "\tStandardOpenOption.CREATE\n",
    ");"
   ]
  },
  {
   "cell_type": "markdown",
   "metadata": {},
   "source": [
    "- オプションを `CREATE` から `CREATE_NEW` にすると,既にファイルが存在している場合はエラーになる\n",
    "- `CREATE` の場合は,既に存在している場合は上書きされる"
   ]
  },
  {
   "cell_type": "markdown",
   "metadata": {},
   "source": [
    "## 移動/名称変更"
   ]
  },
  {
   "cell_type": "markdown",
   "metadata": {},
   "source": [
    "* フォルダEmptyをPackageに名称変更"
   ]
  },
  {
   "cell_type": "code",
   "execution_count": 7,
   "metadata": {},
   "outputs": [
    {
     "data": {
      "text/plain": [
       "'Package'"
      ]
     },
     "execution_count": 7,
     "metadata": {},
     "output_type": "execute_result"
    }
   ],
   "source": [
    "Files.move(\n",
    "\tpath(\"Empty\"),\n",
    "\tpath(\"Package\"),\n",
    "\tStandardCopyOption.REPLACE_EXISTING\n",
    ");"
   ]
  },
  {
   "cell_type": "markdown",
   "metadata": {},
   "source": [
    "* Packageフォルダ内のSymlinkファイルをAliasに名称変更"
   ]
  },
  {
   "cell_type": "code",
   "execution_count": 8,
   "metadata": {},
   "outputs": [
    {
     "data": {
      "text/plain": [
       "'Package/Alias'"
      ]
     },
     "execution_count": 8,
     "metadata": {},
     "output_type": "execute_result"
    }
   ],
   "source": [
    "Files.move(\n",
    "\tpath(\"Package/Symlink\"),\n",
    "\tpath(\"Package/Alias\"),\n",
    "\tStandardCopyOption.REPLACE_EXISTING\n",
    ");"
   ]
  },
  {
   "cell_type": "markdown",
   "metadata": {},
   "source": [
    "* Untitled.mdを移動して,名称変更"
   ]
  },
  {
   "cell_type": "code",
   "execution_count": 9,
   "metadata": {},
   "outputs": [
    {
     "data": {
      "text/plain": [
       "'Package/Headers.md'"
      ]
     },
     "execution_count": 9,
     "metadata": {},
     "output_type": "execute_result"
    }
   ],
   "source": [
    "Files.move(\n",
    "\tpath(\"Untitled.md\"),\n",
    "\tpath(\"Package/Headers.md\"),\n",
    "\tStandardCopyOption.REPLACE_EXISTING\n",
    ");"
   ]
  },
  {
   "cell_type": "markdown",
   "metadata": {},
   "source": [
    "## 追記\n",
    "* Markdownファイルに追記"
   ]
  },
  {
   "cell_type": "code",
   "execution_count": null,
   "metadata": {},
   "outputs": [],
   "source": [
    "Files.write(\n",
    "\tpath(\"Package/Headers.md\"),\n",
    "\tArrays.asList(\"## Header 2\\n### Header 3\"),\n",
    "\tStandardOpenOption.APPEND\n",
    ");"
   ]
  },
  {
   "cell_type": "markdown",
   "metadata": {},
   "source": [
    "- `APPEND` の代わりに` WRITE` を使用すれば,先頭から上書きされる\n",
    "- 但し, `WRITE` を使用する際には `TRUNCATE_EXISTING` も指定しないと単に上書きするだけで,前の内容が残る可能性がある。"
   ]
  },
  {
   "cell_type": "markdown",
   "metadata": {},
   "source": [
    "## 読込み\n",
    "* Markdownファイルを読込み"
   ]
  },
  {
   "cell_type": "code",
   "execution_count": null,
   "metadata": {},
   "outputs": [],
   "source": [
    "String.join(\"\\n\",Files.readAllLines(path(\"Package/Headers.md\")));"
   ]
  },
  {
   "cell_type": "markdown",
   "metadata": {},
   "source": [
    "## 再帰的にフォルダ作成\n",
    "* フォルダを一気に作成"
   ]
  },
  {
   "cell_type": "code",
   "execution_count": null,
   "metadata": {},
   "outputs": [],
   "source": [
    "Files.createDirectories(path(\"Package/Module/Submodule/Item\"));"
   ]
  },
  {
   "cell_type": "markdown",
   "metadata": {},
   "source": [
    "- `Files.createDirectory` の代わりに `Files.createDirectories` を使うことで,作成するフォルダItemの上位フォルダModule,Submoduleが存在していなくても,同時に生成される"
   ]
  },
  {
   "cell_type": "markdown",
   "metadata": {},
   "source": [
    "## ディレクトリの内容を表示"
   ]
  },
  {
   "cell_type": "code",
   "execution_count": null,
   "metadata": {},
   "outputs": [],
   "source": [
    "File[] fl=new File(path(\"Package\")).listFiles();\n",
    "for (File f:fl) System.out.println(f.getName());"
   ]
  },
  {
   "cell_type": "markdown",
   "metadata": {},
   "source": [
    "## ファイル/フォルダの複製\n",
    "* Blankを複製"
   ]
  },
  {
   "cell_type": "code",
   "execution_count": 14,
   "metadata": {},
   "outputs": [
    {
     "data": {
      "text/plain": [
       "'Package/Module Copy'"
      ]
     },
     "execution_count": 14,
     "metadata": {},
     "output_type": "execute_result"
    }
   ],
   "source": [
    "Files.copy(\n",
    "\tPaths.get(\"Blank\"),\n",
    "\tpath(\"Package/Blank\"),\n",
    "\tStandardCopyOption.REPLACE_EXISTING\n",
    ");"
   ]
  },
  {
   "cell_type": "markdown",
   "metadata": {},
   "source": [
    "- JDK標準ライブラリでディレクトリを再帰的にコピーする方法は存在しない  \n",
    "\t外部のライブラリを用意するか,再帰的にコピーするコードを自分で書かねばならない"
   ]
  },
  {
   "cell_type": "markdown",
   "metadata": {},
   "source": [
    "## ファイル/フォルダの削除"
   ]
  },
  {
   "cell_type": "markdown",
   "metadata": {},
   "source": [
    "* ファイルBlankを削除"
   ]
  },
  {
   "cell_type": "code",
   "execution_count": 15,
   "metadata": {},
   "outputs": [],
   "source": [
    "Files.deleteIfExists(path(\"Blank\"));"
   ]
  },
  {
   "cell_type": "markdown",
   "metadata": {},
   "source": [
    "* シンボリックリンクAliasを削除"
   ]
  },
  {
   "cell_type": "code",
   "execution_count": 3,
   "metadata": {},
   "outputs": [
    {
     "data": {
      "text/plain": [
       "false"
      ]
     },
     "execution_count": 3,
     "metadata": {},
     "output_type": "execute_result"
    }
   ],
   "source": [
    "Files.deleteIfExists(path(\"Package/Alias\"));"
   ]
  },
  {
   "cell_type": "markdown",
   "metadata": {},
   "source": [
    "- File.deleteやFile.deleteIfExistsは空のディレクトリも削除できるが,空でないディレクトリを削除しようとするとエラーになる。  \n",
    "\tJDK標準ライブラリでディレクトリを再帰的に削除する方法は存在しない  \n",
    "\t外部のライブラリを用意するか,再帰的に削除するコードを自分で書かねばならない"
   ]
  },
  {
   "cell_type": "markdown",
   "metadata": {},
   "source": [
    "## 権限を確認/変更"
   ]
  },
  {
   "cell_type": "markdown",
   "metadata": {},
   "source": [
    "* 状態を確認する関数"
   ]
  },
  {
   "cell_type": "code",
   "execution_count": null,
   "metadata": {},
   "outputs": [],
   "source": [
    "void check(String path) throws IOException {\n",
    "\tPath pt = path(path);\n",
    "\tSystem.out.println((Files.exists(pt)?\"存在しています\":\"存在していません\"));\n",
    "\tif (Files.isSymbolicLink(pt)) {\n",
    "\t\tSystem.out.println(\n",
    "\t\t\t\"シンボリックリンクです\"+os.linesep+\n",
    "\t\t\t\"リンク先: \"+Files.readSymbolicLink(pt)\n",
    "\t\t);\n",
    "\t\tif (Files.isRegularFile(pt)) System.out.println(\"リンク先はファイルです\");\n",
    "\t\tif (Files.isDirectory(pt)) System.out.println(\"リンク先はフォルダです\");\n",
    "\t}\n",
    "\telse {\n",
    "\t\tif (Files.isRegularFile(pt, LinkOption.NOFOLLOW_LINKS)) System.out.println(\"ファイルです\");\n",
    "\t\tif (Files.isDirectory(pt, LinkOption.NOFOLLOW_LINKS)) System.out.println(\"フォルダです\");\n",
    "\t}\n",
    "\tif (Files.isReadable(pt))  System.out.println(\"読込可能です\");\n",
    "\tif (Files.isWritable(pt))  System.out.println(\"書込可能です\");\n",
    "\tif (Files.isExecutable(pt)) System.out.println(\"実行可能です\");\n",
    "\tif (Files.isHidden(pt)) System.out.println(\" 不可視項目です\");\n",
    "}"
   ]
  },
  {
   "cell_type": "code",
   "execution_count": null,
   "metadata": {},
   "outputs": [],
   "source": [
    "File fo=new File(\"Package/Headers.md\");"
   ]
  },
  {
   "cell_type": "markdown",
   "metadata": {},
   "source": [
    "* Markdownファイルの現在の状態を確認"
   ]
  },
  {
   "cell_type": "code",
   "execution_count": 19,
   "metadata": {},
   "outputs": [
    {
     "name": "stdout",
     "output_type": "stream",
     "text": [
      "存在しています\n",
      "ファイルです\n",
      "読込可能です\n",
      "書込可能です\n"
     ]
    }
   ],
   "source": [
    "check(\"Package/Headers.md\")"
   ]
  },
  {
   "cell_type": "markdown",
   "metadata": {},
   "source": [
    "* 読込/書込権限を剥奪"
   ]
  },
  {
   "cell_type": "code",
   "execution_count": 20,
   "metadata": {},
   "outputs": [],
   "source": [
    "fo.setReadable(false);\n",
    "fo.setWritable(false);"
   ]
  },
  {
   "cell_type": "markdown",
   "metadata": {},
   "source": [
    "* 状態を確認"
   ]
  },
  {
   "cell_type": "code",
   "execution_count": 21,
   "metadata": {},
   "outputs": [
    {
     "name": "stdout",
     "output_type": "stream",
     "text": [
      "存在しています\n",
      "ファイルです\n"
     ]
    }
   ],
   "source": [
    "check(\"Package/Headers.md\")"
   ]
  },
  {
   "cell_type": "markdown",
   "metadata": {},
   "source": [
    "* 読込/実行権限を付加"
   ]
  },
  {
   "cell_type": "code",
   "execution_count": 22,
   "metadata": {},
   "outputs": [],
   "source": [
    "fo.setReadable(true);\n",
    "fo.setExecutable(true);"
   ]
  },
  {
   "cell_type": "markdown",
   "metadata": {},
   "source": [
    "* 状態を確認"
   ]
  },
  {
   "cell_type": "code",
   "execution_count": 23,
   "metadata": {},
   "outputs": [
    {
     "name": "stdout",
     "output_type": "stream",
     "text": [
      "存在しています\n",
      "ファイルです\n",
      "読込可能です\n",
      "実行可能です\n"
     ]
    }
   ],
   "source": [
    "check(\"Package/Headers.md\")"
   ]
  }
 ],
 "metadata": {
  "kernelspec": {
   "display_name": "Java",
   "language": "java",
   "name": "java"
  },
  "language_info": {
   "codemirror_mode": "java",
   "file_extension": ".jshell",
   "mimetype": "text/x-java-source",
   "name": "Java",
   "pygments_lexer": "java",
   "version": "13.0.2+8"
  }
 },
 "nbformat": 4,
 "nbformat_minor": 4
}
