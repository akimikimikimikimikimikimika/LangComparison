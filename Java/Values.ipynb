{
 "cells": [
  {
   "cell_type": "markdown",
   "metadata": {},
   "source": [
    "# 色々な値"
   ]
  },
  {
   "cell_type": "code",
   "execution_count": 1,
   "metadata": {},
   "outputs": [],
   "source": [
    "import java.util.*;"
   ]
  },
  {
   "cell_type": "markdown",
   "metadata": {},
   "source": [
    "## 文字列"
   ]
  },
  {
   "cell_type": "code",
   "execution_count": 2,
   "metadata": {},
   "outputs": [
    {
     "name": "stdout",
     "output_type": "stream",
     "text": [
      "ジャバ\n"
     ]
    }
   ],
   "source": [
    "String str=new String(\"ジャバ\");\n",
    "System.out.println(str);"
   ]
  },
  {
   "cell_type": "code",
   "execution_count": 3,
   "metadata": {},
   "outputs": [
    {
     "name": "stdout",
     "output_type": "stream",
     "text": [
      "ﬁ\n",
      "ﬁ\n"
     ]
    }
   ],
   "source": [
    "char cha1='ﬁ';\n",
    "System.out.println(cha1);\n",
    "\n",
    "Character cha2=new Character(cha1);\n",
    "System.out.println(cha2);"
   ]
  },
  {
   "cell_type": "markdown",
   "metadata": {},
   "source": [
    "## 整数"
   ]
  },
  {
   "cell_type": "code",
   "execution_count": 4,
   "metadata": {},
   "outputs": [
    {
     "name": "stdout",
     "output_type": "stream",
     "text": [
      "6\n",
      "6\n"
     ]
    }
   ],
   "source": [
    "byte by1 = 6;  // -2⁷ ~ 2⁷-1\n",
    "System.out.println(by1);\n",
    "\n",
    "Byte by2 = new Byte(by1);\n",
    "System.out.println(by2);"
   ]
  },
  {
   "cell_type": "code",
   "execution_count": 5,
   "metadata": {},
   "outputs": [
    {
     "name": "stdout",
     "output_type": "stream",
     "text": [
      "6\n",
      "6\n"
     ]
    }
   ],
   "source": [
    "short sh1 = 6; // -2¹⁵ ~ 2¹⁵-1\n",
    "System.out.println(sh1);\n",
    "\n",
    "Short sh2 = new Short(sh1);\n",
    "System.out.println(sh2);"
   ]
  },
  {
   "cell_type": "code",
   "execution_count": 6,
   "metadata": {},
   "outputs": [
    {
     "name": "stdout",
     "output_type": "stream",
     "text": [
      "6\n",
      "6\n"
     ]
    }
   ],
   "source": [
    "int int1 = 6;   // -2³¹ ~ 2³¹-1\n",
    "System.out.println(int1);\n",
    "\n",
    "Integer int2 = new Integer(int1);\n",
    "System.out.println(int2);"
   ]
  },
  {
   "cell_type": "code",
   "execution_count": 7,
   "metadata": {},
   "outputs": [
    {
     "name": "stdout",
     "output_type": "stream",
     "text": [
      "6\n",
      "6\n"
     ]
    }
   ],
   "source": [
    "long lo1 = 6;  // -2⁶³ ~ 2⁶³-1\n",
    "System.out.println(lo1);\n",
    "\n",
    "Long lo2 = new Long(lo1);\n",
    "System.out.println(lo2);"
   ]
  },
  {
   "cell_type": "markdown",
   "metadata": {},
   "source": [
    "## 浮動小数"
   ]
  },
  {
   "cell_type": "code",
   "execution_count": 8,
   "metadata": {},
   "outputs": [
    {
     "name": "stdout",
     "output_type": "stream",
     "text": [
      "3.75E-7\n",
      "3.75E-7\n"
     ]
    }
   ],
   "source": [
    "float fl1 = (float).375e-6;\n",
    "System.out.println(fl1);\n",
    "\n",
    "Float fl2 = new Float(fl1);\n",
    "System.out.println(fl2);"
   ]
  },
  {
   "cell_type": "code",
   "execution_count": 9,
   "metadata": {},
   "outputs": [
    {
     "name": "stdout",
     "output_type": "stream",
     "text": [
      "3.75E-7\n",
      "3.75E-7\n"
     ]
    }
   ],
   "source": [
    "double db1 = .375e-6;\n",
    "System.out.println(db1);\n",
    "\n",
    "Double db2 = new Double(db1);\n",
    "System.out.println(db2);"
   ]
  },
  {
   "cell_type": "markdown",
   "metadata": {},
   "source": [
    "## 真偽値"
   ]
  },
  {
   "cell_type": "code",
   "execution_count": 10,
   "metadata": {},
   "outputs": [
    {
     "name": "stdout",
     "output_type": "stream",
     "text": [
      "false\n",
      "false\n"
     ]
    }
   ],
   "source": [
    "boolean b1=false;\n",
    "System.out.println(b1);\n",
    "\n",
    "Boolean b2=new Boolean(b1);\n",
    "System.out.println(b2);"
   ]
  },
  {
   "cell_type": "markdown",
   "metadata": {},
   "source": [
    "小文字のものはプリミティブ型,大文字のものはクラス型  \n",
    "しかし,互換性があるのか,プリミティブ型の値をクラス型の変数に代入しても問題ない"
   ]
  },
  {
   "cell_type": "markdown",
   "metadata": {},
   "source": [
    "## 配列"
   ]
  },
  {
   "cell_type": "code",
   "execution_count": 11,
   "metadata": {},
   "outputs": [
    {
     "name": "stdout",
     "output_type": "stream",
     "text": [
      "[I@1fd04053\n",
      "[3, 1, 4]\n",
      "[3, 1, 4]\n",
      "[3, 1, 4]\n"
     ]
    }
   ],
   "source": [
    "int[] a1={3,1,4}; // サイズの変更は不可 (プリミティブな配列)\n",
    "System.out.println(a1);\n",
    "\n",
    "ArrayList<Integer> a2 = new ArrayList<Integer>();\n",
    "a2.add(3); a2.add(1); a2.add(4);\n",
    "System.out.println(a2);\n",
    "\n",
    "LinkedList<Integer> a3 = new LinkedList<Integer>();\n",
    "a3.add(3); a3.add(1); a3.add(4);\n",
    "System.out.println(a3);\n",
    "\n",
    "List<Integer> a4 = Arrays.asList(3,1,4);\n",
    "System.out.println(a4);\n",
    "\n",
    "// ArrayList や LinkedList は List の子クラスである"
   ]
  },
  {
   "cell_type": "markdown",
   "metadata": {},
   "source": [
    "## 集合"
   ]
  },
  {
   "cell_type": "code",
   "execution_count": 12,
   "metadata": {},
   "outputs": [
    {
     "name": "stdout",
     "output_type": "stream",
     "text": [
      "[1, 3, 4]\n",
      "[1, 3, 4]\n"
     ]
    }
   ],
   "source": [
    "HashSet<Integer> s1 = new HashSet<Integer>();\n",
    "s1.add(3); s1.add(1); s1.add(4);\n",
    "System.out.println(s1);\n",
    "\n",
    "TreeSet<Integer> s2 = new TreeSet<Integer>();\n",
    "s2.add(3); s2.add(1); s2.add(4);\n",
    "System.out.println(s2);"
   ]
  },
  {
   "cell_type": "markdown",
   "metadata": {},
   "source": [
    "## マップ"
   ]
  },
  {
   "cell_type": "code",
   "execution_count": 13,
   "metadata": {},
   "outputs": [
    {
     "name": "stdout",
     "output_type": "stream",
     "text": [
      "{third=4, first=3, second=1}\n",
      "{first=3, second=1, third=4}\n"
     ]
    }
   ],
   "source": [
    "// HashMap : ハッシュ値で並び替えるマップ\n",
    "HashMap<String,String> m1 = new HashMap<String,String>();\n",
    "m1.put(\"first\",\"3\"); m1.put(\"second\",\"1\"); m1.put(\"third\",\"4\");\n",
    "System.out.println(m1);\n",
    "\n",
    "// TreeMap : 二分木を用いてキーの大小順で並び替える\n",
    "TreeMap<String,String> m2 = new TreeMap<String,String>();\n",
    "m2.put(\"first\",\"3\"); m2.put(\"second\",\"1\"); m2.put(\"third\",\"4\");\n",
    "System.out.println(m2);"
   ]
  },
  {
   "cell_type": "markdown",
   "metadata": {},
   "source": [
    "## 型判定\n",
    "* `val instanceof String` → `bool` : 値が指定した型がどうか判定\n",
    "\t\t`val instanceof List<String>` の代わりに `val instanceof List<?>` を使う。Java処理系内部ではどうやら `List` の中身の型は意識していないらしい。"
   ]
  },
  {
   "cell_type": "markdown",
   "metadata": {},
   "source": [
    "## 型変換\n",
    "\n",
    "### 文字列 ⇄ 数値\n",
    "\n",
    "* 数値型 → `String`  \n",
    "\t`Integer`,`int` の例\n",
    "\t```Java\n",
    "\tint intValue=6;\n",
    "\tString strValue=String.valueOf(intValue);\n",
    "\tString strValue=Integer.toString(intValue);\n",
    "\tString strValue=\"\"+intValue;\n",
    "\t// 数値は文字列として足し合わせることができる (\"12\"+3 → \"123\")\n",
    "\t```\n",
    "\n",
    "\n",
    "* `String` → 数値型  \n",
    "\t`Integer`,`int` の例\n",
    "\t```Java\n",
    "\tString strValue=\"6\";\n",
    "\tInteger intValue=Integer.valueOf(strValue);\n",
    "\tint intValue=Integer.parseInt(strValue);\n",
    "\t// 文字列が数値表現でないとエラーになる\n",
    "\t```\n",
    "\n",
    "### 数値型同士の変換 (キャストのルールに準ずる)\n",
    "\n",
    "* 小→大は代入すれば特に問題はない\n",
    "\n",
    "\t```Java\n",
    "\tint x = 6;\n",
    "\tdouble y = x;\n",
    "\t```\n",
    "\n",
    "\n",
    "* 大→小は明示的に型変換が必要\n",
    "\n",
    "\t```Java\n",
    "\tdouble x = 6.0;\n",
    "\tint y = (int)x;\n",
    "\t```\n",
    "\n",
    "### プリミティブ型 ⇄ クラス型\n",
    "\n",
    "* `Integer` ⇄ `int` ( `long`, `float`, `boolean` なども同様)\n",
    "\n",
    "\t```Java\n",
    "\tInteger classValue = new Integer(primValue); // int→Integer\n",
    "\tint primValue = classValue.intValue(); // Integer→int\n",
    "\t```\n",
    "\n",
    "\n",
    "* `String[]` ⇄ `List<String>`\n",
    "\n",
    "\t```Java\n",
    "\tList<String> classValue=Arrays.asList(primValue); // String[]→List<String>\n",
    "\tString[] primValue=classValue.toArray(new String[l.size()] {}); // List<String>→String[]\n",
    "\t\t// toArrayの引数で配列の型を指定して要素数分の領域を確保するのが重要。\n",
    "\t```"
   ]
  }
 ],
 "metadata": {
  "kernelspec": {
   "display_name": "Java",
   "language": "java",
   "name": "java"
  },
  "language_info": {
   "codemirror_mode": "java",
   "file_extension": ".jshell",
   "mimetype": "text/x-java-source",
   "name": "Java",
   "pygments_lexer": "java",
   "version": "13.0.2+8"
  }
 },
 "nbformat": 4,
 "nbformat_minor": 4
}
