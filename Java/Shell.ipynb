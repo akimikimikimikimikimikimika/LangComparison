{
 "cells": [
  {
   "cell_type": "markdown",
   "metadata": {},
   "source": [
    "# シェル"
   ]
  },
  {
   "cell_type": "markdown",
   "metadata": {},
   "source": [
    "## 通常の実行"
   ]
  },
  {
   "cell_type": "code",
   "execution_count": null,
   "metadata": {},
   "outputs": [],
   "source": [
    "ProcessBuilder pb=new ProcessBuilder(\"ls\",\"-a\");\n",
    "pb.redirectOutput(ProcessBuilder.Redirect.INHERIT);\n",
    "pb.redirectError(ProcessBuilder.Redirect.INHERIT);\n",
    "pb.redirectInput(ProcessBuilder.Redirect.INHERIT);\n",
    "Process p=pb.start();\n",
    "try{ p.waitFor(); }\n",
    "catch(InterruptedException e) { System.out.println(\"異常終了しました\"); }"
   ]
  },
  {
   "cell_type": "markdown",
   "metadata": {},
   "source": [
    "## 実行方法をカスタマイズ\n",
    "\n",
    "* `.redirectOutput(Redirect)`\n",
    "* `.redirectError(Redirect)`\n",
    "* `.redirectInput(Redirect)`  \n",
    "\t入出力を指定  \n",
    "\tこれらの値が指定できる\n",
    "\t* `ProcessBuilder.Redirect.PIPE`  \n",
    "\t\t別のプロセスへパイプしたり,文字列として渡す/受け取る\n",
    "\t* `ProcessBuilder.Redirect.INHERIT`  \n",
    "\t\t親プロセスの入出力を使用\n",
    "\t* `ProcessBuilder.Redirect.DISCARD`  \n",
    "\t\t出力を破棄する/空の入力\n",
    "\t* `ProcessBuilder.Redirect.from(File)`  \n",
    "\t\t指定したファイルから読み込む\n",
    "\t* `ProcessBuilder.Redirect.to(File)`  \n",
    "\t\t指定したファイルに書き込む\n",
    "\t* `ProcessBuilder.Redirect.appendTo(File)`  \n",
    "\t\t指定したファイルに書き込む (追記)\n",
    "\n",
    "* `.environment()` → `Map<String,String>` : 環境変数のマップ  \n",
    "\tこの関数より得られるマップを書き換えることで環境変数が構成できる\n",
    "\n",
    "* `.directory(File)` : カレントディレクトリの指定\n",
    "\n",
    "### 実行\n",
    "\n",
    "* `.start()` → `Process` : 実行を開始し,子プロセスを返す  \n",
    "\t`.start()` の時点では実行は完了していないので, `Process.wait()` を使用する\n",
    "\t* `Process.onAlive()` → `bool` : まだ実行中か否か\n",
    "\t* `Process.pid()` → `long` : プロセスID\n",
    "\t* `Process.waitFor()` → `int` : 実行が完了するのを待って,終了コードを返す\n",
    "\t* `Process.exitValue()` → `int` : 終了コードを返す\n",
    "\t* `Process.destroyForcibly()` : 強制終了する\n",
    "\n",
    "* `ProcessBuilder.startPipeline(List<ProcessBuilder>)` → `List<Process>` : 複数の実行を開始し,子プロセスのリストを返す  \n",
    "\tリスト中の `ProcessBuilder` を全て実行開始にする。このとき,隣接したプロセスの入力と出力をパイプする。  \n",
    "\te.g.\n",
    "\t```Java\n",
    "\tProcessBuilder.startPipeline(\n",
    "\t\tArrays.asList(\n",
    "\t\t\tnew ProcessBuilder(\"ls\"),\n",
    "\t\t\tnew ProcessBuilder(\"grep\",\"java\")\n",
    "\t\t)\n",
    "\t); // ls | grep java\n",
    "\t```"
   ]
  }
 ],
 "metadata": {
  "kernelspec": {
   "display_name": "Java",
   "language": "java",
   "name": "java"
  },
  "language_info": {
   "codemirror_mode": "java",
   "file_extension": ".jshell",
   "mimetype": "text/x-java-source",
   "name": "Java",
   "pygments_lexer": "java",
   "version": "13.0.2+8"
  }
 },
 "nbformat": 4,
 "nbformat_minor": 4
}
