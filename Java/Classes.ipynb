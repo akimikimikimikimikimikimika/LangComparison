{
 "cells": [
  {
   "cell_type": "markdown",
   "metadata": {},
   "source": [
    "# クラス"
   ]
  },
  {
   "cell_type": "markdown",
   "metadata": {},
   "source": [
    "## クラス定義1 (Vector)"
   ]
  },
  {
   "cell_type": "code",
   "execution_count": 1,
   "metadata": {},
   "outputs": [],
   "source": [
    "public class Vector {\n",
    "\n",
    "\t// クラス変数\n",
    "\tpublic static String VERSION = \"1.0\";\n",
    "\t\t// クラス内で共有される値\n",
    "\t\t// 書き換え可能\n",
    "\t\t// メソッド内で Vector.VERSION でアクセス可能\n",
    "\t\t// 継承クラスからアクセス可能\n",
    "\t\t// 外部から Vector.VERSION でアクセス可能\n",
    "\n",
    "\t// クラス変数\n",
    "\tprivate static String description = \"Java simple vector class\";\n",
    "\t\t// クラス内で共有される値\n",
    "\t\t// 書き換え可能\n",
    "\t\t// メソッド内で Vector.description でアクセス可能\n",
    "\t\t// 継承クラスからアクセス可能\n",
    "\t\t// 外部からはアクセス不可 (private)\n",
    "\n",
    "\tpublic double x = 0;\n",
    "\tpublic double y = 0;\n",
    "\tpublic double z = 0;\n",
    "\t// インスタンス変数\n",
    "\t\t// 各インスタンス毎に異なる値\n",
    "\t\t// インスタンスメソッド内のみから this.x でアクセス可能\n",
    "\t\t// 外部から v.x でアクセス可能\n",
    "\n",
    "\t// イニシャライザ/コンストラクタ\n",
    "\tVector(double x, double y, double z) {\n",
    "\t\tthis.x = x;\n",
    "\t\tthis.y = y;\n",
    "\t\tthis.z = z;\n",
    "\t\t// 戻り値を用意せずとも,インスタンスが返される\n",
    "\t}\n",
    "\n",
    "\tVector() {} // このように,引数の異なる複数のイニシャライザを用意できる\n",
    "\n",
    "\t// インスタンスの説明\n",
    "\tpublic String desc() {\n",
    "\t\treturn \"(\"+(int)this.x+\",\"+(int)this.y+\",\"+(int)this.z+\")\";\n",
    "\t}\n",
    "\n",
    "\t// 足し算を定義\n",
    "\n",
    "\t// インスタンスメソッド版 (自分自身に足し合わせていく)\n",
    "\tpublic Vector add(Vector ...args) {\n",
    "\t\tfor (Vector v:args) {\n",
    "\t\t\tthis.x += v.x;\n",
    "\t\t\tthis.y += v.y;\n",
    "\t\t\tthis.z += v.z;\n",
    "\t\t}\n",
    "\t\treturn this;\n",
    "\t}\n",
    "\n",
    "\t// クラスメソッド版 (引数のVectorを足し合わせた結果を返す)\n",
    "\t\t// クラスメソッドでは static を前置する\n",
    "\t\t// クラスメソッドを定義するには,クラス自体がstaticでなければならない\n",
    "\tpublic static Vector added(Vector ...args) {\n",
    "\t\tVector a = new Vector();\n",
    "\t\tfor (Vector v:args) {\n",
    "\t\t\ta.x += v.x;\n",
    "\t\t\ta.y += v.y;\n",
    "\t\t\ta.z += v.z;\n",
    "\t\t}\n",
    "\t\treturn a;\n",
    "\t}\n",
    "\t// Javaでは, added(Vector ...args) のように可変個引数のメソッドがあった場合\n",
    "\t// 可変個引数として added(arg1,arg2,arg3) などと渡すことも可能だし, added(array) のように Vector[] 型の配列を渡すこともできる。\n",
    "\n",
    "\t// スカラ倍を定義 (共にインスタンスメソッド)\n",
    "\n",
    "\t// 自分自身を実数倍\n",
    "\tpublic Vector coefMultiply(double k) {\n",
    "\t\tthis.x *= k;\n",
    "\t\tthis.y *= k;\n",
    "\t\tthis.z *= k;\n",
    "\t\treturn this;\n",
    "\t}\n",
    "\n",
    "\t// 自分自身の実数倍のVectorを生成\n",
    "\tpublic Vector coefMultiplied(double k) {\n",
    "\t\treturn new Vector(this.x*k,this.y*k,this.z*k);\n",
    "\t}\n",
    "\n",
    "\t// メソッド内で description を呼ぶ\n",
    "\tpublic static String describe() {\n",
    "\t\treturn Vector.description;\n",
    "\t}\n",
    "\n",
    "}"
   ]
  },
  {
   "cell_type": "markdown",
   "metadata": {},
   "source": [
    "メソッド内で,インスタンス自身は, `this` から呼び出す\n",
    "クラス自身は,クラス名で呼び出す"
   ]
  },
  {
   "cell_type": "markdown",
   "metadata": {},
   "source": [
    "## クラス定義2 (ExtendedVector inherits from Vector)"
   ]
  },
  {
   "cell_type": "code",
   "execution_count": 2,
   "metadata": {},
   "outputs": [],
   "source": [
    "public class ExtendedVector extends Vector { // 継承宣言\n",
    "\n",
    "\tExtendedVector(double x, double y, double z) {\n",
    "\t\tsuper(x,y,z); // 親クラスのイニシャライザに初期化を代行させる\n",
    "\t}\n",
    "\n",
    "\t// 内積を定義\n",
    "\tpublic double dot(Vector v) {\n",
    "\t\tdouble p=0;\n",
    "\t\tp += this.x*v.x;\n",
    "\t\tp += this.y*v.y;\n",
    "\t\tp += this.z*v.z;\n",
    "\t\treturn p;\n",
    "\t}\n",
    "\n",
    "\t// 外積を定義\n",
    "\tpublic Vector cross(Vector v) {\n",
    "\t\treturn new Vector(\n",
    "\t\t\tthis.y*v.z-this.z*v.y,\n",
    "\t\t\tthis.z*v.x-this.x*v.z,\n",
    "\t\t\tthis.x*v.y-this.y*v.x\n",
    "\t\t);\n",
    "\t}\n",
    "\n",
    "\t// ノルムを定義\n",
    "\tpublic double norm() {\n",
    "\t\treturn Math.sqrt(this.dot(this));\n",
    "\t}\n",
    "\n",
    "\t// 説明できないはず\n",
    "\t// public static String describeFromSub() {\n",
    "\t//\treturn Vector.description;\n",
    "\t// }\n",
    "\n",
    "\t// プライベートメソッド (外部からアクセスできない)\n",
    "\t// 単位ベクトルに変換\n",
    "\tprivate void normalize() {\n",
    "\t\tthis.coefMultiply(1/this.norm());\n",
    "\t}\n",
    "\n",
    "}"
   ]
  },
  {
   "cell_type": "markdown",
   "metadata": {},
   "source": [
    "## クラスの利用"
   ]
  },
  {
   "cell_type": "code",
   "execution_count": 3,
   "metadata": {},
   "outputs": [
    {
     "data": {
      "text/plain": [
       "16.0"
      ]
     },
     "execution_count": 3,
     "metadata": {},
     "output_type": "execute_result"
    }
   ],
   "source": [
    "Vector vec1 = new Vector(3,2,1);\n",
    "ExtendedVector vec2 = new ExtendedVector(6,4,2);\n",
    "ExtendedVector vec3 = new ExtendedVector(54,63,72);\n",
    "Vector vec4 = new Vector(0,0,0);\n",
    "\n",
    "// 値の設定\n",
    "vec3.x = 16;"
   ]
  },
  {
   "cell_type": "code",
   "execution_count": 4,
   "metadata": {},
   "outputs": [
    {
     "data": {
      "text/plain": [
       "\n",
       "vec1: REPL.$JShell$12$Vector@452af74e\n",
       "vec2: REPL.$JShell$13$ExtendedVector@2f37946b\n",
       "\n",
       "vec1の説明: (3,2,1)\n",
       "vec2の説明: (6,4,2)\n",
       "vec3の説明: (16,63,72)\n",
       "vec4の説明: (0,0,0)\n",
       "\n",
       "vec1のx座標: 3.0\n",
       "vec2のy座標: 4.0\n",
       "vec3のz座標: 72.0\n",
       "\n",
       "vec1+vec2+vec3: (25,69,75)\n",
       "vec4+vec2: (6,4,2)\n",
       "vec2×12: (72,48,24)\n",
       "\n",
       "vec2∙vec3: 492.0\n",
       "vec3×vec2: (-162,400,-314)\n",
       "|vec3|:    97.0\n",
       "\n",
       "説明してもらう:\n",
       "Java simple vector class\n",
       "Java simple vector class\n",
       "\n",
       "バージョン表示:\n",
       "1.0\n",
       "1.0\n",
       "1.0\n",
       "1.0"
      ]
     },
     "execution_count": 4,
     "metadata": {},
     "output_type": "execute_result"
    }
   ],
   "source": [
    "\"\\n\"+\n",
    "\"vec1: \"+(   vec1   )+\"\\n\"+\n",
    "\"vec2: \"+(   vec2   )+\"\\n\"+\n",
    "\"\\n\"+\n",
    "\"vec1の説明: \"+(   vec1.desc()   )+\"\\n\"+\n",
    "\"vec2の説明: \"+(   vec2.desc()   )+\"\\n\"+\n",
    "\"vec3の説明: \"+(   vec3.desc()   )+\"\\n\"+\n",
    "\"vec4の説明: \"+(   vec4.desc()   )+\"\\n\"+\n",
    "\"\\n\"+\n",
    "\"vec1のx座標: \"+(   vec1.x   )+\"\\n\"+\n",
    "\"vec2のy座標: \"+(   vec2.y   )+\"\\n\"+\n",
    "\"vec3のz座標: \"+(   vec3.z   )+\"\\n\"+\n",
    "\"\\n\"+\n",
    "\"vec1+vec2+vec3: \"+(  Vector.added(vec1,vec2,vec3).desc()   )+\"\\n\"+\n",
    "\"vec4+vec2: \"+(   vec4.add(vec2).desc()   )+\"\\n\"+\n",
    "\"vec2×12: \"+(   vec2.coefMultiplied(12).desc()   )+\"\\n\"+\n",
    "\"\\n\"+\n",
    "\"vec2∙vec3: \"+(   vec2.dot(vec3)   )+\"\\n\"+\n",
    "\"vec3×vec2: \"+(   vec3.cross(vec2).desc()   )+\"\\n\"+\n",
    "\"|vec3|:    \"+(   vec3.norm()   )+\"\\n\"+\n",
    "\"\\n\"+\n",
    "\"説明してもらう:\\n\"+\n",
    "Vector.describe()+\"\\n\"+\n",
    "vec1.describe()+\"\\n\"+\n",
    "\"\\n\"+\n",
    "\"バージョン表示:\\n\"+\n",
    "Vector.VERSION+\"\\n\"+\n",
    "ExtendedVector.VERSION+\"\\n\"+\n",
    "vec1.VERSION+\"\\n\"+\n",
    "vec2.VERSION;\n",
    "\n",
    "// アクセスすべきではありません (クラスメソッドにインスタンスからはアクセスできない)\n",
    "// vec1.describe\n",
    "// vec2.describeFromSub\n",
    "\n",
    "// アクセスすべきではありません (クラス変数にインスタンスからはアクセスできない)\n",
    "// vec1.VERSION\n",
    "// vec2.VERSION"
   ]
  }
 ],
 "metadata": {
  "kernelspec": {
   "display_name": "Java",
   "language": "java",
   "name": "java"
  },
  "language_info": {
   "codemirror_mode": "java",
   "file_extension": ".jshell",
   "mimetype": "text/x-java-source",
   "name": "Java",
   "pygments_lexer": "java",
   "version": "13.0.2+8"
  }
 },
 "nbformat": 4,
 "nbformat_minor": 4
}
