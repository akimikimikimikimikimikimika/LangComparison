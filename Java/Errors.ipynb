{
 "cells": [
  {
   "cell_type": "markdown",
   "metadata": {},
   "source": [
    "# 例外処理"
   ]
  },
  {
   "cell_type": "code",
   "execution_count": 1,
   "metadata": {},
   "outputs": [],
   "source": [
    "import java.io.*;"
   ]
  },
  {
   "cell_type": "code",
   "execution_count": 4,
   "metadata": {},
   "outputs": [
    {
     "name": "stdout",
     "output_type": "stream",
     "text": [
      "エラーが発生しました\n",
      "エラー内容:\n",
      "java.lang.Exception: あなたは過ちを犯した!!\n",
      "以上でエラーチェックを終了します\n"
     ]
    }
   ],
   "source": [
    "try {\n",
    "\t// try節内で起こりうる例外は捕捉される\n",
    "\tthrow new Exception(\"あなたは過ちを犯した!!\"); // 例外の発生 (例外が発生した時点で,それ以降の行は実行しない)\n",
    "\t// System.out.println(\"この行は実行されない\"); : このように明らかに実行されない項目は残しているとコンパイルできない可能性がある\n",
    "}\n",
    "catch (IOException e) {\n",
    "\t// 例外をキャッチすればcatch節が実行される\n",
    "\tSystem.out.println(\"IOエラーが発生しました\");\n",
    "\tSystem.out.println(\"エラー内容:\");\n",
    "\tSystem.out.println(e);\n",
    "}\n",
    "catch (Exception e) {\n",
    "\t// 複数のタイプのエラー型は,それぞれに対応するcatch節で捕捉できる\n",
    "\t// 或いは, ExecutionException | IOException のようにして,複数のタイプを指定することもできる\n",
    "\tSystem.out.println(\"エラーが発生しました\");\n",
    "\tSystem.out.println(\"エラー内容:\");\n",
    "\tSystem.out.println(e);\n",
    "}\n",
    "finally {\n",
    "\t// 最後にfinally節が実行される。なくても良い\n",
    "\tSystem.out.println(\"以上でエラーチェックを終了します\");\n",
    "}"
   ]
  },
  {
   "cell_type": "markdown",
   "metadata": {},
   "source": [
    "`finally` は抜かしても良いが,起こり得るエラーの型に対応する `catch` 節を**全て**用意する。  \n",
    "或いは, `catch` で捕捉しないエラー型を関数の `throws` で放り投げることもできる。"
   ]
  },
  {
   "cell_type": "markdown",
   "metadata": {},
   "source": [
    "## エラーを発生する関数\n",
    "この関数のように, `throws Exception` とすれば,関数がそのエラー型のエラーを発生し得ることを示す  \n",
    "この関数を利用する側は, `try`-`catch` でそのエラーをカバーしなければならない。"
   ]
  },
  {
   "cell_type": "code",
   "execution_count": 3,
   "metadata": {},
   "outputs": [],
   "source": [
    "void ExceptionEmitter() throws Exception {\n",
    "\tthrow new Exception(\"関数が実行できないではないか!\");\n",
    "}"
   ]
  }
 ],
 "metadata": {
  "kernelspec": {
   "display_name": "Java",
   "language": "java",
   "name": "java"
  },
  "language_info": {
   "codemirror_mode": "java",
   "file_extension": ".jshell",
   "mimetype": "text/x-java-source",
   "name": "Java",
   "pygments_lexer": "java",
   "version": "13.0.2+8"
  }
 },
 "nbformat": 4,
 "nbformat_minor": 4
}
