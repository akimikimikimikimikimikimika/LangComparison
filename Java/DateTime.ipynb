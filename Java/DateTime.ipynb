{
 "cells": [
  {
   "cell_type": "markdown",
   "metadata": {},
   "source": [
    "# 日付と時刻"
   ]
  },
  {
   "cell_type": "code",
   "execution_count": 1,
   "metadata": {},
   "outputs": [],
   "source": [
    "long st = System.currentTimeMillis();"
   ]
  },
  {
   "cell_type": "code",
   "execution_count": 2,
   "metadata": {},
   "outputs": [],
   "source": [
    "import java.util.Calendar;\n",
    "import java.util.TimeZone;\n",
    "\n",
    "Calendar c;\n",
    "int v;\n",
    "String t;"
   ]
  },
  {
   "cell_type": "markdown",
   "metadata": {},
   "source": [
    "## 時刻オブジェクト"
   ]
  },
  {
   "cell_type": "markdown",
   "metadata": {},
   "source": [
    "* 現在ローカル時刻"
   ]
  },
  {
   "cell_type": "code",
   "execution_count": 3,
   "metadata": {},
   "outputs": [
    {
     "data": {
      "text/plain": [
       "java.util.GregorianCalendar[time=1588154156184,areFieldsSet=true,areAllFieldsSet=true,lenient=true,zone=sun.util.calendar.ZoneInfo[id=\"Asia/Tokyo\",offset=32400000,dstSavings=0,useDaylight=false,transitions=10,lastRule=null],firstDayOfWeek=1,minimalDaysInFirstWeek=1,ERA=1,YEAR=2020,MONTH=3,WEEK_OF_YEAR=18,WEEK_OF_MONTH=5,DAY_OF_MONTH=29,DAY_OF_YEAR=120,DAY_OF_WEEK=4,DAY_OF_WEEK_IN_MONTH=5,AM_PM=1,HOUR=6,HOUR_OF_DAY=18,MINUTE=55,SECOND=56,MILLISECOND=184,ZONE_OFFSET=32400000,DST_OFFSET=0]"
      ]
     },
     "execution_count": 3,
     "metadata": {},
     "output_type": "execute_result"
    }
   ],
   "source": [
    "Calendar.getInstance()"
   ]
  },
  {
   "cell_type": "markdown",
   "metadata": {},
   "source": [
    "* 現在UTC時刻"
   ]
  },
  {
   "cell_type": "code",
   "execution_count": 4,
   "metadata": {},
   "outputs": [
    {
     "data": {
      "text/plain": [
       "java.util.GregorianCalendar[time=1588154156276,areFieldsSet=true,areAllFieldsSet=true,lenient=true,zone=sun.util.calendar.ZoneInfo[id=\"UTC\",offset=0,dstSavings=0,useDaylight=false,transitions=0,lastRule=null],firstDayOfWeek=1,minimalDaysInFirstWeek=1,ERA=1,YEAR=2020,MONTH=3,WEEK_OF_YEAR=18,WEEK_OF_MONTH=5,DAY_OF_MONTH=29,DAY_OF_YEAR=120,DAY_OF_WEEK=4,DAY_OF_WEEK_IN_MONTH=5,AM_PM=0,HOUR=9,HOUR_OF_DAY=9,MINUTE=55,SECOND=56,MILLISECOND=276,ZONE_OFFSET=0,DST_OFFSET=0]"
      ]
     },
     "execution_count": 4,
     "metadata": {},
     "output_type": "execute_result"
    }
   ],
   "source": [
    "Calendar.getInstance(TimeZone.getTimeZone(\"UTC\"))"
   ]
  },
  {
   "cell_type": "markdown",
   "metadata": {},
   "source": [
    "* カスタム時刻"
   ]
  },
  {
   "cell_type": "code",
   "execution_count": 5,
   "metadata": {},
   "outputs": [
    {
     "data": {
      "text/plain": [
       "java.util.GregorianCalendar[time=?,areFieldsSet=false,areAllFieldsSet=true,lenient=true,zone=sun.util.calendar.ZoneInfo[id=\"Asia/Tokyo\",offset=32400000,dstSavings=0,useDaylight=false,transitions=10,lastRule=null],firstDayOfWeek=1,minimalDaysInFirstWeek=1,ERA=1,YEAR=1996,MONTH=1,WEEK_OF_YEAR=18,WEEK_OF_MONTH=5,DAY_OF_MONTH=23,DAY_OF_YEAR=120,DAY_OF_WEEK=4,DAY_OF_WEEK_IN_MONTH=5,AM_PM=1,HOUR=6,HOUR_OF_DAY=9,MINUTE=41,SECOND=12,MILLISECOND=351,ZONE_OFFSET=32400000,DST_OFFSET=0]"
      ]
     },
     "execution_count": 5,
     "metadata": {},
     "output_type": "execute_result"
    }
   ],
   "source": [
    "c=Calendar.getInstance();\n",
    "c.set(1996,1,23,9,41,12);\n",
    "c;"
   ]
  },
  {
   "cell_type": "markdown",
   "metadata": {},
   "source": [
    "## 成分分解"
   ]
  },
  {
   "cell_type": "code",
   "execution_count": 6,
   "metadata": {},
   "outputs": [],
   "source": [
    "c=Calendar.getInstance()"
   ]
  },
  {
   "cell_type": "code",
   "execution_count": 7,
   "metadata": {},
   "outputs": [
    {
     "data": {
      "text/plain": [
       "1"
      ]
     },
     "execution_count": 7,
     "metadata": {},
     "output_type": "execute_result"
    }
   ],
   "source": [
    "c.get(Calendar.ERA)"
   ]
  },
  {
   "cell_type": "code",
   "execution_count": 8,
   "metadata": {},
   "outputs": [
    {
     "data": {
      "text/plain": [
       "2020"
      ]
     },
     "execution_count": 8,
     "metadata": {},
     "output_type": "execute_result"
    }
   ],
   "source": [
    "c.get(Calendar.YEAR)"
   ]
  },
  {
   "cell_type": "code",
   "execution_count": 9,
   "metadata": {},
   "outputs": [
    {
     "data": {
      "text/plain": [
       "4月"
      ]
     },
     "execution_count": 9,
     "metadata": {},
     "output_type": "execute_result"
    }
   ],
   "source": [
    "v=c.get(Calendar.MONTH);\n",
    "\n",
    "if (v==Calendar.JANUARY) t=\"1月\";\n",
    "if (v==Calendar.FEBRUARY) t=\"2月\";\n",
    "if (v==Calendar.MARCH) t=\"3月\";\n",
    "if (v==Calendar.APRIL) t=\"4月\";\n",
    "if (v==Calendar.MAY) t=\"5月\";\n",
    "if (v==Calendar.JUNE) t=\"6月\";\n",
    "if (v==Calendar.JULY) t=\"7月\";\n",
    "if (v==Calendar.AUGUST) t=\"8月\";\n",
    "if (v==Calendar.SEPTEMBER) t=\"9月\";\n",
    "if (v==Calendar.OCTOBER) t=\"10月\";\n",
    "if (v==Calendar.NOVEMBER) t=\"11月\";\n",
    "if (v==Calendar.DECEMBER) t=\"12月\";\n",
    "if (v==Calendar.UNDECIMBER) t=\"13月?\";\n",
    "t;"
   ]
  },
  {
   "cell_type": "code",
   "execution_count": 10,
   "metadata": {},
   "outputs": [
    {
     "data": {
      "text/plain": [
       "5"
      ]
     },
     "execution_count": 10,
     "metadata": {},
     "output_type": "execute_result"
    }
   ],
   "source": [
    "c.get(Calendar.WEEK_OF_MONTH)"
   ]
  },
  {
   "cell_type": "code",
   "execution_count": 11,
   "metadata": {},
   "outputs": [
    {
     "data": {
      "text/plain": [
       "18"
      ]
     },
     "execution_count": 11,
     "metadata": {},
     "output_type": "execute_result"
    }
   ],
   "source": [
    "c.get(Calendar.WEEK_OF_YEAR)"
   ]
  },
  {
   "cell_type": "code",
   "execution_count": 12,
   "metadata": {},
   "outputs": [
    {
     "data": {
      "text/plain": [
       "29"
      ]
     },
     "execution_count": 12,
     "metadata": {},
     "output_type": "execute_result"
    }
   ],
   "source": [
    "c.get(Calendar.DAY_OF_MONTH);\n",
    "c.get(Calendar.DATE); // 同じ"
   ]
  },
  {
   "cell_type": "code",
   "execution_count": 13,
   "metadata": {},
   "outputs": [
    {
     "data": {
      "text/plain": [
       "水曜日"
      ]
     },
     "execution_count": 13,
     "metadata": {},
     "output_type": "execute_result"
    }
   ],
   "source": [
    "v=c.get(Calendar.DAY_OF_WEEK);\n",
    "\n",
    "if (v==Calendar.SUNDAY) t=\"日曜日\";\n",
    "if (v==Calendar.MONDAY) t=\"月曜日\";\n",
    "if (v==Calendar.TUESDAY) t=\"火曜日\";\n",
    "if (v==Calendar.WEDNESDAY) t=\"水曜日\";\n",
    "if (v==Calendar.THURSDAY) t=\"木曜日\";\n",
    "if (v==Calendar.FRIDAY) t=\"金曜日\";\n",
    "if (v==Calendar.SATURDAY) t=\"土曜日\";\n",
    "t;"
   ]
  },
  {
   "cell_type": "code",
   "execution_count": 14,
   "metadata": {},
   "outputs": [
    {
     "data": {
      "text/plain": [
       "5"
      ]
     },
     "execution_count": 14,
     "metadata": {},
     "output_type": "execute_result"
    }
   ],
   "source": [
    "c.get(Calendar.DAY_OF_WEEK_IN_MONTH)"
   ]
  },
  {
   "cell_type": "code",
   "execution_count": 15,
   "metadata": {},
   "outputs": [
    {
     "data": {
      "text/plain": [
       "120"
      ]
     },
     "execution_count": 15,
     "metadata": {},
     "output_type": "execute_result"
    }
   ],
   "source": [
    "c.get(Calendar.DAY_OF_YEAR)"
   ]
  },
  {
   "cell_type": "code",
   "execution_count": 16,
   "metadata": {},
   "outputs": [
    {
     "data": {
      "text/plain": [
       "18"
      ]
     },
     "execution_count": 16,
     "metadata": {},
     "output_type": "execute_result"
    }
   ],
   "source": [
    "c.get(Calendar.HOUR_OF_DAY)"
   ]
  },
  {
   "cell_type": "code",
   "execution_count": 17,
   "metadata": {},
   "outputs": [
    {
     "data": {
      "text/plain": [
       "6"
      ]
     },
     "execution_count": 17,
     "metadata": {},
     "output_type": "execute_result"
    }
   ],
   "source": [
    "c.get(Calendar.HOUR)"
   ]
  },
  {
   "cell_type": "code",
   "execution_count": 18,
   "metadata": {},
   "outputs": [
    {
     "data": {
      "text/plain": [
       "午後"
      ]
     },
     "execution_count": 18,
     "metadata": {},
     "output_type": "execute_result"
    }
   ],
   "source": [
    "v=c.get(Calendar.AM_PM);\n",
    "\n",
    "if (v==Calendar.AM) t=\"午前\";\n",
    "if (v==Calendar.PM) t=\"午後\";\n",
    "t;"
   ]
  },
  {
   "cell_type": "code",
   "execution_count": 19,
   "metadata": {},
   "outputs": [
    {
     "data": {
      "text/plain": [
       "55"
      ]
     },
     "execution_count": 19,
     "metadata": {},
     "output_type": "execute_result"
    }
   ],
   "source": [
    "c.get(Calendar.MINUTE)"
   ]
  },
  {
   "cell_type": "code",
   "execution_count": 20,
   "metadata": {},
   "outputs": [
    {
     "data": {
      "text/plain": [
       "56"
      ]
     },
     "execution_count": 20,
     "metadata": {},
     "output_type": "execute_result"
    }
   ],
   "source": [
    "c.get(Calendar.SECOND)"
   ]
  },
  {
   "cell_type": "code",
   "execution_count": 21,
   "metadata": {},
   "outputs": [
    {
     "data": {
      "text/plain": [
       "464"
      ]
     },
     "execution_count": 21,
     "metadata": {},
     "output_type": "execute_result"
    }
   ],
   "source": [
    "c.get(Calendar.MILLISECOND)"
   ]
  },
  {
   "cell_type": "code",
   "execution_count": 22,
   "metadata": {},
   "outputs": [
    {
     "data": {
      "text/plain": [
       "32400000"
      ]
     },
     "execution_count": 22,
     "metadata": {},
     "output_type": "execute_result"
    }
   ],
   "source": [
    "c.get(Calendar.ZONE_OFFSET)"
   ]
  },
  {
   "cell_type": "markdown",
   "metadata": {},
   "source": [
    "## 時間帯"
   ]
  },
  {
   "cell_type": "code",
   "execution_count": 23,
   "metadata": {},
   "outputs": [],
   "source": [
    "TimeZone tz=TimeZone.getDefault();\n",
    "// tz=TimeZone.getTimeZone(\"UTC\");"
   ]
  },
  {
   "cell_type": "code",
   "execution_count": 24,
   "metadata": {},
   "outputs": [
    {
     "data": {
      "text/plain": [
       "Japan Standard Time"
      ]
     },
     "execution_count": 24,
     "metadata": {},
     "output_type": "execute_result"
    }
   ],
   "source": [
    "tz.getDisplayName(false,TimeZone.LONG)"
   ]
  },
  {
   "cell_type": "code",
   "execution_count": 25,
   "metadata": {},
   "outputs": [
    {
     "data": {
      "text/plain": [
       "JST"
      ]
     },
     "execution_count": 25,
     "metadata": {},
     "output_type": "execute_result"
    }
   ],
   "source": [
    "tz.getDisplayName(false,TimeZone.SHORT)"
   ]
  },
  {
   "cell_type": "code",
   "execution_count": 26,
   "metadata": {},
   "outputs": [
    {
     "data": {
      "text/plain": [
       "Asia/Tokyo"
      ]
     },
     "execution_count": 26,
     "metadata": {},
     "output_type": "execute_result"
    }
   ],
   "source": [
    "tz.getID()"
   ]
  },
  {
   "cell_type": "code",
   "execution_count": 27,
   "metadata": {},
   "outputs": [
    {
     "data": {
      "text/plain": [
       "false"
      ]
     },
     "execution_count": 27,
     "metadata": {},
     "output_type": "execute_result"
    }
   ],
   "source": [
    "tz.useDaylightTime() // 夏時間を使うことがあるかどうか"
   ]
  },
  {
   "cell_type": "code",
   "execution_count": 28,
   "metadata": {},
   "outputs": [
    {
     "data": {
      "text/plain": [
       "false"
      ]
     },
     "execution_count": 28,
     "metadata": {},
     "output_type": "execute_result"
    }
   ],
   "source": [
    "tz.observesDaylightTime() // 夏時間かどうか"
   ]
  },
  {
   "cell_type": "code",
   "execution_count": 29,
   "metadata": {},
   "outputs": [
    {
     "data": {
      "text/plain": [
       "32400000"
      ]
     },
     "execution_count": 29,
     "metadata": {},
     "output_type": "execute_result"
    }
   ],
   "source": [
    "tz.getRawOffset() // UTCからのミリ秒の時差"
   ]
  },
  {
   "cell_type": "markdown",
   "metadata": {},
   "source": [
    "## フォーマット"
   ]
  },
  {
   "cell_type": "code",
   "execution_count": 30,
   "metadata": {},
   "outputs": [
    {
     "data": {
      "text/plain": [
       "datetime    %tc : Wed Apr 29 18:55:58 JST 2020 \n",
       "date        %tD : 04/29/20 = %tx \n",
       "            %tF : 2020-04-29 \n",
       "time        %tT : 18:55:58 = %tX \n",
       "            %tR : 18:55 \n",
       "            %tr : 06:55:58 PM \n",
       "century     %tC : 20 \n",
       "year        %tY : 2020 \n",
       "            %ty : 20 \n",
       "month       %tb : Apr = %th \n",
       "            %tB : April \n",
       "            %tm : 04 \n",
       "day         %td : 29 \n",
       "            %te : 29 \n",
       "day/year    %tj : 120 \n",
       "weekday     %ta : Wed \n",
       "            %tA : Wednesday \n",
       "hour        %tH : 18 \n",
       "            %tk : 18 \n",
       "            %tI : 06 \n",
       "            %tl : 6 \n",
       "AM/PM       %tp : pm \n",
       "minute      %tM : 55 \n",
       "second      %tS : 58 \n",
       "UNIX epoch  %ts : 1588154158 \n",
       "milli+micro %tN : 552000000 \n",
       "millisecond %tL : 552 \n",
       "timezone    %tZ : JST \n",
       "            %tz : +0900"
      ]
     },
     "execution_count": 30,
     "metadata": {},
     "output_type": "execute_result"
    }
   ],
   "source": [
    "Date d = new Date();\n",
    "String.format(\n",
    "\t\"datetime    %%tc : %tc %n\"+\n",
    "\t\"date        %%tD : %tD = %%tx %n\"+\n",
    "\t\"            %%tF : %tF %n\"+\n",
    "\t\"time        %%tT : %tT = %%tX %n\"+\n",
    "\t\"            %%tR : %tR %n\"+\n",
    "\t\"            %%tr : %tr %n\"+\n",
    "\t\"century     %%tC : %tC %n\"+\n",
    "\t\"year        %%tY : %tY %n\"+\n",
    "\t\"            %%ty : %ty %n\"+\n",
    "\t\"month       %%tb : %tb = %%th %n\"+\n",
    "\t\"            %%tB : %tB %n\"+\n",
    "\t\"            %%tm : %tm %n\"+\n",
    "\t\"day         %%td : %td %n\"+\n",
    "\t\"            %%te : %te %n\"+\n",
    "\t\"day/year    %%tj : %tj %n\"+\n",
    "\t\"weekday     %%ta : %ta %n\"+\n",
    "\t\"            %%tA : %tA %n\"+\n",
    "\t\"hour        %%tH : %tH %n\"+\n",
    "\t\"            %%tk : %tk %n\"+\n",
    "\t\"            %%tI : %tI %n\"+\n",
    "\t\"            %%tl : %tl %n\"+\n",
    "\t\"AM/PM       %%tp : %tp %n\"+\n",
    "\t\"minute      %%tM : %tM %n\"+\n",
    "\t\"second      %%tS : %tS %n\"+\n",
    "\t\"UNIX epoch  %%ts : %ts %n\"+\n",
    "\t\"milli+micro %%tN : %tN %n\"+\n",
    "\t\"millisecond %%tL : %tL %n\"+\n",
    "\t\"timezone    %%tZ : %tZ %n\"+\n",
    "\t\"            %%tz : %tz\",\n",
    "\td,d,d,d,d,d,d,d,d,d,d,d,d,d,d,d,d,d,d,d,d,d,d,d,d,d,d,d,d\n",
    "\t// フォーマット指定子の数だけ Date オブジェクトが要る\n",
    ");"
   ]
  },
  {
   "cell_type": "markdown",
   "metadata": {},
   "source": [
    "`String.format` は本来\n",
    "```Java\n",
    "String.format(\"%tH:%tM\",d,d) → \"9:41\"\n",
    "```\n",
    "のように使う。ここでは対応しているトークンの一覧を表示している"
   ]
  },
  {
   "cell_type": "markdown",
   "metadata": {},
   "source": [
    "## 所要時間"
   ]
  },
  {
   "cell_type": "code",
   "execution_count": 31,
   "metadata": {},
   "outputs": [],
   "source": [
    "long en=System.currentTimeMillis()"
   ]
  },
  {
   "cell_type": "code",
   "execution_count": 32,
   "metadata": {},
   "outputs": [
    {
     "data": {
      "text/plain": [
       "この処理に要した時間: 2676 ミリ秒"
      ]
     },
     "execution_count": 32,
     "metadata": {},
     "output_type": "execute_result"
    }
   ],
   "source": [
    "\"この処理に要した時間: \"+(en-st)+\" ミリ秒\""
   ]
  }
 ],
 "metadata": {
  "kernelspec": {
   "display_name": "Java",
   "language": "java",
   "name": "java"
  },
  "language_info": {
   "codemirror_mode": "java",
   "file_extension": ".jshell",
   "mimetype": "text/x-java-source",
   "name": "Java",
   "pygments_lexer": "java",
   "version": "13.0.2+8"
  }
 },
 "nbformat": 4,
 "nbformat_minor": 4
}
