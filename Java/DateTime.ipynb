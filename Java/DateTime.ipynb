{
 "cells": [
  {
   "cell_type": "markdown",
   "metadata": {},
   "source": [
    "# 日付と時刻"
   ]
  },
  {
   "cell_type": "code",
   "execution_count": 1,
   "metadata": {},
   "outputs": [],
   "source": [
    "long st = System.currentTimeMillis();"
   ]
  },
  {
   "cell_type": "code",
   "execution_count": 2,
   "metadata": {},
   "outputs": [],
   "source": [
    "import java.util.Calendar;\n",
    "import java.util.TimeZone;\n",
    "import java.text.SimpleDateFormat;\n",
    "\n",
    "Calendar c;\n",
    "int v;\n",
    "String t;"
   ]
  },
  {
   "cell_type": "markdown",
   "metadata": {},
   "source": [
    "## 時刻オブジェクト"
   ]
  },
  {
   "cell_type": "markdown",
   "metadata": {},
   "source": [
    "* 現在ローカル時刻"
   ]
  },
  {
   "cell_type": "code",
   "execution_count": 3,
   "metadata": {},
   "outputs": [
    {
     "data": {
      "text/plain": [
       "java.util.GregorianCalendar"
      ]
     },
     "execution_count": 3,
     "metadata": {},
     "output_type": "execute_result"
    }
   ],
   "source": [
    "Calendar.getInstance()"
   ]
  },
  {
   "cell_type": "markdown",
   "metadata": {},
   "source": [
    "* 現在UTC時刻"
   ]
  },
  {
   "cell_type": "code",
   "execution_count": 4,
   "metadata": {},
   "outputs": [
    {
     "data": {
      "text/plain": [
       "java.util.GregorianCalendar"
      ]
     },
     "execution_count": 4,
     "metadata": {},
     "output_type": "execute_result"
    }
   ],
   "source": [
    "Calendar.getInstance(TimeZone.getTimeZone(\"UTC\"))"
   ]
  },
  {
   "cell_type": "markdown",
   "metadata": {},
   "source": [
    "* カスタム時刻"
   ]
  },
  {
   "cell_type": "code",
   "execution_count": 5,
   "metadata": {},
   "outputs": [
    {
     "data": {
      "text/plain": [
       "java.util.GregorianCalendar"
      ]
     },
     "execution_count": 5,
     "metadata": {},
     "output_type": "execute_result"
    }
   ],
   "source": [
    "c=Calendar.getInstance();\n",
    "c.set(1996,Calendar.JANUARY,23,9,41,12);\n",
    "c;"
   ]
  },
  {
   "cell_type": "markdown",
   "metadata": {},
   "source": [
    "## 成分分解"
   ]
  },
  {
   "cell_type": "code",
   "execution_count": 6,
   "metadata": {},
   "outputs": [],
   "source": [
    "c=Calendar.getInstance();"
   ]
  },
  {
   "cell_type": "code",
   "execution_count": 7,
   "metadata": {},
   "outputs": [
    {
     "data": {
      "text/plain": [
       "1"
      ]
     },
     "execution_count": 7,
     "metadata": {},
     "output_type": "execute_result"
    }
   ],
   "source": [
    "c.get(Calendar.ERA)"
   ]
  },
  {
   "cell_type": "code",
   "execution_count": 8,
   "metadata": {},
   "outputs": [
    {
     "data": {
      "text/plain": [
       "2008"
      ]
     },
     "execution_count": 8,
     "metadata": {},
     "output_type": "execute_result"
    }
   ],
   "source": [
    "c.get(Calendar.YEAR)"
   ]
  },
  {
   "cell_type": "code",
   "execution_count": 9,
   "metadata": {},
   "outputs": [
    {
     "data": {
      "text/plain": [
       "4月"
      ]
     },
     "execution_count": 9,
     "metadata": {},
     "output_type": "execute_result"
    }
   ],
   "source": [
    "v=c.get(Calendar.MONTH);\n",
    "\n",
    "if (v==Calendar.JANUARY) t=\"1月\";\n",
    "if (v==Calendar.FEBRUARY) t=\"2月\";\n",
    "if (v==Calendar.MARCH) t=\"3月\";\n",
    "if (v==Calendar.APRIL) t=\"4月\";\n",
    "if (v==Calendar.MAY) t=\"5月\";\n",
    "if (v==Calendar.JUNE) t=\"6月\";\n",
    "if (v==Calendar.JULY) t=\"7月\";\n",
    "if (v==Calendar.AUGUST) t=\"8月\";\n",
    "if (v==Calendar.SEPTEMBER) t=\"9月\";\n",
    "if (v==Calendar.OCTOBER) t=\"10月\";\n",
    "if (v==Calendar.NOVEMBER) t=\"11月\";\n",
    "if (v==Calendar.DECEMBER) t=\"12月\";\n",
    "if (v==Calendar.UNDECIMBER) t=\"13月?\";\n",
    "t;"
   ]
  },
  {
   "cell_type": "code",
   "execution_count": 10,
   "metadata": {},
   "outputs": [
    {
     "data": {
      "text/plain": [
       "1"
      ]
     },
     "execution_count": 10,
     "metadata": {},
     "output_type": "execute_result"
    }
   ],
   "source": [
    "c.get(Calendar.WEEK_OF_MONTH)"
   ]
  },
  {
   "cell_type": "code",
   "execution_count": 11,
   "metadata": {},
   "outputs": [
    {
     "data": {
      "text/plain": [
       "14"
      ]
     },
     "execution_count": 11,
     "metadata": {},
     "output_type": "execute_result"
    }
   ],
   "source": [
    "c.get(Calendar.WEEK_OF_YEAR)"
   ]
  },
  {
   "cell_type": "code",
   "execution_count": 12,
   "metadata": {},
   "outputs": [
    {
     "data": {
      "text/plain": [
       "5"
      ]
     },
     "execution_count": 12,
     "metadata": {},
     "output_type": "execute_result"
    }
   ],
   "source": [
    "c.get(Calendar.DAY_OF_MONTH);\n",
    "c.get(Calendar.DATE); // 同じ"
   ]
  },
  {
   "cell_type": "code",
   "execution_count": 13,
   "metadata": {},
   "outputs": [
    {
     "data": {
      "text/plain": [
       "土曜日"
      ]
     },
     "execution_count": 13,
     "metadata": {},
     "output_type": "execute_result"
    }
   ],
   "source": [
    "v=c.get(Calendar.DAY_OF_WEEK);\n",
    "\n",
    "if (v==Calendar.SUNDAY) t=\"日曜日\";\n",
    "if (v==Calendar.MONDAY) t=\"月曜日\";\n",
    "if (v==Calendar.TUESDAY) t=\"火曜日\";\n",
    "if (v==Calendar.WEDNESDAY) t=\"水曜日\";\n",
    "if (v==Calendar.THURSDAY) t=\"木曜日\";\n",
    "if (v==Calendar.FRIDAY) t=\"金曜日\";\n",
    "if (v==Calendar.SATURDAY) t=\"土曜日\";\n",
    "t;"
   ]
  },
  {
   "cell_type": "code",
   "execution_count": 14,
   "metadata": {},
   "outputs": [
    {
     "data": {
      "text/plain": [
       "1"
      ]
     },
     "execution_count": 14,
     "metadata": {},
     "output_type": "execute_result"
    }
   ],
   "source": [
    "c.get(Calendar.DAY_OF_WEEK_IN_MONTH)"
   ]
  },
  {
   "cell_type": "code",
   "execution_count": 15,
   "metadata": {},
   "outputs": [
    {
     "data": {
      "text/plain": [
       "96"
      ]
     },
     "execution_count": 15,
     "metadata": {},
     "output_type": "execute_result"
    }
   ],
   "source": [
    "c.get(Calendar.DAY_OF_YEAR)"
   ]
  },
  {
   "cell_type": "code",
   "execution_count": 16,
   "metadata": {},
   "outputs": [
    {
     "data": {
      "text/plain": [
       "14"
      ]
     },
     "execution_count": 16,
     "metadata": {},
     "output_type": "execute_result"
    }
   ],
   "source": [
    "c.get(Calendar.HOUR_OF_DAY)"
   ]
  },
  {
   "cell_type": "code",
   "execution_count": 17,
   "metadata": {},
   "outputs": [
    {
     "data": {
      "text/plain": [
       "2"
      ]
     },
     "execution_count": 17,
     "metadata": {},
     "output_type": "execute_result"
    }
   ],
   "source": [
    "c.get(Calendar.HOUR)"
   ]
  },
  {
   "cell_type": "code",
   "execution_count": 18,
   "metadata": {},
   "outputs": [
    {
     "data": {
      "text/plain": [
       "午後"
      ]
     },
     "execution_count": 18,
     "metadata": {},
     "output_type": "execute_result"
    }
   ],
   "source": [
    "v=c.get(Calendar.AM_PM);\n",
    "\n",
    "if (v==Calendar.AM) t=\"午前\";\n",
    "if (v==Calendar.PM) t=\"午後\";\n",
    "t;"
   ]
  },
  {
   "cell_type": "code",
   "execution_count": 19,
   "metadata": {},
   "outputs": [
    {
     "data": {
      "text/plain": [
       "57"
      ]
     },
     "execution_count": 19,
     "metadata": {},
     "output_type": "execute_result"
    }
   ],
   "source": [
    "c.get(Calendar.MINUTE)"
   ]
  },
  {
   "cell_type": "code",
   "execution_count": 20,
   "metadata": {},
   "outputs": [
    {
     "data": {
      "text/plain": [
       "33"
      ]
     },
     "execution_count": 20,
     "metadata": {},
     "output_type": "execute_result"
    }
   ],
   "source": [
    "c.get(Calendar.SECOND)"
   ]
  },
  {
   "cell_type": "code",
   "execution_count": 21,
   "metadata": {},
   "outputs": [
    {
     "data": {
      "text/plain": [
       "777"
      ]
     },
     "execution_count": 21,
     "metadata": {},
     "output_type": "execute_result"
    }
   ],
   "source": [
    "c.get(Calendar.MILLISECOND)"
   ]
  },
  {
   "cell_type": "code",
   "execution_count": 22,
   "metadata": {},
   "outputs": [
    {
     "data": {
      "text/plain": [
       "32400000"
      ]
     },
     "execution_count": 22,
     "metadata": {},
     "output_type": "execute_result"
    }
   ],
   "source": [
    "c.get(Calendar.ZONE_OFFSET)"
   ]
  },
  {
   "cell_type": "markdown",
   "metadata": {},
   "source": [
    "## 時間帯"
   ]
  },
  {
   "cell_type": "code",
   "execution_count": 23,
   "metadata": {},
   "outputs": [],
   "source": [
    "TimeZone tz=TimeZone.getDefault();\n",
    "// tz=TimeZone.getTimeZone(\"UTC\");"
   ]
  },
  {
   "cell_type": "code",
   "execution_count": 24,
   "metadata": {},
   "outputs": [
    {
     "data": {
      "text/plain": [
       "Japan Standard Time"
      ]
     },
     "execution_count": 24,
     "metadata": {},
     "output_type": "execute_result"
    }
   ],
   "source": [
    "tz.getDisplayName(false,TimeZone.LONG)"
   ]
  },
  {
   "cell_type": "code",
   "execution_count": 25,
   "metadata": {},
   "outputs": [
    {
     "data": {
      "text/plain": [
       "JST"
      ]
     },
     "execution_count": 25,
     "metadata": {},
     "output_type": "execute_result"
    }
   ],
   "source": [
    "tz.getDisplayName(false,TimeZone.SHORT)"
   ]
  },
  {
   "cell_type": "code",
   "execution_count": 26,
   "metadata": {},
   "outputs": [
    {
     "data": {
      "text/plain": [
       "Asia/Tokyo"
      ]
     },
     "execution_count": 26,
     "metadata": {},
     "output_type": "execute_result"
    }
   ],
   "source": [
    "tz.getID()"
   ]
  },
  {
   "cell_type": "code",
   "execution_count": 27,
   "metadata": {},
   "outputs": [
    {
     "data": {
      "text/plain": [
       "false"
      ]
     },
     "execution_count": 27,
     "metadata": {},
     "output_type": "execute_result"
    }
   ],
   "source": [
    "tz.useDaylightTime() // 夏時間を使うことがあるかどうか"
   ]
  },
  {
   "cell_type": "code",
   "execution_count": 28,
   "metadata": {},
   "outputs": [
    {
     "data": {
      "text/plain": [
       "false"
      ]
     },
     "execution_count": 28,
     "metadata": {},
     "output_type": "execute_result"
    }
   ],
   "source": [
    "tz.observesDaylightTime() // 夏時間かどうか"
   ]
  },
  {
   "cell_type": "code",
   "execution_count": 29,
   "metadata": {},
   "outputs": [
    {
     "data": {
      "text/plain": [
       "32400000"
      ]
     },
     "execution_count": 29,
     "metadata": {},
     "output_type": "execute_result"
    }
   ],
   "source": [
    "tz.getRawOffset() // UTCからのミリ秒の時差"
   ]
  },
  {
   "cell_type": "markdown",
   "metadata": {},
   "source": [
    "## フォーマット"
   ]
  },
  {
   "cell_type": "code",
   "execution_count": 30,
   "metadata": {},
   "outputs": [
    {
     "data": {
      "text/plain": [
       "century     G : AD\n",
       "year        y : 2008\n",
       "           yy : 08\n",
       "         yyyy : 2008\n",
       "        yyyyy : 02008\n",
       "month       M : 4\n",
       "           MM : 04\n",
       "          MMM : Apr\n",
       "        MMMMM : April\n",
       "day         d : 5\n",
       "           dd : 05\n",
       "weekday     E : Sat\n",
       "         EEEE : Saturday\n",
       "            u : 6\n",
       "week/month  F : 1\n",
       "hour        H : 14\n",
       "           HH : 14\n",
       "            k : 14\n",
       "           kk : 14\n",
       "            K : 2\n",
       "           KK : 02\n",
       "            h : 2\n",
       "           hh : 02\n",
       "am/pm       a : PM\n",
       "minute      m : 57\n",
       "           mm : 57\n",
       "second      s : 33\n",
       "           ss : 33\n",
       "millisecond S : 777\n",
       "           SS : 777\n",
       "          SSS : 777\n",
       "timezone    z : JST\n",
       "         zzzz : Japan Standard Time\n",
       "            Z : +0900\n",
       "            X : +09\n",
       "           XX : +0900\n",
       "          XXX : +09:00\n"
      ]
     },
     "execution_count": 30,
     "metadata": {},
     "output_type": "execute_result"
    }
   ],
   "source": [
    "SimpleDateFormat df = new SimpleDateFormat(\n",
    "\t\"'century     G' : G\\n\"+\n",
    "\t\"'year        y' : y\\n\"+\n",
    "\t\"'           yy' : yy\\n\"+ // 2桁に短縮される\n",
    "\t\"'         yyyy' : yyyy\\n\"+\n",
    "\t\"'        yyyyy' : yyyyy\\n\"+\n",
    "\t\"'month       M' : M\\n\"+\n",
    "\t\"'           MM' : MM\\n\"+\n",
    "\t\"'          MMM' : MMM\\n\"+\n",
    "\t\"'        MMMMM' : MMMMM\\n\"+\n",
    "\t\"'day         d' : d\\n\"+\n",
    "\t\"'           dd' : dd\\n\"+\n",
    "\t\"'weekday     E' : E\\n\"+\n",
    "\t\"'         EEEE' : EEEE\\n\"+\n",
    "\t\"'            u' : u\\n\"+ // 1:Mon ~ 7:Sun\n",
    "\t\"'week/month  F' : F\\n\"+\n",
    "\t\"'hour        H' : H\\n\"+ // 0~23\n",
    "\t\"'           HH' : HH\\n\"+\n",
    "\t\"'            k' : k\\n\"+ // 1~24\n",
    "\t\"'           kk' : kk\\n\"+\n",
    "\t\"'            K' : K\\n\"+ // 0~11\n",
    "\t\"'           KK' : KK\\n\"+\n",
    "\t\"'            h' : h\\n\"+ // 1~12\n",
    "\t\"'           hh' : hh\\n\"+\n",
    "\t\"'am/pm       a' : a\\n\"+\n",
    "\t\"'minute      m' : m\\n\"+\n",
    "\t\"'           mm' : mm\\n\"+\n",
    "\t\"'second      s' : s\\n\"+\n",
    "\t\"'           ss' : ss\\n\"+\n",
    "\t\"'millisecond S' : S\\n\"+\n",
    "\t\"'           SS' : SS\\n\"+\n",
    "\t\"'          SSS' : SSS\\n\"+\n",
    "\t\"'timezone    z' : z\\n\"+\n",
    "\t\"'         zzzz' : zzzz\\n\"+\n",
    "\t\"'            Z' : Z\\n\"+\n",
    "\t\"'            X' : X\\n\"+\n",
    "\t\"'           XX' : XX\\n\"+\n",
    "\t\"'          XXX' : XXX\\n\"\n",
    ");\n",
    "df.format(c.getTime());"
   ]
  },
  {
   "cell_type": "code",
   "execution_count": 31,
   "metadata": {},
   "outputs": [
    {
     "data": {
      "text/plain": [
       "datetime    %tc : Sat Apr 05 14:57:33 JST 2008 \n",
       "date        %tD : 04/05/08 = %tx \n",
       "            %tF : 2008-04-05 \n",
       "time        %tT : 14:57:33 = %tX \n",
       "            %tR : 14:57 \n",
       "            %tr : 02:57:33 PM \n",
       "century     %tC : 20 \n",
       "year        %tY : 2008 \n",
       "            %ty : 08 \n",
       "month       %tb : Apr = %th \n",
       "            %tB : April \n",
       "            %tm : 04 \n",
       "day         %td : 05 \n",
       "            %te : 5 \n",
       "day/year    %tj : 096 \n",
       "weekday     %ta : Sat \n",
       "            %tA : Saturday \n",
       "hour        %tH : 14 \n",
       "            %tk : 14 \n",
       "            %tI : 02 \n",
       "            %tl : 2 \n",
       "AM/PM       %tp : pm \n",
       "minute      %tM : 57 \n",
       "second      %tS : 33 \n",
       "UNIX epoch  %ts : 1207375053 \n",
       "milli+micro %tN : 777000000 \n",
       "millisecond %tL : 777 \n",
       "timezone    %tZ : JST \n",
       "            %tz : +0900"
      ]
     },
     "execution_count": 31,
     "metadata": {},
     "output_type": "execute_result"
    }
   ],
   "source": [
    "Date d = c.getTime();\n",
    "String.format(\n",
    "\t\"datetime    %%tc : %tc %n\"+\n",
    "\t\"date        %%tD : %tD = %%tx %n\"+\n",
    "\t\"            %%tF : %tF %n\"+\n",
    "\t\"time        %%tT : %tT = %%tX %n\"+\n",
    "\t\"            %%tR : %tR %n\"+\n",
    "\t\"            %%tr : %tr %n\"+\n",
    "\t\"century     %%tC : %tC %n\"+\n",
    "\t\"year        %%tY : %tY %n\"+\n",
    "\t\"            %%ty : %ty %n\"+\n",
    "\t\"month       %%tb : %tb = %%th %n\"+\n",
    "\t\"            %%tB : %tB %n\"+\n",
    "\t\"            %%tm : %tm %n\"+\n",
    "\t\"day         %%td : %td %n\"+\n",
    "\t\"            %%te : %te %n\"+\n",
    "\t\"day/year    %%tj : %tj %n\"+\n",
    "\t\"weekday     %%ta : %ta %n\"+\n",
    "\t\"            %%tA : %tA %n\"+\n",
    "\t\"hour        %%tH : %tH %n\"+\n",
    "\t\"            %%tk : %tk %n\"+\n",
    "\t\"            %%tI : %tI %n\"+\n",
    "\t\"            %%tl : %tl %n\"+\n",
    "\t\"AM/PM       %%tp : %tp %n\"+\n",
    "\t\"minute      %%tM : %tM %n\"+\n",
    "\t\"second      %%tS : %tS %n\"+\n",
    "\t\"UNIX epoch  %%ts : %ts %n\"+\n",
    "\t\"milli+micro %%tN : %tN %n\"+\n",
    "\t\"millisecond %%tL : %tL %n\"+\n",
    "\t\"timezone    %%tZ : %tZ %n\"+\n",
    "\t\"            %%tz : %tz\",\n",
    "\td,d,d,d,d,d,d,d,d,d,d,d,d,d,d,d,d,d,d,d,d,d,d,d,d,d,d,d,d\n",
    "\t// フォーマット指定子の数だけ Date オブジェクトが要る\n",
    ");"
   ]
  },
  {
   "cell_type": "markdown",
   "metadata": {},
   "source": [
    "`String.format` は本来\n",
    "```Java\n",
    "String.format(\"%tH:%tM\",d,d) → \"9:41\"\n",
    "```\n",
    "のように使う。ここでは対応しているトークンの一覧を表示している"
   ]
  },
  {
   "cell_type": "markdown",
   "metadata": {},
   "source": [
    "## 所要時間"
   ]
  },
  {
   "cell_type": "code",
   "execution_count": 32,
   "metadata": {},
   "outputs": [],
   "source": [
    "long en=System.currentTimeMillis()"
   ]
  },
  {
   "cell_type": "code",
   "execution_count": 33,
   "metadata": {},
   "outputs": [
    {
     "data": {
      "text/plain": [
       "この処理に要した時間: 2433 ミリ秒"
      ]
     },
     "execution_count": 33,
     "metadata": {},
     "output_type": "execute_result"
    }
   ],
   "source": [
    "\"この処理に要した時間: \"+(en-st)+\" ミリ秒\""
   ]
  }
 ],
 "metadata": {
  "kernelspec": {
   "display_name": "Java",
   "language": "java",
   "name": "java"
  },
  "language_info": {
   "codemirror_mode": "java",
   "file_extension": ".jshell",
   "mimetype": "text/x-java-source",
   "name": "Java",
   "pygments_lexer": "java",
   "version": "13.0.2+8"
  }
 },
 "nbformat": 4,
 "nbformat_minor": 4
}
