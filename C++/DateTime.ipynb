{
 "cells": [
  {
   "cell_type": "markdown",
   "metadata": {},
   "source": [
    "# 日付と時刻"
   ]
  },
  {
   "cell_type": "code",
   "execution_count": 1,
   "metadata": {},
   "outputs": [],
   "source": [
    "#include <iostream>\n",
    "#include <ctime>\n",
    "#include <chrono>\n",
    "#include <sstream>\n",
    "#include <string>\n",
    "\n",
    "using namespace std;\n",
    "typedef chrono::high_resolution_clock HRC;\n",
    "\n",
    "time_t tt = time(nullptr);\n",
    "tm* t=localtime(&tt);"
   ]
  },
  {
   "cell_type": "code",
   "execution_count": 2,
   "metadata": {},
   "outputs": [],
   "source": [
    "auto st = HRC::now();"
   ]
  },
  {
   "cell_type": "markdown",
   "metadata": {},
   "source": [
    "* 現在ローカル時刻"
   ]
  },
  {
   "cell_type": "code",
   "execution_count": 3,
   "metadata": {},
   "outputs": [
    {
     "data": {
      "text/plain": [
       "\"Thu Apr 30 11:06:25 2020\n",
       "\""
      ]
     },
     "execution_count": 3,
     "metadata": {},
     "output_type": "execute_result"
    }
   ],
   "source": [
    "asctime(localtime(&tt))"
   ]
  },
  {
   "cell_type": "markdown",
   "metadata": {},
   "source": [
    "* 現在UTC時刻"
   ]
  },
  {
   "cell_type": "code",
   "execution_count": 4,
   "metadata": {},
   "outputs": [
    {
     "data": {
      "text/plain": [
       "\"Thu Apr 30 02:06:25 2020\n",
       "\""
      ]
     },
     "execution_count": 4,
     "metadata": {},
     "output_type": "execute_result"
    }
   ],
   "source": [
    "asctime(gmtime(&tt))"
   ]
  },
  {
   "cell_type": "markdown",
   "metadata": {},
   "source": [
    "## 成分分解"
   ]
  },
  {
   "cell_type": "code",
   "execution_count": 5,
   "metadata": {},
   "outputs": [
    {
     "data": {
      "text/plain": [
       "2020"
      ]
     },
     "execution_count": 5,
     "metadata": {},
     "output_type": "execute_result"
    }
   ],
   "source": [
    "t->tm_year+1900"
   ]
  },
  {
   "cell_type": "code",
   "execution_count": 6,
   "metadata": {},
   "outputs": [
    {
     "data": {
      "text/plain": [
       "4"
      ]
     },
     "execution_count": 6,
     "metadata": {},
     "output_type": "execute_result"
    }
   ],
   "source": [
    "t->tm_mon+1"
   ]
  },
  {
   "cell_type": "code",
   "execution_count": 7,
   "metadata": {},
   "outputs": [
    {
     "data": {
      "text/plain": [
       "30"
      ]
     },
     "execution_count": 7,
     "metadata": {},
     "output_type": "execute_result"
    }
   ],
   "source": [
    "t->tm_mday"
   ]
  },
  {
   "cell_type": "code",
   "execution_count": 8,
   "metadata": {},
   "outputs": [
    {
     "data": {
      "text/plain": [
       "4"
      ]
     },
     "execution_count": 8,
     "metadata": {},
     "output_type": "execute_result"
    }
   ],
   "source": [
    "t->tm_wday // 0:Sunday ~ 6:Saturday"
   ]
  },
  {
   "cell_type": "code",
   "execution_count": 9,
   "metadata": {},
   "outputs": [
    {
     "data": {
      "text/plain": [
       "120"
      ]
     },
     "execution_count": 9,
     "metadata": {},
     "output_type": "execute_result"
    }
   ],
   "source": [
    "t->tm_yday // day/year"
   ]
  },
  {
   "cell_type": "code",
   "execution_count": 10,
   "metadata": {},
   "outputs": [
    {
     "data": {
      "text/plain": [
       "11"
      ]
     },
     "execution_count": 10,
     "metadata": {},
     "output_type": "execute_result"
    }
   ],
   "source": [
    "t->tm_hour"
   ]
  },
  {
   "cell_type": "code",
   "execution_count": 11,
   "metadata": {},
   "outputs": [
    {
     "data": {
      "text/plain": [
       "6"
      ]
     },
     "execution_count": 11,
     "metadata": {},
     "output_type": "execute_result"
    }
   ],
   "source": [
    "t->tm_min"
   ]
  },
  {
   "cell_type": "code",
   "execution_count": 12,
   "metadata": {},
   "outputs": [
    {
     "data": {
      "text/plain": [
       "25"
      ]
     },
     "execution_count": 12,
     "metadata": {},
     "output_type": "execute_result"
    }
   ],
   "source": [
    "t->tm_sec"
   ]
  },
  {
   "cell_type": "code",
   "execution_count": 13,
   "metadata": {},
   "outputs": [
    {
     "data": {
      "text/plain": [
       "0"
      ]
     },
     "execution_count": 13,
     "metadata": {},
     "output_type": "execute_result"
    }
   ],
   "source": [
    "t->tm_isdst\n",
    "//  1: 夏時間実施中\n",
    "//  0: 夏時間でない\n",
    "// -1: 不明"
   ]
  },
  {
   "cell_type": "code",
   "execution_count": 14,
   "metadata": {},
   "outputs": [
    {
     "name": "stdout",
     "output_type": "stream",
     "text": [
      "1588212385"
     ]
    },
    {
     "data": {
      "text/plain": [
       "@0x101441010"
      ]
     },
     "execution_count": 14,
     "metadata": {},
     "output_type": "execute_result"
    }
   ],
   "source": [
    "cout << mktime(t); // Unixエポックからの経過秒数"
   ]
  },
  {
   "cell_type": "markdown",
   "metadata": {},
   "source": [
    "## フォーマット"
   ]
  },
  {
   "cell_type": "code",
   "execution_count": 15,
   "metadata": {},
   "outputs": [
    {
     "data": {
      "text/plain": [
       "\"Thu Apr 30 11:06:25 2020\n",
       "\""
      ]
     },
     "execution_count": 15,
     "metadata": {},
     "output_type": "execute_result"
    }
   ],
   "source": [
    "asctime(t)"
   ]
  },
  {
   "cell_type": "code",
   "execution_count": 16,
   "metadata": {},
   "outputs": [
    {
     "data": {
      "text/plain": [
       "\"Thu Apr 30 11:06:25 2020\n",
       "\""
      ]
     },
     "execution_count": 16,
     "metadata": {},
     "output_type": "execute_result"
    }
   ],
   "source": [
    "ctime(&tt)"
   ]
  },
  {
   "cell_type": "code",
   "execution_count": 17,
   "metadata": {},
   "outputs": [
    {
     "name": "stdout",
     "output_type": "stream",
     "text": [
      "datetime\n",
      "  %c : Thu Apr 30 11:06:25 2020\n",
      " %Ec : Thu Apr 30 11:06:25 2020\n",
      "date\n",
      "  %x : 04/30/20\n",
      " %Ex : 04/30/20\n",
      "  %D : 04/30/20\n",
      "  %F : 2020-04-30\n",
      "time\n",
      "  %X : 11:06:25\n",
      " %EX : 11:06:25\n",
      "  %R : 11:06\n",
      "  %r : 11:06:25 AM\n",
      "  %T : 11:06:25\n",
      "\n",
      "year\n",
      "  %Y : 2020\n",
      " %EY : 2020\n",
      "  %y : 20\n",
      " %Oy : 20\n",
      " %Ey : 20\n",
      "  %C : 20\n",
      " %EC : 20\n",
      "  %G : 2020\n",
      "  %g : 20\n",
      "month\n",
      "  %b : Apr\n",
      "  %B : April\n",
      "  %m : 04\n",
      " %Om : 04\n",
      "week/year\n",
      "  %U : 17\n",
      " %OU : 17\n",
      "  %W : 17\n",
      " %OW : 17\n",
      "  %V : 18\n",
      " %OV : 18\n",
      "day/year\n",
      "  %j : 121\n",
      "day/month\n",
      "  %d : 30\n",
      " %Od : 30\n",
      "  %e : 30\n",
      " %Oe : 30\n",
      "day/week\n",
      "  %a : Thu\n",
      "  %A : Thursday\n",
      "  %w : 4 (0:Sunday~)\n",
      " %Ow : 4\n",
      "  %u : 4 (1:Monday~)\n",
      " %Ou : 4\n",
      "\n",
      "hour\n",
      "  %H : 11\n",
      " %OH : 11\n",
      "  %I : 11\n",
      " %OI : 11\n",
      "  %p : AM\n",
      "minute\n",
      "  %M : 06\n",
      " %OM : 06\n",
      "second\n",
      "  %S : 25\n",
      " %OS : 25\n",
      "\n",
      "timezone\n",
      "  %z : +0900\n",
      "  %Z : JST\n"
     ]
    }
   ],
   "source": [
    "// テンプレート文字列をstringstreamで作成\n",
    "stringstream ss;\n",
    "ss <<\n",
    "    \"datetime\" << endl <<\n",
    "    \"  %%c : %c\" << endl <<\n",
    "    \" %%Ec : %Ec\" << endl <<\n",
    "    \"date\" << endl <<\n",
    "    \"  %%x : %x\" << endl <<\n",
    "    \" %%Ex : %Ex\" << endl <<\n",
    "    \"  %%D : %D\" << endl <<\n",
    "    \"  %%F : %F\" << endl <<\n",
    "    \"time\" << endl <<\n",
    "    \"  %%X : %X\" << endl <<\n",
    "    \" %%EX : %EX\" << endl <<\n",
    "    \"  %%R : %R\" << endl <<\n",
    "    \"  %%r : %r\" << endl <<\n",
    "    \"  %%T : %T\" << endl <<\n",
    "    endl <<\n",
    "    \"year\" << endl <<\n",
    "    \"  %%Y : %Y\" << endl <<\n",
    "    \" %%EY : %EY\" << endl <<\n",
    "    \"  %%y : %y\" << endl <<\n",
    "    \" %%Oy : %Oy\" << endl <<\n",
    "    \" %%Ey : %Ey\" << endl <<\n",
    "    \"  %%C : %C\" << endl <<\n",
    "    \" %%EC : %EC\" << endl <<\n",
    "    \"  %%G : %G\" << endl <<\n",
    "    \"  %%g : %g\" << endl <<\n",
    "    \"month\" << endl <<\n",
    "    \"  %%b : %b\" << endl <<\n",
    "    \"  %%B : %B\" << endl <<\n",
    "    \"  %%m : %m\" << endl <<\n",
    "    \" %%Om : %Om\" << endl <<\n",
    "    \"week/year\" << endl <<\n",
    "    \"  %%U : %U\" << endl <<\n",
    "    \" %%OU : %OU\" << endl <<\n",
    "    \"  %%W : %W\" << endl <<\n",
    "    \" %%OW : %OW\" << endl <<\n",
    "    \"  %%V : %V\" << endl <<\n",
    "    \" %%OV : %OV\" << endl <<\n",
    "    \"day/year\" << endl <<\n",
    "    \"  %%j : %j\" << endl <<\n",
    "    \"day/month\" << endl <<\n",
    "    \"  %%d : %d\" << endl <<\n",
    "    \" %%Od : %Od\" << endl <<\n",
    "    \"  %%e : %e\" << endl <<\n",
    "    \" %%Oe : %Oe\" << endl <<\n",
    "    \"day/week\" << endl <<\n",
    "    \"  %%a : %a\" << endl <<\n",
    "    \"  %%A : %A\" << endl <<\n",
    "    \"  %%w : %w (0:Sunday~)\" << endl <<\n",
    "    \" %%Ow : %Ow\" << endl <<\n",
    "    \"  %%u : %u (1:Monday~)\" << endl <<\n",
    "    \" %%Ou : %Ou\" << endl <<\n",
    "    endl <<\n",
    "    \"hour\" << endl <<\n",
    "    \"  %%H : %H\" << endl <<\n",
    "    \" %%OH : %OH\" << endl <<\n",
    "    \"  %%I : %I\" << endl <<\n",
    "    \" %%OI : %OI\" << endl <<\n",
    "    \"  %%p : %p\" << endl <<\n",
    "    \"minute\" << endl <<\n",
    "    \"  %%M : %M\" << endl <<\n",
    "    \" %%OM : %OM\" << endl <<\n",
    "    \"second\" << endl <<\n",
    "    \"  %%S : %S\" << endl <<\n",
    "    \" %%OS : %OS\" << endl <<\n",
    "    endl <<\n",
    "    \"timezone\" << endl <<\n",
    "    \"  %%z : %z\" << endl <<\n",
    "    \"  %%Z : %Z\" << endl;\n",
    "\n",
    "cout << std::put_time(t,ss.str().c_str());"
   ]
  },
  {
   "cell_type": "markdown",
   "metadata": {},
   "source": [
    "## 所要時間"
   ]
  },
  {
   "cell_type": "code",
   "execution_count": 18,
   "metadata": {},
   "outputs": [],
   "source": [
    "auto en=HRC::now();"
   ]
  },
  {
   "cell_type": "code",
   "execution_count": 19,
   "metadata": {},
   "outputs": [
    {
     "name": "stdout",
     "output_type": "stream",
     "text": [
      "この処理に要した時間: 3306.481504 ミリ秒"
     ]
    }
   ],
   "source": [
    "auto diff=chrono::duration<double,micro>(en-st).count()/1000;\n",
    "cout << \"この処理に要した時間: \"+to_string(diff)+\" ミリ秒\";"
   ]
  }
 ],
 "metadata": {
  "kernelspec": {
   "display_name": "C++",
   "language": "C++",
   "name": "xcpp17"
  },
  "language_info": {
   "codemirror_mode": "text/x-c++src",
   "file_extension": ".cpp",
   "mimetype": "text/x-c++src",
   "name": "c++",
   "version": "-std=c++2a"
  }
 },
 "nbformat": 4,
 "nbformat_minor": 4
}
