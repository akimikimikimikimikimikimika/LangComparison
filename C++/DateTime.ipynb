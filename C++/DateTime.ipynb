{
 "cells": [
  {
   "cell_type": "markdown",
   "metadata": {},
   "source": [
    "# 日付と時刻"
   ]
  },
  {
   "cell_type": "code",
   "execution_count": 1,
   "metadata": {},
   "outputs": [],
   "source": [
    "#include <iostream>\n",
    "#include <ctime>\n",
    "#include <chrono>\n",
    "#include <sstream>\n",
    "#include <string>\n",
    "\n",
    "using namespace std;\n",
    "typedef chrono::high_resolution_clock HRC;\n",
    "\n",
    "time_t tt;\n",
    "tm* t;"
   ]
  },
  {
   "cell_type": "code",
   "execution_count": 2,
   "metadata": {},
   "outputs": [],
   "source": [
    "auto st = HRC::now();"
   ]
  },
  {
   "cell_type": "markdown",
   "metadata": {},
   "source": [
    "* 現在ローカル時刻"
   ]
  },
  {
   "cell_type": "code",
   "execution_count": 3,
   "metadata": {},
   "outputs": [
    {
     "data": {
      "text/plain": [
       "\"Sat Apr  5 14:57:33 2008\n",
       "\""
      ]
     },
     "execution_count": 3,
     "metadata": {},
     "output_type": "execute_result"
    }
   ],
   "source": [
    "tt = time(nullptr);\n",
    "asctime(localtime(&tt))"
   ]
  },
  {
   "cell_type": "markdown",
   "metadata": {},
   "source": [
    "* 現在UTC時刻"
   ]
  },
  {
   "cell_type": "code",
   "execution_count": 4,
   "metadata": {},
   "outputs": [
    {
     "data": {
      "text/plain": [
       "\"Sat Apr  5 05:57:33 2008\n",
       "\""
      ]
     },
     "execution_count": 4,
     "metadata": {},
     "output_type": "execute_result"
    }
   ],
   "source": [
    "tt = time(nullptr);\n",
    "asctime(gmtime(&tt))"
   ]
  },
  {
   "cell_type": "markdown",
   "metadata": {},
   "source": [
    "* カスタム時刻"
   ]
  },
  {
   "cell_type": "code",
   "execution_count": 5,
   "metadata": {},
   "outputs": [
    {
     "data": {
      "text/plain": [
       "\"Tue Oct  1 09:41:12 1985\n",
       "\""
      ]
     },
     "execution_count": 5,
     "metadata": {},
     "output_type": "execute_result"
    }
   ],
   "source": [
    "tm ct = {.tm_year=1985-1900, .tm_mon=10-1, .tm_mday=1, .tm_hour=9, .tm_min=41, .tm_sec=12, .tm_isdst=-1};\n",
    "mktime(&ct);\n",
    "asctime(&ct)"
   ]
  },
  {
   "cell_type": "markdown",
   "metadata": {},
   "source": [
    "`mktime` はそれ自身が `time_t` を返すと同時に, `tm` 構造体の値を正規化する。  \n",
    "この時, `t->wday` と `t->yday` は無視される  \n",
    "`tm->isdst = -1` にしておくと夏時間かどうか判定を試みる"
   ]
  },
  {
   "cell_type": "markdown",
   "metadata": {},
   "source": [
    "## 成分分解"
   ]
  },
  {
   "cell_type": "code",
   "execution_count": 6,
   "metadata": {},
   "outputs": [],
   "source": [
    "tt = time(nullptr);\n",
    "t = localtime(&tt);"
   ]
  },
  {
   "cell_type": "code",
   "execution_count": 7,
   "metadata": {},
   "outputs": [
    {
     "data": {
      "text/plain": [
       "2008"
      ]
     },
     "execution_count": 7,
     "metadata": {},
     "output_type": "execute_result"
    }
   ],
   "source": [
    "t->tm_year+1900"
   ]
  },
  {
   "cell_type": "code",
   "execution_count": 8,
   "metadata": {},
   "outputs": [
    {
     "data": {
      "text/plain": [
       "4"
      ]
     },
     "execution_count": 8,
     "metadata": {},
     "output_type": "execute_result"
    }
   ],
   "source": [
    "t->tm_mon+1"
   ]
  },
  {
   "cell_type": "code",
   "execution_count": 9,
   "metadata": {},
   "outputs": [
    {
     "data": {
      "text/plain": [
       "5"
      ]
     },
     "execution_count": 9,
     "metadata": {},
     "output_type": "execute_result"
    }
   ],
   "source": [
    "t->tm_mday"
   ]
  },
  {
   "cell_type": "code",
   "execution_count": 10,
   "metadata": {},
   "outputs": [
    {
     "data": {
      "text/plain": [
       "6"
      ]
     },
     "execution_count": 10,
     "metadata": {},
     "output_type": "execute_result"
    }
   ],
   "source": [
    "t->tm_wday // 0:Sunday ~ 6:Saturday"
   ]
  },
  {
   "cell_type": "code",
   "execution_count": 11,
   "metadata": {},
   "outputs": [
    {
     "data": {
      "text/plain": [
       "95"
      ]
     },
     "execution_count": 11,
     "metadata": {},
     "output_type": "execute_result"
    }
   ],
   "source": [
    "t->tm_yday // day/year"
   ]
  },
  {
   "cell_type": "code",
   "execution_count": 12,
   "metadata": {},
   "outputs": [
    {
     "data": {
      "text/plain": [
       "14"
      ]
     },
     "execution_count": 12,
     "metadata": {},
     "output_type": "execute_result"
    }
   ],
   "source": [
    "t->tm_hour"
   ]
  },
  {
   "cell_type": "code",
   "execution_count": 13,
   "metadata": {},
   "outputs": [
    {
     "data": {
      "text/plain": [
       "57"
      ]
     },
     "execution_count": 13,
     "metadata": {},
     "output_type": "execute_result"
    }
   ],
   "source": [
    "t->tm_min"
   ]
  },
  {
   "cell_type": "code",
   "execution_count": 14,
   "metadata": {},
   "outputs": [
    {
     "data": {
      "text/plain": [
       "33"
      ]
     },
     "execution_count": 14,
     "metadata": {},
     "output_type": "execute_result"
    }
   ],
   "source": [
    "t->tm_sec"
   ]
  },
  {
   "cell_type": "code",
   "execution_count": 15,
   "metadata": {},
   "outputs": [
    {
     "data": {
      "text/plain": [
       "0"
      ]
     },
     "execution_count": 15,
     "metadata": {},
     "output_type": "execute_result"
    }
   ],
   "source": [
    "t->tm_isdst\n",
    "//  1: 夏時間実施中\n",
    "//  0: 夏時間でない\n",
    "// -1: 不明"
   ]
  },
  {
   "cell_type": "code",
   "execution_count": 16,
   "metadata": {},
   "outputs": [
    {
     "name": "stdout",
     "output_type": "stream",
     "text": [
      "1207375053"
     ]
    },
    {
     "data": {
      "text/plain": [
       "@0x10581a010"
      ]
     },
     "execution_count": 16,
     "metadata": {},
     "output_type": "execute_result"
    }
   ],
   "source": [
    "cout << mktime(t); // Unixエポックからの経過秒数"
   ]
  },
  {
   "cell_type": "markdown",
   "metadata": {},
   "source": [
    "## フォーマット"
   ]
  },
  {
   "cell_type": "code",
   "execution_count": 17,
   "metadata": {},
   "outputs": [
    {
     "data": {
      "text/plain": [
       "\"Sat Apr  5 14:57:33 2008\n",
       "\""
      ]
     },
     "execution_count": 17,
     "metadata": {},
     "output_type": "execute_result"
    }
   ],
   "source": [
    "asctime(t)"
   ]
  },
  {
   "cell_type": "code",
   "execution_count": 18,
   "metadata": {},
   "outputs": [
    {
     "data": {
      "text/plain": [
       "\"Sat Apr  5 14:57:33 2008\n",
       "\""
      ]
     },
     "execution_count": 18,
     "metadata": {},
     "output_type": "execute_result"
    }
   ],
   "source": [
    "ctime(&tt)"
   ]
  },
  {
   "cell_type": "code",
   "execution_count": 19,
   "metadata": {},
   "outputs": [
    {
     "name": "stdout",
     "output_type": "stream",
     "text": [
      "datetime\n",
      "  %c : Sat Apr  5 14:57:33 2008\n",
      " %Ec : Sat Apr  5 14:57:33 2008\n",
      "date\n",
      "  %x : 04/05/08\n",
      " %Ex : 04/05/08\n",
      "  %D : 04/05/08\n",
      "  %F : 2008-04-05\n",
      "time\n",
      "  %X : 14:57:33\n",
      " %EX : 14:57:33\n",
      "  %R : 14:57\n",
      "  %r : 02:57:33 PM\n",
      "  %T : 14:57:33\n",
      "\n",
      "year\n",
      "  %Y : 2008\n",
      " %EY : 2008\n",
      "  %y : 08\n",
      " %Oy : 08\n",
      " %Ey : 08\n",
      "  %C : 20\n",
      " %EC : 20\n",
      "  %G : 2008\n",
      "  %g : 08\n",
      "month\n",
      "  %b : Apr\n",
      "  %B : April\n",
      "  %m : 04\n",
      " %Om : 04\n",
      "week/year\n",
      "  %U : 13\n",
      " %OU : 13\n",
      "  %W : 13\n",
      " %OW : 13\n",
      "  %V : 14\n",
      " %OV : 14\n",
      "day/year\n",
      "  %j : 096\n",
      "day/month\n",
      "  %d : 05\n",
      " %Od : 05\n",
      "  %e :  5\n",
      " %Oe :  5\n",
      "day/week\n",
      "  %a : Sat\n",
      "  %A : Saturday\n",
      "  %w : 6 (0:Sunday~)\n",
      " %Ow : 6\n",
      "  %u : 6 (1:Monday~)\n",
      " %Ou : 6\n",
      "\n",
      "hour\n",
      "  %H : 14\n",
      " %OH : 14\n",
      "  %I : 02\n",
      " %OI : 02\n",
      "  %p : PM\n",
      "minute\n",
      "  %M : 57\n",
      " %OM : 57\n",
      "second\n",
      "  %S : 33\n",
      " %OS : 33\n",
      "\n",
      "timezone\n",
      "  %z : +0900\n",
      "  %Z : JST\n"
     ]
    }
   ],
   "source": [
    "// テンプレート文字列をstringstreamで作成\n",
    "stringstream ss;\n",
    "ss <<\n",
    "    \"datetime\" << endl <<\n",
    "    \"  %%c : %c\" << endl <<\n",
    "    \" %%Ec : %Ec\" << endl <<\n",
    "    \"date\" << endl <<\n",
    "    \"  %%x : %x\" << endl <<\n",
    "    \" %%Ex : %Ex\" << endl <<\n",
    "    \"  %%D : %D\" << endl <<\n",
    "    \"  %%F : %F\" << endl <<\n",
    "    \"time\" << endl <<\n",
    "    \"  %%X : %X\" << endl <<\n",
    "    \" %%EX : %EX\" << endl <<\n",
    "    \"  %%R : %R\" << endl <<\n",
    "    \"  %%r : %r\" << endl <<\n",
    "    \"  %%T : %T\" << endl <<\n",
    "    endl <<\n",
    "    \"year\" << endl <<\n",
    "    \"  %%Y : %Y\" << endl <<\n",
    "    \" %%EY : %EY\" << endl <<\n",
    "    \"  %%y : %y\" << endl <<\n",
    "    \" %%Oy : %Oy\" << endl <<\n",
    "    \" %%Ey : %Ey\" << endl <<\n",
    "    \"  %%C : %C\" << endl <<\n",
    "    \" %%EC : %EC\" << endl <<\n",
    "    \"  %%G : %G\" << endl <<\n",
    "    \"  %%g : %g\" << endl <<\n",
    "    \"month\" << endl <<\n",
    "    \"  %%b : %b\" << endl <<\n",
    "    \"  %%B : %B\" << endl <<\n",
    "    \"  %%m : %m\" << endl <<\n",
    "    \" %%Om : %Om\" << endl <<\n",
    "    \"week/year\" << endl <<\n",
    "    \"  %%U : %U\" << endl <<\n",
    "    \" %%OU : %OU\" << endl <<\n",
    "    \"  %%W : %W\" << endl <<\n",
    "    \" %%OW : %OW\" << endl <<\n",
    "    \"  %%V : %V\" << endl <<\n",
    "    \" %%OV : %OV\" << endl <<\n",
    "    \"day/year\" << endl <<\n",
    "    \"  %%j : %j\" << endl <<\n",
    "    \"day/month\" << endl <<\n",
    "    \"  %%d : %d\" << endl <<\n",
    "    \" %%Od : %Od\" << endl <<\n",
    "    \"  %%e : %e\" << endl <<\n",
    "    \" %%Oe : %Oe\" << endl <<\n",
    "    \"day/week\" << endl <<\n",
    "    \"  %%a : %a\" << endl <<\n",
    "    \"  %%A : %A\" << endl <<\n",
    "    \"  %%w : %w (0:Sunday~)\" << endl <<\n",
    "    \" %%Ow : %Ow\" << endl <<\n",
    "    \"  %%u : %u (1:Monday~)\" << endl <<\n",
    "    \" %%Ou : %Ou\" << endl <<\n",
    "    endl <<\n",
    "    \"hour\" << endl <<\n",
    "    \"  %%H : %H\" << endl <<\n",
    "    \" %%OH : %OH\" << endl <<\n",
    "    \"  %%I : %I\" << endl <<\n",
    "    \" %%OI : %OI\" << endl <<\n",
    "    \"  %%p : %p\" << endl <<\n",
    "    \"minute\" << endl <<\n",
    "    \"  %%M : %M\" << endl <<\n",
    "    \" %%OM : %OM\" << endl <<\n",
    "    \"second\" << endl <<\n",
    "    \"  %%S : %S\" << endl <<\n",
    "    \" %%OS : %OS\" << endl <<\n",
    "    endl <<\n",
    "    \"timezone\" << endl <<\n",
    "    \"  %%z : %z\" << endl <<\n",
    "    \"  %%Z : %Z\" << endl;\n",
    "\n",
    "cout << std::put_time(t,ss.str().c_str());"
   ]
  },
  {
   "cell_type": "markdown",
   "metadata": {},
   "source": [
    "## 所要時間"
   ]
  },
  {
   "cell_type": "code",
   "execution_count": 20,
   "metadata": {},
   "outputs": [],
   "source": [
    "auto en=HRC::now();"
   ]
  },
  {
   "cell_type": "code",
   "execution_count": 21,
   "metadata": {},
   "outputs": [
    {
     "name": "stdout",
     "output_type": "stream",
     "text": [
      "この処理に要した時間: 3673.390287 ミリ秒"
     ]
    }
   ],
   "source": [
    "auto diff=chrono::duration<double,micro>(en-st).count()/1000;\n",
    "cout << \"この処理に要した時間: \"+to_string(diff)+\" ミリ秒\";"
   ]
  }
 ],
 "metadata": {
  "kernelspec": {
   "display_name": "C++",
   "language": "C++",
   "name": "cling-cpp17"
  },
  "language_info": {
   "codemirror_mode": "c++",
   "file_extension": ".c++",
   "mimetype": "text/x-c++src",
   "name": "c++"
  }
 },
 "nbformat": 4,
 "nbformat_minor": 4
}
