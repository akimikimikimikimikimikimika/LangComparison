{
 "cells": [
  {
   "cell_type": "markdown",
   "metadata": {},
   "source": [
    "# 色々な値"
   ]
  },
  {
   "cell_type": "code",
   "execution_count": 1,
   "metadata": {},
   "outputs": [
    {
     "data": {
      "text/plain": []
     },
     "execution_count": 1,
     "metadata": {},
     "output_type": "execute_result"
    }
   ],
   "source": [
    "#include <iostream>\n",
    "\n",
    "using namespace std;"
   ]
  },
  {
   "cell_type": "markdown",
   "metadata": {},
   "source": [
    "Cと共通のプリミティブな値はここでは扱わない  \n",
    "C++の標準ライブラリにある値を取り扱う"
   ]
  },
  {
   "cell_type": "markdown",
   "metadata": {},
   "source": [
    "---\n",
    "## 文字列"
   ]
  },
  {
   "cell_type": "code",
   "execution_count": 2,
   "metadata": {},
   "outputs": [
    {
     "data": {
      "text/plain": []
     },
     "execution_count": 2,
     "metadata": {},
     "output_type": "execute_result"
    }
   ],
   "source": [
    "#include <string>"
   ]
  },
  {
   "cell_type": "code",
   "execution_count": 3,
   "metadata": {},
   "outputs": [
    {
     "data": {
      "text/plain": [
       "(std::string &) \"シープラ\"\n"
      ]
     },
     "execution_count": 3,
     "metadata": {},
     "output_type": "execute_result"
    }
   ],
   "source": [
    "string str=\"シープラ\";\n",
    "str;"
   ]
  },
  {
   "cell_type": "markdown",
   "metadata": {},
   "source": [
    "* 大きさ"
   ]
  },
  {
   "cell_type": "code",
   "execution_count": 4,
   "metadata": {},
   "outputs": [
    {
     "data": {
      "text/plain": [
       "(unsigned long) 12\n"
      ]
     },
     "execution_count": 4,
     "metadata": {},
     "output_type": "execute_result"
    }
   ],
   "source": [
    "str.length();"
   ]
  },
  {
   "cell_type": "markdown",
   "metadata": {},
   "source": [
    "---\n",
    "### ワイド文字列"
   ]
  },
  {
   "cell_type": "code",
   "execution_count": 5,
   "metadata": {},
   "outputs": [
    {
     "data": {
      "text/plain": [
       "(std::wstring &) L\"シープラ\"\n"
      ]
     },
     "execution_count": 5,
     "metadata": {},
     "output_type": "execute_result"
    }
   ],
   "source": [
    "wstring wstr=L\"シープラ\";\n",
    "wstr;"
   ]
  },
  {
   "cell_type": "markdown",
   "metadata": {},
   "source": [
    "* 大きさ"
   ]
  },
  {
   "cell_type": "code",
   "execution_count": 6,
   "metadata": {},
   "outputs": [
    {
     "data": {
      "text/plain": [
       "(unsigned long) 4\n"
      ]
     },
     "execution_count": 6,
     "metadata": {},
     "output_type": "execute_result"
    }
   ],
   "source": [
    "wstr.length();"
   ]
  },
  {
   "cell_type": "markdown",
   "metadata": {},
   "source": [
    "---\n",
    "## 有理数"
   ]
  },
  {
   "cell_type": "code",
   "execution_count": 7,
   "metadata": {},
   "outputs": [
    {
     "data": {
      "text/plain": [
       "(std::ratio<3, 15> &) @0x10671dc40\n"
      ]
     },
     "execution_count": 7,
     "metadata": {},
     "output_type": "execute_result"
    }
   ],
   "source": [
    "ratio<3,15> r; // 5分の1\n",
    "// 型で値を決めてしまう (コンパイルの時点で値が決定してしまう)\n",
    "r;"
   ]
  },
  {
   "cell_type": "markdown",
   "metadata": {},
   "source": [
    "* 分子"
   ]
  },
  {
   "cell_type": "code",
   "execution_count": 8,
   "metadata": {},
   "outputs": [
    {
     "data": {
      "text/plain": [
       "(const long) 1\n"
      ]
     },
     "execution_count": 8,
     "metadata": {},
     "output_type": "execute_result"
    }
   ],
   "source": [
    "r.num;"
   ]
  },
  {
   "cell_type": "markdown",
   "metadata": {},
   "source": [
    "* 分母"
   ]
  },
  {
   "cell_type": "code",
   "execution_count": 9,
   "metadata": {},
   "outputs": [
    {
     "data": {
      "text/plain": [
       "(const long) 5\n"
      ]
     },
     "execution_count": 9,
     "metadata": {},
     "output_type": "execute_result"
    }
   ],
   "source": [
    "r.den;"
   ]
  },
  {
   "cell_type": "markdown",
   "metadata": {},
   "source": [
    "---\n",
    "## 異種型を許容するコレクション"
   ]
  },
  {
   "cell_type": "markdown",
   "metadata": {},
   "source": [
    "### 2つの値のコレクション"
   ]
  },
  {
   "cell_type": "code",
   "execution_count": 10,
   "metadata": {},
   "outputs": [
    {
     "data": {
      "text/plain": []
     },
     "execution_count": 10,
     "metadata": {},
     "output_type": "execute_result"
    }
   ],
   "source": [
    "#include <utility>"
   ]
  },
  {
   "cell_type": "code",
   "execution_count": 11,
   "metadata": {},
   "outputs": [
    {
     "data": {
      "text/plain": [
       "(std::pair<double, std::string> &) { 3.1400000, \"first\" }\n"
      ]
     },
     "execution_count": 11,
     "metadata": {},
     "output_type": "execute_result"
    }
   ],
   "source": [
    "pair<double,string> p = make_pair(3.14,\"first\");\n",
    "// pair<double,string> p(3.14,\"first\"); : 同じ\n",
    "p;"
   ]
  },
  {
   "cell_type": "markdown",
   "metadata": {},
   "source": [
    "* 1番目"
   ]
  },
  {
   "cell_type": "code",
   "execution_count": 12,
   "metadata": {},
   "outputs": [
    {
     "data": {
      "text/plain": [
       "(double) 3.1400000\n"
      ]
     },
     "execution_count": 12,
     "metadata": {},
     "output_type": "execute_result"
    }
   ],
   "source": [
    "p.first;"
   ]
  },
  {
   "cell_type": "markdown",
   "metadata": {},
   "source": [
    "* 2番目"
   ]
  },
  {
   "cell_type": "code",
   "execution_count": 13,
   "metadata": {},
   "outputs": [
    {
     "data": {
      "text/plain": [
       "(std::basic_string<char, std::char_traits<char>, std::allocator<char> > &) \"first\"\n"
      ]
     },
     "execution_count": 13,
     "metadata": {},
     "output_type": "execute_result"
    }
   ],
   "source": [
    "p.second;"
   ]
  },
  {
   "cell_type": "markdown",
   "metadata": {},
   "source": [
    "---\n",
    "### 任意個数の値のコレクション"
   ]
  },
  {
   "cell_type": "code",
   "execution_count": 14,
   "metadata": {},
   "outputs": [
    {
     "data": {
      "text/plain": []
     },
     "execution_count": 14,
     "metadata": {},
     "output_type": "execute_result"
    }
   ],
   "source": [
    "#include <tuple>"
   ]
  },
  {
   "cell_type": "code",
   "execution_count": 15,
   "metadata": {},
   "outputs": [
    {
     "data": {
      "text/plain": [
       "(std::tuple<int, std::string, double, bool> &) { 1, \"second\", 3.1400000, false }\n"
      ]
     },
     "execution_count": 15,
     "metadata": {},
     "output_type": "execute_result"
    }
   ],
   "source": [
    "tuple<int,string,double,bool> t = {1,\"second\",3.14,false};\n",
    "// tuple<int,string,double,bool> t(1,\"second\",3.14,false); : 同じ\n",
    "t;"
   ]
  },
  {
   "cell_type": "markdown",
   "metadata": {},
   "source": [
    "* 2番目"
   ]
  },
  {
   "cell_type": "code",
   "execution_count": 16,
   "metadata": {},
   "outputs": [
    {
     "data": {
      "text/plain": [
       "(double) 3.1400000\n"
      ]
     },
     "execution_count": 16,
     "metadata": {},
     "output_type": "execute_result"
    }
   ],
   "source": [
    "get<2>(t);"
   ]
  },
  {
   "cell_type": "markdown",
   "metadata": {},
   "source": [
    "---\n",
    "## コンテナクラス"
   ]
  },
  {
   "cell_type": "markdown",
   "metadata": {},
   "source": [
    "### 固定長配列,同型"
   ]
  },
  {
   "cell_type": "code",
   "execution_count": 17,
   "metadata": {},
   "outputs": [
    {
     "data": {
      "text/plain": []
     },
     "execution_count": 17,
     "metadata": {},
     "output_type": "execute_result"
    }
   ],
   "source": [
    "#include <array>"
   ]
  },
  {
   "cell_type": "code",
   "execution_count": 18,
   "metadata": {},
   "outputs": [
    {
     "data": {
      "text/plain": [
       "(std::array<double, 3> &) @0x10671df20\n"
      ]
     },
     "execution_count": 18,
     "metadata": {},
     "output_type": "execute_result"
    }
   ],
   "source": [
    "array<double,3> a = {2.4,3.6,4.8};\n",
    "a;"
   ]
  },
  {
   "cell_type": "markdown",
   "metadata": {},
   "source": [
    "* 2番目"
   ]
  },
  {
   "cell_type": "code",
   "execution_count": 19,
   "metadata": {},
   "outputs": [
    {
     "data": {
      "text/plain": [
       "(double) 4.8000000\n"
      ]
     },
     "execution_count": 19,
     "metadata": {},
     "output_type": "execute_result"
    }
   ],
   "source": [
    "a[2];"
   ]
  },
  {
   "cell_type": "markdown",
   "metadata": {},
   "source": [
    "* 大きさ"
   ]
  },
  {
   "cell_type": "code",
   "execution_count": 20,
   "metadata": {},
   "outputs": [
    {
     "data": {
      "text/plain": [
       "(unsigned long) 3\n"
      ]
     },
     "execution_count": 20,
     "metadata": {},
     "output_type": "execute_result"
    }
   ],
   "source": [
    "a.size();"
   ]
  },
  {
   "cell_type": "markdown",
   "metadata": {},
   "source": [
    "* `sizeof`"
   ]
  },
  {
   "cell_type": "code",
   "execution_count": 21,
   "metadata": {},
   "outputs": [
    {
     "data": {
      "text/plain": [
       "(unsigned long) 24\n"
      ]
     },
     "execution_count": 21,
     "metadata": {},
     "output_type": "execute_result"
    }
   ],
   "source": [
    "sizeof(a);"
   ]
  },
  {
   "cell_type": "markdown",
   "metadata": {},
   "source": [
    "---\n",
    "### 可変長配列,同型 (挿入は末尾のみ高速)"
   ]
  },
  {
   "cell_type": "code",
   "execution_count": 22,
   "metadata": {},
   "outputs": [
    {
     "data": {
      "text/plain": []
     },
     "execution_count": 22,
     "metadata": {},
     "output_type": "execute_result"
    }
   ],
   "source": [
    "#include <vector>"
   ]
  },
  {
   "cell_type": "code",
   "execution_count": 23,
   "metadata": {},
   "outputs": [
    {
     "data": {
      "text/plain": [
       "(std::vector<double> &) { 2.4000000, 3.6000000, 4.8000000 }\n"
      ]
     },
     "execution_count": 23,
     "metadata": {},
     "output_type": "execute_result"
    }
   ],
   "source": [
    "vector<double> v = {2.4,3.6,4.8};\n",
    "v;"
   ]
  },
  {
   "cell_type": "markdown",
   "metadata": {},
   "source": [
    "* 2番目"
   ]
  },
  {
   "cell_type": "code",
   "execution_count": 24,
   "metadata": {},
   "outputs": [
    {
     "data": {
      "text/plain": [
       "(double) 4.8000000\n"
      ]
     },
     "execution_count": 24,
     "metadata": {},
     "output_type": "execute_result"
    }
   ],
   "source": [
    "v[2];"
   ]
  },
  {
   "cell_type": "markdown",
   "metadata": {},
   "source": [
    "* 大きさ"
   ]
  },
  {
   "cell_type": "code",
   "execution_count": 25,
   "metadata": {},
   "outputs": [
    {
     "data": {
      "text/plain": [
       "(unsigned long) 3\n"
      ]
     },
     "execution_count": 25,
     "metadata": {},
     "output_type": "execute_result"
    }
   ],
   "source": [
    "v.size();"
   ]
  },
  {
   "cell_type": "markdown",
   "metadata": {},
   "source": [
    "* `sizeof`"
   ]
  },
  {
   "cell_type": "code",
   "execution_count": 26,
   "metadata": {},
   "outputs": [
    {
     "data": {
      "text/plain": [
       "(unsigned long) 24\n"
      ]
     },
     "execution_count": 26,
     "metadata": {},
     "output_type": "execute_result"
    }
   ],
   "source": [
    "sizeof(v);"
   ]
  },
  {
   "cell_type": "markdown",
   "metadata": {},
   "source": [
    "---\n",
    "### 可変長配列,同型 (挿入は先頭と末尾が高速)"
   ]
  },
  {
   "cell_type": "code",
   "execution_count": 27,
   "metadata": {},
   "outputs": [
    {
     "data": {
      "text/plain": []
     },
     "execution_count": 27,
     "metadata": {},
     "output_type": "execute_result"
    }
   ],
   "source": [
    "#include <deque>"
   ]
  },
  {
   "cell_type": "code",
   "execution_count": 28,
   "metadata": {},
   "outputs": [
    {
     "data": {
      "text/plain": [
       "(std::deque<double> &) { 2.4000000, 3.6000000, 4.8000000 }\n"
      ]
     },
     "execution_count": 28,
     "metadata": {},
     "output_type": "execute_result"
    }
   ],
   "source": [
    "deque<double> d = {2.4,3.6,4.8};\n",
    "d;"
   ]
  },
  {
   "cell_type": "markdown",
   "metadata": {},
   "source": [
    "* 2番目"
   ]
  },
  {
   "cell_type": "code",
   "execution_count": 29,
   "metadata": {},
   "outputs": [
    {
     "data": {
      "text/plain": [
       "(double) 4.8000000\n"
      ]
     },
     "execution_count": 29,
     "metadata": {},
     "output_type": "execute_result"
    }
   ],
   "source": [
    "d[2];"
   ]
  },
  {
   "cell_type": "markdown",
   "metadata": {},
   "source": [
    "* 大きさ"
   ]
  },
  {
   "cell_type": "code",
   "execution_count": 30,
   "metadata": {},
   "outputs": [
    {
     "data": {
      "text/plain": [
       "(unsigned long) 3\n"
      ]
     },
     "execution_count": 30,
     "metadata": {},
     "output_type": "execute_result"
    }
   ],
   "source": [
    "d.size();"
   ]
  },
  {
   "cell_type": "markdown",
   "metadata": {},
   "source": [
    "* `sizeof`"
   ]
  },
  {
   "cell_type": "code",
   "execution_count": 31,
   "metadata": {},
   "outputs": [
    {
     "data": {
      "text/plain": [
       "(unsigned long) 48\n"
      ]
     },
     "execution_count": 31,
     "metadata": {},
     "output_type": "execute_result"
    }
   ],
   "source": [
    "sizeof(d);"
   ]
  },
  {
   "cell_type": "markdown",
   "metadata": {},
   "source": [
    "---\n",
    "### 可変長配列,同型 (あらゆる箇所からの要素を挿入が高速)"
   ]
  },
  {
   "cell_type": "code",
   "execution_count": 32,
   "metadata": {},
   "outputs": [
    {
     "data": {
      "text/plain": []
     },
     "execution_count": 32,
     "metadata": {},
     "output_type": "execute_result"
    }
   ],
   "source": [
    "#include <list>"
   ]
  },
  {
   "cell_type": "code",
   "execution_count": 33,
   "metadata": {},
   "outputs": [
    {
     "data": {
      "text/plain": [
       "(std::list<double> &) { 2.4000000, 3.6000000, 4.8000000 }\n"
      ]
     },
     "execution_count": 33,
     "metadata": {},
     "output_type": "execute_result"
    }
   ],
   "source": [
    "list<double> l = {2.4,3.6,4.8};\n",
    "l;"
   ]
  },
  {
   "cell_type": "markdown",
   "metadata": {},
   "source": [
    "* 大きさ"
   ]
  },
  {
   "cell_type": "code",
   "execution_count": 34,
   "metadata": {},
   "outputs": [
    {
     "data": {
      "text/plain": [
       "(unsigned long) 3\n"
      ]
     },
     "execution_count": 34,
     "metadata": {},
     "output_type": "execute_result"
    }
   ],
   "source": [
    "l.size();"
   ]
  },
  {
   "cell_type": "markdown",
   "metadata": {},
   "source": [
    "* `sizeof`"
   ]
  },
  {
   "cell_type": "code",
   "execution_count": 35,
   "metadata": {},
   "outputs": [
    {
     "data": {
      "text/plain": [
       "(unsigned long) 24\n"
      ]
     },
     "execution_count": 35,
     "metadata": {},
     "output_type": "execute_result"
    }
   ],
   "source": [
    "sizeof(l);"
   ]
  },
  {
   "cell_type": "markdown",
   "metadata": {},
   "source": [
    "* `list` 型のイテレータを使って2番目の値を得る"
   ]
  },
  {
   "cell_type": "code",
   "execution_count": 36,
   "metadata": {},
   "outputs": [
    {
     "data": {
      "text/plain": [
       "(double) 4.8000000\n"
      ]
     },
     "execution_count": 36,
     "metadata": {},
     "output_type": "execute_result"
    }
   ],
   "source": [
    "list<double>::iterator li = l.begin(); // 先頭でイテレータを得る\n",
    "// list<double>::iterator li = l.end(); : 末尾のイテレータ\n",
    "\n",
    "++li;++li; // 2番目に移動 (0番目の先頭の2つ隣)\n",
    "*li; // *li で2番目の要素を得る"
   ]
  },
  {
   "cell_type": "markdown",
   "metadata": {},
   "source": [
    "* `array`,`vector`,`deque`,`list` のいづれも `.begin()` や `.end()` を介してイテレータにアクセスして値を参照/編集できるが, `list` のみ `l[2]` のような形でのアクセスは認めておらず,イテレータを介してのみ要素にアクセスできる。\n",
    "\n",
    "```C++\n",
    "list::iterator i=l.begin();\n",
    "// i+=2; : この記法は利用できない\n",
    "i++; // この記法は利用できる\n",
    "auto end=l.end()\n",
    "for (auto i=l.begin();i!=end;i++) cout << *i << endl; // 各要素にアクセス\n",
    "```"
   ]
  },
  {
   "cell_type": "markdown",
   "metadata": {},
   "source": [
    "|| `double[]` | `array<double>` | `vector<double>` | `deque<double>` | `list<double>` |\n",
    "|:-|:-:|:-:|:-:|:-:|:-:|\n",
    "| サイズの取得 `.size()` | × | ○ | ○ | ○ | ○ |\n",
    "| `l[2]` の形のアクセス | 高速 | 高速 | 高速 | 中速 | × |\n",
    "| `l[2]` の範囲外指定 | Segmentation fault | 例外を投げる | 例外を投げる | 例外を投げる | - |\n",
    "| イテレータ | ○ | ○ | ○ | ○ | ○ |\n",
    "| サイズ変更 | × | × | `.resize()` | `.resize()` | `.resize()` |\n",
    "| 容量追加 | × | × | `.reserve()` | 自動 | 自動 |\n",
    "| ポインタの連続性 | ○ | ○ | ○ | × | × |\n",
    "| 末尾への要素追加•削除 | × | × | 高速 or 低速 | 高速 | 高速 |\n",
    "| 先頭への要素追加•削除 | × | × | 低速 | 高速 | 高速 |\n",
    "| 途中への要素追加•削除 | × | × | 低速 | 低速 | 高速 |\n",
    "| `malloc` | 必要 | 不要 | 不要 | 不要 | 不要 |"
   ]
  },
  {
   "cell_type": "markdown",
   "metadata": {},
   "source": [
    "---\n",
    "### 可変長配列,同型 (大きさ順に並べられる)"
   ]
  },
  {
   "cell_type": "code",
   "execution_count": 37,
   "metadata": {},
   "outputs": [
    {
     "data": {
      "text/plain": []
     },
     "execution_count": 37,
     "metadata": {},
     "output_type": "execute_result"
    }
   ],
   "source": [
    "#include <set>"
   ]
  },
  {
   "cell_type": "code",
   "execution_count": 38,
   "metadata": {},
   "outputs": [
    {
     "data": {
      "text/plain": [
       "(std::set<double> &) { 2.4000000, 3.6000000, 4.8000000 }\n"
      ]
     },
     "execution_count": 38,
     "metadata": {},
     "output_type": "execute_result"
    }
   ],
   "source": [
    "set<double> s = {2.4,3.6,4.8};\n",
    "s;"
   ]
  },
  {
   "cell_type": "markdown",
   "metadata": {},
   "source": [
    "* 大きさ"
   ]
  },
  {
   "cell_type": "code",
   "execution_count": 39,
   "metadata": {},
   "outputs": [
    {
     "data": {
      "text/plain": [
       "(unsigned long) 3\n"
      ]
     },
     "execution_count": 39,
     "metadata": {},
     "output_type": "execute_result"
    }
   ],
   "source": [
    "s.size();"
   ]
  },
  {
   "cell_type": "markdown",
   "metadata": {},
   "source": [
    "* `sizeof`"
   ]
  },
  {
   "cell_type": "code",
   "execution_count": 40,
   "metadata": {},
   "outputs": [
    {
     "data": {
      "text/plain": [
       "(unsigned long) 24\n"
      ]
     },
     "execution_count": 40,
     "metadata": {},
     "output_type": "execute_result"
    }
   ],
   "source": [
    "sizeof(s);"
   ]
  },
  {
   "cell_type": "markdown",
   "metadata": {},
   "source": [
    "* `set` 型のイテレータを使って2番目の値を得る"
   ]
  },
  {
   "cell_type": "code",
   "execution_count": 41,
   "metadata": {},
   "outputs": [
    {
     "data": {
      "text/plain": [
       "(const double) 4.8000000\n"
      ]
     },
     "execution_count": 41,
     "metadata": {},
     "output_type": "execute_result"
    }
   ],
   "source": [
    "set<double>::iterator si = s.begin();\n",
    "\n",
    "++si;++si;\n",
    "*si;"
   ]
  },
  {
   "cell_type": "markdown",
   "metadata": {},
   "source": [
    "---\n",
    "### 連想配列"
   ]
  },
  {
   "cell_type": "code",
   "execution_count": 42,
   "metadata": {},
   "outputs": [
    {
     "data": {
      "text/plain": []
     },
     "execution_count": 42,
     "metadata": {},
     "output_type": "execute_result"
    }
   ],
   "source": [
    "#include <map>"
   ]
  },
  {
   "cell_type": "code",
   "execution_count": 43,
   "metadata": {},
   "outputs": [
    {
     "data": {
      "text/plain": [
       "(std::map<std::string, double> &) { \"a\" => 2.4000000, \"b\" => 3.6000000, \"c\" => 4.8000000 }\n"
      ]
     },
     "execution_count": 43,
     "metadata": {},
     "output_type": "execute_result"
    }
   ],
   "source": [
    "// mapを作るためのキー•値のペア\n",
    "pair<string,double> ma[] = {\n",
    "\tmake_pair(\"a\",2.4),\n",
    "\tmake_pair(\"b\",3.6),\n",
    "\tmake_pair(\"c\",4.8)\n",
    "}; // key:string value:double\n",
    "\n",
    "map<string,double> m(ma,ma+3);\n",
    "m;"
   ]
  },
  {
   "cell_type": "markdown",
   "metadata": {},
   "source": [
    "* `\"b\"` の値"
   ]
  },
  {
   "cell_type": "code",
   "execution_count": 44,
   "metadata": {},
   "outputs": [
    {
     "data": {
      "text/plain": [
       "(double) 3.6000000\n"
      ]
     },
     "execution_count": 44,
     "metadata": {},
     "output_type": "execute_result"
    }
   ],
   "source": [
    "m[\"b\"];"
   ]
  },
  {
   "cell_type": "markdown",
   "metadata": {},
   "source": [
    "* 大きさ"
   ]
  },
  {
   "cell_type": "code",
   "execution_count": 45,
   "metadata": {},
   "outputs": [
    {
     "data": {
      "text/plain": [
       "(unsigned long) 3\n"
      ]
     },
     "execution_count": 45,
     "metadata": {},
     "output_type": "execute_result"
    }
   ],
   "source": [
    "m.size();"
   ]
  },
  {
   "cell_type": "markdown",
   "metadata": {},
   "source": [
    "* `sizeof`"
   ]
  },
  {
   "cell_type": "code",
   "execution_count": 46,
   "metadata": {},
   "outputs": [
    {
     "data": {
      "text/plain": [
       "(unsigned long) 24\n"
      ]
     },
     "execution_count": 46,
     "metadata": {},
     "output_type": "execute_result"
    }
   ],
   "source": [
    "sizeof(m);"
   ]
  },
  {
   "cell_type": "markdown",
   "metadata": {},
   "source": [
    "* `double[]`,`array<double>`  \n",
    "\t連続したポインタにより値を確保する\n",
    "* `vector<double>`  \n",
    "\t同じくポインタは連続しているが,容量一杯にデータが格納されたらデータが連続になるように別の領域にコピーして拡張する\n",
    "* `deque<double>`  \n",
    "\t一定バイトごとにブロックに小分けにして保管する。ブロックが一杯になれば新たなブロックを生成する。ブロックへのポインタを連続的に保持する\n",
    "* `list<double>`  \n",
    "\t要素はメモリ上の様々な領域に分散する。それぞれの要素が前後の要素へのポインタを保持することで配列をなす。 (双方向連結リスト) ゆえに,途中に要素を追加するのはポインタの書き換えだけで棲むので高速だが,配列中の特定の要素へのアクセスはできない。\n",
    "* `forward_list<double>`  \n",
    "\t直後の要素へのポインタのみを保持することで配列をなす (片方向連結リスト)\n",
    "* `set<double>`  \n",
    "\t平衡二分探索木 (ツリーで大小関係を構築) により並べ替える。重複も認められないため値それ自身をキーとした連想配列とも言われる。\n",
    "* `multiset<double>`  \n",
    "\t重複が許される。\n",
    "* `unordered_set<double>`,`unordered_multiset<double>`  \n",
    "\t値のハッシュ関数で並べ替えられ,順序にあまり意味がなく,イテレーション順序をあてにしない方が良い。\n",
    "* `map<string,double>`  \n",
    "\t連想配列。キーを予め指定することでアクセスできる。内部的には `pair` の配列である。\n",
    "* `multismap<double>`  \n",
    "\t重複が許される。\n",
    "* `unordered_map<double>`,`unordered_multimap<double>`  \n",
    "\t値のハッシュ関数で並べ替えられ,順序にあまり意味がなく,イテレーション順序をあてにしない方が良い。"
   ]
  },
  {
   "cell_type": "markdown",
   "metadata": {},
   "source": [
    "---\n",
    "## 型変換\n",
    "\n",
    "### `char*` → `string`\n",
    "\n",
    "```C++\n",
    "char* c = \"some char string\";\n",
    "string s = string(c);\n",
    "string s(c);\n",
    "string s{c};\n",
    "string s = c;\n",
    "// char* やヌル終端の char[] は明示せずとも string にできる\n",
    "```\n",
    "\n",
    "```C++\n",
    "char ca[]={'s','o','m','e',' ','c','h','a','r',' ','a','r','r','a','y'};\n",
    "string s(ca,15);\n",
    "// ヌル終端でない char[] は文字数を指定する必要がある\n",
    "```\n",
    "\n",
    "### `string` →` char*`\n",
    "\n",
    "```C++\n",
    "string s=\"some string\";\n",
    "char* c=s.c_str();\n",
    "// .c_str() で生成した char* の生存期限は string と同程度でありうるので, malloc した char* にコピーが必要だろう。memcpy`が使える。\n",
    "```\n",
    "\n",
    "### 数値型 → `string`\n",
    "\n",
    "```C++\n",
    "int i=6; // doubleなどのあらゆる数値型で使える\n",
    "string s=to_string(6);\n",
    "```\n",
    "\n",
    "```C++\n",
    "#include <sstream>\n",
    "int i=6;\n",
    "stringstream ss;\n",
    "ss << i;\n",
    "string s=ss.str();\n",
    "```\n",
    "\n",
    "### `string` → 数値型\n",
    "\n",
    "```C++\n",
    "string s=\"6\";\n",
    "int i=stoi(s);\n",
    "long l=stol(s);\n",
    "unsigned long ul=stoul(s);\n",
    "long long ll=stoll(s);\n",
    "unsigned long long ull=stoull(s);\n",
    "\n",
    "float f=stof(s);\n",
    "double d=stod(s);\n",
    "long double ld=stold(s);\n",
    "\n",
    "// s に数値が含まれていない場合は例外を投げる\n",
    "// オーバーフローが発生した場合も例外を投げる\n",
    "// 整数型は stoi(s,nullptr,radix) などとすることで特定の進数の値も受け付ける\n",
    "```\n",
    "\n",
    "### `char*` → 数値型\n",
    "\n",
    "```C++\n",
    "char* c=\"6\";\n",
    "int i=atoi(c);\n",
    "long l=atol(c);\n",
    "long long ll=atoll(c);\n",
    "float f=atof(c);\n",
    "// オーバーフローの場合は変な数値が代入される\n",
    "```\n",
    "\n",
    "```C++\n",
    "char* c=\"6\";\n",
    "long l=strtol(c,NULL,10);\n",
    "unsigned long ul=strtoul(c,NULL,10);\n",
    "long long ll=strtoq(c,NULL,10);\n",
    "unsigned long long ull=strtouq(c,NULL,10);\n",
    "float f=strtof(c);\n",
    "double d=strtod(c);\n",
    "long double ld=strtold(c);\n",
    "/*\n",
    " オーバーフローの場合は,これらの関数を実行した直後に\n",
    " errno == ERANGE\n",
    " が真になる\n",
    "*/\n",
    "```\n",
    "\n",
    "### 数値型同士\n",
    "```C++\n",
    "double d=3.14;\n",
    "int i=(int)d; // 3 (truncated)\n",
    "```"
   ]
  }
 ],
 "metadata": {
  "kernelspec": {
   "display_name": "C++",
   "language": "C++",
   "name": "cling-cpp17"
  },
  "language_info": {
   "codemirror_mode": "c++",
   "file_extension": ".c++",
   "mimetype": "text/x-c++src",
   "name": "c++"
  }
 },
 "nbformat": 4,
 "nbformat_minor": 4
}
