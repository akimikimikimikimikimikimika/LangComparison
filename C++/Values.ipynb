{
 "cells": [
  {
   "cell_type": "markdown",
   "metadata": {},
   "source": [
    "# 色々な値"
   ]
  },
  {
   "cell_type": "code",
   "execution_count": 1,
   "metadata": {},
   "outputs": [],
   "source": [
    "#include <iostream>\n",
    "\n",
    "using namespace std;"
   ]
  },
  {
   "cell_type": "markdown",
   "metadata": {},
   "source": [
    "Cと共通のプリミティブな値はここでは扱わない  \n",
    "C++の標準ライブラリにある値を取り扱う"
   ]
  },
  {
   "cell_type": "markdown",
   "metadata": {},
   "source": [
    "## 文字列"
   ]
  },
  {
   "cell_type": "code",
   "execution_count": 2,
   "metadata": {},
   "outputs": [],
   "source": [
    "#include <string>"
   ]
  },
  {
   "cell_type": "code",
   "execution_count": 3,
   "metadata": {},
   "outputs": [
    {
     "name": "stdout",
     "output_type": "stream",
     "text": [
      "大きさ:12\n"
     ]
    },
    {
     "data": {
      "text/plain": [
       "\"シープラ\""
      ]
     },
     "execution_count": 3,
     "metadata": {},
     "output_type": "execute_result"
    }
   ],
   "source": [
    "string str=\"シープラ\";\n",
    "cout << \"大きさ: \" << str.length() << endl;\n",
    "str"
   ]
  },
  {
   "cell_type": "markdown",
   "metadata": {},
   "source": [
    "### ワイド文字列"
   ]
  },
  {
   "cell_type": "code",
   "execution_count": 4,
   "metadata": {},
   "outputs": [
    {
     "name": "stdout",
     "output_type": "stream",
     "text": [
      "大きさ:4\n"
     ]
    },
    {
     "data": {
      "text/plain": [
       "L\"シープラ\""
      ]
     },
     "execution_count": 4,
     "metadata": {},
     "output_type": "execute_result"
    }
   ],
   "source": [
    "wstring wstr=L\"シープラ\";\n",
    "cout << \"大きさ: \" << wstr.length() << endl;\n",
    "wstr"
   ]
  },
  {
   "cell_type": "markdown",
   "metadata": {},
   "source": [
    "## 有理数"
   ]
  },
  {
   "cell_type": "code",
   "execution_count": 5,
   "metadata": {},
   "outputs": [
    {
     "name": "stdout",
     "output_type": "stream",
     "text": [
      "0x10790bad6\n",
      "分子: 1\n",
      "分母: 5\n"
     ]
    },
    {
     "data": {
      "text/plain": [
       "@0x10790bad6"
      ]
     },
     "execution_count": 5,
     "metadata": {},
     "output_type": "execute_result"
    }
   ],
   "source": [
    "ratio<3,15> r; // 5分の1\n",
    "// 型で値を決めてしまう (コンパイルの時点で値が決定してしまう)\n",
    "cout << &r << endl\n",
    "<< \"分子: \" << r.num << endl\n",
    "<< \"分母: \" << r.den << endl;\n",
    "r"
   ]
  },
  {
   "cell_type": "markdown",
   "metadata": {},
   "source": [
    "## 異種型を許容するコレクション"
   ]
  },
  {
   "cell_type": "markdown",
   "metadata": {},
   "source": [
    "### 2つの値のコレクション"
   ]
  },
  {
   "cell_type": "code",
   "execution_count": 6,
   "metadata": {},
   "outputs": [
    {
     "name": "stdout",
     "output_type": "stream",
     "text": [
      "0x10dcd8560\n",
      "1番目: 3.14\n",
      "2番目: first\n"
     ]
    }
   ],
   "source": [
    "#include <utility>\n",
    "pair<double,string> p = make_pair(3.14,\"first\");\n",
    "// pair<double,string> p(3.14,\"first\"); : 同じ\n",
    "cout << &p << endl\n",
    "<< \"1番目: \" << p.first << endl\n",
    "<< \"2番目: \" << p.second << endl;"
   ]
  },
  {
   "cell_type": "markdown",
   "metadata": {},
   "source": [
    "### 任意個数の値のコレクション"
   ]
  },
  {
   "cell_type": "code",
   "execution_count": 7,
   "metadata": {},
   "outputs": [
    {
     "name": "stdout",
     "output_type": "stream",
     "text": [
      "0x10dd524a8\n",
      "2番目: 3.14\n"
     ]
    }
   ],
   "source": [
    "#include <tuple>\n",
    "tuple<int,string,double,bool> t = {1,\"second\",3.14,false};\n",
    "// tuple<int,string,double,bool> t(1,\"second\",3.14,false); : 同じ\n",
    "cout << &t << endl\n",
    "<< \"2番目: \" << get<2>(t) << endl;"
   ]
  },
  {
   "cell_type": "markdown",
   "metadata": {},
   "source": [
    "## コンテナクラス"
   ]
  },
  {
   "cell_type": "markdown",
   "metadata": {},
   "source": [
    "### 固定長配列,同型"
   ]
  },
  {
   "cell_type": "code",
   "execution_count": 8,
   "metadata": {},
   "outputs": [
    {
     "name": "stdout",
     "output_type": "stream",
     "text": [
      "0x10790cba8\n",
      "2番目: 4.8\n",
      "大きさ: 3\n",
      "sizeof: 24\n"
     ]
    }
   ],
   "source": [
    "#include <array>\n",
    "array<double,3> a = {2.4,3.6,4.8};\n",
    "cout << &a << endl\n",
    "<< \"2番目: \" << a[2] << endl\n",
    "<< \"大きさ: \" << a.size() << endl\n",
    "<< \"sizeof: \" << sizeof(a) << endl;"
   ]
  },
  {
   "cell_type": "markdown",
   "metadata": {},
   "source": [
    "### 可変長配列,同型 (挿入は末尾からしかできない)"
   ]
  },
  {
   "cell_type": "code",
   "execution_count": 9,
   "metadata": {},
   "outputs": [
    {
     "name": "stdout",
     "output_type": "stream",
     "text": [
      "0x10df624f8\n",
      "2番目: 4.8\n",
      "大きさ: 3\n",
      "sizeof: 24\n"
     ]
    }
   ],
   "source": [
    "#include <vector>\n",
    "vector<double> v = {2.4,3.6,4.8};\n",
    "cout << &v << endl\n",
    "<< \"2番目: \" << v[2] << endl\n",
    "<< \"大きさ: \" << v.size() << endl\n",
    "<< \"sizeof: \" << sizeof(v) << endl;"
   ]
  },
  {
   "cell_type": "markdown",
   "metadata": {},
   "source": [
    "### 可変長配列,同型 (挿入は先頭と末尾からできる)"
   ]
  },
  {
   "cell_type": "code",
   "execution_count": 10,
   "metadata": {},
   "outputs": [
    {
     "name": "stdout",
     "output_type": "stream",
     "text": [
      "0x10e06ecd8\n",
      "2番目: 4.8\n",
      "大きさ: 3\n",
      "sizeof: 48\n"
     ]
    }
   ],
   "source": [
    "#include <deque>\n",
    "deque<double> d = {2.4,3.6,4.8};\n",
    "cout << &d << endl\n",
    "<< \"2番目: \" << d[2] << endl\n",
    "<< \"大きさ: \" << d.size() << endl\n",
    "<< \"sizeof: \" << sizeof(d) << endl;"
   ]
  },
  {
   "cell_type": "markdown",
   "metadata": {},
   "source": [
    "### 可変長配列,同型 (あらゆる箇所から要素を挿入可能)"
   ]
  },
  {
   "cell_type": "code",
   "execution_count": 11,
   "metadata": {},
   "outputs": [
    {
     "name": "stdout",
     "output_type": "stream",
     "text": [
      "0x10e174568\n",
      "大きさ: 3\n",
      "sizeof: 24\n"
     ]
    }
   ],
   "source": [
    "#include <list>\n",
    "list<double> l = {2.4,3.6,4.8};\n",
    "cout << &l << endl\n",
    "<< \"大きさ: \" << l.size() << endl\n",
    "<< \"sizeof: \" << sizeof(l) << endl;"
   ]
  },
  {
   "cell_type": "markdown",
   "metadata": {},
   "source": [
    "`list` 型のイテレータ"
   ]
  },
  {
   "cell_type": "code",
   "execution_count": 12,
   "metadata": {},
   "outputs": [
    {
     "name": "stdout",
     "output_type": "stream",
     "text": [
      "2番目: 4.8\n"
     ]
    },
    {
     "data": {
      "text/plain": [
       "@0x10664c010"
      ]
     },
     "execution_count": 12,
     "metadata": {},
     "output_type": "execute_result"
    }
   ],
   "source": [
    "list<double>::iterator li = l.begin(); // 先頭でイテレータを得る\n",
    "// list<double>::iterator li = l.end(); : 末尾のイテレータ\n",
    "++li;++li; // 2番目に移動\n",
    "cout << \"2番目: \" << *li << endl; // *li で2番目の要素を得る"
   ]
  },
  {
   "cell_type": "markdown",
   "metadata": {},
   "source": [
    "`array`,`vector`,`deque`,`list` のいづれも `.begin()` や `.end()` を介してイテレータにアクセスして値を参照/編集できるが, `list` のみ `l[2]` のような形でのアクセスは認めておらず,イテレータを介してのみ要素にアクセスできる。\n",
    "```C++\n",
    "list::iterator i=l.begin();\n",
    "// i+=2; : この記法は利用できない\n",
    "i++; // この記法は利用できる\n",
    "\n",
    "auto end=l.end()\n",
    "for (auto i=l.begin();i!=end;i++) cout << *i << endl; // 各要素にアクセス\n",
    "```"
   ]
  },
  {
   "cell_type": "markdown",
   "metadata": {},
   "source": [
    "|| `double[]` | `array<double>` | `vector<double>` | `deque<double>` | `list<double>` |\n",
    "|:-|:-:|:-:|:-:|:-:|:-:|\n",
    "| サイズの取得 `.size()` | × | ○ | ○ | ○ | ○ |\n",
    "| `l[2]` の形のアクセス | 高速 | 高速 | 高速 | 中速 | × |\n",
    "| `l[2]` の範囲外指定 | Segmentation fault | 例外を投げる | 例外を投げる | 例外を投げる | - |\n",
    "| イテレータ | ○ | ○ | ○ | ○ | ○ |\n",
    "| サイズ変更 | × | × | `.resize()` | `.resize()` | `.resize()` |\n",
    "| 容量追加 | × | × | `.reserve()` | 自動 | 自動 |\n",
    "| ポインタの連続性 | ○ | ○ | ○ | × | × |\n",
    "| 末尾への要素追加•削除 | × | × | 高速 or 低速 | 高速 | 高速 |\n",
    "| 先頭への要素追加•削除 | × | × | 低速 | 高速 | 高速 |\n",
    "| 途中への要素追加•削除 | × | × | 低速 | 低速 | 高速 |\n",
    "| `malloc` | 必要 | 不要 | 不要 | 不要 | 不要 |"
   ]
  },
  {
   "cell_type": "markdown",
   "metadata": {},
   "source": [
    "### 可変長配列,同型 (大きさ順に並べられる)"
   ]
  },
  {
   "cell_type": "code",
   "execution_count": 13,
   "metadata": {},
   "outputs": [
    {
     "name": "stdout",
     "output_type": "stream",
     "text": [
      "0x10e328b28\n",
      "大きさ: 3\n",
      "sizeof: 24\n"
     ]
    }
   ],
   "source": [
    "#include <set>\n",
    "set<double> s = {2.4,3.6,4.8};\n",
    "cout << &s << endl\n",
    "<< \"大きさ: \" << s.size() << endl\n",
    "<< \"sizeof: \" << sizeof(s) << endl;"
   ]
  },
  {
   "cell_type": "code",
   "execution_count": 14,
   "metadata": {},
   "outputs": [
    {
     "name": "stdout",
     "output_type": "stream",
     "text": [
      "2番目: 4.8\n"
     ]
    }
   ],
   "source": [
    "set<double>::iterator si = s.begin();\n",
    "++si;++si;\n",
    "cout << \"2番目: \" << *si << endl;"
   ]
  },
  {
   "cell_type": "markdown",
   "metadata": {},
   "source": [
    "### 連想配列"
   ]
  },
  {
   "cell_type": "code",
   "execution_count": 15,
   "metadata": {},
   "outputs": [
    {
     "name": "stdout",
     "output_type": "stream",
     "text": [
      "0x10e5c0910\n",
      "b= 3.6\n",
      "大きさ: 3\n",
      "sizeof: 24\n"
     ]
    }
   ],
   "source": [
    "pair<string,double> ma[] = {\n",
    "\tmake_pair(\"a\",2.4),\n",
    "\tmake_pair(\"b\",3.6),\n",
    "\tmake_pair(\"c\",4.8)\n",
    "}; // key:string value:double\n",
    "map<string,double> m(ma,ma+3);\n",
    "cout << &m << endl\n",
    "<< \"b= \" << m[\"b\"] << endl\n",
    "<< \"大きさ: \" << m.size() << endl\n",
    "<< \"sizeof: \" << sizeof(m) << endl;"
   ]
  },
  {
   "cell_type": "markdown",
   "metadata": {},
   "source": [
    "* `double[]`,`array<double>`  \n",
    "\t連続したポインタにより値を確保する\n",
    "* `vector<double>`  \n",
    "\t同じくポインタは連続しているが,容量一杯にデータが格納されたらデータが連続になるように別の領域にコピーして拡張する\n",
    "* `deque<double>`  \n",
    "\t一定バイトごとにブロックに小分けにして保管する。ブロックが一杯になれば新たなブロックを生成する。ブロックへのポインタを連続的に保持する\n",
    "* `list<double>`  \n",
    "\t要素はメモリ上の様々な領域に分散する。それぞれの要素が前後の要素へのポインタを保持することで配列をなす。 (双方向連結リスト) ゆえに,途中に要素を追加するのはポインタの書き換えだけで棲むので高速だが,配列中の特定の要素へのアクセスはできない。\n",
    "* `forward_list<double>`  \n",
    "\t直後の要素へのポインタのみを保持することで配列をなす (片方向連結リスト)\n",
    "* `set<double>`  \n",
    "\t平衡二分探索木 (ツリーで大小関係を構築) により並べ替える。重複も認められないため値それ自身をキーとした連想配列とも言われる。\n",
    "* `multiset<double>`  \n",
    "\t重複が許される。\n",
    "* `unordered_set<double>`,`unordered_multiset<double>`  \n",
    "\t値のハッシュ関数で並べ替えられ,順序にあまり意味がなく,イテレーション順序をあてにしない方が良い。\n",
    "* `map<string,double>`  \n",
    "\t連想配列。キーを予め指定することでアクセスできる。内部的には `pair` の配列である。\n",
    "* `multismap<double>`  \n",
    "\t重複が許される。\n",
    "* `unordered_map<double>`,`unordered_multimap<double>`  \n",
    "\t値のハッシュ関数で並べ替えられ,順序にあまり意味がなく,イテレーション順序をあてにしない方が良い。"
   ]
  },
  {
   "cell_type": "markdown",
   "metadata": {},
   "source": [
    "## 型変換\n",
    "\n",
    "### `char*` → `string`\n",
    "\n",
    "```C++\n",
    "char* c = \"some char string\";\n",
    "string s = string(c);\n",
    "string s(c);\n",
    "string s{c};\n",
    "string s = c;\n",
    "// char* やヌル終端の char[] は明示せずとも string にできる\n",
    "```\n",
    "\n",
    "```C++\n",
    "char ca[]={'s','o','m','e',' ','c','h','a','r',' ','a','r','r','a','y'};\n",
    "string s(ca,15);\n",
    "// ヌル終端でない char[] は文字数を指定する必要がある\n",
    "```\n",
    "\n",
    "### `string` →` char*`\n",
    "\n",
    "```C++\n",
    "string s=\"some string\";\n",
    "char* c=s.c_str();\n",
    "// .c_str() で生成した char* の生存期限は string と同程度でありうるので, malloc した char* にコピーが必要だろう。memcpy`が使える。\n",
    "```\n",
    "\n",
    "### 数値型 → `string`\n",
    "\n",
    "```C++\n",
    "int i=6; // doubleなどのあらゆる数値型で使える\n",
    "string s=to_string(6);\n",
    "```\n",
    "\n",
    "```C++\n",
    "#include <sstream>\n",
    "int i=6;\n",
    "stringstream ss;\n",
    "ss << i;\n",
    "string s=ss.str();\n",
    "```\n",
    "\n",
    "### `string` → 数値型\n",
    "\n",
    "```C++\n",
    "string s=\"6\";\n",
    "int i=stoi(s);\n",
    "long l=stol(s);\n",
    "unsigned long ul=stoul(s);\n",
    "long long ll=stoll(s);\n",
    "unsigned long long ull=stoull(s);\n",
    "\n",
    "float f=stof(s);\n",
    "double d=stod(s);\n",
    "long double ld=stold(s);\n",
    "\n",
    "// s に数値が含まれていない場合は例外を投げる\n",
    "// オーバーフローが発生した場合も例外を投げる\n",
    "// 整数型は stoi(s,nullptr,radix) などとすることで特定の進数の値も受け付ける\n",
    "```\n",
    "\n",
    "### `char*` → 数値型\n",
    "\n",
    "```C++\n",
    "char* c=\"6\";\n",
    "int i=atoi(c);\n",
    "long l=atol(c);\n",
    "long long ll=atoll(c);\n",
    "float f=atof(c);\n",
    "// オーバーフローの場合は変な数値が代入される\n",
    "```\n",
    "\n",
    "```C++\n",
    "char* c=\"6\";\n",
    "long l=strtol(c,NULL,10);\n",
    "unsigned long ul=strtoul(c,NULL,10);\n",
    "long long ll=strtoq(c,NULL,10);\n",
    "unsigned long long ull=strtouq(c,NULL,10);\n",
    "float f=strtof(c);\n",
    "double d=strtod(c);\n",
    "long double ld=strtold(c);\n",
    "/*\n",
    " オーバーフローの場合は,これらの関数を実行した直後に\n",
    " errno == ERANGE\n",
    " が真になる\n",
    "*/\n",
    "```\n",
    "\n",
    "### 数値型同士\n",
    "```C++\n",
    "double d=3.14;\n",
    "int i=(int)d; // 3 (truncated)\n",
    "```"
   ]
  }
 ],
 "metadata": {
  "kernelspec": {
   "display_name": "C++",
   "language": "C++",
   "name": "xcpp17"
  },
  "language_info": {
   "codemirror_mode": "text/x-c++src",
   "file_extension": ".cpp",
   "mimetype": "text/x-c++src",
   "name": "c++",
   "version": "-std=c++2a"
  }
 },
 "nbformat": 4,
 "nbformat_minor": 4
}
