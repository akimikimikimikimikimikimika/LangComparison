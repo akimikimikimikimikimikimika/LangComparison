{
 "cells": [
  {
   "cell_type": "markdown",
   "metadata": {},
   "source": [
    "# クラス"
   ]
  },
  {
   "cell_type": "code",
   "execution_count": 1,
   "metadata": {},
   "outputs": [
    {
     "data": {
      "text/plain": []
     },
     "execution_count": 1,
     "metadata": {},
     "output_type": "execute_result"
    }
   ],
   "source": [
    "#include <iostream>\n",
    "#include <string>\n",
    "#include <cmath>\n",
    "\n",
    "using namespace std;"
   ]
  },
  {
   "cell_type": "markdown",
   "metadata": {},
   "source": [
    "ここでは,一般的な方法であるヘッダファイルを用いたクラス定義をしている。ヘッダファイルでクラスの内容を定義し,その関数やデータの実装をソースファイルで行う。  \n",
    "本来わざわざ定義と実装を分離する必要はない。しかし,特に大規模開発などでは共同作業を進めやすくするために分離することが多いのだとか。或いは,ライブラリなどでは実装内容はバイナリにして,ヘッダは公開することで提供される関数やオブジェクトを明示することができるか。"
   ]
  },
  {
   "cell_type": "markdown",
   "metadata": {},
   "source": [
    "## クラス定義1 (Vector)"
   ]
  },
  {
   "cell_type": "code",
   "execution_count": 2,
   "metadata": {},
   "outputs": [
    {
     "data": {
      "text/plain": []
     },
     "execution_count": 2,
     "metadata": {},
     "output_type": "execute_result"
    }
   ],
   "source": [
    "class Vector {\n",
    "\n",
    "\tpublic:\n",
    "\t\t// クラス変数\n",
    "\t\tconst static string VERSION;\n",
    "\t\t\t/*\n",
    "\t\t\t\tクラス内で共有される値 (static)\n",
    "\t\t\t\t書き換え不可 (const)\n",
    "\t\t\t\tメソッド内から VERSION でアクセス可能\n",
    "\t\t\t\t継承クラスからアクセス可能\n",
    "\t\t\t\t外部から\n",
    "\t\t\t\t\tVector::VERSION\n",
    "\t\t\t\t\tv.VERSION  (vが実体Vectorの場合)\n",
    "\t\t\t\t\tv->VERSION (vがポインタVector*の場合)\n",
    "\t\t\t\t\tでアクセス可能\n",
    "\t\t\t*/\n",
    "\n",
    "\tprotected:\n",
    "\t\t// クラス変数\n",
    "\t\tstatic string description;\n",
    "\t\t\t/*\n",
    "\t\t\t\tクラス内で共有される値 (static)\n",
    "\t\t\t\t書き換え可能\n",
    "\t\t\t\tメソッド内から description でアクセス可能\n",
    "\t\t\t\t継承クラスからアクセス可能 (protected:)\n",
    "\t\t\t\t外部からはアクセス不可 (protected:)\n",
    "\t\t\t*/\n",
    "\n",
    "\tpublic:\n",
    "\t\t// インスタンス変数\n",
    "\t\tdouble x = 0;\n",
    "\t\tdouble y = 0;\n",
    "\t\tdouble z = 0;\n",
    "\t\t/*\n",
    "\t\t\t各インスタンス毎に異なる値\n",
    "\t\t\tVector::でアクセスしたら0になる\n",
    "\t\t\tインスタンスメソッド内のみから x でアクセス可能\n",
    "\t\t\tpublicなので,外部から v.x でアクセス可能\n",
    "\t\t*/\n",
    "\n",
    "\tpublic:\n",
    "\n",
    "\t\t// イニシャライザ/コンストラクタ\n",
    "\t\tVector() {\n",
    "\t\t\tx = 0;\n",
    "\t\t\ty = 0;\n",
    "\t\t\tz = 0;\n",
    "\t\t};\n",
    "\t\tVector(double X, double Y, double Z) {\n",
    "\t\t\tx = X;\n",
    "\t\t\ty = Y;\n",
    "\t\t\tz = Z;\n",
    "\t\t};\n",
    "\n",
    "\t\t// インスタンスの説明\n",
    "\t\tstring desc() {\n",
    "\t\t\tchar s[1000];\n",
    "\t\t\tsprintf(s,\"(%d,%d,%d)\",(int)x,(int)y,(int)z);\n",
    "\t\t\treturn string(s);\n",
    "\t\t};\n",
    "\n",
    "\t\t// 足し算を定義\n",
    "\n",
    "\t\t// インスタンスメソッド版 (自分自身に足し合わせていく)\n",
    "\t\tvoid add(Vector v) {\n",
    "\t\t\tx += v.x;\n",
    "\t\t\ty += v.y;\n",
    "\t\t\tz += v.z;\n",
    "\t\t};\n",
    "\n",
    "\t\ttemplate<typename... Vn>\n",
    "\t\tvoid add(Vector v1,Vn ...vn) {\n",
    "\t\t\tadd(v1);\n",
    "\t\t\tadd(vn...);\n",
    "\t\t};\n",
    "\t\t\t/*\n",
    "\t\t\t\t可変引数の add\n",
    "\t\t\t\t任意の個数のVectorを受け付ける。\n",
    "\t\t\t\tn個のVectorは Vector::add(Vector v1,Vn ...vn) に当てはめられ,型 Vn はn-1個のVectorの列になる。\n",
    "\t\t\t\tadd(v1) で Vector::add(Vector v) が実行される。\n",
    "\t\t\t\tadd(vn...) でn-1個のVectorである vn が展開されて Vector::add(Vector v1,Vn ...vn) が実行される。すると,Vnはn-2個のVectorの列になる。\n",
    "\t\t\t\tVnが1個のVectorになると add(vn...) で Vector::add(Vector v) が実行される。\n",
    "\t\t\t\tこれを繰り返して,1つずづVectorを処理する。\n",
    "\t\t\t*/\n",
    "\n",
    "\t\t// クラスメソッド版 (引数のVectorを足し合わせた結果を返す)\n",
    "\t\t\t// クラスメソッドでは static を前置する\n",
    "\t\tstatic Vector added(Vector v1, Vector v2) {\n",
    "\t\t\treturn Vector(\n",
    "\t\t\t\tv1.x+v2.x,\n",
    "\t\t\t\tv1.y+v2.y,\n",
    "\t\t\t\tv1.z+v2.z\n",
    "\t\t\t);\n",
    "\t\t};\n",
    "\t\ttemplate<typename... Vn>\n",
    "\t\tstatic Vector added(Vector v1, Vector v2, Vn ...vn) {\n",
    "\t\t\treturn added(v1,added(v2,vn...));\n",
    "\t\t};\n",
    "\t\t\t/*\n",
    "\t\t\t\taddやaddedにおいて,\n",
    "\t\t\t\t\tvoid add(Vector v1,Vn ...vn);\n",
    "\t\t\t\t\tstatic Vector added(Vector v1, Vn ...vn);\n",
    "\t\t\t\tといった宣言だけで終わらせるのはよくない。なぜなら,これはテンプレートを含んでおり具体的な関数形がなく抽象的なので,.hppの宣言と.cppの実装を分けると.cppをコンパイルした時点ではオブジェクトファイルには実体がなく,リンクできないからである。\n",
    "\t\t\t\tリンカでは,要求に応じてオブジェクトファイルの中から具体的な Vector added(Vector,Vector...) を探すのだが,見つからないのでリンクに失敗する。\n",
    "\t\t\t\t具体的に Vector added(Vector,Vector,Vector) などと実装すると使えるのだが,それだと可変個引数に対応できない。よって,宣言時に実装するしかない。\n",
    "\t\t\t*/\n",
    "\n",
    "\t\t// スカラ倍を定義 (共にインスタンスメソッド)\n",
    "\n",
    "\t\t// 自分自身を実数倍\n",
    "\t\tvoid coefMultiply(double k) {\n",
    "\t\t\tx *= k;\n",
    "\t\t\ty *= k;\n",
    "\t\t\tz *= k;\n",
    "\t\t};\n",
    "\n",
    "\t\t// 自分自身の実数倍のVectorを生成\n",
    "\t\tVector coefMultiplied(double k) {\n",
    "\t\t\treturn Vector(x*k,y*k,z*k);\n",
    "\t\t};\n",
    "\n",
    "\t\t// クラス変数 description を返す\n",
    "\t\tstatic string describe() {\n",
    "\t\t\treturn description;\n",
    "\t\t};\n",
    "\n",
    "};\n",
    "\n",
    "/*\n",
    "\tpublic:\n",
    "\t\tこのキーワード以後に書かれた関数やデータは,外部からアクセス可能\n",
    "\tprivate:\n",
    "\t\tこのキーワード以後に書かれた関数やデータは,このクラス内でのみアクセス可能\n",
    "\tprotected:\n",
    "\t\tこのキーワード以後に書かれた関数やデータは,このクラスと,継承したクラス内でのみアクセス可能\n",
    "*/"
   ]
  },
  {
   "cell_type": "markdown",
   "metadata": {},
   "source": [
    "本来はプロパティ `VERSION` や `description` を定義する次の行がクラス宣言の外に必要である。\n",
    "```C++\n",
    "const string Vector::VERSION = \"1.0\";\n",
    "string Vector::description = \"C++ simple vector class\";\n",
    "```\n",
    "しかし, cling の実行が関数内で行われるせいか,こうした宣言ができない。"
   ]
  },
  {
   "cell_type": "markdown",
   "metadata": {},
   "source": [
    "## クラス定義2 (ExtendedVector inherits from Vector)"
   ]
  },
  {
   "cell_type": "code",
   "execution_count": 3,
   "metadata": {},
   "outputs": [
    {
     "data": {
      "text/plain": []
     },
     "execution_count": 3,
     "metadata": {},
     "output_type": "execute_result"
    }
   ],
   "source": [
    "class ExtendedVector: public Vector { // 継承宣言\n",
    "\tpublic:\n",
    "\t\tExtendedVector() : Vector() {};\n",
    "\t\tExtendedVector(double X, double Y, double Z) : Vector(X,Y,Z) {};\n",
    "\t\t\t// 親クラス(Vector)のイニシャライザに初期化を代行させる\n",
    "\tpublic:\n",
    "\t\t// 内積を定義\n",
    "\t\tdouble dot(Vector v) {\n",
    "\t\t\tdouble p=0;\n",
    "\t\t\tp+=x*v.x;\n",
    "\t\t\tp+=y*v.y;\n",
    "\t\t\tp+=z*v.z;\n",
    "\t\t\treturn p;\n",
    "\t\t};\n",
    "\t\t// 外積を定義\n",
    "\t\tVector cross(Vector v) {\n",
    "\t\t\treturn Vector(\n",
    "\t\t\t\ty*v.z-z*v.y,\n",
    "\t\t\t\tz*v.x-x*v.z,\n",
    "\t\t\t\tx*v.y-y*v.x\n",
    "\t\t\t);\n",
    "\t\t};\n",
    "\t\t// ノルムを定義\n",
    "\t\tdouble norm() {\n",
    "\t\t\treturn sqrt(dot(*this));\n",
    "\t\t};\n",
    "\t\t// 説明できるはず\n",
    "\t\tstatic string describeFromSub() {\n",
    "\t\t\treturn description;\n",
    "\t\t};\n",
    "\tprivate:\n",
    "\t\t// プライベートメソッド (外部からアクセスできない)\n",
    "\t\t// 単位ベクトルに変換\n",
    "\t\tvoid normalize() {\n",
    "\t\t\tthis->coefMultiply(1/this->norm());\n",
    "\t\t};\n",
    "};"
   ]
  },
  {
   "cell_type": "markdown",
   "metadata": {},
   "source": [
    "## クラスの利用"
   ]
  },
  {
   "cell_type": "code",
   "execution_count": 4,
   "metadata": {},
   "outputs": [
    {
     "data": {
      "text/plain": [
       "(double) 16.000000\n"
      ]
     },
     "execution_count": 4,
     "metadata": {},
     "output_type": "execute_result"
    }
   ],
   "source": [
    "Vector vec1(3,2,1);\n",
    "ExtendedVector vec2(6,4,2);\n",
    "ExtendedVector vec3(54,63,72);\n",
    "Vector vec4;\n",
    "\n",
    "// 値の設定\n",
    "vec3.x = 16;"
   ]
  },
  {
   "cell_type": "code",
   "execution_count": 5,
   "metadata": {},
   "outputs": [
    {
     "name": "stdout",
     "output_type": "stream",
     "text": [
      "vec1: 0x10a5cf0c8\n",
      "vec2: 0x10a5cf0e0\n",
      "\n",
      "vec1の説明: (3,2,1)\n",
      "vec2の説明: (6,4,2)\n",
      "vec3の説明: (16,63,72)\n",
      "vec4の説明: (0,0,0)\n",
      "\n",
      "vec1のx座標: 3\n",
      "vec2のy座標: 4\n",
      "vec3のz座標: 72\n",
      "\n",
      "vec1+vec2+vec3: (25,69,75)\n",
      "vec4+vec2: (6,4,2)\n",
      "vec2×12: (72,48,24)\n",
      "\n",
      "vec2∙vec3: 492\n",
      "vec3×vec2: (-162,400,-314)\n",
      "|vec3|:    97\n"
     ]
    },
    {
     "data": {
      "text/plain": [
       "(std::__1::basic_ostream &) @0x7fff9648d760\n"
      ]
     },
     "execution_count": 5,
     "metadata": {},
     "output_type": "execute_result"
    }
   ],
   "source": [
    "cout <<\n",
    "// オブジェクトそのものの説明といえば,ポインタしかない\n",
    "\"vec1: \" << &vec1 << endl <<\n",
    "\"vec2: \" << &vec2 << endl <<\n",
    "\n",
    "endl <<\n",
    "\n",
    "\"vec1の説明: \" << vec1.desc() << endl <<\n",
    "\"vec2の説明: \" << vec2.desc() << endl <<\n",
    "\"vec3の説明: \" << vec3.desc() << endl <<\n",
    "\"vec4の説明: \" << vec4.desc() << endl <<\n",
    "\n",
    "endl <<\n",
    "\n",
    "\"vec1のx座標: \" << vec1.x << endl <<\n",
    "\"vec2のy座標: \" << vec2.y << endl <<\n",
    "\"vec3のz座標: \" << vec3.z << endl <<\n",
    "\n",
    "endl <<\n",
    "\n",
    "\"vec1+vec2+vec3: \" << Vector::added(vec1,vec2,vec3).desc() << endl;\n",
    "vec4.add(vec2);\n",
    "cout <<\n",
    "\"vec4+vec2: \" << vec4.desc() << endl <<\n",
    "\"vec2×12: \" << vec2.coefMultiplied(12).desc() << endl <<\n",
    "\n",
    "endl <<\n",
    "\n",
    "\"vec2∙vec3: \" << vec2.dot(vec3) << endl <<\n",
    "\"vec3×vec2: \" << vec3.cross(vec2).desc() << endl <<\n",
    "\"|vec3|:    \" << vec3.norm() << endl;"
   ]
  }
 ],
 "metadata": {
  "kernelspec": {
   "display_name": "C++",
   "language": "C++",
   "name": "cling-cpp17"
  },
  "language_info": {
   "codemirror_mode": "c++",
   "file_extension": ".c++",
   "mimetype": "text/x-c++src",
   "name": "c++"
  }
 },
 "nbformat": 4,
 "nbformat_minor": 4
}
