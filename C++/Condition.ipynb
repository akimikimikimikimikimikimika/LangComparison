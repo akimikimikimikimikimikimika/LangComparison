{
 "cells": [
  {
   "cell_type": "markdown",
   "metadata": {},
   "source": [
    "# 条件分岐"
   ]
  },
  {
   "cell_type": "code",
   "execution_count": 1,
   "metadata": {},
   "outputs": [
    {
     "data": {
      "text/plain": []
     },
     "execution_count": 1,
     "metadata": {},
     "output_type": "execute_result"
    }
   ],
   "source": [
    "#include <iostream>\n",
    "\n",
    "using namespace std;"
   ]
  },
  {
   "cell_type": "code",
   "execution_count": 2,
   "metadata": {},
   "outputs": [
    {
     "data": {
      "text/plain": []
     },
     "execution_count": 2,
     "metadata": {},
     "output_type": "execute_result"
    }
   ],
   "source": [
    "bool test1 = true;\n",
    "bool test2 = false;"
   ]
  },
  {
   "cell_type": "code",
   "execution_count": 3,
   "metadata": {},
   "outputs": [
    {
     "name": "stdout",
     "output_type": "stream",
     "text": [
      "どうやらtest1は真のようです\n"
     ]
    },
    {
     "data": {
      "text/plain": []
     },
     "execution_count": 3,
     "metadata": {},
     "output_type": "execute_result"
    }
   ],
   "source": [
    "if (test1) {\n",
    "\tcout << \"どうやらtest1は真のようです\" << endl;\n",
    "}"
   ]
  },
  {
   "cell_type": "code",
   "execution_count": 4,
   "metadata": {},
   "outputs": [
    {
     "name": "stdout",
     "output_type": "stream",
     "text": [
      "真偽が混在しているようです\n"
     ]
    },
    {
     "data": {
      "text/plain": []
     },
     "execution_count": 4,
     "metadata": {},
     "output_type": "execute_result"
    }
   ],
   "source": [
    "if (!test1) {\n",
    "\tcout << \"どうやらtest1は偽のようです\" << endl;\n",
    "}\n",
    "else if (test2) {\n",
    "\tcout << \"どうやらtest2は真のようです\" << endl;\n",
    "}\n",
    "else if (!test2 && test1) {\n",
    "\tcout << \"真偽が混在しているようです\" << endl;\n",
    "}\n",
    "else {\n",
    "\tcout << \"どれでもないようです\" << endl;\n",
    "}"
   ]
  },
  {
   "cell_type": "code",
   "execution_count": 5,
   "metadata": {},
   "outputs": [
    {
     "name": "stdout",
     "output_type": "stream",
     "text": [
      "これに隣接する数にも言えたりするが,8は素数ではない\n"
     ]
    },
    {
     "data": {
      "text/plain": []
     },
     "execution_count": 5,
     "metadata": {},
     "output_type": "execute_result"
    }
   ],
   "source": [
    "int val = 8;\n",
    "switch (val) {\n",
    "\tcase 0:\n",
    "\tcase 1:\n",
    "\t\tcout << to_string(val)+\"は特別な値である\" << endl;\n",
    "\t\tbreak;\n",
    "\tcase 8:\n",
    "\tcase 9:\n",
    "\tcase 10:\n",
    "\t\tcout << \"これに隣接する数にも言えたりするが,\";\n",
    "\t\t// breakを省くと,case 8,9,10を実行すれば,直下のcase 4,6も実行する\n",
    "\tcase 4:\n",
    "\tcase 6:\n",
    "\t\tcout << to_string(val)+\"は素数ではない\" << endl;\n",
    "\t\tbreak;\n",
    "\tcase 2:\n",
    "\tcase 3:\n",
    "\tcase 5:\n",
    "\tcase 7:\n",
    "\t\tcout << to_string(val)+\"は素数である\" << endl;\n",
    "\t\tbreak;\n",
    "}"
   ]
  }
 ],
 "metadata": {
  "kernelspec": {
   "display_name": "C++",
   "language": "C++",
   "name": "cling-cpp17"
  },
  "language_info": {
   "codemirror_mode": "c++",
   "file_extension": ".c++",
   "mimetype": "text/x-c++src",
   "name": "c++"
  }
 },
 "nbformat": 4,
 "nbformat_minor": 4
}
