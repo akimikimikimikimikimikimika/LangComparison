{
 "cells": [
  {
   "cell_type": "markdown",
   "metadata": {},
   "source": [
    "# コーラブル"
   ]
  },
  {
   "cell_type": "code",
   "execution_count": 1,
   "metadata": {},
   "outputs": [
    {
     "data": {
      "text/plain": []
     },
     "execution_count": 1,
     "metadata": {},
     "output_type": "execute_result"
    }
   ],
   "source": [
    "#include <functional>"
   ]
  },
  {
   "cell_type": "markdown",
   "metadata": {},
   "source": [
    "## 関数"
   ]
  },
  {
   "cell_type": "markdown",
   "metadata": {},
   "source": [
    "### 通常の関数"
   ]
  },
  {
   "cell_type": "code",
   "execution_count": 2,
   "metadata": {},
   "outputs": [
    {
     "data": {
      "text/plain": []
     },
     "execution_count": 2,
     "metadata": {},
     "output_type": "execute_result"
    }
   ],
   "source": [
    "long cube(long val) {\n",
    "\treturn val*val*val;\n",
    "}"
   ]
  },
  {
   "cell_type": "code",
   "execution_count": 3,
   "metadata": {},
   "outputs": [
    {
     "data": {
      "text/plain": [
       "(long (*)(long)) Function @0x1123f5080\n"
      ]
     },
     "execution_count": 3,
     "metadata": {},
     "output_type": "execute_result"
    }
   ],
   "source": [
    "cube"
   ]
  },
  {
   "cell_type": "markdown",
   "metadata": {},
   "source": [
    "### ラムダ (無名関数)"
   ]
  },
  {
   "cell_type": "code",
   "execution_count": 4,
   "metadata": {},
   "outputs": [
    {
     "data": {
      "text/plain": [
       "(std::__1::function &) @0x112465510\n"
      ]
     },
     "execution_count": 4,
     "metadata": {},
     "output_type": "execute_result"
    }
   ],
   "source": [
    "auto func = [](int value) -> int {\n",
    "\treturn value*value;\n",
    "};\n",
    "std::function<int(int)> func2; // #include<functional>\n",
    "func2=func;"
   ]
  },
  {
   "cell_type": "markdown",
   "metadata": {},
   "source": [
    "* ラムダを受け取る型は上のように `auto` でなくてはならない。ラムダ式それぞれによって全く異なる型として割り振られるからであり,決まった型の名称があるわけではないからである。\n",
    "* とは言ったものの `function` 型は引数の型が合致していれば広く値を受け入れられる。"
   ]
  },
  {
   "cell_type": "code",
   "execution_count": 5,
   "metadata": {},
   "outputs": [
    {
     "data": {
      "text/plain": [
       "((lambda) &) @0x112465340\n"
      ]
     },
     "execution_count": 5,
     "metadata": {},
     "output_type": "execute_result"
    }
   ],
   "source": [
    "func"
   ]
  },
  {
   "cell_type": "code",
   "execution_count": 6,
   "metadata": {},
   "outputs": [
    {
     "data": {
      "text/plain": [
       "(std::function<int (int)> &) @0x112465510\n"
      ]
     },
     "execution_count": 6,
     "metadata": {},
     "output_type": "execute_result"
    }
   ],
   "source": [
    "func2"
   ]
  },
  {
   "cell_type": "code",
   "execution_count": 7,
   "metadata": {},
   "outputs": [
    {
     "data": {
      "text/plain": [
       "(int) 36\n"
      ]
     },
     "execution_count": 7,
     "metadata": {},
     "output_type": "execute_result"
    }
   ],
   "source": [
    "func(6);"
   ]
  },
  {
   "cell_type": "markdown",
   "metadata": {},
   "source": [
    "### 関数ポインタ"
   ]
  },
  {
   "cell_type": "code",
   "execution_count": 8,
   "metadata": {},
   "outputs": [
    {
     "data": {
      "text/plain": []
     },
     "execution_count": 8,
     "metadata": {},
     "output_type": "execute_result"
    }
   ],
   "source": [
    "long (*cube1)(long) = cube;\n",
    "std::function<long(long)> cube2 = cube; // #include<functional>"
   ]
  },
  {
   "cell_type": "code",
   "execution_count": 9,
   "metadata": {},
   "outputs": [
    {
     "data": {
      "text/plain": [
       "(long (*)(long)) Function @0x1123f5080\n"
      ]
     },
     "execution_count": 9,
     "metadata": {},
     "output_type": "execute_result"
    }
   ],
   "source": [
    "cube1"
   ]
  },
  {
   "cell_type": "code",
   "execution_count": 10,
   "metadata": {},
   "outputs": [
    {
     "data": {
      "text/plain": [
       "(std::function<long (long)> &) @0x112471450\n"
      ]
     },
     "execution_count": 10,
     "metadata": {},
     "output_type": "execute_result"
    }
   ],
   "source": [
    "cube2"
   ]
  },
  {
   "cell_type": "markdown",
   "metadata": {},
   "source": [
    "* `function` 型はラムダ式にも関数にも利用できる"
   ]
  },
  {
   "cell_type": "markdown",
   "metadata": {},
   "source": [
    "ラムダ式について\n",
    "- 実体　　\n",
    "\tC++の特徴である,演算子のオーバーロードを活かした構文である　　\n",
    "\t次のように演算子 `()` を実装したものに過ぎない\n",
    "\t```C++\n",
    "\t\tstruct {\n",
    "\t\t\tint operator()(int value) {}\n",
    "\t\t} func;\n",
    "\t```\n",
    "\tつまり,各々のラムダ式は同型の引数,戻り値であっても全く異なる型になることに注意\n",
    "- キャプチャ\n",
    "\t`[]` 内にはキャプチャする変数を指定する\n",
    "\t例えば, `[str]() {}` とすれば,このラムダ式を宣言した時点でのラムダ式外部の変数 str をラムダ式内部に取り込むことができる。宣言後にこの変数がラムダ式の外で書き換えられてもラムダ式内部の値は影響を受けない。"
   ]
  }
 ],
 "metadata": {
  "kernelspec": {
   "display_name": "C++",
   "language": "C++",
   "name": "cling-cpp17"
  },
  "language_info": {
   "codemirror_mode": "c++",
   "file_extension": ".c++",
   "mimetype": "text/x-c++src",
   "name": "c++"
  }
 },
 "nbformat": 4,
 "nbformat_minor": 4
}
