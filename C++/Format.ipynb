{
 "cells": [
  {
   "cell_type": "markdown",
   "metadata": {},
   "source": [
    "## 文字列フォーマット"
   ]
  },
  {
   "cell_type": "markdown",
   "metadata": {},
   "source": [
    "インクルード等"
   ]
  },
  {
   "cell_type": "code",
   "execution_count": 1,
   "metadata": {},
   "outputs": [
    {
     "data": {
      "text/plain": []
     },
     "execution_count": 1,
     "metadata": {},
     "output_type": "execute_result"
    }
   ],
   "source": [
    "#include <iostream>\n",
    "#include <iomanip> // setprecision,setw,setfill\n",
    "\n",
    "using namespace std;"
   ]
  },
  {
   "cell_type": "markdown",
   "metadata": {},
   "source": [
    "C++ では `printf` を使う代わりに `cout` とフラグを使って出力することができる\n",
    "フラグは1度指定するとそれ以降の全ての出力は,フラグが変更されない限り適用されてしまう\n",
    "フラグ指定前のフラグの状態を保存しておき,それを適用させてその度にリセットすることが必要。\n",
    "但し, `setw` は例外で,使用する都度指定しないと適用されない"
   ]
  },
  {
   "cell_type": "markdown",
   "metadata": {},
   "source": [
    "初期状態のフラグを保存"
   ]
  },
  {
   "cell_type": "code",
   "execution_count": 2,
   "metadata": {},
   "outputs": [
    {
     "data": {
      "text/plain": []
     },
     "execution_count": 2,
     "metadata": {},
     "output_type": "execute_result"
    }
   ],
   "source": [
    "std::ios::fmtflags savedFlags = cout.flags();"
   ]
  },
  {
   "cell_type": "code",
   "execution_count": 3,
   "metadata": {},
   "outputs": [
    {
     "name": "stdout",
     "output_type": "stream",
     "text": [
      "255\n",
      "0.018\n",
      "abc\n"
     ]
    },
    {
     "data": {
      "text/plain": [
       "(long) 0\n"
      ]
     },
     "execution_count": 3,
     "metadata": {},
     "output_type": "execute_result"
    }
   ],
   "source": [
    "cout <<\n",
    "\t255 << endl << // %d\n",
    "\t0.018 << endl << // %f (厳密には桁数が値に即して変動する)\n",
    "\t\"abc\" << endl; // %s\n",
    "\n",
    "NULL;"
   ]
  },
  {
   "cell_type": "markdown",
   "metadata": {},
   "source": [
    "## 真偽値"
   ]
  },
  {
   "cell_type": "code",
   "execution_count": 4,
   "metadata": {},
   "outputs": [
    {
     "name": "stdout",
     "output_type": "stream",
     "text": [
      "1\n",
      "true\n"
     ]
    },
    {
     "data": {
      "text/plain": [
       "(long) 0\n"
      ]
     },
     "execution_count": 4,
     "metadata": {},
     "output_type": "execute_result"
    }
   ],
   "source": [
    "cout <<\n",
    "\ttrue << endl <<\n",
    "\tboolalpha << true << endl;\n",
    "\n",
    "cout.flags(savedFlags); // フラグ状態の復元\n",
    "NULL;"
   ]
  },
  {
   "cell_type": "markdown",
   "metadata": {},
   "source": [
    "## 基数"
   ]
  },
  {
   "cell_type": "code",
   "execution_count": 5,
   "metadata": {},
   "outputs": [
    {
     "name": "stdout",
     "output_type": "stream",
     "text": [
      "255\n",
      "377\n",
      "ff\n",
      "FF\n"
     ]
    },
    {
     "data": {
      "text/plain": [
       "(long) 0\n"
      ]
     },
     "execution_count": 5,
     "metadata": {},
     "output_type": "execute_result"
    }
   ],
   "source": [
    "cout <<\n",
    "\tdec << 255 << endl << // %d\n",
    "\toct << 255 << endl << // %o\n",
    "\thex << 255 << endl << // %x\n",
    "\thex << uppercase << 255 << endl; // %X\n",
    "\n",
    "cout.flags(savedFlags);\n",
    "NULL;"
   ]
  },
  {
   "cell_type": "markdown",
   "metadata": {},
   "source": [
    "## 基数の表記"
   ]
  },
  {
   "cell_type": "code",
   "execution_count": 6,
   "metadata": {},
   "outputs": [
    {
     "name": "stdout",
     "output_type": "stream",
     "text": [
      "0377\n",
      "0xff\n"
     ]
    },
    {
     "data": {
      "text/plain": [
       "(long) 0\n"
      ]
     },
     "execution_count": 6,
     "metadata": {},
     "output_type": "execute_result"
    }
   ],
   "source": [
    "cout <<\n",
    "\toct << showbase << 255 << endl << // %#o\n",
    "\thex << showbase << 255 << endl;   // %#x\n",
    "\n",
    "cout.flags(savedFlags);\n",
    "NULL;"
   ]
  },
  {
   "cell_type": "markdown",
   "metadata": {},
   "source": [
    "## 浮動小数"
   ]
  },
  {
   "cell_type": "code",
   "execution_count": 7,
   "metadata": {},
   "outputs": [
    {
     "name": "stdout",
     "output_type": "stream",
     "text": [
      "0.018000\n",
      "1.800000e-02\n",
      "1.800000E-02\n"
     ]
    },
    {
     "data": {
      "text/plain": [
       "(long) 0\n"
      ]
     },
     "execution_count": 7,
     "metadata": {},
     "output_type": "execute_result"
    }
   ],
   "source": [
    "cout <<\n",
    "\t     fixed << 0.018 << endl << // %f\n",
    "\tscientific << 0.018 << endl << // %e\n",
    "\tscientific << uppercase << 0.018 << endl; // %E\n",
    "\n",
    "cout.flags(savedFlags);\n",
    "NULL;"
   ]
  },
  {
   "cell_type": "markdown",
   "metadata": {},
   "source": [
    "## 正負の表記"
   ]
  },
  {
   "cell_type": "code",
   "execution_count": 8,
   "metadata": {},
   "outputs": [
    {
     "name": "stdout",
     "output_type": "stream",
     "text": [
      "+18\n",
      "-18\n"
     ]
    },
    {
     "data": {
      "text/plain": [
       "(long) 0\n"
      ]
     },
     "execution_count": 8,
     "metadata": {},
     "output_type": "execute_result"
    }
   ],
   "source": [
    "cout <<\n",
    "\tshowpos << +18 << endl << // %+d\n",
    "\tshowpos << -18 << endl; // %+d\n",
    "\n",
    "cout.flags(savedFlags);\n",
    "NULL;"
   ]
  },
  {
   "cell_type": "markdown",
   "metadata": {},
   "source": [
    "## 幅"
   ]
  },
  {
   "cell_type": "code",
   "execution_count": 9,
   "metadata": {},
   "outputs": [
    {
     "name": "stdout",
     "output_type": "stream",
     "text": [
      "        18\n",
      "     0.018\n",
      "        ab\n"
     ]
    },
    {
     "data": {
      "text/plain": [
       "(long) 0\n"
      ]
     },
     "execution_count": 9,
     "metadata": {},
     "output_type": "execute_result"
    }
   ],
   "source": [
    "cout <<\n",
    "\tsetw(10) << 18 << endl << // %10d\n",
    "\tsetw(10) << 0.018 << endl << // %10f\n",
    "\tsetw(10) << \"ab\" << endl; // %10s\n",
    "\n",
    "cout.flags(savedFlags);\n",
    "NULL;"
   ]
  },
  {
   "cell_type": "markdown",
   "metadata": {},
   "source": [
    "## 精度"
   ]
  },
  {
   "cell_type": "code",
   "execution_count": 10,
   "metadata": {},
   "outputs": [
    {
     "name": "stdout",
     "output_type": "stream",
     "text": [
      "0.01800\n",
      "1.80000e-02\n"
     ]
    },
    {
     "data": {
      "text/plain": [
       "(long) 0\n"
      ]
     },
     "execution_count": 10,
     "metadata": {},
     "output_type": "execute_result"
    }
   ],
   "source": [
    "cout <<\n",
    "\t     fixed << setprecision(5) << 0.018 << endl << // %.5f\n",
    "\tscientific << setprecision(5) << 0.018 << endl; // %.5e\n",
    "\n",
    "cout.flags(savedFlags);\n",
    "NULL;"
   ]
  },
  {
   "cell_type": "markdown",
   "metadata": {},
   "source": [
    "* `setprecision` において指定した精度以上の桁を丸める手法として **even** が利用される。  \n",
    "    詳しくは Rounding.md を参照"
   ]
  },
  {
   "cell_type": "markdown",
   "metadata": {},
   "source": [
    "## 0埋め\n",
    "`cout.fill('0')` と指定するので,必ずしも埋める文字は0である必要はない"
   ]
  },
  {
   "cell_type": "code",
   "execution_count": 11,
   "metadata": {},
   "outputs": [
    {
     "name": "stdout",
     "output_type": "stream",
     "text": [
      "0000000018\n",
      "000000.018\n"
     ]
    },
    {
     "data": {
      "text/plain": [
       "(long) 0\n"
      ]
     },
     "execution_count": 11,
     "metadata": {},
     "output_type": "execute_result"
    }
   ],
   "source": [
    "char noFill=cout.fill('0'); // 埋める文字を指定し,指定前の文字をnoFillにセットする\n",
    "\n",
    "cout <<\n",
    "\tsetw(10) << 18 << endl << // %010d\n",
    "\tsetw(10) << 0.018 << endl; // %010f\n",
    "\n",
    "cout.fill(noFill); // noFillから設定を元に戻しておく\n",
    "NULL;"
   ]
  },
  {
   "cell_type": "markdown",
   "metadata": {},
   "source": [
    "## 配置"
   ]
  },
  {
   "cell_type": "code",
   "execution_count": 12,
   "metadata": {},
   "outputs": [
    {
     "name": "stdout",
     "output_type": "stream",
     "text": [
      "18        \n",
      "        18\n",
      "        18\n"
     ]
    },
    {
     "data": {
      "text/plain": [
       "(long) 0\n"
      ]
     },
     "execution_count": 12,
     "metadata": {},
     "output_type": "execute_result"
    }
   ],
   "source": [
    "cout <<\n",
    "\tsetw(10) << std::    left << 18 << endl << // %10d\n",
    "\tsetw(10) << std::   right << 18 << endl << // %-10d\n",
    "\tsetw(10) << std::internal << 18 << endl;\n",
    "\n",
    "cout.flags(savedFlags);\n",
    "NULL;"
   ]
  },
  {
   "cell_type": "markdown",
   "metadata": {},
   "source": [
    "ここでは,Cにおける `printf` に相当する ostream (cout) を利用したが, `sprintf` を使いたい場合は `stringstream` を使用する\n",
    "```C++\n",
    "#include <sstream>\n",
    "\n",
    "std::stringstream ss;\n",
    "ss << hex << 255 << endl;\n",
    "\n",
    "string text;\n",
    "text << ss;\n",
    "```\n",
    "`<<` や `>>` はstreamに共通の演算子のようだ。"
   ]
  }
 ],
 "metadata": {
  "kernelspec": {
   "display_name": "C++",
   "language": "C++",
   "name": "cling-cpp17"
  },
  "language_info": {
   "codemirror_mode": "c++",
   "file_extension": ".c++",
   "mimetype": "text/x-c++src",
   "name": "c++"
  }
 },
 "nbformat": 4,
 "nbformat_minor": 4
}
