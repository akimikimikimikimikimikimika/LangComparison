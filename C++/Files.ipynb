{
 "cells": [
  {
   "cell_type": "markdown",
   "metadata": {},
   "source": [
    "# ファイル操作"
   ]
  },
  {
   "cell_type": "code",
   "execution_count": 1,
   "metadata": {},
   "outputs": [
    {
     "data": {
      "text/plain": []
     },
     "execution_count": 1,
     "metadata": {},
     "output_type": "execute_result"
    }
   ],
   "source": [
    "#include <filesystem>\n",
    "#include <iostream>\n",
    "#include <fstream>\n",
    "#include <cstdlib>\n",
    "#include <string>\n",
    "\n",
    "using namespace std;\n",
    "namespace fs = filesystem;"
   ]
  },
  {
   "cell_type": "markdown",
   "metadata": {},
   "source": [
    "* カレントディレクトリをホームに変更"
   ]
  },
  {
   "cell_type": "code",
   "execution_count": 2,
   "metadata": {},
   "outputs": [
    {
     "data": {
      "text/plain": [
       "(nullptr_t) nullptr_t\n"
      ]
     },
     "execution_count": 2,
     "metadata": {},
     "output_type": "execute_result"
    }
   ],
   "source": [
    "fs::current_path(getenv(\"HOME\")); nullptr; // getenv : <cstdlib>"
   ]
  },
  {
   "cell_type": "markdown",
   "metadata": {},
   "source": [
    "## ファイル/フォルダ/シンボリックリンクの作成"
   ]
  },
  {
   "cell_type": "markdown",
   "metadata": {},
   "source": [
    "* Emptyという空フォルダを作成"
   ]
  },
  {
   "cell_type": "code",
   "execution_count": 3,
   "metadata": {},
   "outputs": [
    {
     "name": "stdout",
     "output_type": "stream",
     "text": [
      "成功\n"
     ]
    },
    {
     "data": {
      "text/plain": [
       "(nullptr_t) nullptr_t\n"
      ]
     },
     "execution_count": 3,
     "metadata": {},
     "output_type": "execute_result"
    }
   ],
   "source": [
    "auto result = fs::create_directory(\"Empty\");\n",
    "cout << (result ? \"成功\" : \"失敗\") << endl; nullptr;"
   ]
  },
  {
   "cell_type": "markdown",
   "metadata": {},
   "source": [
    "* Blankという空ファイルを作成"
   ]
  },
  {
   "cell_type": "code",
   "execution_count": 4,
   "metadata": {},
   "outputs": [
    {
     "data": {
      "text/plain": []
     },
     "execution_count": 4,
     "metadata": {},
     "output_type": "execute_result"
    }
   ],
   "source": [
    "{\n",
    "\tofstream io(\"Blank\",ios_base::trunc);\n",
    "\tio.close(); // ofstream : <fstream>\n",
    "}"
   ]
  },
  {
   "cell_type": "markdown",
   "metadata": {},
   "source": [
    "* フォルダEmptyの中にファイルBlankのシンボリックリンクSymlinkを作成"
   ]
  },
  {
   "cell_type": "code",
   "execution_count": 5,
   "metadata": {},
   "outputs": [
    {
     "data": {
      "text/plain": [
       "(nullptr_t) nullptr_t\n"
      ]
     },
     "execution_count": 5,
     "metadata": {},
     "output_type": "execute_result"
    }
   ],
   "source": [
    "fs::create_symlink(\"../Blank\",\"Empty/Symlink\"); nullptr;"
   ]
  },
  {
   "cell_type": "markdown",
   "metadata": {},
   "source": [
    "* `fs::create_symlink(\"../Blank\",\"Empty/Symlink\")`  \n",
    "\tディレクトリのシンボリックリンクは `fs::create_symlink` では作成できない場合があり,そんな場合でも確実にシンボリックリンクを生成する方法。\n",
    "* `fs::create_hard_link(\"../Blank\",\"Empty/Symlink\")`  \n",
    "\tハードリンクを生成する。"
   ]
  },
  {
   "cell_type": "markdown",
   "metadata": {},
   "source": [
    "## 書込み\n",
    "* Untitled.mdというMarkdownファイルを作成して書込み"
   ]
  },
  {
   "cell_type": "code",
   "execution_count": 6,
   "metadata": {},
   "outputs": [
    {
     "data": {
      "text/plain": []
     },
     "execution_count": 6,
     "metadata": {},
     "output_type": "execute_result"
    }
   ],
   "source": [
    "{\n",
    "\tofstream io(\"Untitled.md\",ios_base::out|ios_base::trunc);\n",
    "\tio << \"# Header 1\";\n",
    "\tio.close();\n",
    "}"
   ]
  },
  {
   "cell_type": "markdown",
   "metadata": {},
   "source": [
    "* ファイルの書き込みを行う領域全体をブロックで囲むと便利\n",
    "```C++\n",
    "{\n",
    "\tofstream io(\"Untitled.md\",ios_base::out);\n",
    "\tio << \"# Header 1\" << endl;\n",
    "}\n",
    "```\n",
    "こうすることで,ファイルストリーム io は,ブロック内でのみ有効な変数となり,ブロックの終端に達すると `io` が破棄されて,同時に `close()` が自動的に実行されるため,本来は手動で呼び出す必要がない。\n",
    "※ `close()` はオブジェクト `io` のディストラクタになっている"
   ]
  },
  {
   "cell_type": "markdown",
   "metadata": {},
   "source": [
    "## 移動/名称変更"
   ]
  },
  {
   "cell_type": "markdown",
   "metadata": {},
   "source": [
    "* フォルダEmptyをPackageに名称変更"
   ]
  },
  {
   "cell_type": "code",
   "execution_count": 7,
   "metadata": {},
   "outputs": [
    {
     "data": {
      "text/plain": [
       "(nullptr_t) nullptr_t\n"
      ]
     },
     "execution_count": 7,
     "metadata": {},
     "output_type": "execute_result"
    }
   ],
   "source": [
    "fs::rename(\"Empty\",\"Package\"); nullptr;"
   ]
  },
  {
   "cell_type": "markdown",
   "metadata": {},
   "source": [
    "* Packageフォルダ内のSymlinkファイルをAliasに名称変更"
   ]
  },
  {
   "cell_type": "code",
   "execution_count": 8,
   "metadata": {},
   "outputs": [
    {
     "data": {
      "text/plain": [
       "(nullptr_t) nullptr_t\n"
      ]
     },
     "execution_count": 8,
     "metadata": {},
     "output_type": "execute_result"
    }
   ],
   "source": [
    "fs::rename(\"Package/Symlink\",\"Package/Alias\"); nullptr;"
   ]
  },
  {
   "cell_type": "markdown",
   "metadata": {},
   "source": [
    "* Untitled.mdを移動して,名称変更"
   ]
  },
  {
   "cell_type": "code",
   "execution_count": 9,
   "metadata": {},
   "outputs": [
    {
     "data": {
      "text/plain": [
       "(nullptr_t) nullptr_t\n"
      ]
     },
     "execution_count": 9,
     "metadata": {},
     "output_type": "execute_result"
    }
   ],
   "source": [
    "fs::rename(\"Untitled.md\",\"Package/Headers.md\"); nullptr;"
   ]
  },
  {
   "cell_type": "markdown",
   "metadata": {},
   "source": [
    "## 追記\n",
    "* Markdownファイルに追記"
   ]
  },
  {
   "cell_type": "code",
   "execution_count": 10,
   "metadata": {},
   "outputs": [
    {
     "data": {
      "text/plain": []
     },
     "execution_count": 10,
     "metadata": {},
     "output_type": "execute_result"
    }
   ],
   "source": [
    "{\n",
    "\tofstream io(\"Package/Headers.md\",ios_base::out|ios_base::app);\n",
    "\tio << endl << \"## Header 2\" << endl << \"### Header 3\";\n",
    "\tio.close();\n",
    "}"
   ]
  },
  {
   "cell_type": "markdown",
   "metadata": {},
   "source": [
    "`ifstream`, `ofstream` のオプション\n",
    "複数指定する場合は `|` で挟む (論理和ビット演算)\n",
    "\n",
    "| | |\n",
    "|:-|:-|\n",
    "| `ios_base::in` | 読込可能にする |\n",
    "| `ios_base::out` | 書込可能にする |\n",
    "| `ios_base::app` | 追加書込 (書込前にポジションを終端に移動) |\n",
    "| `ios_base::trunc` | ファイルを新規作成する (既に存在していれば内容が消去される) |\n",
    "| `ios_base::binary` | バイナリを扱う |"
   ]
  },
  {
   "cell_type": "markdown",
   "metadata": {},
   "source": [
    "## 読込み\n",
    "* Markdownファイルを読込み"
   ]
  },
  {
   "cell_type": "code",
   "execution_count": 11,
   "metadata": {},
   "outputs": [
    {
     "name": "stdout",
     "output_type": "stream",
     "text": [
      "# Header 1\n",
      "## Header 2\n",
      "### Header 3\n"
     ]
    },
    {
     "data": {
      "text/plain": []
     },
     "execution_count": 11,
     "metadata": {},
     "output_type": "execute_result"
    }
   ],
   "source": [
    "{\n",
    "\tifstream io(\"Package/Headers.md\",ios_base::in);\n",
    "\tstring readText;\n",
    "\twhile (io && getline(io,readText)) cout << readText << endl;\n",
    "}"
   ]
  },
  {
   "cell_type": "markdown",
   "metadata": {},
   "source": [
    "* 直接出力も可能\n",
    "```C++\n",
    "cout << fh << endl;\n",
    "```\n",
    "\n",
    "\n",
    "* `string` の変数にデータを格納するのであれば,矢印演算子で\n",
    "\n",
    "```C++\n",
    "io >> readText;\n",
    "```\n",
    "\n",
    "\tとしても大丈夫だが, `char` の場合は,サイズがわからないので,必ず次の方法で読み込むべきである。\n",
    "\n",
    "```C++\n",
    "io.getline(readText,10);\n",
    "```\n",
    "\n",
    "\t読み込む文字数を制限できるので,オーバーすることがない。  \n",
    "\tコード中に使った方法はこれの応用であり,文字数を指定しない場合でも,1行毎に読み込まれて安定しやすい。"
   ]
  },
  {
   "cell_type": "markdown",
   "metadata": {},
   "source": [
    "## 再帰的にフォルダ作成\n",
    "* フォルダを一気に作成"
   ]
  },
  {
   "cell_type": "code",
   "execution_count": 12,
   "metadata": {},
   "outputs": [
    {
     "data": {
      "text/plain": [
       "(bool) true\n"
      ]
     },
     "execution_count": 12,
     "metadata": {},
     "output_type": "execute_result"
    }
   ],
   "source": [
    "fs::create_directories(\"Package/Module/Submodule/Item\");"
   ]
  },
  {
   "cell_type": "markdown",
   "metadata": {},
   "source": [
    "- `fs::create_directory` の代わりに `fs::create_directories` を使うことで,作成するフォルダItemの上位フォルダModule,Submoduleが存在していなくても,同時に生成される"
   ]
  },
  {
   "cell_type": "markdown",
   "metadata": {},
   "source": [
    "## ディレクトリの内容を表示"
   ]
  },
  {
   "cell_type": "code",
   "execution_count": 13,
   "metadata": {},
   "outputs": [
    {
     "name": "stdout",
     "output_type": "stream",
     "text": [
      "\"Package/Alias\"\n",
      "\"Package/Module\"\n",
      "\"Package/Headers.md\"\n"
     ]
    },
    {
     "data": {
      "text/plain": []
     },
     "execution_count": 13,
     "metadata": {},
     "output_type": "execute_result"
    }
   ],
   "source": [
    "for (const fs::directory_entry& e : fs::directory_iterator(\"Package\")) std::cout << e.path() << std::endl;"
   ]
  },
  {
   "cell_type": "markdown",
   "metadata": {},
   "source": [
    "* 再帰的にディレクトリを検索する場合は `recursive_directory_iterator` を使用する。\n",
    "* `directory_entry` から `.path()` を使用したが,他にも `.exists()`, `.is_dorectory()`, `file_size()` などが使用できる"
   ]
  },
  {
   "cell_type": "markdown",
   "metadata": {},
   "source": [
    "## ファイル/フォルダの複製\n",
    "* BlankとModuleを複製"
   ]
  },
  {
   "cell_type": "code",
   "execution_count": 14,
   "metadata": {},
   "outputs": [
    {
     "data": {
      "text/plain": [
       "(void) nullptr\n"
      ]
     },
     "execution_count": 14,
     "metadata": {},
     "output_type": "execute_result"
    }
   ],
   "source": [
    "fs::copy_file(\"Blank\",\"Package/Blank\");\n",
    "fs::copy(\"Package/Module\",\"Package/Module Copy\",fs::copy_options::recursive);"
   ]
  },
  {
   "cell_type": "markdown",
   "metadata": {},
   "source": [
    "* 第3引数に上書きに関するオプションを指定できる (通常はファイルが存在しているとエラーになる)\n",
    "\n",
    "| | |\n",
    "|:-|:-|\n",
    "| `skip_existing` | コピー先に既にファイルが存在していればコピーしない |\n",
    "| `overwrite_existing` | コピー先に既にファイルが存在していても上書きコピーする |\n",
    "| `update_existing` | コピー先に既にファイルが存在していたら,そのファイルがより古い場合に上書きコピーする |\n",
    "\n",
    "* `fs::copy_file`,`fs::copy_symlink` とは異なり, `fs::copy` は何でもコピーできる\n",
    "* `fs::copy_options::recursive` とすることで,ディレクトリ内の内容も再帰的にコピーされる"
   ]
  },
  {
   "cell_type": "markdown",
   "metadata": {},
   "source": [
    "## ファイル/フォルダの削除"
   ]
  },
  {
   "cell_type": "markdown",
   "metadata": {},
   "source": [
    "* ファイルBlankを削除"
   ]
  },
  {
   "cell_type": "code",
   "execution_count": 15,
   "metadata": {},
   "outputs": [
    {
     "data": {
      "text/plain": [
       "(bool) true\n"
      ]
     },
     "execution_count": 15,
     "metadata": {},
     "output_type": "execute_result"
    }
   ],
   "source": [
    "result = fs::remove(\"Blank\");"
   ]
  },
  {
   "cell_type": "markdown",
   "metadata": {},
   "source": [
    "* シンボリックリンクAliasを削除"
   ]
  },
  {
   "cell_type": "code",
   "execution_count": 16,
   "metadata": {},
   "outputs": [
    {
     "data": {
      "text/plain": [
       "(bool) false\n"
      ]
     },
     "execution_count": 16,
     "metadata": {},
     "output_type": "execute_result"
    }
   ],
   "source": [
    "result = fs::remove(\"Alias\");"
   ]
  },
  {
   "cell_type": "markdown",
   "metadata": {},
   "source": [
    "* フォルダModuleを削除"
   ]
  },
  {
   "cell_type": "code",
   "execution_count": 17,
   "metadata": {},
   "outputs": [
    {
     "data": {
      "text/plain": [
       "(bool) true\n"
      ]
     },
     "execution_count": 17,
     "metadata": {},
     "output_type": "execute_result"
    }
   ],
   "source": [
    "result = fs::remove_all(\"Package/Module\");"
   ]
  },
  {
   "cell_type": "markdown",
   "metadata": {},
   "source": [
    "- 空のフォルダは `fs::remove` で削除できる。空でない場合は削除できない。  \n",
    "\t`fs::remove_all` を使えば,空でなくても削除できる"
   ]
  },
  {
   "cell_type": "markdown",
   "metadata": {},
   "source": [
    "## 権限を確認/変更"
   ]
  },
  {
   "cell_type": "markdown",
   "metadata": {},
   "source": [
    "* 状態を確認する関数"
   ]
  },
  {
   "cell_type": "code",
   "execution_count": 18,
   "metadata": {},
   "outputs": [
    {
     "data": {
      "text/plain": [
       "(nullptr_t) nullptr_t\n"
      ]
     },
     "execution_count": 18,
     "metadata": {},
     "output_type": "execute_result"
    }
   ],
   "source": [
    "auto check = [](string pt) -> void* {\n",
    "\n",
    "\tfs::path p = fs::path(pt);\n",
    "\n",
    "\tcout << (fs::exists(p) ? \"存在しています\" : \"存在していません\") << endl;\n",
    "\n",
    "\tfs::file_status s = fs::status(p);\n",
    "\t/*\n",
    "\t\tfs::status はファイル/フォルダの状態を示す\n",
    "\t\tシンボリックリンクについては...\n",
    "\t\tfs::status : リンク先のファイルの状態を示す\n",
    "\t\tfs::symlink_status : シンボリックリンク自体の状態を示す\n",
    "\t*/\n",
    "\tif (fs::is_symlink(p)) {\n",
    "\t\t// s.type()==fs::file_type::symlink と等価\n",
    "\t\tcout <<\n",
    "\t\t\"シンボリックリンクです\" << endl <<\n",
    "\t\t\"リンク先: \" << fs::read_symlink(p).native() << endl;\n",
    "\t}\n",
    "\telse if (fs::is_regular_file(p)) cout << \"ファイルです\" << endl; // s.type()==fs::file_type::regular と等価\n",
    "\telse if (fs::is_directory(p)) cout << \"フォルダです\" << endl; // s.type()==fs::file_type::directory と等価\n",
    "\n",
    "\tusing pm = fs::perms;\n",
    "\tpm sp = s.permissions();\n",
    "\tif ((sp & pm::owner_read) == pm::owner_read) cout << \"読込可能です\" << endl;\n",
    "\tif ((sp & pm::owner_write) == pm::owner_write) cout << \"書込可能です\" << endl;\n",
    "\tif ((sp & pm::owner_exec) == pm::owner_exec) cout << \"実行可能です\" << endl;\n",
    "\n",
    "\treturn nullptr;\n",
    "\n",
    "};\n",
    "nullptr; // ラムダ式の後に一度何かを出力しないとclingがクラッシュする"
   ]
  },
  {
   "cell_type": "markdown",
   "metadata": {},
   "source": [
    "* Markdownファイルの現在の状態を確認"
   ]
  },
  {
   "cell_type": "code",
   "execution_count": 19,
   "metadata": {},
   "outputs": [
    {
     "name": "stdout",
     "output_type": "stream",
     "text": [
      "存在しています\n",
      "ファイルです\n",
      "読込可能です\n",
      "書込可能です\n"
     ]
    },
    {
     "data": {
      "text/plain": [
       "(void *) nullptr\n"
      ]
     },
     "execution_count": 19,
     "metadata": {},
     "output_type": "execute_result"
    }
   ],
   "source": [
    "check(\"Package/Headers.md\");"
   ]
  },
  {
   "cell_type": "markdown",
   "metadata": {},
   "source": [
    "* 読込/書込権限を剥奪"
   ]
  },
  {
   "cell_type": "code",
   "execution_count": 20,
   "metadata": {},
   "outputs": [
    {
     "data": {
      "text/plain": [
       "(nullptr_t) nullptr_t\n"
      ]
     },
     "execution_count": 20,
     "metadata": {},
     "output_type": "execute_result"
    }
   ],
   "source": [
    "fs::permissions(\"Package/Headers.md\",fs::perms(0044)); nullptr;"
   ]
  },
  {
   "cell_type": "markdown",
   "metadata": {},
   "source": [
    "* 状態を確認"
   ]
  },
  {
   "cell_type": "code",
   "execution_count": 21,
   "metadata": {},
   "outputs": [
    {
     "name": "stdout",
     "output_type": "stream",
     "text": [
      "存在しています\n",
      "ファイルです\n"
     ]
    },
    {
     "data": {
      "text/plain": [
       "(void *) nullptr\n"
      ]
     },
     "execution_count": 21,
     "metadata": {},
     "output_type": "execute_result"
    }
   ],
   "source": [
    "check(\"Package/Headers.md\");"
   ]
  },
  {
   "cell_type": "markdown",
   "metadata": {},
   "source": [
    "* 読込/実行権限を付加"
   ]
  },
  {
   "cell_type": "code",
   "execution_count": 22,
   "metadata": {},
   "outputs": [
    {
     "data": {
      "text/plain": [
       "(nullptr_t) nullptr_t\n"
      ]
     },
     "execution_count": 22,
     "metadata": {},
     "output_type": "execute_result"
    }
   ],
   "source": [
    "fs::permissions(\"Package/Headers.md\",fs::perms(0544)); nullptr;"
   ]
  },
  {
   "cell_type": "markdown",
   "metadata": {},
   "source": [
    "* 状態を確認"
   ]
  },
  {
   "cell_type": "code",
   "execution_count": 23,
   "metadata": {},
   "outputs": [
    {
     "name": "stdout",
     "output_type": "stream",
     "text": [
      "存在しています\n",
      "ファイルです\n",
      "読込可能です\n",
      "実行可能です\n"
     ]
    },
    {
     "data": {
      "text/plain": [
       "(void *) nullptr\n"
      ]
     },
     "execution_count": 23,
     "metadata": {},
     "output_type": "execute_result"
    }
   ],
   "source": [
    "check(\"Package/Headers.md\");"
   ]
  },
  {
   "cell_type": "markdown",
   "metadata": {},
   "source": [
    "- `fs::permissions` は数値により権限を指定する\n",
    "\t* 4: 読込可能 (Readable)\n",
    "\t* 2: 書込可能 (Writable)\n",
    "\t* 1: 実行可能 (eXecutable)\n",
    "\n",
    "- これらの和を3つ並べて指定する。  \n",
    "    1つ目はユーザの権限,2つ目はゲストの権限,3つ目はその他の者の権限である。  \n",
    "\tC++では8進数で表記するために,前に `0` を付加する\n",
    "\n",
    "\te.g. `fs::permissions(somefile,fs::perms(0754))`\n",
    "\t* ユーザは 7 = 4+2+1 だから,読込可能,書込可能,実行可能\n",
    "\t* ゲストは 5 = 4 + 1 だから,読込可能,実行可能\n",
    "\t* その他は 4 だから,読込のみ可能"
   ]
  }
 ],
 "metadata": {
  "kernelspec": {
   "display_name": "C++",
   "language": "C++",
   "name": "cling-cpp17"
  },
  "language_info": {
   "codemirror_mode": "c++",
   "file_extension": ".c++",
   "mimetype": "text/x-c++src",
   "name": "c++"
  }
 },
 "nbformat": 4,
 "nbformat_minor": 4
}
