{
 "cells": [
  {
   "cell_type": "markdown",
   "metadata": {},
   "source": [
    "# シェル"
   ]
  },
  {
   "cell_type": "code",
   "execution_count": null,
   "metadata": {},
   "outputs": [],
   "source": [
    "import subprocess"
   ]
  },
  {
   "cell_type": "markdown",
   "metadata": {},
   "source": [
    "## 通常の実行"
   ]
  },
  {
   "cell_type": "code",
   "execution_count": null,
   "metadata": {},
   "outputs": [],
   "source": [
    "subprocess.run([\"ls\",\"-a\"])"
   ]
  },
  {
   "cell_type": "markdown",
   "metadata": {},
   "source": [
    "* `-a` のような引数がない場合は配列にせず単に\n",
    "```Python\n",
    "subprocess.run(\"ls\")\n",
    "```\n",
    "としても良い"
   ]
  },
  {
   "cell_type": "markdown",
   "metadata": {},
   "source": [
    "## 実行方法をカスタマイズ\n",
    "\n",
    "シェルを実行するためのいくつかの関数があり,ここではそれぞれを見ていく  \n",
    "- 実行内容を指定する方法によって,次のように区別できる\n",
    "\t* 文字列型  \n",
    "\t\t`\"ls -a\"` のようなもの  \n",
    "\t\tシェルで入力する文字列そのものである  \n",
    "\t\tスペースなどを含む引数は適宜エスケープが必要\n",
    "\t* 配列型  \n",
    "\t\t`[\"ls\",\"-a\"]` のようなもの  \n",
    "\t\t引数をエスケープせずにそのまま渡せる"
   ]
  },
  {
   "cell_type": "markdown",
   "metadata": {},
   "source": [
    "- `subprocess.run(cmd,options)` -> `CompletedProcess`\n",
    "\t* stdin,stdout,stderr はインターセプトされない (`options`で変更可能)\n",
    "\t* 実行完了まで `run` より先には進まない\n",
    "\t* `cmd` … 実行内容  \n",
    "\t\t 通常は配列型  \n",
    "\t\t shell=True の場合は文字列型\n",
    "\t* `options` … オプション\n",
    "\t\t* `cwd=<str>` … カレントディレクトリを変更する\n",
    "\t\t* `env=<dict>` … 環境変数を変更する\n",
    "\t\t* `shell=<bool>` … shell=True でシェルを介して実行する (あまりお勧めされていない)\n",
    "\t\t* `check=<bool>` … check=True で終了コードが0でない場合にエラーを送出する\n",
    "\t\t* `timeout=<int>` … 制限時間を設けることができる\n",
    "\t\t* `stdin,stdout,stderr=<int>` … IOの制御を指定でき,以下に示す値を指定できる\n",
    "            * `None` … 親プロセスの入出力に接続\n",
    "\t\t\t* `subprocess.PIPE` … パイプを開くことで,直接文字列を読み出し/書き込みしたり,別のプロセスに渡してプロセス間にパイプを設けることができる\n",
    "\t\t\t* `subprocess.DEVNULL` … stdinに対しては空の入力,stdout,stderrに対しては出力の破棄を意味する\n",
    "\t\t\t* `subprocess.STDOUT` … stderrにのみ有効な値で,stderrの内容がstdoutに統合される\n",
    "\t\t\t* ファイルディスクリプタ … 指定したファイルに書き出します\n",
    "\t\t* `input=<bytearray>` … `stdin` に `subprocess.PIPE` を指定した場合に渡す入力を指定する (`byte` オブジェクトを渡すことに注意)\n",
    "\t* 戻り値 : `CompletedProcess` オブジェクト\n",
    "\t\t* `args` … 実行内容の配列か文字列\n",
    "\t\t* `returncode` … 終了コード (異常終了の場合は負の値になる)\n",
    "\t\t* `stdout`,`stderr` … `subprocess.PIPE` を指定した場合にそれらの内容が取得できる`byte`オブジェクト"
   ]
  },
  {
   "cell_type": "markdown",
   "metadata": {},
   "source": [
    "- `subprocess.Popen(cmd,options)` -> `Popen`\n",
    "\t* stdin,stdout,stderr はインターセプトされない (`options`で変更可能)\n",
    "\t* `Popen` オブジェクトのコンストラクタ\n",
    "\t* `Popen` の生成時点ではプロセスは終了していないので, `wait()` や `communicate()` を用いて終了を待つ必要がある\n",
    "\t* `subprocess.run` も `Popen` が裏で利用されている\n",
    "\t\t• `cmd` : 実行内容  \n",
    "\t\t\t通常は配列型  \n",
    "\t\t\tshell=True の場合は文字列型\n",
    "\t\t• `cwd=<str>`\n",
    "\t\t• `env=<dict>`\n",
    "\t\t• `shell=<bool>`\n",
    "\t\t• `stdin,stdout,stderr=<int>`\n",
    "\t\t• 戻り値 : `Popen` オブジェクト\n",
    "\t\t\t• `args` … 実行内容の配列か文字列\n",
    "\t\t\t• `pid` … プロセスID\n",
    "\t\t\t• `returncode` … 終了コード (異常終了の場合は負の値になる)\n",
    "\t\t\t• `wait()` … 終了まで待機する\n",
    "\t\t\t• `communicate(input=None,timeout=None)`  \n",
    "\t\t\t\tstdinとして渡す`byte`オブジェクトを`input`に指定する  \n",
    "\t\t\t\t終了まで待機する  \n",
    "\t\t\t\t戻り値として `(stdout,stderr)` の形のタプルでstdout,stderrをbyte型で返す  \n",
    "\t\t\t\ttimeoutを指定して,時間制限を設けることができる  \n",
    "\t\t\t\t`subprocess.PIPE` を指定したIOのみ受け渡しができる"
   ]
  }
 ],
 "metadata": {
  "kernelspec": {
   "display_name": "Python",
   "language": "python",
   "name": "python3"
  },
  "language_info": {
   "codemirror_mode": {
    "name": "ipython",
    "version": 3
   },
   "file_extension": ".py",
   "mimetype": "text/x-python",
   "name": "python",
   "nbconvert_exporter": "python",
   "pygments_lexer": "ipython3",
   "version": "3.8.1"
  }
 },
 "nbformat": 4,
 "nbformat_minor": 4
}
