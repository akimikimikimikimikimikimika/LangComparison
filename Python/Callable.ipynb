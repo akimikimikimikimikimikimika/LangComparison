{
 "cells": [
  {
   "cell_type": "markdown",
   "metadata": {},
   "source": [
    "# コーラブル"
   ]
  },
  {
   "cell_type": "markdown",
   "metadata": {},
   "source": [
    "## 関数"
   ]
  },
  {
   "cell_type": "markdown",
   "metadata": {},
   "source": [
    "### 通常の関数"
   ]
  },
  {
   "cell_type": "code",
   "execution_count": 1,
   "metadata": {},
   "outputs": [
    {
     "name": "stdout",
     "output_type": "stream",
     "text": [
      "<function cube at 0x1124a4b00>\n",
      "216\n"
     ]
    }
   ],
   "source": [
    "def cube(val):\n",
    "\treturn val ** 3\n",
    "\n",
    "print(cube)\n",
    "\n",
    "# 関数を利用\n",
    "print(cube(6))"
   ]
  },
  {
   "cell_type": "markdown",
   "metadata": {},
   "source": [
    "### ラムダ (無名関数)"
   ]
  },
  {
   "cell_type": "code",
   "execution_count": 2,
   "metadata": {},
   "outputs": [
    {
     "name": "stdout",
     "output_type": "stream",
     "text": [
      "<function <lambda> at 0x1124a48c0>\n",
      "36\n"
     ]
    }
   ],
   "source": [
    "func = lambda val: val ** 2\n",
    "\n",
    "print(func)\n",
    "\n",
    "# 関数を利用\n",
    "print(func(6))"
   ]
  },
  {
   "cell_type": "markdown",
   "metadata": {},
   "source": [
    "* どうやらラムダは1行で済まされる関数しか認められないみたい  \n",
    "\t複数行の関数は通常通り `def` で定義して,値として渡すしかない  \n",
    "\tラムダの式の値は自動的に返される"
   ]
  },
  {
   "cell_type": "markdown",
   "metadata": {},
   "source": [
    "* デフォルト引数\n",
    "\n",
    "\t次のように引数がデフォルト値を持った関数が作れる\n",
    "\t```Python\n",
    "\tdef funcName(arg1=\"val1\",arg2=\"val2\",arg3=\"val3\",...):\n",
    "\t\t...\n",
    "\t```\n",
    "\t関数を実行する場合,通常は引数の省略はエラーになるが,デフォルト値を持つ引数は省略可能である"
   ]
  },
  {
   "cell_type": "markdown",
   "metadata": {},
   "source": [
    "* キーワード引数\n",
    "\n",
    "\tPythonにはしばしば引数がかなり多い関数もあり,それらには大概デフォルト引数が与えられている\n",
    "\t```Python\n",
    "\tdef funcName(arg1=\"val1\",arg2=\"val2\",arg3=\"val3\",...):\n",
    "\t\t...\n",
    "\t```\n",
    "\tこれを実行する際,引数名を指定することにより特定の引数のみを指定することもできる\n",
    "\t```Python\n",
    "\tfuncName(arg3=\"customValue3\",arg5=\"customValue5\")\n",
    "\t```"
   ]
  },
  {
   "cell_type": "markdown",
   "metadata": {},
   "source": [
    "* 可変個引数\n",
    "\n",
    "\t残りの引数をタプル形式でまとめて受け取れる\n",
    "\t```Python\n",
    "\tdef func1(arg1,arg2,*args):\n",
    "\t\t...\n",
    "\t\t# args = (arg3,arg4...) : タプル\n",
    "\t```\n",
    "\n",
    "\tキーワード引数をまとめて辞書形式で受け取ることができる\n",
    "\t```Python\n",
    "\tdef func2(arg1,arg2,**args):\n",
    "\t\t...\n",
    "\t\t# args = {arg3:\"val3\",arg4:\"val4\"...} : 辞書\n",
    "\t```\n",
    "\n",
    "\t又,関数を実行する際,配列,タプルの各要素をそのまま関数の引数とすることもできる\n",
    "\t```Python\n",
    "\tl = [1,2,3] # 配列lを用意\n",
    "\tfunc1(*l) # = func1(1,2,3) → arg1=1 arg2=2 args=(3,)\n",
    "\n",
    "\td = {\"key1\":1,\"key2\":2,\"key3\":3} # 連想配列dを用意\n",
    "\tfunc2(true,false,**d) # = func2(true,false,key1=1,key2=2,key3=3) → arg1=true arg2=false args={\"key1\":1,\"key2\":2,\"key3\":3}\n",
    "\n",
    "\tfunc1(*d) # = func1(\"key1\",\"key2\",\"key3\") → arg1=\"key1\" arg2=\"key2\" args=(\"key3\",)\n",
    "\t```"
   ]
  },
  {
   "cell_type": "markdown",
   "metadata": {},
   "source": [
    "* `pass`\n",
    "\n",
    "\tPythonでは関数,制御構文,繰り返しなどで,インデントによりその守備範囲を定めることがある  \n",
    "\tインデント内の内容がない場合は, `pass` と明記しなければならない  \n",
    "\t例えば,何もしない関数であれば...\n",
    "\t```Python\n",
    "\tdef doNothing():\n",
    "\t\tpass\n",
    "\t```\n",
    "\tインデント内の内容を `pass` にしなければならない  \n",
    "\t同じように,制御構文でも...\n",
    "\t```Python\n",
    "\tif statement:\n",
    "\t\tpass\n",
    "\t```\n",
    "\tとする。"
   ]
  },
  {
   "cell_type": "markdown",
   "metadata": {},
   "source": [
    "## 文字列をPythonコードとして実行\n",
    "\n",
    "### `exec(pythonSource,globals,locals)` -> `None`\n",
    "\n",
    "* `pythonSource` に記載したPythonコードを実行する\n",
    "* ソース中の値は直接戻り値として受け取ることはできない\n",
    "* 外の変数を `exec` 内で参照したり, `exec` 内の変数を外から参照することもできる\n",
    "* `globals` や `locals` にソース中で使える変数を与えることができる  \n",
    "\te.g.\n",
    "\t```Python\n",
    "\texec(\"...\",locals={\"a\":6}) # 内部で変数 a が参照でき, 6 が得られる\n",
    "\t```\n",
    "\n",
    "\n",
    "### `eval(pythonSource,globals,locals)` -> `value?`\n",
    "* `pythonSource` に記載したPythonコードを実行する  \n",
    "\t但し,等号を含む式や,構文を含むものなどは使えない\n",
    "* ソース中の値は直接戻り値として受け取ることはできない\n",
    "* 外の変数を `eval` 内で参照したり, `eval` 内の変数を外から参照することもできる\n",
    "* `globals` や `locals` にソース中で使える変数を与えることができる"
   ]
  }
 ],
 "metadata": {
  "kernelspec": {
   "display_name": "Python",
   "language": "python",
   "name": "python3"
  },
  "language_info": {
   "codemirror_mode": {
    "name": "ipython",
    "version": 3
   },
   "file_extension": ".py",
   "mimetype": "text/x-python",
   "name": "python",
   "nbconvert_exporter": "python",
   "pygments_lexer": "ipython3",
   "version": "3.7.7"
  }
 },
 "nbformat": 4,
 "nbformat_minor": 4
}
