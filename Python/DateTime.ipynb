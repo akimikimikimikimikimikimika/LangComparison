{
 "cells": [
  {
   "cell_type": "markdown",
   "metadata": {},
   "source": [
    "# 日付と時刻"
   ]
  },
  {
   "cell_type": "code",
   "execution_count": 1,
   "metadata": {},
   "outputs": [],
   "source": [
    "import datetime\n",
    "dt=datetime.datetime"
   ]
  },
  {
   "cell_type": "code",
   "execution_count": 2,
   "metadata": {},
   "outputs": [],
   "source": [
    "st=dt.now()"
   ]
  },
  {
   "cell_type": "markdown",
   "metadata": {},
   "source": [
    "## 時刻オブジェクト"
   ]
  },
  {
   "cell_type": "markdown",
   "metadata": {},
   "source": [
    "* 現在ローカル時刻"
   ]
  },
  {
   "cell_type": "code",
   "execution_count": 3,
   "metadata": {},
   "outputs": [
    {
     "data": {
      "text/plain": [
       "datetime.datetime(2020, 4, 26, 14, 57, 33, 568942)"
      ]
     },
     "execution_count": 3,
     "metadata": {},
     "output_type": "execute_result"
    }
   ],
   "source": [
    "dt.now()"
   ]
  },
  {
   "cell_type": "markdown",
   "metadata": {},
   "source": [
    "* 現在UTC時刻"
   ]
  },
  {
   "cell_type": "code",
   "execution_count": 4,
   "metadata": {},
   "outputs": [
    {
     "data": {
      "text/plain": [
       "datetime.datetime(2020, 4, 26, 5, 57, 33, 578590)"
      ]
     },
     "execution_count": 4,
     "metadata": {},
     "output_type": "execute_result"
    }
   ],
   "source": [
    "dt.utcnow()"
   ]
  },
  {
   "cell_type": "markdown",
   "metadata": {},
   "source": [
    "* カスタム時刻"
   ]
  },
  {
   "cell_type": "code",
   "execution_count": 5,
   "metadata": {},
   "outputs": [
    {
     "data": {
      "text/plain": [
       "datetime.datetime(1994, 1, 1, 9, 41, 12, 345678)"
      ]
     },
     "execution_count": 5,
     "metadata": {},
     "output_type": "execute_result"
    }
   ],
   "source": [
    "dt(1994,1,1,9,41,12,345678)"
   ]
  },
  {
   "cell_type": "markdown",
   "metadata": {},
   "source": [
    "## 成分分解"
   ]
  },
  {
   "cell_type": "code",
   "execution_count": 6,
   "metadata": {},
   "outputs": [],
   "source": [
    "now=dt.now()"
   ]
  },
  {
   "cell_type": "code",
   "execution_count": 7,
   "metadata": {},
   "outputs": [
    {
     "data": {
      "text/plain": [
       "2020"
      ]
     },
     "execution_count": 7,
     "metadata": {},
     "output_type": "execute_result"
    }
   ],
   "source": [
    "now.year"
   ]
  },
  {
   "cell_type": "code",
   "execution_count": 8,
   "metadata": {},
   "outputs": [
    {
     "data": {
      "text/plain": [
       "4"
      ]
     },
     "execution_count": 8,
     "metadata": {},
     "output_type": "execute_result"
    }
   ],
   "source": [
    "now.month"
   ]
  },
  {
   "cell_type": "code",
   "execution_count": 9,
   "metadata": {},
   "outputs": [
    {
     "data": {
      "text/plain": [
       "26"
      ]
     },
     "execution_count": 9,
     "metadata": {},
     "output_type": "execute_result"
    }
   ],
   "source": [
    "now.day"
   ]
  },
  {
   "cell_type": "code",
   "execution_count": 10,
   "metadata": {},
   "outputs": [
    {
     "data": {
      "text/plain": [
       "6"
      ]
     },
     "execution_count": 10,
     "metadata": {},
     "output_type": "execute_result"
    }
   ],
   "source": [
    "now.weekday()"
   ]
  },
  {
   "cell_type": "code",
   "execution_count": 11,
   "metadata": {},
   "outputs": [
    {
     "data": {
      "text/plain": [
       "14"
      ]
     },
     "execution_count": 11,
     "metadata": {},
     "output_type": "execute_result"
    }
   ],
   "source": [
    "now.hour"
   ]
  },
  {
   "cell_type": "code",
   "execution_count": 12,
   "metadata": {},
   "outputs": [
    {
     "data": {
      "text/plain": [
       "57"
      ]
     },
     "execution_count": 12,
     "metadata": {},
     "output_type": "execute_result"
    }
   ],
   "source": [
    "now.minute"
   ]
  },
  {
   "cell_type": "code",
   "execution_count": 13,
   "metadata": {},
   "outputs": [
    {
     "data": {
      "text/plain": [
       "33"
      ]
     },
     "execution_count": 13,
     "metadata": {},
     "output_type": "execute_result"
    }
   ],
   "source": [
    "now.second"
   ]
  },
  {
   "cell_type": "code",
   "execution_count": 14,
   "metadata": {},
   "outputs": [
    {
     "data": {
      "text/plain": [
       "589300"
      ]
     },
     "execution_count": 14,
     "metadata": {},
     "output_type": "execute_result"
    }
   ],
   "source": [
    "now.microsecond"
   ]
  },
  {
   "cell_type": "code",
   "execution_count": 15,
   "metadata": {},
   "outputs": [],
   "source": [
    "now.tzinfo"
   ]
  },
  {
   "cell_type": "code",
   "execution_count": 16,
   "metadata": {},
   "outputs": [
    {
     "data": {
      "text/plain": [
       "(2020, 17, 7)"
      ]
     },
     "execution_count": 16,
     "metadata": {},
     "output_type": "execute_result"
    }
   ],
   "source": [
    "now.isocalendar() # → (ISO年,ISO週番号,ISO曜日)"
   ]
  },
  {
   "cell_type": "markdown",
   "metadata": {},
   "source": [
    "## フォーマット"
   ]
  },
  {
   "cell_type": "code",
   "execution_count": 17,
   "metadata": {},
   "outputs": [
    {
     "name": "stdout",
     "output_type": "stream",
     "text": [
      "\n",
      "datetime    %c : Sun Apr 26 14:57:33 2020\n",
      "date        %D : 04/26/20 = %x\n",
      "            %F : 2020-04-26\n",
      "            %v : 26-Apr-2020\n",
      "time        %T : 14:57:33 = %X\n",
      "            %R : 14:57\n",
      "            %r : 02:57:33 PM\n",
      "century     %C : 20\n",
      "year        %Y : 2020\n",
      "            %y : 20\n",
      "ISO year    %G : 2020\n",
      "            %g : 20\n",
      "month       %b : Apr\n",
      "            %B : April\n",
      "            %m : 04\n",
      "day         %d : 26\n",
      "            %e : 26\n",
      "day/year    %j : 117\n",
      "weekday     %a : Sun\n",
      "            %A : Sunday\n",
      "            %w : 0\n",
      "            %u : 7\n",
      "ISO week    %V : 17\n",
      "week/year   %U : 17\n",
      "            %W : 16\n",
      "hour        %H : 14\n",
      "            %k : 14\n",
      "            %I : 02\n",
      "            %l :  2\n",
      "AM/PM       %p : PM\n",
      "minute      %M : 57\n",
      "second      %S : 33\n",
      "microsecond %f : 589300\n",
      "timezone    %Z : \n",
      "            %z : \n",
      "\n"
     ]
    }
   ],
   "source": [
    "print(now.strftime(\"\"\"\n",
    "datetime    %%c : %c\n",
    "date        %%D : %D = %%x\n",
    "            %%F : %F\n",
    "            %%v : %v\n",
    "time        %%T : %T = %%X\n",
    "            %%R : %R\n",
    "            %%r : %r\n",
    "century     %%C : %C\n",
    "year        %%Y : %Y\n",
    "            %%y : %y\n",
    "ISO year    %%G : %G\n",
    "            %%g : %g\n",
    "month       %%b : %b\n",
    "            %%B : %B\n",
    "            %%m : %m\n",
    "day         %%d : %d\n",
    "            %%e : %e\n",
    "day/year    %%j : %j\n",
    "weekday     %%a : %a\n",
    "            %%A : %A\n",
    "            %%w : %w\n",
    "            %%u : %u\n",
    "ISO week    %%V : %V\n",
    "week/year   %%U : %U\n",
    "            %%W : %W\n",
    "hour        %%H : %H\n",
    "            %%k : %k\n",
    "            %%I : %I\n",
    "            %%l : %l\n",
    "AM/PM       %%p : %p\n",
    "minute      %%M : %M\n",
    "second      %%S : %S\n",
    "microsecond %%f : %f\n",
    "timezone    %%Z : %Z\n",
    "            %%z : %z\n",
    "\"\"\"))"
   ]
  },
  {
   "cell_type": "markdown",
   "metadata": {},
   "source": [
    "`strftime` は本来\n",
    "```Python\n",
    "now.strftime(\"%H:%M\") → \"9:41\"\n",
    "f\"{now:%H:%M}\" → \"9:41\"\n",
    "```\n",
    "のように使う。ここでは対応しているトークンの一覧を表示している"
   ]
  },
  {
   "cell_type": "markdown",
   "metadata": {},
   "source": [
    "## 年の範囲"
   ]
  },
  {
   "cell_type": "code",
   "execution_count": 18,
   "metadata": {},
   "outputs": [
    {
     "data": {
      "text/plain": [
       "'1 ~ 9999'"
      ]
     },
     "execution_count": 18,
     "metadata": {},
     "output_type": "execute_result"
    }
   ],
   "source": [
    "f\"{datetime.MINYEAR} ~ {datetime.MAXYEAR}\""
   ]
  },
  {
   "cell_type": "markdown",
   "metadata": {},
   "source": [
    "## 所要時間"
   ]
  },
  {
   "cell_type": "code",
   "execution_count": 19,
   "metadata": {},
   "outputs": [],
   "source": [
    "en=dt.now()"
   ]
  },
  {
   "cell_type": "code",
   "execution_count": 20,
   "metadata": {},
   "outputs": [
    {
     "data": {
      "text/plain": [
       "'この処理に要した時間: 98106 マイクロ秒'"
      ]
     },
     "execution_count": 20,
     "metadata": {},
     "output_type": "execute_result"
    }
   ],
   "source": [
    "f\"この処理に要した時間: {(en-st).microseconds} マイクロ秒\""
   ]
  }
 ],
 "metadata": {
  "kernelspec": {
   "display_name": "Python",
   "language": "python",
   "name": "python3"
  },
  "language_info": {
   "codemirror_mode": {
    "name": "ipython",
    "version": 3
   },
   "file_extension": ".py",
   "mimetype": "text/x-python",
   "name": "python",
   "nbconvert_exporter": "python",
   "pygments_lexer": "ipython3",
   "version": "3.7.7"
  }
 },
 "nbformat": 4,
 "nbformat_minor": 4
}
