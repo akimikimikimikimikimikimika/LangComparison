{
 "cells": [
  {
   "cell_type": "markdown",
   "metadata": {},
   "source": [
    "# 色々な値"
   ]
  },
  {
   "cell_type": "markdown",
   "metadata": {},
   "source": [
    "## 文字列"
   ]
  },
  {
   "cell_type": "code",
   "execution_count": 1,
   "metadata": {},
   "outputs": [
    {
     "name": "stdout",
     "output_type": "stream",
     "text": [
      "パイソン\n"
     ]
    }
   ],
   "source": [
    "string = \"パイソン\"\n",
    "print(string)"
   ]
  },
  {
   "cell_type": "markdown",
   "metadata": {},
   "source": [
    "変数展開/式展開の仕方\n",
    "\n",
    "```Python\n",
    "f\"The value is {val*2}\"\n",
    "f'The value is {val*2}'\n",
    "\"The values are {0}, {1}, and {2}\".format(3,6,2)\n",
    "\"The values are {a}, {b}, and {c}\".format(a=3,b=6,c=2)\n",
    "\"The value is %d\" % val\n",
    "```\n",
    "\n",
    "5つ目の記法はCでお馴染みのフォーマット指定子を使う"
   ]
  },
  {
   "cell_type": "markdown",
   "metadata": {},
   "source": [
    "### 複数行"
   ]
  },
  {
   "cell_type": "code",
   "execution_count": 2,
   "metadata": {},
   "outputs": [
    {
     "name": "stdout",
     "output_type": "stream",
     "text": [
      "\n",
      "First line\n",
      "Second line\n",
      "Third line\n",
      "\n"
     ]
    }
   ],
   "source": [
    "lines = \"\"\"\n",
    "First line\n",
    "Second line\n",
    "Third line\n",
    "\"\"\"\n",
    "print(lines)"
   ]
  },
  {
   "cell_type": "markdown",
   "metadata": {},
   "source": [
    "## バイト"
   ]
  },
  {
   "cell_type": "code",
   "execution_count": 3,
   "metadata": {},
   "outputs": [
    {
     "name": "stdout",
     "output_type": "stream",
     "text": [
      "b'Python byte type'\n"
     ]
    }
   ],
   "source": [
    "byte = b\"Python byte type\"\n",
    "print(byte)"
   ]
  },
  {
   "cell_type": "markdown",
   "metadata": {},
   "source": [
    "バイトリテラルではASCII文字しか扱えない"
   ]
  },
  {
   "cell_type": "markdown",
   "metadata": {},
   "source": [
    "## 数値"
   ]
  },
  {
   "cell_type": "code",
   "execution_count": 4,
   "metadata": {},
   "outputs": [
    {
     "name": "stdout",
     "output_type": "stream",
     "text": [
      "6\n"
     ]
    }
   ],
   "source": [
    "integer = 6\n",
    "print(integer)"
   ]
  },
  {
   "cell_type": "code",
   "execution_count": 5,
   "metadata": {},
   "outputs": [
    {
     "name": "stdout",
     "output_type": "stream",
     "text": [
      "3.75e-08\n"
     ]
    }
   ],
   "source": [
    "floating = .0375e-6\n",
    "print(floating)"
   ]
  },
  {
   "cell_type": "code",
   "execution_count": 6,
   "metadata": {},
   "outputs": [
    {
     "name": "stdout",
     "output_type": "stream",
     "text": [
      "(3+1j)\n"
     ]
    }
   ],
   "source": [
    "comp = 3+1j\n",
    "print(comp)"
   ]
  },
  {
   "cell_type": "markdown",
   "metadata": {},
   "source": [
    "## 真偽値"
   ]
  },
  {
   "cell_type": "code",
   "execution_count": 7,
   "metadata": {},
   "outputs": [
    {
     "name": "stdout",
     "output_type": "stream",
     "text": [
      "True\n"
     ]
    }
   ],
   "source": [
    "boolean = True\n",
    "print(boolean)"
   ]
  },
  {
   "cell_type": "markdown",
   "metadata": {},
   "source": [
    "## 値なし"
   ]
  },
  {
   "cell_type": "code",
   "execution_count": 8,
   "metadata": {},
   "outputs": [
    {
     "name": "stdout",
     "output_type": "stream",
     "text": [
      "None\n"
     ]
    }
   ],
   "source": [
    "nil = None\n",
    "print(nil)"
   ]
  },
  {
   "cell_type": "markdown",
   "metadata": {},
   "source": [
    "## リスト\n",
    "mutable,主に同種の値の集合"
   ]
  },
  {
   "cell_type": "code",
   "execution_count": 9,
   "metadata": {},
   "outputs": [
    {
     "name": "stdout",
     "output_type": "stream",
     "text": [
      "[1, 'second', 3, 3.14, False]\n",
      "2番目: 3\n",
      "大きさ: 5\n"
     ]
    }
   ],
   "source": [
    "lis = [1, \"second\", 3, 3.14, False]\n",
    "print(lis)\n",
    "print(f\"2番目: {lis[2]}\")\n",
    "print(f\"大きさ: {len(lis)}\")"
   ]
  },
  {
   "cell_type": "markdown",
   "metadata": {},
   "source": [
    "## タプル\n",
    "immutable,主に異種の値の集合"
   ]
  },
  {
   "cell_type": "code",
   "execution_count": 10,
   "metadata": {},
   "outputs": [
    {
     "name": "stdout",
     "output_type": "stream",
     "text": [
      "(1, 'second', 3, 3.14, False)\n",
      "2番目: 3\n",
      "大きさ: 5\n"
     ]
    }
   ],
   "source": [
    "tup = (1, \"second\", 3, 3.14, False)\n",
    "print(tup)\n",
    "print(f\"2番目: {tup[2]}\")\n",
    "print(f\"大きさ: {len(tup)}\")"
   ]
  },
  {
   "cell_type": "markdown",
   "metadata": {},
   "source": [
    "* 要素が1つのタプルは `(1,)` のように表記する"
   ]
  },
  {
   "cell_type": "markdown",
   "metadata": {},
   "source": [
    "## 辞書"
   ]
  },
  {
   "cell_type": "code",
   "execution_count": 11,
   "metadata": {},
   "outputs": [
    {
     "name": "stdout",
     "output_type": "stream",
     "text": [
      "{'a': 1, 'b': 'second', 'c': 3, 'd': 3.14, 'e': False}\n",
      "b=second\n",
      "大きさ: 5\n"
     ]
    }
   ],
   "source": [
    "dictionary = {\n",
    "\t\"a\": 1,\n",
    "\t\"b\": \"second\",\n",
    "\t\"c\": 3,\n",
    "\t\"d\": 3.14,\n",
    "\t\"e\": False\n",
    "}\n",
    "print(dictionary)\n",
    "print(f\"b={dictionary['b']}\")\n",
    "print(f\"大きさ: {len(dictionary)}\")"
   ]
  },
  {
   "cell_type": "markdown",
   "metadata": {},
   "source": [
    "## 範囲"
   ]
  },
  {
   "cell_type": "code",
   "execution_count": 12,
   "metadata": {},
   "outputs": [
    {
     "name": "stdout",
     "output_type": "stream",
     "text": [
      "range(5, 8)\n"
     ]
    }
   ],
   "source": [
    "ranE = range(5,8) # 5≦x<8\n",
    "print(ranE)"
   ]
  },
  {
   "cell_type": "markdown",
   "metadata": {},
   "source": [
    "通常,範囲は`n`以上`m`未満の形で指定するのだが…  \n",
    "`random.randint(5,8)` は, 5≦x≦8 である"
   ]
  },
  {
   "cell_type": "markdown",
   "metadata": {},
   "source": [
    "## 型判定\n",
    "* `type(val)` -> `Type` : 値の型のオブジェクトが返される  \n",
    "\t例えば, type(val) is str などとすれば,valがstr型かどうか判定できる\n",
    "* `isinstance(val,type)` -> `bool` : 値が指定したクラス型かどうか判定  \n",
    "\tサブクラスであっても真になる"
   ]
  },
  {
   "cell_type": "markdown",
   "metadata": {},
   "source": [
    "## 型変換\n",
    "\n",
    "### `str()`,`int()`,`float()`,`complex()`,`bool()` など\n",
    "* 様々な値を柔軟に型変換してくれる\n",
    "* 特に数値系の関数に文字列を代入する際,文字列が全角数字を含んでいても変換できる (マイナス符号,小数点は変換できないようである)"
   ]
  }
 ],
 "metadata": {
  "kernelspec": {
   "display_name": "Python",
   "language": "python",
   "name": "python3"
  },
  "language_info": {
   "codemirror_mode": {
    "name": "ipython",
    "version": 3
   },
   "file_extension": ".py",
   "mimetype": "text/x-python",
   "name": "python",
   "nbconvert_exporter": "python",
   "pygments_lexer": "ipython3",
   "version": "3.7.7"
  }
 },
 "nbformat": 4,
 "nbformat_minor": 4
}
