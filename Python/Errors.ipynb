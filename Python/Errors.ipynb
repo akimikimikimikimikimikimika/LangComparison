{
 "cells": [
  {
   "cell_type": "markdown",
   "metadata": {},
   "source": [
    "# 例外処理"
   ]
  },
  {
   "cell_type": "code",
   "execution_count": 1,
   "metadata": {},
   "outputs": [
    {
     "name": "stdout",
     "output_type": "stream",
     "text": [
      "エラーが発生しました\n",
      "エラー内容: あなたは過ちを犯した!!\n",
      "以上でエラーチェックを終了します\n"
     ]
    }
   ],
   "source": [
    "try:\n",
    "\t# try節内で起こりうる例外は捕捉される\n",
    "\traise BaseException(\"あなたは過ちを犯した!!\") # 例外の発生 (例外が発生した時点で,それ以降の行は実行しない)\n",
    "\tprint(\"この行は実行されない\")\n",
    "except BaseException as e: # エラー型BaseExceptionのエラー e を受け取る\n",
    "\t# 例外をキャッチすればexcept節が実行される\n",
    "\tprint(\"エラーが発生しました\")\n",
    "\tprint(f\"エラー内容: {e}\")\n",
    "else:\n",
    "\t# 例外をキャッチしなければelse節が実行される\n",
    "\tprint(\"エラーは発生しませんでした\")\n",
    "finally:\n",
    "\t# 最後にfinally節が実行される\n",
    "\tprint(\"以上でエラーチェックを終了します\")"
   ]
  },
  {
   "cell_type": "markdown",
   "metadata": {},
   "source": [
    "* `try` に対応して,`except` か `finally` のどちらか一方は最低限必要である\n",
    "* `else` 節を設けるには`except` 節が必要である"
   ]
  }
 ],
 "metadata": {
  "kernelspec": {
   "display_name": "Python",
   "language": "python",
   "name": "python3"
  },
  "language_info": {
   "codemirror_mode": {
    "name": "ipython",
    "version": 3
   },
   "file_extension": ".py",
   "mimetype": "text/x-python",
   "name": "python",
   "nbconvert_exporter": "python",
   "pygments_lexer": "ipython3",
   "version": "3.8.1"
  }
 },
 "nbformat": 4,
 "nbformat_minor": 4
}
