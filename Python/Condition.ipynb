{
 "cells": [
  {
   "cell_type": "markdown",
   "metadata": {},
   "source": [
    "# 条件分岐"
   ]
  },
  {
   "cell_type": "code",
   "execution_count": 1,
   "metadata": {},
   "outputs": [],
   "source": [
    "test1 = True\n",
    "test2 = False"
   ]
  },
  {
   "cell_type": "code",
   "execution_count": 2,
   "metadata": {},
   "outputs": [
    {
     "name": "stdout",
     "output_type": "stream",
     "text": [
      "どうやらtest1は真のようです\n"
     ]
    }
   ],
   "source": [
    "if test1:\n",
    "\tprint(\"どうやらtest1は真のようです\")"
   ]
  },
  {
   "cell_type": "code",
   "execution_count": 3,
   "metadata": {},
   "outputs": [
    {
     "name": "stdout",
     "output_type": "stream",
     "text": [
      "真偽が混在しているようです\n"
     ]
    }
   ],
   "source": [
    "if not test1:\n",
    "\tprint(\"どうやらtest1は偽のようです\")\n",
    "elif test2:\n",
    "\tprint(\"どうやらtest2は真のようです\")\n",
    "elif not test2 and test1:\n",
    "\tprint(\"真偽が混在しているようです\")\n",
    "else:\n",
    "\tprint(\"どれでもないようです\")"
   ]
  }
 ],
 "metadata": {
  "kernelspec": {
   "display_name": "Python",
   "language": "python",
   "name": "python3"
  },
  "language_info": {
   "codemirror_mode": {
    "name": "ipython",
    "version": 3
   },
   "file_extension": ".py",
   "mimetype": "text/x-python",
   "name": "python",
   "nbconvert_exporter": "python",
   "pygments_lexer": "ipython3",
   "version": "3.8.1"
  }
 },
 "nbformat": 4,
 "nbformat_minor": 4
}
