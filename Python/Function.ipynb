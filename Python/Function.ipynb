{
 "cells": [
  {
   "cell_type": "markdown",
   "metadata": {},
   "source": [
    "# 関数"
   ]
  },
  {
   "cell_type": "markdown",
   "metadata": {},
   "source": [
    "## 関数"
   ]
  },
  {
   "cell_type": "code",
   "execution_count": 1,
   "metadata": {},
   "outputs": [
    {
     "name": "stdout",
     "output_type": "stream",
     "text": [
      "<function cube at 0x1124a4b00>\n",
      "216\n"
     ]
    }
   ],
   "source": [
    "def cube(val):\n",
    "\treturn val ** 3\n",
    "print(cube)\n",
    "print(cube(6))"
   ]
  },
  {
   "cell_type": "markdown",
   "metadata": {},
   "source": [
    "## ラムダ (無名関数)"
   ]
  },
  {
   "cell_type": "code",
   "execution_count": 2,
   "metadata": {},
   "outputs": [
    {
     "name": "stdout",
     "output_type": "stream",
     "text": [
      "<function <lambda> at 0x1124a48c0>\n",
      "36\n"
     ]
    }
   ],
   "source": [
    "func = lambda val: val ** 2\n",
    "print(func)\n",
    "print(func(6))"
   ]
  },
  {
   "cell_type": "markdown",
   "metadata": {},
   "source": [
    "## デフォルト引数\n",
    "\n",
    "次のように引数がデフォルト値を持った関数が作れる\n",
    "```Python\n",
    "def funcName(arg1=\"val1\",arg2=\"val2\",arg3=\"val3\",...):\n",
    "\t...\n",
    "```\n",
    "関数を実行する場合,通常は引数の省略はエラーになるが,デフォルト値を持つ引数は省略可能である"
   ]
  },
  {
   "cell_type": "markdown",
   "metadata": {},
   "source": [
    "## キーワード引数\n",
    "\n",
    "Pythonにはしばしば引数がかなり多い関数もあり,それらには大概デフォルト引数が与えられている\n",
    "```Python\n",
    "def funcName(arg1=\"val1\",arg2=\"val2\",arg3=\"val3\",...):\n",
    "\t...\n",
    "```\n",
    "これを実行する際,引数名を指定することにより特定の引数のみを指定することもできる\n",
    "```Python\n",
    "funcName(arg3=\"customValue3\",arg5=\"customValue5\")\n",
    "```"
   ]
  },
  {
   "cell_type": "markdown",
   "metadata": {},
   "source": [
    "## 可変個引数\n",
    "\n",
    "残りの引数をタプル形式でまとめて受け取れる\n",
    "```Python\n",
    "def funcName(arg1,arg2,*args):\n",
    "\t...\n",
    "\t# args = (arg3,arg4...) : タプル\n",
    "```\n",
    "\n",
    "キーワード引数をまとめて辞書形式で受け取ることができる\n",
    "```Python\n",
    "def funcName(arg1,arg2,*args,**kwargs):\n",
    "\t...\n",
    "\t# kwargs = {arg5:\"val5\",arg6:\"val6\"...) : タプル\n",
    "```\n",
    "\n",
    "又,関数を実行する際,配列,タプルの各要素をそのまま関数の引数とすることもできる\n",
    "```Python\n",
    "args = [arg1,arg2,arg3] # 配列argsを用意\n",
    "funcName(*args) # = funcName(arg1,arg2,arg3)\n",
    "```"
   ]
  },
  {
   "cell_type": "markdown",
   "metadata": {},
   "source": [
    "\n",
    "## `pass`\n",
    "Pythonでは関数,制御構文,繰り返しなどで,インデントによりその守備範囲を定めることがある  \n",
    "インデント内の内容がない場合は, `pass` と明記しなければならない  \n",
    "例えば,何もしない関数であれば...\n",
    "```Python\n",
    "def doNothing():\n",
    "\tpass\n",
    "```\n",
    "インデント内の内容を `pass` にしなければならない  \n",
    "同じように,制御構文でも...\n",
    "```Python\n",
    "if statement:\n",
    "\tpass\n",
    "```\n",
    "とする。"
   ]
  }
 ],
 "metadata": {
  "kernelspec": {
   "display_name": "Python",
   "language": "python",
   "name": "python3"
  },
  "language_info": {
   "codemirror_mode": {
    "name": "ipython",
    "version": 3
   },
   "file_extension": ".py",
   "mimetype": "text/x-python",
   "name": "python",
   "nbconvert_exporter": "python",
   "pygments_lexer": "ipython3",
   "version": "3.7.7"
  }
 },
 "nbformat": 4,
 "nbformat_minor": 4
}
