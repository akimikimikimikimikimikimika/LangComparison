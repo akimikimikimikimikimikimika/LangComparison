{
 "cells": [
  {
   "cell_type": "markdown",
   "metadata": {},
   "source": [
    "# 繰り返し処理"
   ]
  },
  {
   "cell_type": "markdown",
   "metadata": {},
   "source": [
    "* `for n in range(0,3): … else: …`"
   ]
  },
  {
   "cell_type": "code",
   "execution_count": 1,
   "metadata": {},
   "outputs": [
    {
     "name": "stdout",
     "output_type": "stream",
     "text": [
      "n=0 のループ\n",
      "n=1 のループ\n",
      "n=2 のループ\n",
      "これでループは終わり\n"
     ]
    }
   ],
   "source": [
    "for n in range(0,3):\n",
    "\tprint(f\"n={n} のループ\")\n",
    "else:\n",
    "\tprint(\"これでループは終わり\")"
   ]
  },
  {
   "cell_type": "markdown",
   "metadata": {},
   "source": [
    "* `for c in array: … else: …`"
   ]
  },
  {
   "cell_type": "code",
   "execution_count": 2,
   "metadata": {},
   "outputs": [
    {
     "name": "stdout",
     "output_type": "stream",
     "text": [
      "c=\"壱\" のループ\n",
      "c=\"弐\" のループ\n",
      "c=\"参\" のループ\n",
      "これでループは終わり\n"
     ]
    }
   ],
   "source": [
    "cs=(\"壱\",\"弐\",\"参\")\n",
    "for c in cs:\n",
    "\tprint(f\"c=\\\"{c}\\\" のループ\")\n",
    "else:\n",
    "\tprint(\"これでループは終わり\")"
   ]
  },
  {
   "cell_type": "markdown",
   "metadata": {},
   "source": [
    "* `while ~: … else: …`"
   ]
  },
  {
   "cell_type": "code",
   "execution_count": 3,
   "metadata": {},
   "outputs": [
    {
     "name": "stdout",
     "output_type": "stream",
     "text": [
      "*\n",
      "**\n",
      "***\n",
      "****\n",
      "*****\n",
      "******\n",
      "++++++\n"
     ]
    }
   ],
   "source": [
    "string=\"\"\n",
    "while len(string)<6:\n",
    "\tstring+=\"*\"\n",
    "\tprint(string)\n",
    "else:\n",
    "\tprint(\"++++++\")"
   ]
  }
 ],
 "metadata": {
  "kernelspec": {
   "display_name": "Python",
   "language": "python",
   "name": "python3"
  },
  "language_info": {
   "codemirror_mode": {
    "name": "ipython",
    "version": 3
   },
   "file_extension": ".py",
   "mimetype": "text/x-python",
   "name": "python",
   "nbconvert_exporter": "python",
   "pygments_lexer": "ipython3",
   "version": "3.8.1"
  }
 },
 "nbformat": 4,
 "nbformat_minor": 4
}
