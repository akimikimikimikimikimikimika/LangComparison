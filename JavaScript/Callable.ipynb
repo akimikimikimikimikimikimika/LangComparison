{
 "cells": [
  {
   "cell_type": "markdown",
   "metadata": {},
   "source": [
    "# コーラブル"
   ]
  },
  {
   "cell_type": "markdown",
   "metadata": {},
   "source": [
    "## 関数"
   ]
  },
  {
   "cell_type": "markdown",
   "metadata": {},
   "source": [
    "### 通常の関数"
   ]
  },
  {
   "cell_type": "code",
   "execution_count": 1,
   "metadata": {},
   "outputs": [
    {
     "name": "stdout",
     "output_type": "stream",
     "text": [
      "[Function: cube]\n"
     ]
    },
    {
     "data": {
      "text/plain": [
       "216"
      ]
     },
     "execution_count": 1,
     "metadata": {},
     "output_type": "execute_result"
    }
   ],
   "source": [
    "function cube(val) {\n",
    "\treturn val**3;\n",
    "};\n",
    "\n",
    "console.log(cube);\n",
    "\n",
    "cube(6);"
   ]
  },
  {
   "cell_type": "markdown",
   "metadata": {},
   "source": [
    "### クロージャ (無名関数)"
   ]
  },
  {
   "cell_type": "code",
   "execution_count": 2,
   "metadata": {},
   "outputs": [
    {
     "name": "stdout",
     "output_type": "stream",
     "text": [
      "[Function: func1]\n"
     ]
    },
    {
     "data": {
      "text/plain": [
       "36"
      ]
     },
     "execution_count": 2,
     "metadata": {},
     "output_type": "execute_result"
    }
   ],
   "source": [
    "let func1 = function(val) {\n",
    "\treturn val**2;\n",
    "};\n",
    "\n",
    "console.log(func1);\n",
    "\n",
    "func1(6);"
   ]
  },
  {
   "cell_type": "code",
   "execution_count": 3,
   "metadata": {},
   "outputs": [
    {
     "name": "stdout",
     "output_type": "stream",
     "text": [
      "[Function: anonymous]\n"
     ]
    },
    {
     "data": {
      "text/plain": [
       "36"
      ]
     },
     "execution_count": 3,
     "metadata": {},
     "output_type": "execute_result"
    }
   ],
   "source": [
    "let func2 = new Function(\"val\",\"return val**2\"); // new Function(受け取る引数..., 関数の内容);\n",
    "\n",
    "console.log(func2);\n",
    "\n",
    "func2(6);"
   ]
  },
  {
   "cell_type": "code",
   "execution_count": 4,
   "metadata": {},
   "outputs": [
    {
     "name": "stdout",
     "output_type": "stream",
     "text": [
      "[Function: func3]\n"
     ]
    },
    {
     "data": {
      "text/plain": [
       "36"
      ]
     },
     "execution_count": 4,
     "metadata": {},
     "output_type": "execute_result"
    }
   ],
   "source": [
    "let func3 = (val) => {\n",
    "\treturn val**2;\n",
    "};\n",
    "\n",
    "console.log(func3);\n",
    "\n",
    "func3(6);"
   ]
  },
  {
   "cell_type": "markdown",
   "metadata": {},
   "source": [
    "3つ目のような表記はアロー関数(`=>`)と呼ばれている。  \n",
    "今回の平方を求める関数の場合,アロー関数は次のように簡略化できる。\n",
    "\n",
    "* 引数が1個の場合,引数を括弧で括る必要はない (引数が0又は2以上の時は必要)\n",
    "\t```JavaScript\n",
    "\tval=>{\n",
    "\t\treturn val**2;\n",
    "\t};\n",
    "\t```\n",
    "\n",
    "* 関数本文が1行の場合,波括弧で括る必要はない。この時,実行内容は関数の戻り値となる\n",
    "\t```JavaScript\n",
    "\t(val)=>val**2;\n",
    "\t```\n",
    "\t但し,オブジェクトを返す場合は,括弧で括る必要がある : `(args...)=>({keys:values})`\n",
    "\n",
    "* メソッドとしてアロー関数を指定する場合は, `this` が当該オブジェクトを指さないことに注意しなければならない。  \n",
    "\t又,狭い範囲で変数を利用するためのブロックとして,以下のような即時実行関数の表記がしばしば採られる。\n",
    "\t```JavaScript\n",
    "\t(()=>{\n",
    "\t\t// ブロックの内容\n",
    "\t})();\n",
    "\t```"
   ]
  },
  {
   "cell_type": "markdown",
   "metadata": {},
   "source": [
    "## 文字列をJavaScriptコードとして実行\n",
    "\n",
    "### `eval(jsSource)` -> `value?`\n",
    "\n",
    "* `jsSource` に記載したJavaScriptコードを実行する\n",
    "* ソース中の最終行の値が `eval` から返される\n",
    "* 外の変数を `eval` 内で参照したり, `eval` 内の変数を外から参照することもできる"
   ]
  }
 ],
 "metadata": {
  "kernelspec": {
   "display_name": "JavaScript",
   "language": "javascript",
   "name": "javascript"
  },
  "language_info": {
   "file_extension": ".js",
   "mimetype": "application/javascript",
   "name": "javascript",
   "version": "14.6.0"
  }
 },
 "nbformat": 4,
 "nbformat_minor": 4
}
