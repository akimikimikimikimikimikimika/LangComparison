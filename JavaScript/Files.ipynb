{
 "cells": [
  {
   "cell_type": "markdown",
   "metadata": {},
   "source": [
    "# ファイル操作"
   ]
  },
  {
   "cell_type": "code",
   "execution_count": 1,
   "metadata": {},
   "outputs": [],
   "source": [
    "const\n",
    "fs = require(\"fs\"), // 又は require(\"fs-extra\")\n",
    "os = require(\"os\"),\n",
    "process = require(\"process\"),\n",
    "child_process = require(\"child_process\");"
   ]
  },
  {
   "cell_type": "markdown",
   "metadata": {},
   "source": [
    "Node.js ではファイル操作をする関数が同期処理用と非同期処理用の2つが用意されている。\n",
    "非同期処理用のものは,その関数を実行した直後の行から,関数内の処理内容と並列的に進行する。関数を実行し終えた後に実行したい内容は,関数にコールバック関数として渡す。\n",
    "同期処理用のものは,その関数を実行した時点で,その直後の行以降の内容は一旦中断される。関数を実行し終えてから直後の行から実行を再開する。\n",
    "```JavaScript\n",
    "mkdir(path,callbackFn) // 非同期処理用関数\n",
    "mkdirSync(path) // 同期処理用関数\n",
    "```"
   ]
  },
  {
   "cell_type": "markdown",
   "metadata": {},
   "source": [
    "`fs-extra` は `fs` の上位互換 (`fs` の機能は全て `fs-extra` に含まれている) であり,こちらを使うことで, `fs` にない機能が提供される。  \n",
    "しかし,こちらは標準搭載されていないので, `npm install fs-extra` でインストールする必要がある。  \n",
    "以後, `fs-extra` が必要な機能は `only in fs-extra` と表記する"
   ]
  },
  {
   "cell_type": "markdown",
   "metadata": {},
   "source": [
    "* カレントディレクトリをホームに変更"
   ]
  },
  {
   "cell_type": "code",
   "execution_count": 2,
   "metadata": {},
   "outputs": [],
   "source": [
    "process.chdir(os.homedir());"
   ]
  },
  {
   "cell_type": "markdown",
   "metadata": {},
   "source": [
    "## ファイル/フォルダ/シンボリックリンクの作成"
   ]
  },
  {
   "cell_type": "markdown",
   "metadata": {},
   "source": [
    "* Emptyという空フォルダを作成"
   ]
  },
  {
   "cell_type": "code",
   "execution_count": 3,
   "metadata": {},
   "outputs": [],
   "source": [
    "fs.mkdirSync(\"Empty\");"
   ]
  },
  {
   "cell_type": "markdown",
   "metadata": {},
   "source": [
    "* 一時ディレクトリの場合\n",
    "```JavaScript\n",
    "let t=os.tmpdir();\n",
    "path.join(t,fs.mkdtempSync(process.pid)) // ディレクトリのパス\n",
    "```"
   ]
  },
  {
   "cell_type": "markdown",
   "metadata": {},
   "source": [
    "* Blankという空ファイルを作成"
   ]
  },
  {
   "cell_type": "code",
   "execution_count": 4,
   "metadata": {},
   "outputs": [],
   "source": [
    "// writeFileは既にファイルが存在していれば置換する。\n",
    "fs.writeFileSync(\"Blank\",\"\");"
   ]
  },
  {
   "cell_type": "markdown",
   "metadata": {},
   "source": [
    "* フォルダEmptyの中にファイルBlankのシンボリックリンクSymlinkを作成"
   ]
  },
  {
   "cell_type": "code",
   "execution_count": 5,
   "metadata": {},
   "outputs": [],
   "source": [
    "fs.symlinkSync(\"Blank\",\"Empty/Symlink\");"
   ]
  },
  {
   "cell_type": "markdown",
   "metadata": {},
   "source": [
    "- ハードリンクの場合\n",
    "```JavaScript\n",
    "fs.linkSync(\"Blank\",\"Empty/Symlink\");\n",
    "```"
   ]
  },
  {
   "cell_type": "markdown",
   "metadata": {},
   "source": [
    "- `fs.symlinkSync(target,dst,type)`  \n",
    "\t`type` はWindowsのみ影響のある引数 (他のOSでは無視される)\n",
    "\t`\"file\"`,`\"dir\"`,`\"junction\"` のうちから選択する\n",
    "\t`\"file\"`,`\"dir\"` の場合は引数がなくても `target` 引数の指し示すものから自動的に判別する"
   ]
  },
  {
   "cell_type": "markdown",
   "metadata": {},
   "source": [
    "## 書込み\n",
    "* Untitled.mdというMarkdownファイルを作成して書込み"
   ]
  },
  {
   "cell_type": "code",
   "execution_count": 6,
   "metadata": {},
   "outputs": [],
   "source": [
    "fs.writeFileSync(\"Untitled.md\",\"# Header 1\");"
   ]
  },
  {
   "cell_type": "markdown",
   "metadata": {},
   "source": [
    "## 移動/名称変更"
   ]
  },
  {
   "cell_type": "markdown",
   "metadata": {},
   "source": [
    "* フォルダEmptyをPackageに名称変更"
   ]
  },
  {
   "cell_type": "code",
   "execution_count": 7,
   "metadata": {},
   "outputs": [],
   "source": [
    "fs.renameSync(\"Empty\",\"Package\");"
   ]
  },
  {
   "cell_type": "markdown",
   "metadata": {},
   "source": [
    "* Packageフォルダ内のSymlinkファイルをAliasに名称変更"
   ]
  },
  {
   "cell_type": "code",
   "execution_count": 8,
   "metadata": {},
   "outputs": [],
   "source": [
    "fs.renameSync(\"Package/Symlink\",\"Package/Alias\");"
   ]
  },
  {
   "cell_type": "markdown",
   "metadata": {},
   "source": [
    "* Untitled.mdを移動して,名称変更"
   ]
  },
  {
   "cell_type": "code",
   "execution_count": 9,
   "metadata": {},
   "outputs": [],
   "source": [
    "fs.renameSync(\"Untitled.md\",\"Package/Headers.md\");"
   ]
  },
  {
   "cell_type": "markdown",
   "metadata": {},
   "source": [
    "## 追記\n",
    "* Markdownファイルに追記"
   ]
  },
  {
   "cell_type": "code",
   "execution_count": 10,
   "metadata": {},
   "outputs": [],
   "source": [
    "fs.appendFileSync(\n",
    "\t\"Package/Headers.md\",\n",
    "\tos.EOL+\"## Header 2\"+os.EOL+\"### Header 3\"\n",
    ");"
   ]
  },
  {
   "cell_type": "markdown",
   "metadata": {},
   "source": [
    "## 読込み\n",
    "* Markdownファイルを読込み"
   ]
  },
  {
   "cell_type": "code",
   "execution_count": 11,
   "metadata": {},
   "outputs": [
    {
     "data": {
      "text/plain": [
       "'# Header 1\\n## Header 2\\n### Header 3'"
      ]
     },
     "execution_count": 11,
     "metadata": {},
     "output_type": "execute_result"
    }
   ],
   "source": [
    "fs.readFileSync(\"Package/Headers.md\",\"utf-8\");"
   ]
  },
  {
   "cell_type": "markdown",
   "metadata": {},
   "source": [
    "- オプションで `\"utf-8\"` を指定しないとバッファデータが返される"
   ]
  },
  {
   "cell_type": "markdown",
   "metadata": {},
   "source": [
    "## 再帰的にフォルダ作成\n",
    "* フォルダを一気に作成"
   ]
  },
  {
   "cell_type": "code",
   "execution_count": 12,
   "metadata": {},
   "outputs": [
    {
     "data": {
      "text/plain": [
       "'Package/Module'"
      ]
     },
     "execution_count": 12,
     "metadata": {},
     "output_type": "execute_result"
    }
   ],
   "source": [
    "fs.mkdirSync(\"Package/Module/Submodule/Item\",{recursive:true});\n",
    "// fs.mkdirsSync(\"Package/Module/Submodule/Item\"); // only in fs-extra"
   ]
  },
  {
   "cell_type": "markdown",
   "metadata": {},
   "source": [
    "- `mkdirSync` のオプションで `recursive:true` とすることで,作成するフォルダItemの上位フォルダModule,Submoduleが存在していなくても,同時に生成される"
   ]
  },
  {
   "cell_type": "markdown",
   "metadata": {},
   "source": [
    "## ディレクトリの内容を表示"
   ]
  },
  {
   "cell_type": "code",
   "execution_count": 13,
   "metadata": {},
   "outputs": [
    {
     "data": {
      "text/plain": [
       "[ 'Alias', 'Headers.md', 'Module' ]"
      ]
     },
     "execution_count": 13,
     "metadata": {},
     "output_type": "execute_result"
    }
   ],
   "source": [
    "fs.readdirSync(\"Package\");"
   ]
  },
  {
   "cell_type": "markdown",
   "metadata": {},
   "source": [
    "- ワイルドカードを使って,条件を満たすファイルを見つけ出す場合は\n",
    "\n",
    "```JavaScript\n",
    "const glob=require(\"glob\");\n",
    "glob.sync(\"*.md\");\n",
    "```\n",
    "* 非同期の場合は `glob(\"*.md\",callbackFn)` とする\n",
    "* `glob` は標準ではないので, `npm install glob` でインストールする"
   ]
  },
  {
   "cell_type": "markdown",
   "metadata": {},
   "source": [
    "## ファイル/フォルダの複製\n",
    "* BlankとModuleを複製"
   ]
  },
  {
   "cell_type": "code",
   "execution_count": 14,
   "metadata": {},
   "outputs": [],
   "source": [
    "fs.copyFileSync(\"Blank\",\"Package/Blank\");\n",
    "// fs.copySync(\"Package/Module\",\"Package/Module Copy\"); // only in fs-extra"
   ]
  },
  {
   "cell_type": "markdown",
   "metadata": {},
   "source": [
    "- `fs.copySync` を用いることで,フォルダ内の内容もまとめて複製できる"
   ]
  },
  {
   "cell_type": "markdown",
   "metadata": {},
   "source": [
    "## ファイル/フォルダの削除"
   ]
  },
  {
   "cell_type": "markdown",
   "metadata": {},
   "source": [
    "* ファイルBlankを削除"
   ]
  },
  {
   "cell_type": "code",
   "execution_count": 15,
   "metadata": {},
   "outputs": [],
   "source": [
    "fs.unlinkSync(\"Blank\");"
   ]
  },
  {
   "cell_type": "markdown",
   "metadata": {},
   "source": [
    "* シンボリックリンクAliasを削除"
   ]
  },
  {
   "cell_type": "code",
   "execution_count": 16,
   "metadata": {},
   "outputs": [],
   "source": [
    "fs.unlinkSync(\"Package/Alias\");"
   ]
  },
  {
   "cell_type": "markdown",
   "metadata": {},
   "source": [
    "* フォルダModuleを削除"
   ]
  },
  {
   "cell_type": "code",
   "execution_count": 17,
   "metadata": {},
   "outputs": [],
   "source": [
    "// fs.removeSync(\"Package/Module\"); // only in fs-extra"
   ]
  },
  {
   "cell_type": "markdown",
   "metadata": {},
   "source": [
    "- 空のフォルダは `fs.rmdirSync` で削除できる。空でない場合は削除できない。  \n",
    "\t`FileUtils.rm_rf` を使えば,空でなくても削除できる\n",
    "\t`fs.rmdirSync` をファイルやシンボリックリンクに, `fs.unlinkSync` をフォルダに使うことはできない"
   ]
  },
  {
   "cell_type": "markdown",
   "metadata": {},
   "source": [
    "## 権限を確認/変更"
   ]
  },
  {
   "cell_type": "markdown",
   "metadata": {},
   "source": [
    "* 状態を確認する関数"
   ]
  },
  {
   "cell_type": "code",
   "execution_count": 18,
   "metadata": {},
   "outputs": [],
   "source": [
    "let check=pt=>{\n",
    "\n",
    "\tconsole.log(fs.existsSync(pt) ? \"存在しています\" : \"存在していません\");\n",
    "\n",
    "\tif (fs.existsSync(pt)) {\n",
    "\t\tlet stat=fs.statSync(pt);\n",
    "\t\tif (stat.isSymbolicLink()) {\n",
    "\t\t\tconsole.log(\"シンボリックリンクです\");\n",
    "\t\t\tconsole.log(`リンク先: ${fs.readlinkSync(pt)}`);\n",
    "\t\t\tif (stat.isFile()) console.log(\"リンク先はファイルです\");\n",
    "\t\t\tif (stat.isDirectory()) console.log(\"リンク先はフォルダです\");\n",
    "\t\t}\n",
    "\t\telse {\n",
    "\t\t\tif (stat.isFile()) console.log(\"ファイルです\");\n",
    "\t\t\tif (stat.isDirectory()) console.log(\"フォルダです\");\n",
    "\t\t}\n",
    "\t\tif (stat.mode & fs.constants.S_IRUSR) console.log(\"読込可能です\");\n",
    "\t\tif (stat.mode & fs.constants.S_IWUSR) console.log(\"書込可能です\");\n",
    "\t\tif (stat.mode & fs.constants.S_IXUSR) console.log(\"実行可能です\");\n",
    "\t}\n",
    "\n",
    "};"
   ]
  },
  {
   "cell_type": "markdown",
   "metadata": {},
   "source": [
    "* Markdownファイルの現在の状態を確認"
   ]
  },
  {
   "cell_type": "code",
   "execution_count": 19,
   "metadata": {},
   "outputs": [
    {
     "name": "stdout",
     "output_type": "stream",
     "text": [
      "存在しています\n",
      "ファイルです\n",
      "読込可能です\n",
      "書込可能です\n"
     ]
    }
   ],
   "source": [
    "check(\"Package/Headers.md\");"
   ]
  },
  {
   "cell_type": "markdown",
   "metadata": {},
   "source": [
    "* 読込/書込権限を剥奪"
   ]
  },
  {
   "cell_type": "code",
   "execution_count": 20,
   "metadata": {},
   "outputs": [],
   "source": [
    "fs.chmodSync(\"Package/Headers.md\",0o044);"
   ]
  },
  {
   "cell_type": "markdown",
   "metadata": {},
   "source": [
    "* 状態を確認"
   ]
  },
  {
   "cell_type": "code",
   "execution_count": 21,
   "metadata": {},
   "outputs": [
    {
     "name": "stdout",
     "output_type": "stream",
     "text": [
      "存在しています\n",
      "ファイルです\n"
     ]
    }
   ],
   "source": [
    "check(\"Package/Headers.md\");"
   ]
  },
  {
   "cell_type": "markdown",
   "metadata": {},
   "source": [
    "* 読込/実行権限を付加"
   ]
  },
  {
   "cell_type": "code",
   "execution_count": 22,
   "metadata": {},
   "outputs": [],
   "source": [
    "fs.chmodSync(\"Package/Headers.md\",0o544);"
   ]
  },
  {
   "cell_type": "markdown",
   "metadata": {},
   "source": [
    "* 状態を確認"
   ]
  },
  {
   "cell_type": "code",
   "execution_count": 23,
   "metadata": {},
   "outputs": [
    {
     "name": "stdout",
     "output_type": "stream",
     "text": [
      "存在しています\n",
      "ファイルです\n",
      "読込可能です\n",
      "実行可能です\n"
     ]
    }
   ],
   "source": [
    "check(\"Package/Headers.md\");"
   ]
  },
  {
   "cell_type": "markdown",
   "metadata": {},
   "source": [
    "- `fs.chmodSync` は数値により権限を指定する\n",
    "\t* 4: 読込可能 (Readable)\n",
    "\t* 2: 書込可能 (Writable)\n",
    "\t* 1: 実行可能 (eXecutable)\n",
    "\n",
    "- これらの和を3つ並べて指定する。  \n",
    "    1つ目はユーザの権限,2つ目はゲストの権限,3つ目はその他の者の権限である。  \n",
    "\tJavaScriptでは8進数で表記するために,前に `0o` を付加する\n",
    "\n",
    "\te.g. `fs.chmodSync(somefile,0o754)`\n",
    "\t* ユーザは 7 = 4+2+1 だから,読込可能,書込可能,実行可能\n",
    "\t* ゲストは 5 = 4 + 1 だから,読込可能,実行可能\n",
    "\t* その他は 4 だから,読込のみ可能"
   ]
  }
 ],
 "metadata": {
  "kernelspec": {
   "display_name": "JavaScript",
   "language": "javascript",
   "name": "javascript"
  },
  "language_info": {
   "file_extension": ".js",
   "mimetype": "application/javascript",
   "name": "javascript",
   "version": "14.5.0"
  }
 },
 "nbformat": 4,
 "nbformat_minor": 4
}
