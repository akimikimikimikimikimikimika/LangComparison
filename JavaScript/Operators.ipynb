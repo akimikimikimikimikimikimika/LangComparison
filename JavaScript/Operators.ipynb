{
 "cells": [
  {
   "cell_type": "markdown",
   "metadata": {},
   "source": [
    "# 演算子"
   ]
  },
  {
   "cell_type": "markdown",
   "metadata": {},
   "source": [
    "## 算術演算子"
   ]
  },
  {
   "cell_type": "code",
   "execution_count": 1,
   "metadata": {},
   "outputs": [
    {
     "data": {
      "text/plain": [
       "29"
      ]
     },
     "execution_count": 1,
     "metadata": {},
     "output_type": "execute_result"
    }
   ],
   "source": [
    "24  + 5"
   ]
  },
  {
   "cell_type": "code",
   "execution_count": 2,
   "metadata": {},
   "outputs": [
    {
     "data": {
      "text/plain": [
       "19"
      ]
     },
     "execution_count": 2,
     "metadata": {},
     "output_type": "execute_result"
    }
   ],
   "source": [
    "24  - 5"
   ]
  },
  {
   "cell_type": "code",
   "execution_count": 3,
   "metadata": {},
   "outputs": [
    {
     "data": {
      "text/plain": [
       "120"
      ]
     },
     "execution_count": 3,
     "metadata": {},
     "output_type": "execute_result"
    }
   ],
   "source": [
    "24  * 5"
   ]
  },
  {
   "cell_type": "code",
   "execution_count": 4,
   "metadata": {},
   "outputs": [
    {
     "data": {
      "text/plain": [
       "4.8"
      ]
     },
     "execution_count": 4,
     "metadata": {},
     "output_type": "execute_result"
    }
   ],
   "source": [
    "24  / 5"
   ]
  },
  {
   "cell_type": "code",
   "execution_count": 5,
   "metadata": {},
   "outputs": [
    {
     "data": {
      "text/plain": [
       "4"
      ]
     },
     "execution_count": 5,
     "metadata": {},
     "output_type": "execute_result"
    }
   ],
   "source": [
    "24  % 5"
   ]
  },
  {
   "cell_type": "code",
   "execution_count": 6,
   "metadata": {},
   "outputs": [
    {
     "data": {
      "text/plain": [
       "7962624"
      ]
     },
     "execution_count": 6,
     "metadata": {},
     "output_type": "execute_result"
    }
   ],
   "source": [
    "24 ** 5"
   ]
  },
  {
   "cell_type": "markdown",
   "metadata": {},
   "source": [
    "## 比較演算子"
   ]
  },
  {
   "cell_type": "code",
   "execution_count": 7,
   "metadata": {},
   "outputs": [
    {
     "data": {
      "text/plain": [
       "true"
      ]
     },
     "execution_count": 7,
     "metadata": {},
     "output_type": "execute_result"
    }
   ],
   "source": [
    "24 >  5"
   ]
  },
  {
   "cell_type": "code",
   "execution_count": 8,
   "metadata": {},
   "outputs": [
    {
     "data": {
      "text/plain": [
       "true"
      ]
     },
     "execution_count": 8,
     "metadata": {},
     "output_type": "execute_result"
    }
   ],
   "source": [
    "24 >= 5"
   ]
  },
  {
   "cell_type": "code",
   "execution_count": 9,
   "metadata": {},
   "outputs": [
    {
     "data": {
      "text/plain": [
       "false"
      ]
     },
     "execution_count": 9,
     "metadata": {},
     "output_type": "execute_result"
    }
   ],
   "source": [
    "24 <  5"
   ]
  },
  {
   "cell_type": "code",
   "execution_count": 10,
   "metadata": {},
   "outputs": [
    {
     "data": {
      "text/plain": [
       "false"
      ]
     },
     "execution_count": 10,
     "metadata": {},
     "output_type": "execute_result"
    }
   ],
   "source": [
    "24 <= 5"
   ]
  },
  {
   "cell_type": "code",
   "execution_count": 11,
   "metadata": {},
   "outputs": [
    {
     "data": {
      "text/plain": [
       "false"
      ]
     },
     "execution_count": 11,
     "metadata": {},
     "output_type": "execute_result"
    }
   ],
   "source": [
    "24 == 5"
   ]
  },
  {
   "cell_type": "code",
   "execution_count": 12,
   "metadata": {},
   "outputs": [
    {
     "data": {
      "text/plain": [
       "true"
      ]
     },
     "execution_count": 12,
     "metadata": {},
     "output_type": "execute_result"
    }
   ],
   "source": [
    "24 != 5"
   ]
  },
  {
   "cell_type": "markdown",
   "metadata": {},
   "source": [
    "## 論理演算子"
   ]
  },
  {
   "cell_type": "code",
   "execution_count": 13,
   "metadata": {},
   "outputs": [
    {
     "data": {
      "text/plain": [
       "false"
      ]
     },
     "execution_count": 13,
     "metadata": {},
     "output_type": "execute_result"
    }
   ],
   "source": [
    "true && false"
   ]
  },
  {
   "cell_type": "code",
   "execution_count": 14,
   "metadata": {},
   "outputs": [
    {
     "data": {
      "text/plain": [
       "true"
      ]
     },
     "execution_count": 14,
     "metadata": {},
     "output_type": "execute_result"
    }
   ],
   "source": [
    "true || false"
   ]
  },
  {
   "cell_type": "code",
   "execution_count": 15,
   "metadata": {},
   "outputs": [
    {
     "data": {
      "text/plain": [
       "true"
      ]
     },
     "execution_count": 15,
     "metadata": {},
     "output_type": "execute_result"
    }
   ],
   "source": [
    "      ! false"
   ]
  },
  {
   "cell_type": "markdown",
   "metadata": {},
   "source": [
    "## ビット演算子\n",
    "2進数での各桁毎の論理演算"
   ]
  },
  {
   "cell_type": "code",
   "execution_count": 16,
   "metadata": {},
   "outputs": [],
   "source": [
    "let d2b = (len,dec)=>{\n",
    "\tvar bin = dec.toString(2);\n",
    "\tlet p = Math.max(len,bin.length)-bin.length;\n",
    "\tfor (var n=0;n<p;n++) bin=\"0\"+bin;\n",
    "\tbin=\"0b\"+bin;\n",
    "\treturn bin;\n",
    "};\n",
    "let d2x = (len,dec)=>{\n",
    "\tif (dec<0) dec=dec+0xffffffff+1;\n",
    "\tvar hex = dec.toString(16);\n",
    "\tlet p = Math.max(len,hex.length)-hex.length;\n",
    "\tfor (var n=0;n<p;n++) hex=\"0\"+hex;\n",
    "\thex=\"0x\"+hex;\n",
    "\treturn hex;\n",
    "};"
   ]
  },
  {
   "cell_type": "code",
   "execution_count": 17,
   "metadata": {},
   "outputs": [
    {
     "data": {
      "text/plain": [
       "'0b0b1000'"
      ]
     },
     "execution_count": 17,
     "metadata": {},
     "output_type": "execute_result"
    }
   ],
   "source": [
    "\"0b\"+d2b(4,   0b1010 & 0b1001   )    // AND"
   ]
  },
  {
   "cell_type": "code",
   "execution_count": 18,
   "metadata": {},
   "outputs": [
    {
     "data": {
      "text/plain": [
       "'0b0b1011'"
      ]
     },
     "execution_count": 18,
     "metadata": {},
     "output_type": "execute_result"
    }
   ],
   "source": [
    "\"0b\"+d2b(4,   0b1010 | 0b1001   )    // OR"
   ]
  },
  {
   "cell_type": "code",
   "execution_count": 19,
   "metadata": {},
   "outputs": [
    {
     "data": {
      "text/plain": [
       "'0b0b0011'"
      ]
     },
     "execution_count": 19,
     "metadata": {},
     "output_type": "execute_result"
    }
   ],
   "source": [
    "\"0b\"+d2b(4,   0b1010 ^ 0b1001   )    // XOR"
   ]
  },
  {
   "cell_type": "code",
   "execution_count": 20,
   "metadata": {},
   "outputs": [
    {
     "data": {
      "text/plain": [
       "'0b0b0110'"
      ]
     },
     "execution_count": 20,
     "metadata": {},
     "output_type": "execute_result"
    }
   ],
   "source": [
    "\"0b\"+d2b(4,          ~ 0b1001   +16) // NOT"
   ]
  },
  {
   "cell_type": "code",
   "execution_count": 21,
   "metadata": {},
   "outputs": [
    {
     "data": {
      "text/plain": [
       "'0b0b11111100'"
      ]
     },
     "execution_count": 21,
     "metadata": {},
     "output_type": "execute_result"
    }
   ],
   "source": [
    "\"0b\"+d2b(8,   0b00111111  << 2   ) // 2桁左シフト"
   ]
  },
  {
   "cell_type": "code",
   "execution_count": 22,
   "metadata": {},
   "outputs": [
    {
     "data": {
      "text/plain": [
       "'0b0b00001111'"
      ]
     },
     "execution_count": 22,
     "metadata": {},
     "output_type": "execute_result"
    }
   ],
   "source": [
    "\"0b\"+d2b(8,   0b00111111  >> 2   ) // 2桁右シフト"
   ]
  },
  {
   "cell_type": "code",
   "execution_count": 23,
   "metadata": {},
   "outputs": [
    {
     "data": {
      "text/plain": [
       "'0b0b00001111'"
      ]
     },
     "execution_count": 23,
     "metadata": {},
     "output_type": "execute_result"
    }
   ],
   "source": [
    "\"0b\"+d2b(8,   0b00111111 >>> 2   ) // 2桁右シフト"
   ]
  },
  {
   "cell_type": "code",
   "execution_count": 24,
   "metadata": {},
   "outputs": [
    {
     "data": {
      "text/plain": [
       "'0x0xfff96971'"
      ]
     },
     "execution_count": 24,
     "metadata": {},
     "output_type": "execute_result"
    }
   ],
   "source": [
    "\"0x\"+d2x(8,   0x96971bed  >> 12   ) // 3桁右シフト"
   ]
  },
  {
   "cell_type": "code",
   "execution_count": 25,
   "metadata": {},
   "outputs": [
    {
     "data": {
      "text/plain": [
       "'0x0x00096971'"
      ]
     },
     "execution_count": 25,
     "metadata": {},
     "output_type": "execute_result"
    }
   ],
   "source": [
    "\"0x\"+d2x(8,   0x96971bed >>> 12   ) // 3桁右シフト"
   ]
  },
  {
   "cell_type": "markdown",
   "metadata": {},
   "source": [
    "XOR = eXclusive OR (排他的論理和)  \n",
    "AND : 両方が 1(true) であれば, 1(true) になる  \n",
    "XOR : 一方が 1(true) であれば, 1(true) になる  \n",
    "OR : 一方/両方が 1(true) であれば, 1(true) になる  \n",
    "NOT : 1(true) と 0(false) を逆転させる\n",
    "\n",
    "ビット演算において,演算の内容を分かりやすくするため,意図的に本来の値から改変させたところがある\n",
    "* AND,OR,XOR,NOT においては,0埋めにより演算後も4桁が維持されるようにした (本来はない桁があったりする)\n",
    "* ビットシフトにおいては,0埋めにより演算後も8桁が維持されるようにした\n",
    "* NOT を通常通りに計算すると,これまでなかった桁も0と見做してビット反転するため,膨大な数になる。それを防止するため,5桁目以降を切り捨てる処理をした (右端の+16)"
   ]
  },
  {
   "cell_type": "markdown",
   "metadata": {},
   "source": [
    "## 三項演算子"
   ]
  },
  {
   "cell_type": "code",
   "execution_count": 26,
   "metadata": {},
   "outputs": [
    {
     "data": {
      "text/plain": [
       "'yes'"
      ]
     },
     "execution_count": 26,
     "metadata": {},
     "output_type": "execute_result"
    }
   ],
   "source": [
    "true  ? \"yes\" : \"no\""
   ]
  },
  {
   "cell_type": "code",
   "execution_count": 27,
   "metadata": {},
   "outputs": [
    {
     "data": {
      "text/plain": [
       "'no'"
      ]
     },
     "execution_count": 27,
     "metadata": {},
     "output_type": "execute_result"
    }
   ],
   "source": [
    "false ? \"yes\" : \"no\""
   ]
  },
  {
   "cell_type": "markdown",
   "metadata": {},
   "source": [
    "## 一致の確認"
   ]
  },
  {
   "cell_type": "code",
   "execution_count": 28,
   "metadata": {},
   "outputs": [
    {
     "data": {
      "text/plain": [
       "true"
      ]
     },
     "execution_count": 28,
     "metadata": {},
     "output_type": "execute_result"
    }
   ],
   "source": [
    "3  == \"3\""
   ]
  },
  {
   "cell_type": "code",
   "execution_count": 29,
   "metadata": {},
   "outputs": [
    {
     "data": {
      "text/plain": [
       "false"
      ]
     },
     "execution_count": 29,
     "metadata": {},
     "output_type": "execute_result"
    }
   ],
   "source": [
    "3 === \"3\" // 厳密な型判定"
   ]
  },
  {
   "cell_type": "code",
   "execution_count": 30,
   "metadata": {},
   "outputs": [
    {
     "data": {
      "text/plain": [
       "true"
      ]
     },
     "execution_count": 30,
     "metadata": {},
     "output_type": "execute_result"
    }
   ],
   "source": [
    "3 !== \"3\" // 厳密な型判定の否定版"
   ]
  },
  {
   "cell_type": "markdown",
   "metadata": {},
   "source": [
    "`String`, `Number`, `Boolean` のようなプリミティブ型 (`Symbol` を除く) の挙動\n",
    "- `==` 演算子に対して内容が一致していれば型が違っていても真を返す\n",
    "- `===` 演算子は型も一致している場合に真を返す"
   ]
  },
  {
   "cell_type": "code",
   "execution_count": 31,
   "metadata": {},
   "outputs": [],
   "source": [
    "let obj = {};"
   ]
  },
  {
   "cell_type": "code",
   "execution_count": 32,
   "metadata": {},
   "outputs": [
    {
     "data": {
      "text/plain": [
       "true"
      ]
     },
     "execution_count": 32,
     "metadata": {},
     "output_type": "execute_result"
    }
   ],
   "source": [
    "obj == obj"
   ]
  },
  {
   "cell_type": "code",
   "execution_count": 33,
   "metadata": {},
   "outputs": [
    {
     "data": {
      "text/plain": [
       "false"
      ]
     },
     "execution_count": 33,
     "metadata": {},
     "output_type": "execute_result"
    }
   ],
   "source": [
    "obj != obj"
   ]
  },
  {
   "cell_type": "markdown",
   "metadata": {},
   "source": [
    "一般のオブジェクトに対しては同一物の場合 (ポインタが一致している場合) に限って真を返す  \n",
    "なので,2つの `Array` とか `Date` の内容を比較する場合に\n",
    "```JavaScript\n",
    "obj1 == obj2\n",
    "```\n",
    "のように判定を試みても常に `false` を返されてしまうので判定にならない"
   ]
  },
  {
   "cell_type": "markdown",
   "metadata": {},
   "source": [
    "JavaScriptでは,型の概念が曖昧なので, `(数値)+(数値)` でない限り, `+` は基本的に文字列結合と解釈される。  \n",
    "`+` 以外の演算子では数値型に変換して,数値として解釈しようとする。\n",
    "\n",
    "| 表記 | 実行結果 |\n",
    "|:-:|:-:|\n",
    "| `\"5\" + 3` | `\"53\"` |\n",
    "| `\"5\" - 3` | `2` |\n",
    "| `true + \"ly\"` | `\"truely\"` |\n",
    "| `true / 10` | `0.1` |\n",
    "| `6 - \"ly\"` | `NaN` |\n",
    "| `\"A:B:\" + [\"c\",\"d\"]` | `\"A:B:c,d\"` |\n",
    "| `new Date() - 0` | Unixエポックでの現在時刻 |\n",
    "\n",
    "任意のオブジェクトに対して文字列としての振る舞いと数値としての振る舞いを手動で定義することもできる\n",
    "* `.toString()` 関数を実装すれば,その返値が文字列としての振る舞いを決定\n",
    "* `.valueOf()` 関数を実装すれば,その返値が数値としての振る舞いを決定\n",
    "```JavaScript\n",
    "let o = {\n",
    "\ttoString:()=>{ return \"物体\" },\n",
    "\tvalueOf:()=>{ return 3.14 }\n",
    "};\n",
    "\n",
    "\"これは\" + o; // \"これは物体\"\n",
    "o * 2; // 6.28\n",
    "\n",
    "```"
   ]
  },
  {
   "cell_type": "markdown",
   "metadata": {},
   "source": [
    "## その他の演算子\n",
    "\n",
    "- 複合代入演算子 : `+= -= *= /= %= **= &= |= ^= <<= >>= >>>=`  \n",
    "\t`a += b` は `a = a + b` と同義。その他も同様\n",
    "- 加算子/減算子: `++ --`  \n",
    "\t`++` は1を加え, `--` は1を引く  \n",
    "\t`a++` と `++a` は `a` にとっては同じ意味だが,異なる点がある\n",
    "```JavaScript\n",
    "\ta = 5;\n",
    "\tb = a++; // → aは1増加して 6 に変化し,bには加算前の 5 が代入される\n",
    "\tc = ++a; // → aは1増加して 7 に変化し,cには加算後の 7 が代入される\n",
    "```"
   ]
  }
 ],
 "metadata": {
  "kernelspec": {
   "display_name": "JavaScript",
   "language": "javascript",
   "name": "javascript"
  },
  "language_info": {
   "file_extension": ".js",
   "mimetype": "application/javascript",
   "name": "javascript",
   "version": "14.5.0"
  }
 },
 "nbformat": 4,
 "nbformat_minor": 4
}
