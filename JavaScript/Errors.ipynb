{
 "cells": [
  {
   "cell_type": "markdown",
   "metadata": {},
   "source": [
    "# 例外処理"
   ]
  },
  {
   "cell_type": "code",
   "execution_count": 1,
   "metadata": {
    "tags": []
   },
   "outputs": [
    {
     "name": "stdout",
     "output_type": "stream",
     "text": [
      "エラーが発生しました\n",
      "エラー内容: あなたは過ちを犯した!!\n",
      "以上でエラーチェックを終了します"
     ]
    },
    {
     "data": {
      "text/plain": [
       "true"
      ]
     },
     "execution_count": 1,
     "metadata": {},
     "output_type": "execute_result"
    }
   ],
   "source": [
    "try {\n",
    "\t// try節内で起こりうる例外は捕捉される\n",
    "\t\tthrow \"あなたは過ちを犯した!!\"; // 例外の発生 (例外が発生した時点で,それ以降の行は実行しない)\n",
    "}\n",
    "catch(e) {\n",
    "\tconsole.log(\"エラーが発生しました\");\n",
    "\tconsole.log(\"エラー内容: \"+e);\n",
    "}\n",
    "finally {\n",
    "\t// 最後にfinally節が実行される\n",
    "\tconsole.log(\"以上でエラーチェックを終了します\");\n",
    "}"
   ]
  },
  {
   "cell_type": "markdown",
   "metadata": {},
   "source": [
    "`try` に対応して, `catch` か `finally` のどちらか一方は最低限必要である"
   ]
  }
 ],
 "metadata": {
  "kernelspec": {
   "display_name": "JavaScript",
   "language": "javascript",
   "name": "javascript"
  },
  "language_info": {
   "file_extension": ".js",
   "mimetype": "application/javascript",
   "name": "javascript",
   "version": "14.6.0"
  }
 },
 "nbformat": 4,
 "nbformat_minor": 4
}
