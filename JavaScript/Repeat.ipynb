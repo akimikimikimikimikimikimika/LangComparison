{
 "cells": [
  {
   "cell_type": "markdown",
   "metadata": {},
   "source": [
    "# 繰り返し処理"
   ]
  },
  {
   "cell_type": "markdown",
   "metadata": {},
   "source": [
    "* `for (n=0;n<3;n++) { … }`"
   ]
  },
  {
   "cell_type": "code",
   "execution_count": null,
   "metadata": {},
   "outputs": [],
   "source": [
    "for (n=0;n<3;n++) console.log(`n=${n} のループ`);"
   ]
  },
  {
   "cell_type": "markdown",
   "metadata": {},
   "source": [
    "* `for (n of array) { … }`"
   ]
  },
  {
   "cell_type": "code",
   "execution_count": null,
   "metadata": {},
   "outputs": [],
   "source": [
    "let cs=[\"壱\",\"弐\",\"参\"];\n",
    "for (c of cs) console.log(`c=\"${c}\" のループ`);"
   ]
  },
  {
   "cell_type": "markdown",
   "metadata": {},
   "source": [
    "似たようなものに `for (c in cs) ;` があるが,これらは挙動が異なる  \n",
    "\n",
    "* `for (c in cs) ;` … `0,1,2` といった配列のキーが `c` に代入される\n",
    "* `for (c of cs) ;` … `\"壱\",\"弐\",\"参\"` といった配列内の値が `c` に代入される\n",
    "\n",
    "元々, `Array` はオブジェクトであり,`in`ではオブジェクトとして,オブジェクトのキーを列挙するためのものである。  \n",
    "つまり, `c` は `0,1,2...` といった配列のキーだけでなく, `length` などのキーも場合によっては列挙されてしまう。"
   ]
  },
  {
   "cell_type": "markdown",
   "metadata": {},
   "source": [
    "* `array.forEach((c,n)=>{…});`"
   ]
  },
  {
   "cell_type": "code",
   "execution_count": null,
   "metadata": {},
   "outputs": [],
   "source": [
    "cs.forEach((c,n)=>{\n",
    "\tconsole.log(`c=\"${c}\" のループ (${n}番目の要素)`);\n",
    "});"
   ]
  },
  {
   "cell_type": "markdown",
   "metadata": {},
   "source": [
    "これについては配列のセクションでも登場する"
   ]
  },
  {
   "cell_type": "markdown",
   "metadata": {},
   "source": [
    "* `while (~) { … }`"
   ]
  },
  {
   "cell_type": "code",
   "execution_count": null,
   "metadata": {},
   "outputs": [],
   "source": [
    "var str=\"\";\n",
    "while (str.length<6) {\n",
    "\tstr+=\"*\";\n",
    "\tconsole.log(str);\n",
    "}"
   ]
  },
  {
   "cell_type": "markdown",
   "metadata": {},
   "source": [
    "* `do { … } while (~);`"
   ]
  },
  {
   "cell_type": "code",
   "execution_count": null,
   "metadata": {},
   "outputs": [],
   "source": [
    "var str=\"\";\n",
    "do {\n",
    "\tstr+=\"*\";\n",
    "\tconsole.log(str);\n",
    "} while (str.length<6);"
   ]
  }
 ],
 "metadata": {
  "kernelspec": {
   "display_name": "JavaScript",
   "language": "javascript",
   "name": "javascript"
  },
  "language_info": {
   "name": ""
  }
 },
 "nbformat": 4,
 "nbformat_minor": 4
}
