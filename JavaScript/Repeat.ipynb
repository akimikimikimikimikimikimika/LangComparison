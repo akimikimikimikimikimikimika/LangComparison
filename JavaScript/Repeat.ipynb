{
 "cells": [
  {
   "cell_type": "markdown",
   "metadata": {},
   "source": [
    "# 繰り返し処理"
   ]
  },
  {
   "cell_type": "markdown",
   "metadata": {},
   "source": [
    "* `for (n=0;n<3;n++) { … }`"
   ]
  },
  {
   "cell_type": "code",
   "execution_count": 2,
   "metadata": {
    "tags": []
   },
   "outputs": [
    {
     "name": "stdout",
     "output_type": "stream",
     "text": [
      "n=0 のループ\n",
      "n=1 のループ\n",
      "n=2 のループ\n"
     ]
    }
   ],
   "source": [
    "for (n=0;n<3;n++) console.log(`n=${n} のループ`);"
   ]
  },
  {
   "cell_type": "markdown",
   "metadata": {},
   "source": [
    "* `for (n of array) { … }`"
   ]
  },
  {
   "cell_type": "code",
   "execution_count": 3,
   "metadata": {
    "tags": []
   },
   "outputs": [
    {
     "name": "stdout",
     "output_type": "stream",
     "text": [
      "c=\"壱\" のループ\n",
      "c=\"弐\" のループ\n",
      "c=\"参\" のループ\n"
     ]
    }
   ],
   "source": [
    "let cs=[\"壱\",\"弐\",\"参\"];\n",
    "for (c of cs) console.log(`c=\"${c}\" のループ`);"
   ]
  },
  {
   "cell_type": "markdown",
   "metadata": {},
   "source": [
    "似たようなものに `for (c in cs) ;` があるが,これらは挙動が異なる  \n",
    "\n",
    "* `for (c in cs) ;` … `0,1,2` といった配列のキーが `c` に代入される\n",
    "* `for (c of cs) ;` … `\"壱\",\"弐\",\"参\"` といった配列内の値が `c` に代入される\n",
    "\n",
    "元々, `Array` はオブジェクトであり,`in`ではオブジェクトとして,オブジェクトのキーを列挙するためのものである。  \n",
    "つまり, `c` は `0,1,2...` といった配列のキーだけでなく, `length` などのキーも場合によっては列挙されてしまう。"
   ]
  },
  {
   "cell_type": "markdown",
   "metadata": {},
   "source": [
    "* `array.forEach((c,n)=>{…});`"
   ]
  },
  {
   "cell_type": "code",
   "execution_count": 4,
   "metadata": {
    "tags": []
   },
   "outputs": [
    {
     "name": "stdout",
     "output_type": "stream",
     "text": [
      "c=\"壱\" のループ (0番目の要素)\n",
      "c=\"弐\" のループ (1番目の要素)\n",
      "c=\"参\" のループ (2番目の要素)\n"
     ]
    }
   ],
   "source": [
    "cs.forEach((c,n)=>{\n",
    "\tconsole.log(`c=\"${c}\" のループ (${n}番目の要素)`);\n",
    "});"
   ]
  },
  {
   "cell_type": "markdown",
   "metadata": {},
   "source": [
    "これについては配列のセクションでも登場する"
   ]
  },
  {
   "cell_type": "markdown",
   "metadata": {},
   "source": [
    "* `while (~) { … }`"
   ]
  },
  {
   "cell_type": "code",
   "execution_count": 5,
   "metadata": {
    "tags": []
   },
   "outputs": [
    {
     "name": "stdout",
     "output_type": "stream",
     "text": [
      "*\n",
      "**\n",
      "***\n",
      "****\n",
      "*****\n",
      "******\n"
     ]
    }
   ],
   "source": [
    "var str=\"\";\n",
    "while (str.length<6) {\n",
    "\tstr+=\"*\";\n",
    "\tconsole.log(str);\n",
    "}"
   ]
  },
  {
   "cell_type": "markdown",
   "metadata": {},
   "source": [
    "* `do { … } while (~);`"
   ]
  },
  {
   "cell_type": "code",
   "execution_count": 6,
   "metadata": {
    "tags": []
   },
   "outputs": [
    {
     "name": "stdout",
     "output_type": "stream",
     "text": [
      "*\n",
      "**\n",
      "***\n",
      "****\n",
      "*****\n",
      "******\n"
     ]
    }
   ],
   "source": [
    "var str=\"\";\n",
    "do {\n",
    "\tstr+=\"*\";\n",
    "\tconsole.log(str);\n",
    "} while (str.length<6);"
   ]
  }
 ],
 "metadata": {
  "kernelspec": {
   "display_name": "JavaScript",
   "language": "javascript",
   "name": "javascript"
  },
  "language_info": {
   "file_extension": ".js",
   "mimetype": "application/javascript",
   "name": "javascript",
   "version": "14.5.0"
  }
 },
 "nbformat": 4,
 "nbformat_minor": 4
}
