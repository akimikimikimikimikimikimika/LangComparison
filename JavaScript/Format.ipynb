{
 "cells": [
  {
   "cell_type": "markdown",
   "metadata": {},
   "source": [
    "# 文字列フォーマット"
   ]
  },
  {
   "cell_type": "markdown",
   "metadata": {},
   "source": [
    "JavaScript には元々 `sprintf` に相当するものは存在しないので,適宜文字列リテラルの埋め込み式を使う。\n",
    "因みに,Node.jsにはsprintfパッケージが存在するが,ここでは使わない。\n",
    "数値のフォーマットの仕方を示す。"
   ]
  },
  {
   "cell_type": "markdown",
   "metadata": {},
   "source": [
    "## 整数"
   ]
  },
  {
   "cell_type": "code",
   "execution_count": 2,
   "metadata": {},
   "outputs": [
    {
     "output_type": "execute_result",
     "data": {
      "text/plain": "'255'"
     },
     "metadata": {},
     "execution_count": 2
    }
   ],
   "source": [
    "(255).toString(); // \"%d\""
   ]
  },
  {
   "cell_type": "code",
   "execution_count": 3,
   "metadata": {},
   "outputs": [
    {
     "output_type": "execute_result",
     "data": {
      "text/plain": "'11111111'"
     },
     "metadata": {},
     "execution_count": 3
    }
   ],
   "source": [
    "(255).toString(2); // \"%b\""
   ]
  },
  {
   "cell_type": "code",
   "execution_count": 4,
   "metadata": {},
   "outputs": [
    {
     "output_type": "execute_result",
     "data": {
      "text/plain": "'377'"
     },
     "metadata": {},
     "execution_count": 4
    }
   ],
   "source": [
    "(255).toString(8); // \"%o\""
   ]
  },
  {
   "cell_type": "code",
   "execution_count": 5,
   "metadata": {},
   "outputs": [
    {
     "output_type": "execute_result",
     "data": {
      "text/plain": "'ff'"
     },
     "metadata": {},
     "execution_count": 5
    }
   ],
   "source": [
    "(255).toString(16); // \"%x\""
   ]
  },
  {
   "cell_type": "markdown",
   "metadata": {},
   "source": [
    "## 実数"
   ]
  },
  {
   "cell_type": "code",
   "execution_count": 6,
   "metadata": {},
   "outputs": [
    {
     "output_type": "execute_result",
     "data": {
      "text/plain": "'0.018'"
     },
     "metadata": {},
     "execution_count": 6
    }
   ],
   "source": [
    "(0.018).toPrecision(); // \"%g\""
   ]
  },
  {
   "cell_type": "code",
   "execution_count": 7,
   "metadata": {},
   "outputs": [
    {
     "output_type": "execute_result",
     "data": {
      "text/plain": "'0'"
     },
     "metadata": {},
     "execution_count": 7
    }
   ],
   "source": [
    "(0.018).toFixed(); // \"%.0f\""
   ]
  },
  {
   "cell_type": "code",
   "execution_count": 8,
   "metadata": {},
   "outputs": [
    {
     "output_type": "execute_result",
     "data": {
      "text/plain": "'1.8e-2'"
     },
     "metadata": {},
     "execution_count": 8
    }
   ],
   "source": [
    "(0.018).toExponential(); // \"%e\""
   ]
  },
  {
   "cell_type": "markdown",
   "metadata": {},
   "source": [
    "* `toPrecision`, `toFixed`, `toExponential` において指定した精度以上の桁を丸める手法として **away** が利用される。  \n",
    "    詳しくは Rounding.md を参照"
   ]
  },
  {
   "cell_type": "markdown",
   "metadata": {},
   "source": [
    "## 精度"
   ]
  },
  {
   "cell_type": "code",
   "execution_count": 9,
   "metadata": {},
   "outputs": [
    {
     "output_type": "execute_result",
     "data": {
      "text/plain": "'0.0180'"
     },
     "metadata": {},
     "execution_count": 9
    }
   ],
   "source": [
    "(0.018).toPrecision(3); // \"%.3g\""
   ]
  },
  {
   "cell_type": "code",
   "execution_count": 10,
   "metadata": {},
   "outputs": [
    {
     "output_type": "execute_result",
     "data": {
      "text/plain": "'0.018'"
     },
     "metadata": {},
     "execution_count": 10
    }
   ],
   "source": [
    "(0.018).toFixed(3); // \"%.3f\""
   ]
  },
  {
   "cell_type": "code",
   "execution_count": 11,
   "metadata": {},
   "outputs": [
    {
     "output_type": "execute_result",
     "data": {
      "text/plain": "'1.800e-2'"
     },
     "metadata": {},
     "execution_count": 11
    }
   ],
   "source": [
    "(0.018.toExponential(3); // \"%.3e\""
   ]
  }
 ],
 "metadata": {
  "kernelspec": {
   "display_name": "JavaScript",
   "language": "javascript",
   "name": "javascript"
  },
  "language_info": {
   "name": "",
   "version": "3.8.4-final"
  }
 },
 "nbformat": 4,
 "nbformat_minor": 4
}