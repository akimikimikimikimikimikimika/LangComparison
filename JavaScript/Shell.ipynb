{
 "cells": [
  {
   "cell_type": "markdown",
   "metadata": {},
   "source": [
    "# シェル"
   ]
  },
  {
   "cell_type": "markdown",
   "metadata": {},
   "source": [
    "## 通常の実行"
   ]
  },
  {
   "cell_type": "code",
   "execution_count": null,
   "metadata": {},
   "outputs": [],
   "source": [
    "child_process.execSync(\"ls -a\",{stdio:\"inherit\"})"
   ]
  },
  {
   "cell_type": "markdown",
   "metadata": {},
   "source": [
    "## 実行方法をカスタマイズ\n",
    "\n",
    "シェルを実行するためのいくつかの関数があり,ここではそれぞれを見ていく  \n",
    "- 実行内容を指定する方法によって,次のように区別できる\n",
    "\t* 文字列型  \n",
    "\t\t`\"ls -a\"` のようなもの  \n",
    "\t\tシェルで入力する文字列そのものである  \n",
    "\t\tスペースなどを含む引数は適宜エスケープが必要\n",
    "\t* 配列型  \n",
    "\t\t`[\"ls\",\"-a\"]` のようなもの  \n",
    "\t\t引数をエスケープせずにそのまま渡せる\n",
    "- 同期型と非同期型の関数がある\n",
    "\t* 非同期型  \n",
    "\t\t関数名に `Sync` が付かないもの  \n",
    "\t\t関数の実行が完了した時点ではシェルは終了していない (シェルとJSが同時進行)  \n",
    "\t\t関数の実行時にコールバック関数を渡し,シェルが終了したらそれが実行される  \n",
    "\t\t関数の実行時に返される `ChildProcess` オブジェクトでシェルの操作が可能\n",
    "\t* 同期型    \n",
    "\t\t関数名に `Sync` が付くもの  \n",
    "\t\tシェルが終了するまで関数の実行は完了しない (JSが停止する)  \n",
    "\t\t関数から返される値は関数によって異なる\n",
    "- `?`を後置するパラメータは,省略可能であることを示す"
   ]
  },
  {
   "cell_type": "markdown",
   "metadata": {},
   "source": [
    "### `child_process.exec(cmdStr,options?,callback?)` -> `ChildProcess`\n",
    "### `child_process.execSync(cmdStr,options?)` -> `Buffer` / `null`\n",
    "* stdout がインターセプトされる (`options`で変更可能)\n",
    "* `cmdStr` : 実行内容 (文字列型)  \n",
    "* `options` : 実行オプション (後述)\n",
    "* 戻り値 : stdout の `Buffer` 型 (stdout をインターセプトしなければ `null`)"
   ]
  },
  {
   "cell_type": "markdown",
   "metadata": {},
   "source": [
    "### `child_process.execFile(file,args?,options?,callback?)` -> `ChildProcess`\n",
    "### `child_process.execFileSync(file,args?,options?)` -> `Buffer` / `null`\n",
    "* stdout がインターセプトされる (`options`で変更可能)\n",
    "* `file` : 実行内容 (配列型) の最初の項  \n",
    "* `args` : 実行内容 (配列型) の残りの項の配列  \n",
    "* `options` : 実行オプション (後述)\n",
    "* 戻り値 : stdout の `Buffer` 型 (stdout をインターセプトしなければ `null`)"
   ]
  },
  {
   "cell_type": "markdown",
   "metadata": {},
   "source": [
    "### `child_process.spawn(file,args?,options?,callback?)` -> `ChildProcess`\n",
    "### `child_process.spawnSync(file,args?,options?)` -> `Object`\n",
    "* stdin, stdout, stderr の全てがインターセプトされる (`options`で変更可能)\n",
    "* `file` : 実行内容 (配列型) の最初の項  \n",
    "* `args` : 実行内容 (配列型) の残りの項の配列  \n",
    "* `options` : 実行オプション (後述)\n",
    "* 戻り値 : プロセスの情報に関するオブジェクト\n",
    "\t- `pid` : `<Number>` プロセスID\n",
    "\t- `status` : `<Number>` 終了コード (強制終了した場合は`null`)\n",
    "\t- `stdout` : `<String>` stdoutの文字列\n",
    "\t- `stderr` : `<String>` stderrの文字列\n",
    "\t- `output` : `<Object>` `{1:stdoutの文字列,2:stderrの文字列}` の形式のオブジェクト"
   ]
  },
  {
   "cell_type": "markdown",
   "metadata": {},
   "source": [
    "* `options` のオブジェクト\n",
    "\t- `cwd` `<String>` カレントディレクトリを指定  \n",
    "\t\t指定しなければ現在のカレントディレクトリを使用\n",
    "\t- `env` `<Object>` 環境変数の連想配列  \n",
    "\t\t指定しなければ現在の環境変数を使用\n",
    "\t- `shell` `<Boolean>`\n",
    "\t\t`shell:true` でシェルを介して実行する\n",
    "\t- `stdio` `<Array>` IOの挙動を指定  \n",
    "\t\t`[stdinの指定,stdoutの指定,stderrの指定]` の形で指定\n",
    "\t\t- `\"pipe\"` … 各々の方法でパイプを指定できる\n",
    "\t\t- `\"inherit\"` … 親プロセスに接続\n",
    "\t\t- `\"ignore\"` … 空の入力/出力を破棄\n",
    "\t\t- `Stream`オブジェクト / ファイルハンドラ … ファイルなどの読み書きができる"
   ]
  },
  {
   "cell_type": "markdown",
   "metadata": {},
   "source": [
    "* `ChildProcess` オブジェクト\n",
    "\t- `pid` : `<Number>` プロセスID\n",
    "\t- `exitCode` : `<Number>` 終了コード (実行中の場合はnull)\n",
    "\t- `kill()` : 強制終了する\n",
    "\t- `stdout`,`stderr` : `<Reader>`\n",
    "\t\t```JavaScript\n",
    "\t\tstdout.on(\"data\",chunk=>{\n",
    "\t\t\tstdOutData=chunk\n",
    "\t\t});\n",
    "\t\t```\n",
    "\t\tとか\n",
    "\t\t```JavaScript\n",
    "\t\tsomeReader.pipe(stdout);\n",
    "\t\t```\n",
    "\t\tのように使う\n",
    "\t- `stdin` : `<Writer>`\n",
    "\t\t`stdin.write(stdInData);` のように使う"
   ]
  }
 ],
 "metadata": {
  "kernelspec": {
   "display_name": "JavaScript",
   "language": "javascript",
   "name": "javascript"
  },
  "language_info": {
   "file_extension": ".js",
   "mimetype": "application/javascript",
   "name": "javascript",
   "version": "14.8.0"
  }
 },
 "nbformat": 4,
 "nbformat_minor": 4
}