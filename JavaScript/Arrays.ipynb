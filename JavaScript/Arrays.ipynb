{
 "cells": [
  {
   "cell_type": "markdown",
   "metadata": {},
   "source": [
    "# 配列"
   ]
  },
  {
   "cell_type": "markdown",
   "metadata": {},
   "source": [
    "## 配列の生成"
   ]
  },
  {
   "cell_type": "code",
   "execution_count": 1,
   "metadata": {},
   "outputs": [
    {
     "data": {
      "text/plain": [
       "[ 'B', 'E', 'D', 'F', 'A', 'C' ]"
      ]
     },
     "execution_count": 1,
     "metadata": {},
     "output_type": "execute_result"
    }
   ],
   "source": [
    "Array.of('B','E','D','F','A','C');\n",
    "new Array('B','E','D','F','A','C'); // 同じ"
   ]
  },
  {
   "cell_type": "markdown",
   "metadata": {},
   "source": [
    "* `Array.of` はその引数からなる配列を返す"
   ]
  },
  {
   "cell_type": "code",
   "execution_count": 2,
   "metadata": {},
   "outputs": [
    {
     "data": {
      "text/plain": [
       "[ 'B', 'E', 'D', 'F', 'A', 'C' ]"
      ]
     },
     "execution_count": 2,
     "metadata": {},
     "output_type": "execute_result"
    }
   ],
   "source": [
    "Array.from(['B','E','D','F','A','C'])"
   ]
  },
  {
   "cell_type": "markdown",
   "metadata": {},
   "source": [
    "* `Array.from` は配列のコピーを生成する。配列に似たオブジェクト (インデックスが整数なオブジェクトとか) やイテレータから配列を生成できる\n",
    "* 逆に配列からイテレータを生成するには `['B','E','D','F','A','C'].values()` とする"
   ]
  },
  {
   "cell_type": "markdown",
   "metadata": {},
   "source": [
    "---\n",
    "## 要素の取り出し"
   ]
  },
  {
   "cell_type": "markdown",
   "metadata": {},
   "source": [
    "### 1要素"
   ]
  },
  {
   "cell_type": "code",
   "execution_count": 3,
   "metadata": {},
   "outputs": [
    {
     "data": {
      "text/plain": [
       "'D'"
      ]
     },
     "execution_count": 3,
     "metadata": {},
     "output_type": "execute_result"
    }
   ],
   "source": [
    "['B','E','D','F','A','C'][2]"
   ]
  },
  {
   "cell_type": "markdown",
   "metadata": {},
   "source": [
    "### 部分配列"
   ]
  },
  {
   "cell_type": "code",
   "execution_count": 4,
   "metadata": {},
   "outputs": [
    {
     "data": {
      "text/plain": [
       "[ 'D', 'F' ]"
      ]
     },
     "execution_count": 4,
     "metadata": {},
     "output_type": "execute_result"
    }
   ],
   "source": [
    "['B','E','D','F','A','C'].slice(2,4) // 2≦x≦4 の部分配列"
   ]
  },
  {
   "cell_type": "markdown",
   "metadata": {},
   "source": [
    "---\n",
    "## 大きさ"
   ]
  },
  {
   "cell_type": "code",
   "execution_count": 5,
   "metadata": {},
   "outputs": [
    {
     "data": {
      "text/plain": [
       "6"
      ]
     },
     "execution_count": 5,
     "metadata": {},
     "output_type": "execute_result"
    }
   ],
   "source": [
    "['B','E','D','F','A','C'].length"
   ]
  },
  {
   "cell_type": "markdown",
   "metadata": {},
   "source": [
    "---\n",
    "## 要素の追加"
   ]
  },
  {
   "cell_type": "markdown",
   "metadata": {},
   "source": [
    "### 複数要素の追加"
   ]
  },
  {
   "cell_type": "code",
   "execution_count": 6,
   "metadata": {},
   "outputs": [
    {
     "data": {
      "text/plain": [
       "9"
      ]
     },
     "execution_count": 6,
     "metadata": {},
     "output_type": "execute_result"
    }
   ],
   "source": [
    "var a=['B','E','D','F','A','C'];\n",
    "a.push('G','H','I') // 末尾に要素を追加 → 配列そのものを返す"
   ]
  },
  {
   "cell_type": "code",
   "execution_count": 7,
   "metadata": {},
   "outputs": [
    {
     "data": {
      "text/plain": [
       "9"
      ]
     },
     "execution_count": 7,
     "metadata": {},
     "output_type": "execute_result"
    }
   ],
   "source": [
    "var a=['B','E','D','F','A','C'];\n",
    "a.unshift('G','H','I') // 先頭に要素を追加 → 配列そのものを返す"
   ]
  },
  {
   "cell_type": "code",
   "execution_count": 8,
   "metadata": {},
   "outputs": [
    {
     "name": "stdout",
     "output_type": "stream",
     "text": [
      "[]\n"
     ]
    },
    {
     "data": {
      "text/plain": [
       "[\n",
       "  'B', 'E', 'D',\n",
       "  'G', 'H', 'I',\n",
       "  'F', 'A', 'C'\n",
       "]"
      ]
     },
     "execution_count": 8,
     "metadata": {},
     "output_type": "execute_result"
    }
   ],
   "source": [
    "var a=['B','E','D','F','A','C'];\n",
    "console.log(a.splice(3,0,'G','H','I')); // 3番目の位置に要素を追加 → 空配列を返す\n",
    "a"
   ]
  },
  {
   "cell_type": "markdown",
   "metadata": {},
   "source": [
    "---\n",
    "## 要素の削除"
   ]
  },
  {
   "cell_type": "markdown",
   "metadata": {},
   "source": [
    "### 単一要素の削除"
   ]
  },
  {
   "cell_type": "code",
   "execution_count": 9,
   "metadata": {},
   "outputs": [
    {
     "name": "stdout",
     "output_type": "stream",
     "text": [
      "C\n"
     ]
    },
    {
     "data": {
      "text/plain": [
       "[ 'B', 'E', 'D', 'F', 'A' ]"
      ]
     },
     "execution_count": 9,
     "metadata": {},
     "output_type": "execute_result"
    }
   ],
   "source": [
    "var a=['B','E','D','F','A','C'];\n",
    "console.log(a.pop()); // 末尾を削除 → 取り除かれた要素を返す\n",
    "a"
   ]
  },
  {
   "cell_type": "code",
   "execution_count": 10,
   "metadata": {},
   "outputs": [
    {
     "name": "stdout",
     "output_type": "stream",
     "text": [
      "B\n"
     ]
    },
    {
     "data": {
      "text/plain": [
       "[ 'E', 'D', 'F', 'A', 'C' ]"
      ]
     },
     "execution_count": 10,
     "metadata": {},
     "output_type": "execute_result"
    }
   ],
   "source": [
    "var a=['B','E','D','F','A','C'];\n",
    "console.log(a.shift()); // 先頭を削除 → 取り除かれた要素を返す\n",
    "a"
   ]
  },
  {
   "cell_type": "markdown",
   "metadata": {},
   "source": [
    "### 複数要素の削除"
   ]
  },
  {
   "cell_type": "code",
   "execution_count": 11,
   "metadata": {},
   "outputs": [
    {
     "name": "stdout",
     "output_type": "stream",
     "text": [
      "[ 'D', 'F', 'A', 'C' ]\n"
     ]
    },
    {
     "data": {
      "text/plain": [
       "[ 'B', 'E' ]"
      ]
     },
     "execution_count": 11,
     "metadata": {},
     "output_type": "execute_result"
    }
   ],
   "source": [
    "var a=['B','E','D','F','A','C'];\n",
    "console.log(a.splice(2,4)); // 2番目から4つ分の要素を削除 → 取り除かれた要素からなる配列を返す\n",
    "a"
   ]
  },
  {
   "cell_type": "code",
   "execution_count": 12,
   "metadata": {},
   "outputs": [
    {
     "name": "stdout",
     "output_type": "stream",
     "text": [
      "[ 'D', 'F' ]\n"
     ]
    },
    {
     "data": {
      "text/plain": [
       "[ 'B', 'E', 'G', 'A', 'C' ]"
      ]
     },
     "execution_count": 12,
     "metadata": {},
     "output_type": "execute_result"
    }
   ],
   "source": [
    "var a=['B','E','D','F','A','C'];\n",
    "console.log(a.splice(2,2,\"G\")); // 2番目から2つ分の要素を削除して \"G\" を挿入 → 取り除かれた要素からなる配列を返す\n",
    "a"
   ]
  },
  {
   "cell_type": "markdown",
   "metadata": {},
   "source": [
    "`splice` は追加と削除がまとめて行えるコマンドである\n",
    "```JavaScript\n",
    "array.splice(startsAt,deleteCount,newItem1,newItem2,...)\n",
    "```\n",
    "* `deleteCount=0` にすれば `startsAt` の位置に追加のみが実行される\n",
    "* `newItem1,newItem2,...` がなければ `startsAt` の位置から `deleteCount` だけ削除するのみである"
   ]
  },
  {
   "cell_type": "markdown",
   "metadata": {},
   "source": [
    "---\n",
    "## 結合"
   ]
  },
  {
   "cell_type": "code",
   "execution_count": 13,
   "metadata": {},
   "outputs": [
    {
     "data": {
      "text/plain": [
       "[ 'B', 'E', 'D', 'F', 'A', 'C' ]"
      ]
     },
     "execution_count": 13,
     "metadata": {},
     "output_type": "execute_result"
    }
   ],
   "source": [
    "['B','E','D'].concat('F',['A','C'])"
   ]
  },
  {
   "cell_type": "markdown",
   "metadata": {},
   "source": [
    "* 引数には配列の要素か配列を指定する\n",
    "* 配列要素にオブジェクトが含まれていたら、オブジェクトの参照がコピーされる (オブジェクト自体はコピーされない)"
   ]
  },
  {
   "cell_type": "markdown",
   "metadata": {},
   "source": [
    "---\n",
    "## 埋める"
   ]
  },
  {
   "cell_type": "code",
   "execution_count": 14,
   "metadata": {},
   "outputs": [
    {
     "data": {
      "text/plain": [
       "[ 'X', 'X', 'X', 'X', 'X', 'X' ]"
      ]
     },
     "execution_count": 14,
     "metadata": {},
     "output_type": "execute_result"
    }
   ],
   "source": [
    "var a=['B','E','D','F','A','C']\n",
    "a.fill('X')"
   ]
  },
  {
   "cell_type": "code",
   "execution_count": 15,
   "metadata": {},
   "outputs": [
    {
     "data": {
      "text/plain": [
       "[ 'B', 'E', 'X', 'F', 'A', 'C' ]"
      ]
     },
     "execution_count": 15,
     "metadata": {},
     "output_type": "execute_result"
    }
   ],
   "source": [
    "var a=['B','E','D','F','A','C']\n",
    "a.fill('X',2,3)"
   ]
  },
  {
   "cell_type": "markdown",
   "metadata": {},
   "source": [
    "---\n",
    "### 要素の検索"
   ]
  },
  {
   "cell_type": "code",
   "execution_count": 16,
   "metadata": {},
   "outputs": [
    {
     "data": {
      "text/plain": [
       "true"
      ]
     },
     "execution_count": 16,
     "metadata": {},
     "output_type": "execute_result"
    }
   ],
   "source": [
    "['B','E','D','F','A','C'].includes('C')"
   ]
  },
  {
   "cell_type": "code",
   "execution_count": 17,
   "metadata": {},
   "outputs": [
    {
     "data": {
      "text/plain": [
       "1"
      ]
     },
     "execution_count": 17,
     "metadata": {},
     "output_type": "execute_result"
    }
   ],
   "source": [
    "['F','T','F','T','F'].indexOf('T') // 左から位置を検索"
   ]
  },
  {
   "cell_type": "code",
   "execution_count": 18,
   "metadata": {},
   "outputs": [
    {
     "data": {
      "text/plain": [
       "3"
      ]
     },
     "execution_count": 18,
     "metadata": {},
     "output_type": "execute_result"
    }
   ],
   "source": [
    "['F','T','F','T','F'].lastIndexOf('T') // 右から位置を検索"
   ]
  },
  {
   "cell_type": "code",
   "execution_count": 19,
   "metadata": {},
   "outputs": [
    {
     "data": {
      "text/plain": [
       "4"
      ]
     },
     "execution_count": 19,
     "metadata": {},
     "output_type": "execute_result"
    }
   ],
   "source": [
    "[7,2,4,3,8,10].find((value,index,array)=>{\n",
    "\treturn (value**0.5)%1==0; // 値の平方根が整数ならtrue\n",
    "}) // 最初に平方根が整数になる要素を返す"
   ]
  },
  {
   "cell_type": "code",
   "execution_count": 20,
   "metadata": {},
   "outputs": [
    {
     "data": {
      "text/plain": [
       "2"
      ]
     },
     "execution_count": 20,
     "metadata": {},
     "output_type": "execute_result"
    }
   ],
   "source": [
    "[7,2,4,3,8,10].findIndex((value,index,array)=>{\n",
    "\treturn (value**0.5)%1==0; // 値の平方根が整数ならtrue\n",
    "}) // 最初に平方根が整数になる要素の場所を返す"
   ]
  },
  {
   "cell_type": "code",
   "execution_count": 21,
   "metadata": {},
   "outputs": [
    {
     "data": {
      "text/plain": [
       "true"
      ]
     },
     "execution_count": 21,
     "metadata": {},
     "output_type": "execute_result"
    }
   ],
   "source": [
    "[7,2,4,3,8,10].some((value,index,array)=>{\n",
    "\treturn value==index*2; // 値がインデックスの2倍ならtrue\n",
    "}); // 1つでも値がインデックスの2倍になる組があればtrueを返す"
   ]
  },
  {
   "cell_type": "code",
   "execution_count": 22,
   "metadata": {},
   "outputs": [
    {
     "data": {
      "text/plain": [
       "false"
      ]
     },
     "execution_count": 22,
     "metadata": {},
     "output_type": "execute_result"
    }
   ],
   "source": [
    "[7,2,4,3,8,10].every((value,index,array)=>{\n",
    "\treturn value==index*2; // 値がインデックスの2倍ならtrue\n",
    "}); // 全ての組で値がインデックスの2倍であればtrueを返す"
   ]
  },
  {
   "cell_type": "markdown",
   "metadata": {},
   "source": [
    "---\n",
    "## 要素を絞る"
   ]
  },
  {
   "cell_type": "code",
   "execution_count": 23,
   "metadata": {},
   "outputs": [
    {
     "data": {
      "text/plain": [
       "[ 2, 4, 8, 10 ]"
      ]
     },
     "execution_count": 23,
     "metadata": {},
     "output_type": "execute_result"
    }
   ],
   "source": [
    "[7,2,4,3,8,10].filter((value,index,array)=>{\n",
    "\treturn value==index*2; // 値がインデックスの2倍ならtrue\n",
    "})"
   ]
  },
  {
   "cell_type": "markdown",
   "metadata": {},
   "source": [
    "---\n",
    "## 要素を変換"
   ]
  },
  {
   "cell_type": "code",
   "execution_count": 24,
   "metadata": {},
   "outputs": [
    {
     "data": {
      "text/plain": [
       "[ 49, 4, 16, 9, 64, 100 ]"
      ]
     },
     "execution_count": 24,
     "metadata": {},
     "output_type": "execute_result"
    }
   ],
   "source": [
    "[7,2,4,3,8,10].map((value,index,array)=>{\n",
    "\treturn value**2; // 値を2乗する\n",
    "})"
   ]
  },
  {
   "cell_type": "markdown",
   "metadata": {},
   "source": [
    "---\n",
    "## 要素を縮約"
   ]
  },
  {
   "cell_type": "code",
   "execution_count": 25,
   "metadata": {},
   "outputs": [
    {
     "data": {
      "text/plain": [
       "4.6"
      ]
     },
     "execution_count": 25,
     "metadata": {},
     "output_type": "execute_result"
    }
   ],
   "source": [
    "[2.5,2.4,2.8,2.7,2.6].reduce((acc,value,index,array)=>{\n",
    "\treturn acc+value/array.length; // 平均値を求める\n",
    "})"
   ]
  },
  {
   "cell_type": "code",
   "execution_count": 26,
   "metadata": {},
   "outputs": [
    {
     "data": {
      "text/plain": [
       "4.68"
      ]
     },
     "execution_count": 26,
     "metadata": {},
     "output_type": "execute_result"
    }
   ],
   "source": [
    "[2.5,2.4,2.8,2.7,2.6].reduceRight((acc,value,index,array)=>{\n",
    "\treturn acc+value/array.length; // 平均値を求める\n",
    "})"
   ]
  },
  {
   "cell_type": "markdown",
   "metadata": {},
   "source": [
    "`reduceRight` は後ろから前に向かって縮約していく"
   ]
  },
  {
   "cell_type": "markdown",
   "metadata": {},
   "source": [
    "---\n",
    "## 並び替え"
   ]
  },
  {
   "cell_type": "markdown",
   "metadata": {},
   "source": [
    "### ソート"
   ]
  },
  {
   "cell_type": "code",
   "execution_count": 27,
   "metadata": {},
   "outputs": [
    {
     "data": {
      "text/plain": [
       "[ 'A', 'B', 'C', 'D', 'E', 'F' ]"
      ]
     },
     "execution_count": 27,
     "metadata": {},
     "output_type": "execute_result"
    }
   ],
   "source": [
    "['B','E','D','F','A','C'].sort()"
   ]
  },
  {
   "cell_type": "markdown",
   "metadata": {},
   "source": [
    "* 並び替えの仕方を指定することもできる  \n",
    "\t省略した場合は,\"要素を文字列に変換した上で昇順で並び替え\"と等しい  \n",
    "\t例\n",
    "\t```JavaScript\n",
    "\t[2,5,4,6,1,3].sort((a,b)=> a - b ); // 数値を昇順で並び替え\n",
    "\t[2,5,4,6,1,3].sort((a,b)=> b - a ); // 数値を降順で並び替え\n",
    "\t```"
   ]
  },
  {
   "cell_type": "markdown",
   "metadata": {},
   "source": [
    "### 逆順"
   ]
  },
  {
   "cell_type": "code",
   "execution_count": 28,
   "metadata": {},
   "outputs": [
    {
     "data": {
      "text/plain": [
       "[ 'C', 'A', 'F', 'D', 'E', 'B' ]"
      ]
     },
     "execution_count": 28,
     "metadata": {},
     "output_type": "execute_result"
    }
   ],
   "source": [
    "['B','E','D','F','A','C'].reverse()"
   ]
  }
 ],
 "metadata": {
  "kernelspec": {
   "display_name": "JavaScript",
   "language": "javascript",
   "name": "javascript"
  },
  "language_info": {
   "file_extension": ".js",
   "mimetype": "application/javascript",
   "name": "javascript",
   "version": "14.8.0"
  }
 },
 "nbformat": 4,
 "nbformat_minor": 4
}