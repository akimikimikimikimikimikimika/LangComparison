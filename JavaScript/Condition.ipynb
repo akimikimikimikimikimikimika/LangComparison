{
 "cells": [
  {
   "cell_type": "markdown",
   "metadata": {},
   "source": [
    "# 条件分岐"
   ]
  },
  {
   "cell_type": "code",
   "execution_count": 1,
   "metadata": {},
   "outputs": [],
   "source": [
    "let test1 = true;\n",
    "let test2 = false;"
   ]
  },
  {
   "cell_type": "code",
   "execution_count": 2,
   "metadata": {},
   "outputs": [
    {
     "name": "stdout",
     "output_type": "stream",
     "text": [
      "どうやらtest1は真のようです\n"
     ]
    }
   ],
   "source": [
    "if (test1) {\n",
    "\tconsole.log(\"どうやらtest1は真のようです\");\n",
    "}"
   ]
  },
  {
   "cell_type": "code",
   "execution_count": 3,
   "metadata": {},
   "outputs": [
    {
     "name": "stdout",
     "output_type": "stream",
     "text": [
      "真偽が混在しているようです\n"
     ]
    }
   ],
   "source": [
    "if (!test1) console.log(\"どうやらtest1は偽のようです\");\n",
    "else if (test2) console.log(\"どうやらtest2は真のようです\");\n",
    "else if (!test2 && test1) console.log(\"真偽が混在しているようです\");\n",
    "else console.log(\"どれでもないようです\");"
   ]
  },
  {
   "cell_type": "code",
   "execution_count": 4,
   "metadata": {},
   "outputs": [
    {
     "name": "stdout",
     "output_type": "stream",
     "text": [
      "これに隣接する数にも言えたりするが,\n",
      "8は素数ではない\n"
     ]
    }
   ],
   "source": [
    "let val = 8;\n",
    "switch (val) {\n",
    "\tcase 0:\n",
    "\tcase 1:\n",
    "\t\tconsole.log(val+\"は特別な値である\"); break;\n",
    "\tcase 8:\n",
    "\tcase 9:\n",
    "\tcase 10:\n",
    "\t\tconsole.log(\"これに隣接する数にも言えたりするが,\");\n",
    "\t\t// breakを省くと,case 8,9,10を実行すれば,直下のcase 4,6も実行する\n",
    "\tcase 4:\n",
    "\tcase 6:\n",
    "\t\tconsole.log(val+\"は素数ではない\"); break;\n",
    "\tcase 2:\n",
    "\tcase 3:\n",
    "\tcase 5:\n",
    "\tcase 7:\n",
    "\t\tcnosole.log(val+\"は素数である\"); break;\n",
    "\tdefault:\n",
    "\t\tconsole.log(val+\"なぞ私には興味がない\"); break;\n",
    "}"
   ]
  },
  {
   "cell_type": "markdown",
   "metadata": {},
   "source": [
    "`case` に文字列を使用することは可能である"
   ]
  }
 ],
 "metadata": {
  "kernelspec": {
   "display_name": "JavaScript",
   "language": "javascript",
   "name": "javascript"
  },
  "language_info": {
   "file_extension": ".js",
   "mimetype": "application/javascript",
   "name": "javascript",
   "version": "14.5.0"
  }
 },
 "nbformat": 4,
 "nbformat_minor": 4
}
