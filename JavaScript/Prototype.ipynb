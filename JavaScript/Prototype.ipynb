{
 "cells": [
  {
   "cell_type": "markdown",
   "metadata": {},
   "source": [
    "# プロトタイプ型宣言"
   ]
  },
  {
   "cell_type": "markdown",
   "metadata": {},
   "source": [
    "ここでは,プロトタイプ型のオブジェクト指向の具体例を示す。  \n",
    "JavaScriptにおけるオブジェクト指向は元々プロトタイプ型のみであった。後に他言語にあるようなクラス型のオブジェクト指向を導入した。  \n",
    "ここでは旧来のプロトタイプ型を掲載する。"
   ]
  },
  {
   "cell_type": "markdown",
   "metadata": {},
   "source": [
    "## プロトタイプ定義1 (Vector)"
   ]
  },
  {
   "cell_type": "code",
   "execution_count": 1,
   "metadata": {},
   "outputs": [
    {
     "data": {
      "text/plain": [
       "{\n",
       "  x: 0,\n",
       "  y: 0,\n",
       "  z: 0,\n",
       "  desc: [Function: desc],\n",
       "  add: [Function: add],\n",
       "  coefMultiply: [Function: coefMultiply],\n",
       "  coefMultiplied: [Function: coefMultiplied]\n",
       "}"
      ]
     },
     "execution_count": 1,
     "metadata": {},
     "output_type": "execute_result"
    }
   ],
   "source": [
    "// イニシャライザ/コンストラクタ\n",
    "function Vector(x,y,z) {\n",
    "\tthis.x = x;\n",
    "\tthis.y = y;\n",
    "\tthis.z = z;\n",
    "};\n",
    "\n",
    "// プロトタイプオブジェクトを定義\n",
    "// new Vector(...) により,このプロトタイプをコピーして新たなオブジェクトを生成し,イニシャライザで初期化処理をして渡される。\n",
    "Vector.prototype = {\n",
    "\n",
    "\tx:0,\n",
    "\ty:0,\n",
    "\tz:0,\n",
    "\t// インスタンス変数\n",
    "\t\t// 各インスタンス毎に異なる値\n",
    "\t\t// インスタンスメソッド内のみから this.x でアクセス可能\n",
    "\t\t// 外部からは v.x でアクセス可能\n",
    "\n",
    "\tdesc:function(){\n",
    "\t\treturn `(${this.x},${this.y},${this.z})`;\n",
    "\t},\n",
    "\n",
    "\t// 足し算を定義\n",
    "\t// インスタンスメソッド版 (自分自身に足し合わせていく)\n",
    "\tadd:function(...args){\n",
    "\t\targs.forEach(v=>{\n",
    "\t\t\tthis.x += v.x;\n",
    "\t\t\tthis.y += v.y;\n",
    "\t\t\tthis.z += v.z;\n",
    "\t\t});\n",
    "\t\treturn this;\n",
    "\t},\n",
    "\n",
    "\t// スカラ倍を定義\n",
    "\t// 自分自身を実数倍\n",
    "\tcoefMultiply:function(k){\n",
    "\t\tthis.x *= k;\n",
    "\t\tthis.y *= k;\n",
    "\t\tthis.z *= k;\n",
    "\t\treturn this;\n",
    "\t},\n",
    "\t// 自分自身の実数倍のVectorを生成\n",
    "\tcoefMultiplied:function(k){\n",
    "\t\treturn new Vector(this.x*k,this.y*k,this.z*k);\n",
    "\t}\n",
    "\n",
    "};"
   ]
  },
  {
   "cell_type": "markdown",
   "metadata": {},
   "source": [
    "メソッド内で,インスタンス自身/クラス自身は, `this` から呼び出す"
   ]
  },
  {
   "cell_type": "markdown",
   "metadata": {},
   "source": [
    "## プロトタイプ定義2 (ExtendedVector inherits from Vector)"
   ]
  },
  {
   "cell_type": "code",
   "execution_count": 2,
   "metadata": {},
   "outputs": [
    {
     "data": {
      "text/plain": [
       "[Function (anonymous)]"
      ]
     },
     "execution_count": 2,
     "metadata": {},
     "output_type": "execute_result"
    }
   ],
   "source": [
    "function ExtendedVector(x,y,z) {\n",
    "\tthis.x = x;\n",
    "\tthis.y = y;\n",
    "\tthis.z = z;\n",
    "};\n",
    "\n",
    "// 継承として,継承元クラスのコピーをプロトタイプにする\n",
    "let ev = new Vector(0,0,0);\n",
    "ExtendedVector.prototype = ev;\n",
    "\n",
    "// プロトタイプ変数 (イニシャライザ関数に直接埋め込む)\n",
    "Vector.VERSION = ExtendedVector.VERSION = \"1.0\";\n",
    "Vector.description = ExtendedVector.description = \"JavaScript simple vector class\";\n",
    "\n",
    "// プロトタイプメソッド (イニシャライザ関数に直接埋め込む)\n",
    "\n",
    "// 引数のVectorを足し合わせた結果を返す\n",
    "Vector.added = ExtendedVector.added = function(...args){\n",
    "\tlet a = new Vector(0,0,0);\n",
    "\targs.forEach(v=>{\n",
    "\t\ta.x += v.x;\n",
    "\t\ta.y += v.y;\n",
    "\t\ta.z += v.z;\n",
    "\t});\n",
    "\treturn a;\n",
    "};\n",
    "\n",
    "// メソッド内で description を呼ぶ\n",
    "Vector.describe = ExtendedVector.describe = function(){\n",
    "\treturn this.description;\n",
    "};\n",
    "\n",
    "// 以下で,プロトタイプを拡張する\n",
    "\n",
    "// 内積を定義\n",
    "ev.dot = function(v){\n",
    "\tvar p=0;\n",
    "\tp += this.x*v.x;\n",
    "\tp += this.y*v.y;\n",
    "\tp += this.z*v.z;\n",
    "\treturn p;\n",
    "};\n",
    "\n",
    "// 外積を定義\n",
    "ev.cross = function(v){\n",
    "\treturn new Vector(\n",
    "\t\tthis.y*v.z-this.z*v.y,\n",
    "\t\tthis.z*v.x-this.x*v.z,\n",
    "\t\tthis.x*v.y-this.y*v.x\n",
    "\t);\n",
    "};\n",
    "\n",
    "// ノルムを定義\n",
    "ev.norm = function(){\n",
    "\treturn Math.sqrt(this.dot(this));\n",
    "};\n",
    "\n",
    "// 説明できるはず\n",
    "ExtendedVector.describeFromSub = function(){\n",
    "\treturn this.description;\n",
    "};\n",
    "\n",
    "// プライベートメソッドはない"
   ]
  },
  {
   "cell_type": "markdown",
   "metadata": {},
   "source": [
    "## プロトタイプの利用"
   ]
  },
  {
   "cell_type": "code",
   "execution_count": 3,
   "metadata": {},
   "outputs": [
    {
     "data": {
      "text/plain": [
       "16"
      ]
     },
     "execution_count": 3,
     "metadata": {},
     "output_type": "execute_result"
    }
   ],
   "source": [
    "let vec1 = new Vector(3,2,1);\n",
    "let vec2 = new ExtendedVector(6,4,2);\n",
    "let vec3 = new ExtendedVector(54,63,72);\n",
    "let vec4 = new Vector(0,0,0);\n",
    "\n",
    "// 値の設定\n",
    "vec3.x = 16;"
   ]
  },
  {
   "cell_type": "code",
   "execution_count": 4,
   "metadata": {},
   "outputs": [
    {
     "name": "stdout",
     "output_type": "stream",
     "text": [
      "\n",
      "\n",
      "vec1: [object Object]\n",
      "vec2: [object Object]\n",
      "\n",
      "vec1の説明: (3,2,1)\n",
      "vec2の説明: (6,4,2)\n",
      "vec3の説明: (16,63,72)\n",
      "vec4の説明: (0,0,0)\n",
      "\n",
      "vec1のx座標: 3\n",
      "vec2のy座標: 4\n",
      "vec3のz座標: 72\n",
      "\n",
      "vec1+vec2+vec3: (25,69,75)\n",
      "vec4+vec2: (6,4,2)\n",
      "vec2×12: (72,48,24)\n",
      "\n",
      "vec2∙vec3: 492\n",
      "vec3×vec2: (-162,400,-314)\n",
      "|vec3|:    97\n",
      "|vec2|:    undefined\n",
      "\n",
      "説明してもらう:\n",
      "JavaScript simple vector class\n",
      "JavaScript simple vector class\n",
      "\n",
      "バージョン表示:\n",
      "1.0\n",
      "1.0\n",
      "\n",
      "\n"
     ]
    }
   ],
   "source": [
    "console.log(`\n",
    "\n",
    "vec1: ${   vec1   }\n",
    "vec2: ${   vec2   }\n",
    "\n",
    "vec1の説明: ${   vec1.desc()   }\n",
    "vec2の説明: ${   vec2.desc()   }\n",
    "vec3の説明: ${   vec3.desc()   }\n",
    "vec4の説明: ${   vec4.desc()   }\n",
    "\n",
    "vec1のx座標: ${   vec1.x   }\n",
    "vec2のy座標: ${   vec2.y   }\n",
    "vec3のz座標: ${   vec3.z   }\n",
    "\n",
    "vec1+vec2+vec3: ${   Vector.added(vec1,vec2,vec3).desc()   }\n",
    "vec4+vec2: ${   vec4.add(vec2).desc()   }\n",
    "vec2×12: ${   vec2.coefMultiplied(12).desc()   }\n",
    "\n",
    "vec2∙vec3: ${   vec2.dot(vec3)   }\n",
    "vec3×vec2: ${   vec3.cross(vec2).desc()   }\n",
    "|vec3|:    ${   vec3.norm()   }\n",
    "|vec2|:    ${   vec2.abs      }\n",
    "\n",
    "説明してもらう:\n",
    "${   Vector.describe()   }\n",
    "${   ExtendedVector.describeFromSub()   }\n",
    "\n",
    "バージョン表示:\n",
    "${   Vector.VERSION   }\n",
    "${   ExtendedVector.VERSION   }\n",
    "\n",
    "`)\n",
    "\n",
    "// アクセスできません (クラスメソッドにインスタンスからはアクセスできない)\n",
    "// vec1.describe()\n",
    "// vec2.describeFromSub()\n",
    "\n",
    "// アクセスできません (クラス変数にインスタンスからはアクセスできない)\n",
    "// vec1.VERSION\n",
    "// vec2.VERSION"
   ]
  }
 ],
 "metadata": {
  "kernelspec": {
   "display_name": "JavaScript",
   "language": "javascript",
   "name": "javascript"
  },
  "language_info": {
   "file_extension": ".js",
   "mimetype": "application/javascript",
   "name": "javascript",
   "version": "14.6.0"
  }
 },
 "nbformat": 4,
 "nbformat_minor": 4
}
