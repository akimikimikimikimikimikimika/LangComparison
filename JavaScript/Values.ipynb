{
 "cells": [
  {
   "cell_type": "markdown",
   "metadata": {},
   "source": [
    "# 色々な値"
   ]
  },
  {
   "cell_type": "markdown",
   "metadata": {},
   "source": [
    "## 文字列"
   ]
  },
  {
   "cell_type": "code",
   "execution_count": 1,
   "metadata": {},
   "outputs": [
    {
     "data": {
      "text/plain": [
       "'ジャバスクリプト'"
      ]
     },
     "execution_count": 1,
     "metadata": {},
     "output_type": "execute_result"
    }
   ],
   "source": [
    "var string = \"ジャバスクリプト\";\n",
    "string"
   ]
  },
  {
   "cell_type": "markdown",
   "metadata": {},
   "source": [
    "### 複数行"
   ]
  },
  {
   "cell_type": "code",
   "execution_count": 2,
   "metadata": {},
   "outputs": [
    {
     "data": {
      "text/plain": [
       "'\\nFirst line\\nSecond line\\nThird line\\n'"
      ]
     },
     "execution_count": 2,
     "metadata": {},
     "output_type": "execute_result"
    }
   ],
   "source": [
    "var lines = `\n",
    "First line\n",
    "Second line\n",
    "Third line\n",
    "`;\n",
    "lines"
   ]
  },
  {
   "cell_type": "markdown",
   "metadata": {},
   "source": [
    "変数展開/式展開の仕方\n",
    "```JavaScript\n",
    "`The value is ${val*2}`\n",
    "```"
   ]
  },
  {
   "cell_type": "code",
   "execution_count": 3,
   "metadata": {},
   "outputs": [
    {
     "data": {
      "text/plain": [
       "[String: 'ジャバスクリプト']"
      ]
     },
     "execution_count": 3,
     "metadata": {},
     "output_type": "execute_result"
    }
   ],
   "source": [
    "// オブジェクト的\n",
    "var string = new String(\"ジャバスクリプト\");\n",
    "string"
   ]
  },
  {
   "cell_type": "markdown",
   "metadata": {},
   "source": [
    "## 数値"
   ]
  },
  {
   "cell_type": "code",
   "execution_count": 4,
   "metadata": {},
   "outputs": [
    {
     "data": {
      "text/plain": [
       "6"
      ]
     },
     "execution_count": 4,
     "metadata": {},
     "output_type": "execute_result"
    }
   ],
   "source": [
    "var integer = 6\n",
    "integer"
   ]
  },
  {
   "cell_type": "code",
   "execution_count": 5,
   "metadata": {},
   "outputs": [
    {
     "data": {
      "text/plain": [
       "3.75e-8"
      ]
     },
     "execution_count": 5,
     "metadata": {},
     "output_type": "execute_result"
    }
   ],
   "source": [
    "var floating = .0375e-6\n",
    "floating"
   ]
  },
  {
   "cell_type": "code",
   "execution_count": 6,
   "metadata": {},
   "outputs": [
    {
     "data": {
      "text/plain": [
       "[Number: 6]"
      ]
     },
     "execution_count": 6,
     "metadata": {},
     "output_type": "execute_result"
    }
   ],
   "source": [
    "// オブジェクト的\n",
    "var number = new Number(6)\n",
    "number"
   ]
  },
  {
   "cell_type": "markdown",
   "metadata": {},
   "source": [
    "特殊な値\n",
    "- `Infinity`\n",
    "- `-Infinity`\n",
    "- `NaN` : Not a Number (正しい数値ではないことを示す値)"
   ]
  },
  {
   "cell_type": "markdown",
   "metadata": {},
   "source": [
    "## 真偽値"
   ]
  },
  {
   "cell_type": "code",
   "execution_count": 7,
   "metadata": {},
   "outputs": [
    {
     "data": {
      "text/plain": [
       "true"
      ]
     },
     "execution_count": 7,
     "metadata": {},
     "output_type": "execute_result"
    }
   ],
   "source": [
    "var boolean = true;\n",
    "boolean"
   ]
  },
  {
   "cell_type": "code",
   "execution_count": 8,
   "metadata": {},
   "outputs": [
    {
     "data": {
      "text/plain": [
       "[Boolean: true]"
      ]
     },
     "execution_count": 8,
     "metadata": {},
     "output_type": "execute_result"
    }
   ],
   "source": [
    "// オブジェクト的\n",
    "var boolean = new Boolean(true);\n",
    "boolean"
   ]
  },
  {
   "cell_type": "markdown",
   "metadata": {},
   "source": [
    "## ヌル値"
   ]
  },
  {
   "cell_type": "code",
   "execution_count": 9,
   "metadata": {},
   "outputs": [
    {
     "data": {
      "text/plain": [
       "null"
      ]
     },
     "execution_count": 9,
     "metadata": {},
     "output_type": "execute_result"
    }
   ],
   "source": [
    "var nil = null; // 値なしを示す値\n",
    "nil"
   ]
  },
  {
   "cell_type": "markdown",
   "metadata": {},
   "source": [
    "## 未定義値"
   ]
  },
  {
   "cell_type": "code",
   "execution_count": 10,
   "metadata": {},
   "outputs": [],
   "source": [
    "var ud = undefined; // 定義されていないことを示す。オブジェクトで存在しないプロパティは常にこの値。\n",
    "ud"
   ]
  },
  {
   "cell_type": "markdown",
   "metadata": {},
   "source": [
    "## 配列,リスト"
   ]
  },
  {
   "cell_type": "code",
   "execution_count": 11,
   "metadata": {},
   "outputs": [
    {
     "data": {
      "text/plain": [
       "[ 1, 'second', 3, 3.14, false ]"
      ]
     },
     "execution_count": 11,
     "metadata": {},
     "output_type": "execute_result"
    }
   ],
   "source": [
    "let list = [1, \"second\", 3, 3.14, false];\n",
    "list"
   ]
  },
  {
   "cell_type": "code",
   "execution_count": 12,
   "metadata": {},
   "outputs": [
    {
     "data": {
      "text/plain": [
       "'2番目: 3'"
      ]
     },
     "execution_count": 12,
     "metadata": {},
     "output_type": "execute_result"
    }
   ],
   "source": [
    "`2番目: ${list[2]}`"
   ]
  },
  {
   "cell_type": "code",
   "execution_count": 13,
   "metadata": {},
   "outputs": [
    {
     "data": {
      "text/plain": [
       "'大きさ: 5'"
      ]
     },
     "execution_count": 13,
     "metadata": {},
     "output_type": "execute_result"
    }
   ],
   "source": [
    "`大きさ: ${list.length}`"
   ]
  },
  {
   "cell_type": "code",
   "execution_count": 14,
   "metadata": {},
   "outputs": [
    {
     "data": {
      "text/plain": [
       "[ [ 1, 'second', 3, 3.14, false ] ]"
      ]
     },
     "execution_count": 14,
     "metadata": {},
     "output_type": "execute_result"
    }
   ],
   "source": [
    "// オブジェクト的\n",
    "let array = new Array(list);\n",
    "array"
   ]
  },
  {
   "cell_type": "markdown",
   "metadata": {},
   "source": [
    "## オブジェクト"
   ]
  },
  {
   "cell_type": "code",
   "execution_count": 15,
   "metadata": {},
   "outputs": [
    {
     "data": {
      "text/plain": [
       "{ a: 1, b: 'second', c: 3, d: 3.14, e: false }"
      ]
     },
     "execution_count": 15,
     "metadata": {},
     "output_type": "execute_result"
    }
   ],
   "source": [
    "var dict = {\n",
    "\t\"a\":1,\n",
    "\tb:\"second\",\n",
    "\t\"c\":3,\n",
    "\td:3.14,\n",
    "\t\"e\":false\n",
    "};\n",
    "dict"
   ]
  },
  {
   "cell_type": "code",
   "execution_count": 16,
   "metadata": {},
   "outputs": [
    {
     "data": {
      "text/plain": [
       "'b= second'"
      ]
     },
     "execution_count": 16,
     "metadata": {},
     "output_type": "execute_result"
    }
   ],
   "source": [
    "`b= ${dict[\"b\"]}`"
   ]
  },
  {
   "cell_type": "code",
   "execution_count": 17,
   "metadata": {},
   "outputs": [
    {
     "data": {
      "text/plain": [
       "{ a: 1, b: 'second', c: 3, d: 3.14, e: false }"
      ]
     },
     "execution_count": 17,
     "metadata": {},
     "output_type": "execute_result"
    }
   ],
   "source": [
    "var object = new Object(dict);\n",
    "object"
   ]
  },
  {
   "cell_type": "markdown",
   "metadata": {},
   "source": [
    "## 変数の宣言\n",
    "\n",
    "### 変数\n",
    "```JavaScript\n",
    "var x = 6;\n",
    "x = 6; // グローバル変数: 関数内外からアクセス可能\n",
    "```\n",
    "\n",
    "### 定数\n",
    "```JavaScript\n",
    "let x = 6;\n",
    "```"
   ]
  },
  {
   "cell_type": "markdown",
   "metadata": {},
   "source": [
    "## 型判定\n",
    "* `typeof val` -> `string` : プリミティブ型を判定\n",
    "\t- `\"string\"`,`\"number\"`,`\"boolean\"`,`\"function\"`,`\"symbol\"`,`\"object\"`,`\"undefined\"` のうちいづれか\n",
    "\t- プリミティブでない大概の型は `object` になる (`array`,`map`,`set`,`null`なども)\n",
    "\t- `new String(val)`,`new Number(val)` などとすれば `string` や `number` であっても `object` になってしまう\n",
    "* `val.constructor` -> `Function` (Type) : クラスを返す\n",
    "\t- `val`の型に相当する生成関数 (`string`型であれば関数`String`) を返す\n",
    "* `{}.toString.call(val)` -> `string` : クラスを表示\n",
    "\t- カスタムクラスには通用しない\n",
    "\t- 例えば,`string`型であれば `\"[Object String]\"` というような形式で返ってくる\n",
    "* `val instanceof Type` -> `bool` : 指定した型かどうか判定\n",
    "\t- サブクラスも真になる\n",
    "* `isNaN(val)` -> `bool` : `val`を**数値に変換した場合に** `NaN` になってしまう値\n",
    "\t- つまり, `val` が現に `NaN` でなくても真になる\n",
    "* `Number.isNaN(val)` -> `bool` : `val` が `NaN` の場合に真\n",
    "\t- これは本当に `NaN` でなければならない\n",
    "\t- 因みに `val==NaN` や `val===NaN` は常に `false` になる\n",
    "* `isFinite(val)` -> `bool` : 有限の値 (`±Infinity` 以外の数値) なら真"
   ]
  }
 ],
 "metadata": {
  "kernelspec": {
   "display_name": "JavaScript",
   "language": "javascript",
   "name": "javascript"
  },
  "language_info": {
   "file_extension": ".js",
   "mimetype": "application/javascript",
   "name": "javascript",
   "version": "14.5.0"
  }
 },
 "nbformat": 4,
 "nbformat_minor": 4
}
