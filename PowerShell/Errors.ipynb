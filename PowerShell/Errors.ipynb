{
 "cells": [
  {
   "cell_type": "markdown",
   "metadata": {},
   "source": [
    "# 例外処理"
   ]
  },
  {
   "cell_type": "markdown",
   "metadata": {},
   "source": [
    "PowerShellでは,エラーは次の2種類に分類される\n",
    "* Terminating Error (処理を中断させるエラー)\n",
    "* Non-Terminating Error (処理が継続されるエラー)\n",
    "\n",
    "例外処理は,処理が中断されるようなエラーを捕捉するためのものなので, Terminating Error にしか機能しない\n",
    "Non-Terminating Error でも処理を中断させるには,ファイルの先頭に以下のコードを挿入して設定を変更しなければならない。\n",
    "```PowerShell\n",
    "$ErrorActionPreference = \"Stop\";\n",
    "```\n",
    "\n",
    "* `Stop` = エラーで処理を中断させる\n",
    "* `Continue` = エラーが発生しても処理は継続させる\n",
    "* `SilentlyContinue` = 処理を継続させ,エラーも表示しない\n",
    "* `Inquire` = エラーが発生する度に処理を継続させるかユーザーに尋ねる"
   ]
  },
  {
   "cell_type": "code",
   "execution_count": 1,
   "metadata": {},
   "outputs": [
    {
     "name": "stdout",
     "output_type": "stream",
     "text": [
      "エラーが発生しました\n",
      "エラー内容: System.Management.Automation.RuntimeException: あなたは過ちを犯した!!\n",
      "以上でエラーチェックを終了します\n"
     ]
    }
   ],
   "source": [
    "try {\n",
    "\t# try節内で起こりうる例外は捕捉される\n",
    "\tthrow \"あなたは過ちを犯した!!\"; # 例外の発生 (例外が発生した時点で,それ以降の行は実行しない)\n",
    "}\n",
    "catch {\n",
    "\t# 例外をキャッチすればcatch節が実行される\n",
    "\t$e = $_.Exception;\n",
    "\t\"エラーが発生しました\";\n",
    "\t\"エラー内容: $e\";\n",
    "}\n",
    "finally {\n",
    "\t# 最後にfinally節が実行される\n",
    "\t\"以上でエラーチェックを終了します\";\n",
    "}"
   ]
  },
  {
   "cell_type": "markdown",
   "metadata": {},
   "source": [
    "`try`に対応して,`catch`か`finally`のどちらか一方は最低限必要である"
   ]
  }
 ],
 "metadata": {
  "kernelspec": {
   "display_name": "PowerShell",
   "language": "powershell",
   "name": "powershell"
  },
  "language_info": {
   "codemirror_mode": "shell",
   "file_extension": ".ps1",
   "mimetype": "text/x-sh",
   "name": "powershell"
  }
 },
 "nbformat": 4,
 "nbformat_minor": 4
}
