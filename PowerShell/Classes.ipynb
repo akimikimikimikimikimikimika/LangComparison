{
 "cells": [
  {
   "cell_type": "markdown",
   "metadata": {},
   "source": [
    "# クラス"
   ]
  },
  {
   "cell_type": "markdown",
   "metadata": {},
   "source": [
    "## クラス定義1 (Vector)"
   ]
  },
  {
   "cell_type": "code",
   "execution_count": 1,
   "metadata": {},
   "outputs": [
    {
     "name": "stdout",
     "output_type": "stream",
     "text": []
    }
   ],
   "source": [
    "class Vector {\n",
    "\n",
    "\t# クラス変数\n",
    "\tstatic [String]$VERSION = \"1.0\";\n",
    "\t\t# クラス内で共有される値\n",
    "\t\t# 書き換え可能\n",
    "\t\t# メソッド内から $this.VERSION でアクセス可能\n",
    "\t\t# 継承クラスからはアクセス不可\n",
    "\t\t# 外部から Vector.VERSION でアクセス可能\n",
    "\n",
    "\t# クラス変数\n",
    "\thidden static [String]$description = \"PowerShell simple vector class\";\n",
    "\t\t# クラス内で共有される値\n",
    "\t\t# 書き換え可能\n",
    "\t\t# メソッド内から $this.description でアクセス可能\n",
    "\t\t# 継承クラスからはアクセス不可\n",
    "\t\t# 外部からはアクセス不可 (hidden)\n",
    "\n",
    "\t[double]$x=0;[double]$y=0;[double]$z=0;\n",
    "\t# インスタンス変数\n",
    "\t\t# 各インスタンス毎に異なる値\n",
    "\t\t# インスタンスメソッド内のみから $this.x でアクセス可能\n",
    "\t\t# 外部から $v.x でアクセス可能\n",
    "\n",
    "\t# イニシャライザ/コンストラクタ\n",
    "\tVector([double]$x,[double]$y,[double]$z) {\n",
    "\t\t$this.x = $x;\n",
    "\t\t$this.y = $y;\n",
    "\t\t$this.z = $z;\n",
    "\t\t# 戻り値を用意せずとも,インスタンスが返される\n",
    "\t}\n",
    "\n",
    "\t# インスタンスの説明\n",
    "\t[string] desc() {\n",
    "\t\treturn \"($($this.x),$($this.y),$($this.z))\";\n",
    "\t}\n",
    "\n",
    "\t# 足し算を定義\n",
    "\n",
    "\t# インスタンスメソッド版 (自分自身に足し合わせていく)\n",
    "\t[Vector] add([Vector]$v) { # 可変長引数を受け取れないみたい\n",
    "\t\t$this.x += $v.x;\n",
    "\t\t$this.y += $v.y;\n",
    "\t\t$this.z += $v.z;\n",
    "\t\treturn $this;\n",
    "\t}\n",
    "\n",
    "\t# クラスメソッド版 (引数のVectorを足し合わせた結果を返す)\n",
    "\t\t# クラスメソッドでは static を前置する\n",
    "\tstatic [Vector] added([Vector]$v1,[Vector]$v2) { # 可変長引数を受け取れないみたい\n",
    "\t\t$a = [Vector]::new(0,0,0);\n",
    "\t\t$a.x += $v1.x+$v2.x;\n",
    "\t\t$a.y += $v1.y+$v2.y;\n",
    "\t\t$a.z += $v1.z+$v2.z;\n",
    "\t\treturn $a;\n",
    "\t}\n",
    "\n",
    "\t# スカラ倍を定義 (共にインスタンスメソッド)\n",
    "\n",
    "\t# 自分自身を実数倍\n",
    "\t[Vector] coefMultiply($k) {\n",
    "\t\t$this.x *= $k;\n",
    "\t\t$this.y *= $k;\n",
    "\t\t$this.z *= $k;\n",
    "\t\treturn $this;\n",
    "\t}\n",
    "\n",
    "\t# 自分自身の実数倍のVectorを生成\n",
    "\t[Vector] coefMultiplied($k) {\n",
    "\t\treturn [Vector]::new($this.x*$k,$this.y*$k,$this.z*$k);\n",
    "\t}\n",
    "\n",
    "\t# メソッド内で $description を呼ぶ\n",
    "\tstatic [String] describe() {\n",
    "\t\treturn [Vector]::description;\n",
    "\t}\n",
    "\n",
    "}"
   ]
  },
  {
   "cell_type": "markdown",
   "metadata": {},
   "source": [
    "メソッド内で,インスタンス自身/クラス自身は, `$this` から呼び出す"
   ]
  },
  {
   "cell_type": "markdown",
   "metadata": {},
   "source": [
    "## クラス定義2 (ExtendedVector inherits from Vector)"
   ]
  },
  {
   "cell_type": "code",
   "execution_count": 2,
   "metadata": {},
   "outputs": [
    {
     "name": "stdout",
     "output_type": "stream",
     "text": []
    }
   ],
   "source": [
    "class ExtendedVector : Vector { # 継承宣言\n",
    "\n",
    "\tExtendedVector([double]$x,[double]$y,[double]$z) : base($x,$y,$z) {}\n",
    "\t\t# base($x,$y,$z) を付加して,親クラスのイニシャライザに初期化を代行させる\n",
    "\n",
    "\t# 内積を定義\n",
    "\t[double] dot([Vector]$v) {\n",
    "\t\t[double]$p=0;\n",
    "\t\t$p += $this.x*$v.x;\n",
    "\t\t$p += $this.y*$v.y;\n",
    "\t\t$p += $this.z*$v.z;\n",
    "\t\treturn $p;\n",
    "\t}\n",
    "\n",
    "\t# 外積を定義\n",
    "\t[Vector] cross([Vector]$v) {\n",
    "\t\treturn [Vector]::new(\n",
    "\t\t\t$this.y*$v.z-$this.z*$v.y,\n",
    "\t\t\t$this.z*$v.x-$this.x*$v.z,\n",
    "\t\t\t$this.x*$v.y-$this.y*$v.x\n",
    "\t\t);\n",
    "\t}\n",
    "\n",
    "\t# ノルムを定義\n",
    "\t[double] norm() {\n",
    "\t\treturn [Math]::Sqrt($this.dot($this));\n",
    "\t}\n",
    "\n",
    "\t# 説明できないはず\n",
    "\tstatic [string] describeFromSub() {\n",
    "\t\treturn [ExtendedVector]::description;\n",
    "\t}\n",
    "\n",
    "\t# プライベートメソッド\n",
    "\t\t# 外部からアクセスできない\n",
    "\thidden [Vector] normalize() {\n",
    "\t\treturn $this.coefMultiply(1/$this.norm());\n",
    "\t}\n",
    "\n",
    "}"
   ]
  },
  {
   "cell_type": "markdown",
   "metadata": {},
   "source": [
    "## クラスの利用"
   ]
  },
  {
   "cell_type": "code",
   "execution_count": 3,
   "metadata": {},
   "outputs": [
    {
     "name": "stdout",
     "output_type": "stream",
     "text": []
    }
   ],
   "source": [
    "$vec1 = [Vector]::new(3,2,1);\n",
    "$vec2 = [ExtendedVector]::new(6,4,2);\n",
    "$vec3 = [ExtendedVector]::new(54,63,72);\n",
    "$vec4 = [Vector]::new(0,0,0);\n",
    "\n",
    "$vec3.x = 16;"
   ]
  },
  {
   "cell_type": "code",
   "execution_count": 4,
   "metadata": {},
   "outputs": [
    {
     "name": "stdout",
     "output_type": "stream",
     "text": [
      "vec1: <636c6bff>.Vector\n",
      "vec2: <520d939a>.ExtendedVector\n",
      "vec1の説明: (3,2,1)\n",
      "vec2の説明: (6,4,2)\n",
      "vec3の説明: (16,63,72)\n",
      "vec4の説明: (0,0,0)\n",
      "vec1のx座標: 3\n",
      "vec2のy座標: 4\n",
      "vec3のz座標: 72\n",
      "vec1+vec2+vec3: (25,69,75)\n",
      "vec4+vec2: (6,4,2)\n",
      "vec2×12: (72,48,24)\n",
      "vec2∙vec3: 492\n",
      "vec3×vec2: (-162,400,-314)\n",
      "|vec3|:    97\n",
      "説明してもらう:\n",
      "PowerShell simple vector class\n",
      "PowerShell simple vector class\n",
      "バージョン表示:\n",
      "1.0\n",
      "1.0\n"
     ]
    }
   ],
   "source": [
    "@\"\n",
    "\n",
    "vec1: $(   $vec1   )\n",
    "vec2: $(   $vec2   )\n",
    "\n",
    "vec1の説明: $(   $vec1.desc()   )\n",
    "vec2の説明: $(   $vec2.desc()   )\n",
    "vec3の説明: $(   $vec3.desc()   )\n",
    "vec4の説明: $(   $vec4.desc()   )\n",
    "\n",
    "vec1のx座標: $(   $vec1.x   )\n",
    "vec2のy座標: $(   $vec2.y   )\n",
    "vec3のz座標: $(   $vec3.z   )\n",
    "\n",
    "vec1+vec2+vec3: $(   [Vector]::added([Vector]::added($vec1,$vec2),$vec3).desc()   )\n",
    "vec4+vec2: $(   $vec4.add($vec2).desc()   )\n",
    "vec2×12: $(   $vec2.coefMultiplied(12).desc()   )\n",
    "\n",
    "vec2∙vec3: $(   $vec2.dot($vec3)   )\n",
    "vec3×vec2: $(   $vec3.cross($vec2).desc()   )\n",
    "|vec3|:    $(   $vec3.norm()   )\n",
    "\n",
    "説明してもらう:\n",
    "$(   [Vector]::describe()   )\n",
    "$(   [ExtendedVector]::describeFromSub()   )\n",
    "\n",
    "バージョン表示:\n",
    "$(   [Vector]::VERSION   )\n",
    "$(   [Vector]::VERSION   )\n",
    "\n",
    "\"@;\n",
    "\n",
    "# アクセスできません (クラスメソッドにインスタンスからはアクセスできない)\n",
    "# $vec1.describe()\n",
    "# $vec2.describeFromSub()\n",
    "\n",
    "# アクセスできません (クラス変数にインスタンスからはアクセスできない)\n",
    "# $vec1.VERSION\n",
    "# $vec2.VERSION"
   ]
  }
 ],
 "metadata": {
  "kernelspec": {
   "display_name": "PowerShell",
   "language": "powershell",
   "name": "powershell"
  },
  "language_info": {
   "codemirror_mode": "shell",
   "file_extension": ".ps1",
   "mimetype": "text/x-sh",
   "name": "powershell"
  }
 },
 "nbformat": 4,
 "nbformat_minor": 4
}
