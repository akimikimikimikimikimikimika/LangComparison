{
 "cells": [
  {
   "cell_type": "markdown",
   "metadata": {},
   "source": [
    "# 文字列フォーマット"
   ]
  },
  {
   "cell_type": "markdown",
   "metadata": {},
   "source": [
    "PowerShell では `%s` のような C 標準のフォーマット形式には対応していない  \n",
    "Pythonに似たフォーマット指定子であるが, `{}` 内には必ず順序を示す数字を記載しなければならない"
   ]
  },
  {
   "cell_type": "code",
   "execution_count": 1,
   "metadata": {},
   "outputs": [
    {
     "name": "stdout",
     "output_type": "stream",
     "text": [
      "Jul. 14 2007\n"
     ]
    }
   ],
   "source": [
    "Write-Output(\"{0}. {1} {2}\" -f \"Jul\",14,2007)"
   ]
  },
  {
   "cell_type": "code",
   "execution_count": 2,
   "metadata": {},
   "outputs": [
    {
     "name": "stdout",
     "output_type": "stream",
     "text": [
      "2007/7/14\n"
     ]
    }
   ],
   "source": [
    "Write-Output(\"{2}/{0}/{1}\" -f 7,14,2007)"
   ]
  },
  {
   "cell_type": "markdown",
   "metadata": {},
   "source": [
    "## 基数"
   ]
  },
  {
   "cell_type": "code",
   "execution_count": 3,
   "metadata": {},
   "outputs": [
    {
     "name": "stdout",
     "output_type": "stream",
     "text": [
      "255\n"
     ]
    }
   ],
   "source": [
    "Write-Output(\"{0:d}\" -f 255) # DEC"
   ]
  },
  {
   "cell_type": "code",
   "execution_count": 4,
   "metadata": {},
   "outputs": [
    {
     "name": "stdout",
     "output_type": "stream",
     "text": [
      "ff\n"
     ]
    }
   ],
   "source": [
    "Write-Output(\"{0:x}\" -f 255) # HEX"
   ]
  },
  {
   "cell_type": "code",
   "execution_count": 5,
   "metadata": {},
   "outputs": [
    {
     "name": "stdout",
     "output_type": "stream",
     "text": [
      "FF\n"
     ]
    }
   ],
   "source": [
    "Write-Output(\"{0:X}\" -f 255) # HEX"
   ]
  },
  {
   "cell_type": "markdown",
   "metadata": {},
   "source": [
    "OCT,BINの変換には対応していないので,予め `[Convert]::ToString($num,$radix)` を使って変えておく"
   ]
  },
  {
   "cell_type": "markdown",
   "metadata": {},
   "source": [
    "## 浮動小数"
   ]
  },
  {
   "cell_type": "code",
   "execution_count": 6,
   "metadata": {},
   "outputs": [
    {
     "name": "stdout",
     "output_type": "stream",
     "text": [
      "0.018\n"
     ]
    }
   ],
   "source": [
    "Write-Output( \"{0:}\" -f 0.018)"
   ]
  },
  {
   "cell_type": "code",
   "execution_count": 7,
   "metadata": {},
   "outputs": [
    {
     "name": "stdout",
     "output_type": "stream",
     "text": [
      "0.018\n"
     ]
    }
   ],
   "source": [
    "Write-Output( \"{0:f}\" -f 0.018)"
   ]
  },
  {
   "cell_type": "code",
   "execution_count": 8,
   "metadata": {},
   "outputs": [
    {
     "name": "stdout",
     "output_type": "stream",
     "text": [
      "0.018\n"
     ]
    }
   ],
   "source": [
    "Write-Output( \"{0:g}\" -f 0.018)"
   ]
  },
  {
   "cell_type": "code",
   "execution_count": 9,
   "metadata": {},
   "outputs": [
    {
     "name": "stdout",
     "output_type": "stream",
     "text": [
      "1.800000e-002\n"
     ]
    }
   ],
   "source": [
    "Write-Output( \"{0:e}\" -f 0.018)"
   ]
  },
  {
   "cell_type": "code",
   "execution_count": 10,
   "metadata": {},
   "outputs": [
    {
     "name": "stdout",
     "output_type": "stream",
     "text": [
      "1.800000E-002\n"
     ]
    }
   ],
   "source": [
    "Write-Output( \"{0:E}\" -f 0.018)"
   ]
  },
  {
   "cell_type": "markdown",
   "metadata": {},
   "source": [
    "## 通貨?"
   ]
  },
  {
   "cell_type": "code",
   "execution_count": 11,
   "metadata": {},
   "outputs": [
    {
     "name": "stdout",
     "output_type": "stream",
     "text": [
      "$18.36\n"
     ]
    }
   ],
   "source": [
    "Write-Output(\"{0:c}\" -f 18.36)"
   ]
  },
  {
   "cell_type": "markdown",
   "metadata": {},
   "source": [
    "## 幅"
   ]
  },
  {
   "cell_type": "code",
   "execution_count": 12,
   "metadata": {},
   "outputs": [
    {
     "name": "stdout",
     "output_type": "stream",
     "text": [
      "        18\n"
     ]
    }
   ],
   "source": [
    "Write-Output(\"{0,10}\" -f 18)"
   ]
  },
  {
   "cell_type": "code",
   "execution_count": 13,
   "metadata": {},
   "outputs": [
    {
     "name": "stdout",
     "output_type": "stream",
     "text": [
      "        ab\n"
     ]
    }
   ],
   "source": [
    "Write-Output(\"{0,10}\" -f \"ab\")"
   ]
  },
  {
   "cell_type": "code",
   "execution_count": 14,
   "metadata": {},
   "outputs": [
    {
     "name": "stdout",
     "output_type": "stream",
     "text": [
      "000.02\n"
     ]
    }
   ],
   "source": [
    "Write-Output(\"{0:000.00}\" -f 0.018)\n",
    "# 整数部3桁,小数点以下2桁でフォーマット"
   ]
  },
  {
   "cell_type": "code",
   "execution_count": 15,
   "metadata": {},
   "outputs": [
    {
     "name": "stdout",
     "output_type": "stream",
     "text": [
      "0.02\n"
     ]
    }
   ],
   "source": [
    "Write-Output(\"{0:f2}\" -f 0.018) # f,c: 小数点以下の桁数"
   ]
  },
  {
   "cell_type": "code",
   "execution_count": 16,
   "metadata": {},
   "outputs": [
    {
     "name": "stdout",
     "output_type": "stream",
     "text": [
      "1.80e-002\n"
     ]
    }
   ],
   "source": [
    "Write-Output(\"{0:e2}\" -f 0.018) # e,g: 有効桁数-1"
   ]
  },
  {
   "cell_type": "markdown",
   "metadata": {},
   "source": [
    "## 桁区切り"
   ]
  },
  {
   "cell_type": "code",
   "execution_count": 17,
   "metadata": {},
   "outputs": [
    {
     "name": "stdout",
     "output_type": "stream",
     "text": [
      "123,456,789\n"
     ]
    }
   ],
   "source": [
    "Write-Output(\"{0:##,#}\" -f 123456789)\n",
    "# 複数の#を挿入し,先頭と末尾以外の箇所にコンマを挿入すれば桁区切りができる\n",
    "# コンマを#の末尾に挿入すれば,末尾に挿入した分だけ3桁ずつ値が削られる"
   ]
  },
  {
   "cell_type": "code",
   "execution_count": 18,
   "metadata": {},
   "outputs": [
    {
     "name": "stdout",
     "output_type": "stream",
     "text": [
      "00,001,234\n"
     ]
    }
   ],
   "source": [
    "Write-Output(\"{0:0000000,0}\" -f 1234)\n",
    "# 先ほどの#の時とルールは同じ\n",
    "# 0の個数だけ桁が用意され,使わない桁には0になる"
   ]
  },
  {
   "cell_type": "code",
   "execution_count": 19,
   "metadata": {},
   "outputs": [
    {
     "name": "stdout",
     "output_type": "stream",
     "text": [
      "090-1234-5678\n"
     ]
    }
   ],
   "source": [
    "Write-Output(\"{0:0##-####-####}\" -f 09012345678)\n",
    "# コンマ以外の区切り文字の場合は,コンマの場合と振る舞いが異なる\n",
    "# 0又は#で桁数を指定して区切ることができる\n",
    "# #の場合,存在しない桁は無視されるが,0の場合は存在しない桁には0が入る"
   ]
  },
  {
   "cell_type": "code",
   "execution_count": 20,
   "metadata": {},
   "outputs": [
    {
     "name": "stdout",
     "output_type": "stream",
     "text": [
      "1@23^456.78_90\n"
     ]
    }
   ],
   "source": [
    "Write-Output(\"{0:##@##^###.##_00}\" -f 123456.789)"
   ]
  },
  {
   "cell_type": "markdown",
   "metadata": {},
   "source": [
    "## 配置"
   ]
  },
  {
   "cell_type": "code",
   "execution_count": 21,
   "metadata": {},
   "outputs": [
    {
     "name": "stdout",
     "output_type": "stream",
     "text": [
      "       18\n"
     ]
    }
   ],
   "source": [
    "Write-Output(\"{0,9}\" -f 18)"
   ]
  },
  {
   "cell_type": "code",
   "execution_count": 22,
   "metadata": {},
   "outputs": [
    {
     "name": "stdout",
     "output_type": "stream",
     "text": [
      "18       \n"
     ]
    }
   ],
   "source": [
    "Write-Output(\"{0,-9}\" -f 18)"
   ]
  },
  {
   "cell_type": "markdown",
   "metadata": {},
   "source": [
    "## フォーマットして出力する方法\n",
    "`Write-Output(\"{0:X}\" -f 255)` →"
   ]
  },
  {
   "cell_type": "code",
   "execution_count": 23,
   "metadata": {},
   "outputs": [
    {
     "name": "stdout",
     "output_type": "stream",
     "text": [
      "FF\n"
     ]
    }
   ],
   "source": [
    "\"{0:X}\" -f 255"
   ]
  },
  {
   "cell_type": "code",
   "execution_count": 24,
   "metadata": {},
   "outputs": [
    {
     "name": "stdout",
     "output_type": "stream",
     "text": [
      "FF\n"
     ]
    }
   ],
   "source": [
    "[String]::Format(\"{0:X}\",255)"
   ]
  },
  {
   "cell_type": "code",
   "execution_count": 25,
   "metadata": {},
   "outputs": [
    {
     "name": "stdout",
     "output_type": "stream",
     "text": [
      "FF\n"
     ]
    }
   ],
   "source": [
    "$x=255\n",
    "$x.ToString(\"X\")"
   ]
  }
 ],
 "metadata": {
  "kernelspec": {
   "display_name": "PowerShell",
   "language": "powershell",
   "name": "powershell"
  },
  "language_info": {
   "codemirror_mode": "shell",
   "file_extension": ".ps1",
   "mimetype": "text/x-sh",
   "name": "powershell"
  }
 },
 "nbformat": 4,
 "nbformat_minor": 4
}
