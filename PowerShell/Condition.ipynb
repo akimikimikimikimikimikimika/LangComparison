{
 "cells": [
  {
   "cell_type": "markdown",
   "metadata": {},
   "source": [
    "# 条件分岐"
   ]
  },
  {
   "cell_type": "code",
   "execution_count": 1,
   "metadata": {},
   "outputs": [
    {
     "name": "stdout",
     "output_type": "stream",
     "text": []
    }
   ],
   "source": [
    "$test1 = $True;\n",
    "$test2 = $False;"
   ]
  },
  {
   "cell_type": "code",
   "execution_count": 2,
   "metadata": {},
   "outputs": [
    {
     "name": "stdout",
     "output_type": "stream",
     "text": [
      "どうやらtest1は真のようです\n"
     ]
    }
   ],
   "source": [
    "if ($test1) {\n",
    "\t\"どうやらtest1は真のようです\";\n",
    "}"
   ]
  },
  {
   "cell_type": "code",
   "execution_count": 3,
   "metadata": {},
   "outputs": [
    {
     "name": "stdout",
     "output_type": "stream",
     "text": [
      "真偽が混在しているようです\n"
     ]
    }
   ],
   "source": [
    "if (-not $test1) {\n",
    "\t\"どうやらtest1は偽のようです\";\n",
    "}\n",
    "elseif ($test2) {\n",
    "\t\"どうやらtest2は真のようです\";\n",
    "}\n",
    "elseif (-not $test2 -and $test1) {\n",
    "\t\"真偽が混在しているようです\";\n",
    "}\n",
    "else {\n",
    "\t\"どれでもないようです\";\n",
    "}"
   ]
  },
  {
   "cell_type": "code",
   "execution_count": 4,
   "metadata": {},
   "outputs": [
    {
     "name": "stdout",
     "output_type": "stream",
     "text": [
      "8は連続して素数ではない\n"
     ]
    }
   ],
   "source": [
    "$val = 8;\n",
    "switch -r (\"$val\") {\n",
    "\t\"^[01]$\" {\n",
    "\t\t\"${val}は特別な値である\";\n",
    "\t}\n",
    "\t\"^([89]|10)$\" {\n",
    "\t\t\"${val}は連続して素数ではない\";\n",
    "\t}\n",
    "\t\"^[246]$\" {\n",
    "\t\t\"${val}は素数ではない\";\n",
    "\t}\n",
    "\t\"^[357]$\" {\n",
    "\t\t\"${val}は素数ではない\";\n",
    "\t}\n",
    "\tdefault {\n",
    "\t\t\"${val}なぞ私には興味がない\";\n",
    "\t}\n",
    "}"
   ]
  },
  {
   "cell_type": "markdown",
   "metadata": {},
   "source": [
    "`switch`のオプション\n",
    "\n",
    "| | |\n",
    "|:-|:-|\n",
    "| `-e` / `-Exact` | 値が正確に一致する必要がある |\n",
    "| `-w` / `-Wildcard` | ワイルドカードに合致する必要がある |\n",
    "| `-r` / `-Regex` | 正規表現に合致する必要がある |\n",
    "| `-c` / `-CaseSensitive` | 大文字•小文字を区別する |"
   ]
  }
 ],
 "metadata": {
  "kernelspec": {
   "display_name": "PowerShell",
   "language": "powershell",
   "name": "powershell"
  },
  "language_info": {
   "codemirror_mode": "shell",
   "file_extension": ".ps1",
   "mimetype": "text/x-sh",
   "name": "powershell"
  }
 },
 "nbformat": 4,
 "nbformat_minor": 4
}
