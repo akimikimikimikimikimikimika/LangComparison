{
 "cells": [
  {
   "cell_type": "markdown",
   "metadata": {},
   "source": [
    "# 日付と時刻"
   ]
  },
  {
   "cell_type": "code",
   "execution_count": 1,
   "metadata": {},
   "outputs": [
    {
     "name": "stdout",
     "output_type": "stream",
     "text": []
    }
   ],
   "source": [
    "$st=Get-Date;"
   ]
  },
  {
   "cell_type": "markdown",
   "metadata": {},
   "source": [
    "## 時刻オブジェクト"
   ]
  },
  {
   "cell_type": "markdown",
   "metadata": {},
   "source": [
    "* 現在ローカル時刻"
   ]
  },
  {
   "cell_type": "code",
   "execution_count": 2,
   "metadata": {},
   "outputs": [
    {
     "name": "stdout",
     "output_type": "stream",
     "text": [
      "\n",
      "Saturday, April 5, 2008 2:57:33 PM\n",
      "\n"
     ]
    }
   ],
   "source": [
    "Get-Date"
   ]
  },
  {
   "cell_type": "markdown",
   "metadata": {},
   "source": [
    "* カスタム時刻"
   ]
  },
  {
   "cell_type": "code",
   "execution_count": 3,
   "metadata": {},
   "outputs": [
    {
     "name": "stdout",
     "output_type": "stream",
     "text": [
      "\n",
      "Tuesday, November 14, 2006 9:41:12 AM\n",
      "\n"
     ]
    }
   ],
   "source": [
    "[DateTime]\"2006/11/14 9:41:12.345\""
   ]
  },
  {
   "cell_type": "markdown",
   "metadata": {},
   "source": [
    "## 成分分解"
   ]
  },
  {
   "cell_type": "code",
   "execution_count": 4,
   "metadata": {},
   "outputs": [
    {
     "name": "stdout",
     "output_type": "stream",
     "text": []
    }
   ],
   "source": [
    "$dt=[DateTime]\"2008/4/5 14:57:33.568\";"
   ]
  },
  {
   "cell_type": "code",
   "execution_count": 5,
   "metadata": {},
   "outputs": [
    {
     "name": "stdout",
     "output_type": "stream",
     "text": [
      "Saturday, April 5, 2008 2:57:33 PM\n"
     ]
    }
   ],
   "source": [
    "$dt.DateTime"
   ]
  },
  {
   "cell_type": "code",
   "execution_count": 6,
   "metadata": {},
   "outputs": [
    {
     "name": "stdout",
     "output_type": "stream",
     "text": [
      "2008\n"
     ]
    }
   ],
   "source": [
    "$dt.Year"
   ]
  },
  {
   "cell_type": "code",
   "execution_count": 7,
   "metadata": {},
   "outputs": [
    {
     "name": "stdout",
     "output_type": "stream",
     "text": [
      "4\n"
     ]
    }
   ],
   "source": [
    "$dt.Month"
   ]
  },
  {
   "cell_type": "code",
   "execution_count": 8,
   "metadata": {},
   "outputs": [
    {
     "name": "stdout",
     "output_type": "stream",
     "text": [
      "\n",
      "Saturday, April 5, 2008 12:00:00 AM\n",
      "\n"
     ]
    }
   ],
   "source": [
    "$dt.Date"
   ]
  },
  {
   "cell_type": "code",
   "execution_count": 9,
   "metadata": {},
   "outputs": [
    {
     "name": "stdout",
     "output_type": "stream",
     "text": [
      "5\n"
     ]
    }
   ],
   "source": [
    "$dt.Day"
   ]
  },
  {
   "cell_type": "code",
   "execution_count": 10,
   "metadata": {},
   "outputs": [
    {
     "name": "stdout",
     "output_type": "stream",
     "text": [
      "Saturday\n"
     ]
    }
   ],
   "source": [
    "$dt.DayOfWeek"
   ]
  },
  {
   "cell_type": "code",
   "execution_count": 11,
   "metadata": {},
   "outputs": [
    {
     "name": "stdout",
     "output_type": "stream",
     "text": [
      "96\n"
     ]
    }
   ],
   "source": [
    "$dt.DayOfYear"
   ]
  },
  {
   "cell_type": "code",
   "execution_count": 12,
   "metadata": {},
   "outputs": [
    {
     "name": "stdout",
     "output_type": "stream",
     "text": [
      "\n",
      "Days              : 0\n",
      "Hours             : 14\n",
      "Minutes           : 57\n",
      "Seconds           : 33\n",
      "Milliseconds      : 568\n",
      "Ticks             : 538535680000\n",
      "TotalDays         : 0.623305185185185\n",
      "TotalHours        : 14.9593244444444\n",
      "TotalMinutes      : 897.559466666667\n",
      "TotalSeconds      : 53853.568\n",
      "TotalMilliseconds : 53853568\n",
      "\n",
      "\n"
     ]
    }
   ],
   "source": [
    "$dt.TimeOfDay"
   ]
  },
  {
   "cell_type": "code",
   "execution_count": 13,
   "metadata": {},
   "outputs": [
    {
     "name": "stdout",
     "output_type": "stream",
     "text": [
      "14\n"
     ]
    }
   ],
   "source": [
    "$dt.Hour"
   ]
  },
  {
   "cell_type": "code",
   "execution_count": 14,
   "metadata": {},
   "outputs": [
    {
     "name": "stdout",
     "output_type": "stream",
     "text": [
      "57\n"
     ]
    }
   ],
   "source": [
    "$dt.Minute"
   ]
  },
  {
   "cell_type": "code",
   "execution_count": 15,
   "metadata": {},
   "outputs": [
    {
     "name": "stdout",
     "output_type": "stream",
     "text": [
      "33\n"
     ]
    }
   ],
   "source": [
    "$dt.Second"
   ]
  },
  {
   "cell_type": "code",
   "execution_count": 16,
   "metadata": {},
   "outputs": [
    {
     "name": "stdout",
     "output_type": "stream",
     "text": [
      "568\n"
     ]
    }
   ],
   "source": [
    "$dt.Millisecond"
   ]
  },
  {
   "cell_type": "code",
   "execution_count": 17,
   "metadata": {},
   "outputs": [
    {
     "name": "stdout",
     "output_type": "stream",
     "text": [
      "633430042535680000\n"
     ]
    }
   ],
   "source": [
    "$dt.Ticks"
   ]
  },
  {
   "cell_type": "code",
   "execution_count": 18,
   "metadata": {},
   "outputs": [
    {
     "name": "stdout",
     "output_type": "stream",
     "text": [
      "Unspecified\n"
     ]
    }
   ],
   "source": [
    "$dt.Kind"
   ]
  },
  {
   "cell_type": "markdown",
   "metadata": {},
   "source": [
    "## フォーマット"
   ]
  },
  {
   "cell_type": "code",
   "execution_count": 19,
   "metadata": {},
   "outputs": [
    {
     "name": "stdout",
     "output_type": "stream",
     "text": [
      "4/5/2008 2:57:33 PM\n"
     ]
    }
   ],
   "source": [
    "$dt.ToString()"
   ]
  },
  {
   "cell_type": "code",
   "execution_count": 20,
   "metadata": {},
   "outputs": [
    {
     "name": "stdout",
     "output_type": "stream",
     "text": [
      "Saturday, April 5, 2008\n"
     ]
    }
   ],
   "source": [
    "$dt.ToLongDateString()"
   ]
  },
  {
   "cell_type": "code",
   "execution_count": 21,
   "metadata": {},
   "outputs": [
    {
     "name": "stdout",
     "output_type": "stream",
     "text": [
      "2:57:33 PM\n"
     ]
    }
   ],
   "source": [
    "$dt.ToLongTimeString()"
   ]
  },
  {
   "cell_type": "code",
   "execution_count": 22,
   "metadata": {},
   "outputs": [
    {
     "name": "stdout",
     "output_type": "stream",
     "text": [
      "4/5/2008\n"
     ]
    }
   ],
   "source": [
    "$dt.ToShortDateString()"
   ]
  },
  {
   "cell_type": "code",
   "execution_count": 23,
   "metadata": {},
   "outputs": [
    {
     "name": "stdout",
     "output_type": "stream",
     "text": [
      "2:57 PM\n"
     ]
    }
   ],
   "source": [
    "$dt.ToShortTimeString()"
   ]
  },
  {
   "cell_type": "code",
   "execution_count": 24,
   "metadata": {},
   "outputs": [
    {
     "name": "stdout",
     "output_type": "stream",
     "text": [
      "39543.6233051852\n"
     ]
    }
   ],
   "source": [
    "$dt.ToOADate()"
   ]
  },
  {
   "cell_type": "code",
   "execution_count": 25,
   "metadata": {},
   "outputs": [
    {
     "name": "stdout",
     "output_type": "stream",
     "text": [
      "128518486535680000\n"
     ]
    }
   ],
   "source": [
    "$dt.ToFileTime()"
   ]
  },
  {
   "cell_type": "code",
   "execution_count": 26,
   "metadata": {},
   "outputs": [
    {
     "name": "stdout",
     "output_type": "stream",
     "text": [
      "128518810535680000\n"
     ]
    }
   ],
   "source": [
    "$dt.ToFileTimeUtc()"
   ]
  },
  {
   "cell_type": "code",
   "execution_count": 27,
   "metadata": {},
   "outputs": [
    {
     "name": "stdout",
     "output_type": "stream",
     "text": [
      "\n",
      "Saturday, April 5, 2008 11:57:33 PM\n",
      "\n"
     ]
    }
   ],
   "source": [
    "$dt.ToLocalTime()"
   ]
  },
  {
   "cell_type": "code",
   "execution_count": 28,
   "metadata": {},
   "outputs": [
    {
     "name": "stdout",
     "output_type": "stream",
     "text": [
      "\n",
      "Saturday, April 5, 2008 5:57:33 AM\n",
      "\n"
     ]
    }
   ],
   "source": [
    "$dt.ToUniversalTime()"
   ]
  },
  {
   "cell_type": "code",
   "execution_count": 29,
   "metadata": {},
   "outputs": [
    {
     "name": "stdout",
     "output_type": "stream",
     "text": [
      "4/5/2008\n",
      "Apr 5, 2008\n",
      "4/5/08\n",
      "Saturday, April 5, 2008\n",
      "April 5, 2008\n",
      "Saturday, April 5, 2008 2:57 PM\n",
      "April 5, 2008 2:57 PM\n",
      "Saturday, April 5, 2008 2:57:33 PM\n",
      "April 5, 2008 2:57:33 PM\n",
      "4/5/2008 2:57 PM\n",
      "Apr 5, 2008 2:57 PM\n",
      "4/5/08 2:57 PM\n",
      "4/5/2008 2:57:33 PM\n",
      "Apr 5, 2008 2:57:33 PM\n",
      "4/5/08 2:57:33 PM\n",
      "April 5\n",
      "April 5\n",
      "2008-04-05T14:57:33.5680000\n",
      "2008-04-05T14:57:33.5680000\n",
      "Sat, 05 Apr 2008 14:57:33 GMT\n",
      "Sat, 05 Apr 2008 14:57:33 GMT\n",
      "2008-04-05T14:57:33\n",
      "2:57 PM\n",
      "2:57:33 PM\n",
      "2008-04-05 14:57:33Z\n",
      "Saturday, April 5, 2008 5:57:33 AM\n",
      "April 5, 2008 5:57:33 AM\n",
      "April 2008\n",
      "April 2008\n"
     ]
    }
   ],
   "source": [
    "$dt.GetDateTimeFormats() # 配列形式"
   ]
  },
  {
   "cell_type": "code",
   "execution_count": 30,
   "metadata": {},
   "outputs": [
    {
     "name": "stdout",
     "output_type": "stream",
     "text": [
      "datetime       g : 4/5/2008 2:57 PM\n",
      "               G : 4/5/2008 2:57:33 PM\n",
      "               f : Saturday, April 5, 2008 2:57 PM\n",
      "               F : Saturday, April 5, 2008 2:57:33 PM\n",
      "               U : Saturday, April 5, 2008 5:57:33 AM\n",
      "               O : 2008-04-05T14:57:33.5680000\n",
      "               R : Sat, 05 Apr 2008 14:57:33 GMT\n",
      "               s : 2008-04-05T14:57:33\n",
      "               u : 2008-04-05 14:57:33Z\n",
      "date           d : 4/5/2008\n",
      "               D : Saturday, April 5, 2008\n",
      "               Y : April 2008\n",
      "               M : April 5\n",
      "time           t : 2:57 PM\n",
      "               T : 2:57:33 PM\n",
      "year        yyyy : 2008\n",
      "           yyyyy : 02008\n",
      "             yyy : 2008\n",
      "              yy : 08\n",
      "               y : 8\n",
      "month       MMMM : April\n",
      "             MMM : Apr\n",
      "              MM : 04\n",
      "               M : 4\n",
      "day           dd : 05\n",
      "               d : 5\n",
      "weekday      ddd : Sat\n",
      "            dddd : Saturday\n",
      "hour          HH : 14\n",
      "               H : 14\n",
      "              hh : 02\n",
      "               h : 2\n",
      "AM/PM         tt : PM\n",
      "               t : P\n",
      "minute        mm : 57\n",
      "               m : 57\n",
      "second        ss : 33\n",
      "               s : 33\n",
      "milli/micro    f : 5\n",
      "               F : 5\n",
      "              ff : 56\n",
      "              FF : 56\n",
      "             fff : 568\n",
      "             FFF : 568\n",
      "            ffff : 5680\n",
      "            FFFF : 568\n",
      "           fffff : 56800\n",
      "           FFFFF : 568\n",
      "          ffffff : 568000\n",
      "          FFFFFF : 568\n",
      "         fffffff : 5680000\n",
      "         FFFFFFF : 568\n",
      "timezone       K : \n",
      "               z : +9\n",
      "              zz : +09\n",
      "             zzz : +09:00\n"
     ]
    }
   ],
   "source": [
    "@\"\n",
    "datetime       g : $($dt.ToString('g') <# general #>)\n",
    "               G : $($dt.ToString('G') <# general #>)\n",
    "               f : $($dt.ToString('f') <# full #>)\n",
    "               F : $($dt.ToString('F') <# full #>)\n",
    "               U : $($dt.ToString('U') <# full, UTC #>)\n",
    "               O : $($dt.ToString('O') <# roundtrip #>)\n",
    "               R : $($dt.ToString('R') <# RFC1123 #>)\n",
    "               s : $($dt.ToString('s') <# sortable #>)\n",
    "               u : $($dt.ToString('u') <# sortable, UTC #>)\n",
    "date           d : $($dt.ToString('d'))\n",
    "               D : $($dt.ToString('D'))\n",
    "               Y : $($dt.ToString('Y') <# year/month #>)\n",
    "               M : $($dt.ToString('M') <# month/date #>)\n",
    "time           t : $($dt.ToString('t'))\n",
    "               T : $($dt.ToString('T'))\n",
    "year        yyyy : $($dt.ToString('yyyy'))\n",
    "           yyyyy : $($dt.ToString('yyyyy'))\n",
    "             yyy : $($dt.ToString('yyy'))\n",
    "              yy : $($dt.ToString('yy'))\n",
    "               y : $($dt.ToString('%y'))\n",
    "month       MMMM : $($dt.ToString('MMMM'))\n",
    "             MMM : $($dt.ToString('MMM'))\n",
    "              MM : $($dt.ToString('MM'))\n",
    "               M : $($dt.ToString('%M'))\n",
    "day           dd : $($dt.ToString('dd'))\n",
    "               d : $($dt.ToString('%d'))\n",
    "weekday      ddd : $($dt.ToString('ddd'))\n",
    "            dddd : $($dt.ToString('dddd'))\n",
    "hour          HH : $($dt.ToString('HH'))\n",
    "               H : $($dt.ToString('%H'))\n",
    "              hh : $($dt.ToString('hh'))\n",
    "               h : $($dt.ToString('%h'))\n",
    "AM/PM         tt : $($dt.ToString('tt'))\n",
    "               t : $($dt.ToString('%t'))\n",
    "minute        mm : $($dt.ToString('mm'))\n",
    "               m : $($dt.ToString('%m'))\n",
    "second        ss : $($dt.ToString('ss'))\n",
    "               s : $($dt.ToString('%s'))\n",
    "milli/micro    f : $($dt.ToString('%f'))\n",
    "               F : $($dt.ToString('%F'))\n",
    "              ff : $($dt.ToString('ff'))\n",
    "              FF : $($dt.ToString('FF'))\n",
    "             fff : $($dt.ToString('fff'))\n",
    "             FFF : $($dt.ToString('FFF'))\n",
    "            ffff : $($dt.ToString('ffff'))\n",
    "            FFFF : $($dt.ToString('FFFF'))\n",
    "           fffff : $($dt.ToString('fffff'))\n",
    "           FFFFF : $($dt.ToString('FFFFF'))\n",
    "          ffffff : $($dt.ToString('ffffff'))\n",
    "          FFFFFF : $($dt.ToString('FFFFFF'))\n",
    "         fffffff : $($dt.ToString('fffffff'))\n",
    "         FFFFFFF : $($dt.ToString('FFFFFFF'))\n",
    "timezone       K : $($dt.ToString('%K'))\n",
    "               z : $($dt.ToString('%z'))\n",
    "              zz : $($dt.ToString('zz'))\n",
    "             zzz : $($dt.ToString('zzz'))\n",
    "\"@;"
   ]
  },
  {
   "cell_type": "markdown",
   "metadata": {},
   "source": [
    "## 所要時間"
   ]
  },
  {
   "cell_type": "code",
   "execution_count": 31,
   "metadata": {},
   "outputs": [
    {
     "name": "stdout",
     "output_type": "stream",
     "text": [
      "この処理に要した時間: 12 ミリ秒\n"
     ]
    }
   ],
   "source": [
    "$en=Get-Date;\n",
    "\"この処理に要した時間: $(-$st.Subtract($en).Milliseconds) ミリ秒\";"
   ]
  }
 ],
 "metadata": {
  "kernelspec": {
   "display_name": "PowerShell",
   "language": "powershell",
   "name": "powershell"
  },
  "language_info": {
   "codemirror_mode": "shell",
   "file_extension": ".ps1",
   "mimetype": "text/x-sh",
   "name": "powershell"
  }
 },
 "nbformat": 4,
 "nbformat_minor": 4
}
