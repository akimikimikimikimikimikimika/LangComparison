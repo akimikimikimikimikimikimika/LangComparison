{
 "cells": [
  {
   "cell_type": "markdown",
   "metadata": {},
   "source": [
    "# コーラブル"
   ]
  },
  {
   "cell_type": "markdown",
   "metadata": {},
   "source": [
    "## 関数"
   ]
  },
  {
   "cell_type": "markdown",
   "metadata": {},
   "source": [
    "### 通常の関数"
   ]
  },
  {
   "cell_type": "code",
   "execution_count": 1,
   "metadata": {},
   "outputs": [
    {
     "name": "stdout",
     "output_type": "stream",
     "text": [
      "216\n"
     ]
    }
   ],
   "source": [
    "function cube($val) {\n",
    "\tWrite-Output ($val*$val*$val);\n",
    "}\n",
    "\n",
    "cube -val 6"
   ]
  },
  {
   "cell_type": "markdown",
   "metadata": {},
   "source": [
    "### ラムダ (無名関数)"
   ]
  },
  {
   "cell_type": "code",
   "execution_count": 2,
   "metadata": {},
   "outputs": [
    {
     "name": "stdout",
     "output_type": "stream",
     "text": [
      "\n",
      "\t$val*$val;\n",
      "\n",
      "81\n"
     ]
    }
   ],
   "source": [
    "$val=9;\n",
    "\n",
    "$func={\n",
    "\t$val*$val;\n",
    "}.GetNewClosure();\n",
    "\n",
    "$func;\n",
    "\n",
    "& $func"
   ]
  },
  {
   "cell_type": "markdown",
   "metadata": {},
   "source": [
    "無名関数は引数が受け取れないみたい"
   ]
  },
  {
   "cell_type": "markdown",
   "metadata": {},
   "source": [
    "## 文字列をPowerShellコードとして実行\n",
    "\n",
    "### `Invoke-Expression $psSource` -> `$value?`\n",
    "\n",
    "* `$psSource` に記載したPowerShellコードを実行する\n",
    "* ソース中の最終行の値が `eval` から返される\n",
    "* 外の変数を `eval` 内で参照したり, `eval` 内の変数を外から参照することもできる"
   ]
  }
 ],
 "metadata": {
  "kernelspec": {
   "display_name": "PowerShell",
   "language": "powershell",
   "name": "powershell"
  },
  "language_info": {
   "codemirror_mode": "shell",
   "file_extension": ".ps1",
   "mimetype": "text/x-sh",
   "name": "powershell"
  }
 },
 "nbformat": 4,
 "nbformat_minor": 4
}
