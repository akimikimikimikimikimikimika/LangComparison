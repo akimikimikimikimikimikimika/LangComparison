{
 "cells": [
  {
   "cell_type": "markdown",
   "metadata": {},
   "source": [
    "# ファイル操作"
   ]
  },
  {
   "cell_type": "markdown",
   "metadata": {},
   "source": [
    "* カレントディレクトリをホームに変更"
   ]
  },
  {
   "cell_type": "code",
   "execution_count": 1,
   "metadata": {},
   "outputs": [],
   "source": [
    "cd $HOME"
   ]
  },
  {
   "cell_type": "markdown",
   "metadata": {},
   "source": [
    "## ファイル/フォルダ/シンボリックリンクの作成"
   ]
  },
  {
   "cell_type": "markdown",
   "metadata": {},
   "source": [
    "* Emptyという空フォルダを作成"
   ]
  },
  {
   "cell_type": "code",
   "execution_count": 2,
   "metadata": {},
   "outputs": [],
   "source": [
    "mkdir \"Empty\""
   ]
  },
  {
   "cell_type": "markdown",
   "metadata": {},
   "source": [
    "* 一時ディレクトリの場合\n",
    "```Zsh\n",
    "mktemp -d # ディレクトリのパスが返される\n",
    "```"
   ]
  },
  {
   "cell_type": "markdown",
   "metadata": {},
   "source": [
    "* Blankという空ファイルを作成"
   ]
  },
  {
   "cell_type": "code",
   "execution_count": 3,
   "metadata": {},
   "outputs": [],
   "source": [
    "# 既にBlankが存在していたら内容が削除される\n",
    "touch \"Blank\""
   ]
  },
  {
   "cell_type": "markdown",
   "metadata": {},
   "source": [
    "* フォルダEmptyの中にファイルBlankのシンボリックリンクSymlinkを作成"
   ]
  },
  {
   "cell_type": "code",
   "execution_count": 4,
   "metadata": {},
   "outputs": [],
   "source": [
    "ln -s \"../Blank\" \"Empty/Symlink\""
   ]
  },
  {
   "cell_type": "markdown",
   "metadata": {},
   "source": [
    "- ハードリンクの場合\n",
    "```Zsh\n",
    "ln \"../Blank\" \"Empty/Link\"\n",
    "```"
   ]
  },
  {
   "cell_type": "markdown",
   "metadata": {},
   "source": [
    "## 書込み\n",
    "* Untitled.mdというMarkdownファイルを作成して書込み"
   ]
  },
  {
   "cell_type": "code",
   "execution_count": 5,
   "metadata": {},
   "outputs": [],
   "source": [
    "printf \"# Header 1\" > \"Untitled.md\""
   ]
  },
  {
   "cell_type": "markdown",
   "metadata": {},
   "source": [
    "## 移動/名称変更"
   ]
  },
  {
   "cell_type": "markdown",
   "metadata": {},
   "source": [
    "* フォルダEmptyをPackageに名称変更"
   ]
  },
  {
   "cell_type": "code",
   "execution_count": 6,
   "metadata": {},
   "outputs": [],
   "source": [
    "mv \"Empty\" \"Package\""
   ]
  },
  {
   "cell_type": "markdown",
   "metadata": {},
   "source": [
    "* Packageフォルダ内のSymlinkファイルをAliasに名称変更"
   ]
  },
  {
   "cell_type": "code",
   "execution_count": 7,
   "metadata": {},
   "outputs": [],
   "source": [
    "mv \"Package/Symlink\" \"Package/Alias\""
   ]
  },
  {
   "cell_type": "markdown",
   "metadata": {},
   "source": [
    "* Untitled.mdを移動して,名称変更"
   ]
  },
  {
   "cell_type": "code",
   "execution_count": 8,
   "metadata": {},
   "outputs": [],
   "source": [
    "mv \"Untitled.md\" \"Package/Headers.md\""
   ]
  },
  {
   "cell_type": "markdown",
   "metadata": {},
   "source": [
    "## 追記\n",
    "* Markdownファイルに追記"
   ]
  },
  {
   "cell_type": "code",
   "execution_count": 9,
   "metadata": {},
   "outputs": [],
   "source": [
    "printf \"\\n## Header 2\\n### Header 3\" >> \"Package/Headers.md\""
   ]
  },
  {
   "cell_type": "markdown",
   "metadata": {},
   "source": [
    "## 読込み\n",
    "* Markdownファイルを読込み"
   ]
  },
  {
   "cell_type": "code",
   "execution_count": 10,
   "metadata": {},
   "outputs": [
    {
     "name": "stdout",
     "output_type": "stream",
     "text": [
      "# Header 1\n",
      "## Header 2\n"
     ]
    }
   ],
   "source": [
    "cat \"Package/Headers.md\""
   ]
  },
  {
   "cell_type": "markdown",
   "metadata": {},
   "source": [
    "## 再帰的にフォルダ作成\n",
    "* フォルダを一気に作成"
   ]
  },
  {
   "cell_type": "code",
   "execution_count": 11,
   "metadata": {},
   "outputs": [],
   "source": [
    "mkdir -p \"Package/Module/Submodule/Item\""
   ]
  },
  {
   "cell_type": "markdown",
   "metadata": {},
   "source": [
    "- `-p` オプションを付ければ,作成するフォルダItemの上位フォルダModule,Submoduleが存在していなくても,同時に生成される"
   ]
  },
  {
   "cell_type": "markdown",
   "metadata": {},
   "source": [
    "## ディレクトリの内容を表示"
   ]
  },
  {
   "cell_type": "code",
   "execution_count": 12,
   "metadata": {},
   "outputs": [
    {
     "name": "stdout",
     "output_type": "stream",
     "text": [
      "Alias\t\tHeaders.md\tModule\n"
     ]
    }
   ],
   "source": [
    "ls \"Package\""
   ]
  },
  {
   "cell_type": "markdown",
   "metadata": {},
   "source": [
    "- ワイルドカードを使って,条件を満たすファイルを見つけ出す場合は\n",
    "\n",
    "```Zsh\n",
    "find . -name \"*.md\" -maxdepth 1\n",
    "find . -name \"*.md\"\n",
    "```\n",
    "\n",
    "- `-maxdepth` 指定により,ディレクトリを検索する最大階層を指定できる。特に `-maxdepth 1` の場合,現在のディレクトリのみを検索する。\n",
    "- `-path` 指定により,パスのパターンを指定できる。但し, `.` で検索しているので, `./` から始めることに注意"
   ]
  },
  {
   "cell_type": "markdown",
   "metadata": {},
   "source": [
    "## ファイル/フォルダの複製\n",
    "* BlankとModuleを複製"
   ]
  },
  {
   "cell_type": "code",
   "execution_count": 13,
   "metadata": {},
   "outputs": [],
   "source": [
    "cp \"Blank\" \"Package/Blank\"\n",
    "cp -r \"Package/Module\" \"Package/Module Copy\""
   ]
  },
  {
   "cell_type": "markdown",
   "metadata": {},
   "source": [
    "- `-r` オプションを付けることで,フォルダ内の内容もまとめて複製できる"
   ]
  },
  {
   "cell_type": "markdown",
   "metadata": {},
   "source": [
    "## ファイル/フォルダの削除"
   ]
  },
  {
   "cell_type": "markdown",
   "metadata": {},
   "source": [
    "* ファイルBlankを削除"
   ]
  },
  {
   "cell_type": "code",
   "execution_count": 14,
   "metadata": {},
   "outputs": [],
   "source": [
    "unlink \"Blank\""
   ]
  },
  {
   "cell_type": "markdown",
   "metadata": {},
   "source": [
    "* シンボリックリンクAliasを削除"
   ]
  },
  {
   "cell_type": "code",
   "execution_count": 15,
   "metadata": {},
   "outputs": [],
   "source": [
    "unlink \"Package/Alias\""
   ]
  },
  {
   "cell_type": "markdown",
   "metadata": {},
   "source": [
    "* フォルダModuleを削除"
   ]
  },
  {
   "cell_type": "code",
   "execution_count": 16,
   "metadata": {},
   "outputs": [],
   "source": [
    "rm -r \"Package/Module\""
   ]
  },
  {
   "cell_type": "markdown",
   "metadata": {},
   "source": [
    "- 空のフォルダは `rmdir` で削除できる。空でない場合は削除できない。  \n",
    "\t`-r` オプションを付ければ,空でなくても削除できる"
   ]
  },
  {
   "cell_type": "markdown",
   "metadata": {},
   "source": [
    "## 権限を確認/変更"
   ]
  },
  {
   "cell_type": "markdown",
   "metadata": {},
   "source": [
    "* 状態を確認する関数"
   ]
  },
  {
   "cell_type": "code",
   "execution_count": 17,
   "metadata": {},
   "outputs": [],
   "source": [
    "check(){\n",
    "\tif [ -e \"$1\" ]; then\n",
    "\t\techo \"存在しています\"\n",
    "\telse\n",
    "\t\techo \"存在していません\"\n",
    "\tfi\n",
    "\n",
    "\tif [ -L \"$1\" ]; then\n",
    "\t\techo \"シンボリックリンクです\"\n",
    "\t\techo \"リンク先: \"`readlink -n \"$1\"`\n",
    "\t\tif [ -f \"$1\" ]; then\n",
    "\t\t\techo \"リンク先はファイルです\"\n",
    "\t\tfi\n",
    "\t\tif [ -d \"$1\" ]; then\n",
    "\t\t\techo \"リンク先はフォルダです\"\n",
    "\t\tfi\n",
    "\telse\n",
    "\t\tif [ -f \"$1\" ]; then\n",
    "\t\t\techo \"ファイルです\"\n",
    "\t\tfi\n",
    "\t\tif [ -d \"$1\" ]; then\n",
    "\t\t\techo \"フォルダです\"\n",
    "\t\tfi\n",
    "\tfi\n",
    "\n",
    "\tif [ -r \"$1\" ]; then\n",
    "\t\techo \"読込可能です\"\n",
    "\tfi\n",
    "\tif [ -w \"$1\" ]; then\n",
    "\t\techo \"書込可能です\"\n",
    "\tfi\n",
    "\tif [ -x \"$1\" ]; then\n",
    "\t\techo \"実行可能です\"\n",
    "\tfi\n",
    "\n",
    "\tif [ ! -s \"$1\" ]; then\n",
    "\t\techo \"空です\"\n",
    "\tfi\n",
    "}"
   ]
  },
  {
   "cell_type": "markdown",
   "metadata": {},
   "source": [
    "* Markdownファイルの現在の状態を確認"
   ]
  },
  {
   "cell_type": "code",
   "execution_count": 18,
   "metadata": {},
   "outputs": [
    {
     "name": "stdout",
     "output_type": "stream",
     "text": [
      "存在しています\n",
      "ファイルです\n",
      "読込可能です\n",
      "書込可能です\n"
     ]
    }
   ],
   "source": [
    "check \"Package/Headers.md\""
   ]
  },
  {
   "cell_type": "markdown",
   "metadata": {},
   "source": [
    "* 読込/書込権限を剥奪"
   ]
  },
  {
   "cell_type": "code",
   "execution_count": 19,
   "metadata": {},
   "outputs": [],
   "source": [
    "chmod 444 \"Package/Headers.md\""
   ]
  },
  {
   "cell_type": "markdown",
   "metadata": {},
   "source": [
    "* 状態を確認"
   ]
  },
  {
   "cell_type": "code",
   "execution_count": 20,
   "metadata": {},
   "outputs": [
    {
     "name": "stdout",
     "output_type": "stream",
     "text": [
      "存在しています\n",
      "ファイルです\n",
      "読込可能です\n"
     ]
    }
   ],
   "source": [
    "check \"Package/Headers.md\""
   ]
  },
  {
   "cell_type": "markdown",
   "metadata": {},
   "source": [
    "* 読込/実行権限を付加"
   ]
  },
  {
   "cell_type": "code",
   "execution_count": 21,
   "metadata": {},
   "outputs": [],
   "source": [
    "chmod 544 \"Package/Headers.md\""
   ]
  },
  {
   "cell_type": "markdown",
   "metadata": {},
   "source": [
    "* 状態を確認"
   ]
  },
  {
   "cell_type": "code",
   "execution_count": 22,
   "metadata": {},
   "outputs": [
    {
     "name": "stdout",
     "output_type": "stream",
     "text": [
      "存在しています\n",
      "ファイルです\n",
      "読込可能です\n",
      "実行可能です\n"
     ]
    }
   ],
   "source": [
    "check \"Package/Headers.md\""
   ]
  },
  {
   "cell_type": "markdown",
   "metadata": {},
   "source": [
    "- `chmod` は数値により権限を指定する\n",
    "\t* 4: 読込可能 (Readable)\n",
    "\t* 2: 書込可能 (Writable)\n",
    "\t* 1: 実行可能 (eXecutable)\n",
    "\n",
    "- これらの和を3つ並べて指定する。  \n",
    "    1つ目はユーザの権限,2つ目はゲストの権限,3つ目はその他の者の権限である。\n",
    "\n",
    "\te.g. `chmod 754 somefile`\n",
    "\t* ユーザは 7 = 4+2+1 だから,読込可能,書込可能,実行可能\n",
    "\t* ゲストは 5 = 4 + 1 だから,読込可能,実行可能\n",
    "\t* その他は 4 だから,読込のみ可能"
   ]
  }
 ],
 "metadata": {
  "kernelspec": {
   "display_name": "Bash",
   "language": "bash",
   "name": "bash"
  },
  "language_info": {
   "codemirror_mode": "shell",
   "file_extension": ".sh",
   "mimetype": "text/x-sh",
   "name": "bash",
   "pygments_lexer": "shell",
   "version": "3.8.4-final"
  }
 },
 "nbformat": 4,
 "nbformat_minor": 4
}