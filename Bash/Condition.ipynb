{
 "cells": [
  {
   "cell_type": "markdown",
   "metadata": {},
   "source": [
    "# 条件分岐"
   ]
  },
  {
   "cell_type": "code",
   "execution_count": null,
   "metadata": {},
   "outputs": [],
   "source": [
    "test1=1\n",
    "test2=0"
   ]
  },
  {
   "cell_type": "code",
   "execution_count": null,
   "metadata": {},
   "outputs": [],
   "source": [
    "if [ $test1 -eq 1 ]; then\n",
    "\techo \"どうやらtest1は真のようです\"\n",
    "fi"
   ]
  },
  {
   "cell_type": "code",
   "execution_count": null,
   "metadata": {},
   "outputs": [],
   "source": [
    "if [ ! $test1 -eq 1 ]; then\n",
    "\techo \"どうやらtest1は偽のようです\"\n",
    "elif [ $test2 -eq 1 ]; then\n",
    "\techo \"どうやらtest2は真のようです\"\n",
    "elif [ $test2 -eq 0 -a $test1 -eq 1 ]; then\n",
    "\techo \"真偽が混在しているようです\"\n",
    "else\n",
    "\techo \"どれでもないようです\"\n",
    "fi"
   ]
  },
  {
   "cell_type": "code",
   "execution_count": 3,
   "metadata": {},
   "outputs": [
    {
     "name": "stdout",
     "output_type": "stream",
     "text": [
      "8は連続して素数ではない\n"
     ]
    }
   ],
   "source": [
    "val=8\n",
    "case $val in\n",
    "\t0|1)\n",
    "\t\techo $val\"は特別な値である\"\n",
    "\t\t;;\n",
    "\t8|9|10)\n",
    "\t\techo $val\"は連続して素数ではない\"\n",
    "\t\t;;\n",
    "\t4|6)\n",
    "\t\techo $val\"は素数ではない\"\n",
    "\t\t;;\n",
    "\t2|3|5|7)\n",
    "\t\techo $val\"は素数である\"\n",
    "\t\t;;\n",
    "\t*)\n",
    "\t\techo $val\"なぞ私には興味がない\"\n",
    "\t\t;;\n",
    "esac"
   ]
  },
  {
   "cell_type": "markdown",
   "metadata": {},
   "source": [
    "各条件に対して文字列を使用することは可能である"
   ]
  }
 ],
 "metadata": {
  "kernelspec": {
   "display_name": "Bash",
   "language": "bash",
   "name": "bash"
  },
  "language_info": {
   "codemirror_mode": "shell",
   "file_extension": ".sh",
   "mimetype": "text/x-sh",
   "name": "bash",
   "pygments_lexer": "shell",
   "version": "3.8.4-final"
  }
 },
 "nbformat": 4,
 "nbformat_minor": 4
}