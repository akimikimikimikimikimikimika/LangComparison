{
 "cells": [
  {
   "cell_type": "markdown",
   "metadata": {},
   "source": [
    "# 繰り返し処理"
   ]
  },
  {
   "cell_type": "markdown",
   "metadata": {},
   "source": [
    "* `for (( n=0;n<3;n++ )); do … done`"
   ]
  },
  {
   "cell_type": "code",
   "execution_count": 1,
   "metadata": {},
   "outputs": [
    {
     "name": "stdout",
     "output_type": "stream",
     "text": [
      "n=0のループ\n",
      "n=1のループ\n",
      "n=2のループ\n"
     ]
    }
   ],
   "source": [
    "for (( n=0;n<3;n++ ))\n",
    "do\n",
    "\techo \"n=\"$n\"のループ\"\n",
    "done"
   ]
  },
  {
   "cell_type": "markdown",
   "metadata": {},
   "source": [
    "* `for n in {0..2}; do … done`"
   ]
  },
  {
   "cell_type": "code",
   "execution_count": 2,
   "metadata": {},
   "outputs": [
    {
     "name": "stdout",
     "output_type": "stream",
     "text": [
      "n=0のループ\n",
      "n=1のループ\n",
      "n=2のループ\n"
     ]
    }
   ],
   "source": [
    "for n in {0..2}\n",
    "do\n",
    "\techo \"n=\"$n\"のループ\"\n",
    "done"
   ]
  },
  {
   "cell_type": "markdown",
   "metadata": {},
   "source": [
    "* `for n in {0..4..2}; do … done` (偶数回のみ実行)"
   ]
  },
  {
   "cell_type": "code",
   "execution_count": 3,
   "metadata": {},
   "outputs": [
    {
     "name": "stdout",
     "output_type": "stream",
     "text": [
      "n=0のループ\n",
      "n=2のループ\n",
      "n=4のループ\n"
     ]
    }
   ],
   "source": [
    "for n in {0..4..2}\n",
    "do\n",
    "\techo \"n=\"$n\"のループ\"\n",
    "done"
   ]
  },
  {
   "cell_type": "markdown",
   "metadata": {},
   "source": [
    "* `for c in ${array[@]}; do … done`"
   ]
  },
  {
   "cell_type": "code",
   "execution_count": 4,
   "metadata": {},
   "outputs": [
    {
     "name": "stdout",
     "output_type": "stream",
     "text": [
      "c='壱'のループ\n",
      "c='弐'のループ\n",
      "c='参'のループ\n"
     ]
    }
   ],
   "source": [
    "cs=(\"壱\" \"弐\" \"参\")\n",
    "for c in \"${cs[@]}\"\n",
    "do\n",
    "\techo \"c='\"$c\"'のループ\"\n",
    "done"
   ]
  },
  {
   "cell_type": "markdown",
   "metadata": {},
   "source": [
    "* `while [~]; do … done`"
   ]
  },
  {
   "cell_type": "code",
   "execution_count": 5,
   "metadata": {},
   "outputs": [
    {
     "name": "stdout",
     "output_type": "stream",
     "text": [
      "*\n",
      "**\n",
      "***\n",
      "****\n",
      "*****\n",
      "******\n"
     ]
    }
   ],
   "source": [
    "str=\"\"\n",
    "while [ ${#str} -lt 6 ]\n",
    "do\n",
    "\tstr=\"$str\"*\n",
    "\techo \"$str\"\n",
    "done"
   ]
  },
  {
   "cell_type": "markdown",
   "metadata": {},
   "source": [
    "* `until [~]; do … done`"
   ]
  },
  {
   "cell_type": "code",
   "execution_count": 6,
   "metadata": {},
   "outputs": [
    {
     "name": "stdout",
     "output_type": "stream",
     "text": [
      "*\n",
      "**\n",
      "***\n",
      "****\n",
      "*****\n",
      "******\n"
     ]
    }
   ],
   "source": [
    "str=\"\"\n",
    "until [ ${#str} -eq 6 ]\n",
    "do\n",
    "\tstr=\"$str\"*\n",
    "\techo \"$str\"\n",
    "done"
   ]
  }
 ],
 "metadata": {
  "kernelspec": {
   "display_name": "Bash",
   "language": "bash",
   "name": "bash"
  },
  "language_info": {
   "codemirror_mode": "shell",
   "file_extension": ".sh",
   "mimetype": "text/x-sh",
   "name": "bash",
   "pygments_lexer": "shell",
   "version": "3.8.4-final"
  }
 },
 "nbformat": 4,
 "nbformat_minor": 4
}