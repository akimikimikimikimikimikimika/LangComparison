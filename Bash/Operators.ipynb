{
 "cells": [
  {
   "cell_type": "markdown",
   "metadata": {},
   "source": [
    "# 演算子"
   ]
  },
  {
   "cell_type": "markdown",
   "metadata": {},
   "source": [
    "## 算術演算子"
   ]
  },
  {
   "cell_type": "code",
   "execution_count": 1,
   "metadata": {},
   "outputs": [
    {
     "name": "stdout",
     "output_type": "stream",
     "text": [
      "29\n"
     ]
    }
   ],
   "source": [
    "echo $((   24  + 5   ))"
   ]
  },
  {
   "cell_type": "code",
   "execution_count": 2,
   "metadata": {},
   "outputs": [
    {
     "name": "stdout",
     "output_type": "stream",
     "text": [
      "19\n"
     ]
    }
   ],
   "source": [
    "echo $((   24  - 5   ))"
   ]
  },
  {
   "cell_type": "code",
   "execution_count": 3,
   "metadata": {},
   "outputs": [
    {
     "name": "stdout",
     "output_type": "stream",
     "text": [
      "120\n"
     ]
    }
   ],
   "source": [
    "echo $((   24  * 5   ))"
   ]
  },
  {
   "cell_type": "code",
   "execution_count": 4,
   "metadata": {},
   "outputs": [
    {
     "name": "stdout",
     "output_type": "stream",
     "text": [
      "4\n"
     ]
    }
   ],
   "source": [
    "echo $((   24  / 5   ))"
   ]
  },
  {
   "cell_type": "code",
   "execution_count": 5,
   "metadata": {},
   "outputs": [
    {
     "name": "stdout",
     "output_type": "stream",
     "text": [
      "4\n"
     ]
    }
   ],
   "source": [
    "echo $((   24  % 5   ))"
   ]
  },
  {
   "cell_type": "code",
   "execution_count": 6,
   "metadata": {},
   "outputs": [
    {
     "name": "stdout",
     "output_type": "stream",
     "text": [
      "7962624\n"
     ]
    }
   ],
   "source": [
    "echo $((   24 ** 5   ))"
   ]
  },
  {
   "cell_type": "markdown",
   "metadata": {},
   "source": [
    "## 比較演算子"
   ]
  },
  {
   "cell_type": "code",
   "execution_count": 7,
   "metadata": {},
   "outputs": [
    {
     "name": "stdout",
     "output_type": "stream",
     "text": [
      "1\n"
     ]
    }
   ],
   "source": [
    "echo $((   24 >  5   ))"
   ]
  },
  {
   "cell_type": "code",
   "execution_count": 8,
   "metadata": {},
   "outputs": [
    {
     "name": "stdout",
     "output_type": "stream",
     "text": [
      "1\n"
     ]
    }
   ],
   "source": [
    "echo $((   24 >= 5   ))"
   ]
  },
  {
   "cell_type": "code",
   "execution_count": 9,
   "metadata": {},
   "outputs": [
    {
     "name": "stdout",
     "output_type": "stream",
     "text": [
      "0\n"
     ]
    }
   ],
   "source": [
    "echo $((   24 <  5   ))"
   ]
  },
  {
   "cell_type": "code",
   "execution_count": 10,
   "metadata": {},
   "outputs": [
    {
     "name": "stdout",
     "output_type": "stream",
     "text": [
      "0\n"
     ]
    }
   ],
   "source": [
    "echo $((   24 <= 5   ))"
   ]
  },
  {
   "cell_type": "code",
   "execution_count": 11,
   "metadata": {},
   "outputs": [
    {
     "name": "stdout",
     "output_type": "stream",
     "text": [
      "0\n"
     ]
    }
   ],
   "source": [
    "echo $((   24 == 5   ))"
   ]
  },
  {
   "cell_type": "code",
   "execution_count": 12,
   "metadata": {},
   "outputs": [
    {
     "name": "stdout",
     "output_type": "stream",
     "text": [
      "1\n"
     ]
    }
   ],
   "source": [
    "echo $((   24 != 5   ))"
   ]
  },
  {
   "cell_type": "markdown",
   "metadata": {},
   "source": [
    "## 論理演算子"
   ]
  },
  {
   "cell_type": "code",
   "execution_count": 13,
   "metadata": {},
   "outputs": [
    {
     "name": "stdout",
     "output_type": "stream",
     "text": [
      "0\n"
     ]
    }
   ],
   "source": [
    "echo $((   1 && 0   ))"
   ]
  },
  {
   "cell_type": "code",
   "execution_count": 14,
   "metadata": {},
   "outputs": [
    {
     "name": "stdout",
     "output_type": "stream",
     "text": [
      "1\n"
     ]
    }
   ],
   "source": [
    "echo $((   1 || 0   ))"
   ]
  },
  {
   "cell_type": "code",
   "execution_count": 15,
   "metadata": {},
   "outputs": [
    {
     "name": "stdout",
     "output_type": "stream",
     "text": [
      "1\n"
     ]
    }
   ],
   "source": [
    "echo $((      ! 0   ))"
   ]
  },
  {
   "cell_type": "markdown",
   "metadata": {},
   "source": [
    "## ビット演算子\n",
    "2進数での各桁毎の論理演算"
   ]
  },
  {
   "cell_type": "code",
   "execution_count": 16,
   "metadata": {},
   "outputs": [
    {
     "name": "stdout",
     "output_type": "stream",
     "text": [
      "1000\n"
     ]
    }
   ],
   "source": [
    "echo \"obase=2;$((   2#1010 & 2#1001   ))\" | bc    # AND"
   ]
  },
  {
   "cell_type": "code",
   "execution_count": 17,
   "metadata": {},
   "outputs": [
    {
     "name": "stdout",
     "output_type": "stream",
     "text": [
      "1011\n"
     ]
    }
   ],
   "source": [
    "echo \"obase=2;$((   2#1010 | 2#1001   ))\" | bc    # OR"
   ]
  },
  {
   "cell_type": "code",
   "execution_count": 18,
   "metadata": {},
   "outputs": [
    {
     "name": "stdout",
     "output_type": "stream",
     "text": [
      "11\n"
     ]
    }
   ],
   "source": [
    "echo \"obase=2;$((   2#1010 ^ 2#1001   ))\" | bc    # XOR"
   ]
  },
  {
   "cell_type": "code",
   "execution_count": 19,
   "metadata": {},
   "outputs": [
    {
     "name": "stdout",
     "output_type": "stream",
     "text": [
      "110\n"
     ]
    }
   ],
   "source": [
    "echo \"obase=2;$((          ~ 2#1001   +16))\" | bc # NOT"
   ]
  },
  {
   "cell_type": "markdown",
   "metadata": {},
   "source": [
    "XOR = eXclusive OR (排他的論理和)  \n",
    "AND : 両方が 1(true) であれば, 1(true) になる  \n",
    "XOR : 一方が 1(true) であれば, 1(true) になる  \n",
    "OR : 一方/両方が 1(true) であれば, 1(true) になる  \n",
    "NOT : 1(true) と 0(false) を逆転させる\n",
    "\n",
    "ビット演算において,演算の内容を分かりやすくするため,意図的に本来の値から改変させたところがある\n",
    "* AND,OR,XOR,NOT においては,0埋めにより演算後も4桁が維持されるようにした (本来はない桁があったりする)\n",
    "* ビットシフトにおいては,0埋めにより演算後も8桁が維持されるようにした\n",
    "* NOT を通常通りに計算すると,これまでなかった桁も0と見做してビット反転するため,膨大な数になる。それを防止するため,5桁目以降を切り捨てる処理をした (右端の+16)"
   ]
  },
  {
   "cell_type": "markdown",
   "metadata": {},
   "source": [
    "桁の移動"
   ]
  },
  {
   "cell_type": "code",
   "execution_count": 20,
   "metadata": {},
   "outputs": [
    {
     "name": "stdout",
     "output_type": "stream",
     "text": [
      "11111100\n"
     ]
    }
   ],
   "source": [
    "echo \"obase=2;$((   2#00111111 << 2   ))\" | bc    # 2桁左シフト"
   ]
  },
  {
   "cell_type": "code",
   "execution_count": 21,
   "metadata": {},
   "outputs": [
    {
     "name": "stdout",
     "output_type": "stream",
     "text": [
      "1111\n"
     ]
    }
   ],
   "source": [
    "echo \"obase=2;$((   2#00111111 >> 2   ))\" | bc    # 2桁右シフト"
   ]
  },
  {
   "cell_type": "markdown",
   "metadata": {},
   "source": [
    "## 三項演算子"
   ]
  },
  {
   "cell_type": "code",
   "execution_count": 22,
   "metadata": {},
   "outputs": [
    {
     "name": "stdout",
     "output_type": "stream",
     "text": [
      "7\n"
     ]
    }
   ],
   "source": [
    "echo $((   1 ? 7 : 4   ))"
   ]
  },
  {
   "cell_type": "code",
   "execution_count": 23,
   "metadata": {},
   "outputs": [
    {
     "name": "stdout",
     "output_type": "stream",
     "text": [
      "4\n"
     ]
    }
   ],
   "source": [
    "echo $((   0 ? 7 : 4   ))"
   ]
  },
  {
   "cell_type": "markdown",
   "metadata": {},
   "source": [
    "## 算術演算子 (bcコマンド, scale=1)"
   ]
  },
  {
   "cell_type": "code",
   "execution_count": 24,
   "metadata": {},
   "outputs": [
    {
     "name": "stdout",
     "output_type": "stream",
     "text": [
      "29\n"
     ]
    }
   ],
   "source": [
    "echo \"scale=1;24+5\" | bc"
   ]
  },
  {
   "cell_type": "code",
   "execution_count": 25,
   "metadata": {},
   "outputs": [
    {
     "name": "stdout",
     "output_type": "stream",
     "text": [
      "19\n"
     ]
    }
   ],
   "source": [
    "echo \"scale=1;24-5\" | bc"
   ]
  },
  {
   "cell_type": "code",
   "execution_count": 26,
   "metadata": {},
   "outputs": [
    {
     "name": "stdout",
     "output_type": "stream",
     "text": [
      "120\n"
     ]
    }
   ],
   "source": [
    "echo \"scale=1;24*5\" | bc"
   ]
  },
  {
   "cell_type": "code",
   "execution_count": 27,
   "metadata": {},
   "outputs": [
    {
     "name": "stdout",
     "output_type": "stream",
     "text": [
      "4.8\n"
     ]
    }
   ],
   "source": [
    "echo \"scale=1;24/5\" | bc"
   ]
  },
  {
   "cell_type": "code",
   "execution_count": 28,
   "metadata": {},
   "outputs": [
    {
     "name": "stdout",
     "output_type": "stream",
     "text": [
      "0\n"
     ]
    }
   ],
   "source": [
    "echo \"scale=1;24%5\" | bc"
   ]
  },
  {
   "cell_type": "code",
   "execution_count": 29,
   "metadata": {},
   "outputs": [
    {
     "name": "stdout",
     "output_type": "stream",
     "text": [
      "7962624\n"
     ]
    }
   ],
   "source": [
    "echo \"scale=1;24^5\" | bc"
   ]
  },
  {
   "cell_type": "markdown",
   "metadata": {},
   "source": [
    "## 比較演算子 (bcコマンド)"
   ]
  },
  {
   "cell_type": "code",
   "execution_count": 30,
   "metadata": {},
   "outputs": [
    {
     "name": "stdout",
     "output_type": "stream",
     "text": [
      "1\n"
     ]
    }
   ],
   "source": [
    "echo \"24> 5\" | bc"
   ]
  },
  {
   "cell_type": "code",
   "execution_count": 31,
   "metadata": {},
   "outputs": [
    {
     "name": "stdout",
     "output_type": "stream",
     "text": [
      "1\n"
     ]
    }
   ],
   "source": [
    "echo \"24>=5\" | bc"
   ]
  },
  {
   "cell_type": "code",
   "execution_count": 32,
   "metadata": {},
   "outputs": [
    {
     "name": "stdout",
     "output_type": "stream",
     "text": [
      "0\n"
     ]
    }
   ],
   "source": [
    "echo \"24< 5\" | bc"
   ]
  },
  {
   "cell_type": "code",
   "execution_count": 33,
   "metadata": {},
   "outputs": [
    {
     "name": "stdout",
     "output_type": "stream",
     "text": [
      "0\n"
     ]
    }
   ],
   "source": [
    "echo \"24<=5\" | bc"
   ]
  },
  {
   "cell_type": "code",
   "execution_count": 34,
   "metadata": {},
   "outputs": [
    {
     "name": "stdout",
     "output_type": "stream",
     "text": [
      "0\n"
     ]
    }
   ],
   "source": [
    "echo \"24==5\" | bc"
   ]
  },
  {
   "cell_type": "code",
   "execution_count": 35,
   "metadata": {},
   "outputs": [
    {
     "name": "stdout",
     "output_type": "stream",
     "text": [
      "1\n"
     ]
    }
   ],
   "source": [
    "echo \"24!=5\" | bc"
   ]
  },
  {
   "cell_type": "markdown",
   "metadata": {},
   "source": [
    "## 論理演算子 (bcコマンド)"
   ]
  },
  {
   "cell_type": "code",
   "execution_count": 36,
   "metadata": {},
   "outputs": [
    {
     "name": "stdout",
     "output_type": "stream",
     "text": [
      "0\n"
     ]
    }
   ],
   "source": [
    "echo \"1 && 0\" | bc"
   ]
  },
  {
   "cell_type": "code",
   "execution_count": 37,
   "metadata": {},
   "outputs": [
    {
     "name": "stdout",
     "output_type": "stream",
     "text": [
      "1\n"
     ]
    }
   ],
   "source": [
    "echo \"1 || 0\" | bc"
   ]
  },
  {
   "cell_type": "code",
   "execution_count": 38,
   "metadata": {},
   "outputs": [
    {
     "name": "stdout",
     "output_type": "stream",
     "text": [
      "1\n"
     ]
    }
   ],
   "source": [
    "echo \"   ! 0\" | bc"
   ]
  },
  {
   "cell_type": "markdown",
   "metadata": {},
   "source": [
    "## 計算式の使える場所\n",
    "シェルでは `bc` コマンドでない限り整数しか扱えない。\n",
    "\n",
    "* `$(( 計算式 ))`  \n",
    "\t括弧内を実行して,結果を出力してくれる  \n",
    "\t括弧外の変数を読み書きできる (但し,変数は `$a` ではなく, `a` と表記する)  \n",
    "\t複数式を使う場合はコンマで区切る。最後の式が出力される  \n",
    "\te.g. `$(( b=a+6,c=9**d ))`\n",
    "    \n",
    "* `let 計算式`  \n",
    "\t`let` の後の式を計算するコマンド    \n",
    "\tこのコマンド自体は何も返さない  \n",
    "\t変数の読み書きできる (但し,変数は `$a` ではなく, `a` と表記する)  \n",
    "\t複数式を使う場合はスペースで区切る  \n",
    "\te.g. `let b=a+6 c=9**d`"
   ]
  },
  {
   "cell_type": "markdown",
   "metadata": {},
   "source": [
    "## その他の演算子\n",
    "\n",
    "- 複合代入演算子 : `+= -= *= /= //= %= **= &= |= ^= <<= >>=`  \n",
    "\t`a += b` は `a = a + b` と同義。その他も同様"
   ]
  },
  {
   "cell_type": "markdown",
   "metadata": {},
   "source": [
    "## 条件式で使える演算子\n",
    "`if [ 条件式 ]; then` などと表す際に,条件式として使える演算子には次のようなものがある\n",
    "\n",
    "### 条件式の表し方\n",
    "`\"[ 条件式 ]\"` 或いは `\"test 条件式\"`\n",
    "\n",
    "### 数値比較演算子\n",
    "```Zsh\n",
    "24 -eq 5 # 24=5\n",
    "24 -ne 5 # 24≠5\n",
    "24 -lt 5 # 24<5\n",
    "24 -le 5 # 24≤5\n",
    "24 -gt 5 # 24>5\n",
    "24 -ge 5 # 24≥5\n",
    "```\n",
    "\n",
    "### 論理演算子\n",
    "```Zsh\n",
    "1 -a 0 # 1 and 0\n",
    "1 -o 0 # 1  or 0\n",
    "   ! 0 #   not 0\n",
    "```\n",
    "\n",
    "### 文字列比較演算子\n",
    "```Zsh\n",
    "      -n \"abc\" # 文字列が空でない\n",
    "      -z \"abc\" # 文字列が空である\n",
    "\"abc\"  = \"def\" # 文字列が等しい\n",
    "\"abc\" != \"def\" # 文字列が等しくない\n",
    "```\n",
    "\n",
    "### ファイル確認演算子 (`File.sh` も参照)\n",
    "```Zsh\n",
    "-e \"filepath\" # ファイルなどが存在する\n",
    "-d \"filepath\" # ディレクトリである (或いはリンク先がディレクトリである)\n",
    "-f \"filepath\" # ファイルである (或いはリンク先がファイルである)\n",
    "-L \"filepath\" # シンボリックリンクである\n",
    "-s \"filepath\" # ファイルサイズが0でない\n",
    "-r \"filepath\" # 読取権限がある\n",
    "-w \"filepath\" # 書込権限がある\n",
    "-x \"filepath\" # 実行権限がある\n",
    "\"file1\" -nt \"file2\" # file1の方が新しい\n",
    "\"file1\" -ot \"file2\" # file1の方が古い\n",
    "```"
   ]
  }
 ],
 "metadata": {
  "kernelspec": {
   "display_name": "Z shell",
   "language": "zsh",
   "name": "zsh"
  },
  "language_info": {
   "codemirror_mode": "shell",
   "file_extension": ".zsh",
   "mimetype": "text/x-zsh",
   "name": "zsh",
   "pygments_lexer": "shell",
   "version": "5.7.1"
  }
 },
 "nbformat": 4,
 "nbformat_minor": 4
}
