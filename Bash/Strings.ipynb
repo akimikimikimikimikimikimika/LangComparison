{
 "cells": [
  {
   "cell_type": "markdown",
   "metadata": {},
   "source": [
    "# 文字列"
   ]
  },
  {
   "cell_type": "markdown",
   "metadata": {},
   "source": [
    "## 長さ"
   ]
  },
  {
   "cell_type": "code",
   "execution_count": 1,
   "metadata": {
    "tags": []
   },
   "outputs": [
    {
     "name": "stdout",
     "output_type": "stream",
     "text": [
      "4\n"
     ]
    }
   ],
   "source": [
    "text=\"リプサム\"\n",
    "echo \"${#text}\""
   ]
  },
  {
   "cell_type": "markdown",
   "metadata": {},
   "source": [
    "---\n",
    "## 文字列の結合\n",
    "Bash では特別な結合演算子はない。文字列を並べればよい"
   ]
  },
  {
   "cell_type": "code",
   "execution_count": 2,
   "metadata": {},
   "outputs": [
    {
     "name": "stdout",
     "output_type": "stream",
     "text": [
      "Lipsum\n"
     ]
    }
   ],
   "source": [
    "echo \"L\"\"ipsum\""
   ]
  },
  {
   "cell_type": "markdown",
   "metadata": {},
   "source": [
    "---\n",
    "## 文字列の比較"
   ]
  },
  {
   "cell_type": "code",
   "execution_count": 3,
   "metadata": {},
   "outputs": [
    {
     "name": "stdout",
     "output_type": "stream",
     "text": [
      "1\n"
     ]
    }
   ],
   "source": [
    "echo $(( \"Lorem\" == \"Ipsum\" ))"
   ]
  },
  {
   "cell_type": "code",
   "execution_count": 4,
   "metadata": {},
   "outputs": [
    {
     "name": "stdout",
     "output_type": "stream",
     "text": [
      "0\n"
     ]
    }
   ],
   "source": [
    "echo $(( \"Lorem\" != \"Ipsum\" ))"
   ]
  },
  {
   "cell_type": "code",
   "execution_count": 5,
   "metadata": {},
   "outputs": [
    {
     "name": "stdout",
     "output_type": "stream",
     "text": [
      "0\n"
     ]
    }
   ],
   "source": [
    "echo $(( \"Lorem\" < \"Ipsum\" )) # 辞書順で \"Lorem\" < \"Ipsum\""
   ]
  },
  {
   "cell_type": "code",
   "execution_count": 6,
   "metadata": {},
   "outputs": [
    {
     "name": "stdout",
     "output_type": "stream",
     "text": [
      "1\n"
     ]
    }
   ],
   "source": [
    "echo $(( \"Lorem\" <= \"Ipsum\" )) # 辞書順で \"Lorem\" ≤ \"Ipsum\""
   ]
  },
  {
   "cell_type": "code",
   "execution_count": 7,
   "metadata": {},
   "outputs": [
    {
     "name": "stdout",
     "output_type": "stream",
     "text": [
      "0\n"
     ]
    }
   ],
   "source": [
    "echo $(( \"Lorem\" > \"Ipsum\" )) # 辞書順で \"Lorem\" > \"Ipsum\""
   ]
  },
  {
   "cell_type": "code",
   "execution_count": 8,
   "metadata": {},
   "outputs": [
    {
     "name": "stdout",
     "output_type": "stream",
     "text": [
      "1\n"
     ]
    }
   ],
   "source": [
    "echo $(( \"Lorem\" >= \"Ipsum\" )) # 辞書順で \"Lorem\" ≥ \"Ipsum\""
   ]
  },
  {
   "cell_type": "markdown",
   "metadata": {},
   "source": [
    "---\n",
    "## 部分文字列"
   ]
  },
  {
   "cell_type": "code",
   "execution_count": 9,
   "metadata": {},
   "outputs": [
    {
     "name": "stdout",
     "output_type": "stream",
     "text": [
      "bash: リプサム=LOREM IPSUM dolor sit amet: command not found\n",
      "サム\n"
     ]
    }
   ],
   "source": [
    "$text=\"LOREM IPSUM dolor sit amet\"\n",
    "echo ${text:2:3} # 2番目から3文字抽出"
   ]
  },
  {
   "cell_type": "markdown",
   "metadata": {},
   "source": [
    "`${text:2:3}` で部分列を取り出す際, `${text:3-1:18/6}` などと計算式を埋め込んでも構わない"
   ]
  },
  {
   "cell_type": "markdown",
   "metadata": {},
   "source": [
    "---\n",
    "## 検索"
   ]
  },
  {
   "cell_type": "markdown",
   "metadata": {},
   "source": [
    "### 文字列の検索"
   ]
  },
  {
   "cell_type": "code",
   "execution_count": 10,
   "metadata": {},
   "outputs": [
    {
     "name": "stdout",
     "output_type": "stream",
     "text": [
      "dolor included\n"
     ]
    }
   ],
   "source": [
    "text=\"LOREM IPSUM dolor sit amet\"\n",
    "\n",
    "shopt -s nocasematch # ignorecase をオンにする設定\n",
    "if [[ $text =~ \"dolor\" ]]; then\n",
    "\techo \"dolor included\"\n",
    "else\n",
    "\techo \"dolor not included\"\n",
    "fi\n",
    "shopt -u nocasematch # ignorecase をオフにする設定"
   ]
  },
  {
   "cell_type": "markdown",
   "metadata": {},
   "source": [
    "### 正規表現での検索"
   ]
  },
  {
   "cell_type": "code",
   "execution_count": 11,
   "metadata": {},
   "outputs": [
    {
     "name": "stdout",
     "output_type": "stream",
     "text": [
      "am\n"
     ]
    }
   ],
   "source": [
    "text=\"LOREM IPSUM dolor sit amet\"\n",
    "shopt -s nocasematch\n",
    "echo \"$text\" | grep -oE \"[a-z]*([a-z]m)\""
   ]
  },
  {
   "cell_type": "markdown",
   "metadata": {},
   "source": [
    "---\n",
    "## 置換"
   ]
  },
  {
   "cell_type": "markdown",
   "metadata": {},
   "source": [
    "### 正規表現を使わない置換"
   ]
  },
  {
   "cell_type": "code",
   "execution_count": 12,
   "metadata": {},
   "outputs": [],
   "source": [
    "text=\"abracadabra\""
   ]
  },
  {
   "cell_type": "code",
   "execution_count": 13,
   "metadata": {},
   "outputs": [
    {
     "name": "stdout",
     "output_type": "stream",
     "text": [
      "acadabra\n"
     ]
    }
   ],
   "source": [
    "echo \"${text#*br}\" # 先頭から最短で *br にマッチする部分を削除"
   ]
  },
  {
   "cell_type": "code",
   "execution_count": 14,
   "metadata": {},
   "outputs": [
    {
     "name": "stdout",
     "output_type": "stream",
     "text": [
      "a\n"
     ]
    }
   ],
   "source": [
    "echo \"${text##*br}\" # 先頭から最長で *br にマッチする部分を削除"
   ]
  },
  {
   "cell_type": "code",
   "execution_count": 15,
   "metadata": {},
   "outputs": [
    {
     "name": "stdout",
     "output_type": "stream",
     "text": [
      "abracada\n"
     ]
    }
   ],
   "source": [
    "echo \"${text%br*}\" # 末尾から最短で br* にマッチする部分を削除"
   ]
  },
  {
   "cell_type": "code",
   "execution_count": 16,
   "metadata": {},
   "outputs": [
    {
     "name": "stdout",
     "output_type": "stream",
     "text": [
      "a\n"
     ]
    }
   ],
   "source": [
    "echo \"${text%%br*}\" # 末尾から最長で br* にマッチする部分を削除"
   ]
  },
  {
   "cell_type": "code",
   "execution_count": 17,
   "metadata": {},
   "outputs": [],
   "source": [
    "text=\"LOREM IPSUM dolor sit amet\""
   ]
  },
  {
   "cell_type": "code",
   "execution_count": 18,
   "metadata": {},
   "outputs": [
    {
     "name": "stdout",
     "output_type": "stream",
     "text": [
      "LOREℳ IPSUM dolor sit amet\n"
     ]
    }
   ],
   "source": [
    "echo \"${text/M/ℳ}\""
   ]
  },
  {
   "cell_type": "code",
   "execution_count": 19,
   "metadata": {},
   "outputs": [
    {
     "name": "stdout",
     "output_type": "stream",
     "text": [
      "LOREℳ IPSUℳ dolor sit aℳet\n"
     ]
    }
   ],
   "source": [
    "echo \"${text//M/ℳ}\""
   ]
  },
  {
   "cell_type": "markdown",
   "metadata": {},
   "source": [
    "### 正規表現を使う置換"
   ]
  },
  {
   "cell_type": "code",
   "execution_count": 20,
   "metadata": {},
   "outputs": [
    {
     "name": "stdout",
     "output_type": "stream",
     "text": [
      "lorme ipsum dolor sit amet\n"
     ]
    }
   ],
   "source": [
    "echo \"lorem ipsum dolor sit amet\" | sed -Ee \"s/([a-z])(m)/\\2\\1/\" # swapping"
   ]
  },
  {
   "cell_type": "code",
   "execution_count": 21,
   "metadata": {},
   "outputs": [
    {
     "name": "stdout",
     "output_type": "stream",
     "text": [
      "lorme ipsmu dolor sit maet\n"
     ]
    }
   ],
   "source": [
    "echo \"lorem ipsum dolor sit amet\" | sed -Ee \"s/([a-z])(m)/\\2\\1/g\" # swapping"
   ]
  },
  {
   "cell_type": "markdown",
   "metadata": {},
   "source": [
    "* GNU版の `sed` コマンドとかは正規表現の `i` フラグにも対応しているようだ\n",
    "* 2つ以上連続で置換を行う場合は, `sed -e s///g -e s///g ...` とする\n",
    "* `s/before/after/g` の型だけでなく,スラッシュ以外の記号でもよいみたいで,例えば `s@before@after@g` の型でもよい"
   ]
  },
  {
   "cell_type": "markdown",
   "metadata": {},
   "source": [
    "`sed` コマンド自体は Stream EDitor の略なので、テキスト編集に特化したコマンドである。\n",
    "* `sed -i \"s/before/after/g\" filename` とすることでファイルを直接編集できる (`-i`フラグ)"
   ]
  },
  {
   "cell_type": "markdown",
   "metadata": {},
   "source": [
    "---\n",
    "## 分割と結合"
   ]
  },
  {
   "cell_type": "markdown",
   "metadata": {},
   "source": [
    "### 正規表現を使わない分割"
   ]
  },
  {
   "cell_type": "code",
   "execution_count": 22,
   "metadata": {},
   "outputs": [
    {
     "name": "stdout",
     "output_type": "stream",
     "text": [
      "LOREM\n",
      "IPSUM\n",
      "dolor\n",
      "sit\n",
      "amet\n"
     ]
    }
   ],
   "source": [
    "text=\"LOREM IPSUM dolor sit amet\"\n",
    "IFS=\" \" # 区切りを定めるグローバル変数\n",
    "splited=($text)\n",
    "echo \"${splited[0]}\"\n",
    "echo \"${splited[1]}\"\n",
    "echo \"${splited[2]}\"\n",
    "echo \"${splited[3]}\"\n",
    "echo \"${splited[4]}\""
   ]
  },
  {
   "cell_type": "code",
   "execution_count": 23,
   "metadata": {},
   "outputs": [
    {
     "name": "stdout",
     "output_type": "stream",
     "text": [
      "L_I_D_S_A\n"
     ]
    }
   ],
   "source": [
    "array=(\"L\" \"I\" \"D\" \"S\" \"A\")\n",
    "IFS=\"_\"\n",
    "joined=\"${array[*]}\"\n",
    "echo \"$joined\""
   ]
  }
 ],
 "metadata": {
  "kernelspec": {
   "display_name": "Bash",
   "language": "bash",
   "name": "bash"
  },
  "language_info": {
   "codemirror_mode": "shell",
   "file_extension": ".sh",
   "mimetype": "text/x-sh",
   "name": "bash"
  }
 },
 "nbformat": 4,
 "nbformat_minor": 4
}
