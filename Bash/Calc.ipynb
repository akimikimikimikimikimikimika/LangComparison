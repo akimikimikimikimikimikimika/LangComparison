{
 "cells": [
  {
   "cell_type": "markdown",
   "metadata": {},
   "source": [
    "# 演算"
   ]
  },
  {
   "cell_type": "markdown",
   "metadata": {},
   "source": [
    "## 進数変換"
   ]
  },
  {
   "cell_type": "markdown",
   "metadata": {},
   "source": [
    "### n進数 → 10進数 (n = 2 ~ 36)"
   ]
  },
  {
   "cell_type": "code",
   "execution_count": 3,
   "metadata": {
    "tags": []
   },
   "outputs": [
    {
     "name": "stdout",
     "output_type": "stream",
     "text": [
      "3564\n"
     ]
    }
   ],
   "source": [
    "echo $((0xdec)) # 16進数 → 10進数"
   ]
  },
  {
   "cell_type": "code",
   "execution_count": 2,
   "metadata": {
    "tags": []
   },
   "outputs": [
    {
     "name": "stdout",
     "output_type": "stream",
     "text": [
      "317\n"
     ]
    }
   ],
   "source": [
    "echo $((0475)) # 8進数 → 10進数"
   ]
  },
  {
   "cell_type": "code",
   "execution_count": 3,
   "metadata": {
    "tags": []
   },
   "outputs": [
    {
     "name": "stdout",
     "output_type": "stream",
     "text": [
      "1411130804744824413\n"
     ]
    }
   ],
   "source": [
    "echo $((64#Shell_Script)) # 64進数 → 10進数"
   ]
  },
  {
   "cell_type": "markdown",
   "metadata": {},
   "source": [
    "* 計算のできる $((  )) 内に入れることで,最大で64進数までの数値を10進数に変換できる\n",
    "\t- `0x(hex)` : 16進数\n",
    "\t- `0(oct)`  : 8進数\n",
    "\t- `r#(***)` : r進数 (r=2~64)\n",
    "\n",
    "\n",
    "* 64進数の数字 : `0123456789abcdefghijklmnopqrstuvwxyzABCDEFGHIJKLMNOPQRSTUVWXYZ@_`"
   ]
  },
  {
   "cell_type": "markdown",
   "metadata": {},
   "source": [
    "### 10進数 ↔︎ 8,16進数 (`printf`)"
   ]
  },
  {
   "cell_type": "code",
   "execution_count": 4,
   "metadata": {
    "tags": []
   },
   "outputs": [
    {
     "name": "stdout",
     "output_type": "stream",
     "text": [
      "3564"
     ]
    }
   ],
   "source": [
    "printf \"%d\" 0xdec"
   ]
  },
  {
   "cell_type": "code",
   "execution_count": 5,
   "metadata": {
    "tags": []
   },
   "outputs": [
    {
     "name": "stdout",
     "output_type": "stream",
     "text": [
      "317"
     ]
    }
   ],
   "source": [
    "printf \"%d\" 0475"
   ]
  },
  {
   "cell_type": "code",
   "execution_count": 6,
   "metadata": {
    "tags": []
   },
   "outputs": [
    {
     "name": "stdout",
     "output_type": "stream",
     "text": [
      "dec"
     ]
    }
   ],
   "source": [
    "printf \"%x\" 3564"
   ]
  },
  {
   "cell_type": "code",
   "execution_count": 7,
   "metadata": {
    "tags": []
   },
   "outputs": [
    {
     "name": "stdout",
     "output_type": "stream",
     "text": [
      "475"
     ]
    }
   ],
   "source": [
    "printf \"%o\" 317"
   ]
  },
  {
   "cell_type": "markdown",
   "metadata": {},
   "source": [
    "printfでは置換する際に進数を計算する\n",
    "- `%o` :  8進数 (Oct)\n",
    "- `%d` : 10進数 (Dec)\n",
    "- `%x` : 16進数 (heX)"
   ]
  },
  {
   "cell_type": "markdown",
   "metadata": {},
   "source": [
    "### n進数 ↔︎ m進数 (n,m = 2 ~ 36 , `bc`コマンド)"
   ]
  },
  {
   "cell_type": "code",
   "execution_count": 8,
   "metadata": {
    "tags": []
   },
   "outputs": [
    {
     "name": "stdout",
     "output_type": "stream",
     "text": [
      "DEC\n"
     ]
    }
   ],
   "source": [
    "echo \"obase=16;ibase=10;3564\" | bc # 10進数 → 16進数"
   ]
  },
  {
   "cell_type": "code",
   "execution_count": 9,
   "metadata": {
    "tags": []
   },
   "outputs": [
    {
     "name": "stdout",
     "output_type": "stream",
     "text": [
      "758\n"
     ]
    }
   ],
   "source": [
    "echo \"obase=10;ibase=2;1011110110\" | bc # 2進数 → 10進数"
   ]
  },
  {
   "cell_type": "code",
   "execution_count": 10,
   "metadata": {
    "tags": []
   },
   "outputs": [
    {
     "name": "stdout",
     "output_type": "stream",
     "text": [
      "CDDB\n"
     ]
    }
   ],
   "source": [
    "echo \"obase=14;ibase=6;433045\" | bc # 6進数 → 14進数"
   ]
  },
  {
   "cell_type": "markdown",
   "metadata": {},
   "source": [
    "`obase`に指定する値はその時点での`ibase`の進数に依るので,`obase`を先に定義してから`ibase`を定義した方が良い  \n",
    "例えば, `ibase=16;obase=10` とすれば, `obase`は16進数で`\"10\"`,すなわち`obase`を16に指定してしまう  \n",
    "16進数は大文字にしなければならない"
   ]
  },
  {
   "cell_type": "markdown",
   "metadata": {},
   "source": [
    "## 定数 (`bc`コマンド)"
   ]
  },
  {
   "cell_type": "code",
   "execution_count": 11,
   "metadata": {
    "tags": []
   },
   "outputs": [
    {
     "name": "stdout",
     "output_type": "stream",
     "text": [
      "3.14159265358979323844\n"
     ]
    }
   ],
   "source": [
    "pi=`echo \"a(1)*4\" | bc -l`\n",
    "echo $pi"
   ]
  },
  {
   "cell_type": "code",
   "execution_count": 12,
   "metadata": {
    "tags": []
   },
   "outputs": [
    {
     "name": "stdout",
     "output_type": "stream",
     "text": [
      "2.71828182845904523536\n"
     ]
    }
   ],
   "source": [
    "e=`echo \"e(1)\" | bc -l`\n",
    "echo $e"
   ]
  },
  {
   "cell_type": "markdown",
   "metadata": {},
   "source": [
    "## 数学関数 (`bc`コマンド)"
   ]
  },
  {
   "cell_type": "code",
   "execution_count": 13,
   "metadata": {
    "tags": []
   },
   "outputs": [
    {
     "name": "stdout",
     "output_type": "stream",
     "text": [
      "1.73205080756887729352\n"
     ]
    }
   ],
   "source": [
    "echo \"sqrt(3)\" | bc -l # sqrt(3)"
   ]
  },
  {
   "cell_type": "code",
   "execution_count": 14,
   "metadata": {
    "tags": []
   },
   "outputs": [
    {
     "name": "stdout",
     "output_type": "stream",
     "text": [
      "3.14244135683916672357\n"
     ]
    }
   ],
   "source": [
    "echo \"e(1.145)\" | bc -l # exp(1.145)"
   ]
  },
  {
   "cell_type": "code",
   "execution_count": 15,
   "metadata": {
    "tags": []
   },
   "outputs": [
    {
     "name": "stdout",
     "output_type": "stream",
     "text": [
      "3.14156272176553051575\n"
     ]
    }
   ],
   "source": [
    "echo \"l(23.14)\" | bc -l # log(23.14)"
   ]
  },
  {
   "cell_type": "code",
   "execution_count": 16,
   "metadata": {
    "tags": []
   },
   "outputs": [
    {
     "name": "stdout",
     "output_type": "stream",
     "text": [
      ".86602540378443864675\n"
     ]
    }
   ],
   "source": [
    "echo \"s($pi/3)\" | bc -l # sin(π/3)"
   ]
  },
  {
   "cell_type": "code",
   "execution_count": 17,
   "metadata": {
    "tags": []
   },
   "outputs": [
    {
     "name": "stdout",
     "output_type": "stream",
     "text": [
      ".50000000000000000001\n"
     ]
    }
   ],
   "source": [
    "echo \"c($pi/3)\" | bc -l # cos(π/3)"
   ]
  },
  {
   "cell_type": "code",
   "execution_count": 18,
   "metadata": {
    "tags": []
   },
   "outputs": [
    {
     "name": "stdout",
     "output_type": "stream",
     "text": [
      ".78539816339744830961\n"
     ]
    }
   ],
   "source": [
    "echo \"a(1)\" | bc -l # atan(1)"
   ]
  },
  {
   "cell_type": "markdown",
   "metadata": {},
   "source": [
    "## 乱数"
   ]
  },
  {
   "cell_type": "code",
   "execution_count": 19,
   "metadata": {
    "tags": []
   },
   "outputs": [
    {
     "name": "stdout",
     "output_type": "stream",
     "text": [
      "14769\n"
     ]
    }
   ],
   "source": [
    "echo $RANDOM"
   ]
  },
  {
   "cell_type": "markdown",
   "metadata": {},
   "source": [
    "`$RANDOM` は実行する度に違う値が返される変数である。bashなどで対応している"
   ]
  }
 ],
 "metadata": {
  "kernelspec": {
   "display_name": "Bash",
   "language": "bash",
   "name": "bash"
  },
  "language_info": {
   "codemirror_mode": "shell",
   "file_extension": ".sh",
   "mimetype": "text/x-sh",
   "name": "bash"
  }
 },
 "nbformat": 4,
 "nbformat_minor": 4
}
