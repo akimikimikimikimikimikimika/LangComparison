{
 "cells": [
  {
   "cell_type": "markdown",
   "metadata": {},
   "source": [
    "# プロセス"
   ]
  },
  {
   "cell_type": "markdown",
   "metadata": {},
   "source": [
    "## プログラムの情報"
   ]
  },
  {
   "cell_type": "markdown",
   "metadata": {},
   "source": [
    "* 実行パス"
   ]
  },
  {
   "cell_type": "code",
   "execution_count": 1,
   "metadata": {},
   "outputs": [
    {
     "name": "stdout",
     "output_type": "stream",
     "text": [
      "/usr/local/bin/zsh\n"
     ]
    }
   ],
   "source": [
    "echo $0"
   ]
  },
  {
   "cell_type": "markdown",
   "metadata": {},
   "source": [
    "* このファイルのフルパス"
   ]
  },
  {
   "cell_type": "code",
   "execution_count": 2,
   "metadata": {},
   "outputs": [
    {
     "name": "stdout",
     "output_type": "stream",
     "text": [
      "/usr/local/bin/zsh\n"
     ]
    }
   ],
   "source": [
    "echo \"$(cd $(dirname $0); pwd)\"/\"`basename \"$0\"`\""
   ]
  },
  {
   "cell_type": "markdown",
   "metadata": {},
   "source": [
    "* このファイルの名前"
   ]
  },
  {
   "cell_type": "code",
   "execution_count": 3,
   "metadata": {},
   "outputs": [
    {
     "name": "stdout",
     "output_type": "stream",
     "text": [
      "zsh\n"
     ]
    }
   ],
   "source": [
    "echo \"`basename \"$0\"`\""
   ]
  },
  {
   "cell_type": "markdown",
   "metadata": {},
   "source": [
    "* このファイルのある場所"
   ]
  },
  {
   "cell_type": "code",
   "execution_count": 4,
   "metadata": {},
   "outputs": [
    {
     "name": "stdout",
     "output_type": "stream",
     "text": [
      "/usr/local/bin\n"
     ]
    }
   ],
   "source": [
    "echo \"$(cd $(dirname $0); pwd)\""
   ]
  },
  {
   "cell_type": "markdown",
   "metadata": {},
   "source": [
    "* プロセスID"
   ]
  },
  {
   "cell_type": "code",
   "execution_count": 5,
   "metadata": {},
   "outputs": [
    {
     "name": "stdout",
     "output_type": "stream",
     "text": [
      "76121\n"
     ]
    }
   ],
   "source": [
    "echo $$"
   ]
  },
  {
   "cell_type": "markdown",
   "metadata": {},
   "source": [
    "* このコードの行番号"
   ]
  },
  {
   "cell_type": "code",
   "execution_count": 6,
   "metadata": {},
   "outputs": [
    {
     "name": "stdout",
     "output_type": "stream",
     "text": [
      "9\n"
     ]
    }
   ],
   "source": [
    "echo $LINENO"
   ]
  },
  {
   "cell_type": "markdown",
   "metadata": {},
   "source": [
    "## システム情報"
   ]
  },
  {
   "cell_type": "markdown",
   "metadata": {},
   "source": [
    "* ホームディレクトリ"
   ]
  },
  {
   "cell_type": "code",
   "execution_count": 7,
   "metadata": {},
   "outputs": [
    {
     "name": "stdout",
     "output_type": "stream",
     "text": []
    }
   ],
   "source": [
    "echo $HOME"
   ]
  },
  {
   "cell_type": "markdown",
   "metadata": {},
   "source": [
    "* カレントディレクトリ"
   ]
  },
  {
   "cell_type": "code",
   "execution_count": 8,
   "metadata": {},
   "outputs": [
    {
     "name": "stdout",
     "output_type": "stream",
     "text": []
    }
   ],
   "source": [
    "pwd"
   ]
  },
  {
   "cell_type": "markdown",
   "metadata": {},
   "source": [
    "* OS"
   ]
  },
  {
   "cell_type": "code",
   "execution_count": 9,
   "metadata": {},
   "outputs": [
    {
     "name": "stdout",
     "output_type": "stream",
     "text": [
      "Darwin\n"
     ]
    }
   ],
   "source": [
    "uname -s"
   ]
  },
  {
   "cell_type": "markdown",
   "metadata": {},
   "source": [
    "* バージョン"
   ]
  },
  {
   "cell_type": "code",
   "execution_count": 10,
   "metadata": {},
   "outputs": [
    {
     "name": "stdout",
     "output_type": "stream",
     "text": [
      "Darwin Kernel Version 19.4.0: Wed Mar  4 22:28:40 PST 2020; root:xnu-6153.101.6~15/RELEASE_X86_64\n"
     ]
    }
   ],
   "source": [
    "uname -v"
   ]
  },
  {
   "cell_type": "markdown",
   "metadata": {},
   "source": [
    "* リリース"
   ]
  },
  {
   "cell_type": "code",
   "execution_count": 11,
   "metadata": {},
   "outputs": [
    {
     "name": "stdout",
     "output_type": "stream",
     "text": [
      "19.4.0\n"
     ]
    }
   ],
   "source": [
    "uname -r"
   ]
  },
  {
   "cell_type": "markdown",
   "metadata": {},
   "source": [
    "* プロセッサ"
   ]
  },
  {
   "cell_type": "code",
   "execution_count": 12,
   "metadata": {},
   "outputs": [
    {
     "name": "stdout",
     "output_type": "stream",
     "text": [
      "i386\n"
     ]
    }
   ],
   "source": [
    "uname -p"
   ]
  },
  {
   "cell_type": "markdown",
   "metadata": {},
   "source": [
    "* ハードウェア"
   ]
  },
  {
   "cell_type": "code",
   "execution_count": 13,
   "metadata": {},
   "outputs": [
    {
     "name": "stdout",
     "output_type": "stream",
     "text": [
      "x86_64\n"
     ]
    }
   ],
   "source": [
    "uname -m"
   ]
  },
  {
   "cell_type": "markdown",
   "metadata": {},
   "source": [
    "* ノード名"
   ]
  },
  {
   "cell_type": "code",
   "execution_count": 14,
   "metadata": {},
   "outputs": [
    {
     "name": "stdout",
     "output_type": "stream",
     "text": []
    }
   ],
   "source": [
    "uname -n"
   ]
  },
  {
   "cell_type": "markdown",
   "metadata": {},
   "source": [
    "## シェル情報"
   ]
  },
  {
   "cell_type": "markdown",
   "metadata": {},
   "source": [
    "* デフォルトシェル"
   ]
  },
  {
   "cell_type": "code",
   "execution_count": 15,
   "metadata": {},
   "outputs": [
    {
     "name": "stdout",
     "output_type": "stream",
     "text": [
      "/bin/zsh\n"
     ]
    }
   ],
   "source": [
    "echo $SHELL"
   ]
  },
  {
   "cell_type": "markdown",
   "metadata": {},
   "source": [
    "* デフォルトシェルのバージョン"
   ]
  },
  {
   "cell_type": "code",
   "execution_count": 16,
   "metadata": {},
   "outputs": [
    {
     "name": "stdout",
     "output_type": "stream",
     "text": [
      "zsh 5.7.1 (x86_64-apple-darwin19.0)\n"
     ]
    }
   ],
   "source": [
    "$SHELL --version"
   ]
  },
  {
   "cell_type": "markdown",
   "metadata": {},
   "source": [
    "## スリープ"
   ]
  },
  {
   "cell_type": "code",
   "execution_count": 17,
   "metadata": {},
   "outputs": [],
   "source": [
    "sleep 3.14"
   ]
  }
 ],
 "metadata": {
  "kernelspec": {
   "display_name": "Bash",
   "language": "bash",
   "name": "bash"
  },
  "language_info": {
   "codemirror_mode": "shell",
   "file_extension": ".sh",
   "mimetype": "text/x-sh",
   "name": "bash",
   "pygments_lexer": "shell",
   "version": "3.8.4-final"
  }
 },
 "nbformat": 4,
 "nbformat_minor": 4
}