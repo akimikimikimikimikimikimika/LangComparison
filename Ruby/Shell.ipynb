{
 "cells": [
  {
   "cell_type": "markdown",
   "metadata": {},
   "source": [
    "# シェル"
   ]
  },
  {
   "cell_type": "markdown",
   "metadata": {},
   "source": [
    "## 通常の実行"
   ]
  },
  {
   "cell_type": "code",
   "execution_count": null,
   "metadata": {},
   "outputs": [],
   "source": [
    "`ls -a`"
   ]
  },
  {
   "cell_type": "markdown",
   "metadata": {},
   "source": [
    "## 実行方法をカスタマイズ\n",
    "\n",
    "シェルを実行するためのいくつかの関数があり,ここではそれぞれを見ていく  \n",
    "- 実行内容を指定する方法によって,次のように区別できる\n",
    "\t* 文字列型  \n",
    "\t\t`\"ls -a\"` のようなもの  \n",
    "\t\tシェルで入力する文字列そのものである  \n",
    "\t\tスペースなどを含む引数は適宜エスケープが必要\n",
    "\t* 配列型  \n",
    "\t\t`[\"ls\",\"-a\"]` のようなもの  \n",
    "\t\t引数をエスケープせずにそのまま渡せる\n",
    "- `?`を後置するパラメータは,省略可能であることを示す"
   ]
  },
  {
   "cell_type": "markdown",
   "metadata": {},
   "source": [
    "### `exec(env?,cmd,options?)` -> `void`\n",
    "* stdin,stdout,stderr はインターセプトされない (`options`で変更可能)\n",
    "* `cmd` : 実行内容 (文字列型/配列型)  \n",
    "\t但し,配列は `*array` の形で引数展開すること  \n",
    "\t文字列の場合に,文字列中に `;[]()` などのメタ文字が含まれる場合はシェル経由で実行される\n",
    "* `env` : 環境変数の連想配列  \n",
    "\t指定しなければ現在の環境変数を使用\n",
    "* `options` : 実行オプション (後述)\n",
    "* 実行した後は,Rubyの実行に戻らずにそのまま終了する (以後のコードは実行されない)\n",
    "* `exec`の終了コードはそのままRubyの終了コードになる"
   ]
  },
  {
   "cell_type": "markdown",
   "metadata": {},
   "source": [
    "### `` `cmdStr` `` -> `string`\n",
    "* stdout がインターセプトされる\n",
    "* stdin,stderr はインターセプトされない\n",
    "* 実行完了まで `cmdStr` より先には進まない\n",
    "* cmdStr : 実行内容 (文字列型)\n",
    "* 戻り値 : stdout 全体\n",
    "* 実行後に `$?` から結果を得られる\n",
    "\t* `$?.exitstatus` : 終了コード\n",
    "\t* `$?.pid` : プロセスID"
   ]
  },
  {
   "cell_type": "markdown",
   "metadata": {},
   "source": [
    "### `system(env?,cmd,options?)` -> `bool` | `nil`\n",
    "* stdin,stdout,stderr はインターセプトされない (`options`で変更可能)\n",
    "* 実行完了まで `system` より先には進まない\n",
    "* `cmd` : 実行内容 (文字列型/配列型)\n",
    "* `env` : 環境変数の連想配列\n",
    "* `options` : 実行オプション (後述)\n",
    "* 戻り値 : 成功したか否かを示す真偽値\n",
    "\t* `true` : 終了コードが0の場合\n",
    "\t* `false` : 終了コードが0以外の場合\n",
    "\t* `nil` : 実行に失敗した場合\n",
    "* 実行後に `$?` から結果を得られる"
   ]
  },
  {
   "cell_type": "markdown",
   "metadata": {},
   "source": [
    "### `spawn(env?,cmd,options?)` -> `int`\n",
    "* stdin,stdout,stderr はインターセプトされない (`options`で変更可能)\n",
    "* `spawn` の時点ではプロセスは終了していないので, `waitpid(プロセスID)` を用いて終了を待つ必要がある\n",
    "* `cmd` : 実行内容 (文字列型/配列型)\n",
    "* `env` : 環境変数の連想配列\n",
    "* `options` : 実行オプション (後述)\n",
    "* 戻り値 : プロセスID\n",
    "* `waitpid` で待った後に `$?` から結果を得られる"
   ]
  },
  {
   "cell_type": "markdown",
   "metadata": {},
   "source": [
    "### `IO.popen(env?,cmd,options?,mode=\"r\")` -> `IO`\n",
    "* stdin,stdout,stderr の全てがインターセプトされる (`options`で変更可能)\n",
    "*` cmd` : 実行内容 (文字列型/配列型)  \n",
    "\t`IO.popen` では配列であっても指定できる (つまり`*array`の展開は必要ない)\n",
    "* `env` : 環境変数の連想配列\n",
    "* `options` : 実行オプション (後述)\n",
    "* 戻り値 : ファイルハンドラ (IOオブジェクト)\n",
    "* `IO.popen` はプロセスの終了を待ってくれない。待つ必要がある場合は `spawn` などを使用する"
   ]
  },
  {
   "cell_type": "markdown",
   "metadata": {},
   "source": [
    "* `options` : 実行オプションの連想配列  \n",
    "\t次のオプションが指定可能\n",
    "\t* `:in=>` / `STDIN=>` / `0=>`\n",
    "\t\t* `:in`,`STDIN`,`0` … 親プロセスのstdinに接続\n",
    "\t\t* `\"パス\"` … ファイルから読み込む\n",
    "\t\t* `\"/dev/null\"` … 空の入力\n",
    "\t\t* ハンドラ … `IO.pipe` などで開いたファイルハンドラから読み込む (パイプ)\n",
    "\t* `:out=>` / `STDOUT=>` / `1=>` , `:err=>` / `STDERR=>` / `2=>`\n",
    "\t\t* `:out`,`STDOUT`,`1`,`:err`,`STDERR`,`2` … 親プロセスのstdout,stderrに接続\n",
    "\t\t* `[:child,:out]`,`[:child,:err]` … 子プロセスのstdout,stderrに接続  \n",
    "\t\t\te.g.  \n",
    "\t\t\t\t`:err=>[:child,:out],:out=>\"output\"` … stderrとstdoutをまとめてファイル output に書き込む\n",
    "\t\t* `\"パス\"` … ファイルに書き込む\n",
    "\t\t* `\"/dev/null\"` … 出力を破棄\n",
    "\t\t* ハンドラ … `IO.pipe` などで開いたファイルハンドラに書き込む (パイプ)\n",
    "\t* `:cwd=>` … カレントディレクトリを指定\n",
    "\t* `:exception=>` … `system(env?,cmd,options?)` でのみ使用可能  \n",
    "\t\t`true` に指定すると, `false` や `nil` を返す代わりにエラーを発生させる\n",
    "* 複数のプロセスの間をパイプするには `IO.pipe` を使用する\n",
    "\t```Ruby\n",
    "\tr,w = IO.pipe\n",
    "\tspawn(\"コマンド1\",:out=>w)\n",
    "\tspawn(\"コマンド2\",:in=>r) # コマンド1の出力がそのままコマンド2の入力になる\n",
    "\t```\n",
    "* stdinを文字列で与える場合も `IO.pipe` を使用する\n",
    "\t```Ruby\n",
    "\tr,w = IO.pipe\n",
    "\tw.write(stdIn)\n",
    "\tw.close\n",
    "\tspawn(\"コマンド\",:in=>r)\n",
    "\t```\n",
    "* stdout,stderrの文字列を受け取る場合も `IO.pipe` を使用する\n",
    "\t```Ruby\n",
    "\tr,w = IO.pipe\n",
    "\tspawn(\"コマンド\",:out=>w)\n",
    "\tstdOut=r.read\n",
    "\tr.close\n",
    "\t```"
   ]
  }
 ],
 "metadata": {
  "kernelspec": {
   "display_name": "Ruby",
   "language": "ruby",
   "name": "ruby"
  },
  "language_info": {
   "file_extension": ".rb",
   "mimetype": "application/x-ruby",
   "name": "ruby",
   "version": "2.7.1"
  }
 },
 "nbformat": 4,
 "nbformat_minor": 4
}
