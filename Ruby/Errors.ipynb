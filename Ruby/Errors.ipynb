{
 "cells": [
  {
   "cell_type": "markdown",
   "metadata": {},
   "source": [
    "# 例外処理"
   ]
  },
  {
   "cell_type": "code",
   "execution_count": 1,
   "metadata": {},
   "outputs": [
    {
     "name": "stdout",
     "output_type": "stream",
     "text": [
      "エラーが発生しました\n",
      "エラー内容: あなたは過ちを犯した!!\n",
      "以上でエラーチェックを終了します\n"
     ]
    }
   ],
   "source": [
    "begin\n",
    "\t# begin節内で起こりうる例外は捕捉される\n",
    "\traise \"あなたは過ちを犯した!!\" # 例外の発生 (例外が発生した時点で,それ以降の行は実行しない)\n",
    "\tputs \"この行は実行されない\"\n",
    "rescue => e\n",
    "\t# 例外をキャッチすればrescue節が実行される\n",
    "\tputs \"エラーが発生しました\"\n",
    "\tputs \"エラー内容: #{e}\"\n",
    "else\n",
    "\t# 例外をキャッチしなければelse節が実行される。なくても良い\n",
    "    puts \"エラーは発生しませんでした\"\n",
    "ensure\n",
    "\t# 最後にensure節が実行される。なくても良い\n",
    "\tputs \"以上でエラーチェックを終了します\"\n",
    "end"
   ]
  },
  {
   "cell_type": "markdown",
   "metadata": {},
   "source": [
    "* 例外を捕捉するには `rescue` が必要である"
   ]
  },
  {
   "cell_type": "markdown",
   "metadata": {},
   "source": [
    "エラーの種類を指定する例"
   ]
  },
  {
   "cell_type": "code",
   "execution_count": 2,
   "metadata": {},
   "outputs": [
    {
     "name": "stdout",
     "output_type": "stream",
     "text": [
      "エラーが発生しました\n",
      "エラー内容: あなたはRubyの文法を踏み外している!\n"
     ]
    }
   ],
   "source": [
    "begin\n",
    "\t# エラーの種類をSyntaxError(構文エラー)にする\n",
    "\traise SyntaxError,\"あなたはRubyの文法を踏み外している!\"\n",
    "\t# 或いは\n",
    "\traise SyntaxError.new \"あなたはRubyの文法を踏み外している!\"\n",
    "rescue SyntaxError, NoMemoryError => e\n",
    "\t# 種類を定めたエラーを捕捉するには,rescue節で発生する可能性のあるエラーを特定しなければならない (この場合,SyntaxErrorとNoMemoryErrorが捕捉できる)\n",
    "\tputs \"エラーが発生しました\"\n",
    "\tputs \"エラー内容: #{e}\"\n",
    "end"
   ]
  }
 ],
 "metadata": {
  "kernelspec": {
   "display_name": "Ruby",
   "language": "ruby",
   "name": "ruby"
  },
  "language_info": {
   "file_extension": ".rb",
   "mimetype": "application/x-ruby",
   "name": "ruby",
   "version": "2.7.1"
  }
 },
 "nbformat": 4,
 "nbformat_minor": 4
}