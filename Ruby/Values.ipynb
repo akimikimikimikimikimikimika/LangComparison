{
 "cells": [
  {
   "cell_type": "markdown",
   "metadata": {},
   "source": [
    "# 色々な値"
   ]
  },
  {
   "cell_type": "markdown",
   "metadata": {},
   "source": [
    "## 文字列"
   ]
  },
  {
   "cell_type": "code",
   "execution_count": 1,
   "metadata": {},
   "outputs": [
    {
     "name": "stdout",
     "output_type": "stream",
     "text": [
      "ルビー\n"
     ]
    }
   ],
   "source": [
    "string = \"ルビー\"\n",
    "puts string"
   ]
  },
  {
   "cell_type": "markdown",
   "metadata": {},
   "source": [
    "変数展開/式展開の仕方\n",
    "```Ruby\n",
    "\"The value is #{val*2}\"\n",
    "```"
   ]
  },
  {
   "cell_type": "markdown",
   "metadata": {},
   "source": [
    "### 複数行"
   ]
  },
  {
   "cell_type": "code",
   "execution_count": 2,
   "metadata": {},
   "outputs": [
    {
     "name": "stdout",
     "output_type": "stream",
     "text": [
      "\n",
      "First line\n",
      "Second line\n",
      "Third line\n",
      "\n"
     ]
    }
   ],
   "source": [
    "lines = \"\"\"\n",
    "First line\n",
    "Second line\n",
    "Third line\n",
    "\"\"\"\n",
    "puts lines"
   ]
  },
  {
   "cell_type": "code",
   "execution_count": 5,
   "metadata": {},
   "outputs": [
    {
     "name": "stdout",
     "output_type": "stream",
     "text": [
      "\n",
      "First line\n",
      "Second line\n",
      "Third line\n",
      "\n"
     ]
    }
   ],
   "source": [
    "lines = <<-\"Lines\"\n",
    "\n",
    "First line\n",
    "Second line\n",
    "Third line\n",
    "Lines\n",
    "\n",
    "puts lines"
   ]
  },
  {
   "cell_type": "markdown",
   "metadata": {},
   "source": [
    "* `<<-\"Lines\"` 自体が文字列オブジェクトを表し, `<<-\"Lines\"` の次の行からヒアドキュメントが始まる\n",
    "\t```Ruby\n",
    "\t# 正しい書き方 (関数someFunctionに渡す例)\n",
    "\tsomeFunction(<<-\"multiline\")\n",
    "\tFirst line\n",
    "\tSecond line\n",
    "\tThird line\n",
    "\tmultiline\n",
    "\t# 間違った書き方\n",
    "\tsomeFunction(<<-\"multiline\"\n",
    "\tFirst line\n",
    "\tSecond line\n",
    "\tThird line\n",
    "\tmultiline)\n",
    "\t```\n",
    "* `<<-\"Lines\"` の他に `<<\"Lines\"` という書き方があるが,この場合,末端の `Lines` はインデントしてはならない"
   ]
  },
  {
   "cell_type": "code",
   "execution_count": 7,
   "metadata": {},
   "outputs": [
    {
     "name": "stdout",
     "output_type": "stream",
     "text": [
      "紅\n"
     ]
    }
   ],
   "source": [
    "char = ?紅 # ?で1文字の文字列型の値を表す\n",
    "puts char"
   ]
  },
  {
   "cell_type": "markdown",
   "metadata": {},
   "source": [
    "## 数値"
   ]
  },
  {
   "cell_type": "code",
   "execution_count": 8,
   "metadata": {},
   "outputs": [
    {
     "name": "stdout",
     "output_type": "stream",
     "text": [
      "6\n"
     ]
    }
   ],
   "source": [
    "integer = 6\n",
    "puts integer"
   ]
  },
  {
   "cell_type": "code",
   "execution_count": 9,
   "metadata": {},
   "outputs": [
    {
     "name": "stdout",
     "output_type": "stream",
     "text": [
      "3.75e-08\n"
     ]
    }
   ],
   "source": [
    "float = 0.0375e-6\n",
    "puts float"
   ]
  },
  {
   "cell_type": "code",
   "execution_count": 10,
   "metadata": {},
   "outputs": [
    {
     "name": "stdout",
     "output_type": "stream",
     "text": [
      "3+1i\n"
     ]
    }
   ],
   "source": [
    "complex = 3+1i\n",
    "puts complex"
   ]
  },
  {
   "cell_type": "markdown",
   "metadata": {},
   "source": [
    "`String.to_c` でも複素数が生成できるが,ここでは,以下の表記法がとれる\n",
    "* `\"3+6i\".to_c` 実部+虚部i\n",
    "* `\"3+6j\".to_c` 実部+虚部j\n",
    "* `\"3@6\".to_c ` 絶対値@偏角"
   ]
  },
  {
   "cell_type": "markdown",
   "metadata": {},
   "source": [
    "## 真偽値"
   ]
  },
  {
   "cell_type": "code",
   "execution_count": 11,
   "metadata": {},
   "outputs": [
    {
     "name": "stdout",
     "output_type": "stream",
     "text": [
      "true"
     ]
    }
   ],
   "source": [
    "boolean = true\n",
    "puts boolean"
   ]
  },
  {
   "cell_type": "markdown",
   "metadata": {},
   "source": [
    "## 値なし"
   ]
  },
  {
   "cell_type": "code",
   "execution_count": 13,
   "metadata": {},
   "outputs": [
    {
     "name": "stdout",
     "output_type": "stream",
     "text": [
      "\n"
     ]
    }
   ],
   "source": [
    "none = nil\n",
    "puts none"
   ]
  },
  {
   "cell_type": "markdown",
   "metadata": {},
   "source": [
    "## 配列,リスト"
   ]
  },
  {
   "cell_type": "code",
   "execution_count": 16,
   "metadata": {},
   "outputs": [
    {
     "name": "stdout",
     "output_type": "stream",
     "text": [
      "[1, \"second\", 3, 3.14, false]\n",
      "2番目: 3\n",
      "大きさ: 5\n"
     ]
    }
   ],
   "source": [
    "array = [1, \"second\", 3, 3.14, false]\n",
    "puts array\n",
    "puts \"2番目: #{array[2]}\"\n",
    "puts \"大きさ: #{array.length}\""
   ]
  },
  {
   "cell_type": "markdown",
   "metadata": {},
   "source": [
    "## ハッシュ"
   ]
  },
  {
   "cell_type": "code",
   "execution_count": 17,
   "metadata": {},
   "outputs": [
    {
     "name": "stdout",
     "output_type": "stream",
     "text": [
      "{:a=>1, :b=>\"second\", :c=>3, :d=>3.14, :e=>false}\n",
      "b= second\n",
      "大きさ: 5\n"
     ]
    }
   ],
   "source": [
    "hash = {\n",
    "\ta: 1,\n",
    "\tb: \"second\",\n",
    "\tc: 3,\n",
    "\td: 3.14,\n",
    "\te: false\n",
    "}\n",
    "puts hash\n",
    "puts \"b= #{hash[:b]}\"\n",
    "puts \"大きさ: #{hash.length}\""
   ]
  },
  {
   "cell_type": "code",
   "execution_count": 18,
   "metadata": {},
   "outputs": [
    {
     "name": "stdout",
     "output_type": "stream",
     "text": [
      "{\"a\"=>1, \"b\"=>\"second\", \"c\"=>3, \"d\"=>3.14, \"e\"=>false}\n",
      "b= second\n",
      "大きさ: 5\n"
     ]
    }
   ],
   "source": [
    "hash = {\n",
    "\t\"a\"=>1,\n",
    "\t\"b\"=>\"second\",\n",
    "\t\"c\"=>3,\n",
    "\t\"d\"=>3.14,\n",
    "\t\"e\"=>false\n",
    "}\n",
    "puts hash\n",
    "puts \"b= #{hash[\"b\"]}\"\n",
    "puts \"大きさ: #{hash.length}\""
   ]
  },
  {
   "cell_type": "markdown",
   "metadata": {},
   "source": [
    "ハッシュのキーとして指定可能なものは2種類ある\n",
    "* `a:` Symbol型のキー\n",
    "* `\"a\"=>` String型のキー\n",
    "\n",
    "それぞれは全く別のものであるから注意する必要がある  \n",
    "JSONのように `\"a\":\"value\"` とするとSymbol型になってしまう  \n",
    "アクセスするときは次のように指定する\n",
    "* Symbol型 ... `hash[:a]`\n",
    "* String型 ... `hash[\"a\"]`\n",
    "\n",
    "尚,StringよりもSymbolの方がアクセス速度が早いという"
   ]
  },
  {
   "cell_type": "markdown",
   "metadata": {},
   "source": [
    "## 範囲"
   ]
  },
  {
   "cell_type": "code",
   "execution_count": 19,
   "metadata": {},
   "outputs": [
    {
     "name": "stdout",
     "output_type": "stream",
     "text": [
      "5..8\n"
     ]
    }
   ],
   "source": [
    "ranI = 5..8 # 5≦x≦8\n",
    "puts ranI"
   ]
  },
  {
   "cell_type": "code",
   "execution_count": 20,
   "metadata": {},
   "outputs": [
    {
     "name": "stdout",
     "output_type": "stream",
     "text": [
      "5...8\n"
     ]
    }
   ],
   "source": [
    "ranE = 5...8 # 5≦x<8\n",
    "puts ranE"
   ]
  },
  {
   "cell_type": "markdown",
   "metadata": {},
   "source": [
    "## 変数の宣言\n",
    "\n",
    "### 変数\n",
    "```Ruby\n",
    "x = 6\n",
    "$x = 6 # グローバル変数: 関数内外からアクセス可能\n",
    "```\n",
    "\n",
    "### 定数\n",
    "```Ruby\n",
    "X = 6\n",
    "```\n",
    "変数名を大文字にすることで,定数となる。しかし,定数を書き換えようとすると,警告を発するのみであり,書き換えは可能である。"
   ]
  },
  {
   "cell_type": "markdown",
   "metadata": {},
   "source": [
    "## 型判定\n",
    "* `val.class` -> `string` : クラスを示す\n",
    "* `val.kind_of?(Type)` -> `bool` : クラスTypeの値かどうかを判定 (サブクラスも該当)\n",
    "* `val.instance_of?(Type)` -> `bool` : クラスTypeの値かどうかを判定 (サブクラスは含まない)"
   ]
  },
  {
   "cell_type": "markdown",
   "metadata": {},
   "source": [
    "## 型変換\n",
    "\n",
    "### `.to_s`,`.to_i`,`.to_f`,`to_c`,`to_r`,`.to_a` など\n",
    "* それぞれ文字列,整数,浮動小数,複素数,有理数,配列に変換する\n",
    "* 多くの型に実装されている"
   ]
  }
 ],
 "metadata": {
  "kernelspec": {
   "display_name": "Ruby",
   "language": "ruby",
   "name": "ruby"
  },
  "language_info": {
   "file_extension": ".rb",
   "mimetype": "application/x-ruby",
   "name": "ruby",
   "version": "2.7.1"
  }
 },
 "nbformat": 4,
 "nbformat_minor": 4
}
