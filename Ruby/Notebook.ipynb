{
 "cells": [
  {
   "cell_type": "markdown",
   "metadata": {},
   "source": [
    "## Thread.rb"
   ]
  },
  {
   "cell_type": "code",
   "execution_count": null,
   "metadata": {},
   "outputs": [],
   "source": [
    "\n",
    "print \"\\r\\nこれからスレッドを試します\\r\\n\\r\\n\";\n",
    "\n",
    "print \"\\r\\nマルチスレッド\\r\\n\\r\\n\";\n",
    "\n",
    "# 9個のスレッドそれぞれで6回のループ\n",
    "\n",
    "threads = []; # スレッドオブジェクトを格納する配列\n",
    "\n",
    "print \"スレッドを起動します\\r\\n\";\n",
    "for m in 1..9 do\n",
    "\tthreads.append(Thread.new(m) do |m|\n",
    "\t\tfor n in 1..6 do\n",
    "\t\t\tprint \"|(#{m},#{n})| = #{Math.hypot(m,n)}\\r\\n\";\n",
    "\t\tend\n",
    "\tend);\n",
    "end\n",
    "\n",
    "print \"スレッドの終了を待ちます\\r\\n\";\n",
    "threads.each do |t|\n",
    "\tt.join; # スレッドtの終了を待つ\n",
    "end\n",
    "print \"スレッドは終了しました\\r\\n\";\n",
    "\n",
    "# 各々のスレッド内でのループの順番は守られるが,全54回のプロセスの順番はバラバラ\n",
    "# このコードを実行する毎に,順番は変化する\n",
    "\n",
    "print \"\\r\\nシングルスレッド\\r\\n\\r\\n\";\n",
    "\n",
    "print \"スレッドを起動させます\\r\\n\";\n",
    "$t = Thread.new do\n",
    "\tsleep 0.5;\n",
    "\tprint \"このスレッドを停止させます\\r\\n\";\n",
    "\tThread.stop;\n",
    "\tsleep 0.5;\n",
    "\tprint \"このスレッドを終了させます\\r\\n\";\n",
    "\t$t.kill; # exit,terminate も同様\n",
    "end\n",
    "\n",
    "# スレッドの状態を確認する関数\n",
    "def info\n",
    "\tif $t.alive?\n",
    "\t\tprint \"   状態: 生きています (#{$t.status})\\r\\n\";\n",
    "\telse\n",
    "\t\tprint \"   状態: 死んでいます\\r\\n\";\n",
    "\tend\n",
    "end\n",
    "\n",
    "info;\n",
    "sleep 0.7;\n",
    "info;\n",
    "print \"スレッドを再開させます\\r\\n\";\n",
    "$t.run;\n",
    "info;\n",
    "sleep 0.7;\n",
    "info;\n",
    "sleep 0.7;\n",
    "\n",
    "print \"\\r\\n\\r\\n\";"
   ]
  }
 ],
 "metadata": {
  "kernelspec": {
   "display_name": "Ruby 2.3.7",
   "language": "ruby",
   "name": "ruby"
  }
 },
 "nbformat": 4,
 "nbformat_minor": 2
}
