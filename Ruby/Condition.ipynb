{
 "cells": [
  {
   "cell_type": "markdown",
   "metadata": {},
   "source": [
    "# 条件分岐"
   ]
  },
  {
   "cell_type": "code",
   "execution_count": null,
   "metadata": {},
   "outputs": [],
   "source": [
    "test1 = true\n",
    "test2 = false"
   ]
  },
  {
   "cell_type": "code",
   "execution_count": null,
   "metadata": {},
   "outputs": [],
   "source": [
    "if test1\n",
    "\tputs \"どうやらtest1は真のようです\"\n",
    "end"
   ]
  },
  {
   "cell_type": "code",
   "execution_count": null,
   "metadata": {},
   "outputs": [],
   "source": [
    "if not test1\n",
    "\tputs \"どうやらtest1は偽のようです\"\n",
    "elsif test2\n",
    "\tputs \"どうやらtest2は真のようです\"\n",
    "elsif not test2 and test1\n",
    "\tputs \"真偽が混在しているようです\"\n",
    "else\n",
    "\tputs \"どれでもないようです\"\n",
    "end"
   ]
  },
  {
   "cell_type": "code",
   "execution_count": null,
   "metadata": {},
   "outputs": [],
   "source": [
    "unless test2\n",
    "\tputs \"どうやらtest2は偽のようです\"\n",
    "else\n",
    "\tputs \"どうやらtest2は真のようです\"\n",
    "end"
   ]
  },
  {
   "cell_type": "code",
   "execution_count": null,
   "metadata": {},
   "outputs": [],
   "source": [
    "puts \"test1が真だからこんなことをしているんです\" if test1\n",
    "puts \"test2が偽でなければこんなことしないのに\" unless test2"
   ]
  },
  {
   "cell_type": "code",
   "execution_count": null,
   "metadata": {},
   "outputs": [],
   "source": [
    "val = 8\n",
    "case val\n",
    "\twhen 0,1 then\n",
    "\t\tputs \"#{val}は特別な値である\"\n",
    "\twhen 8..10 then\n",
    "\t\tputs \"#{val}は連続して素数ではない\"\n",
    "\twhen 4,6 then\n",
    "\t\tputs \"#{val}は素数ではない\"\n",
    "\twhen 2,3,5,7 then\n",
    "\t\tputs \"#{val}は素数である\"\n",
    "\telse\n",
    "\t\tputs \"#{val}なぞ私には興味がない\"\n",
    "end"
   ]
  },
  {
   "cell_type": "markdown",
   "metadata": {},
   "source": [
    "`when` に文字列を使用することは可能である"
   ]
  }
 ],
 "metadata": {
  "kernelspec": {
   "display_name": "Ruby",
   "language": "ruby",
   "name": "ruby"
  },
  "language_info": {
   "file_extension": ".rb",
   "mimetype": "application/x-ruby",
   "name": "ruby",
   "version": "2.7.1"
  }
 },
 "nbformat": 4,
 "nbformat_minor": 4
}
