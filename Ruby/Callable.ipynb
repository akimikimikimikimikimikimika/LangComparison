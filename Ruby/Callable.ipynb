{
 "cells": [
  {
   "cell_type": "markdown",
   "metadata": {},
   "source": [
    "# コーラブル"
   ]
  },
  {
   "cell_type": "markdown",
   "metadata": {},
   "source": [
    "## 関数"
   ]
  },
  {
   "cell_type": "markdown",
   "metadata": {},
   "source": [
    "### 通常の関数"
   ]
  },
  {
   "cell_type": "code",
   "execution_count": 1,
   "metadata": {},
   "outputs": [
    {
     "name": "stdout",
     "output_type": "stream",
     "text": [
      "216\n"
     ]
    }
   ],
   "source": [
    "def cube(val)\n",
    "\tval ** 3\n",
    "end\n",
    "\n",
    "puts cube 6"
   ]
  },
  {
   "cell_type": "markdown",
   "metadata": {},
   "source": [
    "* Rubyの関数を実行する際は,引数がない場合,単に関数名を示すだけで実行できる\n",
    "\t```Ruby\n",
    "\tdef someFunc()\n",
    "\t\tputs \"doSomething\"\n",
    "\tend\n",
    "\n",
    "\t# 実行\n",
    "\tsomeFunc # doSomething\n",
    "\t```\n",
    "\n",
    "\n",
    "\t逆に,関数を値として渡すことはできない"
   ]
  },
  {
   "cell_type": "markdown",
   "metadata": {},
   "source": [
    "* 関数内で外部の変数を参照するには,その変数が `$var` のようなグローバル変数でなければならない"
   ]
  },
  {
   "cell_type": "markdown",
   "metadata": {},
   "source": [
    "### ラムダ (無名関数)"
   ]
  },
  {
   "cell_type": "code",
   "execution_count": 2,
   "metadata": {},
   "outputs": [
    {
     "name": "stdout",
     "output_type": "stream",
     "text": [
      "#<Proc:0x00007ff370a01980 <main>:0 (lambda)>\n",
      "36\n"
     ]
    }
   ],
   "source": [
    "func = ->(val) {\n",
    "\tval ** 2\n",
    "}\n",
    "\n",
    "puts func\n",
    "\n",
    "# 関数を利用\n",
    "puts func.call(6)"
   ]
  },
  {
   "cell_type": "markdown",
   "metadata": {},
   "source": [
    "* Rubyの無名関数は `Proc` オブジェクトであるが,これはブロックをオブジェクト化したものに過ぎない。  \n",
    "\tなので,上の式は次の式と実質的に違いがない\n",
    "\t```Ruby\n",
    "\tfunc = Proc.new do |val|\n",
    "\t\tval ** 2\n",
    "\tend\n",
    "\t```\n",
    "\t或いは,次の式とも違いがない\n",
    "\t```Ruby\n",
    "\tfunc = lambda { |val|\n",
    "\t\tval ** 2\n",
    "\t}\n",
    "\t```\n",
    "\t唯一の違いといえば,矢印を用いた式の方が引数の個数に対して厳格であることが挙げられる"
   ]
  },
  {
   "cell_type": "markdown",
   "metadata": {},
   "source": [
    "* ブロックを受け取る関数は次のように実装できる  \n",
    "\t```Ruby\n",
    "\t# 実装\n",
    "\tdef execBlock(arg1,arg2,&b)\n",
    "\t\tb.call(arg1,arg2)\n",
    "\tend\n",
    "\n",
    "\t# 利用\n",
    "\texecBlock(2,3) do |arg1,arg2|\n",
    "\t\tputs arg1\n",
    "\t\tputs arg2\n",
    "\tend\n",
    "\t```\n",
    "\t変数 `b` に対して `&b` としているので, `execBlock` に渡されたブロックは自動的に `Proc` オブジェクトになる  \n",
    "\tこうしたブロックを受け取る関数は,引数の最後でブロックを受け取る必要があり,2つ以上のブロックを引数で受け取ることはできない\n",
    "\n",
    "\tこの関数は `yield` を使って次のようにも表せる。引数にブロックを明示する必要はなくなる\n",
    "\t```Ruby\n",
    "\tdef execBlock(arg1,arg2)\n",
    "\t\tyield(arg1,arg2)\n",
    "\tend\n",
    "\t```"
   ]
  },
  {
   "cell_type": "markdown",
   "metadata": {},
   "source": [
    "* デフォルト引数•キーワード引数\n",
    "\n",
    "\t次のように引数がデフォルト値を持った関数が作れる\n",
    "\t```Ruby\n",
    "\tdef funcName(arg1=\"val1\",arg2=\"val2\",arg3=\"val3\",...)\n",
    "\t\t...\n",
    "    end\n",
    "\t```\n",
    "\t関数を実行する場合,デフォルト値を持つ引数は省略可能である\n",
    "\tしかし,この場合は特定の引数だけ与えることはできない (引数の順番は変えられない) ので,指定する引数までの他の引数も全て明示しないといけなくなる\n",
    "    \n",
    "\tここで, `Symbol` に似たキーワード引数を用いる\n",
    "\t```Ruby\n",
    "\tdef funcName(arg1:\"val1\",arg2:\"val2\",arg3:\"val3\",...)\n",
    "\t\t...\n",
    "    end\n",
    "\t```\n",
    "\n",
    "\tこれを実行する際には特定の引数のみを指定することもできる\n",
    "\t```Ruby\n",
    "\tfuncName(arg3:\"customValue3\",arg5:\"customValue5\")\n",
    "\t```"
   ]
  },
  {
   "cell_type": "markdown",
   "metadata": {},
   "source": [
    "* 可変個引数\n",
    "\n",
    "\t残りの引数を配列形式でまとめて受け取れる\n",
    "\t```Ruby\n",
    "\tdef func1(arg1,arg2,*args)\n",
    "\t\t...\n",
    "\t\t# args = [arg3,arg4...] : 配列\n",
    "    end\n",
    "\t```\n",
    "\n",
    "\tキーワード引数をまとめてハッシュ形式で受け取ることができる\n",
    "\t```Ruby\n",
    "\tdef func2(arg1,arg2,**args)\n",
    "\t\t...\n",
    "\t\t# args = {:arg3=>\"val3\",:arg4=>\"val4\"...} : ハッシュ\n",
    "    end\n",
    "\t```\n",
    "\n",
    "\t又,関数を実行する際,配列の各要素をそのまま関数の引数とすることもできる\n",
    "\t```Ruby\n",
    "\ta = [1,2,3] # 配列aを用意\n",
    "\tfunc1(*a) # = func1(1,2,3) → arg1=1 arg2=2 args=[3]\n",
    "\n",
    "\th = {\"key1\":1,\"key2\":2,\"key3\":3} # 連想配列hを用意\n",
    "\tfunc2(true,false,**h) # = func2(true,false,key1=1,key2=2,key3=3) → arg1=true arg2=false args={\"key1\":1,\"key2\":2,\"key3\":3}\n",
    "\n",
    "\tfunc1(*h) # = func1(\"key1\",\"key2\",\"key3\") → arg1=[\"key1\",1] arg2=[\"key2\",2] args=[[\"key3\",3]]\n",
    "\t```"
   ]
  },
  {
   "cell_type": "markdown",
   "metadata": {},
   "source": [
    "## 文字列をRubyコードとして実行\n",
    "\n",
    "### `eval(rubySource)` -> `value?`\n",
    "\n",
    "* `rubySource` に記載したRubyコードを実行する\n",
    "* ソース中の最終行の値が `eval` から返される\n",
    "* 外の変数を `eval` 内で参照したり, `eval` 内の変数を外から参照することもできる"
   ]
  }
 ],
 "metadata": {
  "kernelspec": {
   "display_name": "Ruby",
   "language": "ruby",
   "name": "ruby"
  },
  "language_info": {
   "file_extension": ".rb",
   "mimetype": "application/x-ruby",
   "name": "ruby",
   "version": "2.7.1"
  }
 },
 "nbformat": 4,
 "nbformat_minor": 4
}
