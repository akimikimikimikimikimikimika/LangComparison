{
 "cells": [
  {
   "cell_type": "markdown",
   "metadata": {},
   "source": [
    "# 繰り返し処理"
   ]
  },
  {
   "cell_type": "markdown",
   "metadata": {},
   "source": [
    "* `for n in 0..2 do … end`"
   ]
  },
  {
   "cell_type": "code",
   "execution_count": 1,
   "metadata": {},
   "outputs": [
    {
     "name": "stdout",
     "output_type": "stream",
     "text": [
      "n=0 のループ\n",
      "n=1 のループ\n",
      "n=2 のループ\n"
     ]
    }
   ],
   "source": [
    "for n in 0..2 do\n",
    "\tputs \"n=#{n} のループ\"\n",
    "end\n",
    "nil"
   ]
  },
  {
   "cell_type": "markdown",
   "metadata": {},
   "source": [
    "* `(0..2).each do |n|…end`"
   ]
  },
  {
   "cell_type": "code",
   "execution_count": 2,
   "metadata": {},
   "outputs": [
    {
     "name": "stdout",
     "output_type": "stream",
     "text": [
      "n=0 のループ\n",
      "n=1 のループ\n",
      "n=2 のループ\n"
     ]
    }
   ],
   "source": [
    "(0..2).each do |n|\n",
    "\tputs \"n=#{n} のループ\"\n",
    "end\n",
    "nil"
   ]
  },
  {
   "cell_type": "markdown",
   "metadata": {},
   "source": [
    "* `array.each do |c| … end`"
   ]
  },
  {
   "cell_type": "code",
   "execution_count": 3,
   "metadata": {},
   "outputs": [
    {
     "name": "stdout",
     "output_type": "stream",
     "text": [
      "c='壱' のループ\n",
      "c='弐' のループ\n",
      "c='参' のループ\n"
     ]
    }
   ],
   "source": [
    "cs=[\"壱\",\"弐\",\"参\"]\n",
    "cs.each do |c|\n",
    "\tputs \"c='#{c}' のループ\"\n",
    "end\n",
    "nil"
   ]
  },
  {
   "cell_type": "markdown",
   "metadata": {},
   "source": [
    "* `3.times do |n| … end`"
   ]
  },
  {
   "cell_type": "code",
   "execution_count": 4,
   "metadata": {},
   "outputs": [
    {
     "name": "stdout",
     "output_type": "stream",
     "text": [
      "n=0 のループ\n",
      "n=1 のループ\n",
      "n=2 のループ\n"
     ]
    }
   ],
   "source": [
    "3.times do |n|\n",
    "\tputs \"n=#{n} のループ\"\n",
    "end\n",
    "nil"
   ]
  },
  {
   "cell_type": "markdown",
   "metadata": {},
   "source": [
    "* `4.upto(6) do |n| … end`"
   ]
  },
  {
   "cell_type": "code",
   "execution_count": 5,
   "metadata": {},
   "outputs": [
    {
     "name": "stdout",
     "output_type": "stream",
     "text": [
      "n=4 のループ\n",
      "n=5 のループ\n",
      "n=6 のループ\n"
     ]
    }
   ],
   "source": [
    "4.upto(6) do |n|\n",
    "\tputs \"n=#{n} のループ\"\n",
    "end\n",
    "nil"
   ]
  },
  {
   "cell_type": "markdown",
   "metadata": {},
   "source": [
    "* `6.downto(4) do |n| … end`"
   ]
  },
  {
   "cell_type": "code",
   "execution_count": 6,
   "metadata": {},
   "outputs": [
    {
     "name": "stdout",
     "output_type": "stream",
     "text": [
      "n=6 のループ\n",
      "n=5 のループ\n",
      "n=4 のループ\n"
     ]
    }
   ],
   "source": [
    "6.downto(4) do |n|\n",
    "\tputs \"n=#{n} のループ\"\n",
    "end\n",
    "nil"
   ]
  },
  {
   "cell_type": "markdown",
   "metadata": {},
   "source": [
    "* `3.5.step(5, 0.7) do |n| … end`"
   ]
  },
  {
   "cell_type": "code",
   "execution_count": 7,
   "metadata": {},
   "outputs": [
    {
     "name": "stdout",
     "output_type": "stream",
     "text": [
      "n=3.5 のループ\n",
      "n=4.2 のループ\n",
      "n=4.9 のループ\n"
     ]
    }
   ],
   "source": [
    "3.5.step(5,0.7) do |n|\n",
    "\tputs \"n=#{n} のループ\"\n",
    "end\n",
    "nil"
   ]
  },
  {
   "cell_type": "markdown",
   "metadata": {},
   "source": [
    "* `while ~ do … end`"
   ]
  },
  {
   "cell_type": "code",
   "execution_count": 8,
   "metadata": {},
   "outputs": [
    {
     "name": "stdout",
     "output_type": "stream",
     "text": [
      "*\n",
      "**\n",
      "***\n",
      "****\n",
      "*****\n",
      "******\n"
     ]
    }
   ],
   "source": [
    "str=\"\"\n",
    "while str.length<6 do\n",
    "\tstr+=\"*\"\n",
    "\tputs \"#{str}\"\n",
    "end"
   ]
  },
  {
   "cell_type": "markdown",
   "metadata": {},
   "source": [
    "* `until ~ do … end`"
   ]
  },
  {
   "cell_type": "code",
   "execution_count": 9,
   "metadata": {},
   "outputs": [
    {
     "name": "stdout",
     "output_type": "stream",
     "text": [
      "*\n",
      "**\n",
      "***\n",
      "****\n",
      "*****\n",
      "******\n"
     ]
    }
   ],
   "source": [
    "str=\"\"\n",
    "until str.length==6 do\n",
    "\tstr+=\"*\"\n",
    "\tputs str\n",
    "end"
   ]
  },
  {
   "cell_type": "markdown",
   "metadata": {},
   "source": [
    "* `loop do … end`"
   ]
  },
  {
   "cell_type": "code",
   "execution_count": 10,
   "metadata": {},
   "outputs": [
    {
     "name": "stdout",
     "output_type": "stream",
     "text": [
      "+\n",
      "++\n",
      "+++\n",
      "++++\n",
      "+++++\n",
      "++++++\n"
     ]
    }
   ],
   "source": [
    "str=\"\"\n",
    "loop do\n",
    "\tstr+=\"+\"\n",
    "\tputs str\n",
    "\tbreak if str.length==6\n",
    "end"
   ]
  },
  {
   "cell_type": "markdown",
   "metadata": {},
   "source": [
    "* `… while ~`"
   ]
  },
  {
   "cell_type": "code",
   "execution_count": 11,
   "metadata": {},
   "outputs": [
    {
     "name": "stdout",
     "output_type": "stream",
     "text": [
      "------\n"
     ]
    }
   ],
   "source": [
    "str=\"\"\n",
    "str+=\"-\" while str.length<6\n",
    "puts str"
   ]
  },
  {
   "cell_type": "markdown",
   "metadata": {},
   "source": [
    "* `… until ~`"
   ]
  },
  {
   "cell_type": "code",
   "execution_count": 12,
   "metadata": {},
   "outputs": [
    {
     "name": "stdout",
     "output_type": "stream",
     "text": [
      "------\n"
     ]
    }
   ],
   "source": [
    "str=\"\"\n",
    "str+=\"-\" until str.length==6\n",
    "puts str"
   ]
  },
  {
   "cell_type": "markdown",
   "metadata": {},
   "source": [
    "⚠︎ C言語と違って, `continue` の代わりに `next` を使用する"
   ]
  }
 ],
 "metadata": {
  "kernelspec": {
   "display_name": "Ruby",
   "language": "ruby",
   "name": "ruby"
  },
  "language_info": {
   "file_extension": ".rb",
   "mimetype": "application/x-ruby",
   "name": "ruby",
   "version": "2.7.1"
  }
 },
 "nbformat": 4,
 "nbformat_minor": 4
}
