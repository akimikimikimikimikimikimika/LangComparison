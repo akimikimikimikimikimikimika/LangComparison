{
 "cells": [
  {
   "cell_type": "markdown",
   "metadata": {},
   "source": [
    "# 日付と時刻"
   ]
  },
  {
   "cell_type": "code",
   "execution_count": 1,
   "metadata": {},
   "outputs": [
    {
     "data": {
      "text/plain": [
       "2020-04-29 17:29:08.173584 +0900"
      ]
     },
     "execution_count": 1,
     "metadata": {},
     "output_type": "execute_result"
    }
   ],
   "source": [
    "st=Time.now"
   ]
  },
  {
   "cell_type": "markdown",
   "metadata": {},
   "source": [
    "* `Time.now` は高精度な時刻を秒単位で表す"
   ]
  },
  {
   "cell_type": "markdown",
   "metadata": {},
   "source": [
    "## 時刻オブジェクト"
   ]
  },
  {
   "cell_type": "markdown",
   "metadata": {},
   "source": [
    "* 現在ローカル時刻"
   ]
  },
  {
   "cell_type": "code",
   "execution_count": 2,
   "metadata": {},
   "outputs": [
    {
     "data": {
      "text/plain": [
       "2020-04-29 17:29:08.174651 +0900"
      ]
     },
     "execution_count": 2,
     "metadata": {},
     "output_type": "execute_result"
    }
   ],
   "source": [
    "Time.now.getlocal"
   ]
  },
  {
   "cell_type": "markdown",
   "metadata": {},
   "source": [
    "* 現在UTC時刻"
   ]
  },
  {
   "cell_type": "code",
   "execution_count": 3,
   "metadata": {},
   "outputs": [
    {
     "data": {
      "text/plain": [
       "2020-04-29 08:29:08.175806 UTC"
      ]
     },
     "execution_count": 3,
     "metadata": {},
     "output_type": "execute_result"
    }
   ],
   "source": [
    "Time.now.getutc"
   ]
  },
  {
   "cell_type": "markdown",
   "metadata": {},
   "source": [
    "* カスタム時刻"
   ]
  },
  {
   "cell_type": "code",
   "execution_count": 4,
   "metadata": {},
   "outputs": [
    {
     "data": {
      "text/plain": [
       "1996-12-25 09:41:12.345678 +0900"
      ]
     },
     "execution_count": 4,
     "metadata": {},
     "output_type": "execute_result"
    }
   ],
   "source": [
    "Time.local(1996,12,25,9,41,12,345678)"
   ]
  },
  {
   "cell_type": "markdown",
   "metadata": {},
   "source": [
    "## 成分分解"
   ]
  },
  {
   "cell_type": "code",
   "execution_count": 5,
   "metadata": {},
   "outputs": [
    {
     "data": {
      "text/plain": [
       "2020-04-29 17:29:08.177811 +0900"
      ]
     },
     "execution_count": 5,
     "metadata": {},
     "output_type": "execute_result"
    }
   ],
   "source": [
    "now=Time.now"
   ]
  },
  {
   "cell_type": "code",
   "execution_count": 6,
   "metadata": {},
   "outputs": [
    {
     "data": {
      "text/plain": [
       "\"Wed Apr 29 17:29:08 2020\""
      ]
     },
     "execution_count": 6,
     "metadata": {},
     "output_type": "execute_result"
    }
   ],
   "source": [
    "now.asctime"
   ]
  },
  {
   "cell_type": "code",
   "execution_count": 7,
   "metadata": {},
   "outputs": [
    {
     "data": {
      "text/plain": [
       "\"2020-04-29 17:29:08 +0900\""
      ]
     },
     "execution_count": 7,
     "metadata": {},
     "output_type": "execute_result"
    }
   ],
   "source": [
    "now.to_s"
   ]
  },
  {
   "cell_type": "code",
   "execution_count": 8,
   "metadata": {},
   "outputs": [
    {
     "data": {
      "text/plain": [
       "2020"
      ]
     },
     "execution_count": 8,
     "metadata": {},
     "output_type": "execute_result"
    }
   ],
   "source": [
    "now.year"
   ]
  },
  {
   "cell_type": "code",
   "execution_count": 9,
   "metadata": {},
   "outputs": [
    {
     "data": {
      "text/plain": [
       "4"
      ]
     },
     "execution_count": 9,
     "metadata": {},
     "output_type": "execute_result"
    }
   ],
   "source": [
    "now.month\n",
    "now.mon # 同じ"
   ]
  },
  {
   "cell_type": "code",
   "execution_count": 10,
   "metadata": {},
   "outputs": [
    {
     "data": {
      "text/plain": [
       "29"
      ]
     },
     "execution_count": 10,
     "metadata": {},
     "output_type": "execute_result"
    }
   ],
   "source": [
    "now.day"
   ]
  },
  {
   "cell_type": "code",
   "execution_count": 11,
   "metadata": {},
   "outputs": [
    {
     "data": {
      "text/plain": [
       "3"
      ]
     },
     "execution_count": 11,
     "metadata": {},
     "output_type": "execute_result"
    }
   ],
   "source": [
    "now.wday"
   ]
  },
  {
   "cell_type": "code",
   "execution_count": 12,
   "metadata": {},
   "outputs": [
    {
     "data": {
      "text/plain": [
       "120"
      ]
     },
     "execution_count": 12,
     "metadata": {},
     "output_type": "execute_result"
    }
   ],
   "source": [
    "now.yday"
   ]
  },
  {
   "cell_type": "code",
   "execution_count": 13,
   "metadata": {},
   "outputs": [
    {
     "data": {
      "text/plain": [
       "17"
      ]
     },
     "execution_count": 13,
     "metadata": {},
     "output_type": "execute_result"
    }
   ],
   "source": [
    "now.hour"
   ]
  },
  {
   "cell_type": "code",
   "execution_count": 14,
   "metadata": {},
   "outputs": [
    {
     "data": {
      "text/plain": [
       "29"
      ]
     },
     "execution_count": 14,
     "metadata": {},
     "output_type": "execute_result"
    }
   ],
   "source": [
    "now.min"
   ]
  },
  {
   "cell_type": "code",
   "execution_count": 15,
   "metadata": {},
   "outputs": [
    {
     "data": {
      "text/plain": [
       "8"
      ]
     },
     "execution_count": 15,
     "metadata": {},
     "output_type": "execute_result"
    }
   ],
   "source": [
    "now.sec"
   ]
  },
  {
   "cell_type": "code",
   "execution_count": 16,
   "metadata": {},
   "outputs": [
    {
     "data": {
      "text/plain": [
       "177811"
      ]
     },
     "execution_count": 16,
     "metadata": {},
     "output_type": "execute_result"
    }
   ],
   "source": [
    "now.usec"
   ]
  },
  {
   "cell_type": "code",
   "execution_count": 17,
   "metadata": {},
   "outputs": [
    {
     "data": {
      "text/plain": [
       "177811000"
      ]
     },
     "execution_count": 17,
     "metadata": {},
     "output_type": "execute_result"
    }
   ],
   "source": [
    "now.nsec"
   ]
  },
  {
   "cell_type": "code",
   "execution_count": 18,
   "metadata": {},
   "outputs": [
    {
     "data": {
      "text/plain": [
       "\"JST\""
      ]
     },
     "execution_count": 18,
     "metadata": {},
     "output_type": "execute_result"
    }
   ],
   "source": [
    "now.zone"
   ]
  },
  {
   "cell_type": "markdown",
   "metadata": {},
   "source": [
    "## フォーマット"
   ]
  },
  {
   "cell_type": "code",
   "execution_count": 19,
   "metadata": {},
   "outputs": [
    {
     "name": "stdout",
     "output_type": "stream",
     "text": [
      "\n",
      "\n",
      "datetime    %c : Wed Apr 29 17:29:08 2020\n",
      "date        %D : 04/29/20 = %x\n",
      "            %F : 2020-04-29\n",
      "            %v : 29-APR-2020\n",
      "time        %T : 17:29:08 = %X\n",
      "            %R : 17:29\n",
      "            %r : 05:29:08 PM\n",
      "century     %C : 20\n",
      "year        %Y : 2020\n",
      "            %y : 20\n",
      "ISO year    %G : 2020\n",
      "            %g : 20\n",
      "month       %b : Apr = %h\n",
      "            %B : April\n",
      "            %m : 04\n",
      "day         %d : 29\n",
      "            %e : 29\n",
      "day/year    %j : 120\n",
      "weekday     %a : Wed\n",
      "            %A : Wednesday\n",
      "            %w : 3\n",
      "            %u : 3\n",
      "ISO week    %V : 18\n",
      "week/year   %U : 17\n",
      "            %W : 17\n",
      "hour        %H : 17\n",
      "            %k : 17\n",
      "            %I : 05\n",
      "            %l :  5\n",
      "AM/PM       %p : PM\n",
      "            %P : pm\n",
      "minute      %M : 29\n",
      "second      %S : 08\n",
      "UNIX epoch  %s : 1588148948\n",
      "milli+micro %N : 177811000\n",
      "millisecond %L : 177\n",
      "timezone    %Z : JST\n",
      "            %z : +0900\n",
      "           %:z : +09:00\n",
      "          %::z : +09:00:00\n",
      "\n",
      "\n"
     ]
    }
   ],
   "source": [
    "puts now.strftime(\"\"\"\n",
    "\n",
    "datetime    %%c : %c\n",
    "date        %%D : %D = %%x\n",
    "            %%F : %F\n",
    "            %%v : %v\n",
    "time        %%T : %T = %%X\n",
    "            %%R : %R\n",
    "            %%r : %r\n",
    "century     %%C : %C\n",
    "year        %%Y : %Y\n",
    "            %%y : %y\n",
    "ISO year    %%G : %G\n",
    "            %%g : %g\n",
    "month       %%b : %b = %%h\n",
    "            %%B : %B\n",
    "            %%m : %m\n",
    "day         %%d : %d\n",
    "            %%e : %e\n",
    "day/year    %%j : %j\n",
    "weekday     %%a : %a\n",
    "            %%A : %A\n",
    "            %%w : %w\n",
    "            %%u : %u\n",
    "ISO week    %%V : %V\n",
    "week/year   %%U : %U\n",
    "            %%W : %W\n",
    "hour        %%H : %H\n",
    "            %%k : %k\n",
    "            %%I : %I\n",
    "            %%l : %l\n",
    "AM/PM       %%p : %p\n",
    "            %%P : %P\n",
    "minute      %%M : %M\n",
    "second      %%S : %S\n",
    "UNIX epoch  %%s : %s\n",
    "milli+micro %%N : %N\n",
    "millisecond %%L : %L\n",
    "timezone    %%Z : %Z\n",
    "            %%z : %z\n",
    "           %%:z : %:z\n",
    "          %%::z : %::z\n",
    "\n",
    "\"\"\")"
   ]
  },
  {
   "cell_type": "markdown",
   "metadata": {},
   "source": [
    "`strftime` は本来\n",
    "```Ruby\n",
    "strftime(\"%H:%M\") → \"9:41\"\n",
    "```\n",
    "のように使う。ここでは対応しているトークンの一覧を表示している"
   ]
  },
  {
   "cell_type": "markdown",
   "metadata": {},
   "source": [
    "## 所要時間"
   ]
  },
  {
   "cell_type": "code",
   "execution_count": 20,
   "metadata": {},
   "outputs": [
    {
     "data": {
      "text/plain": [
       "2020-04-29 17:29:08.195089 +0900"
      ]
     },
     "execution_count": 20,
     "metadata": {},
     "output_type": "execute_result"
    }
   ],
   "source": [
    "en=Time.now"
   ]
  },
  {
   "cell_type": "code",
   "execution_count": 21,
   "metadata": {},
   "outputs": [
    {
     "name": "stdout",
     "output_type": "stream",
     "text": [
      "この処理に要した時間: 21505.0 マイクロ秒\n"
     ]
    }
   ],
   "source": [
    "puts \"この処理に要した時間: #{(en-st)*1000000} マイクロ秒\""
   ]
  }
 ],
 "metadata": {
  "kernelspec": {
   "display_name": "Ruby",
   "language": "ruby",
   "name": "ruby"
  },
  "language_info": {
   "file_extension": ".rb",
   "mimetype": "application/x-ruby",
   "name": "ruby",
   "version": "2.7.1"
  }
 },
 "nbformat": 4,
 "nbformat_minor": 4
}
