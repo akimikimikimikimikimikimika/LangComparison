{
 "cells": [
  {
   "cell_type": "markdown",
   "metadata": {},
   "source": [
    "# クラス"
   ]
  },
  {
   "cell_type": "markdown",
   "metadata": {},
   "source": [
    "## クラス定義1 (Vector)"
   ]
  },
  {
   "cell_type": "code",
   "execution_count": 1,
   "metadata": {},
   "outputs": [
    {
     "data": {
      "text/plain": [
       ":describe"
      ]
     },
     "execution_count": 1,
     "metadata": {},
     "output_type": "execute_result"
    }
   ],
   "source": [
    "class Vector\n",
    "\n",
    "\t# クラス変数\n",
    "\tVERSION = \"1.0\"\n",
    "\t\t# クラス内で共有される値\n",
    "\t\t# 書き換え不可 (大文字の変数名)\n",
    "\t\t# メソッド内から VERSION でアクセス可能\n",
    "\t\t# 継承クラスからはアクセス可能\n",
    "\t\t# 外部から\n",
    "\t\t#\tVector::VERSION\n",
    "\t\t#\tv.version\n",
    "\t\t#\tでアクセス可能\n",
    "\n",
    "\t# クラス変数\n",
    "\t@@description = \"Ruby simple vector class\"\n",
    "\t\t# クラス内で共有される値\n",
    "\t\t# 書き換え可能\n",
    "\t\t# メソッド内から @@description でアクセス可能\n",
    "\t\t# 継承クラスからはアクセス不可\n",
    "\t\t# 外部からはアクセス不可\n",
    "\n",
    "\t# クラスインスタンス変数\n",
    "\t@x=0\n",
    "\t@y=0\n",
    "\t@z=0\n",
    "\t\t# クラス自体を1つのインスタンスと見做した時のインスタンス変数\n",
    "\t\t# 書き換え可能\n",
    "\t\t# クラスメソッド内のみで @x でアクセス可能\n",
    "\t\t# 継承クラスからはアクセス不可\n",
    "\t\t# 外部からはアクセス不可\n",
    "\n",
    "\t# イニシャライザ/コンストラクタ\n",
    "\tdef initialize(x,y,z)\n",
    "\t\t@x=x\n",
    "\t\t@y=y\n",
    "\t\t@z=z\n",
    "\t\t# インスタンス変数\n",
    "\t\t#\t各インスタンス毎に異なる値\n",
    "\t\t#\tインスタンスメソッド内のみから @x でアクセス可能\n",
    "\t\t#\tアクセサを用意すれば v.x でアクセス可能\n",
    "\n",
    "\t\t# 戻り値を用意せずとも,インスタンスが返される\n",
    "\tend\n",
    "\n",
    "\tdef x # ゲッター\n",
    "\t\t@x\n",
    "\tend\n",
    "\tdef x=(x) # セッター\n",
    "\t\t@x=x\n",
    "\tend\n",
    "\t# ゲッター/セッターの定義\n",
    "\t\t# Rubyのオブジェクト内の変数は外部から直接アクセスできないので,ゲッター/セッターが必要\n",
    "\t\t# 逆に,外部からの不正な値の代入を防ぐことができ,セッターでは適切な値かどうか精査できる\n",
    "\n",
    "\tattr_accessor :y,:z\n",
    "\t# アクセサ : attr を使うことで,ゲッター/セッターを簡単に用意できる\n",
    "\t\t# attr_reader  読み取り専用\n",
    "\t\t# attr_writer  書き込み専用\n",
    "\t\t# attr_accessor 読み書き\n",
    "\n",
    "\t# インスタンスの説明\n",
    "\tdef desc\n",
    "\t\t\"(#{@x},#{@y},#{@z})\"\n",
    "\tend\n",
    "\n",
    "\t# 足し算を定義\n",
    "\n",
    "\t# インスタンスメソッド版 (自分自身に足し合わせていく)\n",
    "\tdef add(*args)\n",
    "\t\targs.each do |v|\n",
    "\t\t\t@x += v.x\n",
    "\t\t\t@y += v.y\n",
    "\t\t\t@z += v.z\n",
    "\t\tend\n",
    "\t\tself\n",
    "\tend\n",
    "\n",
    "\t# クラスメソッド版 (引数のVectorを足し合わせた結果を返す)\n",
    "\t\t# クラスメソッドでは self. を前置する\n",
    "\tdef self.added(*args)\n",
    "\t\ta=Vector.new(0,0,0);\n",
    "\t\targs.each do |v|\n",
    "\t\t\ta.x += v.x\n",
    "\t\t\ta.y += v.y\n",
    "\t\t\ta.z += v.z\n",
    "\t\tend\n",
    "\t\ta;\n",
    "\tend\n",
    "\n",
    "\t# クラスメソッド\n",
    "\t\t# def self.method の形で指定\n",
    "\t\t# Vector.method で呼び出し\n",
    "\n",
    "\t# インスタンスメソッド\n",
    "\t\t# def method の形で指定\n",
    "\t\t# v.method で呼び出し\n",
    "\n",
    "\t# スカラ倍を定義 (共にインスタンスメソッド)\n",
    "\n",
    "\t# 自分自身を実数倍\n",
    "\tdef coefMultiply(k)\n",
    "\t\t@x *= k\n",
    "\t\t@y *= k\n",
    "\t\t@z *= k\n",
    "\t\tself\n",
    "\tend\n",
    "\n",
    "\t# 自分自身の実数倍のVectorを生成\n",
    "\tdef coefMultiplied(k)\n",
    "\t\tVector.new(@x*k,@y*k,@z*k)\n",
    "\tend\n",
    "\n",
    "\t# メソッド内で @@description を呼ぶ\n",
    "\tdef self.describe\n",
    "\t\t@@description\n",
    "\tend\n",
    "\n",
    "end"
   ]
  },
  {
   "cell_type": "markdown",
   "metadata": {},
   "source": [
    "メソッド内で,インスタンス自身/クラス自身は, `self` から呼び出す"
   ]
  },
  {
   "cell_type": "markdown",
   "metadata": {},
   "source": [
    "## クラス定義2 (ExtendedVector inherits from Vector)"
   ]
  },
  {
   "cell_type": "code",
   "execution_count": 2,
   "metadata": {},
   "outputs": [
    {
     "data": {
      "text/plain": [
       "ExtendedVector"
      ]
     },
     "execution_count": 2,
     "metadata": {},
     "output_type": "execute_result"
    }
   ],
   "source": [
    "class ExtendedVector < Vector # 継承宣言\n",
    "\n",
    "\t@x=0\n",
    "\t@y=0\n",
    "\t@z=0 # クラスインスタンス変数\n",
    "\n",
    "\tdef initialize(x,y,z)\n",
    "\t\t@x=x;@y=y;@z=z;\n",
    "\tend\n",
    "\n",
    "\t# 内積を定義\n",
    "\tdef dot(v)\n",
    "\t\tp=0\n",
    "\t\tp += @x*v.x\n",
    "\t\tp += @y*v.y\n",
    "\t\tp += @z*v.z\n",
    "\t\tp\n",
    "\tend\n",
    "\n",
    "\t# 外積を定義\n",
    "\tdef cross(v)\n",
    "\t\tVector.new(\n",
    "\t\t\t@y*v.z-@z*v.y,\n",
    "\t\t\t@z*v.x-@x*v.z,\n",
    "\t\t\t@x*v.y-@y*v.x\n",
    "\t\t)\n",
    "\tend\n",
    "\n",
    "\t# ノルムを定義\n",
    "\tdef norm\n",
    "\t\tMath.sqrt(self.dot(self))\n",
    "\tend\n",
    "\n",
    "\t# 説明できるはず\n",
    "\tdef self.describeFromSub\n",
    "\t\t@@description\n",
    "\tend\n",
    "\n",
    "\t# プライベートメソッド (外部からアクセスできない)\n",
    "\t# 単位ベクトルに変換\n",
    "\tdef normalize\n",
    "\t\tself.coefMultiply(1/self.norm)\n",
    "\tend\n",
    "\tprivate :normalize\n",
    "\n",
    "end"
   ]
  },
  {
   "cell_type": "markdown",
   "metadata": {},
   "source": [
    "## クラスの利用"
   ]
  },
  {
   "cell_type": "code",
   "execution_count": 3,
   "metadata": {},
   "outputs": [
    {
     "data": {
      "text/plain": [
       "16"
      ]
     },
     "execution_count": 3,
     "metadata": {},
     "output_type": "execute_result"
    }
   ],
   "source": [
    "vec1 = Vector.new(3,2,1)\n",
    "vec2 = ExtendedVector.new(6,4,2)\n",
    "vec3 = ExtendedVector.new(54,63,72)\n",
    "vec4 = Vector.new(0,0,0)\n",
    "\n",
    "# 値の設定\n",
    "vec3.x = 16"
   ]
  },
  {
   "cell_type": "code",
   "execution_count": 4,
   "metadata": {},
   "outputs": [
    {
     "name": "stdout",
     "output_type": "stream",
     "text": [
      "\n",
      "\n",
      "vec1: #<Vector:0x00007ff4a485b218>\n",
      "vec2: #<ExtendedVector:0x00007ff4a485b1f0>\n",
      "\n",
      "vec1の説明: (3,2,1)\n",
      "vec2の説明: (6,4,2)\n",
      "vec3の説明: (16,63,72)\n",
      "vec4の説明: (0,0,0)\n",
      "\n",
      "vec1のx座標: 3\n",
      "vec2のy座標: 4\n",
      "vec3のz座標: 72\n",
      "\n",
      "vec1+vec2+vec3: (25,69,75)\n",
      "vec4+vec2: (6,4,2)\n",
      "vec2×12: (72,48,24)\n",
      "\n",
      "vec2∙vec3: 492\n",
      "vec3×vec2: (-162,400,-314)\n",
      "|vec3|:    97.0\n",
      "\n",
      "説明してもらう:\n",
      "Ruby simple vector class\n",
      "Ruby simple vector class\n",
      "\n",
      "バージョン表示:\n",
      "1.0\n",
      "1.0\n",
      "\n",
      "\n"
     ]
    }
   ],
   "source": [
    "puts \"\"\"\n",
    "\n",
    "vec1: #{   vec1   }\n",
    "vec2: #{   vec2   }\n",
    "\n",
    "vec1の説明: #{   vec1.desc   }\n",
    "vec2の説明: #{   vec2.desc   }\n",
    "vec3の説明: #{   vec3.desc   }\n",
    "vec4の説明: #{   vec4.desc   }\n",
    "\n",
    "vec1のx座標: #{   vec1.x   }\n",
    "vec2のy座標: #{   vec2.y   }\n",
    "vec3のz座標: #{   vec3.z   }\n",
    "\n",
    "vec1+vec2+vec3: #{   Vector.added(vec1,vec2,vec3).desc   }\n",
    "vec4+vec2: #{   vec4.add(vec2).desc   }\n",
    "vec2×12: #{   vec2.coefMultiplied(12).desc   }\n",
    "\n",
    "vec2∙vec3: #{   vec2.dot(vec3)   }\n",
    "vec3×vec2: #{   vec3.cross(vec2).desc   }\n",
    "|vec3|:    #{   vec3.norm   }\n",
    "\n",
    "説明してもらう:\n",
    "#{   Vector.describe   }\n",
    "#{   ExtendedVector.describeFromSub   }\n",
    "\n",
    "バージョン表示:\n",
    "#{   Vector::VERSION   }\n",
    "#{   ExtendedVector::VERSION   }\n",
    "\n",
    "\"\"\"\n",
    "\n",
    "# アクセスできません (クラスメソッドにインスタンスからはアクセスできない)\n",
    "# vec1.describe\n",
    "# vec2.describeFromSub\n",
    "\n",
    "# アクセスできません (クラス変数にインスタンスからはアクセスできない)\n",
    "# vec1.VERSION\n",
    "# vec2.VERSION\n",
    "\n",
    "# Rubyのメソッドは obj.method() のようなかっこを付す必要はない。 obj.method で実行できる"
   ]
  }
 ],
 "metadata": {
  "kernelspec": {
   "display_name": "Ruby",
   "language": "ruby",
   "name": "ruby"
  },
  "language_info": {
   "file_extension": ".rb",
   "mimetype": "application/x-ruby",
   "name": "ruby",
   "version": "2.7.1"
  }
 },
 "nbformat": 4,
 "nbformat_minor": 4
}