{
 "cells": [
  {
   "cell_type": "markdown",
   "metadata": {},
   "source": [
    "# 色々な値"
   ]
  },
  {
   "cell_type": "markdown",
   "metadata": {},
   "source": [
    "## 文字列"
   ]
  },
  {
   "cell_type": "code",
   "execution_count": 2,
   "metadata": {},
   "outputs": [
    {
     "name": "stdout",
     "output_type": "stream",
     "text": [
      "大きさ: 9\n"
     ]
    },
    {
     "data": {
      "text/plain": [
       "\"ラスト\""
      ]
     },
     "execution_count": 2,
     "metadata": {},
     "output_type": "execute_result"
    }
   ],
   "source": [
    "let st:&str = \"ラスト\"; // &str ≈ &[u8]\n",
    "println!(\"大きさ: {}\",st.len());\n",
    "st"
   ]
  },
  {
   "cell_type": "code",
   "execution_count": 3,
   "metadata": {},
   "outputs": [
    {
     "name": "stdout",
     "output_type": "stream",
     "text": [
      "大きさ: 9\n"
     ]
    },
    {
     "data": {
      "text/plain": [
       "\"ラスト\""
      ]
     },
     "execution_count": 3,
     "metadata": {},
     "output_type": "execute_result"
    }
   ],
   "source": [
    "let st:String = String::from(\"ラスト\"); // String ≈ Vec[u8]\n",
    "println!(\"大きさ: {}\",st.len());\n",
    "st"
   ]
  },
  {
   "cell_type": "markdown",
   "metadata": {},
   "source": [
    "### 複数行"
   ]
  },
  {
   "cell_type": "code",
   "execution_count": 4,
   "metadata": {},
   "outputs": [
    {
     "data": {
      "text/plain": [
       "\"\\nFirst line\\nSecond line\\nThird line\\n\""
      ]
     },
     "execution_count": 4,
     "metadata": {},
     "output_type": "execute_result"
    }
   ],
   "source": [
    "let raw_str:&str = r\"\n",
    "First line\n",
    "Second line\n",
    "Third line\n",
    "\";\n",
    "raw_str"
   ]
  },
  {
   "cell_type": "markdown",
   "metadata": {},
   "source": [
    "`r\"...\"` とすることで,Raw文字列となり,文字列内で改行ができる  \n",
    "更に `##` で囲むと, `\"\"` をエスケープせずとも使えるようになる"
   ]
  },
  {
   "cell_type": "code",
   "execution_count": 5,
   "metadata": {},
   "outputs": [
    {
     "data": {
      "text/plain": [
       "\"Rust is the most \\\"loved\\\" language\""
      ]
     },
     "execution_count": 5,
     "metadata": {},
     "output_type": "execute_result"
    }
   ],
   "source": [
    "let import_quote:&str = r#\"Rust is the most \"loved\" language\"#;\n",
    "import_quote"
   ]
  },
  {
   "cell_type": "markdown",
   "metadata": {},
   "source": [
    "### バイト (`u8`)"
   ]
  },
  {
   "cell_type": "code",
   "execution_count": 6,
   "metadata": {},
   "outputs": [
    {
     "data": {
      "text/plain": [
       "82"
      ]
     },
     "execution_count": 6,
     "metadata": {},
     "output_type": "execute_result"
    }
   ],
   "source": [
    "let byte:u8 = b'R';\n",
    "byte"
   ]
  },
  {
   "cell_type": "code",
   "execution_count": 7,
   "metadata": {},
   "outputs": [
    {
     "data": {
      "text/plain": [
       "[82, 117, 115, 116]"
      ]
     },
     "execution_count": 7,
     "metadata": {},
     "output_type": "execute_result"
    }
   ],
   "source": [
    "let bytes:&[u8] = b\"Rust\";\n",
    "bytes"
   ]
  },
  {
   "cell_type": "code",
   "execution_count": 8,
   "metadata": {},
   "outputs": [
    {
     "data": {
      "text/plain": [
       "[10, 70, 105, 114, 115, 116, 32, 108, 105, 110, 101, 10, 83, 101, 99, 111, 110, 100, 32, 108, 105, 110, 101, 10, 84, 104, 105, 114, 100, 32, 108, 105, 110, 101, 10]"
      ]
     },
     "execution_count": 8,
     "metadata": {},
     "output_type": "execute_result"
    }
   ],
   "source": [
    "let raw_bytes:&[u8] = br\"\n",
    "First line\n",
    "Second line\n",
    "Third line\n",
    "\";\n",
    "raw_bytes"
   ]
  },
  {
   "cell_type": "markdown",
   "metadata": {},
   "source": [
    "### 文字"
   ]
  },
  {
   "cell_type": "code",
   "execution_count": 9,
   "metadata": {},
   "outputs": [
    {
     "data": {
      "text/plain": [
       "'ﬁ'"
      ]
     },
     "execution_count": 9,
     "metadata": {},
     "output_type": "execute_result"
    }
   ],
   "source": [
    "let character:char = 'ﬁ';\n",
    "character"
   ]
  },
  {
   "cell_type": "markdown",
   "metadata": {},
   "source": [
    "## 整数"
   ]
  },
  {
   "cell_type": "code",
   "execution_count": 10,
   "metadata": {},
   "outputs": [
    {
     "data": {
      "text/plain": [
       "6"
      ]
     },
     "execution_count": 10,
     "metadata": {},
     "output_type": "execute_result"
    }
   ],
   "source": [
    "let int8:i8 = 6;\n",
    "int8"
   ]
  },
  {
   "cell_type": "code",
   "execution_count": 11,
   "metadata": {},
   "outputs": [
    {
     "data": {
      "text/plain": [
       "6"
      ]
     },
     "execution_count": 11,
     "metadata": {},
     "output_type": "execute_result"
    }
   ],
   "source": [
    "let int16:i16 = 6;\n",
    "int16"
   ]
  },
  {
   "cell_type": "code",
   "execution_count": 12,
   "metadata": {},
   "outputs": [
    {
     "data": {
      "text/plain": [
       "6"
      ]
     },
     "execution_count": 12,
     "metadata": {},
     "output_type": "execute_result"
    }
   ],
   "source": [
    "let int32:i32 = 6;\n",
    "int32"
   ]
  },
  {
   "cell_type": "code",
   "execution_count": 13,
   "metadata": {},
   "outputs": [
    {
     "data": {
      "text/plain": [
       "6"
      ]
     },
     "execution_count": 13,
     "metadata": {},
     "output_type": "execute_result"
    }
   ],
   "source": [
    "let int64:i64 = 6;\n",
    "int64"
   ]
  },
  {
   "cell_type": "code",
   "execution_count": 14,
   "metadata": {},
   "outputs": [
    {
     "data": {
      "text/plain": [
       "6"
      ]
     },
     "execution_count": 14,
     "metadata": {},
     "output_type": "execute_result"
    }
   ],
   "source": [
    "let ints:isize = 6; // 実行環境と同じサイズの数値\n",
    "ints"
   ]
  },
  {
   "cell_type": "markdown",
   "metadata": {},
   "source": [
    "`12_345` のように `_` で区切ることができる"
   ]
  },
  {
   "cell_type": "markdown",
   "metadata": {},
   "source": [
    "## 符号なし整数"
   ]
  },
  {
   "cell_type": "code",
   "execution_count": 15,
   "metadata": {},
   "outputs": [
    {
     "data": {
      "text/plain": [
       "6"
      ]
     },
     "execution_count": 15,
     "metadata": {},
     "output_type": "execute_result"
    }
   ],
   "source": [
    "let uint8:u8 = 6;\n",
    "uint8"
   ]
  },
  {
   "cell_type": "code",
   "execution_count": 16,
   "metadata": {},
   "outputs": [
    {
     "data": {
      "text/plain": [
       "6"
      ]
     },
     "execution_count": 16,
     "metadata": {},
     "output_type": "execute_result"
    }
   ],
   "source": [
    "let uint16:u16 = 6;\n",
    "uint16"
   ]
  },
  {
   "cell_type": "code",
   "execution_count": 17,
   "metadata": {},
   "outputs": [
    {
     "data": {
      "text/plain": [
       "6"
      ]
     },
     "execution_count": 17,
     "metadata": {},
     "output_type": "execute_result"
    }
   ],
   "source": [
    "let uint32:u32 = 6;\n",
    "uint32"
   ]
  },
  {
   "cell_type": "code",
   "execution_count": 18,
   "metadata": {},
   "outputs": [
    {
     "data": {
      "text/plain": [
       "6"
      ]
     },
     "execution_count": 18,
     "metadata": {},
     "output_type": "execute_result"
    }
   ],
   "source": [
    "let uint64:u64 = 6;\n",
    "uint64"
   ]
  },
  {
   "cell_type": "code",
   "execution_count": 19,
   "metadata": {},
   "outputs": [
    {
     "data": {
      "text/plain": [
       "6"
      ]
     },
     "execution_count": 19,
     "metadata": {},
     "output_type": "execute_result"
    }
   ],
   "source": [
    "let uints:usize = 6; // 実行環境と同じサイズの数値\n",
    "uints"
   ]
  },
  {
   "cell_type": "markdown",
   "metadata": {},
   "source": [
    "## 浮動小数"
   ]
  },
  {
   "cell_type": "code",
   "execution_count": 20,
   "metadata": {},
   "outputs": [
    {
     "data": {
      "text/plain": [
       "6.0"
      ]
     },
     "execution_count": 20,
     "metadata": {},
     "output_type": "execute_result"
    }
   ],
   "source": [
    "let float32:f32 = 6.0f32;\n",
    "float32"
   ]
  },
  {
   "cell_type": "code",
   "execution_count": 21,
   "metadata": {},
   "outputs": [
    {
     "data": {
      "text/plain": [
       "6.0"
      ]
     },
     "execution_count": 21,
     "metadata": {},
     "output_type": "execute_result"
    }
   ],
   "source": [
    "let float64:f64 = 6.0f64;\n",
    "float64"
   ]
  },
  {
   "cell_type": "markdown",
   "metadata": {},
   "source": [
    "## 真偽値"
   ]
  },
  {
   "cell_type": "code",
   "execution_count": 22,
   "metadata": {},
   "outputs": [
    {
     "data": {
      "text/plain": [
       "true"
      ]
     },
     "execution_count": 22,
     "metadata": {},
     "output_type": "execute_result"
    }
   ],
   "source": [
    "let boolean:bool = true;\n",
    "boolean"
   ]
  },
  {
   "cell_type": "markdown",
   "metadata": {},
   "source": [
    "## 範囲"
   ]
  },
  {
   "cell_type": "code",
   "execution_count": 23,
   "metadata": {},
   "outputs": [
    {
     "data": {
      "text/plain": [
       "5..8"
      ]
     },
     "execution_count": 23,
     "metadata": {},
     "output_type": "execute_result"
    }
   ],
   "source": [
    "let ranE = 5..8; // 5≤x<8\n",
    "ranE"
   ]
  },
  {
   "cell_type": "markdown",
   "metadata": {},
   "source": [
    "## タプル (順序固定で多様な型)"
   ]
  },
  {
   "cell_type": "code",
   "execution_count": 24,
   "metadata": {},
   "outputs": [
    {
     "data": {
      "text/plain": [
       "(1, \"second\", 3, 3.14, false)"
      ]
     },
     "execution_count": 24,
     "metadata": {},
     "output_type": "execute_result"
    }
   ],
   "source": [
    "let tup:(i64,String,i64,f64,bool) = (1,\"second\".to_string(),3,3.14,false);\n",
    "\n",
    "tup"
   ]
  },
  {
   "cell_type": "markdown",
   "metadata": {},
   "source": [
    "## 配列 (固定長,静的に大きさが決定,プリミティブ)"
   ]
  },
  {
   "cell_type": "code",
   "execution_count": 25,
   "metadata": {},
   "outputs": [
    {
     "name": "stdout",
     "output_type": "stream",
     "text": [
      "大きさ: 3\n",
      "2番目: third\n"
     ]
    },
    {
     "data": {
      "text/plain": [
       "[\"first\", \"second\", \"third\"]"
      ]
     },
     "execution_count": 25,
     "metadata": {},
     "output_type": "execute_result"
    }
   ],
   "source": [
    "let arr:[&str;3] = [\"first\",\"second\",\"third\"];\n",
    "\n",
    "println!(\"大きさ: {}\",arr.len());\n",
    "println!(\"2番目: {}\",arr[2]);\n",
    "arr"
   ]
  },
  {
   "cell_type": "markdown",
   "metadata": {},
   "source": [
    "## スライス (固定長,動的に大きさが決定)"
   ]
  },
  {
   "cell_type": "code",
   "execution_count": 26,
   "metadata": {},
   "outputs": [
    {
     "name": "stdout",
     "output_type": "stream",
     "text": [
      "大きさ: 3\n",
      "2番目: third\n"
     ]
    },
    {
     "data": {
      "text/plain": [
       "[\"first\", \"second\", \"third\"]"
      ]
     },
     "execution_count": 26,
     "metadata": {},
     "output_type": "execute_result"
    }
   ],
   "source": [
    "let sli:&[&str] = &[\"first\",\"second\",\"third\"];\n",
    "\n",
    "println!(\"大きさ: {}\",sli.len());\n",
    "println!(\"2番目: {}\",sli[2]);\n",
    "sli"
   ]
  },
  {
   "cell_type": "markdown",
   "metadata": {},
   "source": [
    "## ベクタ (可変長)\n",
    "末尾からの要素追加が高速 (C++の `vector`)"
   ]
  },
  {
   "cell_type": "code",
   "execution_count": 27,
   "metadata": {},
   "outputs": [
    {
     "name": "stdout",
     "output_type": "stream",
     "text": [
      "大きさ: 3\n",
      "2番目: third\n"
     ]
    },
    {
     "data": {
      "text/plain": [
       "[\"first\", \"second\", \"third\"]"
      ]
     },
     "execution_count": 27,
     "metadata": {},
     "output_type": "execute_result"
    }
   ],
   "source": [
    "let vec:Vec<&str> = vec![\"first\",\"second\",\"third\"];\n",
    "\n",
    "println!(\"大きさ: {}\",vec.len());\n",
    "println!(\"2番目: {}\",vec[2]);\n",
    "vec"
   ]
  },
  {
   "cell_type": "markdown",
   "metadata": {},
   "source": [
    "## デック (可変長)\n",
    "先頭と末尾からの要素追加が高速 (C++の `deque`)"
   ]
  },
  {
   "cell_type": "code",
   "execution_count": 28,
   "metadata": {},
   "outputs": [
    {
     "name": "stdout",
     "output_type": "stream",
     "text": [
      "大きさ: 3\n",
      "2番目: third\n"
     ]
    },
    {
     "data": {
      "text/plain": [
       "[\"first\", \"second\", \"third\"]"
      ]
     },
     "execution_count": 28,
     "metadata": {},
     "output_type": "execute_result"
    }
   ],
   "source": [
    "use std::collections::VecDeque;\n",
    "let mut deq:VecDeque<&str> = VecDeque::new();\n",
    "// vec! のようなマクロが存在しないため,要素は都度追加しなくてはならない\n",
    "deq.reserve(3);\n",
    "deq.push_back(\"first\");\n",
    "deq.push_back(\"second\");\n",
    "deq.push_back(\"third\");\n",
    "\n",
    "println!(\"大きさ: {}\",deq.len());\n",
    "println!(\"2番目: {}\",deq[2]);\n",
    "deq"
   ]
  },
  {
   "cell_type": "markdown",
   "metadata": {},
   "source": [
    "## リスト (可変長)\n",
    "あらゆる箇所からの要素追加が高速 (C++の `list`)  \n",
    "双方向リンクである  \n",
    "要素追加•削除以外の通常のオペレーションはやはり `Vec`, `VecDeque` よりパフォーマンスで劣る"
   ]
  },
  {
   "cell_type": "code",
   "execution_count": 29,
   "metadata": {},
   "outputs": [
    {
     "name": "stdout",
     "output_type": "stream",
     "text": [
      "大きさ: 3\n",
      "2番目: third\n"
     ]
    },
    {
     "data": {
      "text/plain": [
       "[\"first\", \"second\", \"third\"]"
      ]
     },
     "execution_count": 29,
     "metadata": {},
     "output_type": "execute_result"
    }
   ],
   "source": [
    "use std::collections::LinkedList;\n",
    "let mut list:LinkedList<&str> = LinkedList::new();\n",
    "// vec! のようなマクロが存在しないため,要素は都度追加しなくてはならない\n",
    "list.push_back(\"first\");\n",
    "list.push_back(\"second\");\n",
    "list.push_back(\"third\");\n",
    "\n",
    "println!(\"大きさ: {}\",list.len());\n",
    "println!(\"2番目: {}\",deq[2]);\n",
    "deq"
   ]
  },
  {
   "cell_type": "markdown",
   "metadata": {},
   "source": [
    "## マップ"
   ]
  },
  {
   "cell_type": "markdown",
   "metadata": {},
   "source": [
    "### ハッシュマップ\n",
    "ハッシュ値で並べ替えられるマップ (順序にあまり意味を見いだせない)  \n",
    "順序を気にしない場合に使うと良い"
   ]
  },
  {
   "cell_type": "code",
   "execution_count": 30,
   "metadata": {},
   "outputs": [
    {
     "name": "stdout",
     "output_type": "stream",
     "text": [
      "大きさ: 3\n",
      "b= Second\n"
     ]
    },
    {
     "data": {
      "text/plain": [
       "{\"a\": \"First\", \"b\": \"Second\", \"c\": \"Third\"}"
      ]
     },
     "execution_count": 30,
     "metadata": {},
     "output_type": "execute_result"
    }
   ],
   "source": [
    "use std::collections::HashMap;\n",
    "let mut hm = HashMap::new();\n",
    "hm.insert(\"a\", \"First\");\n",
    "hm.insert(\"b\", \"Second\");\n",
    "hm.insert(\"c\", \"Third\");\n",
    "println!(\"大きさ: {}\",hm.len());\n",
    "println!(\"b= {}\",hm[\"b\"]);\n",
    "hm"
   ]
  },
  {
   "cell_type": "markdown",
   "metadata": {},
   "source": [
    "### ツリーマップ\n",
    "二分木で並べ替えられるマップ  \n",
    "順序を気にする場合に使う。当然ハッシュよりも二分木の処理のためにパフォーマンスは落ちる"
   ]
  },
  {
   "cell_type": "code",
   "execution_count": 31,
   "metadata": {},
   "outputs": [
    {
     "name": "stdout",
     "output_type": "stream",
     "text": [
      "大きさ: 3\n",
      "b= Second\n"
     ]
    },
    {
     "data": {
      "text/plain": [
       "{\"a\": \"First\", \"b\": \"Second\", \"c\": \"Third\"}"
      ]
     },
     "execution_count": 31,
     "metadata": {},
     "output_type": "execute_result"
    }
   ],
   "source": [
    "use std::collections::BTreeMap;\n",
    "let mut tm = BTreeMap::new();\n",
    "tm.insert(\"a\", \"First\");\n",
    "tm.insert(\"b\", \"Second\");\n",
    "tm.insert(\"c\", \"Third\");\n",
    "println!(\"大きさ: {}\",tm.len());\n",
    "println!(\"b= {}\",tm[\"b\"]);\n",
    "tm"
   ]
  },
  {
   "cell_type": "markdown",
   "metadata": {},
   "source": [
    "## 集合"
   ]
  },
  {
   "cell_type": "markdown",
   "metadata": {},
   "source": [
    "### ハッシュセット"
   ]
  },
  {
   "cell_type": "code",
   "execution_count": 32,
   "metadata": {},
   "outputs": [
    {
     "name": "stdout",
     "output_type": "stream",
     "text": [
      "大きさ: 3\n",
      "Secondの存在: true\n"
     ]
    },
    {
     "data": {
      "text/plain": [
       "{\"Second\", \"First\", \"Third\"}"
      ]
     },
     "execution_count": 32,
     "metadata": {},
     "output_type": "execute_result"
    }
   ],
   "source": [
    "use std::collections::HashSet;\n",
    "let mut hs = HashSet::new();\n",
    "hs.insert(\"First\");\n",
    "hs.insert(\"Second\");\n",
    "hs.insert(\"Third\");\n",
    "println!(\"大きさ: {}\",hs.len());\n",
    "println!(\"Secondの存在: {}\",hs.contains(\"Second\"));\n",
    "hs"
   ]
  },
  {
   "cell_type": "markdown",
   "metadata": {},
   "source": [
    "### ツリーセット"
   ]
  },
  {
   "cell_type": "code",
   "execution_count": 33,
   "metadata": {},
   "outputs": [
    {
     "name": "stdout",
     "output_type": "stream",
     "text": [
      "大きさ: 3\n",
      "Secondの存在: true\n"
     ]
    },
    {
     "data": {
      "text/plain": [
       "{\"First\", \"Second\", \"Third\"}"
      ]
     },
     "execution_count": 33,
     "metadata": {},
     "output_type": "execute_result"
    }
   ],
   "source": [
    "use std::collections::BTreeSet;\n",
    "let mut ts = BTreeSet::new();\n",
    "ts.insert(\"First\");\n",
    "ts.insert(\"Second\");\n",
    "ts.insert(\"Third\");\n",
    "println!(\"大きさ: {}\",ts.len());\n",
    "println!(\"Secondの存在: {}\",ts.contains(\"Second\"));\n",
    "ts"
   ]
  },
  {
   "cell_type": "markdown",
   "metadata": {},
   "source": [
    "## 所有権\n",
    "Rustの変数にはCにある変数参照の危険性から\"所有権\"の考え方を導入し,不正な変数アクセスはコンパイル時にエラーを送出する仕組みになっている。\n",
    "\n",
    "### 所有権の移譲\n",
    "1つの値の所有権は1変数しか持たない。所有権を移譲すればまはやその変数にはアクセスできなくなる。\n",
    "\n",
    "```Rust\n",
    "x=6;\n",
    "y=x; // 6の所有権が x → y と移る\n",
    "x; // エラー : 6を失ったxは変数を持たない (アクセスできない)\n",
    "```\n",
    "\n",
    "### 借用\n",
    "`&` による参照渡し (書き換えできない)\n",
    "\n",
    "```Rust\n",
    "x=6;\n",
    "y=&x; // 参照 : yは6の参照を受け取る (xはyに6を借用する)\n",
    "z=&x; // 参照は無数に渡せる\n",
    "w=&y; // 借りた者が別の変数に貸すこともできる\n",
    "```\n",
    "\n",
    "* スコープを抜けて `x` の寿命が尽きると, `y` や `z` も参照できなくなる\n",
    "\n",
    "### `mut` 借用\n",
    "`&mut` による書き換え可能な参照渡し\n",
    "\n",
    "```Rust\n",
    "x=6;\n",
    "y=&mut x; // mut借用は同時に1つだけ作れる\n",
    "z=&x; // 一度mut借用すると,他の参照は作れない\n",
    "```\n",
    "\n",
    "* 借用した後に `mut` 借用することもできない\n",
    "* 借用, `mut` 借用している変数y,zは,他の変数にその値を移譲することはできない\n",
    "* 但し, `mut` 借用から借用を生み出すことは可能\n",
    "\n",
    "```Rust\n",
    "x=6;\n",
    "y=&mut x;\n",
    "z=&y;\n",
    "```"
   ]
  },
  {
   "cell_type": "markdown",
   "metadata": {},
   "source": [
    "## 変数の宣言\n",
    "\n",
    "### 変数\n",
    "```Rust\n",
    "let mut x:i8;\n",
    "let mut x = 6;\n",
    "let mut x:i8 = 6;\n",
    "```\n",
    "### 定数\n",
    "```Rust\n",
    "let x = 6;\n",
    "let x:i8 = 6;\n",
    "```\n",
    "* Rustでは安全性のため,なるだけ定数として宣言することを推奨している。可変な値が必要な場合に限って, `mut` を付加して可変にすることができる\n",
    "* `mut`借用を行う変数は当然のことながら, `let mut` で宣言しなければならない"
   ]
  },
  {
   "cell_type": "markdown",
   "metadata": {},
   "source": [
    "## 型変換\n",
    "\n",
    "### `&str` ⇄ `String`\n",
    "\n",
    "```Rust\n",
    "let sa:&str = \"text\";\n",
    "let sv:String = sa.to_string();\n",
    "```\n",
    "\n",
    "```Rust\n",
    "let sv:String = String::from(\"text\");\n",
    "let sa:&str = &sv;\n",
    "```\n",
    "\n",
    "### `&str`,`String` → 数値型\n",
    "\n",
    "```Rust\n",
    "let sa:&str = \"6\";\n",
    "let i:i8 = sa.parse().unwrap();\n",
    "let i = sa.parse::<i8>().unwrap(); // 同じ\n",
    "```\n",
    "\n",
    "```Rust\n",
    "let sv:String = String::from(\"6\");\n",
    "let i:i8 = sv.parse().unwrap();\n",
    "let i = sv.parse::<i8>().unwrap(); // 同じ\n",
    "```\n",
    "\n",
    "`.parse()` は `Result` 型を返し, `.unwrap()` なので当然のことながら文字列が数値に変換できなければパニックになってしまう\n",
    "\n",
    "### 数値型 → `String`\n",
    "\n",
    "```Rust\n",
    "let i:i8 = 6;\n",
    "let sv:String = i.to_string();\n",
    "```\n",
    "\n",
    "細かなオプション等を指定したければ `format!` マクロを使うべきである\n",
    "\n",
    "### 数値型同士 (アップキャスト)\n",
    "\n",
    "```Rust\n",
    "let int8:i8 = 6;\n",
    "let int64:i64 = From::from(int8);\n",
    "```\n",
    "\n",
    "### 数値型同士 (ダウンキャスト)\n",
    "\n",
    "```Rust\n",
    "use std::convert::TryFrom;\n",
    "let int64:i64 = 6;\n",
    "let int8:i8 = TryFrom::try_from(int64).unwrap();\n",
    "```\n",
    "\n",
    "### `&str` → `&[u8]`, `String` → `Vec<u8>`\n",
    "\n",
    "```Rust\n",
    "let sa:&str = \"6\";\n",
    "let ua:&[u8] = sa.as_bytes();\n",
    "```\n",
    "\n",
    "```Rust\n",
    "let sv:String = String::from(\"6\");\n",
    "let uv:Vec<u8> = sv.into_bytes();\n",
    "```\n",
    "\n",
    "### `&[u8]` → `&str`, `Vec<u8>` → `String`\n",
    "\n",
    "```Rust\n",
    "let ua:&[u8] = &[36];\n",
    "let sa:&str = std::str::from_utf8(ua).unwrap();\n",
    "```\n",
    "\n",
    "```Rust\n",
    "let uv:Vec<u8> = vec![36];\n",
    "let sv:String = std::str::from_utf8(uv).unwrap();\n",
    "```"
   ]
  }
 ],
 "metadata": {
  "kernelspec": {
   "display_name": "Rust",
   "language": "rust",
   "name": "rust"
  },
  "language_info": {
   "codemirror_mode": "rust",
   "file_extension": ".rs",
   "mimetype": "text/rust",
   "name": "Rust",
   "pygment_lexer": "rust",
   "version": ""
  }
 },
 "nbformat": 4,
 "nbformat_minor": 4
}