{
 "cells": [
  {
   "cell_type": "markdown",
   "metadata": {},
   "source": [
    "# シェル"
   ]
  },
  {
   "cell_type": "markdown",
   "metadata": {},
   "source": [
    "## 通常の実行"
   ]
  },
  {
   "cell_type": "code",
   "execution_count": 2,
   "metadata": {},
   "outputs": [],
   "source": [
    "use std::process::{Command,Stdio};\n",
    "Command::new(\"ls\")\n",
    "\t\t.arg(\"-l\").arg(\"-a\") // 或いは .args(&[\"-l\",\"-a\"])\n",
    "\t\t.spawn()\n",
    "\t\t.expect(\"実行に失敗しました\");"
   ]
  },
  {
   "cell_type": "markdown",
   "metadata": {},
   "source": [
    "## 実行方法をカスタマイズ\n",
    "Rustでは上のように関数を繋げていくことでオプションを指定できる\n",
    "\n",
    "### 実行内容の指定\n",
    "* `Command::new(S)` : コマンドを指定\n",
    "* `.arg(S)` : 引数を1つ追加\n",
    "* `.args(&[S])` : 引数をまとめて追加\n",
    "\n",
    "### IO\n",
    "* `.stdin(Stdio)`,`.stdout(Stdio)`,`.stderr(Stdio)` : 入出力を指定  \n",
    "\tこれらの値が指定できる\n",
    "\t* `Stdio::piped()`  \n",
    "\t\t別のプロセスへパイプしたり,文字列として渡す/受け取る\n",
    "\t* `Stdio::inherit()`  \n",
    "\t\t親プロセスの入出力を使用\n",
    "\t* `Stdio::null()`  \n",
    "\t\t出力を破棄する/空の入力\n",
    "\t* `Stdio::from(File)`  \n",
    "\t\t開いているファイルを入出力先として指定\n",
    "\t* `Stdio::from(ChildStdin)`, `Stdio::from(ChildStdout)`, `Stdio::from(ChildStderr)`  \n",
    "\t\t別プロセスの入出力をパイプする\n",
    "\n",
    "### 環境変数\n",
    "* `.env(K,V)` : 環境変数を指定する\n",
    "* `.envs(&[(K,V)])` : 環境変数をまとめて指定する\n",
    "* `.env_remove(K)` : 環境変数 `K` を削除する\n",
    "* `.env_clear()` : 規定の環境変数を全て削除する\n",
    "\n",
    "### カレントディレクトリ\n",
    "* `.current_dir(S)` : プロセス内のカレントディレクトリを変更する\n",
    "\n",
    "### 実行\n",
    "\n",
    "* `.status()` → `Result<ExitStatus>` : 実行を開始し,実行が終わるのを待って,ステータスを返す  \n",
    "\tこれを使用した場合,標準では stdin,stdout,stderr のいづれもインターセプトされない (`Stdio::inheirt()` が指定される)\n",
    "\t* `ExitStatus.success()` → `bool` : 成功したか否か\n",
    "\t* `ExitStatus.code()` → `Option<i32>` : 終了コード  \n",
    "\t\tシグナルで中断した場合は `None` になる\n",
    "\n",
    "* `.output()` → `Result<Output>` : 実行を開始し,実行が終わるのを待って,結果を返す  \n",
    "\tこれを使用した場合,標準では stdout,stderr 共にインターセプトされる (`Stdio::piped()` が指定される)  \n",
    "\t逆に, `Stdio::piped()` が指定されていないIOはアクセスできない\n",
    "\t* `Output.stdout` → `Vec<u8>` : stdoutの内容\n",
    "\t* `Output.stderr` → `Vec<u8>` : stderrの内容\n",
    "\t* `Output.status` → `ExitStatus` : ステータス  \n",
    "\t\t`ExitStatus` の内容は `.status()`　の項を参照\n",
    "\n",
    "* `.spawn()` → `Result<Child>` : 実行を開始し,子プロセスを返す  \n",
    "\tこれを使用した場合,標準では stdin,stdout,stderr のいづれもインターセプトされない (`Stdio::inheirt()` が指定される)  \n",
    "\t`.spawn()` の時点では実行は完了していないので, `Child.wait()` を使用する\n",
    "\t* `Child.id()` → `u32` : プロセスID\n",
    "\t* `Child.kill()` : 強制終了する\n",
    "\t* `Child.stdin` → `Option<ChildStdin>` : stdoinの内容 (`Stdio::piped()` が指定されている場合に有効)  \n",
    "\t\t別プロセスへパイプするには, `Stdio::from(ChildStdin)` にこれを渡せばよい\n",
    "\t\t* `ChildStdin.write(&[u8])` : stdinに書き込む\n",
    "\t* `Child.stdout`,`Child.stderr` → `Option<ChildStdout>`,`Option<ChildStderr>` : stdout,stderrの内容 (`Stdio::piped()` が指定されている場合に有効)  \n",
    "\t\t別プロセスへパイプするには, `Stdio::from(ChildStdout/err)` にこれを渡せばよい\n",
    "\t\t* `ChildStdout/err.read(&mut [u8])` : stdout,stderrから読み込む\n",
    "\t\t* `ChildStdout/err.read_to_vec(&mut Vec<u8>)` : stdout,stderrから読み込む\n",
    "\t\t* `ChildStdout/err.read_to_string(&mut String)` : stdout,stderrから読み込む\n",
    "\t* `Child.wait()` → `ExitStatus` : 終了を待って,ステータスを返す"
   ]
  }
 ],
 "metadata": {
  "kernelspec": {
   "display_name": "Rust",
   "language": "rust",
   "name": "rust"
  },
  "language_info": {
   "codemirror_mode": "rust",
   "file_extension": ".rs",
   "mimetype": "text/rust",
   "name": "Rust",
   "pygment_lexer": "rust",
   "version": ""
  }
 },
 "nbformat": 4,
 "nbformat_minor": 4
}