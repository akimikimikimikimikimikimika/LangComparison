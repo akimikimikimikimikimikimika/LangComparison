{
 "cells": [
  {
   "cell_type": "markdown",
   "metadata": {},
   "source": [
    "# ファイル操作"
   ]
  },
  {
   "cell_type": "code",
   "execution_count": 2,
   "metadata": {},
   "outputs": [],
   "source": [
    "extern crate dirs;\n",
    "use std::fs;\n",
    "use std::env;\n",
    "use std::path::Path;\n",
    "use std::io::prelude::*;\n",
    "\n",
    "#[cfg(unix)]\n",
    "use std::os::unix::fs as fs_unix;\n",
    "#[cfg(unix)]\n",
    "use fs_unix::PermissionsExt;\n",
    "\n",
    "#[cfg(windows)]\n",
    "use std::os::windows::fs as fs_windows;"
   ]
  },
  {
   "cell_type": "markdown",
   "metadata": {},
   "source": [
    "* カレントディレクトリをホームに変更"
   ]
  },
  {
   "cell_type": "code",
   "execution_count": 3,
   "metadata": {},
   "outputs": [
    {
     "data": {
      "text/plain": [
       "()"
      ]
     },
     "execution_count": 3,
     "metadata": {},
     "output_type": "execute_result"
    }
   ],
   "source": [
    "let home=dirs::home_dir();\n",
    "if let Some(p) = home { env::set_current_dir(&p); }"
   ]
  },
  {
   "cell_type": "markdown",
   "metadata": {},
   "source": [
    "標準ライブラリにも `env::home_dir()` があるが,動作が不安定なので非推奨であり, `dirs` クレートの `dirs::home_dir()` の使用が勧められている。"
   ]
  },
  {
   "cell_type": "markdown",
   "metadata": {},
   "source": [
    "## ファイル/フォルダ/シンボリックリンクの作成"
   ]
  },
  {
   "cell_type": "markdown",
   "metadata": {},
   "source": [
    "* Emptyという空フォルダを作成"
   ]
  },
  {
   "cell_type": "code",
   "execution_count": 4,
   "metadata": {},
   "outputs": [],
   "source": [
    "fs::create_dir(\"Empty\");"
   ]
  },
  {
   "cell_type": "markdown",
   "metadata": {},
   "source": [
    "* 一時ディレクトリの場合\n",
    "```Python\n",
    "import tempfile\n",
    "t=tempfile.TemporaryDirectory()\n",
    "t.name # ディレクトリのパス\n",
    "t.cleanup() # ディレクトリを削除する\n",
    "```"
   ]
  },
  {
   "cell_type": "markdown",
   "metadata": {},
   "source": [
    "* Blankという空ファイルを作成"
   ]
  },
  {
   "cell_type": "code",
   "execution_count": 5,
   "metadata": {},
   "outputs": [],
   "source": [
    "fs::File::create(\"Blank\");"
   ]
  },
  {
   "cell_type": "markdown",
   "metadata": {},
   "source": [
    "* フォルダEmptyの中にファイルBlankのシンボリックリンクSymlinkを作成"
   ]
  },
  {
   "cell_type": "code",
   "execution_count": 6,
   "metadata": {},
   "outputs": [],
   "source": [
    "#[cfg(unix)]\n",
    "fs_unix::symlink(\"../Blank\",\"Empty/Symlink\");\n",
    "#[cfg(windows)]\n",
    "fs_windows::symlink_file(\"../Blank\",\"Empty/Symlink\");"
   ]
  },
  {
   "cell_type": "markdown",
   "metadata": {},
   "source": [
    "- シンボリックリンクを作成する関数はプラットフォームによって異なるので,上記のようにマクロでプラットフォームに分けてインポートした。\n",
    "\tWindows の `symlink_file` はファイルへのリンクの場合のみに使用する。ディレクトリへのリンクは `std::os::windows::fs::symlink_dir` を使用する。\n",
    "- ハードリンクの場合\n",
    "```Rust\n",
    "fs::hard_link(\"../Blank\",\"Empty/Link\")\n",
    "```"
   ]
  },
  {
   "cell_type": "markdown",
   "metadata": {},
   "source": [
    "## 書込み\n",
    "* Untitled.mdというMarkdownファイルを作成して書込み"
   ]
  },
  {
   "cell_type": "code",
   "execution_count": 7,
   "metadata": {},
   "outputs": [],
   "source": [
    "// 既にUntitled.mdが存在すれば上書きされる\n",
    "let mut io=fs::OpenOptions::new()\n",
    "\t.write(true)\n",
    "\t.truncate(true)\n",
    "\t.create(true).open(\"Untitled.md\")?;\n",
    "io.write_all(b\"# Header 1\")?;"
   ]
  },
  {
   "cell_type": "markdown",
   "metadata": {},
   "source": [
    "## 移動/名称変更"
   ]
  },
  {
   "cell_type": "markdown",
   "metadata": {},
   "source": [
    "* フォルダEmptyをPackageに名称変更"
   ]
  },
  {
   "cell_type": "code",
   "execution_count": 8,
   "metadata": {},
   "outputs": [
    {
     "data": {
      "text/plain": [
       "Ok(())"
      ]
     },
     "execution_count": 8,
     "metadata": {},
     "output_type": "execute_result"
    }
   ],
   "source": [
    "fs::rename(\"Empty\",\"Package\")"
   ]
  },
  {
   "cell_type": "markdown",
   "metadata": {},
   "source": [
    "* Packageフォルダ内のSymlinkファイルをAliasに名称変更"
   ]
  },
  {
   "cell_type": "code",
   "execution_count": 9,
   "metadata": {},
   "outputs": [
    {
     "data": {
      "text/plain": [
       "Ok(())"
      ]
     },
     "execution_count": 9,
     "metadata": {},
     "output_type": "execute_result"
    }
   ],
   "source": [
    "fs::rename(\"Package/Symlink\",\"Package/Alias\")"
   ]
  },
  {
   "cell_type": "markdown",
   "metadata": {},
   "source": [
    "* Untitled.mdを移動して,名称変更"
   ]
  },
  {
   "cell_type": "code",
   "execution_count": 10,
   "metadata": {},
   "outputs": [
    {
     "data": {
      "text/plain": [
       "Ok(())"
      ]
     },
     "execution_count": 10,
     "metadata": {},
     "output_type": "execute_result"
    }
   ],
   "source": [
    "fs::rename(\"Untitled.md\",\"Package/Headers.md\")"
   ]
  },
  {
   "cell_type": "markdown",
   "metadata": {},
   "source": [
    "## 追記\n",
    "* Markdownファイルに追記"
   ]
  },
  {
   "cell_type": "code",
   "execution_count": 11,
   "metadata": {},
   "outputs": [],
   "source": [
    "let mut io=fs::OpenOptions::new()\n",
    "\t.write(true)\n",
    "\t.append(true).open(\"Package/Headers.md\")?;\n",
    "io.write_all(b\"\\n## Header 2\\n### Header 3\");"
   ]
  },
  {
   "cell_type": "markdown",
   "metadata": {},
   "source": [
    "## 読込み\n",
    "* Markdownファイルを読込み"
   ]
  },
  {
   "cell_type": "code",
   "execution_count": 12,
   "metadata": {},
   "outputs": [],
   "source": [
    "let mut io=fs::OpenOptions::new()\n",
    "\t.read(true).open(\"Package/Headers.md\")?;\n",
    "let mut data=String::new();\n",
    "io.read_to_string(&mut data)?;\n",
    "data;"
   ]
  },
  {
   "cell_type": "markdown",
   "metadata": {},
   "source": [
    "## 再帰的にフォルダ作成\n",
    "* フォルダを一気に作成"
   ]
  },
  {
   "cell_type": "code",
   "execution_count": 13,
   "metadata": {},
   "outputs": [],
   "source": [
    "fs::create_dir_all(\"Package/Module/Submodule/Item\");"
   ]
  },
  {
   "cell_type": "markdown",
   "metadata": {},
   "source": [
    "## ディレクトリの内容を表示"
   ]
  },
  {
   "cell_type": "code",
   "execution_count": 14,
   "metadata": {},
   "outputs": [
    {
     "data": {
      "text/plain": [
       "[\"Alias\", \"Module\", \"Headers.md\"]"
      ]
     },
     "execution_count": 14,
     "metadata": {},
     "output_type": "execute_result"
    }
   ],
   "source": [
    "let it=fs::read_dir(\"Package\")?; // Iterator of DirEntry\n",
    "// Converting DirEntry -> file name\n",
    "let list:Vec<String> = it.map(|r| -> String {\n",
    "    if let Ok(e)=r {\n",
    "        if let Ok(s)=e.file_name().into_string() { return s; }\n",
    "    }\n",
    "    \"?\".to_string() // called when unable to get file name\n",
    "}).collect();\n",
    "list"
   ]
  },
  {
   "cell_type": "markdown",
   "metadata": {},
   "source": [
    "- ワイルドカードを使って,条件を満たすファイルを見つけ出す場合は, `glob` クレートを使用する"
   ]
  },
  {
   "cell_type": "markdown",
   "metadata": {},
   "source": [
    "## ファイルの複製\n",
    "* Blankを複製"
   ]
  },
  {
   "cell_type": "code",
   "execution_count": 15,
   "metadata": {},
   "outputs": [
    {
     "data": {
      "text/plain": [
       "0"
      ]
     },
     "execution_count": 15,
     "metadata": {},
     "output_type": "execute_result"
    }
   ],
   "source": [
    "fs::copy(\"Blank\",\"Package/Blank\")?"
   ]
  },
  {
   "cell_type": "markdown",
   "metadata": {},
   "source": [
    "## ファイル/フォルダの削除"
   ]
  },
  {
   "cell_type": "markdown",
   "metadata": {},
   "source": [
    "* ファイルBlankを削除"
   ]
  },
  {
   "cell_type": "code",
   "execution_count": 16,
   "metadata": {},
   "outputs": [
    {
     "data": {
      "text/plain": [
       "()"
      ]
     },
     "execution_count": 16,
     "metadata": {},
     "output_type": "execute_result"
    }
   ],
   "source": [
    "fs::remove_file(\"Blank\")?"
   ]
  },
  {
   "cell_type": "markdown",
   "metadata": {},
   "source": [
    "* シンボリックリンクAliasを削除"
   ]
  },
  {
   "cell_type": "code",
   "execution_count": 17,
   "metadata": {},
   "outputs": [
    {
     "data": {
      "text/plain": [
       "()"
      ]
     },
     "execution_count": 17,
     "metadata": {},
     "output_type": "execute_result"
    }
   ],
   "source": [
    "fs::remove_file(\"Package/Alias\")?"
   ]
  },
  {
   "cell_type": "markdown",
   "metadata": {},
   "source": [
    "* フォルダModuleを削除"
   ]
  },
  {
   "cell_type": "code",
   "execution_count": 18,
   "metadata": {},
   "outputs": [
    {
     "data": {
      "text/plain": [
       "()"
      ]
     },
     "execution_count": 18,
     "metadata": {},
     "output_type": "execute_result"
    }
   ],
   "source": [
    "fs::remove_dir_all(\"Package/Module\")?"
   ]
  },
  {
   "cell_type": "markdown",
   "metadata": {},
   "source": [
    "- 空のフォルダは `fs::remmove_dir` で削除できる。空でない場合は削除できない。  \n",
    "\t`fs::remove_dir_all` を使えば,空でなくても削除できる"
   ]
  },
  {
   "cell_type": "markdown",
   "metadata": {},
   "source": [
    "## 権限を確認/変更"
   ]
  },
  {
   "cell_type": "markdown",
   "metadata": {},
   "source": [
    "* 状態を確認する関数"
   ]
  },
  {
   "cell_type": "code",
   "execution_count": 19,
   "metadata": {},
   "outputs": [],
   "source": [
    "fn check(path:String) {\n",
    "\tlet p=Path::new(&path);\n",
    "\tif p.exists() { println!(\"存在しています\"); }\n",
    "\telse { println!(\"存在していません\"); return; }\n",
    "\n",
    "\tlet r=p.symlink_metadata(); // fs::symlink_metadata\n",
    "    if r.is_err() { return; }\n",
    "    let m=r.unwrap();\n",
    "\tlet ft=m.file_type();\n",
    "\tif ft.is_symlink() {\n",
    "\t\tprintln!(\"シンボリックリンクです\");\n",
    "\t\tlet r=p.read_link();\n",
    "\t\tif let Ok(pb)=r {\n",
    "\t\t\tif let Some(s)=pb.to_str() {\n",
    " \t\t\t\tprintln!(\"リンク先: {}\",s);\n",
    "\t\t\t}\n",
    "\t\t}\n",
    "\t\tif p.is_file() { println!(\"リンク先はファイルです\"); }\n",
    "\t\tif p.is_dir() { println!(\"リンク先はフォルダです\"); }      \n",
    "\t}\n",
    "\telse {\n",
    "\t\tif ft.is_file() { println!(\"ファイルです\"); }\n",
    "\t\tif ft.is_dir() { println!(\"フォルダです\"); }\n",
    "\t}\n",
    "\n",
    "\tlet pm=m.permissions();\n",
    "\t#[cfg(unix)]\n",
    "\t{\n",
    "\t\tlet mode=pm.mode();\n",
    "\t\tif mode&0o400 != 0 { println!(\"読込可能です\"); }\n",
    "\t\tif mode&0o200 != 0 { println!(\"書込可能です\"); }\n",
    "\t\tif mode&0o100 != 0 { println!(\"実行可能です\"); }\n",
    "\t}\n",
    "\t#[cfg(windows)]\n",
    "\t{\n",
    "\t\tif !pm.readonly() { println!(\"読込可能です\"); }        \n",
    "\t}\n",
    "\n",
    "\tif m.len()==0 { println!(\"空です\"); }\n",
    "}"
   ]
  },
  {
   "cell_type": "markdown",
   "metadata": {},
   "source": [
    "* Markdownファイルの現在の状態を確認"
   ]
  },
  {
   "cell_type": "code",
   "execution_count": 20,
   "metadata": {},
   "outputs": [
    {
     "name": "stdout",
     "output_type": "stream",
     "text": [
      "存在しています\n",
      "ファイルです\n",
      "読込可能です\n",
      "書込可能です\n"
     ]
    },
    {
     "data": {
      "text/plain": [
       "()"
      ]
     },
     "execution_count": 20,
     "metadata": {},
     "output_type": "execute_result"
    }
   ],
   "source": [
    "check(\"Package/Headers.md\".to_string())"
   ]
  },
  {
   "cell_type": "markdown",
   "metadata": {},
   "source": [
    "* 読込/書込権限を剥奪"
   ]
  },
  {
   "cell_type": "code",
   "execution_count": 21,
   "metadata": {},
   "outputs": [],
   "source": [
    "let mut pm=fs::metadata(\"Package/Headers.md\")?.permissions();\n",
    "#[cfg(unix)]\n",
    "pm.set_mode(0o044);\n",
    "#[cfg(windows)]\n",
    "pm.set_readonly(false);"
   ]
  },
  {
   "cell_type": "markdown",
   "metadata": {},
   "source": [
    "* 状態を確認"
   ]
  },
  {
   "cell_type": "code",
   "execution_count": 22,
   "metadata": {},
   "outputs": [
    {
     "name": "stdout",
     "output_type": "stream",
     "text": [
      "存在しています\n",
      "ファイルです\n",
      "読込可能です\n",
      "書込可能です\n"
     ]
    },
    {
     "data": {
      "text/plain": [
       "()"
      ]
     },
     "execution_count": 22,
     "metadata": {},
     "output_type": "execute_result"
    }
   ],
   "source": [
    "check(\"Package/Headers.md\".to_string())"
   ]
  },
  {
   "cell_type": "markdown",
   "metadata": {},
   "source": [
    "* 読込/実行権限を付加"
   ]
  },
  {
   "cell_type": "code",
   "execution_count": 23,
   "metadata": {},
   "outputs": [],
   "source": [
    "let mut pm=fs::metadata(\"Package/Headers.md\")?.permissions();\n",
    "#[cfg(unix)]\n",
    "pm.set_mode(0o544);\n",
    "#[cfg(windows)]\n",
    "pm.set_readonly(true);"
   ]
  },
  {
   "cell_type": "markdown",
   "metadata": {},
   "source": [
    "* 状態を確認"
   ]
  },
  {
   "cell_type": "code",
   "execution_count": 24,
   "metadata": {},
   "outputs": [
    {
     "name": "stdout",
     "output_type": "stream",
     "text": [
      "存在しています\n",
      "ファイルです\n",
      "読込可能です\n",
      "書込可能です\n"
     ]
    },
    {
     "data": {
      "text/plain": [
       "()"
      ]
     },
     "execution_count": 24,
     "metadata": {},
     "output_type": "execute_result"
    }
   ],
   "source": [
    "check(\"Package/Headers.md\".to_string())"
   ]
  },
  {
   "cell_type": "markdown",
   "metadata": {},
   "source": [
    "- `Permissions.set_mode` は数値により権限を指定する\n",
    "\t* 4: 読込可能 (Readable)\n",
    "\t* 2: 書込可能 (Writable)\n",
    "\t* 1: 実行可能 (eXecutable)\n",
    "\n",
    "- これらの和を3つ並べて指定する。  \n",
    "    1つ目はユーザの権限,2つ目はゲストの権限,3つ目はその他の者の権限である。  \n",
    "\tRustでは8進数で表記するために,前に `0o` を付加する\n",
    "\n",
    "\te.g. `Permissions.set_mode(0o754)`\n",
    "\t* ユーザは 7 = 4+2+1 だから,読込可能,書込可能,実行可能\n",
    "\t* ゲストは 5 = 4 + 1 だから,読込可能,実行可能\n",
    "\t* その他は 4 だから,読込のみ可能"
   ]
  }
 ],
 "metadata": {
  "kernelspec": {
   "display_name": "Rust",
   "language": "rust",
   "name": "rust"
  },
  "language_info": {
   "codemirror_mode": "rust",
   "file_extension": ".rs",
   "mimetype": "text/rust",
   "name": "Rust",
   "pygment_lexer": "rust",
   "version": ""
  }
 },
 "nbformat": 4,
 "nbformat_minor": 4
}
