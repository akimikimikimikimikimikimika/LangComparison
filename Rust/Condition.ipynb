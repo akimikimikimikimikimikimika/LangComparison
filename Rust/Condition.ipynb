{
 "cells": [
  {
   "cell_type": "markdown",
   "metadata": {},
   "source": [
    "# 条件分岐"
   ]
  },
  {
   "cell_type": "code",
   "execution_count": null,
   "metadata": {},
   "outputs": [],
   "source": [
    "if test1 {\n",
    "\tprintln!(\"どうやらtest1は真のようです\");\n",
    "}"
   ]
  },
  {
   "cell_type": "code",
   "execution_count": null,
   "metadata": {},
   "outputs": [],
   "source": [
    "if !test1 {\n",
    "\tprintln!(\"どうやらtest1は偽のようです\");\n",
    "}\n",
    "else if test2 {\n",
    "\tprintln!(\"どうやらtest2は真のようです\");\n",
    "}\n",
    "else if !test2 && test1 {\n",
    "\tprintln!(\"真偽が混在しているようです\");\n",
    "}\n",
    "else {\n",
    "\tprintln!(\"どれでもないようです\");\n",
    "}"
   ]
  },
  {
   "cell_type": "markdown",
   "metadata": {},
   "source": [
    "## `match`"
   ]
  },
  {
   "cell_type": "markdown",
   "metadata": {},
   "source": [
    "### `switch` としての役割"
   ]
  },
  {
   "cell_type": "code",
   "execution_count": 16,
   "metadata": {},
   "outputs": [
    {
     "name": "stdout",
     "output_type": "stream",
     "text": [
      "8は連続して素数ではない\n"
     ]
    },
    {
     "data": {
      "text/plain": [
       "()"
      ]
     },
     "execution_count": 16,
     "metadata": {},
     "output_type": "execute_result"
    }
   ],
   "source": [
    "let x:i8 = 8;\n",
    "\n",
    "match x {\n",
    "    0|1 => println!(\"{}は特別な値である\",x),\n",
    "    8|9|10 => {\n",
    "        // {} で囲むことも可能\n",
    "        println!(\"{}は連続して素数ではない\",x)\n",
    "    },\n",
    "    4|6 => println!(\"{}は素数ではない\",x),\n",
    "    2|3|5|7 => println!(\"{}は素数である\",x),\n",
    "    11 => (), // シカト\n",
    "    _ => println!(\"{}なぞ私には興味がない\",x) // default: 節\n",
    "}"
   ]
  },
  {
   "cell_type": "markdown",
   "metadata": {},
   "source": [
    "### 値を返す `switch`"
   ]
  },
  {
   "cell_type": "code",
   "execution_count": 21,
   "metadata": {},
   "outputs": [
    {
     "data": {
      "text/plain": [
       "\"8は連続して素数ではない\""
      ]
     },
     "execution_count": 21,
     "metadata": {},
     "output_type": "execute_result"
    }
   ],
   "source": [
    "let x:i8 = 8;\n",
    "\n",
    "let message=match x {\n",
    "    0|1 => format!(\"{}は特別な値である\",x),\n",
    "    8|9|10 => {\n",
    "        format!(\"{}は連続して素数ではない\",x)\n",
    "    },\n",
    "    4|6 => format!(\"{}は素数ではない\",x),\n",
    "    2|3|5|7 => format!(\"{}は素数である\",x),\n",
    "    _ => format!(\"{}なぞ私には興味がない\",x)\n",
    "};\n",
    "message"
   ]
  },
  {
   "cell_type": "markdown",
   "metadata": {},
   "source": [
    "`match` の条件に文字列を使用することはできない"
   ]
  },
  {
   "cell_type": "markdown",
   "metadata": {},
   "source": [
    "## `Result`, `Option` の条件分岐"
   ]
  },
  {
   "cell_type": "markdown",
   "metadata": {},
   "source": [
    "* `Result`"
   ]
  },
  {
   "cell_type": "code",
   "execution_count": 23,
   "metadata": {},
   "outputs": [
    {
     "name": "stdout",
     "output_type": "stream",
     "text": [
      "成功したようです: うまくいった\n"
     ]
    },
    {
     "data": {
      "text/plain": [
       "()"
      ]
     },
     "execution_count": 23,
     "metadata": {},
     "output_type": "execute_result"
    }
   ],
   "source": [
    "let mut res:Result<String,String>;\n",
    "res = Ok(\"うまくいった\".to_string());\n",
    "// res = Err(\"ダメだった\");\n",
    "\n",
    "if let Ok(info) = &res {\n",
    "    println!(\"成功したようです: {}\",info);\n",
    "}\n",
    "if let Err(info) = &res {\n",
    "    println!(\"失敗したようです: {}\",info);\n",
    "}"
   ]
  },
  {
   "cell_type": "markdown",
   "metadata": {},
   "source": [
    "`match` を使うと簡単にできる"
   ]
  },
  {
   "cell_type": "code",
   "execution_count": 24,
   "metadata": {},
   "outputs": [
    {
     "name": "stdout",
     "output_type": "stream",
     "text": [
      "成功したようです: うまくいった\n"
     ]
    },
    {
     "data": {
      "text/plain": [
       "()"
      ]
     },
     "execution_count": 24,
     "metadata": {},
     "output_type": "execute_result"
    }
   ],
   "source": [
    "let mut res:Result<String,String>;\n",
    "res = Ok(\"うまくいった\".to_string());\n",
    "// res = Err(\"ダメだった\");\n",
    "\n",
    "match &res {\n",
    "    Ok(info) => println!(\"成功したようです: {}\",info),\n",
    "    Err(info) => println!(\"失敗したようです: {}\",info)\n",
    "}"
   ]
  },
  {
   "cell_type": "markdown",
   "metadata": {},
   "source": [
    "* `Option`"
   ]
  },
  {
   "cell_type": "code",
   "execution_count": 10,
   "metadata": {},
   "outputs": [
    {
     "name": "stdout",
     "output_type": "stream",
     "text": [
      "整数です: 6\n"
     ]
    },
    {
     "data": {
      "text/plain": [
       "()"
      ]
     },
     "execution_count": 10,
     "metadata": {},
     "output_type": "execute_result"
    }
   ],
   "source": [
    "let mut opt:Option<i8>;\n",
    "opt = Some(6);\n",
    "// opt = None;\n",
    "\n",
    "if let Some(val) = opt {\n",
    "    println!(\"整数です: {}\",val);\n",
    "}\n",
    "else {\n",
    "    println!(\"値がありません\");\n",
    "}"
   ]
  },
  {
   "cell_type": "markdown",
   "metadata": {},
   "source": [
    "やはり `match` を使って簡単にする"
   ]
  },
  {
   "cell_type": "code",
   "execution_count": 25,
   "metadata": {},
   "outputs": [
    {
     "name": "stdout",
     "output_type": "stream",
     "text": [
      "整数です: 6\n"
     ]
    },
    {
     "data": {
      "text/plain": [
       "()"
      ]
     },
     "execution_count": 25,
     "metadata": {},
     "output_type": "execute_result"
    }
   ],
   "source": [
    "let mut opt:Option<i8>;\n",
    "opt = Some(6);\n",
    "// opt = None;\n",
    "\n",
    "match opt {\n",
    "    Some(val) => println!(\"整数です: {}\",val),\n",
    "    None => println!(\"値がありません\")\n",
    "}"
   ]
  }
 ],
 "metadata": {
  "kernelspec": {
   "display_name": "Rust",
   "language": "rust",
   "name": "rust"
  },
  "language_info": {
   "codemirror_mode": "rust",
   "file_extension": ".rs",
   "mimetype": "text/rust",
   "name": "Rust",
   "pygment_lexer": "rust",
   "version": ""
  }
 },
 "nbformat": 4,
 "nbformat_minor": 4
}
