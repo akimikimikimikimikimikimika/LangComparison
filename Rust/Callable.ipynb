{
 "cells": [
  {
   "cell_type": "markdown",
   "metadata": {},
   "source": [
    "# コーラブル"
   ]
  },
  {
   "cell_type": "markdown",
   "metadata": {},
   "source": [
    "## 関数"
   ]
  },
  {
   "cell_type": "markdown",
   "metadata": {},
   "source": [
    "### 通常の関数"
   ]
  },
  {
   "cell_type": "code",
   "execution_count": 2,
   "metadata": {},
   "outputs": [
    {
     "data": {
      "text/plain": [
       "216"
      ]
     },
     "execution_count": 2,
     "metadata": {},
     "output_type": "execute_result"
    }
   ],
   "source": [
    "fn cube(val: i32) -> i32 {\n",
    "\tval*val*val\n",
    "}\n",
    "\n",
    "// 関数の利用\n",
    "cube(6)"
   ]
  },
  {
   "cell_type": "markdown",
   "metadata": {},
   "source": [
    "値を返す行は行末にセミコロンを付してはならない。何も値を返さないことになる。\n",
    "`return` と表記する代わりにセミコロンをなくす"
   ]
  },
  {
   "cell_type": "markdown",
   "metadata": {},
   "source": [
    "### クロージャ (無名関数)"
   ]
  },
  {
   "cell_type": "markdown",
   "metadata": {},
   "source": [
    "```Rust\n",
    "let func = |val: i32| -> i32 {\n",
    "\tval*val\n",
    "}; // 型 : Fn(i32) -> i32\n",
    "\n",
    "// 関数の利用\n",
    "func(6)\n",
    "```"
   ]
  },
  {
   "cell_type": "markdown",
   "metadata": {},
   "source": [
    "* クロージャは受け取る型や戻り値の型の明示を必要としないので,次のように簡素に表現できる。\n",
    "\n",
    "```Rust\n",
    "|val| {\n",
    "\tval*val\n",
    "}\n",
    "```\n",
    "或いは\n",
    "```Rust\n",
    "|val| val*val\n",
    "```\n",
    "\n",
    "* クロージャの型\n",
    "\tクロージャには3種類の型がある (`Fn`,`FnMut`,`FnOnce`)\n",
    "\tこれらは通常示すことはないが,関数の引数としてクロージャを受け取る時に必要になる\n",
    "\tこれらの違いは,関数を定義した環境内の変数をどのように取り扱うかの違いである\n",
    "| タイプ | 環境変数の読み出し | 特徴 |\n",
    "|:-:|:-:|:-|\n",
    "| `FnOnce` | `self` | 環境変数をクロージャ内に移譲するので1回しか実行できない |\n",
    "| `FnMut` | `&mut self` | 環境変数の書き込み可能な参照 |\n",
    "| `Fn` | `&self` | 環境変数の読み出しのみの参照 |\n",
    "\n",
    "* `move`  \n",
    "\t通常クロージャは,クロージャを定義した環境内の変数にアクセスできるが,  \n",
    "\t`move |val| {...}` とすることで,環境内の変数とは独立に変数を定義する。(コピー)  \n",
    "\t又,クロージャが環境内の変数を書き換える場合は,クロージャ自体を `mut` で宣言する必要がある。"
   ]
  }
 ],
 "metadata": {
  "kernelspec": {
   "display_name": "Rust",
   "language": "rust",
   "name": "rust"
  },
  "language_info": {
   "codemirror_mode": "rust",
   "file_extension": ".rs",
   "mimetype": "text/rust",
   "name": "Rust",
   "pygment_lexer": "rust",
   "version": ""
  }
 },
 "nbformat": 4,
 "nbformat_minor": 4
}