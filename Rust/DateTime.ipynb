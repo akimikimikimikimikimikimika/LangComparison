{
 "cells": [
  {
   "cell_type": "markdown",
   "metadata": {},
   "source": [
    "# 日付と時刻"
   ]
  },
  {
   "cell_type": "markdown",
   "metadata": {},
   "source": [
    "Rustで日時を扱う使いやすいインターフェースは chrono クレートに依存している"
   ]
  },
  {
   "cell_type": "code",
   "execution_count": 2,
   "metadata": {},
   "outputs": [],
   "source": [
    "extern crate chrono;\n",
    "use chrono::prelude::*;\n",
    "use std::time::SystemTime;"
   ]
  },
  {
   "cell_type": "code",
   "execution_count": 3,
   "metadata": {},
   "outputs": [],
   "source": [
    "let st=SystemTime::now();"
   ]
  },
  {
   "cell_type": "markdown",
   "metadata": {},
   "source": [
    "## 時刻オブジェクト"
   ]
  },
  {
   "cell_type": "markdown",
   "metadata": {},
   "source": [
    "* 現在ローカル時刻"
   ]
  },
  {
   "cell_type": "code",
   "execution_count": 4,
   "metadata": {},
   "outputs": [
    {
     "data": {
      "text/plain": [
       "2008-04-05T14:57:31.990479+09:00"
      ]
     },
     "execution_count": 4,
     "metadata": {},
     "output_type": "execute_result"
    }
   ],
   "source": [
    "Local::now()"
   ]
  },
  {
   "cell_type": "markdown",
   "metadata": {},
   "source": [
    "* 現在UTC時刻"
   ]
  },
  {
   "cell_type": "code",
   "execution_count": 5,
   "metadata": {},
   "outputs": [
    {
     "data": {
      "text/plain": [
       "2008-04-05T05:57:32.633375Z"
      ]
     },
     "execution_count": 5,
     "metadata": {},
     "output_type": "execute_result"
    }
   ],
   "source": [
    "Utc::now()"
   ]
  },
  {
   "cell_type": "markdown",
   "metadata": {},
   "source": [
    "* カスタム時刻"
   ]
  },
  {
   "cell_type": "code",
   "execution_count": 6,
   "metadata": {},
   "outputs": [
    {
     "data": {
      "text/plain": [
       "2010-07-07T09:41:12+09:00"
      ]
     },
     "execution_count": 6,
     "metadata": {},
     "output_type": "execute_result"
    }
   ],
   "source": [
    "Local.ymd(2010,7,7).and_hms(9,41,12)"
   ]
  },
  {
   "cell_type": "markdown",
   "metadata": {},
   "source": [
    "## 成分分解"
   ]
  },
  {
   "cell_type": "code",
   "execution_count": 7,
   "metadata": {},
   "outputs": [],
   "source": [
    "let now:DateTime<Local> = Local::now();"
   ]
  },
  {
   "cell_type": "code",
   "execution_count": 8,
   "metadata": {},
   "outputs": [
    {
     "data": {
      "text/plain": [
       "2008"
      ]
     },
     "execution_count": 8,
     "metadata": {},
     "output_type": "execute_result"
    }
   ],
   "source": [
    "now.year()"
   ]
  },
  {
   "cell_type": "code",
   "execution_count": 9,
   "metadata": {},
   "outputs": [
    {
     "data": {
      "text/plain": [
       "4"
      ]
     },
     "execution_count": 9,
     "metadata": {},
     "output_type": "execute_result"
    }
   ],
   "source": [
    "now.month() // = now.month0()+1"
   ]
  },
  {
   "cell_type": "code",
   "execution_count": 10,
   "metadata": {},
   "outputs": [
    {
     "data": {
      "text/plain": [
       "5"
      ]
     },
     "execution_count": 10,
     "metadata": {},
     "output_type": "execute_result"
    }
   ],
   "source": [
    "now.day() // = now.day0()+1"
   ]
  },
  {
   "cell_type": "code",
   "execution_count": 11,
   "metadata": {},
   "outputs": [
    {
     "data": {
      "text/plain": [
       "96"
      ]
     },
     "execution_count": 11,
     "metadata": {},
     "output_type": "execute_result"
    }
   ],
   "source": [
    "now.ordinal() // day/year"
   ]
  },
  {
   "cell_type": "code",
   "execution_count": 12,
   "metadata": {},
   "outputs": [
    {
     "data": {
      "text/plain": [
       "\"Thursday\""
      ]
     },
     "execution_count": 12,
     "metadata": {},
     "output_type": "execute_result"
    }
   ],
   "source": [
    "let wd = now.weekday(); // enum chrono::Weekday\n",
    "\n",
    "use chrono::Weekday::*; // chrono::Weekday::Mon ~ chrono::Weekday::Sun\n",
    "match wd {\n",
    "    Sun => \"Sunday\",\n",
    "    Mon => \"Monday\",\n",
    "    Tue => \"Tuesday\",\n",
    "    Wed => \"Wednesday\",\n",
    "    Thr => \"Thursday\",\n",
    "    Fri => \"Friday\",\n",
    "    Sat => \"Saturday\"\n",
    "}"
   ]
  },
  {
   "cell_type": "code",
   "execution_count": 13,
   "metadata": {},
   "outputs": [
    {
     "data": {
      "text/plain": [
       "2008-W14"
      ]
     },
     "execution_count": 13,
     "metadata": {},
     "output_type": "execute_result"
    }
   ],
   "source": [
    "now.iso_week() // struct chrono::naive::IsoWeek\n",
    "// IsoWeek.year() IsoWeek.week()"
   ]
  },
  {
   "cell_type": "code",
   "execution_count": 14,
   "metadata": {},
   "outputs": [
    {
     "data": {
      "text/plain": [
       "(true, 2008)"
      ]
     },
     "execution_count": 14,
     "metadata": {},
     "output_type": "execute_result"
    }
   ],
   "source": [
    "now.year_ce() // (BC/AD,year)\n",
    "// false:BC true:AD"
   ]
  },
  {
   "cell_type": "code",
   "execution_count": 15,
   "metadata": {},
   "outputs": [
    {
     "data": {
      "text/plain": [
       "733137"
      ]
     },
     "execution_count": 15,
     "metadata": {},
     "output_type": "execute_result"
    }
   ],
   "source": [
    "now.num_days_from_ce()"
   ]
  },
  {
   "cell_type": "code",
   "execution_count": 16,
   "metadata": {},
   "outputs": [
    {
     "data": {
      "text/plain": [
       "14"
      ]
     },
     "execution_count": 16,
     "metadata": {},
     "output_type": "execute_result"
    }
   ],
   "source": [
    "now.hour()"
   ]
  },
  {
   "cell_type": "code",
   "execution_count": 17,
   "metadata": {},
   "outputs": [
    {
     "data": {
      "text/plain": [
       "(true, 2)"
      ]
     },
     "execution_count": 17,
     "metadata": {},
     "output_type": "execute_result"
    }
   ],
   "source": [
    "now.hour12() // (AM/PM,hour)\n",
    "// false:AM true:PM"
   ]
  },
  {
   "cell_type": "code",
   "execution_count": 18,
   "metadata": {},
   "outputs": [
    {
     "data": {
      "text/plain": [
       "57"
      ]
     },
     "execution_count": 18,
     "metadata": {},
     "output_type": "execute_result"
    }
   ],
   "source": [
    "now.minute()"
   ]
  },
  {
   "cell_type": "code",
   "execution_count": 19,
   "metadata": {},
   "outputs": [
    {
     "data": {
      "text/plain": [
       "33"
      ]
     },
     "execution_count": 19,
     "metadata": {},
     "output_type": "execute_result"
    }
   ],
   "source": [
    "now.second()"
   ]
  },
  {
   "cell_type": "code",
   "execution_count": 20,
   "metadata": {},
   "outputs": [
    {
     "data": {
      "text/plain": [
       "916743000"
      ]
     },
     "execution_count": 20,
     "metadata": {},
     "output_type": "execute_result"
    }
   ],
   "source": [
    "now.nanosecond()"
   ]
  },
  {
   "cell_type": "markdown",
   "metadata": {},
   "source": [
    "## フォーマット"
   ]
  },
  {
   "cell_type": "code",
   "execution_count": 21,
   "metadata": {},
   "outputs": [
    {
     "data": {
      "text/plain": [
       "\"2008-04-05 14:57:33.916743 +09:00\""
      ]
     },
     "execution_count": 21,
     "metadata": {},
     "output_type": "execute_result"
    }
   ],
   "source": [
    "now.to_string()"
   ]
  },
  {
   "cell_type": "code",
   "execution_count": 22,
   "metadata": {},
   "outputs": [
    {
     "data": {
      "text/plain": [
       "\"Sat, 05 Apr 2008 14:57:33 +0900\""
      ]
     },
     "execution_count": 22,
     "metadata": {},
     "output_type": "execute_result"
    }
   ],
   "source": [
    "now.to_rfc2822()"
   ]
  },
  {
   "cell_type": "code",
   "execution_count": 23,
   "metadata": {},
   "outputs": [
    {
     "data": {
      "text/plain": [
       "\"2008-04-05T14:57:33.916743+09:00\""
      ]
     },
     "execution_count": 23,
     "metadata": {},
     "output_type": "execute_result"
    }
   ],
   "source": [
    "now.to_rfc3339()"
   ]
  },
  {
   "cell_type": "code",
   "execution_count": 24,
   "metadata": {},
   "outputs": [
    {
     "name": "stdout",
     "output_type": "stream",
     "text": [
      "\n",
      "datetime    %c : Sat Apr  5 14:57:33 2008\n",
      "date        %D : 04/05/08 = %x\n",
      "            %F : 2008-04-05\n",
      "            %v :  5-Apr-2008\n",
      "time        %T : 14:57:33 = %X\n",
      "            %R : 14:57\n",
      "            %r : 02:57:33 PM\n",
      "century     %C : 20\n",
      "year        %Y : 2008\n",
      "            %y : 08\n",
      "ISO year    %G : 2008\n",
      "            %g : 08\n",
      "month       %b : Apr\n",
      "            %B : April\n",
      "            %m : 04\n",
      "day         %d : 05\n",
      "            %e :  5\n",
      "day/year    %j : 096\n",
      "weekday     %a : Sat\n",
      "            %A : Saturday\n",
      "            %w : 6\n",
      "            %u : 6\n",
      "ISO week    %V : 14\n",
      "week/year   %U : 13\n",
      "            %W : 14\n",
      "hour        %H : 14\n",
      "            %k : 14\n",
      "            %I : 02\n",
      "            %l :  2\n",
      "AM/PM       %p : PM\n",
      "minute      %M : 57\n",
      "second      %S : 33\n",
      "microsecond %f : 916743000\n",
      "timezone    %Z : +09:00\n",
      "            %z : +0900\n",
      "\n"
     ]
    }
   ],
   "source": [
    "let fmt=now.format(r\"\n",
    "datetime    %%c : %c\n",
    "date        %%D : %D = %%x\n",
    "            %%F : %F\n",
    "            %%v : %v\n",
    "time        %%T : %T = %%X\n",
    "            %%R : %R\n",
    "            %%r : %r\n",
    "century     %%C : %C\n",
    "year        %%Y : %Y\n",
    "            %%y : %y\n",
    "ISO year    %%G : %G\n",
    "            %%g : %g\n",
    "month       %%b : %b\n",
    "            %%B : %B\n",
    "            %%m : %m\n",
    "day         %%d : %d\n",
    "            %%e : %e\n",
    "day/year    %%j : %j\n",
    "weekday     %%a : %a\n",
    "            %%A : %A\n",
    "            %%w : %w\n",
    "            %%u : %u\n",
    "ISO week    %%V : %V\n",
    "week/year   %%U : %U\n",
    "            %%W : %W\n",
    "hour        %%H : %H\n",
    "            %%k : %k\n",
    "            %%I : %I\n",
    "            %%l : %l\n",
    "AM/PM       %%p : %p\n",
    "minute      %%M : %M\n",
    "second      %%S : %S\n",
    "microsecond %%f : %f\n",
    "timezone    %%Z : %Z\n",
    "            %%z : %z\n",
    "\").to_string();\n",
    "println!(\"{}\",fmt);"
   ]
  },
  {
   "cell_type": "markdown",
   "metadata": {},
   "source": [
    "## 所要時間"
   ]
  },
  {
   "cell_type": "code",
   "execution_count": 25,
   "metadata": {},
   "outputs": [
    {
     "name": "stdout",
     "output_type": "stream",
     "text": []
    }
   ],
   "source": [
    "let en=SystemTime::now();"
   ]
  },
  {
   "cell_type": "code",
   "execution_count": 26,
   "metadata": {},
   "outputs": [
    {
     "data": {
      "text/plain": [
       "\"この処理に要した時間: 15817 マイクロ秒\""
      ]
     },
     "execution_count": 26,
     "metadata": {},
     "output_type": "execute_result"
    }
   ],
   "source": [
    "let dur=en.duration_since(st).expect(\"内部処理でエラーが発生しました\");\n",
    "format!(\"この処理に要した時間: {} マイクロ秒\",dur.as_millis())"
   ]
  }
 ],
 "metadata": {
  "kernelspec": {
   "display_name": "Rust",
   "language": "rust",
   "name": "rust"
  },
  "language_info": {
   "codemirror_mode": "rust",
   "file_extension": ".rs",
   "mimetype": "text/rust",
   "name": "Rust",
   "pygment_lexer": "rust",
   "version": ""
  }
 },
 "nbformat": 4,
 "nbformat_minor": 4
}
